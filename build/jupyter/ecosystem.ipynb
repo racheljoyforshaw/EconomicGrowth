{
 "cells": [
  {
   "cell_type": "markdown",
   "metadata": {},
   "source": [
    "\n",
    "<a id='ecosystem'></a>\n",
    "{{ header }}"
   ]
  },
  {
   "cell_type": "markdown",
   "metadata": {},
   "source": [
    "# Pandas ecosystem\n",
    "\n",
    "Increasingly, packages are being built on top of pandas to address specific needs\n",
    "in data preparation, analysis and visualization.\n",
    "This is encouraging because it means pandas is not only helping users to handle\n",
    "their data tasks but also that it provides a better starting point for developers to\n",
    "build powerful and more focused data tools.\n",
    "The creation of libraries that complement pandas’ functionality also allows pandas\n",
    "development to remain focused around it’s original requirements.\n",
    "\n",
    "This is an inexhaustive list of projects that build on pandas in order to provide\n",
    "tools in the PyData space. For a list of projects that depend on pandas,\n",
    "see the\n",
    "[libraries.io usage page for pandas](https://libraries.io/pypi/pandas/usage)\n",
    "or [search pypi for pandas](https://pypi.org/search/?q=pandas).\n",
    "\n",
    "We’d like to make it easier for users to find these projects, if you know of other\n",
    "substantial projects that you feel should be on this list, please let us know.\n",
    "\n",
    "\n",
    "<a id='ecosystem-stats'></a>"
   ]
  },
  {
   "cell_type": "markdown",
   "metadata": {},
   "source": [
    "## Statistics and machine learning"
   ]
  },
  {
   "cell_type": "markdown",
   "metadata": {},
   "source": [
    "### [Statsmodels](https://www.statsmodels.org/)\n",
    "\n",
    "Statsmodels is the prominent Python “statistics and econometrics library” and it has\n",
    "a long-standing special relationship with pandas. Statsmodels provides powerful statistics,\n",
    "econometrics, analysis and modeling functionality that is out of pandas’ scope.\n",
    "Statsmodels leverages pandas objects as the underlying data container for computation."
   ]
  },
  {
   "cell_type": "markdown",
   "metadata": {},
   "source": [
    "### [sklearn-pandas](https://github.com/paulgb/sklearn-pandas)\n",
    "\n",
    "Use pandas DataFrames in your [scikit-learn](https://scikit-learn.org/)\n",
    "ML pipeline."
   ]
  },
  {
   "cell_type": "markdown",
   "metadata": {},
   "source": [
    "### [Featuretools](https://github.com/featuretools/featuretools/)\n",
    "\n",
    "Featuretools is a Python library for automated feature engineering built on top of pandas. It excels at transforming temporal and relational datasets into feature matrices for machine learning using reusable feature engineering “primitives”. Users can contribute their own primitives in Python and share them with the rest of the community.\n",
    "\n",
    "\n",
    "<a id='ecosystem-visualization'></a>"
   ]
  },
  {
   "cell_type": "markdown",
   "metadata": {},
   "source": [
    "## Visualization"
   ]
  },
  {
   "cell_type": "markdown",
   "metadata": {},
   "source": [
    "### [Altair](https://altair-viz.github.io/)\n",
    "\n",
    "Altair is a declarative statistical visualization library for Python.\n",
    "With Altair, you can spend more time understanding your data and its\n",
    "meaning. Altair’s API is simple, friendly and consistent and built on\n",
    "top of the powerful Vega-Lite JSON specification. This elegant\n",
    "simplicity produces beautiful and effective visualizations with a\n",
    "minimal amount of code. Altair works with Pandas DataFrames."
   ]
  },
  {
   "cell_type": "markdown",
   "metadata": {},
   "source": [
    "### [Bokeh](https://bokeh.pydata.org)\n",
    "\n",
    "Bokeh is a Python interactive visualization library for large datasets that natively uses\n",
    "the latest web technologies. Its goal is to provide elegant, concise construction of novel\n",
    "graphics in the style of Protovis/D3, while delivering high-performance interactivity over\n",
    "large data to thin clients."
   ]
  },
  {
   "cell_type": "markdown",
   "metadata": {},
   "source": [
    "### [seaborn](https://seaborn.pydata.org)\n",
    "\n",
    "Seaborn is a Python visualization library based on\n",
    "[matplotlib](https://matplotlib.org). It provides a high-level, dataset-oriented\n",
    "interface for creating attractive statistical graphics. The plotting functions\n",
    "in seaborn understand pandas objects and leverage pandas grouping operations\n",
    "internally to support concise specification of complex visualizations. Seaborn\n",
    "also goes beyond matplotlib and pandas with the option to perform statistical\n",
    "estimation while plotting, aggregating across observations and visualizing the\n",
    "fit of statistical models to emphasize patterns in a dataset."
   ]
  },
  {
   "cell_type": "markdown",
   "metadata": {},
   "source": [
    "### [yhat/ggpy](https://github.com/yhat/ggpy)\n",
    "\n",
    "Hadley Wickham’s [ggplot2](https://ggplot2.tidyverse.org/) is a foundational exploratory visualization package for the R language.\n",
    "Based on [“The Grammar of Graphics”](https://www.cs.uic.edu/~wilkinson/TheGrammarOfGraphics/GOG.html) it\n",
    "provides a powerful, declarative and extremely general way to generate bespoke plots of any kind of data.\n",
    "It’s really quite incredible. Various implementations to other languages are available,\n",
    "but a faithful implementation for Python users has long been missing. Although still young\n",
    "(as of Jan-2014), the [yhat/ggpy](https://github.com/yhat/ggpy) project has been\n",
    "progressing quickly in that direction."
   ]
  },
  {
   "cell_type": "markdown",
   "metadata": {},
   "source": [
    "### [IPython Vega](https://github.com/vega/ipyvega)\n",
    "\n",
    "[IPython Vega](https://github.com/vega/ipyvega) leverages [Vega](https://github.com/trifacta/vega) to create plots within Jupyter Notebook."
   ]
  },
  {
   "cell_type": "markdown",
   "metadata": {},
   "source": [
    "### [Plotly](https://plot.ly/python)\n",
    "\n",
    "[Plotly’s](https://plot.ly/) [Python API](https://plot.ly/python/) enables interactive figures and web shareability. Maps, 2D, 3D, and live-streaming graphs are rendered with WebGL and [D3.js](https://d3js.org/). The library supports plotting directly from a pandas DataFrame and cloud-based collaboration. Users of [matplotlib, ggplot for Python, and Seaborn](https://plot.ly/python/matplotlib-to-plotly-tutorial/) can convert figures into interactive web-based plots. Plots can be drawn in [IPython Notebooks](https://plot.ly/ipython-notebooks/) , edited with R or MATLAB, modified in a GUI, or embedded in apps and dashboards. Plotly is free for unlimited sharing, and has [cloud](https://plot.ly/product/plans/), [offline](https://plot.ly/python/offline/), or [on-premise](https://plot.ly/product/enterprise/) accounts for private use."
   ]
  },
  {
   "cell_type": "markdown",
   "metadata": {},
   "source": [
    "### [QtPandas](https://github.com/draperjames/qtpandas)\n",
    "\n",
    "Spun off from the main pandas library, the [qtpandas](https://github.com/draperjames/qtpandas)\n",
    "library enables DataFrame visualization and manipulation in PyQt4 and PySide applications.\n",
    "\n",
    "\n",
    "<a id='ecosystem-ide'></a>"
   ]
  },
  {
   "cell_type": "markdown",
   "metadata": {},
   "source": [
    "## IDE"
   ]
  },
  {
   "cell_type": "markdown",
   "metadata": {},
   "source": [
    "### [IPython](https://ipython.org/documentation.html)\n",
    "\n",
    "IPython is an interactive command shell and distributed computing\n",
    "environment. IPython tab completion works with Pandas methods and also\n",
    "attributes like DataFrame columns."
   ]
  },
  {
   "cell_type": "markdown",
   "metadata": {},
   "source": [
    "### [Jupyter Notebook / Jupyter Lab](https://jupyter.org)\n",
    "\n",
    "Jupyter Notebook is a web application for creating Jupyter notebooks.\n",
    "A Jupyter notebook is a JSON document containing an ordered list\n",
    "of input/output cells which can contain code, text, mathematics, plots\n",
    "and rich media.\n",
    "Jupyter notebooks can be converted to a number of open standard output formats\n",
    "(HTML, HTML presentation slides, LaTeX, PDF, ReStructuredText, Markdown,\n",
    "Python) through ‘Download As’ in the web interface and `jupyter convert`\n",
    "in a shell.\n",
    "\n",
    "Pandas DataFrames implement `_repr_html_``and ``_repr_latex` methods\n",
    "which are utilized by Jupyter Notebook for displaying\n",
    "(abbreviated) HTML or LaTeX tables. LaTeX output is properly escaped.\n",
    "(Note: HTML tables may or may not be\n",
    "compatible with non-HTML Jupyter output formats.)\n",
    "\n",
    "See [Options and Settings](user_guide/options.ipynb#options) and\n",
    "[Available Options](user_guide/options.ipynb#options-available)\n",
    "for pandas `display.` settings."
   ]
  },
  {
   "cell_type": "markdown",
   "metadata": {},
   "source": [
    "### [quantopian/qgrid](https://github.com/quantopian/qgrid)\n",
    "\n",
    "qgrid is “an interactive grid for sorting and filtering\n",
    "DataFrames in IPython Notebook” built with SlickGrid."
   ]
  },
  {
   "cell_type": "markdown",
   "metadata": {},
   "source": [
    "### [Spyder](https://www.spyder-ide.org/)\n",
    "\n",
    "Spyder is a cross-platform PyQt-based IDE combining the editing, analysis,\n",
    "debugging and profiling functionality of a software development tool with the\n",
    "data exploration, interactive execution, deep inspection and rich visualization\n",
    "capabilities of a scientific environment like MATLAB or Rstudio.\n",
    "\n",
    "Its [Variable Explorer](https://docs.spyder-ide.org/variableexplorer.html)\n",
    "allows users to view, manipulate and edit pandas `Index`, `Series`,\n",
    "and `DataFrame` objects like a “spreadsheet”, including copying and modifying\n",
    "values, sorting, displaying a “heatmap”, converting data types and more.\n",
    "Pandas objects can also be renamed, duplicated, new columns added,\n",
    "copyed/pasted to/from the clipboard (as TSV), and saved/loaded to/from a file.\n",
    "Spyder can also import data from a variety of plain text and binary files\n",
    "or the clipboard into a new pandas DataFrame via a sophisticated import wizard.\n",
    "\n",
    "Most pandas classes, methods and data attributes can be autocompleted in\n",
    "Spyder’s [Editor](https://docs.spyder-ide.org/editor.html) and\n",
    "[IPython Console](https://docs.spyder-ide.org/ipythonconsole.html),\n",
    "and Spyder’s [Help pane](https://docs.spyder-ide.org/help.html) can retrieve\n",
    "and render Numpydoc documentation on pandas objects in rich text with Sphinx\n",
    "both automatically and on-demand.\n",
    "\n",
    "\n",
    "<a id='ecosystem-api'></a>"
   ]
  },
  {
   "cell_type": "markdown",
   "metadata": {},
   "source": [
    "## API"
   ]
  },
  {
   "cell_type": "markdown",
   "metadata": {},
   "source": [
    "### [pandas-datareader](https://github.com/pydata/pandas-datareader)\n",
    "\n",
    "`pandas-datareader` is a remote data access library for pandas (PyPI:`pandas-datareader`).\n",
    "It is based on functionality that was located in `pandas.io.data` and `pandas.io.wb` but was\n",
    "split off in v0.19.\n",
    "See more in the  [pandas-datareader docs](https://pandas-datareader.readthedocs.io/en/latest/):\n",
    "\n",
    "The following data feeds are available:\n",
    "\n",
    "> - Google Finance  \n",
    "- Tiingo  \n",
    "- Morningstar  \n",
    "- IEX  \n",
    "- Robinhood  \n",
    "- Enigma  \n",
    "- Quandl  \n",
    "- FRED  \n",
    "- Fama/French  \n",
    "- World Bank  \n",
    "- OECD  \n",
    "- Eurostat  \n",
    "- TSP Fund Data  \n",
    "- Nasdaq Trader Symbol Definitions  \n",
    "- Stooq Index Data  \n",
    "- MOEX Data  "
   ]
  },
  {
   "cell_type": "markdown",
   "metadata": {},
   "source": [
    "### [quandl/Python](https://github.com/quandl/Python)\n",
    "\n",
    "Quandl API for Python wraps the Quandl REST API to return\n",
    "Pandas DataFrames with timeseries indexes."
   ]
  },
  {
   "cell_type": "markdown",
   "metadata": {},
   "source": [
    "### [pydatastream](https://github.com/vfilimonov/pydatastream)\n",
    "\n",
    "PyDatastream is a Python interface to the\n",
    "[Thomson Dataworks Enterprise (DWE/Datastream)](http://dataworks.thomson.com/Dataworks/Enterprise/1.0/)\n",
    "SOAP API to return indexed Pandas DataFrames with financial data.\n",
    "This package requires valid credentials for this API (non free)."
   ]
  },
  {
   "cell_type": "markdown",
   "metadata": {},
   "source": [
    "### [pandaSDMX](https://pandasdmx.readthedocs.io)\n",
    "\n",
    "pandaSDMX is a library to retrieve and acquire statistical data\n",
    "and metadata disseminated in\n",
    "[SDMX](https://www.sdmx.org) 2.1, an ISO-standard\n",
    "widely used by institutions such as statistics offices, central banks,\n",
    "and international organisations. pandaSDMX can expose datasets and related\n",
    "structural metadata including data flows, code-lists,\n",
    "and data structure definitions as pandas Series\n",
    "or MultiIndexed DataFrames."
   ]
  },
  {
   "cell_type": "markdown",
   "metadata": {},
   "source": [
    "### [fredapi](https://github.com/mortada/fredapi)\n",
    "\n",
    "fredapi is a Python interface to the [Federal Reserve Economic Data (FRED)](https://fred.stlouisfed.org/)\n",
    "provided by the Federal Reserve Bank of St. Louis. It works with both the FRED database and ALFRED database that\n",
    "contains point-in-time data (i.e. historic data revisions). fredapi provides a wrapper in Python to the FRED\n",
    "HTTP API, and also provides several convenient methods for parsing and analyzing point-in-time data from ALFRED.\n",
    "fredapi makes use of pandas and returns data in a Series or DataFrame. This module requires a FRED API key that\n",
    "you can obtain for free on the FRED website.\n",
    "\n",
    "\n",
    "<a id='ecosystem-domain'></a>"
   ]
  },
  {
   "cell_type": "markdown",
   "metadata": {},
   "source": [
    "## Domain specific"
   ]
  },
  {
   "cell_type": "markdown",
   "metadata": {},
   "source": [
    "### [Geopandas](https://github.com/kjordahl/geopandas)\n",
    "\n",
    "Geopandas extends pandas data objects to include geographic information which support\n",
    "geometric operations. If your work entails maps and geographical coordinates, and\n",
    "you love pandas, you should take a close look at Geopandas."
   ]
  },
  {
   "cell_type": "markdown",
   "metadata": {},
   "source": [
    "### [xarray](https://github.com/pydata/xarray)\n",
    "\n",
    "xarray brings the labeled data power of pandas to the physical sciences by\n",
    "providing N-dimensional variants of the core pandas data structures. It aims to\n",
    "provide a pandas-like and pandas-compatible toolkit for analytics on multi-\n",
    "dimensional arrays, rather than the tabular data for which pandas excels.\n",
    "\n",
    "\n",
    "<a id='ecosystem-out-of-core'></a>"
   ]
  },
  {
   "cell_type": "markdown",
   "metadata": {},
   "source": [
    "## Out-of-core"
   ]
  },
  {
   "cell_type": "markdown",
   "metadata": {},
   "source": [
    "### [Blaze](http://blaze.pydata.org/)\n",
    "\n",
    "Blaze provides a standard API for doing computations with various\n",
    "in-memory and on-disk backends: NumPy, Pandas, SQLAlchemy, MongoDB, PyTables,\n",
    "PySpark."
   ]
  },
  {
   "cell_type": "markdown",
   "metadata": {},
   "source": [
    "### [Dask](https://dask.readthedocs.io/en/latest/)\n",
    "\n",
    "Dask is a flexible parallel computing library for analytics. Dask\n",
    "provides a familiar `DataFrame` interface for out-of-core, parallel and distributed computing."
   ]
  },
  {
   "cell_type": "markdown",
   "metadata": {},
   "source": [
    "### [Dask-ML](https://dask-ml.readthedocs.io/en/latest/)\n",
    "\n",
    "Dask-ML enables parallel and distributed machine learning using Dask alongside existing machine learning libraries like Scikit-Learn, XGBoost, and TensorFlow."
   ]
  },
  {
   "cell_type": "markdown",
   "metadata": {},
   "source": [
    "### [Koalas](https://koalas.readthedocs.io/en/latest/)\n",
    "\n",
    "Koalas provides a familiar pandas DataFrame interface on top of Apache Spark. It enables users to leverage multi-cores on one machine or a cluster of machines to speed up or scale their DataFrame code."
   ]
  },
  {
   "cell_type": "markdown",
   "metadata": {},
   "source": [
    "### [Odo](http://odo.pydata.org)\n",
    "\n",
    "Odo provides a uniform API for moving data between different formats. It uses\n",
    "pandas own `read_csv` for CSV IO and leverages many existing packages such as\n",
    "PyTables, h5py, and pymongo to move data between non pandas formats. Its graph\n",
    "based approach is also extensible by end users for custom formats that may be\n",
    "too specific for the core of odo."
   ]
  },
  {
   "cell_type": "markdown",
   "metadata": {},
   "source": [
    "### [Ray](https://ray.readthedocs.io/en/latest/pandas_on_ray.html)\n",
    "\n",
    "Pandas on Ray is an early stage DataFrame library that wraps Pandas and transparently distributes the data and computation. The user does not need to know how many cores their system has, nor do they need to specify how to distribute the data. In fact, users can continue using their previous Pandas notebooks while experiencing a considerable speedup from Pandas on Ray, even on a single machine. Only a modification of the import statement is needed, as we demonstrate below. Once you’ve changed your import statement, you’re ready to use Pandas on Ray just like you would Pandas."
   ]
  },
  {
   "cell_type": "code",
   "execution_count": null,
   "metadata": {
    "hide-output": false
   },
   "outputs": [],
   "source": [
    "# import pandas as pd\n",
    "import ray.dataframe as pd"
   ]
  },
  {
   "cell_type": "markdown",
   "metadata": {},
   "source": [
    "### [Vaex](https://docs.vaex.io/)\n",
    "\n",
    "Increasingly, packages are being built on top of pandas to address specific needs in data preparation, analysis and visualization. Vaex is a python library for Out-of-Core DataFrames (similar to Pandas), to visualize and explore big tabular datasets. It can calculate statistics such as mean, sum, count, standard deviation etc, on an N-dimensional grid up to a billion (109) objects/rows per second. Visualization is done using histograms, density plots and 3d volume rendering, allowing interactive exploration of big data. Vaex uses memory mapping, zero memory copy policy and lazy computations for best performance (no memory wasted).\n",
    "\n",
    "> - vaex.from_pandas  \n",
    "- vaex.to_pandas_df  \n",
    "\n",
    "\n",
    "\n",
    "\n",
    "<a id='ecosystem-data-validation'></a>"
   ]
  },
  {
   "cell_type": "markdown",
   "metadata": {},
   "source": [
    "## Data validation"
   ]
  },
  {
   "cell_type": "markdown",
   "metadata": {},
   "source": [
    "### [Engarde](https://engarde.readthedocs.io/en/latest/)\n",
    "\n",
    "Engarde is a lightweight library used to explicitly state your assumptions about your datasets\n",
    "and check that they’re *actually* true.\n",
    "\n",
    "\n",
    "<a id='ecosystem-extensions'></a>"
   ]
  },
  {
   "cell_type": "markdown",
   "metadata": {},
   "source": [
    "## Extension data types\n",
    "\n",
    "Pandas provides an interface for defining\n",
    "[extension types](development/extending.ipynb#extending-extension-types) to extend NumPy’s type\n",
    "system. The following libraries implement that interface to provide types not\n",
    "found in NumPy or pandas, which work well with pandas’ data containers."
   ]
  },
  {
   "cell_type": "markdown",
   "metadata": {},
   "source": [
    "### [cyberpandas](https://cyberpandas.readthedocs.io/en/latest)\n",
    "\n",
    "Cyberpandas provides an extension type for storing arrays of IP Addresses. These\n",
    "arrays can be stored inside pandas’ Series and DataFrame.\n",
    "\n",
    "\n",
    "<a id='ecosystem-accessors'></a>"
   ]
  },
  {
   "cell_type": "markdown",
   "metadata": {},
   "source": [
    "## Accessors\n",
    "\n",
    "A directory of projects providing\n",
    "[extension accessors](development/extending.ipynb#extending-register-accessors). This is for users to\n",
    "discover new accessors and for library authors to coordinate on the namespace.\n",
    "\n",
    "[](https://cyberpandas.readthedocs.io/en/latest)````[](https://altair-viz.github.io/pdvega/)``````|Library|Accessor|Classes|\n",
    "|:------------:|:--------:|:-----------------------:|\n",
    "|cyberpandas|ip|Series|\n",
    "|pdvega|vgplot|Series, DataFrame|"
   ]
  }
 ],
 "metadata": {
  "filename": "ecosystem.rst",
  "kernelspec": {
   "display_name": "Python",
   "language": "python3",
   "name": "python3"
  },
  "title": "Pandas ecosystem"
 },
 "nbformat": 4,
 "nbformat_minor": 2
}