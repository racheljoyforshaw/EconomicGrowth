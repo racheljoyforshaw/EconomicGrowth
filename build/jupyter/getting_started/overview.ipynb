{
 "cells": [
  {
   "cell_type": "markdown",
   "metadata": {},
   "source": [
    "\n",
    "<a id='overview'></a>\n",
    "{{ header }}"
   ]
  },
  {
   "cell_type": "markdown",
   "metadata": {},
   "source": [
    "# Package overview\n",
    "\n",
    "**pandas** is a [Python](https://www.python.org) package providing fast,\n",
    "flexible, and expressive data structures designed to make working with\n",
    "“relational” or “labeled” data both easy and intuitive. It aims to be the\n",
    "fundamental high-level building block for doing practical, **real world** data\n",
    "analysis in Python. Additionally, it has the broader goal of becoming **the\n",
    "most powerful and flexible open source data analysis / manipulation tool\n",
    "available in any language**. It is already well on its way toward this goal.\n",
    "\n",
    "pandas is well suited for many different kinds of data:\n",
    "\n",
    "> - Tabular data with heterogeneously-typed columns, as in an SQL table or\n",
    "  Excel spreadsheet  \n",
    "- Ordered and unordered (not necessarily fixed-frequency) time series data.  \n",
    "- Arbitrary matrix data (homogeneously typed or heterogeneous) with row and\n",
    "  column labels  \n",
    "- Any other form of observational / statistical data sets. The data actually\n",
    "  need not be labeled at all to be placed into a pandas data structure  \n",
    "\n",
    "\n",
    "\n",
    "The two primary data structures of pandas, `Series` (1-dimensional)\n",
    "and `DataFrame` (2-dimensional), handle the vast majority of typical use\n",
    "cases in finance, statistics, social science, and many areas of\n",
    "engineering. For R users, `DataFrame` provides everything that R’s\n",
    "`data.frame` provides and much more. pandas is built on top of [NumPy](https://www.numpy.org) and is intended to integrate well within a scientific\n",
    "computing environment with many other 3rd party libraries.\n",
    "\n",
    "Here are just a few of the things that pandas does well:\n",
    "\n",
    "> - Easy handling of **missing data** (represented as NaN) in floating point as\n",
    "  well as non-floating point data  \n",
    "- Size mutability: columns can be **inserted and deleted** from DataFrame and\n",
    "  higher dimensional objects  \n",
    "- Automatic and explicit **data alignment**: objects can be explicitly\n",
    "  aligned to a set of labels, or the user can simply ignore the labels and\n",
    "  let Series, DataFrame, etc. automatically align the data for you in\n",
    "  computations  \n",
    "- Powerful, flexible **group by** functionality to perform\n",
    "  split-apply-combine operations on data sets, for both aggregating and\n",
    "  transforming data  \n",
    "- Make it **easy to convert** ragged, differently-indexed data in other\n",
    "  Python and NumPy data structures into DataFrame objects  \n",
    "- Intelligent label-based **slicing**, **fancy indexing**, and **subsetting**\n",
    "  of large data sets  \n",
    "- Intuitive **merging** and **joining** data sets  \n",
    "- Flexible **reshaping** and pivoting of data sets  \n",
    "- **Hierarchical** labeling of axes (possible to have multiple labels per\n",
    "  tick)  \n",
    "- Robust IO tools for loading data from **flat files** (CSV and delimited),\n",
    "  Excel files, databases, and saving / loading data from the ultrafast **HDF5\n",
    "  format**  \n",
    "- **Time series**-specific functionality: date range generation and frequency\n",
    "  conversion, moving window statistics, moving window linear regressions,\n",
    "  date shifting and lagging, etc.  \n",
    "\n",
    "\n",
    "\n",
    "Many of these principles are here to address the shortcomings frequently\n",
    "experienced using other languages / scientific research environments. For data\n",
    "scientists, working with data is typically divided into multiple stages:\n",
    "munging and cleaning data, analyzing / modeling it, then organizing the results\n",
    "of the analysis into a form suitable for plotting or tabular display. pandas\n",
    "is the ideal tool for all of these tasks.\n",
    "\n",
    "Some other notes\n",
    "\n",
    "> - pandas is **fast**. Many of the low-level algorithmic bits have been\n",
    "  extensively tweaked in [Cython](https://cython.org) code. However, as with\n",
    "  anything else generalization usually sacrifices performance. So if you focus\n",
    "  on one feature for your application you may be able to create a faster\n",
    "  specialized tool.  \n",
    "- pandas is a dependency of [statsmodels](https://www.statsmodels.org/stable/index.html), making it an important part of the\n",
    "  statistical computing ecosystem in Python.  \n",
    "- pandas has been used extensively in production in financial applications.  "
   ]
  },
  {
   "cell_type": "markdown",
   "metadata": {},
   "source": [
    "## Data structures\n",
    "\n",
    "|Dimensions|Name|Description|\n",
    "|:-------------:|:------------------:|:------------------------------------------------:|\n",
    "|1|Series|1D labeled homogeneously-typed array|\n",
    "|2|DataFrame|General 2D labeled, size-mutable tabular structure with potentially heterogeneously-typed column|"
   ]
  },
  {
   "cell_type": "markdown",
   "metadata": {},
   "source": [
    "### Why more than one data structure?\n",
    "\n",
    "The best way to think about the pandas data structures is as flexible\n",
    "containers for lower dimensional data. For example, DataFrame is a container\n",
    "for Series, and Series is a container for scalars. We would like to be\n",
    "able to insert and remove objects from these containers in a dictionary-like\n",
    "fashion.\n",
    "\n",
    "Also, we would like sensible default behaviors for the common API functions\n",
    "which take into account the typical orientation of time series and\n",
    "cross-sectional data sets. When using ndarrays to store 2- and 3-dimensional\n",
    "data, a burden is placed on the user to consider the orientation of the data\n",
    "set when writing functions; axes are considered more or less equivalent (except\n",
    "when C- or Fortran-contiguousness matters for performance). In pandas, the axes\n",
    "are intended to lend more semantic meaning to the data; i.e., for a particular\n",
    "data set there is likely to be a “right” way to orient the data. The goal,\n",
    "then, is to reduce the amount of mental effort required to code up data\n",
    "transformations in downstream functions.\n",
    "\n",
    "For example, with tabular data (DataFrame) it is more semantically helpful to\n",
    "think of the **index** (the rows) and the **columns** rather than axis 0 and\n",
    "axis 1. Iterating through the columns of the DataFrame thus results in more\n",
    "readable code:"
   ]
  },
  {
   "cell_type": "code",
   "execution_count": null,
   "metadata": {
    "hide-output": false
   },
   "outputs": [],
   "source": [
    "for col in df.columns:\n",
    "    series = df[col]\n",
    "    # do something with series"
   ]
  },
  {
   "cell_type": "markdown",
   "metadata": {},
   "source": [
    "## Mutability and copying of data\n",
    "\n",
    "All pandas data structures are value-mutable (the values they contain can be\n",
    "altered) but not always size-mutable. The length of a Series cannot be\n",
    "changed, but, for example, columns can be inserted into a DataFrame. However,\n",
    "the vast majority of methods produce new objects and leave the input data\n",
    "untouched. In general we like to **favor immutability** where sensible."
   ]
  },
  {
   "cell_type": "markdown",
   "metadata": {},
   "source": [
    "## Getting support\n",
    "\n",
    "The first stop for pandas issues and ideas is the [Github Issue Tracker](https://github.com/pandas-dev/pandas/issues). If you have a general question,\n",
    "pandas community experts can answer through [Stack Overflow](https://stackoverflow.com/questions/tagged/pandas)."
   ]
  },
  {
   "cell_type": "markdown",
   "metadata": {},
   "source": [
    "## Community\n",
    "\n",
    "pandas is actively supported today by a community of like-minded individuals around\n",
    "the world who contribute their valuable time and energy to help make open source\n",
    "pandas possible. Thanks to [all of our contributors](https://github.com/pandas-dev/pandas/graphs/contributors).\n",
    "\n",
    "If you’re interested in contributing, please visit the [contributing guide](development/contributing.ipynb#contributing).\n",
    "\n",
    "pandas is a [NumFOCUS](https://www.numfocus.org/open-source-projects/) sponsored project.\n",
    "This will help ensure the success of development of pandas as a world-class open-source\n",
    "project, and makes it possible to [donate](https://pandas.pydata.org/donate.html) to the project."
   ]
  },
  {
   "cell_type": "markdown",
   "metadata": {},
   "source": [
    "## Project governance\n",
    "\n",
    "The governance process that pandas project has used informally since its inception in 2008 is formalized in [Project Governance documents](https://github.com/pandas-dev/pandas-governance).\n",
    "The documents clarify how decisions are made and how the various elements of our community interact, including the relationship between open source collaborative development and work that may be funded by for-profit or non-profit entities.\n",
    "\n",
    "Wes McKinney is the Benevolent Dictator for Life (BDFL)."
   ]
  },
  {
   "cell_type": "markdown",
   "metadata": {},
   "source": [
    "## Development team\n",
    "\n",
    "The list of the Core Team members and more detailed information can be found on the [people’s page](https://github.com/pandas-dev/pandas-governance/blob/master/people.md) of the governance repo."
   ]
  },
  {
   "cell_type": "markdown",
   "metadata": {},
   "source": [
    "## Institutional partners\n",
    "\n",
    "The information about current institutional partners can be found on [pandas website page](https://pandas.pydata.org/about.html)."
   ]
  },
  {
   "cell_type": "markdown",
   "metadata": {},
   "source": [
    "## License"
   ]
  },
  {
   "cell_type": "code",
   "execution_count": null,
   "metadata": {
    "hide-output": false
   },
   "outputs": [],
   "source": [
    "BSD 3-Clause License\n",
    "\n",
    "Copyright (c) 2008-2012, AQR Capital Management, LLC, Lambda Foundry, Inc. and PyData Development Team\n",
    "All rights reserved.\n",
    "\n",
    "Redistribution and use in source and binary forms, with or without\n",
    "modification, are permitted provided that the following conditions are met:\n",
    "\n",
    "* Redistributions of source code must retain the above copyright notice, this\n",
    "  list of conditions and the following disclaimer.\n",
    "\n",
    "* Redistributions in binary form must reproduce the above copyright notice,\n",
    "  this list of conditions and the following disclaimer in the documentation\n",
    "  and/or other materials provided with the distribution.\n",
    "\n",
    "* Neither the name of the copyright holder nor the names of its\n",
    "  contributors may be used to endorse or promote products derived from\n",
    "  this software without specific prior written permission.\n",
    "\n",
    "THIS SOFTWARE IS PROVIDED BY THE COPYRIGHT HOLDERS AND CONTRIBUTORS \"AS IS\"\n",
    "AND ANY EXPRESS OR IMPLIED WARRANTIES, INCLUDING, BUT NOT LIMITED TO, THE\n",
    "IMPLIED WARRANTIES OF MERCHANTABILITY AND FITNESS FOR A PARTICULAR PURPOSE ARE\n",
    "DISCLAIMED. IN NO EVENT SHALL THE COPYRIGHT HOLDER OR CONTRIBUTORS BE LIABLE\n",
    "FOR ANY DIRECT, INDIRECT, INCIDENTAL, SPECIAL, EXEMPLARY, OR CONSEQUENTIAL\n",
    "DAMAGES (INCLUDING, BUT NOT LIMITED TO, PROCUREMENT OF SUBSTITUTE GOODS OR\n",
    "SERVICES; LOSS OF USE, DATA, OR PROFITS; OR BUSINESS INTERRUPTION) HOWEVER\n",
    "CAUSED AND ON ANY THEORY OF LIABILITY, WHETHER IN CONTRACT, STRICT LIABILITY,\n",
    "OR TORT (INCLUDING NEGLIGENCE OR OTHERWISE) ARISING IN ANY WAY OUT OF THE USE\n",
    "OF THIS SOFTWARE, EVEN IF ADVISED OF THE POSSIBILITY OF SUCH DAMAGE."
   ]
  }
 ],
 "metadata": {
  "filename": "overview.rst",
  "kernelspec": {
   "display_name": "Python",
   "language": "python3",
   "name": "python3"
  },
  "title": "Package overview"
 },
 "nbformat": 4,
 "nbformat_minor": 2
}