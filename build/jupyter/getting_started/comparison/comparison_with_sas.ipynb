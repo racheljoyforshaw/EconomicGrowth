{
 "cells": [
  {
   "cell_type": "markdown",
   "metadata": {},
   "source": [
    "\n",
    "<a id='compare-with-sas'></a>\n",
    "{{ header }}"
   ]
  },
  {
   "cell_type": "markdown",
   "metadata": {},
   "source": [
    "# Comparison with SAS\n",
    "\n",
    "For potential users coming from [SAS](https://en.wikipedia.org/wiki/SAS_%28software%29)\n",
    "this page is meant to demonstrate how different SAS operations would be\n",
    "performed in pandas.\n",
    "\n",
    "If you’re new to pandas, you might want to first read through [10 Minutes to pandas](10min.ipynb#min)\n",
    "to familiarize yourself with the library.\n",
    "\n",
    "As is customary, we import pandas and NumPy as follows:"
   ]
  },
  {
   "cell_type": "code",
   "execution_count": null,
   "metadata": {
    "hide-output": false
   },
   "outputs": [],
   "source": [
    "import pandas as pd\n",
    "import numpy as np"
   ]
  },
  {
   "cell_type": "markdown",
   "metadata": {},
   "source": [
    ">**Note**\n",
    ">\n",
    ">Throughout this tutorial, the pandas `DataFrame` will be displayed by calling\n",
    "`df.head()`, which displays the first N (default 5) rows of the `DataFrame`.\n",
    "This is often used in interactive work (e.g. [Jupyter notebook](https://jupyter.org/) or terminal) - the equivalent in SAS would be:"
   ]
  },
  {
   "cell_type": "markdown",
   "metadata": {
    "hide-output": false
   },
   "source": [
    "```sas\n",
    "proc print data=df(obs=5);\n",
    "run;\n",
    "```\n"
   ]
  },
  {
   "cell_type": "markdown",
   "metadata": {},
   "source": [
    "## Data structures"
   ]
  },
  {
   "cell_type": "markdown",
   "metadata": {},
   "source": [
    "### General terminology translation\n",
    "\n",
    "``````|pandas|SAS|\n",
    "|:------------------:|:------------------:|\n",
    "|DataFrame|data set|\n",
    "|column|variable|\n",
    "|row|observation|\n",
    "|groupby|BY-group|\n",
    "|NaN|.|"
   ]
  },
  {
   "cell_type": "markdown",
   "metadata": {},
   "source": [
    "### `DataFrame` / `Series`\n",
    "\n",
    "A `DataFrame` in pandas is analogous to a SAS data set - a two-dimensional\n",
    "data source with labeled columns that can be of different types. As will be\n",
    "shown in this document, almost any operation that can be applied to a data set\n",
    "using SAS’s `DATA` step, can also be accomplished in pandas.\n",
    "\n",
    "A `Series` is the data structure that represents one column of a\n",
    "`DataFrame`. SAS doesn’t have a separate data structure for a single column,\n",
    "but in general, working with a `Series` is analogous to referencing a column\n",
    "in the `DATA` step."
   ]
  },
  {
   "cell_type": "markdown",
   "metadata": {},
   "source": [
    "### `Index`\n",
    "\n",
    "Every `DataFrame` and `Series` has an `Index` - which are labels on the\n",
    "*rows* of the data. SAS does not have an exactly analogous concept. A data set’s\n",
    "rows are essentially unlabeled, other than an implicit integer index that can be\n",
    "accessed during the `DATA` step (`_N_`).\n",
    "\n",
    "In pandas, if no index is specified, an integer index is also used by default\n",
    "(first row = 0, second row = 1, and so on). While using a labeled `Index` or\n",
    "`MultiIndex` can enable sophisticated analyses and is ultimately an important\n",
    "part of pandas to understand, for this comparison we will essentially ignore the\n",
    "`Index` and just treat the `DataFrame` as a collection of columns. Please\n",
    "see the [indexing documentation](user_guide/indexing.ipynb#indexing) for much more on how to use an\n",
    "`Index` effectively."
   ]
  },
  {
   "cell_type": "markdown",
   "metadata": {},
   "source": [
    "## Data input / output"
   ]
  },
  {
   "cell_type": "markdown",
   "metadata": {},
   "source": [
    "### Constructing a DataFrame from values\n",
    "\n",
    "A SAS data set can be built from specified values by\n",
    "placing the data after a `datalines` statement and\n",
    "specifying the column names."
   ]
  },
  {
   "cell_type": "markdown",
   "metadata": {
    "hide-output": false
   },
   "source": [
    "```sas\n",
    "data df;\n",
    "    input x y;\n",
    "    datalines;\n",
    "    1 2\n",
    "    3 4\n",
    "    5 6\n",
    "    ;\n",
    "run;\n",
    "```\n"
   ]
  },
  {
   "cell_type": "markdown",
   "metadata": {},
   "source": [
    "A pandas `DataFrame` can be constructed in many different ways,\n",
    "but for a small number of values, it is often convenient to specify it as\n",
    "a Python dictionary, where the keys are the column names\n",
    "and the values are the data."
   ]
  },
  {
   "cell_type": "code",
   "execution_count": null,
   "metadata": {
    "hide-output": false
   },
   "outputs": [],
   "source": [
    "df = pd.DataFrame({'x': [1, 3, 5], 'y': [2, 4, 6]})\n",
    "df"
   ]
  },
  {
   "cell_type": "markdown",
   "metadata": {},
   "source": [
    "### Reading external data\n",
    "\n",
    "Like SAS, pandas provides utilities for reading in data from\n",
    "many formats.  The `tips` dataset, found within the pandas\n",
    "tests ([csv](https://raw.github.com/pandas-dev/pandas/master/pandas/tests/data/tips.csv))\n",
    "will be used in many of the following examples.\n",
    "\n",
    "SAS provides `PROC IMPORT` to read csv data into a data set."
   ]
  },
  {
   "cell_type": "markdown",
   "metadata": {
    "hide-output": false
   },
   "source": [
    "```sas\n",
    "proc import datafile='tips.csv' dbms=csv out=tips replace;\n",
    "    getnames=yes;\n",
    "run;\n",
    "```\n"
   ]
  },
  {
   "cell_type": "markdown",
   "metadata": {},
   "source": [
    "The pandas method is `read_csv()`, which works similarly."
   ]
  },
  {
   "cell_type": "code",
   "execution_count": null,
   "metadata": {
    "hide-output": false
   },
   "outputs": [],
   "source": [
    "url = ('https://raw.github.com/pandas-dev/'\n",
    "       'pandas/master/pandas/tests/data/tips.csv')\n",
    "tips = pd.read_csv(url)\n",
    "tips.head()"
   ]
  },
  {
   "cell_type": "markdown",
   "metadata": {},
   "source": [
    "Like `PROC IMPORT`, `read_csv` can take a number of parameters to specify\n",
    "how the data should be parsed.  For example, if the data was instead tab delimited,\n",
    "and did not have column names, the pandas command would be:"
   ]
  },
  {
   "cell_type": "code",
   "execution_count": null,
   "metadata": {
    "hide-output": false
   },
   "outputs": [],
   "source": [
    "tips = pd.read_csv('tips.csv', sep='\\t', header=None)\n",
    "\n",
    "# alternatively, read_table is an alias to read_csv with tab delimiter\n",
    "tips = pd.read_table('tips.csv', header=None)"
   ]
  },
  {
   "cell_type": "markdown",
   "metadata": {},
   "source": [
    "In addition to text/csv, pandas supports a variety of other data formats\n",
    "such as Excel, HDF5, and SQL databases.  These are all read via a `pd.read_*`\n",
    "function.  See the [IO documentation](user_guide/io.ipynb#io) for more details."
   ]
  },
  {
   "cell_type": "markdown",
   "metadata": {},
   "source": [
    "### Exporting data\n",
    "\n",
    "The inverse of `PROC IMPORT` in SAS is `PROC EXPORT`"
   ]
  },
  {
   "cell_type": "markdown",
   "metadata": {
    "hide-output": false
   },
   "source": [
    "```sas\n",
    "proc export data=tips outfile='tips2.csv' dbms=csv;\n",
    "run;\n",
    "```\n"
   ]
  },
  {
   "cell_type": "markdown",
   "metadata": {},
   "source": [
    "Similarly in pandas, the opposite of `read_csv` is `to_csv()`,\n",
    "and other data formats follow a similar api."
   ]
  },
  {
   "cell_type": "code",
   "execution_count": null,
   "metadata": {
    "hide-output": false
   },
   "outputs": [],
   "source": [
    "tips.to_csv('tips2.csv')"
   ]
  },
  {
   "cell_type": "markdown",
   "metadata": {},
   "source": [
    "## Data operations"
   ]
  },
  {
   "cell_type": "markdown",
   "metadata": {},
   "source": [
    "### Operations on columns\n",
    "\n",
    "In the `DATA` step, arbitrary math expressions can\n",
    "be used on new or existing columns."
   ]
  },
  {
   "cell_type": "markdown",
   "metadata": {
    "hide-output": false
   },
   "source": [
    "```sas\n",
    "data tips;\n",
    "    set tips;\n",
    "    total_bill = total_bill - 2;\n",
    "    new_bill = total_bill / 2;\n",
    "run;\n",
    "```\n"
   ]
  },
  {
   "cell_type": "markdown",
   "metadata": {},
   "source": [
    "pandas provides similar vectorized operations by\n",
    "specifying the individual `Series` in the `DataFrame`.\n",
    "New columns can be assigned in the same way."
   ]
  },
  {
   "cell_type": "code",
   "execution_count": null,
   "metadata": {
    "hide-output": false
   },
   "outputs": [],
   "source": [
    "tips['total_bill'] = tips['total_bill'] - 2\n",
    "tips['new_bill'] = tips['total_bill'] / 2.0\n",
    "tips.head()"
   ]
  },
  {
   "cell_type": "markdown",
   "metadata": {},
   "source": [
    "### Filtering\n",
    "\n",
    "Filtering in SAS is done with an `if` or `where` statement, on one\n",
    "or more columns."
   ]
  },
  {
   "cell_type": "markdown",
   "metadata": {
    "hide-output": false
   },
   "source": [
    "```sas\n",
    "data tips;\n",
    "    set tips;\n",
    "    if total_bill > 10;\n",
    "run;\n",
    "\n",
    "data tips;\n",
    "    set tips;\n",
    "    where total_bill > 10;\n",
    "    /* equivalent in this case - where happens before the\n",
    "       DATA step begins and can also be used in PROC statements */\n",
    "run;\n",
    "```\n"
   ]
  },
  {
   "cell_type": "markdown",
   "metadata": {},
   "source": [
    "DataFrames can be filtered in multiple ways; the most intuitive of which is using\n",
    "[boolean indexing](user_guide/indexing.ipynb#indexing-boolean)"
   ]
  },
  {
   "cell_type": "code",
   "execution_count": null,
   "metadata": {
    "hide-output": false
   },
   "outputs": [],
   "source": [
    "tips[tips['total_bill'] > 10].head()"
   ]
  },
  {
   "cell_type": "markdown",
   "metadata": {},
   "source": [
    "### If/then logic\n",
    "\n",
    "In SAS, if/then logic can be used to create new columns."
   ]
  },
  {
   "cell_type": "markdown",
   "metadata": {
    "hide-output": false
   },
   "source": [
    "```sas\n",
    "data tips;\n",
    "    set tips;\n",
    "    format bucket $4.;\n",
    "\n",
    "    if total_bill < 10 then bucket = 'low';\n",
    "    else bucket = 'high';\n",
    "run;\n",
    "```\n"
   ]
  },
  {
   "cell_type": "markdown",
   "metadata": {},
   "source": [
    "The same operation in pandas can be accomplished using\n",
    "the `where` method from `numpy`."
   ]
  },
  {
   "cell_type": "code",
   "execution_count": null,
   "metadata": {
    "hide-output": false
   },
   "outputs": [],
   "source": [
    "tips['bucket'] = np.where(tips['total_bill'] < 10, 'low', 'high')\n",
    "tips.head()"
   ]
  },
  {
   "cell_type": "markdown",
   "metadata": {},
   "source": [
    "### Date functionality\n",
    "\n",
    "SAS provides a variety of functions to do operations on\n",
    "date/datetime columns."
   ]
  },
  {
   "cell_type": "markdown",
   "metadata": {
    "hide-output": false
   },
   "source": [
    "```sas\n",
    "data tips;\n",
    "    set tips;\n",
    "    format date1 date2 date1_plusmonth mmddyy10.;\n",
    "    date1 = mdy(1, 15, 2013);\n",
    "    date2 = mdy(2, 15, 2015);\n",
    "    date1_year = year(date1);\n",
    "    date2_month = month(date2);\n",
    "    * shift date to beginning of next interval;\n",
    "    date1_next = intnx('MONTH', date1, 1);\n",
    "    * count intervals between dates;\n",
    "    months_between = intck('MONTH', date1, date2);\n",
    "run;\n",
    "```\n"
   ]
  },
  {
   "cell_type": "markdown",
   "metadata": {},
   "source": [
    "The equivalent pandas operations are shown below.  In addition to these\n",
    "functions pandas supports other Time Series features\n",
    "not available in Base SAS (such as resampling and custom offsets) -\n",
    "see the [timeseries documentation](user_guide/timeseries.ipynb#timeseries) for more details."
   ]
  },
  {
   "cell_type": "code",
   "execution_count": null,
   "metadata": {
    "hide-output": false
   },
   "outputs": [],
   "source": [
    "tips['date1'] = pd.Timestamp('2013-01-15')\n",
    "tips['date2'] = pd.Timestamp('2015-02-15')\n",
    "tips['date1_year'] = tips['date1'].dt.year\n",
    "tips['date2_month'] = tips['date2'].dt.month\n",
    "tips['date1_next'] = tips['date1'] + pd.offsets.MonthBegin()\n",
    "tips['months_between'] = (\n",
    "    tips['date2'].dt.to_period('M') - tips['date1'].dt.to_period('M'))\n",
    "\n",
    "tips[['date1', 'date2', 'date1_year', 'date2_month',\n",
    "      'date1_next', 'months_between']].head()"
   ]
  },
  {
   "cell_type": "markdown",
   "metadata": {},
   "source": [
    "### Selection of columns\n",
    "\n",
    "SAS provides keywords in the `DATA` step to select,\n",
    "drop, and rename columns."
   ]
  },
  {
   "cell_type": "markdown",
   "metadata": {
    "hide-output": false
   },
   "source": [
    "```sas\n",
    "data tips;\n",
    "    set tips;\n",
    "    keep sex total_bill tip;\n",
    "run;\n",
    "\n",
    "data tips;\n",
    "    set tips;\n",
    "    drop sex;\n",
    "run;\n",
    "\n",
    "data tips;\n",
    "    set tips;\n",
    "    rename total_bill=total_bill_2;\n",
    "run;\n",
    "```\n"
   ]
  },
  {
   "cell_type": "markdown",
   "metadata": {},
   "source": [
    "The same operations are expressed in pandas below."
   ]
  },
  {
   "cell_type": "code",
   "execution_count": null,
   "metadata": {
    "hide-output": false
   },
   "outputs": [],
   "source": [
    "# keep\n",
    "tips[['sex', 'total_bill', 'tip']].head()\n",
    "\n",
    "# drop\n",
    "tips.drop('sex', axis=1).head()\n",
    "\n",
    "# rename\n",
    "tips.rename(columns={'total_bill': 'total_bill_2'}).head()"
   ]
  },
  {
   "cell_type": "markdown",
   "metadata": {},
   "source": [
    "### Sorting by values\n",
    "\n",
    "Sorting in SAS is accomplished via `PROC SORT`"
   ]
  },
  {
   "cell_type": "markdown",
   "metadata": {
    "hide-output": false
   },
   "source": [
    "```sas\n",
    "proc sort data=tips;\n",
    "    by sex total_bill;\n",
    "run;\n",
    "```\n"
   ]
  },
  {
   "cell_type": "markdown",
   "metadata": {},
   "source": [
    "pandas objects have a `sort_values()` method, which\n",
    "takes a list of columns to sort by."
   ]
  },
  {
   "cell_type": "code",
   "execution_count": null,
   "metadata": {
    "hide-output": false
   },
   "outputs": [],
   "source": [
    "tips = tips.sort_values(['sex', 'total_bill'])\n",
    "tips.head()"
   ]
  },
  {
   "cell_type": "markdown",
   "metadata": {},
   "source": [
    "## String processing"
   ]
  },
  {
   "cell_type": "markdown",
   "metadata": {},
   "source": [
    "### Length\n",
    "\n",
    "SAS determines the length of a character string with the\n",
    "[LENGTHN](https://support.sas.com/documentation/cdl/en/lrdict/64316/HTML/default/viewer.htm#a002284668.htm)\n",
    "and [LENGTHC](https://support.sas.com/documentation/cdl/en/lrdict/64316/HTML/default/viewer.htm#a002283942.htm)\n",
    "functions. `LENGTHN` excludes trailing blanks and `LENGTHC` includes trailing blanks."
   ]
  },
  {
   "cell_type": "markdown",
   "metadata": {
    "hide-output": false
   },
   "source": [
    "```sas\n",
    "data _null_;\n",
    "set tips;\n",
    "put(LENGTHN(time));\n",
    "put(LENGTHC(time));\n",
    "run;\n",
    "```\n"
   ]
  },
  {
   "cell_type": "markdown",
   "metadata": {},
   "source": [
    "Python determines the length of a character string with the `len` function.\n",
    "`len` includes trailing blanks.  Use `len` and `rstrip` to exclude\n",
    "trailing blanks."
   ]
  },
  {
   "cell_type": "code",
   "execution_count": null,
   "metadata": {
    "hide-output": false
   },
   "outputs": [],
   "source": [
    "tips['time'].str.len().head()\n",
    "tips['time'].str.rstrip().str.len().head()"
   ]
  },
  {
   "cell_type": "markdown",
   "metadata": {},
   "source": [
    "### Find\n",
    "\n",
    "SAS determines the position of a character in a string with the\n",
    "[FINDW](https://support.sas.com/documentation/cdl/en/lrdict/64316/HTML/default/viewer.htm#a002978282.htm) function.\n",
    "`FINDW` takes the string defined by the first argument and searches for the first position of the substring\n",
    "you supply as the second argument."
   ]
  },
  {
   "cell_type": "markdown",
   "metadata": {
    "hide-output": false
   },
   "source": [
    "```sas\n",
    "data _null_;\n",
    "set tips;\n",
    "put(FINDW(sex,'ale'));\n",
    "run;\n",
    "```\n"
   ]
  },
  {
   "cell_type": "markdown",
   "metadata": {},
   "source": [
    "Python determines the position of a character in a string with the\n",
    "`find` function.  `find` searches for the first position of the\n",
    "substring.  If the substring is found, the function returns its\n",
    "position.  Keep in mind that Python indexes are zero-based and\n",
    "the function will return -1 if it fails to find the substring."
   ]
  },
  {
   "cell_type": "code",
   "execution_count": null,
   "metadata": {
    "hide-output": false
   },
   "outputs": [],
   "source": [
    "tips['sex'].str.find(\"ale\").head()"
   ]
  },
  {
   "cell_type": "markdown",
   "metadata": {},
   "source": [
    "### Substring\n",
    "\n",
    "SAS extracts a substring from a string based on its position with the\n",
    "[SUBSTR](https://www2.sas.com/proceedings/sugi25/25/cc/25p088.pdf) function."
   ]
  },
  {
   "cell_type": "markdown",
   "metadata": {
    "hide-output": false
   },
   "source": [
    "```sas\n",
    "data _null_;\n",
    "set tips;\n",
    "put(substr(sex,1,1));\n",
    "run;\n",
    "```\n"
   ]
  },
  {
   "cell_type": "markdown",
   "metadata": {},
   "source": [
    "With pandas you can use `[]` notation to extract a substring\n",
    "from a string by position locations.  Keep in mind that Python\n",
    "indexes are zero-based."
   ]
  },
  {
   "cell_type": "code",
   "execution_count": null,
   "metadata": {
    "hide-output": false
   },
   "outputs": [],
   "source": [
    "tips['sex'].str[0:1].head()"
   ]
  },
  {
   "cell_type": "markdown",
   "metadata": {},
   "source": [
    "### Scan\n",
    "\n",
    "The SAS [SCAN](https://support.sas.com/documentation/cdl/en/lrdict/64316/HTML/default/viewer.htm#a000214639.htm)\n",
    "function returns the nth word from a string. The first argument is the string you want to parse and the\n",
    "second argument specifies which word you want to extract."
   ]
  },
  {
   "cell_type": "markdown",
   "metadata": {
    "hide-output": false
   },
   "source": [
    "```sas\n",
    "data firstlast;\n",
    "input String $60.;\n",
    "First_Name = scan(string, 1);\n",
    "Last_Name = scan(string, -1);\n",
    "datalines2;\n",
    "John Smith;\n",
    "Jane Cook;\n",
    ";;;\n",
    "run;\n",
    "```\n"
   ]
  },
  {
   "cell_type": "markdown",
   "metadata": {},
   "source": [
    "Python extracts a substring from a string based on its text\n",
    "by using regular expressions. There are much more powerful\n",
    "approaches, but this just shows a simple approach."
   ]
  },
  {
   "cell_type": "code",
   "execution_count": null,
   "metadata": {
    "hide-output": false
   },
   "outputs": [],
   "source": [
    "firstlast = pd.DataFrame({'String': ['John Smith', 'Jane Cook']})\n",
    "firstlast['First_Name'] = firstlast['String'].str.split(\" \", expand=True)[0]\n",
    "firstlast['Last_Name'] = firstlast['String'].str.rsplit(\" \", expand=True)[0]\n",
    "firstlast"
   ]
  },
  {
   "cell_type": "markdown",
   "metadata": {},
   "source": [
    "### Upcase, lowcase, and propcase\n",
    "\n",
    "The SAS [UPCASE](https://support.sas.com/documentation/cdl/en/lrdict/64316/HTML/default/viewer.htm#a000245965.htm)\n",
    "[LOWCASE](https://support.sas.com/documentation/cdl/en/lrdict/64316/HTML/default/viewer.htm#a000245912.htm) and\n",
    "[PROPCASE](https://support.sas.com/documentation/cdl/en/lrdict/64316/HTML/default/a002598106.htm)\n",
    "functions change the case of the argument."
   ]
  },
  {
   "cell_type": "markdown",
   "metadata": {
    "hide-output": false
   },
   "source": [
    "```sas\n",
    "data firstlast;\n",
    "input String $60.;\n",
    "string_up = UPCASE(string);\n",
    "string_low = LOWCASE(string);\n",
    "string_prop = PROPCASE(string);\n",
    "datalines2;\n",
    "John Smith;\n",
    "Jane Cook;\n",
    ";;;\n",
    "run;\n",
    "```\n"
   ]
  },
  {
   "cell_type": "markdown",
   "metadata": {},
   "source": [
    "The equivalent Python functions are `upper`, `lower`, and `title`."
   ]
  },
  {
   "cell_type": "code",
   "execution_count": null,
   "metadata": {
    "hide-output": false
   },
   "outputs": [],
   "source": [
    "firstlast = pd.DataFrame({'String': ['John Smith', 'Jane Cook']})\n",
    "firstlast['string_up'] = firstlast['String'].str.upper()\n",
    "firstlast['string_low'] = firstlast['String'].str.lower()\n",
    "firstlast['string_prop'] = firstlast['String'].str.title()\n",
    "firstlast"
   ]
  },
  {
   "cell_type": "markdown",
   "metadata": {},
   "source": [
    "## Merging\n",
    "\n",
    "The following tables will be used in the merge examples"
   ]
  },
  {
   "cell_type": "code",
   "execution_count": null,
   "metadata": {
    "hide-output": false
   },
   "outputs": [],
   "source": [
    "df1 = pd.DataFrame({'key': ['A', 'B', 'C', 'D'],\n",
    "                    'value': np.random.randn(4)})\n",
    "df1\n",
    "df2 = pd.DataFrame({'key': ['B', 'D', 'D', 'E'],\n",
    "                    'value': np.random.randn(4)})\n",
    "df2"
   ]
  },
  {
   "cell_type": "markdown",
   "metadata": {},
   "source": [
    "In SAS, data must be explicitly sorted before merging.  Different\n",
    "types of joins are accomplished using the `in=` dummy\n",
    "variables to track whether a match was found in one or both\n",
    "input frames."
   ]
  },
  {
   "cell_type": "markdown",
   "metadata": {
    "hide-output": false
   },
   "source": [
    "```sas\n",
    "proc sort data=df1;\n",
    "    by key;\n",
    "run;\n",
    "\n",
    "proc sort data=df2;\n",
    "    by key;\n",
    "run;\n",
    "\n",
    "data left_join inner_join right_join outer_join;\n",
    "    merge df1(in=a) df2(in=b);\n",
    "\n",
    "    if a and b then output inner_join;\n",
    "    if a then output left_join;\n",
    "    if b then output right_join;\n",
    "    if a or b then output outer_join;\n",
    "run;\n",
    "```\n"
   ]
  },
  {
   "cell_type": "markdown",
   "metadata": {},
   "source": [
    "pandas DataFrames have a `merge()` method, which provides\n",
    "similar functionality.  Note that the data does not have\n",
    "to be sorted ahead of time, and different join\n",
    "types are accomplished via the `how` keyword."
   ]
  },
  {
   "cell_type": "code",
   "execution_count": null,
   "metadata": {
    "hide-output": false
   },
   "outputs": [],
   "source": [
    "inner_join = df1.merge(df2, on=['key'], how='inner')\n",
    "inner_join\n",
    "\n",
    "left_join = df1.merge(df2, on=['key'], how='left')\n",
    "left_join\n",
    "\n",
    "right_join = df1.merge(df2, on=['key'], how='right')\n",
    "right_join\n",
    "\n",
    "outer_join = df1.merge(df2, on=['key'], how='outer')\n",
    "outer_join"
   ]
  },
  {
   "cell_type": "markdown",
   "metadata": {},
   "source": [
    "## Missing data\n",
    "\n",
    "Like SAS, pandas has a representation for missing data - which is the\n",
    "special float value `NaN` (not a number).  Many of the semantics\n",
    "are the same, for example missing data propagates through numeric\n",
    "operations, and is ignored by default for aggregations."
   ]
  },
  {
   "cell_type": "code",
   "execution_count": null,
   "metadata": {
    "hide-output": false
   },
   "outputs": [],
   "source": [
    "outer_join\n",
    "outer_join['value_x'] + outer_join['value_y']\n",
    "outer_join['value_x'].sum()"
   ]
  },
  {
   "cell_type": "markdown",
   "metadata": {},
   "source": [
    "One difference is that missing data cannot be compared to its sentinel value.\n",
    "For example, in SAS you could do this to filter missing values."
   ]
  },
  {
   "cell_type": "markdown",
   "metadata": {
    "hide-output": false
   },
   "source": [
    "```sas\n",
    "data outer_join_nulls;\n",
    "    set outer_join;\n",
    "    if value_x = .;\n",
    "run;\n",
    "\n",
    "data outer_join_no_nulls;\n",
    "    set outer_join;\n",
    "    if value_x ^= .;\n",
    "run;\n",
    "```\n"
   ]
  },
  {
   "cell_type": "markdown",
   "metadata": {},
   "source": [
    "Which doesn’t work in pandas.  Instead, the `pd.isna` or `pd.notna` functions\n",
    "should be used for comparisons."
   ]
  },
  {
   "cell_type": "code",
   "execution_count": null,
   "metadata": {
    "hide-output": false
   },
   "outputs": [],
   "source": [
    "outer_join[pd.isna(outer_join['value_x'])]\n",
    "outer_join[pd.notna(outer_join['value_x'])]"
   ]
  },
  {
   "cell_type": "markdown",
   "metadata": {},
   "source": [
    "pandas also provides a variety of methods to work with missing data - some of\n",
    "which would be challenging to express in SAS. For example, there are methods to\n",
    "drop all rows with any missing values, replacing missing values with a specified\n",
    "value, like the mean, or forward filling from previous rows. See the\n",
    "[missing data documentation](user_guide/missing_data.ipynb#missing-data) for more."
   ]
  },
  {
   "cell_type": "code",
   "execution_count": null,
   "metadata": {
    "hide-output": false
   },
   "outputs": [],
   "source": [
    "outer_join.dropna()\n",
    "outer_join.fillna(method='ffill')\n",
    "outer_join['value_x'].fillna(outer_join['value_x'].mean())"
   ]
  },
  {
   "cell_type": "markdown",
   "metadata": {},
   "source": [
    "## GroupBy"
   ]
  },
  {
   "cell_type": "markdown",
   "metadata": {},
   "source": [
    "### Aggregation\n",
    "\n",
    "SAS’s PROC SUMMARY can be used to group by one or\n",
    "more key variables and compute aggregations on\n",
    "numeric columns."
   ]
  },
  {
   "cell_type": "markdown",
   "metadata": {
    "hide-output": false
   },
   "source": [
    "```sas\n",
    "proc summary data=tips nway;\n",
    "    class sex smoker;\n",
    "    var total_bill tip;\n",
    "    output out=tips_summed sum=;\n",
    "run;\n",
    "```\n"
   ]
  },
  {
   "cell_type": "markdown",
   "metadata": {},
   "source": [
    "pandas provides a flexible `groupby` mechanism that\n",
    "allows similar aggregations.  See the [groupby documentation](user_guide/groupby.ipynb#groupby)\n",
    "for more details and examples."
   ]
  },
  {
   "cell_type": "code",
   "execution_count": null,
   "metadata": {
    "hide-output": false
   },
   "outputs": [],
   "source": [
    "tips_summed = tips.groupby(['sex', 'smoker'])['total_bill', 'tip'].sum()\n",
    "tips_summed.head()"
   ]
  },
  {
   "cell_type": "markdown",
   "metadata": {},
   "source": [
    "### Transformation\n",
    "\n",
    "In SAS, if the group aggregations need to be used with\n",
    "the original frame, it must be merged back together.  For\n",
    "example, to subtract the mean for each observation by smoker group."
   ]
  },
  {
   "cell_type": "markdown",
   "metadata": {
    "hide-output": false
   },
   "source": [
    "```sas\n",
    "proc summary data=tips missing nway;\n",
    "    class smoker;\n",
    "    var total_bill;\n",
    "    output out=smoker_means mean(total_bill)=group_bill;\n",
    "run;\n",
    "\n",
    "proc sort data=tips;\n",
    "    by smoker;\n",
    "run;\n",
    "\n",
    "data tips;\n",
    "    merge tips(in=a) smoker_means(in=b);\n",
    "    by smoker;\n",
    "    adj_total_bill = total_bill - group_bill;\n",
    "    if a and b;\n",
    "run;\n",
    "```\n"
   ]
  },
  {
   "cell_type": "markdown",
   "metadata": {},
   "source": [
    "pandas `groupby` provides a `transform` mechanism that allows\n",
    "these type of operations to be succinctly expressed in one\n",
    "operation."
   ]
  },
  {
   "cell_type": "code",
   "execution_count": null,
   "metadata": {
    "hide-output": false
   },
   "outputs": [],
   "source": [
    "gb = tips.groupby('smoker')['total_bill']\n",
    "tips['adj_total_bill'] = tips['total_bill'] - gb.transform('mean')\n",
    "tips.head()"
   ]
  },
  {
   "cell_type": "markdown",
   "metadata": {},
   "source": [
    "### By group processing\n",
    "\n",
    "In addition to aggregation, pandas `groupby` can be used to\n",
    "replicate most other by group processing from SAS. For example,\n",
    "this `DATA` step reads the data by sex/smoker group and filters to\n",
    "the first entry for each."
   ]
  },
  {
   "cell_type": "markdown",
   "metadata": {
    "hide-output": false
   },
   "source": [
    "```sas\n",
    "proc sort data=tips;\n",
    "   by sex smoker;\n",
    "run;\n",
    "\n",
    "data tips_first;\n",
    "    set tips;\n",
    "    by sex smoker;\n",
    "    if FIRST.sex or FIRST.smoker then output;\n",
    "run;\n",
    "```\n"
   ]
  },
  {
   "cell_type": "markdown",
   "metadata": {},
   "source": [
    "In pandas this would be written as:"
   ]
  },
  {
   "cell_type": "code",
   "execution_count": null,
   "metadata": {
    "hide-output": false
   },
   "outputs": [],
   "source": [
    "tips.groupby(['sex', 'smoker']).first()"
   ]
  },
  {
   "cell_type": "markdown",
   "metadata": {},
   "source": [
    "## Other Considerations"
   ]
  },
  {
   "cell_type": "markdown",
   "metadata": {},
   "source": [
    "### Disk vs memory\n",
    "\n",
    "pandas operates exclusively in memory, where a SAS data set exists on disk.\n",
    "This means that the size of data able to be loaded in pandas is limited by your\n",
    "machine’s memory, but also that the operations on that data may be faster.\n",
    "\n",
    "If out of core processing is needed, one possibility is the\n",
    "[dask.dataframe](https://dask.pydata.org/en/latest/dataframe.html)\n",
    "library (currently in development) which\n",
    "provides a subset of pandas functionality for an on-disk `DataFrame`"
   ]
  },
  {
   "cell_type": "markdown",
   "metadata": {},
   "source": [
    "### Data interop\n",
    "\n",
    "pandas provides a `read_sas()` method that can read SAS data saved in\n",
    "the XPORT or SAS7BDAT binary format."
   ]
  },
  {
   "cell_type": "markdown",
   "metadata": {
    "hide-output": false
   },
   "source": [
    "```sas\n",
    "libname xportout xport 'transport-file.xpt';\n",
    "data xportout.tips;\n",
    "    set tips(rename=(total_bill=tbill));\n",
    "    * xport variable names limited to 6 characters;\n",
    "run;\n",
    "```\n"
   ]
  },
  {
   "cell_type": "code",
   "execution_count": null,
   "metadata": {
    "hide-output": false
   },
   "outputs": [],
   "source": [
    "df = pd.read_sas('transport-file.xpt')\n",
    "df = pd.read_sas('binary-file.sas7bdat')"
   ]
  },
  {
   "cell_type": "markdown",
   "metadata": {},
   "source": [
    "You can also specify the file format directly. By default, pandas will try\n",
    "to infer the file format based on its extension."
   ]
  },
  {
   "cell_type": "code",
   "execution_count": null,
   "metadata": {
    "hide-output": false
   },
   "outputs": [],
   "source": [
    "df = pd.read_sas('transport-file.xpt', format='xport')\n",
    "df = pd.read_sas('binary-file.sas7bdat', format='sas7bdat')"
   ]
  },
  {
   "cell_type": "markdown",
   "metadata": {},
   "source": [
    "XPORT is a relatively limited format and the parsing of it is not as\n",
    "optimized as some of the other pandas readers. An alternative way\n",
    "to interop data between SAS and pandas is to serialize to csv."
   ]
  },
  {
   "cell_type": "markdown",
   "metadata": {
    "hide-output": false
   },
   "source": [
    "```ipython\n",
    "# version 0.17, 10M rows\n",
    "\n",
    "In [8]: %time df = pd.read_sas('big.xpt')\n",
    "Wall time: 14.6 s\n",
    "\n",
    "In [9]: %time df = pd.read_csv('big.csv')\n",
    "Wall time: 4.86 s\n",
    "```\n"
   ]
  }
 ],
 "metadata": {
  "filename": "comparison_with_sas.rst",
  "kernelspec": {
   "display_name": "Python",
   "language": "python3",
   "name": "python3"
  },
  "title": "Comparison with SAS"
 },
 "nbformat": 4,
 "nbformat_minor": 2
}