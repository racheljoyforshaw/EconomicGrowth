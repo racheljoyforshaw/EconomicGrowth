{
 "cells": [
  {
   "cell_type": "markdown",
   "metadata": {},
   "source": [
    "\n",
    "<a id='compare-with-stata'></a>\n",
    "{{ header }}"
   ]
  },
  {
   "cell_type": "markdown",
   "metadata": {},
   "source": [
    "# Comparison with Stata\n",
    "\n",
    "For potential users coming from [Stata](https://en.wikipedia.org/wiki/Stata)\n",
    "this page is meant to demonstrate how different Stata operations would be\n",
    "performed in pandas.\n",
    "\n",
    "If you’re new to pandas, you might want to first read through [10 Minutes to pandas](10min.ipynb#min)\n",
    "to familiarize yourself with the library.\n",
    "\n",
    "As is customary, we import pandas and NumPy as follows. This means that we can refer to the\n",
    "libraries as `pd` and `np`, respectively, for the rest of the document."
   ]
  },
  {
   "cell_type": "code",
   "execution_count": null,
   "metadata": {
    "hide-output": false
   },
   "outputs": [],
   "source": [
    "import pandas as pd\n",
    "import numpy as np"
   ]
  },
  {
   "cell_type": "markdown",
   "metadata": {},
   "source": [
    ">**Note**\n",
    ">\n",
    ">Throughout this tutorial, the pandas `DataFrame` will be displayed by calling\n",
    "`df.head()`, which displays the first N (default 5) rows of the `DataFrame`.\n",
    "This is often used in interactive work (e.g. [Jupyter notebook](https://jupyter.org/) or terminal) – the equivalent in Stata would be:"
   ]
  },
  {
   "cell_type": "markdown",
   "metadata": {
    "hide-output": false
   },
   "source": [
    "```stata\n",
    "list in 1/5\n",
    "```\n"
   ]
  },
  {
   "cell_type": "markdown",
   "metadata": {},
   "source": [
    "## Data structures"
   ]
  },
  {
   "cell_type": "markdown",
   "metadata": {},
   "source": [
    "### General terminology translation\n",
    "\n",
    "``````|pandas|Stata|\n",
    "|:------------------:|:------------------:|\n",
    "|DataFrame|data set|\n",
    "|column|variable|\n",
    "|row|observation|\n",
    "|groupby|bysort|\n",
    "|NaN|.|"
   ]
  },
  {
   "cell_type": "markdown",
   "metadata": {},
   "source": [
    "### `DataFrame` / `Series`\n",
    "\n",
    "A `DataFrame` in pandas is analogous to a Stata data set – a two-dimensional\n",
    "data source with labeled columns that can be of different types. As will be\n",
    "shown in this document, almost any operation that can be applied to a data set\n",
    "in Stata can also be accomplished in pandas.\n",
    "\n",
    "A `Series` is the data structure that represents one column of a\n",
    "`DataFrame`. Stata doesn’t have a separate data structure for a single column,\n",
    "but in general, working with a `Series` is analogous to referencing a column\n",
    "of a data set in Stata."
   ]
  },
  {
   "cell_type": "markdown",
   "metadata": {},
   "source": [
    "### `Index`\n",
    "\n",
    "Every `DataFrame` and `Series` has an `Index` – labels on the\n",
    "*rows* of the data. Stata does not have an exactly analogous concept. In Stata, a data set’s\n",
    "rows are essentially unlabeled, other than an implicit integer index that can be\n",
    "accessed with `_n`.\n",
    "\n",
    "In pandas, if no index is specified, an integer index is also used by default\n",
    "(first row = 0, second row = 1, and so on). While using a labeled `Index` or\n",
    "`MultiIndex` can enable sophisticated analyses and is ultimately an important\n",
    "part of pandas to understand, for this comparison we will essentially ignore the\n",
    "`Index` and just treat the `DataFrame` as a collection of columns. Please\n",
    "see the [indexing documentation](user_guide/indexing.ipynb#indexing) for much more on how to use an\n",
    "`Index` effectively."
   ]
  },
  {
   "cell_type": "markdown",
   "metadata": {},
   "source": [
    "## Data input / output"
   ]
  },
  {
   "cell_type": "markdown",
   "metadata": {},
   "source": [
    "### Constructing a DataFrame from values\n",
    "\n",
    "A Stata data set can be built from specified values by\n",
    "placing the data after an `input` statement and\n",
    "specifying the column names."
   ]
  },
  {
   "cell_type": "markdown",
   "metadata": {
    "hide-output": false
   },
   "source": [
    "```stata\n",
    "input x y\n",
    "1 2\n",
    "3 4\n",
    "5 6\n",
    "end\n",
    "```\n"
   ]
  },
  {
   "cell_type": "markdown",
   "metadata": {},
   "source": [
    "A pandas `DataFrame` can be constructed in many different ways,\n",
    "but for a small number of values, it is often convenient to specify it as\n",
    "a Python dictionary, where the keys are the column names\n",
    "and the values are the data."
   ]
  },
  {
   "cell_type": "code",
   "execution_count": null,
   "metadata": {
    "hide-output": false
   },
   "outputs": [],
   "source": [
    "df = pd.DataFrame({'x': [1, 3, 5], 'y': [2, 4, 6]})\n",
    "df"
   ]
  },
  {
   "cell_type": "markdown",
   "metadata": {},
   "source": [
    "### Reading external data\n",
    "\n",
    "Like Stata, pandas provides utilities for reading in data from\n",
    "many formats.  The `tips` data set, found within the pandas\n",
    "tests ([csv](https://raw.github.com/pandas-dev/pandas/master/pandas/tests/data/tips.csv))\n",
    "will be used in many of the following examples.\n",
    "\n",
    "Stata provides `import delimited` to read csv data into a data set in memory.\n",
    "If the `tips.csv` file is in the current working directory, we can import it as follows."
   ]
  },
  {
   "cell_type": "markdown",
   "metadata": {
    "hide-output": false
   },
   "source": [
    "```stata\n",
    "import delimited tips.csv\n",
    "```\n"
   ]
  },
  {
   "cell_type": "markdown",
   "metadata": {},
   "source": [
    "The pandas method is `read_csv()`, which works similarly. Additionally, it will automatically download\n",
    "the data set if presented with a url."
   ]
  },
  {
   "cell_type": "code",
   "execution_count": null,
   "metadata": {
    "hide-output": false
   },
   "outputs": [],
   "source": [
    "url = ('https://raw.github.com/pandas-dev'\n",
    "       '/pandas/master/pandas/tests/data/tips.csv')\n",
    "tips = pd.read_csv(url)\n",
    "tips.head()"
   ]
  },
  {
   "cell_type": "markdown",
   "metadata": {},
   "source": [
    "Like `import delimited`, `read_csv()` can take a number of parameters to specify\n",
    "how the data should be parsed.  For example, if the data were instead tab delimited,\n",
    "did not have column names, and existed in the current working directory,\n",
    "the pandas command would be:"
   ]
  },
  {
   "cell_type": "code",
   "execution_count": null,
   "metadata": {
    "hide-output": false
   },
   "outputs": [],
   "source": [
    "tips = pd.read_csv('tips.csv', sep='\\t', header=None)\n",
    "\n",
    "# alternatively, read_table is an alias to read_csv with tab delimiter\n",
    "tips = pd.read_table('tips.csv', header=None)"
   ]
  },
  {
   "cell_type": "markdown",
   "metadata": {},
   "source": [
    "Pandas can also read Stata data sets in `.dta` format with the `read_stata()` function."
   ]
  },
  {
   "cell_type": "code",
   "execution_count": null,
   "metadata": {
    "hide-output": false
   },
   "outputs": [],
   "source": [
    "df = pd.read_stata('data.dta')"
   ]
  },
  {
   "cell_type": "markdown",
   "metadata": {},
   "source": [
    "In addition to text/csv and Stata files, pandas supports a variety of other data formats\n",
    "such as Excel, SAS, HDF5, Parquet, and SQL databases.  These are all read via a `pd.read_*`\n",
    "function.  See the [IO documentation](user_guide/io.ipynb#io) for more details."
   ]
  },
  {
   "cell_type": "markdown",
   "metadata": {},
   "source": [
    "### Exporting data\n",
    "\n",
    "The inverse of `import delimited` in Stata is `export delimited`"
   ]
  },
  {
   "cell_type": "markdown",
   "metadata": {
    "hide-output": false
   },
   "source": [
    "```stata\n",
    "export delimited tips2.csv\n",
    "```\n"
   ]
  },
  {
   "cell_type": "markdown",
   "metadata": {},
   "source": [
    "Similarly in pandas, the opposite of `read_csv` is `DataFrame.to_csv()`."
   ]
  },
  {
   "cell_type": "code",
   "execution_count": null,
   "metadata": {
    "hide-output": false
   },
   "outputs": [],
   "source": [
    "tips.to_csv('tips2.csv')"
   ]
  },
  {
   "cell_type": "markdown",
   "metadata": {},
   "source": [
    "Pandas can also export to Stata file format with the `DataFrame.to_stata()` method."
   ]
  },
  {
   "cell_type": "code",
   "execution_count": null,
   "metadata": {
    "hide-output": false
   },
   "outputs": [],
   "source": [
    "tips.to_stata('tips2.dta')"
   ]
  },
  {
   "cell_type": "markdown",
   "metadata": {},
   "source": [
    "## Data operations"
   ]
  },
  {
   "cell_type": "markdown",
   "metadata": {},
   "source": [
    "### Operations on columns\n",
    "\n",
    "In Stata, arbitrary math expressions can be used with the `generate` and\n",
    "`replace` commands on new or existing columns. The `drop` command drops\n",
    "the column from the data set."
   ]
  },
  {
   "cell_type": "markdown",
   "metadata": {
    "hide-output": false
   },
   "source": [
    "```stata\n",
    "replace total_bill = total_bill - 2\n",
    "generate new_bill = total_bill / 2\n",
    "drop new_bill\n",
    "```\n"
   ]
  },
  {
   "cell_type": "markdown",
   "metadata": {},
   "source": [
    "pandas provides similar vectorized operations by\n",
    "specifying the individual `Series` in the `DataFrame`.\n",
    "New columns can be assigned in the same way. The `DataFrame.drop()` method\n",
    "drops a column from the `DataFrame`."
   ]
  },
  {
   "cell_type": "code",
   "execution_count": null,
   "metadata": {
    "hide-output": false
   },
   "outputs": [],
   "source": [
    "tips['total_bill'] = tips['total_bill'] - 2\n",
    "tips['new_bill'] = tips['total_bill'] / 2\n",
    "tips.head()\n",
    "\n",
    "tips = tips.drop('new_bill', axis=1)"
   ]
  },
  {
   "cell_type": "markdown",
   "metadata": {},
   "source": [
    "### Filtering\n",
    "\n",
    "Filtering in Stata is done with an `if` clause on one or more columns."
   ]
  },
  {
   "cell_type": "markdown",
   "metadata": {
    "hide-output": false
   },
   "source": [
    "```stata\n",
    "list if total_bill > 10\n",
    "```\n"
   ]
  },
  {
   "cell_type": "markdown",
   "metadata": {},
   "source": [
    "DataFrames can be filtered in multiple ways; the most intuitive of which is using\n",
    "[boolean indexing](user_guide/indexing.ipynb#indexing-boolean)."
   ]
  },
  {
   "cell_type": "code",
   "execution_count": null,
   "metadata": {
    "hide-output": false
   },
   "outputs": [],
   "source": [
    "tips[tips['total_bill'] > 10].head()"
   ]
  },
  {
   "cell_type": "markdown",
   "metadata": {},
   "source": [
    "### If/then logic\n",
    "\n",
    "In Stata, an `if` clause can also be used to create new columns."
   ]
  },
  {
   "cell_type": "markdown",
   "metadata": {
    "hide-output": false
   },
   "source": [
    "```stata\n",
    "generate bucket = \"low\" if total_bill < 10\n",
    "replace bucket = \"high\" if total_bill >= 10\n",
    "```\n"
   ]
  },
  {
   "cell_type": "markdown",
   "metadata": {},
   "source": [
    "The same operation in pandas can be accomplished using\n",
    "the `where` method from `numpy`."
   ]
  },
  {
   "cell_type": "code",
   "execution_count": null,
   "metadata": {
    "hide-output": false
   },
   "outputs": [],
   "source": [
    "tips['bucket'] = np.where(tips['total_bill'] < 10, 'low', 'high')\n",
    "tips.head()"
   ]
  },
  {
   "cell_type": "markdown",
   "metadata": {},
   "source": [
    "### Date functionality\n",
    "\n",
    "Stata provides a variety of functions to do operations on\n",
    "date/datetime columns."
   ]
  },
  {
   "cell_type": "markdown",
   "metadata": {
    "hide-output": false
   },
   "source": [
    "```stata\n",
    "generate date1 = mdy(1, 15, 2013)\n",
    "generate date2 = date(\"Feb152015\", \"MDY\")\n",
    "\n",
    "generate date1_year = year(date1)\n",
    "generate date2_month = month(date2)\n",
    "\n",
    "* shift date to beginning of next month\n",
    "generate date1_next = mdy(month(date1) + 1, 1, year(date1)) if month(date1) != 12\n",
    "replace date1_next = mdy(1, 1, year(date1) + 1) if month(date1) == 12\n",
    "generate months_between = mofd(date2) - mofd(date1)\n",
    "\n",
    "list date1 date2 date1_year date2_month date1_next months_between\n",
    "```\n"
   ]
  },
  {
   "cell_type": "markdown",
   "metadata": {},
   "source": [
    "The equivalent pandas operations are shown below.  In addition to these\n",
    "functions, pandas supports other Time Series features\n",
    "not available in Stata (such as time zone handling and custom offsets) –\n",
    "see the [timeseries documentation](user_guide/timeseries.ipynb#timeseries) for more details."
   ]
  },
  {
   "cell_type": "code",
   "execution_count": null,
   "metadata": {
    "hide-output": false
   },
   "outputs": [],
   "source": [
    "tips['date1'] = pd.Timestamp('2013-01-15')\n",
    "tips['date2'] = pd.Timestamp('2015-02-15')\n",
    "tips['date1_year'] = tips['date1'].dt.year\n",
    "tips['date2_month'] = tips['date2'].dt.month\n",
    "tips['date1_next'] = tips['date1'] + pd.offsets.MonthBegin()\n",
    "tips['months_between'] = (tips['date2'].dt.to_period('M')\n",
    "                          - tips['date1'].dt.to_period('M'))\n",
    "\n",
    "tips[['date1', 'date2', 'date1_year', 'date2_month', 'date1_next',\n",
    "      'months_between']].head()"
   ]
  },
  {
   "cell_type": "markdown",
   "metadata": {},
   "source": [
    "### Selection of columns\n",
    "\n",
    "Stata provides keywords to select, drop, and rename columns."
   ]
  },
  {
   "cell_type": "markdown",
   "metadata": {
    "hide-output": false
   },
   "source": [
    "```stata\n",
    "keep sex total_bill tip\n",
    "\n",
    "drop sex\n",
    "\n",
    "rename total_bill total_bill_2\n",
    "```\n"
   ]
  },
  {
   "cell_type": "markdown",
   "metadata": {},
   "source": [
    "The same operations are expressed in pandas below. Note that in contrast to Stata, these\n",
    "operations do not happen in place. To make these changes persist, assign the operation back\n",
    "to a variable."
   ]
  },
  {
   "cell_type": "code",
   "execution_count": null,
   "metadata": {
    "hide-output": false
   },
   "outputs": [],
   "source": [
    "# keep\n",
    "tips[['sex', 'total_bill', 'tip']].head()\n",
    "\n",
    "# drop\n",
    "tips.drop('sex', axis=1).head()\n",
    "\n",
    "# rename\n",
    "tips.rename(columns={'total_bill': 'total_bill_2'}).head()"
   ]
  },
  {
   "cell_type": "markdown",
   "metadata": {},
   "source": [
    "### Sorting by values\n",
    "\n",
    "Sorting in Stata is accomplished via `sort`"
   ]
  },
  {
   "cell_type": "markdown",
   "metadata": {
    "hide-output": false
   },
   "source": [
    "```stata\n",
    "sort sex total_bill\n",
    "```\n"
   ]
  },
  {
   "cell_type": "markdown",
   "metadata": {},
   "source": [
    "pandas objects have a `DataFrame.sort_values()` method, which\n",
    "takes a list of columns to sort by."
   ]
  },
  {
   "cell_type": "code",
   "execution_count": null,
   "metadata": {
    "hide-output": false
   },
   "outputs": [],
   "source": [
    "tips = tips.sort_values(['sex', 'total_bill'])\n",
    "tips.head()"
   ]
  },
  {
   "cell_type": "markdown",
   "metadata": {},
   "source": [
    "## String processing"
   ]
  },
  {
   "cell_type": "markdown",
   "metadata": {},
   "source": [
    "### Finding length of string\n",
    "\n",
    "Stata determines the length of a character string with the `strlen()` and\n",
    "`ustrlen()` functions for ASCII and Unicode strings, respectively."
   ]
  },
  {
   "cell_type": "markdown",
   "metadata": {
    "hide-output": false
   },
   "source": [
    "```stata\n",
    "generate strlen_time = strlen(time)\n",
    "generate ustrlen_time = ustrlen(time)\n",
    "```\n"
   ]
  },
  {
   "cell_type": "markdown",
   "metadata": {},
   "source": [
    "Python determines the length of a character string with the `len` function.\n",
    "In Python 3, all strings are Unicode strings. `len` includes trailing blanks.\n",
    "Use `len` and `rstrip` to exclude trailing blanks."
   ]
  },
  {
   "cell_type": "code",
   "execution_count": null,
   "metadata": {
    "hide-output": false
   },
   "outputs": [],
   "source": [
    "tips['time'].str.len().head()\n",
    "tips['time'].str.rstrip().str.len().head()"
   ]
  },
  {
   "cell_type": "markdown",
   "metadata": {},
   "source": [
    "### Finding position of substring\n",
    "\n",
    "Stata determines the position of a character in a string with the `strpos()` function.\n",
    "This takes the string defined by the first argument and searches for the\n",
    "first position of the substring you supply as the second argument."
   ]
  },
  {
   "cell_type": "markdown",
   "metadata": {
    "hide-output": false
   },
   "source": [
    "```stata\n",
    "generate str_position = strpos(sex, \"ale\")\n",
    "```\n"
   ]
  },
  {
   "cell_type": "markdown",
   "metadata": {},
   "source": [
    "Python determines the position of a character in a string with the\n",
    "`find()` function.  `find` searches for the first position of the\n",
    "substring.  If the substring is found, the function returns its\n",
    "position.  Keep in mind that Python indexes are zero-based and\n",
    "the function will return -1 if it fails to find the substring."
   ]
  },
  {
   "cell_type": "code",
   "execution_count": null,
   "metadata": {
    "hide-output": false
   },
   "outputs": [],
   "source": [
    "tips['sex'].str.find(\"ale\").head()"
   ]
  },
  {
   "cell_type": "markdown",
   "metadata": {},
   "source": [
    "### Extracting substring by position\n",
    "\n",
    "Stata extracts a substring from a string based on its position with the `substr()` function."
   ]
  },
  {
   "cell_type": "markdown",
   "metadata": {
    "hide-output": false
   },
   "source": [
    "```stata\n",
    "generate short_sex = substr(sex, 1, 1)\n",
    "```\n"
   ]
  },
  {
   "cell_type": "markdown",
   "metadata": {},
   "source": [
    "With pandas you can use `[]` notation to extract a substring\n",
    "from a string by position locations.  Keep in mind that Python\n",
    "indexes are zero-based."
   ]
  },
  {
   "cell_type": "code",
   "execution_count": null,
   "metadata": {
    "hide-output": false
   },
   "outputs": [],
   "source": [
    "tips['sex'].str[0:1].head()"
   ]
  },
  {
   "cell_type": "markdown",
   "metadata": {},
   "source": [
    "### Extracting nth word\n",
    "\n",
    "The Stata `word()` function returns the nth word from a string.\n",
    "The first argument is the string you want to parse and the\n",
    "second argument specifies which word you want to extract."
   ]
  },
  {
   "cell_type": "markdown",
   "metadata": {
    "hide-output": false
   },
   "source": [
    "```stata\n",
    "clear\n",
    "input str20 string\n",
    "\"John Smith\"\n",
    "\"Jane Cook\"\n",
    "end\n",
    "\n",
    "generate first_name = word(name, 1)\n",
    "generate last_name = word(name, -1)\n",
    "```\n"
   ]
  },
  {
   "cell_type": "markdown",
   "metadata": {},
   "source": [
    "Python extracts a substring from a string based on its text\n",
    "by using regular expressions. There are much more powerful\n",
    "approaches, but this just shows a simple approach."
   ]
  },
  {
   "cell_type": "code",
   "execution_count": null,
   "metadata": {
    "hide-output": false
   },
   "outputs": [],
   "source": [
    "firstlast = pd.DataFrame({'string': ['John Smith', 'Jane Cook']})\n",
    "firstlast['First_Name'] = firstlast['string'].str.split(\" \", expand=True)[0]\n",
    "firstlast['Last_Name'] = firstlast['string'].str.rsplit(\" \", expand=True)[0]\n",
    "firstlast"
   ]
  },
  {
   "cell_type": "markdown",
   "metadata": {},
   "source": [
    "### Changing case\n",
    "\n",
    "The Stata `strupper()`, `strlower()`, `strproper()`,\n",
    "`ustrupper()`, `ustrlower()`, and `ustrtitle()` functions\n",
    "change the case of ASCII and Unicode strings, respectively."
   ]
  },
  {
   "cell_type": "markdown",
   "metadata": {
    "hide-output": false
   },
   "source": [
    "```stata\n",
    "clear\n",
    "input str20 string\n",
    "\"John Smith\"\n",
    "\"Jane Cook\"\n",
    "end\n",
    "\n",
    "generate upper = strupper(string)\n",
    "generate lower = strlower(string)\n",
    "generate title = strproper(string)\n",
    "list\n",
    "```\n"
   ]
  },
  {
   "cell_type": "markdown",
   "metadata": {},
   "source": [
    "The equivalent Python functions are `upper`, `lower`, and `title`."
   ]
  },
  {
   "cell_type": "code",
   "execution_count": null,
   "metadata": {
    "hide-output": false
   },
   "outputs": [],
   "source": [
    "firstlast = pd.DataFrame({'string': ['John Smith', 'Jane Cook']})\n",
    "firstlast['upper'] = firstlast['string'].str.upper()\n",
    "firstlast['lower'] = firstlast['string'].str.lower()\n",
    "firstlast['title'] = firstlast['string'].str.title()\n",
    "firstlast"
   ]
  },
  {
   "cell_type": "markdown",
   "metadata": {},
   "source": [
    "## Merging\n",
    "\n",
    "The following tables will be used in the merge examples"
   ]
  },
  {
   "cell_type": "code",
   "execution_count": null,
   "metadata": {
    "hide-output": false
   },
   "outputs": [],
   "source": [
    "df1 = pd.DataFrame({'key': ['A', 'B', 'C', 'D'],\n",
    "                    'value': np.random.randn(4)})\n",
    "df1\n",
    "df2 = pd.DataFrame({'key': ['B', 'D', 'D', 'E'],\n",
    "                    'value': np.random.randn(4)})\n",
    "df2"
   ]
  },
  {
   "cell_type": "markdown",
   "metadata": {},
   "source": [
    "In Stata, to perform a merge, one data set must be in memory\n",
    "and the other must be referenced as a file name on disk. In\n",
    "contrast, Python must have both `DataFrames` already in memory.\n",
    "\n",
    "By default, Stata performs an outer join, where all observations\n",
    "from both data sets are left in memory after the merge. One can\n",
    "keep only observations from the initial data set, the merged data set,\n",
    "or the intersection of the two by using the values created in the\n",
    "`_merge` variable."
   ]
  },
  {
   "cell_type": "markdown",
   "metadata": {
    "hide-output": false
   },
   "source": [
    "```stata\n",
    "* First create df2 and save to disk\n",
    "clear\n",
    "input str1 key\n",
    "B\n",
    "D\n",
    "D\n",
    "E\n",
    "end\n",
    "generate value = rnormal()\n",
    "save df2.dta\n",
    "\n",
    "* Now create df1 in memory\n",
    "clear\n",
    "input str1 key\n",
    "A\n",
    "B\n",
    "C\n",
    "D\n",
    "end\n",
    "generate value = rnormal()\n",
    "\n",
    "preserve\n",
    "\n",
    "* Left join\n",
    "merge 1:n key using df2.dta\n",
    "keep if _merge == 1\n",
    "\n",
    "* Right join\n",
    "restore, preserve\n",
    "merge 1:n key using df2.dta\n",
    "keep if _merge == 2\n",
    "\n",
    "* Inner join\n",
    "restore, preserve\n",
    "merge 1:n key using df2.dta\n",
    "keep if _merge == 3\n",
    "\n",
    "* Outer join\n",
    "restore\n",
    "merge 1:n key using df2.dta\n",
    "```\n"
   ]
  },
  {
   "cell_type": "markdown",
   "metadata": {},
   "source": [
    "pandas DataFrames have a `DataFrame.merge()` method, which provides\n",
    "similar functionality. Note that different join\n",
    "types are accomplished via the `how` keyword."
   ]
  },
  {
   "cell_type": "code",
   "execution_count": null,
   "metadata": {
    "hide-output": false
   },
   "outputs": [],
   "source": [
    "inner_join = df1.merge(df2, on=['key'], how='inner')\n",
    "inner_join\n",
    "\n",
    "left_join = df1.merge(df2, on=['key'], how='left')\n",
    "left_join\n",
    "\n",
    "right_join = df1.merge(df2, on=['key'], how='right')\n",
    "right_join\n",
    "\n",
    "outer_join = df1.merge(df2, on=['key'], how='outer')\n",
    "outer_join"
   ]
  },
  {
   "cell_type": "markdown",
   "metadata": {},
   "source": [
    "## Missing data\n",
    "\n",
    "Like Stata, pandas has a representation for missing data – the\n",
    "special float value `NaN` (not a number).  Many of the semantics\n",
    "are the same; for example missing data propagates through numeric\n",
    "operations, and is ignored by default for aggregations."
   ]
  },
  {
   "cell_type": "code",
   "execution_count": null,
   "metadata": {
    "hide-output": false
   },
   "outputs": [],
   "source": [
    "outer_join\n",
    "outer_join['value_x'] + outer_join['value_y']\n",
    "outer_join['value_x'].sum()"
   ]
  },
  {
   "cell_type": "markdown",
   "metadata": {},
   "source": [
    "One difference is that missing data cannot be compared to its sentinel value.\n",
    "For example, in Stata you could do this to filter missing values."
   ]
  },
  {
   "cell_type": "markdown",
   "metadata": {
    "hide-output": false
   },
   "source": [
    "```stata\n",
    "* Keep missing values\n",
    "list if value_x == .\n",
    "* Keep non-missing values\n",
    "list if value_x != .\n",
    "```\n"
   ]
  },
  {
   "cell_type": "markdown",
   "metadata": {},
   "source": [
    "This doesn’t work in pandas.  Instead, the `pd.isna()` or `pd.notna()` functions\n",
    "should be used for comparisons."
   ]
  },
  {
   "cell_type": "code",
   "execution_count": null,
   "metadata": {
    "hide-output": false
   },
   "outputs": [],
   "source": [
    "outer_join[pd.isna(outer_join['value_x'])]\n",
    "outer_join[pd.notna(outer_join['value_x'])]"
   ]
  },
  {
   "cell_type": "markdown",
   "metadata": {},
   "source": [
    "Pandas also provides a variety of methods to work with missing data – some of\n",
    "which would be challenging to express in Stata. For example, there are methods to\n",
    "drop all rows with any missing values, replacing missing values with a specified\n",
    "value, like the mean, or forward filling from previous rows. See the\n",
    "[missing data documentation](user_guide/missing_data.ipynb#missing-data) for more."
   ]
  },
  {
   "cell_type": "code",
   "execution_count": null,
   "metadata": {
    "hide-output": false
   },
   "outputs": [],
   "source": [
    "# Drop rows with any missing value\n",
    "outer_join.dropna()\n",
    "\n",
    "# Fill forwards\n",
    "outer_join.fillna(method='ffill')\n",
    "\n",
    "# Impute missing values with the mean\n",
    "outer_join['value_x'].fillna(outer_join['value_x'].mean())"
   ]
  },
  {
   "cell_type": "markdown",
   "metadata": {},
   "source": [
    "## GroupBy"
   ]
  },
  {
   "cell_type": "markdown",
   "metadata": {},
   "source": [
    "### Aggregation\n",
    "\n",
    "Stata’s `collapse` can be used to group by one or\n",
    "more key variables and compute aggregations on\n",
    "numeric columns."
   ]
  },
  {
   "cell_type": "markdown",
   "metadata": {
    "hide-output": false
   },
   "source": [
    "```stata\n",
    "collapse (sum) total_bill tip, by(sex smoker)\n",
    "```\n"
   ]
  },
  {
   "cell_type": "markdown",
   "metadata": {},
   "source": [
    "pandas provides a flexible `groupby` mechanism that\n",
    "allows similar aggregations.  See the [groupby documentation](user_guide/groupby.ipynb#groupby)\n",
    "for more details and examples."
   ]
  },
  {
   "cell_type": "code",
   "execution_count": null,
   "metadata": {
    "hide-output": false
   },
   "outputs": [],
   "source": [
    "tips_summed = tips.groupby(['sex', 'smoker'])['total_bill', 'tip'].sum()\n",
    "tips_summed.head()"
   ]
  },
  {
   "cell_type": "markdown",
   "metadata": {},
   "source": [
    "### Transformation\n",
    "\n",
    "In Stata, if the group aggregations need to be used with the\n",
    "original data set, one would usually use `bysort` with `egen()`.\n",
    "For example, to subtract the mean for each observation by smoker group."
   ]
  },
  {
   "cell_type": "markdown",
   "metadata": {
    "hide-output": false
   },
   "source": [
    "```stata\n",
    "bysort sex smoker: egen group_bill = mean(total_bill)\n",
    "generate adj_total_bill = total_bill - group_bill\n",
    "```\n"
   ]
  },
  {
   "cell_type": "markdown",
   "metadata": {},
   "source": [
    "pandas `groupby` provides a `transform` mechanism that allows\n",
    "these type of operations to be succinctly expressed in one\n",
    "operation."
   ]
  },
  {
   "cell_type": "code",
   "execution_count": null,
   "metadata": {
    "hide-output": false
   },
   "outputs": [],
   "source": [
    "gb = tips.groupby('smoker')['total_bill']\n",
    "tips['adj_total_bill'] = tips['total_bill'] - gb.transform('mean')\n",
    "tips.head()"
   ]
  },
  {
   "cell_type": "markdown",
   "metadata": {},
   "source": [
    "### By group processing\n",
    "\n",
    "In addition to aggregation, pandas `groupby` can be used to\n",
    "replicate most other `bysort` processing from Stata. For example,\n",
    "the following example lists the first observation in the current\n",
    "sort order by sex/smoker group."
   ]
  },
  {
   "cell_type": "markdown",
   "metadata": {
    "hide-output": false
   },
   "source": [
    "```stata\n",
    "bysort sex smoker: list if _n == 1\n",
    "```\n"
   ]
  },
  {
   "cell_type": "markdown",
   "metadata": {},
   "source": [
    "In pandas this would be written as:"
   ]
  },
  {
   "cell_type": "code",
   "execution_count": null,
   "metadata": {
    "hide-output": false
   },
   "outputs": [],
   "source": [
    "tips.groupby(['sex', 'smoker']).first()"
   ]
  },
  {
   "cell_type": "markdown",
   "metadata": {},
   "source": [
    "## Other considerations"
   ]
  },
  {
   "cell_type": "markdown",
   "metadata": {},
   "source": [
    "### Disk vs memory\n",
    "\n",
    "Pandas and Stata both operate exclusively in memory. This means that the size of\n",
    "data able to be loaded in pandas is limited by your machine’s memory.\n",
    "If out of core processing is needed, one possibility is the\n",
    "[dask.dataframe](http://dask.pydata.org/en/latest/dataframe.html)\n",
    "library, which provides a subset of pandas functionality for an\n",
    "on-disk `DataFrame`."
   ]
  }
 ],
 "metadata": {
  "filename": "comparison_with_stata.rst",
  "kernelspec": {
   "display_name": "Python",
   "language": "python3",
   "name": "python3"
  },
  "title": "Comparison with Stata"
 },
 "nbformat": 4,
 "nbformat_minor": 2
}