{
 "cells": [
  {
   "cell_type": "markdown",
   "metadata": {},
   "source": [
    "\n",
    "<a id='compare-with-r'></a>\n",
    "{{ header }}"
   ]
  },
  {
   "cell_type": "markdown",
   "metadata": {},
   "source": [
    "# Comparison with R / R libraries\n",
    "\n",
    "Since `pandas` aims to provide a lot of the data manipulation and analysis\n",
    "functionality that people use [R](http://www.r-project.org/) for, this page\n",
    "was started to provide a more detailed look at the [R language](http://en.wikipedia.org/wiki/R_%28programming_language%29) and its many third\n",
    "party libraries as they relate to `pandas`. In comparisons with R and CRAN\n",
    "libraries, we care about the following things:\n",
    "\n",
    "- **Functionality / flexibility**: what can/cannot be done with each tool  \n",
    "- **Performance**: how fast are operations. Hard numbers/benchmarks are\n",
    "  preferable  \n",
    "- **Ease-of-use**: Is one tool easier/harder to use (you may have to be\n",
    "  the judge of this, given side-by-side code comparisons)  \n",
    "\n",
    "\n",
    "This page is also here to offer a bit of a translation guide for users of these\n",
    "R packages.\n",
    "\n",
    "For transfer of `DataFrame` objects from `pandas` to R, one option is to\n",
    "use HDF5 files, see [External compatibility](user_guide/io.ipynb#io-external-compatibility) for an\n",
    "example."
   ]
  },
  {
   "cell_type": "markdown",
   "metadata": {},
   "source": [
    "## Quick reference\n",
    "\n",
    "We’ll start off with a quick reference guide pairing some common R\n",
    "operations using [dplyr](https://cran.r-project.org/package=dplyr) with\n",
    "pandas equivalents."
   ]
  },
  {
   "cell_type": "markdown",
   "metadata": {},
   "source": [
    "### Querying, filtering, sampling\n",
    "\n",
    "````````````````````````````````<sup>[1](#select-range)</sup>````````````````|R|pandas|\n",
    "|:-----------------------------------------:|:--------------------------------------------------------:|\n",
    "|dim(df)|df.shape|\n",
    "|head(df)|df.head()|\n",
    "|slice(df, 1:10)|df.iloc[:9]|\n",
    "|filter(df, col1 == 1, col2 == 1)|df.query('col1 == 1 & col2 == 1')|\n",
    "|df[df\\$col1 == 1 & df\\$col2 == 1,]|df[(df.col1 == 1) & (df.col2 == 1)]|\n",
    "|select(df, col1, col2)|df[['col1', 'col2']]|\n",
    "|select(df, col1:col3)|df.loc[:, 'col1':'col3']|\n",
    "|select(df, -(col1:col3))|df.drop(cols_to_drop, axis=1) but see |\n",
    "|distinct(select(df, col1))|df[['col1']].drop_duplicates()|\n",
    "|distinct(select(df, col1, col2))|df[['col1', 'col2']].drop_duplicates()|\n",
    "|sample_n(df, 10)|df.sample(n=10)|\n",
    "|sample_frac(df, 0.01)|df.sample(frac=0.01)|\n",
    "<a id='select-range'></a>\n",
    "**[1]** R’s shorthand for a subrange of columns\n",
    "(`select(df, col1:col3)`) can be approached\n",
    "cleanly in pandas, if you have the list of columns,\n",
    "for example `df[cols[1:3]]` or\n",
    "`df.drop(cols[1:3])`, but doing this by column\n",
    "name is a bit messy."
   ]
  },
  {
   "cell_type": "markdown",
   "metadata": {},
   "source": [
    "### Sorting\n",
    "\n",
    "````````|R|pandas|\n",
    "|:-----------------------------------------:|:-----------------------------------------:|\n",
    "|arrange(df, col1, col2)|df.sort_values(['col1', 'col2'])|\n",
    "|arrange(df, desc(col1))|df.sort_values('col1', ascending=False)|"
   ]
  },
  {
   "cell_type": "markdown",
   "metadata": {},
   "source": [
    "### Transforming\n",
    "\n",
    "````````````|R|pandas|\n",
    "|:-----------------------------------------:|:---------------------------------------------------:|\n",
    "|select(df, col_one = col1)|df.rename(columns={'col1': 'col_one'})['col_one']|\n",
    "|rename(df, col_one = col1)|df.rename(columns={'col1': 'col_one'})|\n",
    "|mutate(df, c=a-b)|df.assign(c=df.a-df.b)|"
   ]
  },
  {
   "cell_type": "markdown",
   "metadata": {},
   "source": [
    "### Grouping and summarizing\n",
    "\n",
    "````````````````|R|pandas|\n",
    "|:--------------------------------------------:|:------------------------------------------:|\n",
    "|summary(df)|df.describe()|\n",
    "|gdf <- group_by(df, col1)|gdf = df.groupby('col1')|\n",
    "|summarise(gdf, avg=mean(col1, na.rm=TRUE))|df.groupby('col1').agg({'col1': 'mean'})|\n",
    "|summarise(gdf, total=sum(col1))|df.groupby('col1').sum()|"
   ]
  },
  {
   "cell_type": "markdown",
   "metadata": {},
   "source": [
    "## Base R"
   ]
  },
  {
   "cell_type": "markdown",
   "metadata": {},
   "source": [
    "### Slicing with R’s [`c`](http://stat.ethz.ch/R-manual/R-patched/library/base/html/c.html)\n",
    "\n",
    "R makes it easy to access `data.frame` columns by name"
   ]
  },
  {
   "cell_type": "markdown",
   "metadata": {
    "hide-output": false
   },
   "source": [
    "```r\n",
    "df <- data.frame(a=rnorm(5), b=rnorm(5), c=rnorm(5), d=rnorm(5), e=rnorm(5))\n",
    "df[, c(\"a\", \"c\", \"e\")]\n",
    "```\n"
   ]
  },
  {
   "cell_type": "markdown",
   "metadata": {},
   "source": [
    "or by integer location"
   ]
  },
  {
   "cell_type": "markdown",
   "metadata": {
    "hide-output": false
   },
   "source": [
    "```r\n",
    "df <- data.frame(matrix(rnorm(1000), ncol=100))\n",
    "df[, c(1:10, 25:30, 40, 50:100)]\n",
    "```\n"
   ]
  },
  {
   "cell_type": "markdown",
   "metadata": {},
   "source": [
    "Selecting multiple columns by name in `pandas` is straightforward"
   ]
  },
  {
   "cell_type": "code",
   "execution_count": null,
   "metadata": {
    "hide-output": false
   },
   "outputs": [],
   "source": [
    "df = pd.DataFrame(np.random.randn(10, 3), columns=list('abc'))\n",
    "df[['a', 'c']]\n",
    "df.loc[:, ['a', 'c']]"
   ]
  },
  {
   "cell_type": "markdown",
   "metadata": {},
   "source": [
    "Selecting multiple noncontiguous columns by integer location can be achieved\n",
    "with a combination of the `iloc` indexer attribute and `numpy.r_`."
   ]
  },
  {
   "cell_type": "code",
   "execution_count": null,
   "metadata": {
    "hide-output": false
   },
   "outputs": [],
   "source": [
    "named = list('abcdefg')\n",
    "n = 30\n",
    "columns = named + np.arange(len(named), n).tolist()\n",
    "df = pd.DataFrame(np.random.randn(n, n), columns=columns)\n",
    "\n",
    "df.iloc[:, np.r_[:10, 24:30]]"
   ]
  },
  {
   "cell_type": "markdown",
   "metadata": {},
   "source": [
    "### [`aggregate`](http://finzi.psych.upenn.edu/R/library/stats/html/aggregate.html)\n",
    "\n",
    "In R you may want to split data into subsets and compute the mean for each.\n",
    "Using a data.frame called `df` and splitting it into groups `by1` and\n",
    "`by2`:"
   ]
  },
  {
   "cell_type": "markdown",
   "metadata": {
    "hide-output": false
   },
   "source": [
    "```r\n",
    "df <- data.frame(\n",
    "  v1 = c(1,3,5,7,8,3,5,NA,4,5,7,9),\n",
    "  v2 = c(11,33,55,77,88,33,55,NA,44,55,77,99),\n",
    "  by1 = c(\"red\", \"blue\", 1, 2, NA, \"big\", 1, 2, \"red\", 1, NA, 12),\n",
    "  by2 = c(\"wet\", \"dry\", 99, 95, NA, \"damp\", 95, 99, \"red\", 99, NA, NA))\n",
    "aggregate(x=df[, c(\"v1\", \"v2\")], by=list(mydf2$by1, mydf2$by2), FUN = mean)\n",
    "```\n"
   ]
  },
  {
   "cell_type": "markdown",
   "metadata": {},
   "source": [
    "The `groupby()` method is similar to base R `aggregate`\n",
    "function."
   ]
  },
  {
   "cell_type": "code",
   "execution_count": null,
   "metadata": {
    "hide-output": false
   },
   "outputs": [],
   "source": [
    "df = pd.DataFrame(\n",
    "    {'v1': [1, 3, 5, 7, 8, 3, 5, np.nan, 4, 5, 7, 9],\n",
    "     'v2': [11, 33, 55, 77, 88, 33, 55, np.nan, 44, 55, 77, 99],\n",
    "     'by1': [\"red\", \"blue\", 1, 2, np.nan, \"big\", 1, 2, \"red\", 1, np.nan, 12],\n",
    "     'by2': [\"wet\", \"dry\", 99, 95, np.nan, \"damp\", 95, 99, \"red\", 99, np.nan,\n",
    "             np.nan]})\n",
    "\n",
    "g = df.groupby(['by1', 'by2'])\n",
    "g[['v1', 'v2']].mean()"
   ]
  },
  {
   "cell_type": "markdown",
   "metadata": {},
   "source": [
    "For more details and examples see [the groupby documentation](user_guide/groupby.ipynb#groupby-split)."
   ]
  },
  {
   "cell_type": "markdown",
   "metadata": {},
   "source": [
    "### [`match` / `%in%`](http://finzi.psych.upenn.edu/R/library/base/html/match.html)\n",
    "\n",
    "A common way to select data in R is using `%in%` which is defined using the\n",
    "function `match`. The operator `%in%` is used to return a logical vector\n",
    "indicating if there is a match or not:"
   ]
  },
  {
   "cell_type": "markdown",
   "metadata": {
    "hide-output": false
   },
   "source": [
    "```r\n",
    "s <- 0:4\n",
    "s %in% c(2,4)\n",
    "```\n"
   ]
  },
  {
   "cell_type": "markdown",
   "metadata": {},
   "source": [
    "The `isin()` method is similar to R `%in%` operator:"
   ]
  },
  {
   "cell_type": "code",
   "execution_count": null,
   "metadata": {
    "hide-output": false
   },
   "outputs": [],
   "source": [
    "s = pd.Series(np.arange(5), dtype=np.float32)\n",
    "s.isin([2, 4])"
   ]
  },
  {
   "cell_type": "markdown",
   "metadata": {},
   "source": [
    "The `match` function returns a vector of the positions of matches\n",
    "of its first argument in its second:"
   ]
  },
  {
   "cell_type": "markdown",
   "metadata": {
    "hide-output": false
   },
   "source": [
    "```r\n",
    "s <- 0:4\n",
    "match(s, c(2,4))\n",
    "```\n"
   ]
  },
  {
   "cell_type": "markdown",
   "metadata": {},
   "source": [
    "For more details and examples see [the reshaping documentation](user_guide/indexing.ipynb#indexing-basics-indexing-isin)."
   ]
  },
  {
   "cell_type": "markdown",
   "metadata": {},
   "source": [
    "### [`tapply`](http://finzi.psych.upenn.edu/R/library/base/html/tapply.html)\n",
    "\n",
    "`tapply` is similar to `aggregate`, but data can be in a ragged array,\n",
    "since the subclass sizes are possibly irregular. Using a data.frame called\n",
    "`baseball`, and retrieving information based on the array `team`:"
   ]
  },
  {
   "cell_type": "markdown",
   "metadata": {
    "hide-output": false
   },
   "source": [
    "```r\n",
    "baseball <-\n",
    "  data.frame(team = gl(5, 5,\n",
    "             labels = paste(\"Team\", LETTERS[1:5])),\n",
    "             player = sample(letters, 25),\n",
    "             batting.average = runif(25, .200, .400))\n",
    "\n",
    "tapply(baseball$batting.average, baseball.example$team,\n",
    "       max)\n",
    "```\n"
   ]
  },
  {
   "cell_type": "markdown",
   "metadata": {},
   "source": [
    "In `pandas` we may use `pivot_table()` method to handle this:"
   ]
  },
  {
   "cell_type": "code",
   "execution_count": null,
   "metadata": {
    "hide-output": false
   },
   "outputs": [],
   "source": [
    "import random\n",
    "import string\n",
    "\n",
    "baseball = pd.DataFrame(\n",
    "    {'team': [\"team %d\" % (x + 1) for x in range(5)] * 5,\n",
    "     'player': random.sample(list(string.ascii_lowercase), 25),\n",
    "     'batting avg': np.random.uniform(.200, .400, 25)})\n",
    "\n",
    "baseball.pivot_table(values='batting avg', columns='team', aggfunc=np.max)"
   ]
  },
  {
   "cell_type": "markdown",
   "metadata": {},
   "source": [
    "For more details and examples see [the reshaping documentation](user_guide/reshaping.ipynb#reshaping-pivot)."
   ]
  },
  {
   "cell_type": "markdown",
   "metadata": {},
   "source": [
    "### [`subset`](http://finzi.psych.upenn.edu/R/library/base/html/subset.html)\n",
    "\n",
    "The `query()` method is similar to the base R `subset`\n",
    "function. In R you might want to get the rows of a `data.frame` where one\n",
    "column’s values are less than another column’s values:"
   ]
  },
  {
   "cell_type": "markdown",
   "metadata": {
    "hide-output": false
   },
   "source": [
    "```r\n",
    "df <- data.frame(a=rnorm(10), b=rnorm(10))\n",
    "subset(df, a <= b)\n",
    "df[df$a <= df$b,]  # note the comma\n",
    "```\n"
   ]
  },
  {
   "cell_type": "markdown",
   "metadata": {},
   "source": [
    "In `pandas`, there are a few ways to perform subsetting. You can use\n",
    "`query()` or pass an expression as if it were an\n",
    "index/slice as well as standard boolean indexing:"
   ]
  },
  {
   "cell_type": "code",
   "execution_count": null,
   "metadata": {
    "hide-output": false
   },
   "outputs": [],
   "source": [
    "df = pd.DataFrame({'a': np.random.randn(10), 'b': np.random.randn(10)})\n",
    "df.query('a <= b')\n",
    "df[df.a <= df.b]\n",
    "df.loc[df.a <= df.b]"
   ]
  },
  {
   "cell_type": "markdown",
   "metadata": {},
   "source": [
    "For more details and examples see [the query documentation](user_guide/indexing.ipynb#indexing-query)."
   ]
  },
  {
   "cell_type": "markdown",
   "metadata": {},
   "source": [
    "### [`with`](http://finzi.psych.upenn.edu/R/library/base/html/with.html)\n",
    "\n",
    "An expression using a data.frame called `df` in R with the columns `a` and\n",
    "`b` would be evaluated using `with` like so:"
   ]
  },
  {
   "cell_type": "markdown",
   "metadata": {
    "hide-output": false
   },
   "source": [
    "```r\n",
    "df <- data.frame(a=rnorm(10), b=rnorm(10))\n",
    "with(df, a + b)\n",
    "df$a + df$b  # same as the previous expression\n",
    "```\n"
   ]
  },
  {
   "cell_type": "markdown",
   "metadata": {},
   "source": [
    "In `pandas` the equivalent expression, using the\n",
    "`eval()` method, would be:"
   ]
  },
  {
   "cell_type": "code",
   "execution_count": null,
   "metadata": {
    "hide-output": false
   },
   "outputs": [],
   "source": [
    "df = pd.DataFrame({'a': np.random.randn(10), 'b': np.random.randn(10)})\n",
    "df.eval('a + b')\n",
    "df.a + df.b  # same as the previous expression"
   ]
  },
  {
   "cell_type": "markdown",
   "metadata": {},
   "source": [
    "In certain cases `eval()` will be much faster than\n",
    "evaluation in pure Python. For more details and examples see [the eval\n",
    "documentation](user_guide/enhancingperf.ipynb#enhancingperf-eval)."
   ]
  },
  {
   "cell_type": "markdown",
   "metadata": {},
   "source": [
    "## plyr\n",
    "\n",
    "`plyr` is an R library for the split-apply-combine strategy for data\n",
    "analysis. The functions revolve around three data structures in R, `a`\n",
    "for `arrays`, `l` for `lists`, and `d` for `data.frame`. The\n",
    "table below shows how these data structures could be mapped in Python.\n",
    "\n",
    "|R|Python|\n",
    "|:----------:|:-----------------------------:|\n",
    "|array|list|\n",
    "|lists|dictionary or list of objects|\n",
    "|data.frame|dataframe|"
   ]
  },
  {
   "cell_type": "markdown",
   "metadata": {},
   "source": [
    "### [`ddply`](http://www.inside-r.org/packages/cran/plyr/docs/ddply)\n",
    "\n",
    "An expression using a data.frame called `df` in R where you want to\n",
    "summarize `x` by `month`:"
   ]
  },
  {
   "cell_type": "markdown",
   "metadata": {
    "hide-output": false
   },
   "source": [
    "```r\n",
    "require(plyr)\n",
    "df <- data.frame(\n",
    "  x = runif(120, 1, 168),\n",
    "  y = runif(120, 7, 334),\n",
    "  z = runif(120, 1.7, 20.7),\n",
    "  month = rep(c(5,6,7,8),30),\n",
    "  week = sample(1:4, 120, TRUE)\n",
    ")\n",
    "\n",
    "ddply(df, .(month, week), summarize,\n",
    "      mean = round(mean(x), 2),\n",
    "      sd = round(sd(x), 2))\n",
    "```\n"
   ]
  },
  {
   "cell_type": "markdown",
   "metadata": {},
   "source": [
    "In `pandas` the equivalent expression, using the\n",
    "`groupby()` method, would be:"
   ]
  },
  {
   "cell_type": "code",
   "execution_count": null,
   "metadata": {
    "hide-output": false
   },
   "outputs": [],
   "source": [
    "df = pd.DataFrame({'x': np.random.uniform(1., 168., 120),\n",
    "                   'y': np.random.uniform(7., 334., 120),\n",
    "                   'z': np.random.uniform(1.7, 20.7, 120),\n",
    "                   'month': [5, 6, 7, 8] * 30,\n",
    "                   'week': np.random.randint(1, 4, 120)})\n",
    "\n",
    "grouped = df.groupby(['month', 'week'])\n",
    "grouped['x'].agg([np.mean, np.std])"
   ]
  },
  {
   "cell_type": "markdown",
   "metadata": {},
   "source": [
    "For more details and examples see [the groupby documentation](user_guide/groupby.ipynb#groupby-aggregate)."
   ]
  },
  {
   "cell_type": "markdown",
   "metadata": {},
   "source": [
    "## reshape / reshape2"
   ]
  },
  {
   "cell_type": "markdown",
   "metadata": {},
   "source": [
    "### [`melt.array`](http://www.inside-r.org/packages/cran/reshape2/docs/melt.array)\n",
    "\n",
    "An expression using a 3 dimensional array called `a` in R where you want to\n",
    "melt it into a data.frame:"
   ]
  },
  {
   "cell_type": "markdown",
   "metadata": {
    "hide-output": false
   },
   "source": [
    "```r\n",
    "a <- array(c(1:23, NA), c(2,3,4))\n",
    "data.frame(melt(a))\n",
    "```\n"
   ]
  },
  {
   "cell_type": "markdown",
   "metadata": {},
   "source": [
    "In Python, since `a` is a list, you can simply use list comprehension."
   ]
  },
  {
   "cell_type": "code",
   "execution_count": null,
   "metadata": {
    "hide-output": false
   },
   "outputs": [],
   "source": [
    "a = np.array(list(range(1, 24)) + [np.NAN]).reshape(2, 3, 4)\n",
    "pd.DataFrame([tuple(list(x) + [val]) for x, val in np.ndenumerate(a)])"
   ]
  },
  {
   "cell_type": "markdown",
   "metadata": {},
   "source": [
    "### [`melt.list`](#meltlist)\n",
    "\n",
    "An expression using a list called `a` in R where you want to melt it\n",
    "into a data.frame:"
   ]
  },
  {
   "cell_type": "markdown",
   "metadata": {
    "hide-output": false
   },
   "source": [
    "```r\n",
    "a <- as.list(c(1:4, NA))\n",
    "data.frame(melt(a))\n",
    "```\n"
   ]
  },
  {
   "cell_type": "markdown",
   "metadata": {},
   "source": [
    "In Python, this list would be a list of tuples, so\n",
    "`DataFrame()` method would convert it to a dataframe as required."
   ]
  },
  {
   "cell_type": "code",
   "execution_count": null,
   "metadata": {
    "hide-output": false
   },
   "outputs": [],
   "source": [
    "a = list(enumerate(list(range(1, 5)) + [np.NAN]))\n",
    "pd.DataFrame(a)"
   ]
  },
  {
   "cell_type": "markdown",
   "metadata": {},
   "source": [
    "For more details and examples see [the Into to Data Structures\n",
    "documentation](dsintro.ipynb#dsintro)."
   ]
  },
  {
   "cell_type": "markdown",
   "metadata": {},
   "source": [
    "### [`melt.data.frame`](#meltdf)\n",
    "\n",
    "An expression using a data.frame called `cheese` in R where you want to\n",
    "reshape the data.frame:"
   ]
  },
  {
   "cell_type": "markdown",
   "metadata": {
    "hide-output": false
   },
   "source": [
    "```r\n",
    "cheese <- data.frame(\n",
    "  first = c('John', 'Mary'),\n",
    "  last = c('Doe', 'Bo'),\n",
    "  height = c(5.5, 6.0),\n",
    "  weight = c(130, 150)\n",
    ")\n",
    "melt(cheese, id=c(\"first\", \"last\"))\n",
    "```\n"
   ]
  },
  {
   "cell_type": "markdown",
   "metadata": {},
   "source": [
    "In Python, the `melt()` method is the R equivalent:"
   ]
  },
  {
   "cell_type": "code",
   "execution_count": null,
   "metadata": {
    "hide-output": false
   },
   "outputs": [],
   "source": [
    "cheese = pd.DataFrame({'first': ['John', 'Mary'],\n",
    "                       'last': ['Doe', 'Bo'],\n",
    "                       'height': [5.5, 6.0],\n",
    "                       'weight': [130, 150]})\n",
    "\n",
    "pd.melt(cheese, id_vars=['first', 'last'])\n",
    "cheese.set_index(['first', 'last']).stack()  # alternative way"
   ]
  },
  {
   "cell_type": "markdown",
   "metadata": {},
   "source": [
    "For more details and examples see [the reshaping documentation](user_guide/reshaping.ipynb#reshaping-melt)."
   ]
  },
  {
   "cell_type": "markdown",
   "metadata": {},
   "source": [
    "### [`cast`](#cast)\n",
    "\n",
    "In R `acast` is an expression using a data.frame called `df` in R to cast\n",
    "into a higher dimensional array:"
   ]
  },
  {
   "cell_type": "markdown",
   "metadata": {
    "hide-output": false
   },
   "source": [
    "```r\n",
    "df <- data.frame(\n",
    "  x = runif(12, 1, 168),\n",
    "  y = runif(12, 7, 334),\n",
    "  z = runif(12, 1.7, 20.7),\n",
    "  month = rep(c(5,6,7),4),\n",
    "  week = rep(c(1,2), 6)\n",
    ")\n",
    "\n",
    "mdf <- melt(df, id=c(\"month\", \"week\"))\n",
    "acast(mdf, week ~ month ~ variable, mean)\n",
    "```\n"
   ]
  },
  {
   "cell_type": "markdown",
   "metadata": {},
   "source": [
    "In Python the best way is to make use of `pivot_table()`:"
   ]
  },
  {
   "cell_type": "code",
   "execution_count": null,
   "metadata": {
    "hide-output": false
   },
   "outputs": [],
   "source": [
    "df = pd.DataFrame({'x': np.random.uniform(1., 168., 12),\n",
    "                   'y': np.random.uniform(7., 334., 12),\n",
    "                   'z': np.random.uniform(1.7, 20.7, 12),\n",
    "                   'month': [5, 6, 7] * 4,\n",
    "                   'week': [1, 2] * 6})\n",
    "\n",
    "mdf = pd.melt(df, id_vars=['month', 'week'])\n",
    "pd.pivot_table(mdf, values='value', index=['variable', 'week'],\n",
    "               columns=['month'], aggfunc=np.mean)"
   ]
  },
  {
   "cell_type": "markdown",
   "metadata": {},
   "source": [
    "Similarly for `dcast` which uses a data.frame called `df` in R to\n",
    "aggregate information based on `Animal` and `FeedType`:"
   ]
  },
  {
   "cell_type": "markdown",
   "metadata": {
    "hide-output": false
   },
   "source": [
    "```r\n",
    "df <- data.frame(\n",
    "  Animal = c('Animal1', 'Animal2', 'Animal3', 'Animal2', 'Animal1',\n",
    "             'Animal2', 'Animal3'),\n",
    "  FeedType = c('A', 'B', 'A', 'A', 'B', 'B', 'A'),\n",
    "  Amount = c(10, 7, 4, 2, 5, 6, 2)\n",
    ")\n",
    "\n",
    "dcast(df, Animal ~ FeedType, sum, fill=NaN)\n",
    "# Alternative method using base R\n",
    "with(df, tapply(Amount, list(Animal, FeedType), sum))\n",
    "```\n"
   ]
  },
  {
   "cell_type": "markdown",
   "metadata": {},
   "source": [
    "Python can approach this in two different ways. Firstly, similar to above\n",
    "using `pivot_table()`:"
   ]
  },
  {
   "cell_type": "code",
   "execution_count": null,
   "metadata": {
    "hide-output": false
   },
   "outputs": [],
   "source": [
    "df = pd.DataFrame({\n",
    "    'Animal': ['Animal1', 'Animal2', 'Animal3', 'Animal2', 'Animal1',\n",
    "               'Animal2', 'Animal3'],\n",
    "    'FeedType': ['A', 'B', 'A', 'A', 'B', 'B', 'A'],\n",
    "    'Amount': [10, 7, 4, 2, 5, 6, 2],\n",
    "})\n",
    "\n",
    "df.pivot_table(values='Amount', index='Animal', columns='FeedType',\n",
    "               aggfunc='sum')"
   ]
  },
  {
   "cell_type": "markdown",
   "metadata": {},
   "source": [
    "The second approach is to use the `groupby()` method:"
   ]
  },
  {
   "cell_type": "code",
   "execution_count": null,
   "metadata": {
    "hide-output": false
   },
   "outputs": [],
   "source": [
    "df.groupby(['Animal', 'FeedType'])['Amount'].sum()"
   ]
  },
  {
   "cell_type": "markdown",
   "metadata": {},
   "source": [
    "For more details and examples see [the reshaping documentation](user_guide/reshaping.ipynb#reshaping-pivot) or [the groupby documentation](user_guide/groupby.ipynb#groupby-split)."
   ]
  },
  {
   "cell_type": "markdown",
   "metadata": {},
   "source": [
    "### [`factor`](https://stat.ethz.ch/R-manual/R-devel/library/base/html/factor.html)\n",
    "\n",
    "pandas has a data type for categorical data."
   ]
  },
  {
   "cell_type": "markdown",
   "metadata": {
    "hide-output": false
   },
   "source": [
    "```r\n",
    "cut(c(1,2,3,4,5,6), 3)\n",
    "factor(c(1,2,3,2,2,3))\n",
    "```\n"
   ]
  },
  {
   "cell_type": "markdown",
   "metadata": {},
   "source": [
    "In pandas this is accomplished with `pd.cut` and `astype(\"category\")`:"
   ]
  },
  {
   "cell_type": "code",
   "execution_count": null,
   "metadata": {
    "hide-output": false
   },
   "outputs": [],
   "source": [
    "pd.cut(pd.Series([1, 2, 3, 4, 5, 6]), 3)\n",
    "pd.Series([1, 2, 3, 2, 2, 3]).astype(\"category\")"
   ]
  },
  {
   "cell_type": "markdown",
   "metadata": {},
   "source": [
    "For more details and examples see [categorical introduction](user_guide/categorical.ipynb#categorical) and the\n",
    "API documentation. There is also a documentation regarding the\n",
    "[differences to R’s factor](user_guide/categorical.ipynb#categorical-rfactor)."
   ]
  }
 ],
 "metadata": {
  "filename": "comparison_with_r.rst",
  "kernelspec": {
   "display_name": "Python",
   "language": "python3",
   "name": "python3"
  },
  "title": "Comparison with R / R libraries"
 },
 "nbformat": 4,
 "nbformat_minor": 2
}