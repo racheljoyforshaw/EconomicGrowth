{
 "cells": [
  {
   "cell_type": "markdown",
   "metadata": {},
   "source": [
    "{{ header }}\n",
    "\n",
    "\n",
    "<a id='comparison'></a>"
   ]
  },
  {
   "cell_type": "markdown",
   "metadata": {},
   "source": [
    "# Comparison with other tools\n",
    "\n",
    "- [Comparison with R / R libraries](comparison_with_r.ipynb)\n",
    "  - [Quick reference](comparison_with_r.ipynb#quick-reference)\n",
    "  - [Base R](comparison_with_r.ipynb#base-r)\n",
    "  - [plyr](comparison_with_r.ipynb#plyr)\n",
    "  - [reshape / reshape2](comparison_with_r.ipynb#reshape-reshape2)\n",
    "- [Comparison with SQL](comparison_with_sql.ipynb)\n",
    "  - [SELECT](comparison_with_sql.ipynb#select)\n",
    "  - [WHERE](comparison_with_sql.ipynb#where)\n",
    "  - [GROUP BY](comparison_with_sql.ipynb#group-by)\n",
    "  - [JOIN](comparison_with_sql.ipynb#join)\n",
    "  - [UNION](comparison_with_sql.ipynb#union)\n",
    "  - [Pandas equivalents for some SQL analytic and aggregate functions](comparison_with_sql.ipynb#pandas-equivalents-for-some-sql-analytic-and-aggregate-functions)\n",
    "  - [UPDATE](comparison_with_sql.ipynb#update)\n",
    "  - [DELETE](comparison_with_sql.ipynb#delete)\n",
    "- [Comparison with SAS](comparison_with_sas.ipynb)\n",
    "  - [Data structures](comparison_with_sas.ipynb#data-structures)\n",
    "  - [Data input / output](comparison_with_sas.ipynb#data-input-output)\n",
    "  - [Data operations](comparison_with_sas.ipynb#data-operations)\n",
    "  - [String processing](comparison_with_sas.ipynb#string-processing)\n",
    "  - [Merging](comparison_with_sas.ipynb#merging)\n",
    "  - [Missing data](comparison_with_sas.ipynb#missing-data)\n",
    "  - [GroupBy](comparison_with_sas.ipynb#groupby)\n",
    "  - [Other Considerations](comparison_with_sas.ipynb#other-considerations)\n",
    "- [Comparison with Stata](comparison_with_stata.ipynb)\n",
    "  - [Data structures](comparison_with_stata.ipynb#data-structures)\n",
    "  - [Data input / output](comparison_with_stata.ipynb#data-input-output)\n",
    "  - [Data operations](comparison_with_stata.ipynb#data-operations)\n",
    "  - [String processing](comparison_with_stata.ipynb#string-processing)\n",
    "  - [Merging](comparison_with_stata.ipynb#merging)\n",
    "  - [Missing data](comparison_with_stata.ipynb#missing-data)\n",
    "  - [GroupBy](comparison_with_stata.ipynb#groupby)\n",
    "  - [Other considerations](comparison_with_stata.ipynb#other-considerations)"
   ]
  }
 ],
 "metadata": {
  "filename": "index.rst",
  "kernelspec": {
   "display_name": "Python",
   "language": "python3",
   "name": "python3"
  },
  "title": "Comparison with other tools"
 },
 "nbformat": 4,
 "nbformat_minor": 2
}