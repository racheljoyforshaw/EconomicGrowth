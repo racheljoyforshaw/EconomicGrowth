{
 "cells": [
  {
   "cell_type": "markdown",
   "metadata": {},
   "source": [
    "\n",
    "<a id='dsintro'></a>\n",
    "{{ header }}"
   ]
  },
  {
   "cell_type": "markdown",
   "metadata": {},
   "source": [
    "# Intro to data structures\n",
    "\n",
    "We’ll start with a quick, non-comprehensive overview of the fundamental data\n",
    "structures in pandas to get you started. The fundamental behavior about data\n",
    "types, indexing, and axis labeling / alignment apply across all of the\n",
    "objects. To get started, import NumPy and load pandas into your namespace:"
   ]
  },
  {
   "cell_type": "code",
   "execution_count": null,
   "metadata": {
    "hide-output": false
   },
   "outputs": [],
   "source": [
    "import numpy as np\n",
    "import pandas as pd"
   ]
  },
  {
   "cell_type": "markdown",
   "metadata": {},
   "source": [
    "Here is a basic tenet to keep in mind: **data alignment is intrinsic**. The link\n",
    "between labels and data will not be broken unless done so explicitly by you.\n",
    "\n",
    "We’ll give a brief intro to the data structures, then consider all of the broad\n",
    "categories of functionality and methods in separate sections.\n",
    "\n",
    "\n",
    "<a id='basics-series'></a>"
   ]
  },
  {
   "cell_type": "markdown",
   "metadata": {},
   "source": [
    "## Series\n",
    "\n",
    "`Series` is a one-dimensional labeled array capable of holding any data\n",
    "type (integers, strings, floating point numbers, Python objects, etc.). The axis\n",
    "labels are collectively referred to as the **index**. The basic method to create a Series is to call:"
   ]
  },
  {
   "cell_type": "code",
   "execution_count": null,
   "metadata": {
    "hide-output": false
   },
   "outputs": [],
   "source": [
    ">>> s = pd.Series(data, index=index)"
   ]
  },
  {
   "cell_type": "markdown",
   "metadata": {},
   "source": [
    "Here, `data` can be many different things:\n",
    "\n",
    "- a Python dict  \n",
    "- an ndarray  \n",
    "- a scalar value (like 5)  \n",
    "\n",
    "\n",
    "The passed **index** is a list of axis labels. Thus, this separates into a few\n",
    "cases depending on what **data is**:\n",
    "\n",
    "**From ndarray**\n",
    "\n",
    "If `data` is an ndarray, **index** must be the same length as **data**. If no\n",
    "index is passed, one will be created having values `[0, ..., len(data) - 1]`."
   ]
  },
  {
   "cell_type": "code",
   "execution_count": null,
   "metadata": {
    "hide-output": false
   },
   "outputs": [],
   "source": [
    "s = pd.Series(np.random.randn(5), index=['a', 'b', 'c', 'd', 'e'])\n",
    "s\n",
    "s.index\n",
    "\n",
    "pd.Series(np.random.randn(5))"
   ]
  },
  {
   "cell_type": "markdown",
   "metadata": {},
   "source": [
    ">**Note**\n",
    ">\n",
    ">pandas supports non-unique index values. If an operation\n",
    "that does not support duplicate index values is attempted, an exception\n",
    "will be raised at that time. The reason for being lazy is nearly all performance-based\n",
    "(there are many instances in computations, like parts of GroupBy, where the index\n",
    "is not used).\n",
    "\n",
    "**From dict**\n",
    "\n",
    "Series can be instantiated from dicts:"
   ]
  },
  {
   "cell_type": "code",
   "execution_count": null,
   "metadata": {
    "hide-output": false
   },
   "outputs": [],
   "source": [
    "d = {'b': 1, 'a': 0, 'c': 2}\n",
    "pd.Series(d)"
   ]
  },
  {
   "cell_type": "markdown",
   "metadata": {},
   "source": [
    ">**Note**\n",
    ">\n",
    ">When the data is a dict, and an index is not passed, the `Series` index\n",
    "will be ordered by the dict’s insertion order, if you’re using Python\n",
    "version >= 3.6 and Pandas version >= 0.23.\n",
    "\n",
    "If you’re using Python < 3.6 or Pandas < 0.23, and an index is not passed,\n",
    "the `Series` index will be the lexically ordered list of dict keys.\n",
    "\n",
    "In the example above, if you were on a Python version lower than 3.6 or a\n",
    "Pandas version lower than 0.23, the `Series` would be ordered by the lexical\n",
    "order of the dict keys (i.e. `['a', 'b', 'c']` rather than `['b', 'a', 'c']`).\n",
    "\n",
    "If an index is passed, the values in data corresponding to the labels in the\n",
    "index will be pulled out."
   ]
  },
  {
   "cell_type": "code",
   "execution_count": null,
   "metadata": {
    "hide-output": false
   },
   "outputs": [],
   "source": [
    "d = {'a': 0., 'b': 1., 'c': 2.}\n",
    "pd.Series(d)\n",
    "pd.Series(d, index=['b', 'c', 'd', 'a'])"
   ]
  },
  {
   "cell_type": "markdown",
   "metadata": {},
   "source": [
    ">**Note**\n",
    ">\n",
    ">NaN (not a number) is the standard missing data marker used in pandas.\n",
    "\n",
    "**From scalar value**\n",
    "\n",
    "If `data` is a scalar value, an index must be\n",
    "provided. The value will be repeated to match the length of **index**."
   ]
  },
  {
   "cell_type": "code",
   "execution_count": null,
   "metadata": {
    "hide-output": false
   },
   "outputs": [],
   "source": [
    "pd.Series(5., index=['a', 'b', 'c', 'd', 'e'])"
   ]
  },
  {
   "cell_type": "markdown",
   "metadata": {},
   "source": [
    "### Series is ndarray-like\n",
    "\n",
    "`Series` acts very similarly to a `ndarray`, and is a valid argument to most NumPy functions.\n",
    "However, operations such as slicing will also slice the index."
   ]
  },
  {
   "cell_type": "code",
   "execution_count": null,
   "metadata": {
    "hide-output": false
   },
   "outputs": [],
   "source": [
    "s[0]\n",
    "s[:3]\n",
    "s[s > s.median()]\n",
    "s[[4, 3, 1]]\n",
    "np.exp(s)"
   ]
  },
  {
   "cell_type": "markdown",
   "metadata": {},
   "source": [
    ">**Note**\n",
    ">\n",
    ">We will address array-based indexing like `s[[4, 3, 1]]`\n",
    "in [section](user_guide/indexing.ipynb#indexing).\n",
    "\n",
    "Like a NumPy array, a pandas Series has a `dtype`."
   ]
  },
  {
   "cell_type": "code",
   "execution_count": null,
   "metadata": {
    "hide-output": false
   },
   "outputs": [],
   "source": [
    "s.dtype"
   ]
  },
  {
   "cell_type": "markdown",
   "metadata": {},
   "source": [
    "This is often a NumPy dtype. However, pandas and 3rd-party libraries\n",
    "extend NumPy’s type system in a few places, in which case the dtype would\n",
    "be a `ExtensionDtype`. Some examples within\n",
    "pandas are categorical and [Nullable integer data type](user_guide/integer_na.ipynb#integer-na). See [dtypes](basics.ipynb#basics-dtypes)\n",
    "for more.\n",
    "\n",
    "If you need the actual array backing a `Series`, use `Series.array`."
   ]
  },
  {
   "cell_type": "code",
   "execution_count": null,
   "metadata": {
    "hide-output": false
   },
   "outputs": [],
   "source": [
    "s.array"
   ]
  },
  {
   "cell_type": "markdown",
   "metadata": {},
   "source": [
    "Accessing the array can be useful when you need to do some operation without the\n",
    "index (to disable [automatic alignment](#dsintro-alignment), for example).\n",
    "\n",
    "`Series.array` will always be an `ExtensionArray`.\n",
    "Briefly, an ExtensionArray is a thin wrapper around one or more *concrete* arrays like a\n",
    "[`numpy.ndarray`](https://docs.scipy.org/doc/numpy/reference/generated/numpy.ndarray.html#numpy.ndarray). Pandas knows how to take an `ExtensionArray` and\n",
    "store it in a `Series` or a column of a `DataFrame`.\n",
    "See [dtypes](basics.ipynb#basics-dtypes) for more.\n",
    "\n",
    "While Series is ndarray-like, if you need an *actual* ndarray, then use\n",
    "`Series.to_numpy()`."
   ]
  },
  {
   "cell_type": "code",
   "execution_count": null,
   "metadata": {
    "hide-output": false
   },
   "outputs": [],
   "source": [
    "s.to_numpy()"
   ]
  },
  {
   "cell_type": "markdown",
   "metadata": {},
   "source": [
    "Even if the Series is backed by a `ExtensionArray`,\n",
    "`Series.to_numpy()` will return a NumPy ndarray."
   ]
  },
  {
   "cell_type": "markdown",
   "metadata": {},
   "source": [
    "### Series is dict-like\n",
    "\n",
    "A Series is like a fixed-size dict in that you can get and set values by index\n",
    "label:"
   ]
  },
  {
   "cell_type": "code",
   "execution_count": null,
   "metadata": {
    "hide-output": false
   },
   "outputs": [],
   "source": [
    "s['a']\n",
    "s['e'] = 12.\n",
    "s\n",
    "'e' in s\n",
    "'f' in s"
   ]
  },
  {
   "cell_type": "markdown",
   "metadata": {},
   "source": [
    "If a label is not contained, an exception is raised:"
   ]
  },
  {
   "cell_type": "code",
   "execution_count": null,
   "metadata": {
    "hide-output": false
   },
   "outputs": [],
   "source": [
    ">>> s['f']\n",
    "KeyError: 'f'"
   ]
  },
  {
   "cell_type": "markdown",
   "metadata": {},
   "source": [
    "Using the `get` method, a missing label will return None or specified default:"
   ]
  },
  {
   "cell_type": "code",
   "execution_count": null,
   "metadata": {
    "hide-output": false
   },
   "outputs": [],
   "source": [
    "s.get('f')\n",
    "\n",
    "s.get('f', np.nan)"
   ]
  },
  {
   "cell_type": "markdown",
   "metadata": {},
   "source": [
    "See also the [section on attribute access](user_guide/indexing.ipynb#indexing-attribute-access)."
   ]
  },
  {
   "cell_type": "markdown",
   "metadata": {},
   "source": [
    "### Vectorized operations and label alignment with Series\n",
    "\n",
    "When working with raw NumPy arrays, looping through value-by-value is usually\n",
    "not necessary. The same is true when working with Series in pandas.\n",
    "Series can also be passed into most NumPy methods expecting an ndarray."
   ]
  },
  {
   "cell_type": "code",
   "execution_count": null,
   "metadata": {
    "hide-output": false
   },
   "outputs": [],
   "source": [
    "s + s\n",
    "s * 2\n",
    "np.exp(s)"
   ]
  },
  {
   "cell_type": "markdown",
   "metadata": {},
   "source": [
    "A key difference between Series and ndarray is that operations between Series\n",
    "automatically align the data based on label. Thus, you can write computations\n",
    "without giving consideration to whether the Series involved have the same\n",
    "labels."
   ]
  },
  {
   "cell_type": "code",
   "execution_count": null,
   "metadata": {
    "hide-output": false
   },
   "outputs": [],
   "source": [
    "s[1:] + s[:-1]"
   ]
  },
  {
   "cell_type": "markdown",
   "metadata": {},
   "source": [
    "The result of an operation between unaligned Series will have the **union** of\n",
    "the indexes involved. If a label is not found in one Series or the other, the\n",
    "result will be marked as missing `NaN`. Being able to write code without doing\n",
    "any explicit data alignment grants immense freedom and flexibility in\n",
    "interactive data analysis and research. The integrated data alignment features\n",
    "of the pandas data structures set pandas apart from the majority of related\n",
    "tools for working with labeled data.\n",
    "\n",
    ">**Note**\n",
    ">\n",
    ">In general, we chose to make the default result of operations between\n",
    "differently indexed objects yield the **union** of the indexes in order to\n",
    "avoid loss of information. Having an index label, though the data is\n",
    "missing, is typically important information as part of a computation. You\n",
    "of course have the option of dropping labels with missing data via the\n",
    "**dropna** function."
   ]
  },
  {
   "cell_type": "markdown",
   "metadata": {},
   "source": [
    "### Name attribute\n",
    "\n",
    "\n",
    "<a id='dsintro-name-attribute'></a>\n",
    "Series can also have a `name` attribute:"
   ]
  },
  {
   "cell_type": "code",
   "execution_count": null,
   "metadata": {
    "hide-output": false
   },
   "outputs": [],
   "source": [
    "s = pd.Series(np.random.randn(5), name='something')\n",
    "s\n",
    "s.name"
   ]
  },
  {
   "cell_type": "markdown",
   "metadata": {},
   "source": [
    "The Series `name` will be assigned automatically in many cases, in particular\n",
    "when taking 1D slices of DataFrame as you will see below.\n",
    "\n",
    "New in version 0.18.0.\n",
    "\n",
    "You can rename a Series with the `pandas.Series.rename()` method."
   ]
  },
  {
   "cell_type": "code",
   "execution_count": null,
   "metadata": {
    "hide-output": false
   },
   "outputs": [],
   "source": [
    "s2 = s.rename(\"different\")\n",
    "s2.name"
   ]
  },
  {
   "cell_type": "markdown",
   "metadata": {},
   "source": [
    "Note that `s` and `s2` refer to different objects.\n",
    "\n",
    "\n",
    "<a id='basics-dataframe'></a>"
   ]
  },
  {
   "cell_type": "markdown",
   "metadata": {},
   "source": [
    "## DataFrame\n",
    "\n",
    "**DataFrame** is a 2-dimensional labeled data structure with columns of\n",
    "potentially different types. You can think of it like a spreadsheet or SQL\n",
    "table, or a dict of Series objects. It is generally the most commonly used\n",
    "pandas object. Like Series, DataFrame accepts many different kinds of input:\n",
    "\n",
    "- Dict of 1D ndarrays, lists, dicts, or Series  \n",
    "- 2-D numpy.ndarray  \n",
    "- [Structured or record](https://docs.scipy.org/doc/numpy/user/basics.rec.html) ndarray  \n",
    "- A `Series`  \n",
    "- Another `DataFrame`  \n",
    "\n",
    "\n",
    "Along with the data, you can optionally pass **index** (row labels) and\n",
    "**columns** (column labels) arguments. If you pass an index and / or columns,\n",
    "you are guaranteeing the index and / or columns of the resulting\n",
    "DataFrame. Thus, a dict of Series plus a specific index will discard all data\n",
    "not matching up to the passed index.\n",
    "\n",
    "If axis labels are not passed, they will be constructed from the input data\n",
    "based on common sense rules.\n",
    "\n",
    ">**Note**\n",
    ">\n",
    ">When the data is a dict, and `columns` is not specified, the `DataFrame`\n",
    "columns will be ordered by the dict’s insertion order, if you are using\n",
    "Python version >= 3.6 and Pandas >= 0.23.\n",
    "\n",
    "If you are using Python < 3.6 or Pandas < 0.23, and `columns` is not\n",
    "specified, the `DataFrame` columns will be the lexically ordered list of dict\n",
    "keys."
   ]
  },
  {
   "cell_type": "markdown",
   "metadata": {},
   "source": [
    "### From dict of Series or dicts\n",
    "\n",
    "The resulting **index** will be the **union** of the indexes of the various\n",
    "Series. If there are any nested dicts, these will first be converted to\n",
    "Series. If no columns are passed, the columns will be the ordered list of dict\n",
    "keys."
   ]
  },
  {
   "cell_type": "code",
   "execution_count": null,
   "metadata": {
    "hide-output": false
   },
   "outputs": [],
   "source": [
    "d = {'one': pd.Series([1., 2., 3.], index=['a', 'b', 'c']),\n",
    "     'two': pd.Series([1., 2., 3., 4.], index=['a', 'b', 'c', 'd'])}\n",
    "df = pd.DataFrame(d)\n",
    "df\n",
    "\n",
    "pd.DataFrame(d, index=['d', 'b', 'a'])\n",
    "pd.DataFrame(d, index=['d', 'b', 'a'], columns=['two', 'three'])"
   ]
  },
  {
   "cell_type": "markdown",
   "metadata": {},
   "source": [
    "The row and column labels can be accessed respectively by accessing the\n",
    "**index** and **columns** attributes:\n",
    "\n",
    ">**Note**\n",
    ">\n",
    ">When a particular set of columns is passed along with a dict of data, the\n",
    "passed columns override the keys in the dict."
   ]
  },
  {
   "cell_type": "code",
   "execution_count": null,
   "metadata": {
    "hide-output": false
   },
   "outputs": [],
   "source": [
    "df.index\n",
    "df.columns"
   ]
  },
  {
   "cell_type": "markdown",
   "metadata": {},
   "source": [
    "### From dict of ndarrays / lists\n",
    "\n",
    "The ndarrays must all be the same length. If an index is passed, it must\n",
    "clearly also be the same length as the arrays. If no index is passed, the\n",
    "result will be `range(n)`, where `n` is the array length."
   ]
  },
  {
   "cell_type": "code",
   "execution_count": null,
   "metadata": {
    "hide-output": false
   },
   "outputs": [],
   "source": [
    "d = {'one': [1., 2., 3., 4.],\n",
    "     'two': [4., 3., 2., 1.]}\n",
    "pd.DataFrame(d)\n",
    "pd.DataFrame(d, index=['a', 'b', 'c', 'd'])"
   ]
  },
  {
   "cell_type": "markdown",
   "metadata": {},
   "source": [
    "### From structured or record array\n",
    "\n",
    "This case is handled identically to a dict of arrays."
   ]
  },
  {
   "cell_type": "code",
   "execution_count": null,
   "metadata": {
    "hide-output": false
   },
   "outputs": [],
   "source": [
    "data = np.zeros((2, ), dtype=[('A', 'i4'), ('B', 'f4'), ('C', 'a10')])\n",
    "data[:] = [(1, 2., 'Hello'), (2, 3., \"World\")]\n",
    "\n",
    "pd.DataFrame(data)\n",
    "pd.DataFrame(data, index=['first', 'second'])\n",
    "pd.DataFrame(data, columns=['C', 'A', 'B'])"
   ]
  },
  {
   "cell_type": "markdown",
   "metadata": {},
   "source": [
    ">**Note**\n",
    ">\n",
    ">DataFrame is not intended to work exactly like a 2-dimensional NumPy\n",
    "ndarray.\n",
    "\n",
    "\n",
    "<a id='basics-dataframe-from-list-of-dicts'></a>"
   ]
  },
  {
   "cell_type": "markdown",
   "metadata": {},
   "source": [
    "### From a list of dicts"
   ]
  },
  {
   "cell_type": "code",
   "execution_count": null,
   "metadata": {
    "hide-output": false
   },
   "outputs": [],
   "source": [
    "data2 = [{'a': 1, 'b': 2}, {'a': 5, 'b': 10, 'c': 20}]\n",
    "pd.DataFrame(data2)\n",
    "pd.DataFrame(data2, index=['first', 'second'])\n",
    "pd.DataFrame(data2, columns=['a', 'b'])"
   ]
  },
  {
   "cell_type": "markdown",
   "metadata": {},
   "source": [
    "\n",
    "<a id='basics-dataframe-from-dict-of-tuples'></a>"
   ]
  },
  {
   "cell_type": "markdown",
   "metadata": {},
   "source": [
    "### From a dict of tuples\n",
    "\n",
    "You can automatically create a MultiIndexed frame by passing a tuples\n",
    "dictionary."
   ]
  },
  {
   "cell_type": "code",
   "execution_count": null,
   "metadata": {
    "hide-output": false
   },
   "outputs": [],
   "source": [
    "pd.DataFrame({('a', 'b'): {('A', 'B'): 1, ('A', 'C'): 2},\n",
    "              ('a', 'a'): {('A', 'C'): 3, ('A', 'B'): 4},\n",
    "              ('a', 'c'): {('A', 'B'): 5, ('A', 'C'): 6},\n",
    "              ('b', 'a'): {('A', 'C'): 7, ('A', 'B'): 8},\n",
    "              ('b', 'b'): {('A', 'D'): 9, ('A', 'B'): 10}})"
   ]
  },
  {
   "cell_type": "markdown",
   "metadata": {},
   "source": [
    "\n",
    "<a id='basics-dataframe-from-series'></a>"
   ]
  },
  {
   "cell_type": "markdown",
   "metadata": {},
   "source": [
    "### From a Series\n",
    "\n",
    "The result will be a DataFrame with the same index as the input Series, and\n",
    "with one column whose name is the original name of the Series (only if no other\n",
    "column name provided).\n",
    "\n",
    "**Missing data**\n",
    "\n",
    "Much more will be said on this topic in the [Missing data](user_guide/missing_data.ipynb#missing-data)\n",
    "section. To construct a DataFrame with missing data, we use `np.nan` to\n",
    "represent missing values. Alternatively, you may pass a `numpy.MaskedArray`\n",
    "as the data argument to the DataFrame constructor, and its masked entries will\n",
    "be considered missing."
   ]
  },
  {
   "cell_type": "markdown",
   "metadata": {},
   "source": [
    "### Alternate constructors\n",
    "\n",
    "\n",
    "<a id='basics-dataframe-from-dict'></a>\n",
    "**DataFrame.from_dict**\n",
    "\n",
    "`DataFrame.from_dict` takes a dict of dicts or a dict of array-like sequences\n",
    "and returns a DataFrame. It operates like the `DataFrame` constructor except\n",
    "for the `orient` parameter which is `'columns'` by default, but which can be\n",
    "set to `'index'` in order to use the dict keys as row labels."
   ]
  },
  {
   "cell_type": "code",
   "execution_count": null,
   "metadata": {
    "hide-output": false
   },
   "outputs": [],
   "source": [
    "pd.DataFrame.from_dict(dict([('A', [1, 2, 3]), ('B', [4, 5, 6])]))"
   ]
  },
  {
   "cell_type": "markdown",
   "metadata": {},
   "source": [
    "If you pass `orient='index'`, the keys will be the row labels. In this\n",
    "case, you can also pass the desired column names:"
   ]
  },
  {
   "cell_type": "code",
   "execution_count": null,
   "metadata": {
    "hide-output": false
   },
   "outputs": [],
   "source": [
    "pd.DataFrame.from_dict(dict([('A', [1, 2, 3]), ('B', [4, 5, 6])]),\n",
    "                       orient='index', columns=['one', 'two', 'three'])"
   ]
  },
  {
   "cell_type": "markdown",
   "metadata": {},
   "source": [
    "\n",
    "<a id='basics-dataframe-from-records'></a>\n",
    "**DataFrame.from_records**\n",
    "\n",
    "`DataFrame.from_records` takes a list of tuples or an ndarray with structured\n",
    "dtype. It works analogously to the normal `DataFrame` constructor, except that\n",
    "the resulting DataFrame index may be a specific field of the structured\n",
    "dtype. For example:"
   ]
  },
  {
   "cell_type": "code",
   "execution_count": null,
   "metadata": {
    "hide-output": false
   },
   "outputs": [],
   "source": [
    "data\n",
    "pd.DataFrame.from_records(data, index='C')"
   ]
  },
  {
   "cell_type": "markdown",
   "metadata": {},
   "source": [
    "### Column selection, addition, deletion\n",
    "\n",
    "You can treat a DataFrame semantically like a dict of like-indexed Series\n",
    "objects. Getting, setting, and deleting columns works with the same syntax as\n",
    "the analogous dict operations:"
   ]
  },
  {
   "cell_type": "code",
   "execution_count": null,
   "metadata": {
    "hide-output": false
   },
   "outputs": [],
   "source": [
    "df['one']\n",
    "df['three'] = df['one'] * df['two']\n",
    "df['flag'] = df['one'] > 2\n",
    "df"
   ]
  },
  {
   "cell_type": "markdown",
   "metadata": {},
   "source": [
    "Columns can be deleted or popped like with a dict:"
   ]
  },
  {
   "cell_type": "code",
   "execution_count": null,
   "metadata": {
    "hide-output": false
   },
   "outputs": [],
   "source": [
    "del df['two']\n",
    "three = df.pop('three')\n",
    "df"
   ]
  },
  {
   "cell_type": "markdown",
   "metadata": {},
   "source": [
    "When inserting a scalar value, it will naturally be propagated to fill the\n",
    "column:"
   ]
  },
  {
   "cell_type": "code",
   "execution_count": null,
   "metadata": {
    "hide-output": false
   },
   "outputs": [],
   "source": [
    "df['foo'] = 'bar'\n",
    "df"
   ]
  },
  {
   "cell_type": "markdown",
   "metadata": {},
   "source": [
    "When inserting a Series that does not have the same index as the DataFrame, it\n",
    "will be conformed to the DataFrame’s index:"
   ]
  },
  {
   "cell_type": "code",
   "execution_count": null,
   "metadata": {
    "hide-output": false
   },
   "outputs": [],
   "source": [
    "df['one_trunc'] = df['one'][:2]\n",
    "df"
   ]
  },
  {
   "cell_type": "markdown",
   "metadata": {},
   "source": [
    "You can insert raw ndarrays but their length must match the length of the\n",
    "DataFrame’s index.\n",
    "\n",
    "By default, columns get inserted at the end. The `insert` function is\n",
    "available to insert at a particular location in the columns:"
   ]
  },
  {
   "cell_type": "code",
   "execution_count": null,
   "metadata": {
    "hide-output": false
   },
   "outputs": [],
   "source": [
    "df.insert(1, 'bar', df['one'])\n",
    "df"
   ]
  },
  {
   "cell_type": "markdown",
   "metadata": {},
   "source": [
    "\n",
    "<a id='dsintro-chained-assignment'></a>"
   ]
  },
  {
   "cell_type": "markdown",
   "metadata": {},
   "source": [
    "### Assigning new columns in method chains\n",
    "\n",
    "Inspired by [dplyr’s](https://dplyr.tidyverse.org/reference/mutate.html)\n",
    "`mutate` verb, DataFrame has an `assign()`\n",
    "method that allows you to easily create new columns that are potentially\n",
    "derived from existing columns."
   ]
  },
  {
   "cell_type": "code",
   "execution_count": null,
   "metadata": {
    "hide-output": false
   },
   "outputs": [],
   "source": [
    "iris = pd.read_csv('data/iris.data')\n",
    "iris.head()\n",
    "(iris.assign(sepal_ratio=iris['SepalWidth'] / iris['SepalLength'])\n",
    "     .head())"
   ]
  },
  {
   "cell_type": "markdown",
   "metadata": {},
   "source": [
    "In the example above, we inserted a precomputed value. We can also pass in\n",
    "a function of one argument to be evaluated on the DataFrame being assigned to."
   ]
  },
  {
   "cell_type": "code",
   "execution_count": null,
   "metadata": {
    "hide-output": false
   },
   "outputs": [],
   "source": [
    "iris.assign(sepal_ratio=lambda x: (x['SepalWidth'] / x['SepalLength'])).head()"
   ]
  },
  {
   "cell_type": "markdown",
   "metadata": {},
   "source": [
    "`assign` **always** returns a copy of the data, leaving the original\n",
    "DataFrame untouched.\n",
    "\n",
    "Passing a callable, as opposed to an actual value to be inserted, is\n",
    "useful when you don’t have a reference to the DataFrame at hand. This is\n",
    "common when using `assign` in a chain of operations. For example,\n",
    "we can limit the DataFrame to just those observations with a Sepal Length\n",
    "greater than 5, calculate the ratio, and plot:"
   ]
  },
  {
   "cell_type": "code",
   "execution_count": null,
   "metadata": {
    "hide-output": false
   },
   "outputs": [],
   "source": [
    "(iris.query('SepalLength > 5')\n",
    "     .assign(SepalRatio=lambda x: x.SepalWidth / x.SepalLength,\n",
    "             PetalRatio=lambda x: x.PetalWidth / x.PetalLength)\n",
    "     .plot(kind='scatter', x='SepalRatio', y='PetalRatio'))"
   ]
  },
  {
   "cell_type": "markdown",
   "metadata": {},
   "source": [
    "Since a function is passed in, the function is computed on the DataFrame\n",
    "being assigned to. Importantly, this is the DataFrame that’s been filtered\n",
    "to those rows with sepal length greater than 5. The filtering happens first,\n",
    "and then the ratio calculations. This is an example where we didn’t\n",
    "have a reference to the *filtered* DataFrame available.\n",
    "\n",
    "The function signature for `assign` is simply `**kwargs`. The keys\n",
    "are the column names for the new fields, and the values are either a value\n",
    "to be inserted (for example, a `Series` or NumPy array), or a function\n",
    "of one argument to be called on the `DataFrame`. A *copy* of the original\n",
    "DataFrame is returned, with the new values inserted.\n",
    "\n",
    "Changed in version 0.23.0.\n",
    "\n",
    "Starting with Python 3.6 the order of `**kwargs` is preserved. This allows\n",
    "for *dependent* assignment, where an expression later in `**kwargs` can refer\n",
    "to a column created earlier in the same `assign()`."
   ]
  },
  {
   "cell_type": "code",
   "execution_count": null,
   "metadata": {
    "hide-output": false
   },
   "outputs": [],
   "source": [
    "dfa = pd.DataFrame({\"A\": [1, 2, 3],\n",
    "                    \"B\": [4, 5, 6]})\n",
    "dfa.assign(C=lambda x: x['A'] + x['B'],\n",
    "           D=lambda x: x['A'] + x['C'])"
   ]
  },
  {
   "cell_type": "markdown",
   "metadata": {},
   "source": [
    "In the second expression, `x['C']` will refer to the newly created column,\n",
    "that’s equal to `dfa['A'] + dfa['B']`.\n",
    "\n",
    "To write code compatible with all versions of Python, split the assignment in two."
   ]
  },
  {
   "cell_type": "code",
   "execution_count": null,
   "metadata": {
    "hide-output": false
   },
   "outputs": [],
   "source": [
    "dependent = pd.DataFrame({\"A\": [1, 1, 1]})\n",
    "(dependent.assign(A=lambda x: x['A'] + 1)\n",
    "          .assign(B=lambda x: x['A'] + 2))"
   ]
  },
  {
   "cell_type": "markdown",
   "metadata": {},
   "source": [
    "Dependent assignment may subtly change the behavior of your code between\n",
    "Python 3.6 and older versions of Python.\n",
    "\n",
    "If you wish to write code that supports versions of python before and after 3.6,\n",
    "you’ll need to take care when passing `assign` expressions that\n",
    "\n",
    "- Update an existing column  \n",
    "- Refer to the newly updated column in the same `assign`  \n",
    "\n",
    "\n",
    "For example, we’ll update column “A” and then refer to it when creating “B”."
   ]
  },
  {
   "cell_type": "code",
   "execution_count": null,
   "metadata": {
    "hide-output": false
   },
   "outputs": [],
   "source": [
    ">>> dependent = pd.DataFrame({\"A\": [1, 1, 1]})\n",
    ">>> dependent.assign(A=lambda x: x[\"A\"] + 1, B=lambda x: x[\"A\"] + 2)"
   ]
  },
  {
   "cell_type": "markdown",
   "metadata": {},
   "source": [
    "For Python 3.5 and earlier the expression creating `B` refers to the\n",
    "“old” value of `A`, `[1, 1, 1]`. The output is then"
   ]
  },
  {
   "cell_type": "markdown",
   "metadata": {
    "hide-output": false
   },
   "source": [
    "```console\n",
    "   A  B\n",
    "0  2  3\n",
    "1  2  3\n",
    "2  2  3\n",
    "```\n"
   ]
  },
  {
   "cell_type": "markdown",
   "metadata": {},
   "source": [
    "For Python 3.6 and later, the expression creating `A` refers to the\n",
    "“new” value of `A`, `[2, 2, 2]`, which results in"
   ]
  },
  {
   "cell_type": "markdown",
   "metadata": {
    "hide-output": false
   },
   "source": [
    "```console\n",
    "   A  B\n",
    "0  2  4\n",
    "1  2  4\n",
    "2  2  4\n",
    "```\n"
   ]
  },
  {
   "cell_type": "markdown",
   "metadata": {},
   "source": [
    "### Indexing / selection\n",
    "\n",
    "The basics of indexing are as follows:\n",
    "\n",
    "``````````|Operation|Syntax|Result|\n",
    "|:----------------------------:|:------------------:|:--------:|\n",
    "|Select column|df[col]|Series|\n",
    "|Select row by label|df.loc[label]|Series|\n",
    "|Select row by integer location|df.iloc[loc]|Series|\n",
    "|Slice rows|df[5:10]|DataFrame|\n",
    "|Select rows by boolean vector|df[bool_vec]|DataFrame|\n",
    "Row selection, for example, returns a Series whose index is the columns of the\n",
    "DataFrame:"
   ]
  },
  {
   "cell_type": "code",
   "execution_count": null,
   "metadata": {
    "hide-output": false
   },
   "outputs": [],
   "source": [
    "df.loc['b']\n",
    "df.iloc[2]"
   ]
  },
  {
   "cell_type": "markdown",
   "metadata": {},
   "source": [
    "For a more exhaustive treatment of sophisticated label-based indexing and\n",
    "slicing, see the [section on indexing](user_guide/indexing.ipynb#indexing). We will address the\n",
    "fundamentals of reindexing / conforming to new sets of labels in the\n",
    "[section on reindexing](basics.ipynb#basics-reindexing).\n",
    "\n",
    "\n",
    "<a id='dsintro-alignment'></a>"
   ]
  },
  {
   "cell_type": "markdown",
   "metadata": {},
   "source": [
    "### Data alignment and arithmetic\n",
    "\n",
    "Data alignment between DataFrame objects automatically align on **both the\n",
    "columns and the index (row labels)**. Again, the resulting object will have the\n",
    "union of the column and row labels."
   ]
  },
  {
   "cell_type": "code",
   "execution_count": null,
   "metadata": {
    "hide-output": false
   },
   "outputs": [],
   "source": [
    "df = pd.DataFrame(np.random.randn(10, 4), columns=['A', 'B', 'C', 'D'])\n",
    "df2 = pd.DataFrame(np.random.randn(7, 3), columns=['A', 'B', 'C'])\n",
    "df + df2"
   ]
  },
  {
   "cell_type": "markdown",
   "metadata": {},
   "source": [
    "When doing an operation between DataFrame and Series, the default behavior is\n",
    "to align the Series **index** on the DataFrame **columns**, thus [broadcasting](http://docs.scipy.org/doc/numpy/user/basics.broadcasting.html)\n",
    "row-wise. For example:"
   ]
  },
  {
   "cell_type": "code",
   "execution_count": null,
   "metadata": {
    "hide-output": false
   },
   "outputs": [],
   "source": [
    "df - df.iloc[0]"
   ]
  },
  {
   "cell_type": "markdown",
   "metadata": {},
   "source": [
    "In the special case of working with time series data, if the DataFrame index\n",
    "contains dates, the broadcasting will be column-wise:"
   ]
  },
  {
   "cell_type": "code",
   "execution_count": null,
   "metadata": {
    "hide-output": false
   },
   "outputs": [],
   "source": [
    "df - df['A']"
   ]
  },
  {
   "cell_type": "markdown",
   "metadata": {},
   "source": [
    "is now deprecated and will be removed in a future release. The preferred way\n",
    "to replicate this behavior is"
   ]
  },
  {
   "cell_type": "code",
   "execution_count": null,
   "metadata": {
    "hide-output": false
   },
   "outputs": [],
   "source": [
    "df.sub(df['A'], axis=0)"
   ]
  },
  {
   "cell_type": "markdown",
   "metadata": {},
   "source": [
    "For explicit control over the matching and broadcasting behavior, see the\n",
    "section on [flexible binary operations](basics.ipynb#basics-binop).\n",
    "\n",
    "Operations with scalars are just as you would expect:"
   ]
  },
  {
   "cell_type": "code",
   "execution_count": null,
   "metadata": {
    "hide-output": false
   },
   "outputs": [],
   "source": [
    "df * 5 + 2\n",
    "1 / df\n",
    "df ** 4"
   ]
  },
  {
   "cell_type": "markdown",
   "metadata": {},
   "source": [
    "\n",
    "<a id='dsintro-boolean'></a>\n",
    "Boolean operators work as well:"
   ]
  },
  {
   "cell_type": "code",
   "execution_count": null,
   "metadata": {
    "hide-output": false
   },
   "outputs": [],
   "source": [
    "df1 = pd.DataFrame({'a': [1, 0, 1], 'b': [0, 1, 1]}, dtype=bool)\n",
    "df2 = pd.DataFrame({'a': [0, 1, 1], 'b': [1, 1, 0]}, dtype=bool)\n",
    "df1 & df2\n",
    "df1 | df2\n",
    "df1 ^ df2\n",
    "-df1"
   ]
  },
  {
   "cell_type": "markdown",
   "metadata": {},
   "source": [
    "### Transposing\n",
    "\n",
    "To transpose, access the `T` attribute (also the `transpose` function),\n",
    "similar to an ndarray:"
   ]
  },
  {
   "cell_type": "code",
   "execution_count": null,
   "metadata": {
    "hide-output": false
   },
   "outputs": [],
   "source": [
    "# only show the first 5 rows\n",
    "df[:5].T"
   ]
  },
  {
   "cell_type": "markdown",
   "metadata": {},
   "source": [
    "### DataFrame interoperability with NumPy functions\n",
    "\n",
    "\n",
    "<a id='dsintro-numpy-interop'></a>\n",
    "Elementwise NumPy ufuncs (log, exp, sqrt, …) and various other NumPy functions\n",
    "can be used with no issues on Series and DataFrame, assuming the data within\n",
    "are numeric:"
   ]
  },
  {
   "cell_type": "code",
   "execution_count": null,
   "metadata": {
    "hide-output": false
   },
   "outputs": [],
   "source": [
    "np.exp(df)\n",
    "np.asarray(df)"
   ]
  },
  {
   "cell_type": "markdown",
   "metadata": {},
   "source": [
    "DataFrame is not intended to be a drop-in replacement for ndarray as its\n",
    "indexing semantics and data model are quite different in places from an n-dimensional\n",
    "array.\n",
    "\n",
    "`Series` implements `__array_ufunc__`, which allows it to work with NumPy’s\n",
    "[universal functions](https://docs.scipy.org/doc/numpy/reference/ufuncs.html).\n",
    "\n",
    "The ufunc is applied to the underlying array in a Series."
   ]
  },
  {
   "cell_type": "code",
   "execution_count": null,
   "metadata": {
    "hide-output": false
   },
   "outputs": [],
   "source": [
    "ser = pd.Series([1, 2, 3, 4])\n",
    "np.exp(ser)"
   ]
  },
  {
   "cell_type": "markdown",
   "metadata": {},
   "source": [
    "Changed in version 0.25.0: When multiple `Series` are passed to a ufunc, they are aligned before\n",
    "performing the operation.\n",
    "\n",
    "Like other parts of the library, pandas will automatically align labeled inputs\n",
    "as part of a ufunc with multiple inputs. For example, using `numpy.remainder()`\n",
    "on two `Series` with differently ordered labels will align before the operation."
   ]
  },
  {
   "cell_type": "code",
   "execution_count": null,
   "metadata": {
    "hide-output": false
   },
   "outputs": [],
   "source": [
    "ser1 = pd.Series([1, 2, 3], index=['a', 'b', 'c'])\n",
    "ser2 = pd.Series([1, 3, 5], index=['b', 'a', 'c'])\n",
    "ser1\n",
    "ser2\n",
    "np.remainder(ser1, ser2)"
   ]
  },
  {
   "cell_type": "markdown",
   "metadata": {},
   "source": [
    "As usual, the union of the two indices is taken, and non-overlapping values are filled\n",
    "with missing values."
   ]
  },
  {
   "cell_type": "code",
   "execution_count": null,
   "metadata": {
    "hide-output": false
   },
   "outputs": [],
   "source": [
    "ser3 = pd.Series([2, 4, 6], index=['b', 'c', 'd'])\n",
    "ser3\n",
    "np.remainder(ser1, ser3)"
   ]
  },
  {
   "cell_type": "markdown",
   "metadata": {},
   "source": [
    "When a binary ufunc is applied to a `Series` and `Index`, the Series\n",
    "implementation takes precedence and a Series is returned."
   ]
  },
  {
   "cell_type": "code",
   "execution_count": null,
   "metadata": {
    "hide-output": false
   },
   "outputs": [],
   "source": [
    "ser = pd.Series([1, 2, 3])\n",
    "idx = pd.Index([4, 5, 6])\n",
    "\n",
    "np.maximum(ser, idx)"
   ]
  },
  {
   "cell_type": "markdown",
   "metadata": {},
   "source": [
    "NumPy ufuncs are safe to apply to `Series` backed by non-ndarray arrays,\n",
    "for example `SparseArray` (see [Sparse calculation](user_guide/sparse.ipynb#sparse-calculation)). If possible,\n",
    "the ufunc is applied without converting the underlying data to an ndarray."
   ]
  },
  {
   "cell_type": "markdown",
   "metadata": {},
   "source": [
    "### Console display\n",
    "\n",
    "Very large DataFrames will be truncated to display them in the console.\n",
    "You can also get a summary using `info()`.\n",
    "(Here I am reading a CSV version of the **baseball** dataset from the **plyr**\n",
    "R package):"
   ]
  },
  {
   "cell_type": "code",
   "execution_count": null,
   "metadata": {
    "hide-output": false
   },
   "outputs": [],
   "source": [
    "baseball = pd.read_csv('data/baseball.csv')\n",
    "print(baseball)\n",
    "baseball.info()"
   ]
  },
  {
   "cell_type": "markdown",
   "metadata": {},
   "source": [
    "However, using `to_string` will return a string representation of the\n",
    "DataFrame in tabular form, though it won’t always fit the console width:"
   ]
  },
  {
   "cell_type": "code",
   "execution_count": null,
   "metadata": {
    "hide-output": false
   },
   "outputs": [],
   "source": [
    "print(baseball.iloc[-20:, :12].to_string())"
   ]
  },
  {
   "cell_type": "markdown",
   "metadata": {},
   "source": [
    "Wide DataFrames will be printed across multiple rows by\n",
    "default:"
   ]
  },
  {
   "cell_type": "code",
   "execution_count": null,
   "metadata": {
    "hide-output": false
   },
   "outputs": [],
   "source": [
    "pd.DataFrame(np.random.randn(3, 12))"
   ]
  },
  {
   "cell_type": "markdown",
   "metadata": {},
   "source": [
    "You can change how much to print on a single row by setting the `display.width`\n",
    "option:"
   ]
  },
  {
   "cell_type": "code",
   "execution_count": null,
   "metadata": {
    "hide-output": false
   },
   "outputs": [],
   "source": [
    "pd.set_option('display.width', 40)  # default is 80\n",
    "\n",
    "pd.DataFrame(np.random.randn(3, 12))"
   ]
  },
  {
   "cell_type": "markdown",
   "metadata": {},
   "source": [
    "You can adjust the max width of the individual columns by setting `display.max_colwidth`"
   ]
  },
  {
   "cell_type": "code",
   "execution_count": null,
   "metadata": {
    "hide-output": false
   },
   "outputs": [],
   "source": [
    "datafile = {'filename': ['filename_01', 'filename_02'],\n",
    "            'path': [\"media/user_name/storage/folder_01/filename_01\",\n",
    "                     \"media/user_name/storage/folder_02/filename_02\"]}\n",
    "\n",
    "pd.set_option('display.max_colwidth', 30)\n",
    "pd.DataFrame(datafile)\n",
    "\n",
    "pd.set_option('display.max_colwidth', 100)\n",
    "pd.DataFrame(datafile)"
   ]
  },
  {
   "cell_type": "markdown",
   "metadata": {},
   "source": [
    "You can also disable this feature via the `expand_frame_repr` option.\n",
    "This will print the table in one block."
   ]
  },
  {
   "cell_type": "markdown",
   "metadata": {},
   "source": [
    "### DataFrame column attribute access and IPython completion\n",
    "\n",
    "If a DataFrame column label is a valid Python variable name, the column can be\n",
    "accessed like an attribute:"
   ]
  },
  {
   "cell_type": "code",
   "execution_count": null,
   "metadata": {
    "hide-output": false
   },
   "outputs": [],
   "source": [
    "df = pd.DataFrame({'foo1': np.random.randn(5),\n",
    "                   'foo2': np.random.randn(5)})\n",
    "df\n",
    "df.foo1"
   ]
  },
  {
   "cell_type": "markdown",
   "metadata": {},
   "source": [
    "The columns are also connected to the [IPython](https://ipython.org)\n",
    "completion mechanism so they can be tab-completed:"
   ]
  },
  {
   "cell_type": "markdown",
   "metadata": {
    "hide-output": false
   },
   "source": [
    "```ipython\n",
    "In [5]: df.fo<TAB>  # noqa: E225, E999\n",
    "df.foo1  df.foo2\n",
    "```\n"
   ]
  }
 ],
 "metadata": {
  "filename": "dsintro.rst",
  "kernelspec": {
   "display_name": "Python",
   "language": "python3",
   "name": "python3"
  },
  "title": "Intro to data structures"
 },
 "nbformat": 4,
 "nbformat_minor": 2
}