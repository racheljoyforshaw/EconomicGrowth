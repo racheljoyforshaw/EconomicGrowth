{
 "cells": [
  {
   "cell_type": "markdown",
   "metadata": {},
   "source": [
    "{{ header }}\n",
    "\n",
    "\n",
    "<a id='getting-started'></a>"
   ]
  },
  {
   "cell_type": "markdown",
   "metadata": {},
   "source": [
    "# Getting started\n",
    "\n",
    "- [Package overview](overview.ipynb)\n",
    "  - [Data structures](overview.ipynb#data-structures)\n",
    "  - [Mutability and copying of data](overview.ipynb#mutability-and-copying-of-data)\n",
    "  - [Getting support](overview.ipynb#getting-support)\n",
    "  - [Community](overview.ipynb#community)\n",
    "  - [Project governance](overview.ipynb#project-governance)\n",
    "  - [Development team](overview.ipynb#development-team)\n",
    "  - [Institutional partners](overview.ipynb#institutional-partners)\n",
    "  - [License](overview.ipynb#license)\n",
    "- [10 minutes to pandas](10min.ipynb)\n",
    "  - [Object creation](10min.ipynb#object-creation)\n",
    "  - [Viewing data](10min.ipynb#viewing-data)\n",
    "  - [Selection](10min.ipynb#selection)\n",
    "  - [Missing data](10min.ipynb#missing-data)\n",
    "  - [Operations](10min.ipynb#operations)\n",
    "  - [Merge](10min.ipynb#merge)\n",
    "  - [Grouping](10min.ipynb#grouping)\n",
    "  - [Reshaping](10min.ipynb#reshaping)\n",
    "  - [Time series](10min.ipynb#time-series)\n",
    "  - [Categoricals](10min.ipynb#categoricals)\n",
    "  - [Plotting](10min.ipynb#plotting)\n",
    "  - [Getting data in/out](10min.ipynb#getting-data-in-out)\n",
    "  - [Gotchas](10min.ipynb#gotchas)\n",
    "- [Essential basic functionality](basics.ipynb)\n",
    "  - [Head and tail](basics.ipynb#head-and-tail)\n",
    "  - [Attributes and underlying data](basics.ipynb#attributes-and-underlying-data)\n",
    "  - [Accelerated operations](basics.ipynb#accelerated-operations)\n",
    "  - [Flexible binary operations](basics.ipynb#flexible-binary-operations)\n",
    "  - [Descriptive statistics](basics.ipynb#descriptive-statistics)\n",
    "  - [Function application](basics.ipynb#function-application)\n",
    "  - [Reindexing and altering labels](basics.ipynb#reindexing-and-altering-labels)\n",
    "  - [Iteration](basics.ipynb#iteration)\n",
    "  - [.dt accessor](basics.ipynb#dt-accessor)\n",
    "  - [Vectorized string methods](basics.ipynb#vectorized-string-methods)\n",
    "  - [Sorting](basics.ipynb#sorting)\n",
    "  - [Copying](basics.ipynb#copying)\n",
    "  - [dtypes](basics.ipynb#dtypes)\n",
    "  - [Selecting columns based on `dtype`](basics.ipynb#selecting-columns-based-on-dtype)\n",
    "- [Intro to data structures](dsintro.ipynb)\n",
    "  - [Series](dsintro.ipynb#series)\n",
    "  - [DataFrame](dsintro.ipynb#dataframe)\n",
    "- [Comparison with other tools](comparison/index.ipynb)\n",
    "  - [Comparison with R / R libraries](comparison/comparison_with_r.ipynb)\n",
    "  - [Comparison with SQL](comparison/comparison_with_sql.ipynb)\n",
    "  - [Comparison with SAS](comparison/comparison_with_sas.ipynb)\n",
    "  - [Comparison with Stata](comparison/comparison_with_stata.ipynb)\n",
    "- [Tutorials](tutorials.ipynb)\n",
    "  - [Internal guides](tutorials.ipynb#internal-guides)\n",
    "  - [Community guides](tutorials.ipynb#community-guides)"
   ]
  }
 ],
 "metadata": {
  "filename": "index.rst",
  "kernelspec": {
   "display_name": "Python",
   "language": "python3",
   "name": "python3"
  },
  "title": "Getting started"
 },
 "nbformat": 4,
 "nbformat_minor": 2
}