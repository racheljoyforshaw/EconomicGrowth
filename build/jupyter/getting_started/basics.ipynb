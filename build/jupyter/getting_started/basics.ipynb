{
 "cells": [
  {
   "cell_type": "markdown",
   "metadata": {},
   "source": [
    "\n",
    "<a id='basics'></a>\n",
    "{{ header }}"
   ]
  },
  {
   "cell_type": "markdown",
   "metadata": {},
   "source": [
    "# Essential basic functionality\n",
    "\n",
    "Here we discuss a lot of the essential functionality common to the pandas data\n",
    "structures. Here’s how to create some of the objects used in the examples from\n",
    "the previous section:"
   ]
  },
  {
   "cell_type": "code",
   "execution_count": null,
   "metadata": {
    "hide-output": false
   },
   "outputs": [],
   "source": [
    "index = pd.date_range('1/1/2000', periods=8)\n",
    "s = pd.Series(np.random.randn(5), index=['a', 'b', 'c', 'd', 'e'])\n",
    "df = pd.DataFrame(np.random.randn(8, 3), index=index,\n",
    "                  columns=['A', 'B', 'C'])"
   ]
  },
  {
   "cell_type": "markdown",
   "metadata": {},
   "source": [
    "\n",
    "<a id='basics-head-tail'></a>"
   ]
  },
  {
   "cell_type": "markdown",
   "metadata": {},
   "source": [
    "## Head and tail\n",
    "\n",
    "To view a small sample of a Series or DataFrame object, use the\n",
    "`head()` and `tail()` methods. The default number\n",
    "of elements to display is five, but you may pass a custom number."
   ]
  },
  {
   "cell_type": "code",
   "execution_count": null,
   "metadata": {
    "hide-output": false
   },
   "outputs": [],
   "source": [
    "long_series = pd.Series(np.random.randn(1000))\n",
    "long_series.head()\n",
    "long_series.tail(3)"
   ]
  },
  {
   "cell_type": "markdown",
   "metadata": {},
   "source": [
    "\n",
    "<a id='basics-attrs'></a>"
   ]
  },
  {
   "cell_type": "markdown",
   "metadata": {},
   "source": [
    "## Attributes and underlying data\n",
    "\n",
    "pandas objects have a number of attributes enabling you to access the metadata\n",
    "\n",
    "- **shape**: gives the axis dimensions of the object, consistent with ndarray  \n",
    "- \n",
    "  <dl style='margin: 20px 0;'>\n",
    "  <dt>Axis labels</dt>\n",
    "  <dd>\n",
    "  - **Series**: *index* (only axis)  \n",
    "  - **DataFrame**: *index* (rows) and *columns*  \n",
    "  </dd>\n",
    "  \n",
    "  </dl>\n",
    "  \n",
    "\n",
    "\n",
    "Note, **these attributes can be safely assigned to**!"
   ]
  },
  {
   "cell_type": "code",
   "execution_count": null,
   "metadata": {
    "hide-output": false
   },
   "outputs": [],
   "source": [
    "df[:2]\n",
    "df.columns = [x.lower() for x in df.columns]\n",
    "df"
   ]
  },
  {
   "cell_type": "markdown",
   "metadata": {},
   "source": [
    "Pandas objects (`Index`, `Series`, `DataFrame`) can be\n",
    "thought of as containers for arrays, which hold the actual data and do the\n",
    "actual computation. For many types, the underlying array is a\n",
    "[`numpy.ndarray`](https://docs.scipy.org/doc/numpy/reference/generated/numpy.ndarray.html#numpy.ndarray). However, pandas and 3rd party libraries may *extend*\n",
    "NumPy’s type system to add support for custom arrays\n",
    "(see [dtypes](#basics-dtypes)).\n",
    "\n",
    "To get the actual data inside a `Index` or `Series`, use\n",
    "the `.array` property"
   ]
  },
  {
   "cell_type": "code",
   "execution_count": null,
   "metadata": {
    "hide-output": false
   },
   "outputs": [],
   "source": [
    "s.array\n",
    "s.index.array"
   ]
  },
  {
   "cell_type": "markdown",
   "metadata": {},
   "source": [
    "`array` will always be an `ExtensionArray`.\n",
    "The exact details of what an `ExtensionArray` is and why pandas uses them is a bit\n",
    "beyond the scope of this introduction. See [dtypes](#basics-dtypes) for more.\n",
    "\n",
    "If you know you need a NumPy array, use `to_numpy()`\n",
    "or `numpy.asarray()`."
   ]
  },
  {
   "cell_type": "code",
   "execution_count": null,
   "metadata": {
    "hide-output": false
   },
   "outputs": [],
   "source": [
    "s.to_numpy()\n",
    "np.asarray(s)"
   ]
  },
  {
   "cell_type": "markdown",
   "metadata": {},
   "source": [
    "When the Series or Index is backed by\n",
    "an `ExtensionArray`, `to_numpy()`\n",
    "may involve copying data and coercing values. See [dtypes](#basics-dtypes) for more.\n",
    "\n",
    "`to_numpy()` gives some control over the `dtype` of the\n",
    "resulting [`numpy.ndarray`](https://docs.scipy.org/doc/numpy/reference/generated/numpy.ndarray.html#numpy.ndarray). For example, consider datetimes with timezones.\n",
    "NumPy doesn’t have a dtype to represent timezone-aware datetimes, so there\n",
    "are two possibly useful representations:\n",
    "\n",
    "1. An object-dtype [`numpy.ndarray`](https://docs.scipy.org/doc/numpy/reference/generated/numpy.ndarray.html#numpy.ndarray) with `Timestamp` objects, each\n",
    "  with the correct `tz`  \n",
    "1. A `datetime64[ns]` -dtype [`numpy.ndarray`](https://docs.scipy.org/doc/numpy/reference/generated/numpy.ndarray.html#numpy.ndarray), where the values have\n",
    "  been converted to UTC and the timezone discarded  \n",
    "\n",
    "\n",
    "Timezones may be preserved with `dtype=object`"
   ]
  },
  {
   "cell_type": "code",
   "execution_count": null,
   "metadata": {
    "hide-output": false
   },
   "outputs": [],
   "source": [
    "ser = pd.Series(pd.date_range('2000', periods=2, tz=\"CET\"))\n",
    "ser.to_numpy(dtype=object)"
   ]
  },
  {
   "cell_type": "markdown",
   "metadata": {},
   "source": [
    "Or thrown away with `dtype='datetime64[ns]'`"
   ]
  },
  {
   "cell_type": "code",
   "execution_count": null,
   "metadata": {
    "hide-output": false
   },
   "outputs": [],
   "source": [
    "ser.to_numpy(dtype=\"datetime64[ns]\")"
   ]
  },
  {
   "cell_type": "markdown",
   "metadata": {},
   "source": [
    "Getting the “raw data” inside a `DataFrame` is possibly a bit more\n",
    "complex. When your `DataFrame` only has a single data type for all the\n",
    "columns, `DataFrame.to_numpy()` will return the underlying data:"
   ]
  },
  {
   "cell_type": "code",
   "execution_count": null,
   "metadata": {
    "hide-output": false
   },
   "outputs": [],
   "source": [
    "df.to_numpy()"
   ]
  },
  {
   "cell_type": "markdown",
   "metadata": {},
   "source": [
    "If a DataFrame contains homogeneously-typed data, the ndarray can\n",
    "actually be modified in-place, and the changes will be reflected in the data\n",
    "structure. For heterogeneous data (e.g. some of the DataFrame’s columns are not\n",
    "all the same dtype), this will not be the case. The values attribute itself,\n",
    "unlike the axis labels, cannot be assigned to.\n",
    "\n",
    ">**Note**\n",
    ">\n",
    ">When working with heterogeneous data, the dtype of the resulting ndarray\n",
    "will be chosen to accommodate all of the data involved. For example, if\n",
    "strings are involved, the result will be of object dtype. If there are only\n",
    "floats and integers, the resulting array will be of float dtype.\n",
    "\n",
    "In the past, pandas recommended `Series.values` or `DataFrame.values`\n",
    "for extracting the data from a Series or DataFrame. You’ll still find references\n",
    "to these in old code bases and online. Going forward, we recommend avoiding\n",
    "`.values` and using `.array` or `.to_numpy()`. `.values` has the following\n",
    "drawbacks:\n",
    "\n",
    "1. When your Series contains an [extension type](development/extending.ipynb#extending-extension-types), it’s\n",
    "  unclear whether `Series.values` returns a NumPy array or the extension array.\n",
    "  `Series.array` will always return an `ExtensionArray`, and will never\n",
    "  copy data. `Series.to_numpy()` will always return a NumPy array,\n",
    "  potentially at the cost of copying / coercing values.  \n",
    "1. When your DataFrame contains a mixture of data types, `DataFrame.values` may\n",
    "  involve copying data and coercing values to a common dtype, a relatively expensive\n",
    "  operation. `DataFrame.to_numpy()`, being a method, makes it clearer that the\n",
    "  returned NumPy array may not be a view on the same data in the DataFrame.  \n",
    "\n",
    "\n",
    "\n",
    "<a id='basics-accelerate'></a>"
   ]
  },
  {
   "cell_type": "markdown",
   "metadata": {},
   "source": [
    "## Accelerated operations\n",
    "\n",
    "pandas has support for accelerating certain types of binary numerical and boolean operations using\n",
    "the `numexpr` library and the `bottleneck` libraries.\n",
    "\n",
    "These libraries are especially useful when dealing with large data sets, and provide large\n",
    "speedups. `numexpr` uses smart chunking, caching, and multiple cores. `bottleneck` is\n",
    "a set of specialized cython routines that are especially fast when dealing with arrays that have\n",
    "`nans`.\n",
    "\n",
    "Here is a sample (using 100 column x 100,000 row `DataFrames`):\n",
    "\n",
    "``````|Operation|0.11.0 (ms)|Prior Version (ms)|Ratio to Prior|\n",
    "|:-----------------------:|:-----------------------:|:-----------------------:|:-----------------------:|\n",
    "|df1 > df2|13.32|125.35|0.1063|\n",
    "|df1 * df2|21.71|36.63|0.5928|\n",
    "|df1 + df2|22.04|36.50|0.6039|\n",
    "You are highly encouraged to install both libraries. See the section\n",
    "[Recommended Dependencies](install.ipynb#install-recommended-dependencies) for more installation info.\n",
    "\n",
    "These are both enabled to be used by default, you can control this by setting the options:\n",
    "\n",
    "New in version 0.20.0."
   ]
  },
  {
   "cell_type": "code",
   "execution_count": null,
   "metadata": {
    "hide-output": false
   },
   "outputs": [],
   "source": [
    "pd.set_option('compute.use_bottleneck', False)\n",
    "pd.set_option('compute.use_numexpr', False)"
   ]
  },
  {
   "cell_type": "markdown",
   "metadata": {},
   "source": [
    "\n",
    "<a id='basics-binop'></a>"
   ]
  },
  {
   "cell_type": "markdown",
   "metadata": {},
   "source": [
    "## Flexible binary operations\n",
    "\n",
    "With binary operations between pandas data structures, there are two key points\n",
    "of interest:\n",
    "\n",
    "- Broadcasting behavior between higher- (e.g. DataFrame) and\n",
    "  lower-dimensional (e.g. Series) objects.  \n",
    "- Missing data in computations.  \n",
    "\n",
    "\n",
    "We will demonstrate how to manage these issues independently, though they can\n",
    "be handled simultaneously."
   ]
  },
  {
   "cell_type": "markdown",
   "metadata": {},
   "source": [
    "### Matching / broadcasting behavior\n",
    "\n",
    "DataFrame has the methods `add()`, `sub()`,\n",
    "`mul()`, `div()` and related functions\n",
    "`radd()`, `rsub()`, …\n",
    "for carrying out binary operations. For broadcasting behavior,\n",
    "Series input is of primary interest. Using these functions, you can use to\n",
    "either match on the *index* or *columns* via the **axis** keyword:"
   ]
  },
  {
   "cell_type": "code",
   "execution_count": null,
   "metadata": {
    "hide-output": false
   },
   "outputs": [],
   "source": [
    "df = pd.DataFrame({\n",
    "    'one': pd.Series(np.random.randn(3), index=['a', 'b', 'c']),\n",
    "    'two': pd.Series(np.random.randn(4), index=['a', 'b', 'c', 'd']),\n",
    "    'three': pd.Series(np.random.randn(3), index=['b', 'c', 'd'])})\n",
    "df\n",
    "row = df.iloc[1]\n",
    "column = df['two']\n",
    "\n",
    "df.sub(row, axis='columns')\n",
    "df.sub(row, axis=1)\n",
    "\n",
    "df.sub(column, axis='index')\n",
    "df.sub(column, axis=0)"
   ]
  },
  {
   "cell_type": "markdown",
   "metadata": {},
   "source": [
    "Furthermore you can align a level of a MultiIndexed DataFrame with a Series."
   ]
  },
  {
   "cell_type": "code",
   "execution_count": null,
   "metadata": {
    "hide-output": false
   },
   "outputs": [],
   "source": [
    "dfmi = df.copy()\n",
    "dfmi.index = pd.MultiIndex.from_tuples([(1, 'a'), (1, 'b'),\n",
    "                                        (1, 'c'), (2, 'a')],\n",
    "                                       names=['first', 'second'])\n",
    "dfmi.sub(column, axis=0, level='second')"
   ]
  },
  {
   "cell_type": "markdown",
   "metadata": {},
   "source": [
    "Series and Index also support the [`divmod()`](https://docs.python.org/3/library/functions.html#divmod) builtin. This function takes\n",
    "the floor division and modulo operation at the same time returning a two-tuple\n",
    "of the same type as the left hand side. For example:"
   ]
  },
  {
   "cell_type": "code",
   "execution_count": null,
   "metadata": {
    "hide-output": false
   },
   "outputs": [],
   "source": [
    "s = pd.Series(np.arange(10))\n",
    "s\n",
    "div, rem = divmod(s, 3)\n",
    "div\n",
    "rem\n",
    "\n",
    "idx = pd.Index(np.arange(10))\n",
    "idx\n",
    "div, rem = divmod(idx, 3)\n",
    "div\n",
    "rem"
   ]
  },
  {
   "cell_type": "markdown",
   "metadata": {},
   "source": [
    "We can also do elementwise [`divmod()`](https://docs.python.org/3/library/functions.html#divmod):"
   ]
  },
  {
   "cell_type": "code",
   "execution_count": null,
   "metadata": {
    "hide-output": false
   },
   "outputs": [],
   "source": [
    "div, rem = divmod(s, [2, 2, 3, 3, 4, 4, 5, 5, 6, 6])\n",
    "div\n",
    "rem"
   ]
  },
  {
   "cell_type": "markdown",
   "metadata": {},
   "source": [
    "### Missing data / operations with fill values\n",
    "\n",
    "In Series and DataFrame, the arithmetic functions have the option of inputting\n",
    "a *fill_value*, namely a value to substitute when at most one of the values at\n",
    "a location are missing. For example, when adding two DataFrame objects, you may\n",
    "wish to treat NaN as 0 unless both DataFrames are missing that value, in which\n",
    "case the result will be NaN (you can later replace NaN with some other value\n",
    "using `fillna` if you wish)."
   ]
  },
  {
   "cell_type": "code",
   "execution_count": null,
   "metadata": {
    "hide-output": false
   },
   "outputs": [],
   "source": [
    "df\n",
    "df2\n",
    "df + df2\n",
    "df.add(df2, fill_value=0)"
   ]
  },
  {
   "cell_type": "markdown",
   "metadata": {},
   "source": [
    "\n",
    "<a id='basics-compare'></a>"
   ]
  },
  {
   "cell_type": "markdown",
   "metadata": {},
   "source": [
    "### Flexible comparisons\n",
    "\n",
    "Series and DataFrame have the binary comparison methods `eq`, `ne`, `lt`, `gt`,\n",
    "`le`, and `ge` whose behavior is analogous to the binary\n",
    "arithmetic operations described above:"
   ]
  },
  {
   "cell_type": "code",
   "execution_count": null,
   "metadata": {
    "hide-output": false
   },
   "outputs": [],
   "source": [
    "df.gt(df2)\n",
    "df2.ne(df)"
   ]
  },
  {
   "cell_type": "markdown",
   "metadata": {},
   "source": [
    "These operations produce a pandas object of the same type as the left-hand-side\n",
    "input that is of dtype `bool`. These `boolean` objects can be used in\n",
    "indexing operations, see the section on [Boolean indexing](user_guide/indexing.ipynb#indexing-boolean).\n",
    "\n",
    "\n",
    "<a id='basics-reductions'></a>"
   ]
  },
  {
   "cell_type": "markdown",
   "metadata": {},
   "source": [
    "### Boolean reductions\n",
    "\n",
    "You can apply the reductions: `empty`, `any()`,\n",
    "`all()`, and `bool()` to provide a\n",
    "way to summarize a boolean result."
   ]
  },
  {
   "cell_type": "code",
   "execution_count": null,
   "metadata": {
    "hide-output": false
   },
   "outputs": [],
   "source": [
    "(df > 0).all()\n",
    "(df > 0).any()"
   ]
  },
  {
   "cell_type": "markdown",
   "metadata": {},
   "source": [
    "You can reduce to a final boolean value."
   ]
  },
  {
   "cell_type": "code",
   "execution_count": null,
   "metadata": {
    "hide-output": false
   },
   "outputs": [],
   "source": [
    "(df > 0).any().any()"
   ]
  },
  {
   "cell_type": "markdown",
   "metadata": {},
   "source": [
    "You can test if a pandas object is empty, via the `empty` property."
   ]
  },
  {
   "cell_type": "code",
   "execution_count": null,
   "metadata": {
    "hide-output": false
   },
   "outputs": [],
   "source": [
    "df.empty\n",
    "pd.DataFrame(columns=list('ABC')).empty"
   ]
  },
  {
   "cell_type": "markdown",
   "metadata": {},
   "source": [
    "To evaluate single-element pandas objects in a boolean context, use the method\n",
    "`bool()`:"
   ]
  },
  {
   "cell_type": "code",
   "execution_count": null,
   "metadata": {
    "hide-output": false
   },
   "outputs": [],
   "source": [
    "pd.Series([True]).bool()\n",
    "pd.Series([False]).bool()\n",
    "pd.DataFrame([[True]]).bool()\n",
    "pd.DataFrame([[False]]).bool()"
   ]
  },
  {
   "cell_type": "markdown",
   "metadata": {},
   "source": [
    "You might be tempted to do the following:"
   ]
  },
  {
   "cell_type": "code",
   "execution_count": null,
   "metadata": {
    "hide-output": false
   },
   "outputs": [],
   "source": [
    ">>> if df:\n",
    "...     pass"
   ]
  },
  {
   "cell_type": "markdown",
   "metadata": {},
   "source": [
    "Or"
   ]
  },
  {
   "cell_type": "code",
   "execution_count": null,
   "metadata": {
    "hide-output": false
   },
   "outputs": [],
   "source": [
    ">>> df and df2"
   ]
  },
  {
   "cell_type": "markdown",
   "metadata": {},
   "source": [
    "These will both raise errors, as you are trying to compare multiple values.:"
   ]
  },
  {
   "cell_type": "code",
   "execution_count": null,
   "metadata": {
    "hide-output": false
   },
   "outputs": [],
   "source": [
    "ValueError: The truth value of an array is ambiguous. Use a.empty, a.any() or a.all()."
   ]
  },
  {
   "cell_type": "markdown",
   "metadata": {},
   "source": [
    "See [gotchas](user_guide/gotchas.ipynb#gotchas-truth) for a more detailed discussion.\n",
    "\n",
    "\n",
    "<a id='basics-equals'></a>"
   ]
  },
  {
   "cell_type": "markdown",
   "metadata": {},
   "source": [
    "### Comparing if objects are equivalent\n",
    "\n",
    "Often you may find that there is more than one way to compute the same\n",
    "result.  As a simple example, consider `df + df` and `df * 2`. To test\n",
    "that these two computations produce the same result, given the tools\n",
    "shown above, you might imagine using `(df + df == df * 2).all()`. But in\n",
    "fact, this expression is False:"
   ]
  },
  {
   "cell_type": "code",
   "execution_count": null,
   "metadata": {
    "hide-output": false
   },
   "outputs": [],
   "source": [
    "df + df == df * 2\n",
    "(df + df == df * 2).all()"
   ]
  },
  {
   "cell_type": "markdown",
   "metadata": {},
   "source": [
    "Notice that the boolean DataFrame `df + df == df * 2` contains some False values!\n",
    "This is because NaNs do not compare as equals:"
   ]
  },
  {
   "cell_type": "code",
   "execution_count": null,
   "metadata": {
    "hide-output": false
   },
   "outputs": [],
   "source": [
    "np.nan == np.nan"
   ]
  },
  {
   "cell_type": "markdown",
   "metadata": {},
   "source": [
    "So, NDFrames (such as Series and DataFrames)\n",
    "have an `equals()` method for testing equality, with NaNs in\n",
    "corresponding locations treated as equal."
   ]
  },
  {
   "cell_type": "code",
   "execution_count": null,
   "metadata": {
    "hide-output": false
   },
   "outputs": [],
   "source": [
    "(df + df).equals(df * 2)"
   ]
  },
  {
   "cell_type": "markdown",
   "metadata": {},
   "source": [
    "Note that the Series or DataFrame index needs to be in the same order for\n",
    "equality to be True:"
   ]
  },
  {
   "cell_type": "code",
   "execution_count": null,
   "metadata": {
    "hide-output": false
   },
   "outputs": [],
   "source": [
    "df1 = pd.DataFrame({'col': ['foo', 0, np.nan]})\n",
    "df2 = pd.DataFrame({'col': [np.nan, 0, 'foo']}, index=[2, 1, 0])\n",
    "df1.equals(df2)\n",
    "df1.equals(df2.sort_index())"
   ]
  },
  {
   "cell_type": "markdown",
   "metadata": {},
   "source": [
    "### Comparing array-like objects\n",
    "\n",
    "You can conveniently perform element-wise comparisons when comparing a pandas\n",
    "data structure with a scalar value:"
   ]
  },
  {
   "cell_type": "code",
   "execution_count": null,
   "metadata": {
    "hide-output": false
   },
   "outputs": [],
   "source": [
    "pd.Series(['foo', 'bar', 'baz']) == 'foo'\n",
    "pd.Index(['foo', 'bar', 'baz']) == 'foo'"
   ]
  },
  {
   "cell_type": "markdown",
   "metadata": {},
   "source": [
    "Pandas also handles element-wise comparisons between different array-like\n",
    "objects of the same length:"
   ]
  },
  {
   "cell_type": "code",
   "execution_count": null,
   "metadata": {
    "hide-output": false
   },
   "outputs": [],
   "source": [
    "pd.Series(['foo', 'bar', 'baz']) == pd.Index(['foo', 'bar', 'qux'])\n",
    "pd.Series(['foo', 'bar', 'baz']) == np.array(['foo', 'bar', 'qux'])"
   ]
  },
  {
   "cell_type": "markdown",
   "metadata": {},
   "source": [
    "Trying to compare `Index` or `Series` objects of different lengths will\n",
    "raise a ValueError:"
   ]
  },
  {
   "cell_type": "markdown",
   "metadata": {
    "hide-output": false
   },
   "source": [
    "```ipython\n",
    "In [55]: pd.Series(['foo', 'bar', 'baz']) == pd.Series(['foo', 'bar'])\n",
    "ValueError: Series lengths must match to compare\n",
    "\n",
    "In [56]: pd.Series(['foo', 'bar', 'baz']) == pd.Series(['foo'])\n",
    "ValueError: Series lengths must match to compare\n",
    "```\n"
   ]
  },
  {
   "cell_type": "markdown",
   "metadata": {},
   "source": [
    "Note that this is different from the NumPy behavior where a comparison can\n",
    "be broadcast:"
   ]
  },
  {
   "cell_type": "code",
   "execution_count": null,
   "metadata": {
    "hide-output": false
   },
   "outputs": [],
   "source": [
    "np.array([1, 2, 3]) == np.array([2])"
   ]
  },
  {
   "cell_type": "markdown",
   "metadata": {},
   "source": [
    "or it can return False if broadcasting can not be done:"
   ]
  },
  {
   "cell_type": "markdown",
   "metadata": {},
   "source": [
    "### Combining overlapping data sets\n",
    "\n",
    "A problem occasionally arising is the combination of two similar data sets\n",
    "where values in one are preferred over the other. An example would be two data\n",
    "series representing a particular economic indicator where one is considered to\n",
    "be of “higher quality”. However, the lower quality series might extend further\n",
    "back in history or have more complete data coverage. As such, we would like to\n",
    "combine two DataFrame objects where missing values in one DataFrame are\n",
    "conditionally filled with like-labeled values from the other DataFrame. The\n",
    "function implementing this operation is `combine_first()`,\n",
    "which we illustrate:"
   ]
  },
  {
   "cell_type": "code",
   "execution_count": null,
   "metadata": {
    "hide-output": false
   },
   "outputs": [],
   "source": [
    "df1 = pd.DataFrame({'A': [1., np.nan, 3., 5., np.nan],\n",
    "                    'B': [np.nan, 2., 3., np.nan, 6.]})\n",
    "df2 = pd.DataFrame({'A': [5., 2., 4., np.nan, 3., 7.],\n",
    "                    'B': [np.nan, np.nan, 3., 4., 6., 8.]})\n",
    "df1\n",
    "df2\n",
    "df1.combine_first(df2)"
   ]
  },
  {
   "cell_type": "markdown",
   "metadata": {},
   "source": [
    "### General DataFrame combine\n",
    "\n",
    "The `combine_first()` method above calls the more general\n",
    "`DataFrame.combine()`. This method takes another DataFrame\n",
    "and a combiner function, aligns the input DataFrame and then passes the combiner\n",
    "function pairs of Series (i.e., columns whose names are the same).\n",
    "\n",
    "So, for instance, to reproduce `combine_first()` as above:"
   ]
  },
  {
   "cell_type": "code",
   "execution_count": null,
   "metadata": {
    "hide-output": false
   },
   "outputs": [],
   "source": [
    "def combiner(x, y):\n",
    "    return np.where(pd.isna(x), y, x)\n",
    "df1.combine(df2, combiner)"
   ]
  },
  {
   "cell_type": "markdown",
   "metadata": {},
   "source": [
    "\n",
    "<a id='basics-stats'></a>"
   ]
  },
  {
   "cell_type": "markdown",
   "metadata": {},
   "source": [
    "## Descriptive statistics\n",
    "\n",
    "There exists a large number of methods for computing descriptive statistics and\n",
    "other related operations on Series, DataFrame. Most of these\n",
    "are aggregations (hence producing a lower-dimensional result) like\n",
    "`sum()`, `mean()`, and `quantile()`,\n",
    "but some of them, like `cumsum()` and `cumprod()`,\n",
    "produce an object of the same size. Generally speaking, these methods take an\n",
    "**axis** argument, just like *ndarray.{sum, std, …}*, but the axis can be\n",
    "specified by name or integer:\n",
    "\n",
    "- **Series**: no axis argument needed  \n",
    "- **DataFrame**: “index” (axis=0, default), “columns” (axis=1)  \n",
    "\n",
    "\n",
    "For example:"
   ]
  },
  {
   "cell_type": "code",
   "execution_count": null,
   "metadata": {
    "hide-output": false
   },
   "outputs": [],
   "source": [
    "df\n",
    "df.mean(0)\n",
    "df.mean(1)"
   ]
  },
  {
   "cell_type": "markdown",
   "metadata": {},
   "source": [
    "All such methods have a `skipna` option signaling whether to exclude missing\n",
    "data (`True` by default):"
   ]
  },
  {
   "cell_type": "code",
   "execution_count": null,
   "metadata": {
    "hide-output": false
   },
   "outputs": [],
   "source": [
    "df.sum(0, skipna=False)\n",
    "df.sum(axis=1, skipna=True)"
   ]
  },
  {
   "cell_type": "markdown",
   "metadata": {},
   "source": [
    "Combined with the broadcasting / arithmetic behavior, one can describe various\n",
    "statistical procedures, like standardization (rendering data zero mean and\n",
    "standard deviation 1), very concisely:"
   ]
  },
  {
   "cell_type": "code",
   "execution_count": null,
   "metadata": {
    "hide-output": false
   },
   "outputs": [],
   "source": [
    "ts_stand = (df - df.mean()) / df.std()\n",
    "ts_stand.std()\n",
    "xs_stand = df.sub(df.mean(1), axis=0).div(df.std(1), axis=0)\n",
    "xs_stand.std(1)"
   ]
  },
  {
   "cell_type": "markdown",
   "metadata": {},
   "source": [
    "Note that methods like `cumsum()` and `cumprod()`\n",
    "preserve the location of `NaN` values. This is somewhat different from\n",
    "`expanding()` and `rolling()`.\n",
    "For more details please see [this note](user_guide/computation.ipynb#stats-moments-expanding-note)."
   ]
  },
  {
   "cell_type": "code",
   "execution_count": null,
   "metadata": {
    "hide-output": false
   },
   "outputs": [],
   "source": [
    "df.cumsum()"
   ]
  },
  {
   "cell_type": "markdown",
   "metadata": {},
   "source": [
    "Here is a quick reference summary table of common functions. Each also takes an\n",
    "optional `level` parameter which applies only if the object has a\n",
    "[hierarchical index](user_guide/advanced.ipynb#advanced-hierarchical).\n",
    "\n",
    "````````````````````````````````````````|Function|Description|\n",
    "|:------------------:|:------------------------------------------------------------------------------:|\n",
    "|count|Number of non-NA observations|\n",
    "|sum|Sum of values|\n",
    "|mean|Mean of values|\n",
    "|mad|Mean absolute deviation|\n",
    "|median|Arithmetic median of values|\n",
    "|min|Minimum|\n",
    "|max|Maximum|\n",
    "|mode|Mode|\n",
    "|abs|Absolute Value|\n",
    "|prod|Product of values|\n",
    "|std|Bessel-corrected sample standard deviation|\n",
    "|var|Unbiased variance|\n",
    "|sem|Standard error of the mean|\n",
    "|skew|Sample skewness (3rd moment)|\n",
    "|kurt|Sample kurtosis (4th moment)|\n",
    "|quantile|Sample quantile (value at %)|\n",
    "|cumsum|Cumulative sum|\n",
    "|cumprod|Cumulative product|\n",
    "|cummax|Cumulative maximum|\n",
    "|cummin|Cumulative minimum|\n",
    "Note that by chance some NumPy methods, like `mean`, `std`, and `sum`,\n",
    "will exclude NAs on Series input by default:"
   ]
  },
  {
   "cell_type": "code",
   "execution_count": null,
   "metadata": {
    "hide-output": false
   },
   "outputs": [],
   "source": [
    "np.mean(df['one'])\n",
    "np.mean(df['one'].to_numpy())"
   ]
  },
  {
   "cell_type": "markdown",
   "metadata": {},
   "source": [
    "`Series.nunique()` will return the number of unique non-NA values in a\n",
    "Series:"
   ]
  },
  {
   "cell_type": "code",
   "execution_count": null,
   "metadata": {
    "hide-output": false
   },
   "outputs": [],
   "source": [
    "series = pd.Series(np.random.randn(500))\n",
    "series[20:500] = np.nan\n",
    "series[10:20] = 5\n",
    "series.nunique()"
   ]
  },
  {
   "cell_type": "markdown",
   "metadata": {},
   "source": [
    "\n",
    "<a id='basics-describe'></a>"
   ]
  },
  {
   "cell_type": "markdown",
   "metadata": {},
   "source": [
    "### Summarizing data: describe\n",
    "\n",
    "There is a convenient `describe()` function which computes a variety of summary\n",
    "statistics about a Series or the columns of a DataFrame (excluding NAs of\n",
    "course):"
   ]
  },
  {
   "cell_type": "code",
   "execution_count": null,
   "metadata": {
    "hide-output": false
   },
   "outputs": [],
   "source": [
    "series = pd.Series(np.random.randn(1000))\n",
    "series[::2] = np.nan\n",
    "series.describe()\n",
    "frame = pd.DataFrame(np.random.randn(1000, 5),\n",
    "                     columns=['a', 'b', 'c', 'd', 'e'])\n",
    "frame.iloc[::2] = np.nan\n",
    "frame.describe()"
   ]
  },
  {
   "cell_type": "markdown",
   "metadata": {},
   "source": [
    "You can select specific percentiles to include in the output:"
   ]
  },
  {
   "cell_type": "code",
   "execution_count": null,
   "metadata": {
    "hide-output": false
   },
   "outputs": [],
   "source": [
    "series.describe(percentiles=[.05, .25, .75, .95])"
   ]
  },
  {
   "cell_type": "markdown",
   "metadata": {},
   "source": [
    "By default, the median is always included.\n",
    "\n",
    "For a non-numerical Series object, `describe()` will give a simple\n",
    "summary of the number of unique values and most frequently occurring values:"
   ]
  },
  {
   "cell_type": "code",
   "execution_count": null,
   "metadata": {
    "hide-output": false
   },
   "outputs": [],
   "source": [
    "s = pd.Series(['a', 'a', 'b', 'b', 'a', 'a', np.nan, 'c', 'd', 'a'])\n",
    "s.describe()"
   ]
  },
  {
   "cell_type": "markdown",
   "metadata": {},
   "source": [
    "Note that on a mixed-type DataFrame object, `describe()` will\n",
    "restrict the summary to include only numerical columns or, if none are, only\n",
    "categorical columns:"
   ]
  },
  {
   "cell_type": "code",
   "execution_count": null,
   "metadata": {
    "hide-output": false
   },
   "outputs": [],
   "source": [
    "frame = pd.DataFrame({'a': ['Yes', 'Yes', 'No', 'No'], 'b': range(4)})\n",
    "frame.describe()"
   ]
  },
  {
   "cell_type": "markdown",
   "metadata": {},
   "source": [
    "This behavior can be controlled by providing a list of types as `include`/`exclude`\n",
    "arguments. The special value `all` can also be used:"
   ]
  },
  {
   "cell_type": "code",
   "execution_count": null,
   "metadata": {
    "hide-output": false
   },
   "outputs": [],
   "source": [
    "frame.describe(include=['object'])\n",
    "frame.describe(include=['number'])\n",
    "frame.describe(include='all')"
   ]
  },
  {
   "cell_type": "markdown",
   "metadata": {},
   "source": [
    "That feature relies on [select_dtypes](#basics-selectdtypes). Refer to\n",
    "there for details about accepted inputs.\n",
    "\n",
    "\n",
    "<a id='basics-idxmin'></a>"
   ]
  },
  {
   "cell_type": "markdown",
   "metadata": {},
   "source": [
    "### Index of min/max values\n",
    "\n",
    "The `idxmin()` and `idxmax()` functions on Series\n",
    "and DataFrame compute the index labels with the minimum and maximum\n",
    "corresponding values:"
   ]
  },
  {
   "cell_type": "code",
   "execution_count": null,
   "metadata": {
    "hide-output": false
   },
   "outputs": [],
   "source": [
    "s1 = pd.Series(np.random.randn(5))\n",
    "s1\n",
    "s1.idxmin(), s1.idxmax()\n",
    "\n",
    "df1 = pd.DataFrame(np.random.randn(5, 3), columns=['A', 'B', 'C'])\n",
    "df1\n",
    "df1.idxmin(axis=0)\n",
    "df1.idxmax(axis=1)"
   ]
  },
  {
   "cell_type": "markdown",
   "metadata": {},
   "source": [
    "When there are multiple rows (or columns) matching the minimum or maximum\n",
    "value, `idxmin()` and `idxmax()` return the first\n",
    "matching index:"
   ]
  },
  {
   "cell_type": "code",
   "execution_count": null,
   "metadata": {
    "hide-output": false
   },
   "outputs": [],
   "source": [
    "df3 = pd.DataFrame([2, 1, 1, 3, np.nan], columns=['A'], index=list('edcba'))\n",
    "df3\n",
    "df3['A'].idxmin()"
   ]
  },
  {
   "cell_type": "markdown",
   "metadata": {},
   "source": [
    ">**Note**\n",
    ">\n",
    ">`idxmin` and `idxmax` are called `argmin` and `argmax` in NumPy.\n",
    "\n",
    "\n",
    "<a id='basics-discretization'></a>"
   ]
  },
  {
   "cell_type": "markdown",
   "metadata": {},
   "source": [
    "### Value counts (histogramming) / mode\n",
    "\n",
    "The `value_counts()` Series method and top-level function computes a histogram\n",
    "of a 1D array of values. It can also be used as a function on regular arrays:"
   ]
  },
  {
   "cell_type": "code",
   "execution_count": null,
   "metadata": {
    "hide-output": false
   },
   "outputs": [],
   "source": [
    "data = np.random.randint(0, 7, size=50)\n",
    "data\n",
    "s = pd.Series(data)\n",
    "s.value_counts()\n",
    "pd.value_counts(data)"
   ]
  },
  {
   "cell_type": "markdown",
   "metadata": {},
   "source": [
    "Similarly, you can get the most frequently occurring value(s) (the mode) of the values in a Series or DataFrame:"
   ]
  },
  {
   "cell_type": "code",
   "execution_count": null,
   "metadata": {
    "hide-output": false
   },
   "outputs": [],
   "source": [
    "s5 = pd.Series([1, 1, 3, 3, 3, 5, 5, 7, 7, 7])\n",
    "s5.mode()\n",
    "df5 = pd.DataFrame({\"A\": np.random.randint(0, 7, size=50),\n",
    "                    \"B\": np.random.randint(-10, 15, size=50)})\n",
    "df5.mode()"
   ]
  },
  {
   "cell_type": "markdown",
   "metadata": {},
   "source": [
    "### Discretization and quantiling\n",
    "\n",
    "Continuous values can be discretized using the `cut()` (bins based on values)\n",
    "and `qcut()` (bins based on sample quantiles) functions:"
   ]
  },
  {
   "cell_type": "code",
   "execution_count": null,
   "metadata": {
    "hide-output": false
   },
   "outputs": [],
   "source": [
    "arr = np.random.randn(20)\n",
    "factor = pd.cut(arr, 4)\n",
    "factor\n",
    "\n",
    "factor = pd.cut(arr, [-5, -1, 0, 1, 5])\n",
    "factor"
   ]
  },
  {
   "cell_type": "markdown",
   "metadata": {},
   "source": [
    "`qcut()` computes sample quantiles. For example, we could slice up some\n",
    "normally distributed data into equal-size quartiles like so:"
   ]
  },
  {
   "cell_type": "code",
   "execution_count": null,
   "metadata": {
    "hide-output": false
   },
   "outputs": [],
   "source": [
    "arr = np.random.randn(30)\n",
    "factor = pd.qcut(arr, [0, .25, .5, .75, 1])\n",
    "factor\n",
    "pd.value_counts(factor)"
   ]
  },
  {
   "cell_type": "markdown",
   "metadata": {},
   "source": [
    "We can also pass infinite values to define the bins:"
   ]
  },
  {
   "cell_type": "code",
   "execution_count": null,
   "metadata": {
    "hide-output": false
   },
   "outputs": [],
   "source": [
    "arr = np.random.randn(20)\n",
    "factor = pd.cut(arr, [-np.inf, 0, np.inf])\n",
    "factor"
   ]
  },
  {
   "cell_type": "markdown",
   "metadata": {},
   "source": [
    "\n",
    "<a id='basics-apply'></a>"
   ]
  },
  {
   "cell_type": "markdown",
   "metadata": {},
   "source": [
    "## Function application\n",
    "\n",
    "To apply your own or another library’s functions to pandas objects,\n",
    "you should be aware of the three methods below. The appropriate\n",
    "method to use depends on whether your function expects to operate\n",
    "on an entire `DataFrame` or `Series`, row- or column-wise, or elementwise.\n",
    "\n",
    "1. [Tablewise Function Application](#tablewise-function-application): `pipe()`  \n",
    "1. [Row or Column-wise Function Application](#row-or-column-wise-function-application): `apply()`  \n",
    "1. [Aggregation API](#aggregation-api): `agg()` and `transform()`  \n",
    "1. [Applying Elementwise Functions](#applying-elementwise-functions): `applymap()`  \n",
    "\n",
    "\n",
    "\n",
    "<a id='basics-pipe'></a>"
   ]
  },
  {
   "cell_type": "markdown",
   "metadata": {},
   "source": [
    "### Tablewise function application\n",
    "\n",
    "`DataFrames` and `Series` can of course just be passed into functions.\n",
    "However, if the function needs to be called in a chain, consider using the `pipe()` method.\n",
    "Compare the following"
   ]
  },
  {
   "cell_type": "code",
   "execution_count": null,
   "metadata": {
    "hide-output": false
   },
   "outputs": [],
   "source": [
    "# f, g, and h are functions taking and returning ``DataFrames``\n",
    ">>> f(g(h(df), arg1=1), arg2=2, arg3=3)"
   ]
  },
  {
   "cell_type": "markdown",
   "metadata": {},
   "source": [
    "with the equivalent"
   ]
  },
  {
   "cell_type": "code",
   "execution_count": null,
   "metadata": {
    "hide-output": false
   },
   "outputs": [],
   "source": [
    ">>> (df.pipe(h)\n",
    "...    .pipe(g, arg1=1)\n",
    "...    .pipe(f, arg2=2, arg3=3))"
   ]
  },
  {
   "cell_type": "markdown",
   "metadata": {},
   "source": [
    "Pandas encourages the second style, which is known as method chaining.\n",
    "`pipe` makes it easy to use your own or another library’s functions\n",
    "in method chains, alongside pandas’ methods.\n",
    "\n",
    "In the example above, the functions `f`, `g`, and `h` each expected the `DataFrame` as the first positional argument.\n",
    "What if the function you wish to apply takes its data as, say, the second argument?\n",
    "In this case, provide `pipe` with a tuple of `(callable, data_keyword)`.\n",
    "`.pipe` will route the `DataFrame` to the argument specified in the tuple.\n",
    "\n",
    "For example, we can fit a regression using statsmodels. Their API expects a formula first and a `DataFrame` as the second argument, `data`. We pass in the function, keyword pair `(sm.ols, 'data')` to `pipe`:\n",
    "\n",
    "The pipe method is inspired by unix pipes and more recently [dplyr](https://github.com/hadley/dplyr) and [magrittr](https://github.com/smbache/magrittr), which\n",
    "have introduced the popular `(%>%)` (read pipe) operator for [R](https://www.r-project.org).\n",
    "The implementation of `pipe` here is quite clean and feels right at home in python.\n",
    "We encourage you to view the source code of `pipe()`."
   ]
  },
  {
   "cell_type": "markdown",
   "metadata": {},
   "source": [
    "### Row or column-wise function application\n",
    "\n",
    "Arbitrary functions can be applied along the axes of a DataFrame\n",
    "using the `apply()` method, which, like the descriptive\n",
    "statistics methods, takes an optional `axis` argument:"
   ]
  },
  {
   "cell_type": "code",
   "execution_count": null,
   "metadata": {
    "hide-output": false
   },
   "outputs": [],
   "source": [
    "df.apply(np.mean)\n",
    "df.apply(np.mean, axis=1)\n",
    "df.apply(lambda x: x.max() - x.min())\n",
    "df.apply(np.cumsum)\n",
    "df.apply(np.exp)"
   ]
  },
  {
   "cell_type": "markdown",
   "metadata": {},
   "source": [
    "The `apply()` method will also dispatch on a string method name."
   ]
  },
  {
   "cell_type": "code",
   "execution_count": null,
   "metadata": {
    "hide-output": false
   },
   "outputs": [],
   "source": [
    "df.apply('mean')\n",
    "df.apply('mean', axis=1)"
   ]
  },
  {
   "cell_type": "markdown",
   "metadata": {},
   "source": [
    "The return type of the function passed to `apply()` affects the\n",
    "type of the final output from `DataFrame.apply` for the default behaviour:\n",
    "\n",
    "- If the applied function returns a `Series`, the final output is a `DataFrame`.\n",
    "  The columns match the index of the `Series` returned by the applied function.  \n",
    "- If the applied function returns any other type, the final output is a `Series`.  \n",
    "\n",
    "\n",
    "This default behaviour can be overridden using the `result_type`, which\n",
    "accepts three options: `reduce`, `broadcast`, and `expand`.\n",
    "These will determine how list-likes return values expand (or not) to a `DataFrame`.\n",
    "\n",
    "`apply()` combined with some cleverness can be used to answer many questions\n",
    "about a data set. For example, suppose we wanted to extract the date where the\n",
    "maximum value for each column occurred:"
   ]
  },
  {
   "cell_type": "code",
   "execution_count": null,
   "metadata": {
    "hide-output": false
   },
   "outputs": [],
   "source": [
    "tsdf = pd.DataFrame(np.random.randn(1000, 3), columns=['A', 'B', 'C'],\n",
    "                    index=pd.date_range('1/1/2000', periods=1000))\n",
    "tsdf.apply(lambda x: x.idxmax())"
   ]
  },
  {
   "cell_type": "markdown",
   "metadata": {},
   "source": [
    "You may also pass additional arguments and keyword arguments to the `apply()`\n",
    "method. For instance, consider the following function you would like to apply:"
   ]
  },
  {
   "cell_type": "code",
   "execution_count": null,
   "metadata": {
    "hide-output": false
   },
   "outputs": [],
   "source": [
    "def subtract_and_divide(x, sub, divide=1):\n",
    "    return (x - sub) / divide"
   ]
  },
  {
   "cell_type": "markdown",
   "metadata": {},
   "source": [
    "You may then apply this function as follows:"
   ]
  },
  {
   "cell_type": "code",
   "execution_count": null,
   "metadata": {
    "hide-output": false
   },
   "outputs": [],
   "source": [
    "df.apply(subtract_and_divide, args=(5,), divide=3)"
   ]
  },
  {
   "cell_type": "markdown",
   "metadata": {},
   "source": [
    "Another useful feature is the ability to pass Series methods to carry out some\n",
    "Series operation on each column or row:"
   ]
  },
  {
   "cell_type": "code",
   "execution_count": null,
   "metadata": {
    "hide-output": false
   },
   "outputs": [],
   "source": [
    "tsdf\n",
    "tsdf.apply(pd.Series.interpolate)"
   ]
  },
  {
   "cell_type": "markdown",
   "metadata": {},
   "source": [
    "Finally, `apply()` takes an argument `raw` which is False by default, which\n",
    "converts each row or column into a Series before applying the function. When\n",
    "set to True, the passed function will instead receive an ndarray object, which\n",
    "has positive performance implications if you do not need the indexing\n",
    "functionality.\n",
    "\n",
    "\n",
    "<a id='basics-aggregate'></a>"
   ]
  },
  {
   "cell_type": "markdown",
   "metadata": {},
   "source": [
    "### Aggregation API\n",
    "\n",
    "New in version 0.20.0.\n",
    "\n",
    "The aggregation API allows one to express possibly multiple aggregation operations in a single concise way.\n",
    "This API is similar across pandas objects, see [groupby API](user_guide/groupby.ipynb#groupby-aggregate), the\n",
    "[window functions API](user_guide/computation.ipynb#stats-aggregate), and the [resample API](user_guide/timeseries.ipynb#timeseries-aggregate).\n",
    "The entry point for aggregation is `DataFrame.aggregate()`, or the alias\n",
    "`DataFrame.agg()`.\n",
    "\n",
    "We will use a similar starting frame from above:"
   ]
  },
  {
   "cell_type": "code",
   "execution_count": null,
   "metadata": {
    "hide-output": false
   },
   "outputs": [],
   "source": [
    "tsdf = pd.DataFrame(np.random.randn(10, 3), columns=['A', 'B', 'C'],\n",
    "                    index=pd.date_range('1/1/2000', periods=10))\n",
    "tsdf.iloc[3:7] = np.nan\n",
    "tsdf"
   ]
  },
  {
   "cell_type": "markdown",
   "metadata": {},
   "source": [
    "Using a single function is equivalent to `apply()`. You can also\n",
    "pass named methods as strings. These will return a `Series` of the aggregated\n",
    "output:"
   ]
  },
  {
   "cell_type": "code",
   "execution_count": null,
   "metadata": {
    "hide-output": false
   },
   "outputs": [],
   "source": [
    "tsdf.agg(np.sum)\n",
    "\n",
    "tsdf.agg('sum')\n",
    "\n",
    "# these are equivalent to a ``.sum()`` because we are aggregating\n",
    "# on a single function\n",
    "tsdf.sum()"
   ]
  },
  {
   "cell_type": "markdown",
   "metadata": {},
   "source": [
    "Single aggregations on a `Series` this will return a scalar value:"
   ]
  },
  {
   "cell_type": "code",
   "execution_count": null,
   "metadata": {
    "hide-output": false
   },
   "outputs": [],
   "source": [
    "tsdf.A.agg('sum')"
   ]
  },
  {
   "cell_type": "markdown",
   "metadata": {},
   "source": [
    "#### Aggregating with multiple functions\n",
    "\n",
    "You can pass multiple aggregation arguments as a list.\n",
    "The results of each of the passed functions will be a row in the resulting `DataFrame`.\n",
    "These are naturally named from the aggregation function."
   ]
  },
  {
   "cell_type": "code",
   "execution_count": null,
   "metadata": {
    "hide-output": false
   },
   "outputs": [],
   "source": [
    "tsdf.agg(['sum'])"
   ]
  },
  {
   "cell_type": "markdown",
   "metadata": {},
   "source": [
    "Multiple functions yield multiple rows:"
   ]
  },
  {
   "cell_type": "code",
   "execution_count": null,
   "metadata": {
    "hide-output": false
   },
   "outputs": [],
   "source": [
    "tsdf.agg(['sum', 'mean'])"
   ]
  },
  {
   "cell_type": "markdown",
   "metadata": {},
   "source": [
    "On a `Series`, multiple functions return a `Series`, indexed by the function names:"
   ]
  },
  {
   "cell_type": "code",
   "execution_count": null,
   "metadata": {
    "hide-output": false
   },
   "outputs": [],
   "source": [
    "tsdf.A.agg(['sum', 'mean'])"
   ]
  },
  {
   "cell_type": "markdown",
   "metadata": {},
   "source": [
    "Passing a `lambda` function will yield a `<lambda>` named row:"
   ]
  },
  {
   "cell_type": "code",
   "execution_count": null,
   "metadata": {
    "hide-output": false
   },
   "outputs": [],
   "source": [
    "tsdf.A.agg(['sum', lambda x: x.mean()])"
   ]
  },
  {
   "cell_type": "markdown",
   "metadata": {},
   "source": [
    "Passing a named function will yield that name for the row:"
   ]
  },
  {
   "cell_type": "code",
   "execution_count": null,
   "metadata": {
    "hide-output": false
   },
   "outputs": [],
   "source": [
    "def mymean(x):\n",
    "    return x.mean()\n",
    "\n",
    "tsdf.A.agg(['sum', mymean])"
   ]
  },
  {
   "cell_type": "markdown",
   "metadata": {},
   "source": [
    "#### Aggregating with a dict\n",
    "\n",
    "Passing a dictionary of column names to a scalar or a list of scalars, to `DataFrame.agg`\n",
    "allows you to customize which functions are applied to which columns. Note that the results\n",
    "are not in any particular order, you can use an `OrderedDict` instead to guarantee ordering."
   ]
  },
  {
   "cell_type": "code",
   "execution_count": null,
   "metadata": {
    "hide-output": false
   },
   "outputs": [],
   "source": [
    "tsdf.agg({'A': 'mean', 'B': 'sum'})"
   ]
  },
  {
   "cell_type": "markdown",
   "metadata": {},
   "source": [
    "Passing a list-like will generate a `DataFrame` output. You will get a matrix-like output\n",
    "of all of the aggregators. The output will consist of all unique functions. Those that are\n",
    "not noted for a particular column will be `NaN`:"
   ]
  },
  {
   "cell_type": "code",
   "execution_count": null,
   "metadata": {
    "hide-output": false
   },
   "outputs": [],
   "source": [
    "tsdf.agg({'A': ['mean', 'min'], 'B': 'sum'})"
   ]
  },
  {
   "cell_type": "markdown",
   "metadata": {},
   "source": [
    "\n",
    "<a id='basics-aggregation-mixed-dtypes'></a>"
   ]
  },
  {
   "cell_type": "markdown",
   "metadata": {},
   "source": [
    "#### Mixed dtypes\n",
    "\n",
    "When presented with mixed dtypes that cannot aggregate, `.agg` will only take the valid\n",
    "aggregations. This is similar to how groupby `.agg` works."
   ]
  },
  {
   "cell_type": "code",
   "execution_count": null,
   "metadata": {
    "hide-output": false
   },
   "outputs": [],
   "source": [
    "mdf = pd.DataFrame({'A': [1, 2, 3],\n",
    "                    'B': [1., 2., 3.],\n",
    "                    'C': ['foo', 'bar', 'baz'],\n",
    "                    'D': pd.date_range('20130101', periods=3)})\n",
    "mdf.dtypes"
   ]
  },
  {
   "cell_type": "code",
   "execution_count": null,
   "metadata": {
    "hide-output": false
   },
   "outputs": [],
   "source": [
    "mdf.agg(['min', 'sum'])"
   ]
  },
  {
   "cell_type": "markdown",
   "metadata": {},
   "source": [
    "\n",
    "<a id='basics-aggregation-custom-describe'></a>"
   ]
  },
  {
   "cell_type": "markdown",
   "metadata": {},
   "source": [
    "#### Custom describe\n",
    "\n",
    "With `.agg()` is it possible to easily create a custom describe function, similar\n",
    "to the built in [describe function](#basics-describe)."
   ]
  },
  {
   "cell_type": "code",
   "execution_count": null,
   "metadata": {
    "hide-output": false
   },
   "outputs": [],
   "source": [
    "from functools import partial\n",
    "\n",
    "q_25 = partial(pd.Series.quantile, q=0.25)\n",
    "q_25.__name__ = '25%'\n",
    "q_75 = partial(pd.Series.quantile, q=0.75)\n",
    "q_75.__name__ = '75%'\n",
    "\n",
    "tsdf.agg(['count', 'mean', 'std', 'min', q_25, 'median', q_75, 'max'])"
   ]
  },
  {
   "cell_type": "markdown",
   "metadata": {},
   "source": [
    "\n",
    "<a id='basics-transform'></a>"
   ]
  },
  {
   "cell_type": "markdown",
   "metadata": {},
   "source": [
    "### Transform API\n",
    "\n",
    "New in version 0.20.0.\n",
    "\n",
    "The `transform()` method returns an object that is indexed the same (same size)\n",
    "as the original. This API allows you to provide *multiple* operations at the same\n",
    "time rather than one-by-one. Its API is quite similar to the `.agg` API.\n",
    "\n",
    "We create a frame similar to the one used in the above sections."
   ]
  },
  {
   "cell_type": "code",
   "execution_count": null,
   "metadata": {
    "hide-output": false
   },
   "outputs": [],
   "source": [
    "tsdf = pd.DataFrame(np.random.randn(10, 3), columns=['A', 'B', 'C'],\n",
    "                    index=pd.date_range('1/1/2000', periods=10))\n",
    "tsdf.iloc[3:7] = np.nan\n",
    "tsdf"
   ]
  },
  {
   "cell_type": "markdown",
   "metadata": {},
   "source": [
    "Transform the entire frame. `.transform()` allows input functions as: a NumPy function, a string\n",
    "function name or a user defined function.\n",
    "\n",
    "Here `transform()` received a single function; this is equivalent to a ufunc application."
   ]
  },
  {
   "cell_type": "code",
   "execution_count": null,
   "metadata": {
    "hide-output": false
   },
   "outputs": [],
   "source": [
    "np.abs(tsdf)"
   ]
  },
  {
   "cell_type": "markdown",
   "metadata": {},
   "source": [
    "Passing a single function to `.transform()` with a `Series` will yield a single `Series` in return."
   ]
  },
  {
   "cell_type": "code",
   "execution_count": null,
   "metadata": {
    "hide-output": false
   },
   "outputs": [],
   "source": [
    "tsdf.A.transform(np.abs)"
   ]
  },
  {
   "cell_type": "markdown",
   "metadata": {},
   "source": [
    "#### Transform with multiple functions\n",
    "\n",
    "Passing multiple functions will yield a column MultiIndexed DataFrame.\n",
    "The first level will be the original frame column names; the second level\n",
    "will be the names of the transforming functions."
   ]
  },
  {
   "cell_type": "code",
   "execution_count": null,
   "metadata": {
    "hide-output": false
   },
   "outputs": [],
   "source": [
    "tsdf.transform([np.abs, lambda x: x + 1])"
   ]
  },
  {
   "cell_type": "markdown",
   "metadata": {},
   "source": [
    "Passing multiple functions to a Series will yield a DataFrame. The\n",
    "resulting column names will be the transforming functions."
   ]
  },
  {
   "cell_type": "code",
   "execution_count": null,
   "metadata": {
    "hide-output": false
   },
   "outputs": [],
   "source": [
    "tsdf.A.transform([np.abs, lambda x: x + 1])"
   ]
  },
  {
   "cell_type": "markdown",
   "metadata": {},
   "source": [
    "#### Transforming with a dict\n",
    "\n",
    "Passing a dict of functions will allow selective transforming per column."
   ]
  },
  {
   "cell_type": "code",
   "execution_count": null,
   "metadata": {
    "hide-output": false
   },
   "outputs": [],
   "source": [
    "tsdf.transform({'A': np.abs, 'B': lambda x: x + 1})"
   ]
  },
  {
   "cell_type": "markdown",
   "metadata": {},
   "source": [
    "Passing a dict of lists will generate a MultiIndexed DataFrame with these\n",
    "selective transforms.\n",
    "\n",
    "\n",
    "<a id='basics-elementwise'></a>"
   ]
  },
  {
   "cell_type": "markdown",
   "metadata": {},
   "source": [
    "### Applying elementwise functions\n",
    "\n",
    "Since not all functions can be vectorized (accept NumPy arrays and return\n",
    "another array or value), the methods `applymap()` on DataFrame\n",
    "and analogously `map()` on Series accept any Python function taking\n",
    "a single value and returning a single value. For example:"
   ]
  },
  {
   "cell_type": "code",
   "execution_count": null,
   "metadata": {
    "hide-output": false
   },
   "outputs": [],
   "source": [
    "df4\n",
    "\n",
    "def f(x):\n",
    "    return len(str(x))\n",
    "\n",
    "df4['one'].map(f)\n",
    "df4.applymap(f)"
   ]
  },
  {
   "cell_type": "markdown",
   "metadata": {},
   "source": [
    "`Series.map()` has an additional feature; it can be used to easily\n",
    "“link” or “map” values defined by a secondary series. This is closely related\n",
    "to [merging/joining functionality](user_guide/merging.ipynb#merging):"
   ]
  },
  {
   "cell_type": "code",
   "execution_count": null,
   "metadata": {
    "hide-output": false
   },
   "outputs": [],
   "source": [
    "s = pd.Series(['six', 'seven', 'six', 'seven', 'six'],\n",
    "              index=['a', 'b', 'c', 'd', 'e'])\n",
    "t = pd.Series({'six': 6., 'seven': 7.})\n",
    "s\n",
    "s.map(t)"
   ]
  },
  {
   "cell_type": "markdown",
   "metadata": {},
   "source": [
    "\n",
    "<a id='basics-reindexing'></a>"
   ]
  },
  {
   "cell_type": "markdown",
   "metadata": {},
   "source": [
    "## Reindexing and altering labels\n",
    "\n",
    "`reindex()` is the fundamental data alignment method in pandas.\n",
    "It is used to implement nearly all other features relying on label-alignment\n",
    "functionality. To *reindex* means to conform the data to match a given set of\n",
    "labels along a particular axis. This accomplishes several things:\n",
    "\n",
    "- Reorders the existing data to match a new set of labels  \n",
    "- Inserts missing value (NA) markers in label locations where no data for\n",
    "  that label existed  \n",
    "- If specified, **fill** data for missing labels using logic (highly relevant\n",
    "  to working with time series data)  \n",
    "\n",
    "\n",
    "Here is a simple example:"
   ]
  },
  {
   "cell_type": "code",
   "execution_count": null,
   "metadata": {
    "hide-output": false
   },
   "outputs": [],
   "source": [
    "s = pd.Series(np.random.randn(5), index=['a', 'b', 'c', 'd', 'e'])\n",
    "s\n",
    "s.reindex(['e', 'b', 'f', 'd'])"
   ]
  },
  {
   "cell_type": "markdown",
   "metadata": {},
   "source": [
    "Here, the `f` label was not contained in the Series and hence appears as\n",
    "`NaN` in the result.\n",
    "\n",
    "With a DataFrame, you can simultaneously reindex the index and columns:"
   ]
  },
  {
   "cell_type": "code",
   "execution_count": null,
   "metadata": {
    "hide-output": false
   },
   "outputs": [],
   "source": [
    "df\n",
    "df.reindex(index=['c', 'f', 'b'], columns=['three', 'two', 'one'])"
   ]
  },
  {
   "cell_type": "markdown",
   "metadata": {},
   "source": [
    "You may also use `reindex` with an `axis` keyword:"
   ]
  },
  {
   "cell_type": "code",
   "execution_count": null,
   "metadata": {
    "hide-output": false
   },
   "outputs": [],
   "source": [
    "df.reindex(['c', 'f', 'b'], axis='index')"
   ]
  },
  {
   "cell_type": "markdown",
   "metadata": {},
   "source": [
    "Note that the `Index` objects containing the actual axis labels can be\n",
    "**shared** between objects. So if we have a Series and a DataFrame, the\n",
    "following can be done:"
   ]
  },
  {
   "cell_type": "code",
   "execution_count": null,
   "metadata": {
    "hide-output": false
   },
   "outputs": [],
   "source": [
    "rs = s.reindex(df.index)\n",
    "rs\n",
    "rs.index is df.index"
   ]
  },
  {
   "cell_type": "markdown",
   "metadata": {},
   "source": [
    "This means that the reindexed Series’s index is the same Python object as the\n",
    "DataFrame’s index.\n",
    "\n",
    "New in version 0.21.0.\n",
    "\n",
    "`DataFrame.reindex()` also supports an “axis-style” calling convention,\n",
    "where you specify a single `labels` argument and the `axis` it applies to."
   ]
  },
  {
   "cell_type": "code",
   "execution_count": null,
   "metadata": {
    "hide-output": false
   },
   "outputs": [],
   "source": [
    "df.reindex(['c', 'f', 'b'], axis='index')\n",
    "df.reindex(['three', 'two', 'one'], axis='columns')"
   ]
  },
  {
   "cell_type": "markdown",
   "metadata": {},
   "source": [
    "[MultiIndex / Advanced Indexing](user_guide/advanced.ipynb#advanced) is an even more concise way of\n",
    "doing reindexing.\n",
    "\n",
    ">**Note**\n",
    ">\n",
    ">When writing performance-sensitive code, there is a good reason to spend\n",
    "some time becoming a reindexing ninja: **many operations are faster on\n",
    "pre-aligned data**. Adding two unaligned DataFrames internally triggers a\n",
    "reindexing step. For exploratory analysis you will hardly notice the\n",
    "difference (because `reindex` has been heavily optimized), but when CPU\n",
    "cycles matter sprinkling a few explicit `reindex` calls here and there can\n",
    "have an impact.\n",
    "\n",
    "\n",
    "<a id='basics-reindex-like'></a>"
   ]
  },
  {
   "cell_type": "markdown",
   "metadata": {},
   "source": [
    "### Reindexing to align with another object\n",
    "\n",
    "You may wish to take an object and reindex its axes to be labeled the same as\n",
    "another object. While the syntax for this is straightforward albeit verbose, it\n",
    "is a common enough operation that the `reindex_like()` method is\n",
    "available to make this simpler:"
   ]
  },
  {
   "cell_type": "code",
   "execution_count": null,
   "metadata": {
    "hide-output": false
   },
   "outputs": [],
   "source": [
    "df2\n",
    "df3\n",
    "df.reindex_like(df2)"
   ]
  },
  {
   "cell_type": "markdown",
   "metadata": {},
   "source": [
    "\n",
    "<a id='basics-align'></a>"
   ]
  },
  {
   "cell_type": "markdown",
   "metadata": {},
   "source": [
    "### Aligning objects with each other with `align`\n",
    "\n",
    "The `align()` method is the fastest way to simultaneously align two objects. It\n",
    "supports a `join` argument (related to [joining and merging](user_guide/merging.ipynb#merging)):\n",
    "\n",
    "> - `join='outer'`: take the union of the indexes (default)  \n",
    "- `join='left'`: use the calling object’s index  \n",
    "- `join='right'`: use the passed object’s index  \n",
    "- `join='inner'`: intersect the indexes  \n",
    "\n",
    "\n",
    "\n",
    "It returns a tuple with both of the reindexed Series:"
   ]
  },
  {
   "cell_type": "code",
   "execution_count": null,
   "metadata": {
    "hide-output": false
   },
   "outputs": [],
   "source": [
    "s = pd.Series(np.random.randn(5), index=['a', 'b', 'c', 'd', 'e'])\n",
    "s1 = s[:4]\n",
    "s2 = s[1:]\n",
    "s1.align(s2)\n",
    "s1.align(s2, join='inner')\n",
    "s1.align(s2, join='left')"
   ]
  },
  {
   "cell_type": "markdown",
   "metadata": {},
   "source": [
    "\n",
    "<a id='basics-df-join'></a>\n",
    "For DataFrames, the join method will be applied to both the index and the\n",
    "columns by default:"
   ]
  },
  {
   "cell_type": "code",
   "execution_count": null,
   "metadata": {
    "hide-output": false
   },
   "outputs": [],
   "source": [
    "df.align(df2, join='inner')"
   ]
  },
  {
   "cell_type": "markdown",
   "metadata": {},
   "source": [
    "You can also pass an `axis` option to only align on the specified axis:"
   ]
  },
  {
   "cell_type": "code",
   "execution_count": null,
   "metadata": {
    "hide-output": false
   },
   "outputs": [],
   "source": [
    "df.align(df2, join='inner', axis=0)"
   ]
  },
  {
   "cell_type": "markdown",
   "metadata": {},
   "source": [
    "\n",
    "<a id='basics-align-frame-series'></a>\n",
    "If you pass a Series to `DataFrame.align()`, you can choose to align both\n",
    "objects either on the DataFrame’s index or columns using the `axis` argument:"
   ]
  },
  {
   "cell_type": "code",
   "execution_count": null,
   "metadata": {
    "hide-output": false
   },
   "outputs": [],
   "source": [
    "df.align(df2.iloc[0], axis=1)"
   ]
  },
  {
   "cell_type": "markdown",
   "metadata": {},
   "source": [
    "\n",
    "<a id='basics-reindex-fill'></a>"
   ]
  },
  {
   "cell_type": "markdown",
   "metadata": {},
   "source": [
    "### Filling while reindexing\n",
    "\n",
    "`reindex()` takes an optional parameter `method` which is a\n",
    "filling method chosen from the following table:\n",
    "\n",
    "|Method|Action|\n",
    "|:----------------------------:|:------------------------------------------------:|\n",
    "|pad / ffill|Fill values forward|\n",
    "|bfill / backfill|Fill values backward|\n",
    "|nearest|Fill from the nearest index value|\n",
    "We illustrate these fill methods on a simple Series:"
   ]
  },
  {
   "cell_type": "code",
   "execution_count": null,
   "metadata": {
    "hide-output": false
   },
   "outputs": [],
   "source": [
    "rng = pd.date_range('1/3/2000', periods=8)\n",
    "ts = pd.Series(np.random.randn(8), index=rng)\n",
    "ts2 = ts[[0, 3, 6]]\n",
    "ts\n",
    "ts2\n",
    "\n",
    "ts2.reindex(ts.index)\n",
    "ts2.reindex(ts.index, method='ffill')\n",
    "ts2.reindex(ts.index, method='bfill')\n",
    "ts2.reindex(ts.index, method='nearest')"
   ]
  },
  {
   "cell_type": "markdown",
   "metadata": {},
   "source": [
    "These methods require that the indexes are **ordered** increasing or\n",
    "decreasing.\n",
    "\n",
    "Note that the same result could have been achieved using\n",
    "[fillna](user_guide/missing_data.ipynb#missing-data-fillna) (except for `method='nearest'`) or\n",
    "[interpolate](user_guide/missing_data.ipynb#missing-data-interpolate):"
   ]
  },
  {
   "cell_type": "code",
   "execution_count": null,
   "metadata": {
    "hide-output": false
   },
   "outputs": [],
   "source": [
    "ts2.reindex(ts.index).fillna(method='ffill')"
   ]
  },
  {
   "cell_type": "markdown",
   "metadata": {},
   "source": [
    "`reindex()` will raise a ValueError if the index is not monotonically\n",
    "increasing or decreasing. `fillna()` and `interpolate()`\n",
    "will not perform any checks on the order of the index.\n",
    "\n",
    "\n",
    "<a id='basics-limits-on-reindex-fill'></a>"
   ]
  },
  {
   "cell_type": "markdown",
   "metadata": {},
   "source": [
    "### Limits on filling while reindexing\n",
    "\n",
    "The `limit` and `tolerance` arguments provide additional control over\n",
    "filling while reindexing. Limit specifies the maximum count of consecutive\n",
    "matches:"
   ]
  },
  {
   "cell_type": "code",
   "execution_count": null,
   "metadata": {
    "hide-output": false
   },
   "outputs": [],
   "source": [
    "ts2.reindex(ts.index, method='ffill', limit=1)"
   ]
  },
  {
   "cell_type": "markdown",
   "metadata": {},
   "source": [
    "In contrast, tolerance specifies the maximum distance between the index and\n",
    "indexer values:"
   ]
  },
  {
   "cell_type": "code",
   "execution_count": null,
   "metadata": {
    "hide-output": false
   },
   "outputs": [],
   "source": [
    "ts2.reindex(ts.index, method='ffill', tolerance='1 day')"
   ]
  },
  {
   "cell_type": "markdown",
   "metadata": {},
   "source": [
    "Notice that when used on a `DatetimeIndex`, `TimedeltaIndex` or\n",
    "`PeriodIndex`, `tolerance` will coerced into a `Timedelta` if possible.\n",
    "This allows you to specify tolerance with appropriate strings.\n",
    "\n",
    "\n",
    "<a id='basics-drop'></a>"
   ]
  },
  {
   "cell_type": "markdown",
   "metadata": {},
   "source": [
    "### Dropping labels from an axis\n",
    "\n",
    "A method closely related to `reindex` is the `drop()` function.\n",
    "It removes a set of labels from an axis:"
   ]
  },
  {
   "cell_type": "code",
   "execution_count": null,
   "metadata": {
    "hide-output": false
   },
   "outputs": [],
   "source": [
    "df\n",
    "df.drop(['a', 'd'], axis=0)\n",
    "df.drop(['one'], axis=1)"
   ]
  },
  {
   "cell_type": "markdown",
   "metadata": {},
   "source": [
    "Note that the following also works, but is a bit less obvious / clean:"
   ]
  },
  {
   "cell_type": "code",
   "execution_count": null,
   "metadata": {
    "hide-output": false
   },
   "outputs": [],
   "source": [
    "df.reindex(df.index.difference(['a', 'd']))"
   ]
  },
  {
   "cell_type": "markdown",
   "metadata": {},
   "source": [
    "\n",
    "<a id='basics-rename'></a>"
   ]
  },
  {
   "cell_type": "markdown",
   "metadata": {},
   "source": [
    "### Renaming / mapping labels\n",
    "\n",
    "The `rename()` method allows you to relabel an axis based on some\n",
    "mapping (a dict or Series) or an arbitrary function."
   ]
  },
  {
   "cell_type": "code",
   "execution_count": null,
   "metadata": {
    "hide-output": false
   },
   "outputs": [],
   "source": [
    "s\n",
    "s.rename(str.upper)"
   ]
  },
  {
   "cell_type": "markdown",
   "metadata": {},
   "source": [
    "If you pass a function, it must return a value when called with any of the\n",
    "labels (and must produce a set of unique values). A dict or\n",
    "Series can also be used:"
   ]
  },
  {
   "cell_type": "code",
   "execution_count": null,
   "metadata": {
    "hide-output": false
   },
   "outputs": [],
   "source": [
    "df.rename(columns={'one': 'foo', 'two': 'bar'},\n",
    "          index={'a': 'apple', 'b': 'banana', 'd': 'durian'})"
   ]
  },
  {
   "cell_type": "markdown",
   "metadata": {},
   "source": [
    "If the mapping doesn’t include a column/index label, it isn’t renamed. Note that\n",
    "extra labels in the mapping don’t throw an error.\n",
    "\n",
    "New in version 0.21.0.\n",
    "\n",
    "`DataFrame.rename()` also supports an “axis-style” calling convention, where\n",
    "you specify a single `mapper` and the `axis` to apply that mapping to."
   ]
  },
  {
   "cell_type": "code",
   "execution_count": null,
   "metadata": {
    "hide-output": false
   },
   "outputs": [],
   "source": [
    "df.rename({'one': 'foo', 'two': 'bar'}, axis='columns')\n",
    "df.rename({'a': 'apple', 'b': 'banana', 'd': 'durian'}, axis='index')"
   ]
  },
  {
   "cell_type": "markdown",
   "metadata": {},
   "source": [
    "The `rename()` method also provides an `inplace` named\n",
    "parameter that is by default `False` and copies the underlying data. Pass\n",
    "`inplace=True` to rename the data in place.\n",
    "\n",
    "New in version 0.18.0.\n",
    "\n",
    "Finally, `rename()` also accepts a scalar or list-like\n",
    "for altering the `Series.name` attribute."
   ]
  },
  {
   "cell_type": "code",
   "execution_count": null,
   "metadata": {
    "hide-output": false
   },
   "outputs": [],
   "source": [
    "s.rename(\"scalar-name\")"
   ]
  },
  {
   "cell_type": "markdown",
   "metadata": {},
   "source": [
    "\n",
    "<a id='basics-rename-axis'></a>\n",
    "New in version 0.24.0.\n",
    "\n",
    "The methods `rename_axis()` and `rename_axis()`\n",
    "allow specific names of a MultiIndex to be changed (as opposed to the\n",
    "labels)."
   ]
  },
  {
   "cell_type": "code",
   "execution_count": null,
   "metadata": {
    "hide-output": false
   },
   "outputs": [],
   "source": [
    "df = pd.DataFrame({'x': [1, 2, 3, 4, 5, 6],\n",
    "                   'y': [10, 20, 30, 40, 50, 60]},\n",
    "                  index=pd.MultiIndex.from_product([['a', 'b', 'c'], [1, 2]],\n",
    "                  names=['let', 'num']))\n",
    "df\n",
    "df.rename_axis(index={'let': 'abc'})\n",
    "df.rename_axis(index=str.upper)"
   ]
  },
  {
   "cell_type": "markdown",
   "metadata": {},
   "source": [
    "\n",
    "<a id='basics-iteration'></a>"
   ]
  },
  {
   "cell_type": "markdown",
   "metadata": {},
   "source": [
    "## Iteration\n",
    "\n",
    "The behavior of basic iteration over pandas objects depends on the type.\n",
    "When iterating over a Series, it is regarded as array-like, and basic iteration\n",
    "produces the values. DataFrames follow the dict-like convention of iterating\n",
    "over the “keys” of the objects.\n",
    "\n",
    "In short, basic iteration (`for i in object`) produces:\n",
    "\n",
    "- **Series**: values  \n",
    "- **DataFrame**: column labels  \n",
    "\n",
    "\n",
    "Thus, for example, iterating over a DataFrame gives you the column names:"
   ]
  },
  {
   "cell_type": "code",
   "execution_count": null,
   "metadata": {
    "hide-output": false
   },
   "outputs": [],
   "source": [
    "df = pd.DataFrame({'col1': np.random.randn(3),\n",
    "                   'col2': np.random.randn(3)}, index=['a', 'b', 'c'])\n",
    "\n",
    "for col in df:\n",
    "    print(col)"
   ]
  },
  {
   "cell_type": "markdown",
   "metadata": {},
   "source": [
    "Pandas objects also have the dict-like `items()` method to\n",
    "iterate over the (key, value) pairs.\n",
    "\n",
    "To iterate over the rows of a DataFrame, you can use the following methods:\n",
    "\n",
    "- `iterrows()`: Iterate over the rows of a DataFrame as (index, Series) pairs.\n",
    "  This converts the rows to Series objects, which can change the dtypes and has some\n",
    "  performance implications.  \n",
    "- `itertuples()`: Iterate over the rows of a DataFrame\n",
    "  as namedtuples of the values.  This is a lot faster than\n",
    "  `iterrows()`, and is in most cases preferable to use\n",
    "  to iterate over the values of a DataFrame.  \n",
    "\n",
    "\n",
    "Iterating through pandas objects is generally **slow**. In many cases,\n",
    "iterating manually over the rows is not needed and can be avoided with\n",
    "one of the following approaches:\n",
    "\n",
    "- Look for a *vectorized* solution: many operations can be performed using\n",
    "  built-in methods or NumPy functions, (boolean) indexing, …  \n",
    "- When you have a function that cannot work on the full DataFrame/Series\n",
    "  at once, it is better to use `apply()` instead of iterating\n",
    "  over the values. See the docs on [function application](#basics-apply).  \n",
    "- If you need to do iterative manipulations on the values but performance is\n",
    "  important, consider writing the inner loop with cython or numba.\n",
    "  See the [enhancing performance](user_guide/enhancingperf.ipynb#enhancingperf) section for some\n",
    "  examples of this approach.  \n",
    "\n",
    "\n",
    "You should **never modify** something you are iterating over.\n",
    "This is not guaranteed to work in all cases. Depending on the\n",
    "data types, the iterator returns a copy and not a view, and writing\n",
    "to it will have no effect!\n",
    "\n",
    "For example, in the following case setting the value has no effect:"
   ]
  },
  {
   "cell_type": "code",
   "execution_count": null,
   "metadata": {
    "hide-output": false
   },
   "outputs": [],
   "source": [
    "df = pd.DataFrame({'a': [1, 2, 3], 'b': ['a', 'b', 'c']})\n",
    "\n",
    "for index, row in df.iterrows():\n",
    "    row['a'] = 10\n",
    "\n",
    "df"
   ]
  },
  {
   "cell_type": "markdown",
   "metadata": {},
   "source": [
    "### items\n",
    "\n",
    "Consistent with the dict-like interface, `items()` iterates\n",
    "through key-value pairs:\n",
    "\n",
    "- **Series**: (index, scalar value) pairs  \n",
    "- **DataFrame**: (column, Series) pairs  \n",
    "\n",
    "\n",
    "For example:"
   ]
  },
  {
   "cell_type": "code",
   "execution_count": null,
   "metadata": {
    "hide-output": false
   },
   "outputs": [],
   "source": [
    "for label, ser in df.items():\n",
    "    print(label)\n",
    "    print(ser)"
   ]
  },
  {
   "cell_type": "markdown",
   "metadata": {},
   "source": [
    "\n",
    "<a id='basics-iterrows'></a>"
   ]
  },
  {
   "cell_type": "markdown",
   "metadata": {},
   "source": [
    "### iterrows\n",
    "\n",
    "`iterrows()` allows you to iterate through the rows of a\n",
    "DataFrame as Series objects. It returns an iterator yielding each\n",
    "index value along with a Series containing the data in each row:"
   ]
  },
  {
   "cell_type": "code",
   "execution_count": null,
   "metadata": {
    "hide-output": false
   },
   "outputs": [],
   "source": [
    "for row_index, row in df.iterrows():\n",
    "    print(row_index, row, sep='\\n')"
   ]
  },
  {
   "cell_type": "markdown",
   "metadata": {},
   "source": [
    ">**Note**\n",
    ">\n",
    ">Because `iterrows()` returns a Series for each row,\n",
    "it does **not** preserve dtypes across the rows (dtypes are\n",
    "preserved across columns for DataFrames). For example,"
   ]
  },
  {
   "cell_type": "code",
   "execution_count": null,
   "metadata": {
    "hide-output": false
   },
   "outputs": [],
   "source": [
    "df_orig = pd.DataFrame([[1, 1.5]], columns=['int', 'float'])\n",
    "df_orig.dtypes\n",
    "row = next(df_orig.iterrows())[1]\n",
    "row"
   ]
  },
  {
   "cell_type": "markdown",
   "metadata": {},
   "source": [
    "All values in `row`, returned as a Series, are now upcasted\n",
    "to floats, also the original integer value in column x:"
   ]
  },
  {
   "cell_type": "code",
   "execution_count": null,
   "metadata": {
    "hide-output": false
   },
   "outputs": [],
   "source": [
    "row['int'].dtype\n",
    "df_orig['int'].dtype"
   ]
  },
  {
   "cell_type": "markdown",
   "metadata": {},
   "source": [
    "To preserve dtypes while iterating over the rows, it is better\n",
    "to use `itertuples()` which returns namedtuples of the values\n",
    "and which is generally much faster than `iterrows()`.\n",
    "\n",
    "For instance, a contrived way to transpose the DataFrame would be:"
   ]
  },
  {
   "cell_type": "code",
   "execution_count": null,
   "metadata": {
    "hide-output": false
   },
   "outputs": [],
   "source": [
    "df2 = pd.DataFrame({'x': [1, 2, 3], 'y': [4, 5, 6]})\n",
    "print(df2)\n",
    "print(df2.T)\n",
    "\n",
    "df2_t = pd.DataFrame({idx: values for idx, values in df2.iterrows()})\n",
    "print(df2_t)"
   ]
  },
  {
   "cell_type": "markdown",
   "metadata": {},
   "source": [
    "### itertuples\n",
    "\n",
    "The `itertuples()` method will return an iterator\n",
    "yielding a namedtuple for each row in the DataFrame. The first element\n",
    "of the tuple will be the row’s corresponding index value, while the\n",
    "remaining values are the row values.\n",
    "\n",
    "For instance:"
   ]
  },
  {
   "cell_type": "code",
   "execution_count": null,
   "metadata": {
    "hide-output": false
   },
   "outputs": [],
   "source": [
    "for row in df.itertuples():\n",
    "    print(row)"
   ]
  },
  {
   "cell_type": "markdown",
   "metadata": {},
   "source": [
    "This method does not convert the row to a Series object; it merely\n",
    "returns the values inside a namedtuple. Therefore,\n",
    "`itertuples()` preserves the data type of the values\n",
    "and is generally faster as `iterrows()`.\n",
    "\n",
    ">**Note**\n",
    ">\n",
    ">The column names will be renamed to positional names if they are\n",
    "invalid Python identifiers, repeated, or start with an underscore.\n",
    "With a large number of columns (>255), regular tuples are returned.\n",
    "\n",
    "\n",
    "<a id='basics-dt-accessors'></a>"
   ]
  },
  {
   "cell_type": "markdown",
   "metadata": {},
   "source": [
    "## .dt accessor\n",
    "\n",
    "`Series` has an accessor to succinctly return datetime like properties for the\n",
    "*values* of the Series, if it is a datetime/period like Series.\n",
    "This will return a Series, indexed like the existing Series."
   ]
  },
  {
   "cell_type": "code",
   "execution_count": null,
   "metadata": {
    "hide-output": false
   },
   "outputs": [],
   "source": [
    "# datetime\n",
    "s = pd.Series(pd.date_range('20130101 09:10:12', periods=4))\n",
    "s\n",
    "s.dt.hour\n",
    "s.dt.second\n",
    "s.dt.day"
   ]
  },
  {
   "cell_type": "markdown",
   "metadata": {},
   "source": [
    "This enables nice expressions like this:"
   ]
  },
  {
   "cell_type": "code",
   "execution_count": null,
   "metadata": {
    "hide-output": false
   },
   "outputs": [],
   "source": [
    "s[s.dt.day == 2]"
   ]
  },
  {
   "cell_type": "markdown",
   "metadata": {},
   "source": [
    "You can easily produces tz aware transformations:"
   ]
  },
  {
   "cell_type": "code",
   "execution_count": null,
   "metadata": {
    "hide-output": false
   },
   "outputs": [],
   "source": [
    "stz = s.dt.tz_localize('US/Eastern')\n",
    "stz\n",
    "stz.dt.tz"
   ]
  },
  {
   "cell_type": "markdown",
   "metadata": {},
   "source": [
    "You can also chain these types of operations:"
   ]
  },
  {
   "cell_type": "code",
   "execution_count": null,
   "metadata": {
    "hide-output": false
   },
   "outputs": [],
   "source": [
    "s.dt.tz_localize('UTC').dt.tz_convert('US/Eastern')"
   ]
  },
  {
   "cell_type": "markdown",
   "metadata": {},
   "source": [
    "You can also format datetime values as strings with `Series.dt.strftime()` which\n",
    "supports the same format as the standard [`strftime()`](https://docs.python.org/3/library/datetime.html#datetime.datetime.strftime)."
   ]
  },
  {
   "cell_type": "code",
   "execution_count": null,
   "metadata": {
    "hide-output": false
   },
   "outputs": [],
   "source": [
    "# DatetimeIndex\n",
    "s = pd.Series(pd.date_range('20130101', periods=4))\n",
    "s\n",
    "s.dt.strftime('%Y/%m/%d')"
   ]
  },
  {
   "cell_type": "code",
   "execution_count": null,
   "metadata": {
    "hide-output": false
   },
   "outputs": [],
   "source": [
    "# PeriodIndex\n",
    "s = pd.Series(pd.period_range('20130101', periods=4))\n",
    "s\n",
    "s.dt.strftime('%Y/%m/%d')"
   ]
  },
  {
   "cell_type": "markdown",
   "metadata": {},
   "source": [
    "The `.dt` accessor works for period and timedelta dtypes."
   ]
  },
  {
   "cell_type": "code",
   "execution_count": null,
   "metadata": {
    "hide-output": false
   },
   "outputs": [],
   "source": [
    "# period\n",
    "s = pd.Series(pd.period_range('20130101', periods=4, freq='D'))\n",
    "s\n",
    "s.dt.year\n",
    "s.dt.day"
   ]
  },
  {
   "cell_type": "code",
   "execution_count": null,
   "metadata": {
    "hide-output": false
   },
   "outputs": [],
   "source": [
    "# timedelta\n",
    "s = pd.Series(pd.timedelta_range('1 day 00:00:05', periods=4, freq='s'))\n",
    "s\n",
    "s.dt.days\n",
    "s.dt.seconds\n",
    "s.dt.components"
   ]
  },
  {
   "cell_type": "markdown",
   "metadata": {},
   "source": [
    ">**Note**\n",
    ">\n",
    ">`Series.dt` will raise a `TypeError` if you access with a non-datetime-like values."
   ]
  },
  {
   "cell_type": "markdown",
   "metadata": {},
   "source": [
    "## Vectorized string methods\n",
    "\n",
    "Series is equipped with a set of string processing methods that make it easy to\n",
    "operate on each element of the array. Perhaps most importantly, these methods\n",
    "exclude missing/NA values automatically. These are accessed via the Series’s\n",
    "`str` attribute and generally have names matching the equivalent (scalar)\n",
    "built-in string methods. For example:\n",
    "\n",
    "> "
   ]
  },
  {
   "cell_type": "code",
   "execution_count": null,
   "metadata": {
    "hide-output": false
   },
   "outputs": [],
   "source": [
    "s = pd.Series(['A', 'B', 'C', 'Aaba', 'Baca', np.nan, 'CABA', 'dog', 'cat'])\n",
    "s.str.lower()"
   ]
  },
  {
   "cell_type": "markdown",
   "metadata": {},
   "source": [
    "\n",
    "Powerful pattern-matching methods are provided as well, but note that\n",
    "pattern-matching generally uses [regular expressions](https://docs.python.org/3/library/re.html) by default (and in some cases\n",
    "always uses them).\n",
    "\n",
    "Please see [Vectorized String Methods](user_guide/text.ipynb#text-string-methods) for a complete\n",
    "description.\n",
    "\n",
    "\n",
    "<a id='basics-sorting'></a>"
   ]
  },
  {
   "cell_type": "markdown",
   "metadata": {},
   "source": [
    "## Sorting\n",
    "\n",
    "Pandas supports three kinds of sorting: sorting by index labels,\n",
    "sorting by column values, and sorting by a combination of both.\n",
    "\n",
    "\n",
    "<a id='basics-sort-index'></a>"
   ]
  },
  {
   "cell_type": "markdown",
   "metadata": {},
   "source": [
    "### By index\n",
    "\n",
    "The `Series.sort_index()` and `DataFrame.sort_index()` methods are\n",
    "used to sort a pandas object by its index levels."
   ]
  },
  {
   "cell_type": "code",
   "execution_count": null,
   "metadata": {
    "hide-output": false
   },
   "outputs": [],
   "source": [
    "df = pd.DataFrame({\n",
    "    'one': pd.Series(np.random.randn(3), index=['a', 'b', 'c']),\n",
    "    'two': pd.Series(np.random.randn(4), index=['a', 'b', 'c', 'd']),\n",
    "    'three': pd.Series(np.random.randn(3), index=['b', 'c', 'd'])})\n",
    "\n",
    "unsorted_df = df.reindex(index=['a', 'd', 'c', 'b'],\n",
    "                         columns=['three', 'two', 'one'])\n",
    "unsorted_df\n",
    "\n",
    "# DataFrame\n",
    "unsorted_df.sort_index()\n",
    "unsorted_df.sort_index(ascending=False)\n",
    "unsorted_df.sort_index(axis=1)\n",
    "\n",
    "# Series\n",
    "unsorted_df['three'].sort_index()"
   ]
  },
  {
   "cell_type": "markdown",
   "metadata": {},
   "source": [
    "\n",
    "<a id='basics-sort-values'></a>"
   ]
  },
  {
   "cell_type": "markdown",
   "metadata": {},
   "source": [
    "### By values\n",
    "\n",
    "The `Series.sort_values()` method is used to sort a Series by its values. The\n",
    "`DataFrame.sort_values()` method is used to sort a DataFrame by its column or row values.\n",
    "The optional `by` parameter to `DataFrame.sort_values()` may used to specify one or more columns\n",
    "to use to determine the sorted order."
   ]
  },
  {
   "cell_type": "code",
   "execution_count": null,
   "metadata": {
    "hide-output": false
   },
   "outputs": [],
   "source": [
    "df1 = pd.DataFrame({'one': [2, 1, 1, 1],\n",
    "                    'two': [1, 3, 2, 4],\n",
    "                    'three': [5, 4, 3, 2]})\n",
    "df1.sort_values(by='two')"
   ]
  },
  {
   "cell_type": "markdown",
   "metadata": {},
   "source": [
    "The `by` parameter can take a list of column names, e.g.:"
   ]
  },
  {
   "cell_type": "code",
   "execution_count": null,
   "metadata": {
    "hide-output": false
   },
   "outputs": [],
   "source": [
    "df1[['one', 'two', 'three']].sort_values(by=['one', 'two'])"
   ]
  },
  {
   "cell_type": "markdown",
   "metadata": {},
   "source": [
    "These methods have special treatment of NA values via the `na_position`\n",
    "argument:"
   ]
  },
  {
   "cell_type": "code",
   "execution_count": null,
   "metadata": {
    "hide-output": false
   },
   "outputs": [],
   "source": [
    "s[2] = np.nan\n",
    "s.sort_values()\n",
    "s.sort_values(na_position='first')"
   ]
  },
  {
   "cell_type": "markdown",
   "metadata": {},
   "source": [
    "\n",
    "<a id='basics-sort-indexes-and-values'></a>"
   ]
  },
  {
   "cell_type": "markdown",
   "metadata": {},
   "source": [
    "### By indexes and values\n",
    "\n",
    "New in version 0.23.0.\n",
    "\n",
    "Strings passed as the `by` parameter to `DataFrame.sort_values()` may\n",
    "refer to either columns or index level names."
   ]
  },
  {
   "cell_type": "code",
   "execution_count": null,
   "metadata": {
    "hide-output": false
   },
   "outputs": [],
   "source": [
    "# Build MultiIndex\n",
    "idx = pd.MultiIndex.from_tuples([('a', 1), ('a', 2), ('a', 2),\n",
    "                                ('b', 2), ('b', 1), ('b', 1)])\n",
    "idx.names = ['first', 'second']\n",
    "\n",
    "# Build DataFrame\n",
    "df_multi = pd.DataFrame({'A': np.arange(6, 0, -1)},\n",
    "                        index=idx)\n",
    "df_multi"
   ]
  },
  {
   "cell_type": "markdown",
   "metadata": {},
   "source": [
    "Sort by ‘second’ (index) and ‘A’ (column)"
   ]
  },
  {
   "cell_type": "code",
   "execution_count": null,
   "metadata": {
    "hide-output": false
   },
   "outputs": [],
   "source": [
    "df_multi.sort_values(by=['second', 'A'])"
   ]
  },
  {
   "cell_type": "markdown",
   "metadata": {},
   "source": [
    ">**Note**\n",
    ">\n",
    ">If a string matches both a column name and an index level name then a\n",
    "warning is issued and the column takes precedence. This will result in an\n",
    "ambiguity error in a future version.\n",
    "\n",
    "\n",
    "<a id='basics-searchsorted'></a>"
   ]
  },
  {
   "cell_type": "markdown",
   "metadata": {},
   "source": [
    "### searchsorted\n",
    "\n",
    "Series has the `searchsorted()` method, which works similarly to\n",
    "[`numpy.ndarray.searchsorted()`](https://docs.scipy.org/doc/numpy/reference/generated/numpy.ndarray.searchsorted.html#numpy.ndarray.searchsorted)."
   ]
  },
  {
   "cell_type": "code",
   "execution_count": null,
   "metadata": {
    "hide-output": false
   },
   "outputs": [],
   "source": [
    "ser = pd.Series([1, 2, 3])\n",
    "ser.searchsorted([0, 3])\n",
    "ser.searchsorted([0, 4])\n",
    "ser.searchsorted([1, 3], side='right')\n",
    "ser.searchsorted([1, 3], side='left')\n",
    "ser = pd.Series([3, 1, 2])\n",
    "ser.searchsorted([0, 3], sorter=np.argsort(ser))"
   ]
  },
  {
   "cell_type": "markdown",
   "metadata": {},
   "source": [
    "\n",
    "<a id='basics-nsorted'></a>"
   ]
  },
  {
   "cell_type": "markdown",
   "metadata": {},
   "source": [
    "### smallest / largest values\n",
    "\n",
    "`Series` has the `nsmallest()` and `nlargest()` methods which return the\n",
    "smallest or largest $ n $ values. For a large `Series` this can be much\n",
    "faster than sorting the entire Series and calling `head(n)` on the result."
   ]
  },
  {
   "cell_type": "code",
   "execution_count": null,
   "metadata": {
    "hide-output": false
   },
   "outputs": [],
   "source": [
    "s = pd.Series(np.random.permutation(10))\n",
    "s\n",
    "s.sort_values()\n",
    "s.nsmallest(3)\n",
    "s.nlargest(3)"
   ]
  },
  {
   "cell_type": "markdown",
   "metadata": {},
   "source": [
    "`DataFrame` also has the `nlargest` and `nsmallest` methods."
   ]
  },
  {
   "cell_type": "code",
   "execution_count": null,
   "metadata": {
    "hide-output": false
   },
   "outputs": [],
   "source": [
    "df = pd.DataFrame({'a': [-2, -1, 1, 10, 8, 11, -1],\n",
    "                   'b': list('abdceff'),\n",
    "                   'c': [1.0, 2.0, 4.0, 3.2, np.nan, 3.0, 4.0]})\n",
    "df.nlargest(3, 'a')\n",
    "df.nlargest(5, ['a', 'c'])\n",
    "df.nsmallest(3, 'a')\n",
    "df.nsmallest(5, ['a', 'c'])"
   ]
  },
  {
   "cell_type": "markdown",
   "metadata": {},
   "source": [
    "\n",
    "<a id='basics-multiindex-sorting'></a>"
   ]
  },
  {
   "cell_type": "markdown",
   "metadata": {},
   "source": [
    "### Sorting by a MultiIndex column\n",
    "\n",
    "You must be explicit about sorting when the column is a MultiIndex, and fully specify\n",
    "all levels to `by`."
   ]
  },
  {
   "cell_type": "code",
   "execution_count": null,
   "metadata": {
    "hide-output": false
   },
   "outputs": [],
   "source": [
    "df1.columns = pd.MultiIndex.from_tuples([('a', 'one'),\n",
    "                                         ('a', 'two'),\n",
    "                                         ('b', 'three')])\n",
    "df1.sort_values(by=('a', 'two'))"
   ]
  },
  {
   "cell_type": "markdown",
   "metadata": {},
   "source": [
    "## Copying\n",
    "\n",
    "The `copy()` method on pandas objects copies the underlying data (though not\n",
    "the axis indexes, since they are immutable) and returns a new object. Note that\n",
    "**it is seldom necessary to copy objects**. For example, there are only a\n",
    "handful of ways to alter a DataFrame *in-place*:\n",
    "\n",
    "- Inserting, deleting, or modifying a column.  \n",
    "- Assigning to the `index` or `columns` attributes.  \n",
    "- For homogeneous data, directly modifying the values via the `values`\n",
    "  attribute or advanced indexing.  \n",
    "\n",
    "\n",
    "To be clear, no pandas method has the side effect of modifying your data;\n",
    "almost every method returns a new object, leaving the original object\n",
    "untouched. If the data is modified, it is because you did so explicitly.\n",
    "\n",
    "\n",
    "<a id='basics-dtypes'></a>"
   ]
  },
  {
   "cell_type": "markdown",
   "metadata": {},
   "source": [
    "## dtypes\n",
    "\n",
    "For the most part, pandas uses NumPy arrays and dtypes for Series or individual\n",
    "columns of a DataFrame. NumPy provides support for `float`,\n",
    "`int`, `bool`, `timedelta64[ns]` and `datetime64[ns]` (note that NumPy\n",
    "does not support timezone-aware datetimes).\n",
    "\n",
    "Pandas and third-party libraries *extend* NumPy’s type system in a few places.\n",
    "This section describes the extensions pandas has made internally.\n",
    "See [Extension types](development/extending.ipynb#extending-extension-types) for how to write your own extension that\n",
    "works with pandas. See [Extension data types](ecosystem.ipynb#ecosystem-extensions) for a list of third-party\n",
    "libraries that have implemented an extension.\n",
    "\n",
    "The following table lists all of pandas extension types. See the respective\n",
    "documentation sections for more on each type.\n",
    "\n",
    "``````[](user_guide/timeseries.ipynb#timeseries-timezone)``````````[](user_guide/timeseries.ipynb#timeseries-periods)``````````[](user_guide/advanced.ipynb#advanced-intervalindex)````[](user_guide/integer_na.ipynb#integer-na)|Kind of Data|Data Type|Scalar|Array|Documentation|\n",
    "|:-----------------:|:-----------------------:|:----------------:|:---------------------------:|:---------------------------:|\n",
    "|tz-aware datetime|DatetimeTZDtype|Timestamp|arrays.DatetimeArray|Time zone handling|\n",
    "|Categorical|CategoricalDtype|(none)|Categorical|categorical|\n",
    "|period (time spans)|PeriodDtype|Period|arrays.PeriodArray|Time span representation|\n",
    "|sparse|SparseDtype|(none)|arrays.SparseArray|sparse|\n",
    "|intervals|IntervalDtype|Interval|arrays.IntervalArray|IntervalIndex|\n",
    "|nullable integer|Int64Dtype, …|(none)|arrays.IntegerArray|Nullable integer data type|\n",
    "Pandas uses the `object` dtype for storing strings.\n",
    "\n",
    "Finally, arbitrary objects may be stored using the `object` dtype, but should\n",
    "be avoided to the extent possible (for performance and interoperability with\n",
    "other libraries and methods. See [object conversion](#basics-object-conversion)).\n",
    "\n",
    "A convenient `dtypes` attribute for DataFrame returns a Series\n",
    "with the data type of each column."
   ]
  },
  {
   "cell_type": "code",
   "execution_count": null,
   "metadata": {
    "hide-output": false
   },
   "outputs": [],
   "source": [
    "dft = pd.DataFrame({'A': np.random.rand(3),\n",
    "                    'B': 1,\n",
    "                    'C': 'foo',\n",
    "                    'D': pd.Timestamp('20010102'),\n",
    "                    'E': pd.Series([1.0] * 3).astype('float32'),\n",
    "                    'F': False,\n",
    "                    'G': pd.Series([1] * 3, dtype='int8')})\n",
    "dft\n",
    "dft.dtypes"
   ]
  },
  {
   "cell_type": "markdown",
   "metadata": {},
   "source": [
    "On a `Series` object, use the `dtype` attribute."
   ]
  },
  {
   "cell_type": "code",
   "execution_count": null,
   "metadata": {
    "hide-output": false
   },
   "outputs": [],
   "source": [
    "dft['A'].dtype"
   ]
  },
  {
   "cell_type": "markdown",
   "metadata": {},
   "source": [
    "If a pandas object contains data with multiple dtypes *in a single column*, the\n",
    "dtype of the column will be chosen to accommodate all of the data types\n",
    "(`object` is the most general)."
   ]
  },
  {
   "cell_type": "code",
   "execution_count": null,
   "metadata": {
    "hide-output": false
   },
   "outputs": [],
   "source": [
    "# these ints are coerced to floats\n",
    "pd.Series([1, 2, 3, 4, 5, 6.])\n",
    "\n",
    "# string data forces an ``object`` dtype\n",
    "pd.Series([1, 2, 3, 6., 'foo'])"
   ]
  },
  {
   "cell_type": "markdown",
   "metadata": {},
   "source": [
    "The number of columns of each type in a `DataFrame` can be found by calling\n",
    "`DataFrame.dtypes.value_counts()`."
   ]
  },
  {
   "cell_type": "code",
   "execution_count": null,
   "metadata": {
    "hide-output": false
   },
   "outputs": [],
   "source": [
    "dft.dtypes.value_counts()"
   ]
  },
  {
   "cell_type": "markdown",
   "metadata": {},
   "source": [
    "Numeric dtypes will propagate and can coexist in DataFrames.\n",
    "If a dtype is passed (either directly via the `dtype` keyword, a passed `ndarray`,\n",
    "or a passed `Series`, then it will be preserved in DataFrame operations. Furthermore,\n",
    "different numeric dtypes will **NOT** be combined. The following example will give you a taste."
   ]
  },
  {
   "cell_type": "code",
   "execution_count": null,
   "metadata": {
    "hide-output": false
   },
   "outputs": [],
   "source": [
    "df1 = pd.DataFrame(np.random.randn(8, 1), columns=['A'], dtype='float32')\n",
    "df1\n",
    "df1.dtypes\n",
    "df2 = pd.DataFrame({'A': pd.Series(np.random.randn(8), dtype='float16'),\n",
    "                    'B': pd.Series(np.random.randn(8)),\n",
    "                    'C': pd.Series(np.array(np.random.randn(8),\n",
    "                                            dtype='uint8'))})\n",
    "df2\n",
    "df2.dtypes"
   ]
  },
  {
   "cell_type": "markdown",
   "metadata": {},
   "source": [
    "### defaults\n",
    "\n",
    "By default integer types are `int64` and float types are `float64`,\n",
    "*regardless* of platform (32-bit or 64-bit).\n",
    "The following will all result in `int64` dtypes."
   ]
  },
  {
   "cell_type": "code",
   "execution_count": null,
   "metadata": {
    "hide-output": false
   },
   "outputs": [],
   "source": [
    "pd.DataFrame([1, 2], columns=['a']).dtypes\n",
    "pd.DataFrame({'a': [1, 2]}).dtypes\n",
    "pd.DataFrame({'a': 1}, index=list(range(2))).dtypes"
   ]
  },
  {
   "cell_type": "markdown",
   "metadata": {},
   "source": [
    "Note that Numpy will choose *platform-dependent* types when creating arrays.\n",
    "The following **WILL** result in `int32` on 32-bit platform."
   ]
  },
  {
   "cell_type": "code",
   "execution_count": null,
   "metadata": {
    "hide-output": false
   },
   "outputs": [],
   "source": [
    "frame = pd.DataFrame(np.array([1, 2]))"
   ]
  },
  {
   "cell_type": "markdown",
   "metadata": {},
   "source": [
    "### upcasting\n",
    "\n",
    "Types can potentially be *upcasted* when combined with other types, meaning they are promoted\n",
    "from the current type (e.g. `int` to `float`)."
   ]
  },
  {
   "cell_type": "code",
   "execution_count": null,
   "metadata": {
    "hide-output": false
   },
   "outputs": [],
   "source": [
    "df3 = df1.reindex_like(df2).fillna(value=0.0) + df2\n",
    "df3\n",
    "df3.dtypes"
   ]
  },
  {
   "cell_type": "markdown",
   "metadata": {},
   "source": [
    "`DataFrame.to_numpy()` will return the *lower-common-denominator* of the dtypes, meaning\n",
    "the dtype that can accommodate **ALL** of the types in the resulting homogeneous dtyped NumPy array. This can\n",
    "force some *upcasting*."
   ]
  },
  {
   "cell_type": "code",
   "execution_count": null,
   "metadata": {
    "hide-output": false
   },
   "outputs": [],
   "source": [
    "df3.to_numpy().dtype"
   ]
  },
  {
   "cell_type": "markdown",
   "metadata": {},
   "source": [
    "### astype\n",
    "\n",
    "\n",
    "<a id='basics-cast'></a>\n",
    "You can use the `astype()` method to explicitly convert dtypes from one to another. These will by default return a copy,\n",
    "even if the dtype was unchanged (pass `copy=False` to change this behavior). In addition, they will raise an\n",
    "exception if the astype operation is invalid.\n",
    "\n",
    "Upcasting is always according to the **numpy** rules. If two different dtypes are involved in an operation,\n",
    "then the more *general* one will be used as the result of the operation."
   ]
  },
  {
   "cell_type": "code",
   "execution_count": null,
   "metadata": {
    "hide-output": false
   },
   "outputs": [],
   "source": [
    "df3\n",
    "df3.dtypes\n",
    "\n",
    "# conversion of dtypes\n",
    "df3.astype('float32').dtypes"
   ]
  },
  {
   "cell_type": "markdown",
   "metadata": {},
   "source": [
    "Convert a subset of columns to a specified type using `astype()`."
   ]
  },
  {
   "cell_type": "code",
   "execution_count": null,
   "metadata": {
    "hide-output": false
   },
   "outputs": [],
   "source": [
    "dft = pd.DataFrame({'a': [1, 2, 3], 'b': [4, 5, 6], 'c': [7, 8, 9]})\n",
    "dft[['a', 'b']] = dft[['a', 'b']].astype(np.uint8)\n",
    "dft\n",
    "dft.dtypes"
   ]
  },
  {
   "cell_type": "markdown",
   "metadata": {},
   "source": [
    "New in version 0.19.0.\n",
    "\n",
    "Convert certain columns to a specific dtype by passing a dict to `astype()`."
   ]
  },
  {
   "cell_type": "code",
   "execution_count": null,
   "metadata": {
    "hide-output": false
   },
   "outputs": [],
   "source": [
    "dft1 = pd.DataFrame({'a': [1, 0, 1], 'b': [4, 5, 6], 'c': [7, 8, 9]})\n",
    "dft1 = dft1.astype({'a': np.bool, 'c': np.float64})\n",
    "dft1\n",
    "dft1.dtypes"
   ]
  },
  {
   "cell_type": "markdown",
   "metadata": {},
   "source": [
    ">**Note**\n",
    ">\n",
    ">When trying to convert a subset of columns to a specified type using `astype()`  and `loc()`, upcasting occurs.\n",
    "\n",
    "`loc()` tries to fit in what we are assigning to the current dtypes, while `[]` will overwrite them taking the dtype from the right hand side. Therefore the following piece of code produces the unintended result."
   ]
  },
  {
   "cell_type": "code",
   "execution_count": null,
   "metadata": {
    "hide-output": false
   },
   "outputs": [],
   "source": [
    "dft = pd.DataFrame({'a': [1, 2, 3], 'b': [4, 5, 6], 'c': [7, 8, 9]})\n",
    "dft.loc[:, ['a', 'b']].astype(np.uint8).dtypes\n",
    "dft.loc[:, ['a', 'b']] = dft.loc[:, ['a', 'b']].astype(np.uint8)\n",
    "dft.dtypes"
   ]
  },
  {
   "cell_type": "markdown",
   "metadata": {},
   "source": [
    "\n",
    "<a id='basics-object-conversion'></a>"
   ]
  },
  {
   "cell_type": "markdown",
   "metadata": {},
   "source": [
    "### object conversion\n",
    "\n",
    "pandas offers various functions to try to force conversion of types from the `object` dtype to other types.\n",
    "In cases where the data is already of the correct type, but stored in an `object` array, the\n",
    "`DataFrame.infer_objects()` and `Series.infer_objects()` methods can be used to soft convert\n",
    "to the correct type.\n",
    "\n",
    "> "
   ]
  },
  {
   "cell_type": "code",
   "execution_count": null,
   "metadata": {
    "hide-output": false
   },
   "outputs": [],
   "source": [
    "import datetime\n",
    "df = pd.DataFrame([[1, 2],\n",
    "                   ['a', 'b'],\n",
    "                   [datetime.datetime(2016, 3, 2),\n",
    "                    datetime.datetime(2016, 3, 2)]])\n",
    "df = df.T\n",
    "df\n",
    "df.dtypes"
   ]
  },
  {
   "cell_type": "markdown",
   "metadata": {},
   "source": [
    "\n",
    "Because the data was transposed the original inference stored all columns as object, which\n",
    "`infer_objects` will correct.\n",
    "\n",
    "> "
   ]
  },
  {
   "cell_type": "code",
   "execution_count": null,
   "metadata": {
    "hide-output": false
   },
   "outputs": [],
   "source": [
    "df.infer_objects().dtypes"
   ]
  },
  {
   "cell_type": "markdown",
   "metadata": {},
   "source": [
    "\n",
    "The following functions are available for one dimensional object arrays or scalars to perform\n",
    "hard conversion of objects to a specified type:\n",
    "\n",
    "- `to_numeric()` (conversion to numeric dtypes)  "
   ]
  },
  {
   "cell_type": "code",
   "execution_count": null,
   "metadata": {
    "hide-output": false
   },
   "outputs": [],
   "source": [
    "m = ['1.1', 2, 3]\n",
    "pd.to_numeric(m)"
   ]
  },
  {
   "cell_type": "markdown",
   "metadata": {},
   "source": [
    "- `to_datetime()` (conversion to datetime objects)  "
   ]
  },
  {
   "cell_type": "code",
   "execution_count": null,
   "metadata": {
    "hide-output": false
   },
   "outputs": [],
   "source": [
    "import datetime\n",
    "m = ['2016-07-09', datetime.datetime(2016, 3, 2)]\n",
    "pd.to_datetime(m)"
   ]
  },
  {
   "cell_type": "markdown",
   "metadata": {},
   "source": [
    "- `to_timedelta()` (conversion to timedelta objects)  "
   ]
  },
  {
   "cell_type": "code",
   "execution_count": null,
   "metadata": {
    "hide-output": false
   },
   "outputs": [],
   "source": [
    "m = ['5us', pd.Timedelta('1day')]\n",
    "pd.to_timedelta(m)"
   ]
  },
  {
   "cell_type": "markdown",
   "metadata": {},
   "source": [
    "\n",
    "\n",
    "To force a conversion, we can pass in an `errors` argument, which specifies how pandas should deal with elements\n",
    "that cannot be converted to desired dtype or object. By default, `errors='raise'`, meaning that any errors encountered\n",
    "will be raised during the conversion process. However, if `errors='coerce'`, these errors will be ignored and pandas\n",
    "will convert problematic elements to `pd.NaT` (for datetime and timedelta) or `np.nan` (for numeric). This might be\n",
    "useful if you are reading in data which is mostly of the desired dtype (e.g. numeric, datetime), but occasionally has\n",
    "non-conforming elements intermixed that you want to represent as missing:"
   ]
  },
  {
   "cell_type": "code",
   "execution_count": null,
   "metadata": {
    "hide-output": false
   },
   "outputs": [],
   "source": [
    "import datetime\n",
    "m = ['apple', datetime.datetime(2016, 3, 2)]\n",
    "pd.to_datetime(m, errors='coerce')\n",
    "\n",
    "m = ['apple', 2, 3]\n",
    "pd.to_numeric(m, errors='coerce')\n",
    "\n",
    "m = ['apple', pd.Timedelta('1day')]\n",
    "pd.to_timedelta(m, errors='coerce')"
   ]
  },
  {
   "cell_type": "markdown",
   "metadata": {},
   "source": [
    "The `errors` parameter has a third option of `errors='ignore'`, which will simply return the passed in data if it\n",
    "encounters any errors with the conversion to a desired data type:"
   ]
  },
  {
   "cell_type": "code",
   "execution_count": null,
   "metadata": {
    "hide-output": false
   },
   "outputs": [],
   "source": [
    "import datetime\n",
    "m = ['apple', datetime.datetime(2016, 3, 2)]\n",
    "pd.to_datetime(m, errors='ignore')\n",
    "\n",
    "m = ['apple', 2, 3]\n",
    "pd.to_numeric(m, errors='ignore')\n",
    "\n",
    "m = ['apple', pd.Timedelta('1day')]\n",
    "pd.to_timedelta(m, errors='ignore')"
   ]
  },
  {
   "cell_type": "markdown",
   "metadata": {},
   "source": [
    "In addition to object conversion, `to_numeric()` provides another argument `downcast`, which gives the\n",
    "option of downcasting the newly (or already) numeric data to a smaller dtype, which can conserve memory:"
   ]
  },
  {
   "cell_type": "code",
   "execution_count": null,
   "metadata": {
    "hide-output": false
   },
   "outputs": [],
   "source": [
    "m = ['1', 2, 3]\n",
    "pd.to_numeric(m, downcast='integer')   # smallest signed int dtype\n",
    "pd.to_numeric(m, downcast='signed')    # same as 'integer'\n",
    "pd.to_numeric(m, downcast='unsigned')  # smallest unsigned int dtype\n",
    "pd.to_numeric(m, downcast='float')     # smallest float dtype"
   ]
  },
  {
   "cell_type": "markdown",
   "metadata": {},
   "source": [
    "As these methods apply only to one-dimensional arrays, lists or scalars; they cannot be used directly on multi-dimensional objects such\n",
    "as DataFrames. However, with `apply()`, we can “apply” the function over each column efficiently:"
   ]
  },
  {
   "cell_type": "code",
   "execution_count": null,
   "metadata": {
    "hide-output": false
   },
   "outputs": [],
   "source": [
    "import datetime\n",
    "df = pd.DataFrame([\n",
    "    ['2016-07-09', datetime.datetime(2016, 3, 2)]] * 2, dtype='O')\n",
    "df\n",
    "df.apply(pd.to_datetime)\n",
    "\n",
    "df = pd.DataFrame([['1.1', 2, 3]] * 2, dtype='O')\n",
    "df\n",
    "df.apply(pd.to_numeric)\n",
    "\n",
    "df = pd.DataFrame([['5us', pd.Timedelta('1day')]] * 2, dtype='O')\n",
    "df\n",
    "df.apply(pd.to_timedelta)"
   ]
  },
  {
   "cell_type": "markdown",
   "metadata": {},
   "source": [
    "### gotchas\n",
    "\n",
    "Performing selection operations on `integer` type data can easily upcast the data to `floating`.\n",
    "The dtype of the input data will be preserved in cases where `nans` are not introduced.\n",
    "See also [Support for integer NA](user_guide/gotchas.ipynb#gotchas-intna)."
   ]
  },
  {
   "cell_type": "code",
   "execution_count": null,
   "metadata": {
    "hide-output": false
   },
   "outputs": [],
   "source": [
    "dfi = df3.astype('int32')\n",
    "dfi['E'] = 1\n",
    "dfi\n",
    "dfi.dtypes\n",
    "\n",
    "casted = dfi[dfi > 0]\n",
    "casted\n",
    "casted.dtypes"
   ]
  },
  {
   "cell_type": "markdown",
   "metadata": {},
   "source": [
    "While float dtypes are unchanged."
   ]
  },
  {
   "cell_type": "code",
   "execution_count": null,
   "metadata": {
    "hide-output": false
   },
   "outputs": [],
   "source": [
    "dfa = df3.copy()\n",
    "dfa['A'] = dfa['A'].astype('float32')\n",
    "dfa.dtypes\n",
    "\n",
    "casted = dfa[df2 > 0]\n",
    "casted\n",
    "casted.dtypes"
   ]
  },
  {
   "cell_type": "markdown",
   "metadata": {},
   "source": [
    "## Selecting columns based on `dtype`\n",
    "\n",
    "\n",
    "<a id='basics-selectdtypes'></a>\n",
    "The `select_dtypes()` method implements subsetting of columns\n",
    "based on their `dtype`.\n",
    "\n",
    "First, let’s create a `DataFrame` with a slew of different\n",
    "dtypes:"
   ]
  },
  {
   "cell_type": "code",
   "execution_count": null,
   "metadata": {
    "hide-output": false
   },
   "outputs": [],
   "source": [
    "df = pd.DataFrame({'string': list('abc'),\n",
    "                   'int64': list(range(1, 4)),\n",
    "                   'uint8': np.arange(3, 6).astype('u1'),\n",
    "                   'float64': np.arange(4.0, 7.0),\n",
    "                   'bool1': [True, False, True],\n",
    "                   'bool2': [False, True, False],\n",
    "                   'dates': pd.date_range('now', periods=3),\n",
    "                   'category': pd.Series(list(\"ABC\")).astype('category')})\n",
    "df['tdeltas'] = df.dates.diff()\n",
    "df['uint64'] = np.arange(3, 6).astype('u8')\n",
    "df['other_dates'] = pd.date_range('20130101', periods=3)\n",
    "df['tz_aware_dates'] = pd.date_range('20130101', periods=3, tz='US/Eastern')\n",
    "df"
   ]
  },
  {
   "cell_type": "markdown",
   "metadata": {},
   "source": [
    "And the dtypes:"
   ]
  },
  {
   "cell_type": "code",
   "execution_count": null,
   "metadata": {
    "hide-output": false
   },
   "outputs": [],
   "source": [
    "df.dtypes"
   ]
  },
  {
   "cell_type": "markdown",
   "metadata": {},
   "source": [
    "`select_dtypes()` has two parameters `include` and `exclude` that allow you to\n",
    "say “give me the columns *with* these dtypes” (`include`) and/or “give the\n",
    "columns *without* these dtypes” (`exclude`).\n",
    "\n",
    "For example, to select `bool` columns:"
   ]
  },
  {
   "cell_type": "code",
   "execution_count": null,
   "metadata": {
    "hide-output": false
   },
   "outputs": [],
   "source": [
    "df.select_dtypes(include=[bool])"
   ]
  },
  {
   "cell_type": "markdown",
   "metadata": {},
   "source": [
    "You can also pass the name of a dtype in the [NumPy dtype hierarchy](https://docs.scipy.org/doc/numpy/reference/arrays.scalars.html):"
   ]
  },
  {
   "cell_type": "code",
   "execution_count": null,
   "metadata": {
    "hide-output": false
   },
   "outputs": [],
   "source": [
    "df.select_dtypes(include=['bool'])"
   ]
  },
  {
   "cell_type": "markdown",
   "metadata": {},
   "source": [
    "`select_dtypes()` also works with generic dtypes as well.\n",
    "\n",
    "For example, to select all numeric and boolean columns while excluding unsigned\n",
    "integers:"
   ]
  },
  {
   "cell_type": "code",
   "execution_count": null,
   "metadata": {
    "hide-output": false
   },
   "outputs": [],
   "source": [
    "df.select_dtypes(include=['number', 'bool'], exclude=['unsignedinteger'])"
   ]
  },
  {
   "cell_type": "markdown",
   "metadata": {},
   "source": [
    "To select string columns you must use the `object` dtype:"
   ]
  },
  {
   "cell_type": "code",
   "execution_count": null,
   "metadata": {
    "hide-output": false
   },
   "outputs": [],
   "source": [
    "df.select_dtypes(include=['object'])"
   ]
  },
  {
   "cell_type": "markdown",
   "metadata": {},
   "source": [
    "To see all the child dtypes of a generic `dtype` like `numpy.number` you\n",
    "can define a function that returns a tree of child dtypes:"
   ]
  },
  {
   "cell_type": "code",
   "execution_count": null,
   "metadata": {
    "hide-output": false
   },
   "outputs": [],
   "source": [
    "def subdtypes(dtype):\n",
    "    subs = dtype.__subclasses__()\n",
    "    if not subs:\n",
    "        return dtype\n",
    "    return [dtype, [subdtypes(dt) for dt in subs]]"
   ]
  },
  {
   "cell_type": "markdown",
   "metadata": {},
   "source": [
    "All NumPy dtypes are subclasses of `numpy.generic`:"
   ]
  },
  {
   "cell_type": "code",
   "execution_count": null,
   "metadata": {
    "hide-output": false
   },
   "outputs": [],
   "source": [
    "subdtypes(np.generic)"
   ]
  },
  {
   "cell_type": "markdown",
   "metadata": {},
   "source": [
    ">**Note**\n",
    ">\n",
    ">Pandas also defines the types `category`, and `datetime64[ns, tz]`, which are not integrated into the normal\n",
    "NumPy hierarchy and won’t show up with the above function."
   ]
  }
 ],
 "metadata": {
  "filename": "basics.rst",
  "kernelspec": {
   "display_name": "Python",
   "language": "python3",
   "name": "python3"
  },
  "title": "Essential basic functionality"
 },
 "nbformat": 4,
 "nbformat_minor": 2
}