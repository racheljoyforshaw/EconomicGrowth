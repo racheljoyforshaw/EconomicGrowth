{
 "cells": [
  {
   "cell_type": "markdown",
   "metadata": {},
   "source": [
    "# pandas.read_sql_table\n",
    "\n",
    "pandas.read_sql_tabletable_nameconschema=Noneindex_col=Nonecoerce_float=Trueparse_dates=Nonecolumns=Nonechunksize=NoneRead SQL database table into a DataFrame.\n",
    "\n",
    "Given a table name and a SQLAlchemy connectable, returns a DataFrame.\n",
    "This function does not support DBAPI connections.\n",
    "\n",
    "\n",
    "<dl style='margin: 20px 0;'>\n",
    "<dt>Parameters</dt>\n",
    "<dd>\n",
    "\n",
    "<dl style='margin: 20px 0;'>\n",
    "<dt>**table_name**</dt>\n",
    "str<dd>\n",
    "Name of SQL table in database.\n",
    "\n",
    "</dd>\n",
    "<dt>**con**</dt>\n",
    "SQLAlchemy connectable or str<dd>\n",
    "A database URI could be provided as as str.\n",
    "SQLite DBAPI connection mode not supported.\n",
    "\n",
    "</dd>\n",
    "<dt>**schema**</dt>\n",
    "str, default None<dd>\n",
    "Name of SQL schema in database to query (if database flavor\n",
    "supports this). Uses default schema if None (default).\n",
    "\n",
    "</dd>\n",
    "<dt>**index_col**</dt>\n",
    "str or list of str, optional, default: None<dd>\n",
    "Column(s) to set as index(MultiIndex).\n",
    "\n",
    "</dd>\n",
    "<dt>**coerce_float**</dt>\n",
    "bool, default True<dd>\n",
    "Attempts to convert values of non-string, non-numeric objects (like\n",
    "decimal.Decimal) to floating point. Can result in loss of Precision.\n",
    "\n",
    "</dd>\n",
    "<dt>**parse_dates**</dt>\n",
    "list or dict, default None<dd>\n",
    "- List of column names to parse as dates.  \n",
    "- Dict of `{column_name: format string}` where format string is\n",
    "  strftime compatible in case of parsing string times or is one of\n",
    "  (D, s, ns, ms, us) in case of parsing integer timestamps.  \n",
    "- Dict of `{column_name: arg dict}`, where the arg dict corresponds\n",
    "  to the keyword arguments of `pandas.to_datetime()`\n",
    "  Especially useful with databases without native Datetime support,\n",
    "  such as SQLite.  \n",
    "\n",
    "\n",
    "</dd>\n",
    "<dt>**columns**</dt>\n",
    "list, default None<dd>\n",
    "List of column names to select from SQL table.\n",
    "\n",
    "</dd>\n",
    "<dt>**chunksize**</dt>\n",
    "int, default None<dd>\n",
    "If specified, returns an iterator where chunksize is the number of\n",
    "rows to include in each chunk.\n",
    "\n",
    "</dd>\n",
    "\n",
    "</dl>\n",
    "\n",
    "</dd>\n",
    "<dt>Returns</dt>\n",
    "<dd>\n",
    "\n",
    "<dl style='margin: 20px 0;'>\n",
    "<dt>DataFrame</dt>\n",
    "<dd>\n",
    "A SQL table is returned as two-dimensional data structure with labeled\n",
    "axes.\n",
    "\n",
    "</dd>\n",
    "\n",
    "</dl>\n",
    "\n",
    "</dd>\n",
    "\n",
    "</dl>\n",
    "\n",
    "\n",
    "<dl style='margin: 20px 0;'>\n",
    "<dt>[`read_sql_query`](pandas.read_sql_query#pandas.read_sql_query)</dt>\n",
    "<dd>\n",
    "Read SQL query into a DataFrame.\n",
    "\n",
    "</dd>\n",
    "<dt>[`read_sql`](pandas.read_sql#pandas.read_sql)</dt>\n",
    "<dd>\n",
    "Read SQL query or database table into a DataFrame.\n",
    "\n",
    "</dd>\n",
    "\n",
    "</dl>"
   ]
  },
  {
   "cell_type": "markdown",
   "metadata": {},
   "source": [
    "Notes"
   ]
  },
  {
   "cell_type": "markdown",
   "metadata": {},
   "source": [
    "Any datetime values with time zone information will be converted to UTC."
   ]
  },
  {
   "cell_type": "markdown",
   "metadata": {},
   "source": [
    "Examples"
   ]
  },
  {
   "cell_type": "markdown",
   "metadata": {},
   "source": [
    ">>> pd.read_sql_table('table_name', 'postgres:///db_name')  # doctest:+SKIP"
   ]
  }
 ],
 "metadata": {
  "filename": "pandas.read_sql_table.rst",
  "kernelspec": {
   "display_name": "Python",
   "language": "python3",
   "name": "python3"
  },
  "title": "pandas.read_sql_table"
 },
 "nbformat": 4,
 "nbformat_minor": 2
}