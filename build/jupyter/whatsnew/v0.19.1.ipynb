{
 "cells": [
  {
   "cell_type": "markdown",
   "metadata": {},
   "source": [
    "\n",
    "<a id='whatsnew-0191'></a>"
   ]
  },
  {
   "cell_type": "markdown",
   "metadata": {},
   "source": [
    "# v0.19.1 (November 3, 2016)\n",
    "\n",
    "{{ header }}\n",
    "\n",
    "This is a minor bug-fix release from 0.19.0 and includes some small regression fixes,\n",
    "bug fixes and performance improvements.\n",
    "We recommend that all users upgrade to this version."
   ]
  },
  {
   "cell_type": "markdown",
   "metadata": {},
   "source": [
    "## What’s new in v0.19.1\n",
    "\n",
    "- [Performance improvements](#Performance-improvements)  \n",
    "- [Bug fixes](#Bug-fixes)  \n",
    "- [Contributors](#Contributors)  "
   ]
  },
  {
   "cell_type": "markdown",
   "metadata": {},
   "source": [
    "\n",
    "<a id='whatsnew-0191-performance'></a>"
   ]
  },
  {
   "cell_type": "markdown",
   "metadata": {},
   "source": [
    "## Performance improvements\n",
    "\n",
    "- Fixed performance regression in factorization of `Period` data ([GH14338](https://github.com/pandas-dev/pandas/issues/14338))  \n",
    "- Fixed performance regression in `Series.asof(where)` when `where` is a scalar ([GH14461](https://github.com/pandas-dev/pandas/issues/14461))  \n",
    "- Improved performance in `DataFrame.asof(where)` when `where` is a scalar ([GH14461](https://github.com/pandas-dev/pandas/issues/14461))  \n",
    "- Improved performance in `.to_json()` when `lines=True` ([GH14408](https://github.com/pandas-dev/pandas/issues/14408))  \n",
    "- Improved performance in certain types of loc indexing with a MultiIndex ([GH14551](https://github.com/pandas-dev/pandas/issues/14551)).  \n",
    "\n",
    "\n",
    "\n",
    "<a id='whatsnew-0191-bug-fixes'></a>"
   ]
  },
  {
   "cell_type": "markdown",
   "metadata": {},
   "source": [
    "## Bug fixes\n",
    "\n",
    "- Source installs from PyPI will now again work without `cython` installed, as in previous versions ([GH14204](https://github.com/pandas-dev/pandas/issues/14204))  \n",
    "- Compat with Cython 0.25 for building ([GH14496](https://github.com/pandas-dev/pandas/issues/14496))  \n",
    "- Fixed regression where user-provided file handles were closed in `read_csv` (c engine) ([GH14418](https://github.com/pandas-dev/pandas/issues/14418)).  \n",
    "- Fixed regression in `DataFrame.quantile` when missing values where present in some columns ([GH14357](https://github.com/pandas-dev/pandas/issues/14357)).  \n",
    "- Fixed regression in `Index.difference` where the `freq` of a `DatetimeIndex` was incorrectly set ([GH14323](https://github.com/pandas-dev/pandas/issues/14323))  \n",
    "- Added back `pandas.core.common.array_equivalent` with a deprecation warning ([GH14555](https://github.com/pandas-dev/pandas/issues/14555)).  \n",
    "- Bug in `pd.read_csv` for the C engine in which quotation marks were improperly parsed in skipped rows ([GH14459](https://github.com/pandas-dev/pandas/issues/14459))  \n",
    "- Bug in `pd.read_csv` for Python 2.x in which Unicode quote characters were no longer being respected ([GH14477](https://github.com/pandas-dev/pandas/issues/14477))  \n",
    "- Fixed regression in `Index.append` when categorical indices were appended ([GH14545](https://github.com/pandas-dev/pandas/issues/14545)).  \n",
    "- Fixed regression in `pd.DataFrame` where constructor fails when given dict with `None` value ([GH14381](https://github.com/pandas-dev/pandas/issues/14381))  \n",
    "- Fixed regression in `DatetimeIndex._maybe_cast_slice_bound` when index is empty ([GH14354](https://github.com/pandas-dev/pandas/issues/14354)).  \n",
    "- Bug in localizing an ambiguous timezone when a boolean is passed ([GH14402](https://github.com/pandas-dev/pandas/issues/14402))  \n",
    "- Bug in `TimedeltaIndex` addition with a Datetime-like object where addition overflow in the negative direction was not being caught ([GH14068](https://github.com/pandas-dev/pandas/issues/14068), [GH14453](https://github.com/pandas-dev/pandas/issues/14453))  \n",
    "- Bug in string indexing against data with `object` `Index` may raise `AttributeError` ([GH14424](https://github.com/pandas-dev/pandas/issues/14424))  \n",
    "- Correctly raise `ValueError` on empty input to `pd.eval()` and `df.query()` ([GH13139](https://github.com/pandas-dev/pandas/issues/13139))  \n",
    "- Bug in `RangeIndex.intersection` when result is a empty set ([GH14364](https://github.com/pandas-dev/pandas/issues/14364)).  \n",
    "- Bug in groupby-transform broadcasting that could cause incorrect dtype coercion ([GH14457](https://github.com/pandas-dev/pandas/issues/14457))  \n",
    "- Bug in `Series.__setitem__` which allowed mutating read-only arrays ([GH14359](https://github.com/pandas-dev/pandas/issues/14359)).  \n",
    "- Bug in `DataFrame.insert` where multiple calls with duplicate columns can fail ([GH14291](https://github.com/pandas-dev/pandas/issues/14291))  \n",
    "- `pd.merge()` will raise `ValueError` with non-boolean parameters in passed boolean type arguments ([GH14434](https://github.com/pandas-dev/pandas/issues/14434))  \n",
    "- Bug in `Timestamp` where dates very near the minimum (1677-09) could underflow on creation ([GH14415](https://github.com/pandas-dev/pandas/issues/14415))  \n",
    "- Bug in `pd.concat` where names of the `keys` were not propagated to the resulting `MultiIndex` ([GH14252](https://github.com/pandas-dev/pandas/issues/14252))  \n",
    "- Bug in `pd.concat` where `axis` cannot take string parameters `'rows'` or `'columns'` ([GH14369](https://github.com/pandas-dev/pandas/issues/14369))  \n",
    "- Bug in `pd.concat` with dataframes heterogeneous in length and tuple `keys` ([GH14438](https://github.com/pandas-dev/pandas/issues/14438))  \n",
    "- Bug in `MultiIndex.set_levels` where illegal level values were still set after raising an error ([GH13754](https://github.com/pandas-dev/pandas/issues/13754))  \n",
    "- Bug in `DataFrame.to_json` where `lines=True` and a value contained a `}` character ([GH14391](https://github.com/pandas-dev/pandas/issues/14391))  \n",
    "- Bug in `df.groupby` causing an `AttributeError` when grouping a single index frame by a column and the index level ([GH14327](https://github.com/pandas-dev/pandas/issues/14327))  \n",
    "- Bug in `df.groupby` where `TypeError` raised when `pd.Grouper(key=...)` is passed in a list ([GH14334](https://github.com/pandas-dev/pandas/issues/14334))  \n",
    "- Bug in `pd.pivot_table` may raise `TypeError` or `ValueError` when `index` or `columns`\n",
    "  is not scalar and `values` is not specified ([GH14380](https://github.com/pandas-dev/pandas/issues/14380))  \n",
    "\n",
    "\n",
    "\n",
    "<a id='whatsnew-0-19-1-contributors'></a>"
   ]
  },
  {
   "cell_type": "markdown",
   "metadata": {},
   "source": [
    "## Contributors\n",
    "\n",
    "A total of 30 people contributed patches to this release.  People with a\n",
    "“+” by their names contributed a patch for the first time.\n",
    "\n",
    "\n",
    "- Adam Chainz +  \n",
    "- Anthonios Partheniou  \n",
    "- Arash Rouhani +  \n",
    "- Ben Kandel  \n",
    "- Brandon M. Burroughs +  \n",
    "- Chris  \n",
    "- Chris Warth  \n",
    "- David Krych +  \n",
    "- Iván Vallés Pérez +  \n",
    "- Jeff Reback  \n",
    "- Joe Jevnik  \n",
    "- Jon M. Mease +  \n",
    "- Jon Mease +  \n",
    "- Joris Van den Bossche  \n",
    "- Josh Owen +  \n",
    "- Keshav Ramaswamy +  \n",
    "- Larry Ren +  \n",
    "- Michael Felt +  \n",
    "- Piotr Chromiec +  \n",
    "- Robert Bradshaw +  \n",
    "- Sinhrks  \n",
    "- Thiago Serafim +  \n",
    "- Tom Bird  \n",
    "- bkandel +  \n",
    "- chris-b1  \n",
    "- dubourg +  \n",
    "- gfyoung  \n",
    "- mattrijk +  \n",
    "- paul-mannino +  \n",
    "- sinhrks  "
   ]
  }
 ],
 "metadata": {
  "filename": "v0.19.1.rst",
  "kernelspec": {
   "display_name": "Python",
   "language": "python3",
   "name": "python3"
  },
  "title": "v0.19.1 (November 3, 2016)"
 },
 "nbformat": 4,
 "nbformat_minor": 2
}