{
 "cells": [
  {
   "cell_type": "markdown",
   "metadata": {},
   "source": [
    "\n",
    "<a id='whatsnew-061'></a>"
   ]
  },
  {
   "cell_type": "markdown",
   "metadata": {},
   "source": [
    "# v.0.6.1 (December 13, 2011)"
   ]
  },
  {
   "cell_type": "markdown",
   "metadata": {},
   "source": [
    "## New features\n",
    "\n",
    "- Can [append single rows](user_guide/merging.ipynb#merging-append-row) (as Series) to a DataFrame  \n",
    "- Add Spearman and Kendall rank [correlation](user_guide/computation.ipynb#computation-correlation)\n",
    "  options to Series.corr and DataFrame.corr ([GH428](https://github.com/pandas-dev/pandas/issues/428))  \n",
    "- [Added](user_guide/indexing.ipynb#indexing-basics-get-value) `get_value` and `set_value` methods to\n",
    "  Series, DataFrame, and Panel for very low-overhead access (>2x faster in many\n",
    "  cases) to scalar elements ([GH437](https://github.com/pandas-dev/pandas/issues/437), [GH438](https://github.com/pandas-dev/pandas/issues/438)). `set_value` is capable of\n",
    "  producing an enlarged object.  \n",
    "- Add PyQt table widget to sandbox ([GH435](https://github.com/pandas-dev/pandas/issues/435))  \n",
    "- DataFrame.align can [accept Series arguments](getting_started/basics.ipynb#basics-align-frame-series)\n",
    "  and an [axis option](getting_started/basics.ipynb#basics-df-join) ([GH461](https://github.com/pandas-dev/pandas/issues/461))  \n",
    "- Implement new [SparseArray](user_guide/sparse.ipynb#sparse-array) and SparseList\n",
    "  data structures. SparseSeries now derives from SparseArray ([GH463](https://github.com/pandas-dev/pandas/issues/463))  \n",
    "- [Better console printing options](user_guide/options.ipynb#basics-console-output) ([GH453](https://github.com/pandas-dev/pandas/issues/453))  \n",
    "- Implement fast [data ranking](user_guide/computation.ipynb#computation-ranking) for Series and\n",
    "  DataFrame, fast versions of scipy.stats.rankdata ([GH428](https://github.com/pandas-dev/pandas/issues/428))  \n",
    "- Implement DataFrame.from_items alternate\n",
    "  constructor ([GH444](https://github.com/pandas-dev/pandas/issues/444))  \n",
    "- DataFrame.convert_objects method for [inferring better dtypes](getting_started/basics.ipynb#basics-cast)\n",
    "  for object columns ([GH302](https://github.com/pandas-dev/pandas/issues/302))  \n",
    "- Add [rolling_corr_pairwise](user_guide/computation.ipynb#stats-moments-corr-pairwise) function for\n",
    "  computing Panel of correlation matrices ([GH189](https://github.com/pandas-dev/pandas/issues/189))  \n",
    "- Add [margins](user_guide/reshaping.ipynb#reshaping-pivot-margins) option to [pivot_table](user_guide/reshaping.ipynb#reshaping-pivot) for computing subgroup aggregates ([GH114](https://github.com/pandas-dev/pandas/issues/114))  \n",
    "- Add `Series.from_csv` function ([GH482](https://github.com/pandas-dev/pandas/issues/482))  \n",
    "- [Can pass](user_guide/computation.ipynb#stats-moments-binary) DataFrame/DataFrame and\n",
    "  DataFrame/Series to rolling_corr/rolling_cov (GH #462)  \n",
    "- MultiIndex.get_level_values can [accept the level name](user_guide/advanced.ipynb#advanced-get-level-values)  "
   ]
  },
  {
   "cell_type": "markdown",
   "metadata": {},
   "source": [
    "## Performance improvements\n",
    "\n",
    "- Improve memory usage of DataFrame.describe (do not copy data\n",
    "  unnecessarily) (PR #425)  \n",
    "- Optimize scalar value lookups in the general case by 25% or more in Series\n",
    "  and DataFrame  \n",
    "- Fix performance regression in cross-sectional count in DataFrame, affecting\n",
    "  DataFrame.dropna speed  \n",
    "- Column deletion in DataFrame copies no data (computes views on blocks) (GH\n",
    "  #158)  \n",
    "\n",
    "\n",
    "\n",
    "<a id='whatsnew-0-6-1-contributors'></a>"
   ]
  },
  {
   "cell_type": "markdown",
   "metadata": {},
   "source": [
    "## Contributors\n",
    "\n",
    "A total of 7 people contributed patches to this release.  People with a\n",
    "“+” by their names contributed a patch for the first time.\n",
    "\n",
    "\n",
    "- Dieter Vandenbussche  \n",
    "- Fernando Perez +  \n",
    "- Jev Kuznetsov +  \n",
    "- Joon Ro  \n",
    "- Ralph Bean +  \n",
    "- Wes McKinney  \n",
    "- Wouter Overmeire  "
   ]
  }
 ],
 "metadata": {
  "filename": "v0.6.1.rst",
  "kernelspec": {
   "display_name": "Python",
   "language": "python3",
   "name": "python3"
  },
  "title": "v.0.6.1 (December 13, 2011)"
 },
 "nbformat": 4,
 "nbformat_minor": 2
}