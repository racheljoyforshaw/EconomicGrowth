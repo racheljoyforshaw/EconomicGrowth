{
 "cells": [
  {
   "cell_type": "markdown",
   "metadata": {},
   "source": [
    "\n",
    "<a id='whatsnew-0232'></a>"
   ]
  },
  {
   "cell_type": "markdown",
   "metadata": {},
   "source": [
    "# What’s new in 0.23.2 (July 5, 2018)\n",
    "\n",
    "{{ header }}\n",
    "\n",
    "This is a minor bug-fix release in the 0.23.x series and includes some small regression fixes\n",
    "and bug fixes. We recommend that all users upgrade to this version.\n",
    "\n",
    ">**Note**\n",
    ">\n",
    ">Pandas 0.23.2 is first pandas release that’s compatible with\n",
    "Python 3.7 ([GH20552](https://github.com/pandas-dev/pandas/issues/20552))\n",
    "\n",
    "Starting January 1, 2019, pandas feature releases will support Python 3 only.\n",
    "See [Plan for dropping Python 2.7](install.ipynb#install-dropping-27) for more."
   ]
  },
  {
   "cell_type": "markdown",
   "metadata": {},
   "source": [
    "## What’s new in v0.23.2\n",
    "\n",
    "- [Logical reductions over entire DataFrame](#Logical-reductions-over-entire-DataFrame)  \n",
    "- [Fixed regressions](#Fixed-regressions)  \n",
    "- [Build changes](#Build-changes)  \n",
    "- [Bug fixes](#Bug-fixes)  \n",
    "- [Contributors](#Contributors)  "
   ]
  },
  {
   "cell_type": "markdown",
   "metadata": {},
   "source": [
    "\n",
    "<a id='whatsnew-0232-enhancements'></a>"
   ]
  },
  {
   "cell_type": "markdown",
   "metadata": {},
   "source": [
    "## Logical reductions over entire DataFrame\n",
    "\n",
    "`DataFrame.all()` and `DataFrame.any()` now accept `axis=None` to reduce over all axes to a scalar ([GH19976](https://github.com/pandas-dev/pandas/issues/19976))\n",
    "\n",
    "This also provides compatibility with NumPy 1.15, which now dispatches to `DataFrame.all`.\n",
    "With NumPy 1.15 and pandas 0.23.1 or earlier, [`numpy.all()`](https://docs.scipy.org/doc/numpy/reference/generated/numpy.all.html#numpy.all) will no longer reduce over every axis:"
   ]
  },
  {
   "cell_type": "code",
   "execution_count": null,
   "metadata": {
    "hide-output": false
   },
   "outputs": [],
   "source": [
    ">>> # NumPy 1.15, pandas 0.23.1\n",
    ">>> np.any(pd.DataFrame({\"A\": [False], \"B\": [False]}))\n",
    "A    False\n",
    "B    False\n",
    "dtype: bool"
   ]
  },
  {
   "cell_type": "markdown",
   "metadata": {},
   "source": [
    "With pandas 0.23.2, that will correctly return False, as it did with NumPy < 1.15.\n",
    "\n",
    "\n",
    "<a id='whatsnew-0232-fixed-regressions'></a>"
   ]
  },
  {
   "cell_type": "markdown",
   "metadata": {},
   "source": [
    "## Fixed regressions\n",
    "\n",
    "- Fixed regression in `to_csv()` when handling file-like object incorrectly ([GH21471](https://github.com/pandas-dev/pandas/issues/21471))  \n",
    "- Re-allowed duplicate level names of a `MultiIndex`. Accessing a level that has a duplicate name by name still raises an error ([GH19029](https://github.com/pandas-dev/pandas/issues/19029)).  \n",
    "- Bug in both `DataFrame.first_valid_index()` and `Series.first_valid_index()` raised for a row index having duplicate values ([GH21441](https://github.com/pandas-dev/pandas/issues/21441))  \n",
    "- Fixed printing of DataFrames with hierarchical columns with long names ([GH21180](https://github.com/pandas-dev/pandas/issues/21180))  \n",
    "- Fixed regression in `reindex()` and `groupby()`\n",
    "  with a MultiIndex or multiple keys that contains categorical datetime-like values ([GH21390](https://github.com/pandas-dev/pandas/issues/21390)).  \n",
    "- Fixed regression in unary negative operations with object dtype ([GH21380](https://github.com/pandas-dev/pandas/issues/21380))  \n",
    "- Bug in `Timestamp.ceil()` and `Timestamp.floor()` when timestamp is a multiple of the rounding frequency ([GH21262](https://github.com/pandas-dev/pandas/issues/21262))  \n",
    "- Fixed regression in `to_clipboard()` that defaulted to copying dataframes with space delimited instead of tab delimited ([GH21104](https://github.com/pandas-dev/pandas/issues/21104))  "
   ]
  },
  {
   "cell_type": "markdown",
   "metadata": {},
   "source": [
    "## Build changes\n",
    "\n",
    "- The source and binary distributions no longer include test data files, resulting in smaller download sizes. Tests relying on these data files will be skipped when using `pandas.test()`. ([GH19320](https://github.com/pandas-dev/pandas/issues/19320))  \n",
    "\n",
    "\n",
    "\n",
    "<a id='whatsnew-0232-bug-fixes'></a>"
   ]
  },
  {
   "cell_type": "markdown",
   "metadata": {},
   "source": [
    "## Bug fixes\n",
    "\n",
    "**Conversion**\n",
    "\n",
    "- Bug in constructing `Index` with an iterator or generator ([GH21470](https://github.com/pandas-dev/pandas/issues/21470))  \n",
    "- Bug in `Series.nlargest()` for signed and unsigned integer dtypes when the minimum value is present ([GH21426](https://github.com/pandas-dev/pandas/issues/21426))  \n",
    "\n",
    "\n",
    "**Indexing**\n",
    "\n",
    "- Bug in `Index.get_indexer_non_unique()` with categorical key ([GH21448](https://github.com/pandas-dev/pandas/issues/21448))  \n",
    "- Bug in comparison operations for `MultiIndex` where error was raised on equality / inequality comparison involving a MultiIndex with `nlevels == 1` ([GH21149](https://github.com/pandas-dev/pandas/issues/21149))  \n",
    "- Bug in `DataFrame.drop()` behaviour is not consistent for unique and non-unique indexes ([GH21494](https://github.com/pandas-dev/pandas/issues/21494))  \n",
    "- Bug in `DataFrame.duplicated()` with a large number of columns causing a ‘maximum recursion depth exceeded’ ([GH21524](https://github.com/pandas-dev/pandas/issues/21524)).  \n",
    "\n",
    "\n",
    "**I/O**\n",
    "\n",
    "- Bug in `read_csv()` that caused it to incorrectly raise an error when `nrows=0`, `low_memory=True`, and `index_col` was not `None` ([GH21141](https://github.com/pandas-dev/pandas/issues/21141))  \n",
    "- Bug in `json_normalize()` when formatting the `record_prefix` with integer columns ([GH21536](https://github.com/pandas-dev/pandas/issues/21536))  \n",
    "\n",
    "\n",
    "**Categorical**\n",
    "\n",
    "- Bug in rendering `Series` with `Categorical` dtype in rare conditions under Python 2.7 ([GH21002](https://github.com/pandas-dev/pandas/issues/21002))  \n",
    "\n",
    "\n",
    "**Timezones**\n",
    "\n",
    "- Bug in `Timestamp` and `DatetimeIndex` where passing a `Timestamp` localized after a DST transition would return a datetime before the DST transition ([GH20854](https://github.com/pandas-dev/pandas/issues/20854))  \n",
    "- Bug in comparing `DataFrame` with tz-aware `DatetimeIndex` columns with a DST transition that raised a `KeyError` ([GH19970](https://github.com/pandas-dev/pandas/issues/19970))  \n",
    "- Bug in `DatetimeIndex.shift()` where an `AssertionError` would raise when shifting across DST ([GH8616](https://github.com/pandas-dev/pandas/issues/8616))  \n",
    "- Bug in `Timestamp` constructor where passing an invalid timezone offset designator (`Z`) would not raise a `ValueError` ([GH8910](https://github.com/pandas-dev/pandas/issues/8910))  \n",
    "- Bug in `Timestamp.replace()` where replacing at a DST boundary would retain an incorrect offset ([GH7825](https://github.com/pandas-dev/pandas/issues/7825))  \n",
    "- Bug in `DatetimeIndex.reindex()` when reindexing a tz-naive and tz-aware `DatetimeIndex` ([GH8306](https://github.com/pandas-dev/pandas/issues/8306))  \n",
    "- Bug in `DatetimeIndex.resample()` when downsampling across a DST boundary ([GH8531](https://github.com/pandas-dev/pandas/issues/8531))  \n",
    "\n",
    "\n",
    "**Timedelta**\n",
    "\n",
    "- Bug in `Timedelta` where non-zero timedeltas shorter than 1 microsecond were considered False ([GH21484](https://github.com/pandas-dev/pandas/issues/21484))  \n",
    "\n",
    "\n",
    "\n",
    "<a id='whatsnew-0-23-2-contributors'></a>"
   ]
  },
  {
   "cell_type": "markdown",
   "metadata": {},
   "source": [
    "## Contributors\n",
    "\n",
    "A total of 17 people contributed patches to this release.  People with a\n",
    "“+” by their names contributed a patch for the first time.\n",
    "\n",
    "\n",
    "- David Krych  \n",
    "- Jacopo Rota +  \n",
    "- Jeff Reback  \n",
    "- Jeremy Schendel  \n",
    "- Joris Van den Bossche  \n",
    "- Kalyan Gokhale  \n",
    "- Matthew Roeschke  \n",
    "- Michael Odintsov +  \n",
    "- Ming Li  \n",
    "- Pietro Battiston  \n",
    "- Tom Augspurger  \n",
    "- Uddeshya Singh  \n",
    "- Vu Le +  \n",
    "- alimcmaster1 +  \n",
    "- david-liu-brattle-1 +  \n",
    "- gfyoung  \n",
    "- jbrockmendel  "
   ]
  }
 ],
 "metadata": {
  "filename": "v0.23.2.rst",
  "kernelspec": {
   "display_name": "Python",
   "language": "python3",
   "name": "python3"
  },
  "title": "What’s new in 0.23.2 (July 5, 2018)"
 },
 "nbformat": 4,
 "nbformat_minor": 2
}