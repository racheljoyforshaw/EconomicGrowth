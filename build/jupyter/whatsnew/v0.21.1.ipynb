{
 "cells": [
  {
   "cell_type": "markdown",
   "metadata": {},
   "source": [
    "\n",
    "<a id='whatsnew-0211'></a>"
   ]
  },
  {
   "cell_type": "markdown",
   "metadata": {},
   "source": [
    "# v0.21.1 (December 12, 2017)\n",
    "\n",
    "{{ header }}\n",
    "\n",
    "This is a minor bug-fix release in the 0.21.x series and includes some small regression fixes,\n",
    "bug fixes and performance improvements.\n",
    "We recommend that all users upgrade to this version.\n",
    "\n",
    "Highlights include:\n",
    "\n",
    "- Temporarily restore matplotlib datetime plotting functionality. This should\n",
    "  resolve issues for users who implicitly relied on pandas to plot datetimes\n",
    "  with matplotlib. See [here](#whatsnew-0211-converters).  \n",
    "- Improvements to the Parquet IO functions introduced in 0.21.0. See\n",
    "  [here](#whatsnew-0211-enhancements-parquet).  "
   ]
  },
  {
   "cell_type": "markdown",
   "metadata": {},
   "source": [
    "## What’s new in v0.21.1\n",
    "\n",
    "- [Restore Matplotlib datetime converter registration](#Restore-Matplotlib-datetime-converter-registration)  \n",
    "- [New features](#New-features)  \n",
    "  - [Improvements to the Parquet IO functionality](#Improvements-to-the-Parquet-IO-functionality)  \n",
    "  - [Other enhancements](#Other-enhancements)  \n",
    "- [Deprecations](#Deprecations)  \n",
    "- [Performance improvements](#Performance-improvements)  \n",
    "- [Bug fixes](#Bug-fixes)  \n",
    "  - [Conversion](#Conversion)  \n",
    "  - [Indexing](#Indexing)  \n",
    "  - [I/O](#I/O)  \n",
    "  - [Plotting](#Plotting)  \n",
    "  - [Groupby/resample/rolling](#Groupby/resample/rolling)  \n",
    "  - [Reshaping](#Reshaping)  \n",
    "  - [Numeric](#Numeric)  \n",
    "  - [Categorical](#Categorical)  \n",
    "  - [String](#String)  \n",
    "- [Contributors](#Contributors)  "
   ]
  },
  {
   "cell_type": "markdown",
   "metadata": {},
   "source": [
    "\n",
    "<a id='whatsnew-0211-converters'></a>"
   ]
  },
  {
   "cell_type": "markdown",
   "metadata": {},
   "source": [
    "## Restore Matplotlib datetime converter registration\n",
    "\n",
    "Pandas implements some matplotlib converters for nicely formatting the axis\n",
    "labels on plots with `datetime` or `Period` values. Prior to pandas 0.21.0,\n",
    "these were implicitly registered with matplotlib, as a side effect of `import\n",
    "pandas`.\n",
    "\n",
    "In pandas 0.21.0, we required users to explicitly register the\n",
    "converter. This caused problems for some users who relied on those converters\n",
    "being present for regular `matplotlib.pyplot` plotting methods, so we’re\n",
    "temporarily reverting that change; pandas 0.21.1 again registers the converters on\n",
    "import, just like before 0.21.0.\n",
    "\n",
    "We’ve added a new option to control the converters:\n",
    "`pd.options.plotting.matplotlib.register_converters`. By default, they are\n",
    "registered. Toggling this to `False` removes pandas’ formatters and restore\n",
    "any converters we overwrote when registering them ([GH18301](https://github.com/pandas-dev/pandas/issues/18301)).\n",
    "\n",
    "We’re working with the matplotlib developers to make this easier. We’re trying\n",
    "to balance user convenience (automatically registering the converters) with\n",
    "import performance and best practices (importing pandas shouldn’t have the side\n",
    "effect of overwriting any custom converters you’ve already set). In the future\n",
    "we hope to have most of the datetime formatting functionality in matplotlib,\n",
    "with just the pandas-specific converters in pandas. We’ll then gracefully\n",
    "deprecate the automatic registration of converters in favor of users explicitly\n",
    "registering them when they want them.\n",
    "\n",
    "\n",
    "<a id='whatsnew-0211-enhancements'></a>"
   ]
  },
  {
   "cell_type": "markdown",
   "metadata": {},
   "source": [
    "## New features\n",
    "\n",
    "\n",
    "<a id='whatsnew-0211-enhancements-parquet'></a>"
   ]
  },
  {
   "cell_type": "markdown",
   "metadata": {},
   "source": [
    "### Improvements to the Parquet IO functionality\n",
    "\n",
    "- `DataFrame.to_parquet()` will now write non-default indexes when the\n",
    "  underlying engine supports it. The indexes will be preserved when reading\n",
    "  back in with `read_parquet()` ([GH18581](https://github.com/pandas-dev/pandas/issues/18581)).  \n",
    "- `read_parquet()` now allows to specify the columns to read from a parquet file ([GH18154](https://github.com/pandas-dev/pandas/issues/18154))  \n",
    "- `read_parquet()` now allows to specify kwargs which are passed to the respective engine ([GH18216](https://github.com/pandas-dev/pandas/issues/18216))  \n",
    "\n",
    "\n",
    "\n",
    "<a id='whatsnew-0211-enhancements-other'></a>"
   ]
  },
  {
   "cell_type": "markdown",
   "metadata": {},
   "source": [
    "### Other enhancements\n",
    "\n",
    "- `Timestamp.timestamp()` is now available in Python 2.7. ([GH17329](https://github.com/pandas-dev/pandas/issues/17329))  \n",
    "- `Grouper` and `TimeGrouper` now have a friendly repr output ([GH18203](https://github.com/pandas-dev/pandas/issues/18203)).  \n",
    "\n",
    "\n",
    "\n",
    "<a id='whatsnew-0211-deprecations'></a>"
   ]
  },
  {
   "cell_type": "markdown",
   "metadata": {},
   "source": [
    "## Deprecations\n",
    "\n",
    "- `pandas.tseries.register` has been renamed to\n",
    "  `pandas.plotting.register_matplotlib_converters()` ([GH18301](https://github.com/pandas-dev/pandas/issues/18301))  \n",
    "\n",
    "\n",
    "\n",
    "<a id='whatsnew-0211-performance'></a>"
   ]
  },
  {
   "cell_type": "markdown",
   "metadata": {},
   "source": [
    "## Performance improvements\n",
    "\n",
    "- Improved performance of plotting large series/dataframes ([GH18236](https://github.com/pandas-dev/pandas/issues/18236)).  \n",
    "\n",
    "\n",
    "\n",
    "<a id='whatsnew-0211-bug-fixes'></a>"
   ]
  },
  {
   "cell_type": "markdown",
   "metadata": {},
   "source": [
    "## Bug fixes"
   ]
  },
  {
   "cell_type": "markdown",
   "metadata": {},
   "source": [
    "### Conversion\n",
    "\n",
    "- Bug in `TimedeltaIndex` subtraction could incorrectly overflow when `NaT` is present ([GH17791](https://github.com/pandas-dev/pandas/issues/17791))  \n",
    "- Bug in `DatetimeIndex` subtracting datetimelike from DatetimeIndex could fail to overflow ([GH18020](https://github.com/pandas-dev/pandas/issues/18020))  \n",
    "- Bug in `IntervalIndex.copy()` when copying and `IntervalIndex` with non-default `closed` ([GH18339](https://github.com/pandas-dev/pandas/issues/18339))  \n",
    "- Bug in `DataFrame.to_dict()` where columns of datetime that are tz-aware were not converted to required arrays when used with `orient='records'`, raising `TypeError` ([GH18372](https://github.com/pandas-dev/pandas/issues/18372))  \n",
    "- Bug in `DateTimeIndex` and `date_range()` where mismatching tz-aware `start` and `end` timezones would not raise an err if `end.tzinfo` is None ([GH18431](https://github.com/pandas-dev/pandas/issues/18431))  \n",
    "- Bug in `Series.fillna()` which raised when passed a long integer on Python 2 ([GH18159](https://github.com/pandas-dev/pandas/issues/18159)).  "
   ]
  },
  {
   "cell_type": "markdown",
   "metadata": {},
   "source": [
    "### Indexing\n",
    "\n",
    "- Bug in a boolean comparison of a `datetime.datetime` and a `datetime64[ns]` dtype Series ([GH17965](https://github.com/pandas-dev/pandas/issues/17965))  \n",
    "- Bug where a `MultiIndex` with more than a million records was not raising `AttributeError` when trying to access a missing attribute ([GH18165](https://github.com/pandas-dev/pandas/issues/18165))  \n",
    "- Bug in `IntervalIndex` constructor when a list of intervals is passed with non-default `closed` ([GH18334](https://github.com/pandas-dev/pandas/issues/18334))  \n",
    "- Bug in `Index.putmask` when an invalid mask passed ([GH18368](https://github.com/pandas-dev/pandas/issues/18368))  \n",
    "- Bug in masked assignment of a `timedelta64[ns]` dtype `Series`, incorrectly coerced to float ([GH18493](https://github.com/pandas-dev/pandas/issues/18493))  "
   ]
  },
  {
   "cell_type": "markdown",
   "metadata": {},
   "source": [
    "### I/O\n",
    "\n",
    "- Bug in class:~pandas.io.stata.StataReader not converting date/time columns with display formatting addressed ([GH17990](https://github.com/pandas-dev/pandas/issues/17990)). Previously columns with display formatting were normally left as ordinal numbers and not converted to datetime objects.  \n",
    "- Bug in `read_csv()` when reading a compressed UTF-16 encoded file ([GH18071](https://github.com/pandas-dev/pandas/issues/18071))  \n",
    "- Bug in `read_csv()` for handling null values in index columns when specifying `na_filter=False` ([GH5239](https://github.com/pandas-dev/pandas/issues/5239))  \n",
    "- Bug in `read_csv()` when reading numeric category fields with high cardinality ([GH18186](https://github.com/pandas-dev/pandas/issues/18186))  \n",
    "- Bug in `DataFrame.to_csv()` when the table had `MultiIndex` columns, and a list of strings was passed in for `header` ([GH5539](https://github.com/pandas-dev/pandas/issues/5539))  \n",
    "- Bug in parsing integer datetime-like columns with specified format in `read_sql` ([GH17855](https://github.com/pandas-dev/pandas/issues/17855)).  \n",
    "- Bug in `DataFrame.to_msgpack()` when serializing data of the `numpy.bool_` datatype ([GH18390](https://github.com/pandas-dev/pandas/issues/18390))  \n",
    "- Bug in `read_json()` not decoding when reading line delimited JSON from S3 ([GH17200](https://github.com/pandas-dev/pandas/issues/17200))  \n",
    "- Bug in `pandas.io.json.json_normalize()` to avoid modification of `meta` ([GH18610](https://github.com/pandas-dev/pandas/issues/18610))  \n",
    "- Bug in `to_latex()` where repeated MultiIndex values were not printed even though a higher level index differed from the previous row ([GH14484](https://github.com/pandas-dev/pandas/issues/14484))  \n",
    "- Bug when reading NaN-only categorical columns in `HDFStore` ([GH18413](https://github.com/pandas-dev/pandas/issues/18413))  \n",
    "- Bug in `DataFrame.to_latex()` with `longtable=True` where a latex multicolumn always spanned over three columns ([GH17959](https://github.com/pandas-dev/pandas/issues/17959))  "
   ]
  },
  {
   "cell_type": "markdown",
   "metadata": {},
   "source": [
    "### Plotting\n",
    "\n",
    "- Bug in `DataFrame.plot()` and `Series.plot()` with `DatetimeIndex` where a figure generated by them is not pickleable in Python 3 ([GH18439](https://github.com/pandas-dev/pandas/issues/18439))  "
   ]
  },
  {
   "cell_type": "markdown",
   "metadata": {},
   "source": [
    "### Groupby/resample/rolling\n",
    "\n",
    "- Bug in `DataFrame.resample(...).apply(...)` when there is a callable that returns different columns ([GH15169](https://github.com/pandas-dev/pandas/issues/15169))  \n",
    "- Bug in `DataFrame.resample(...)` when there is a time change (DST) and resampling frequency is 12h or higher ([GH15549](https://github.com/pandas-dev/pandas/issues/15549))  \n",
    "- Bug in `pd.DataFrameGroupBy.count()` when counting over a datetimelike column ([GH13393](https://github.com/pandas-dev/pandas/issues/13393))  \n",
    "- Bug in `rolling.var` where calculation is inaccurate with a zero-valued array ([GH18430](https://github.com/pandas-dev/pandas/issues/18430))  "
   ]
  },
  {
   "cell_type": "markdown",
   "metadata": {},
   "source": [
    "### Reshaping\n",
    "\n",
    "- Error message in `pd.merge_asof()` for key datatype mismatch now includes datatype of left and right key ([GH18068](https://github.com/pandas-dev/pandas/issues/18068))  \n",
    "- Bug in `pd.concat` when empty and non-empty DataFrames or Series are concatenated ([GH18178](https://github.com/pandas-dev/pandas/issues/18178) [GH18187](https://github.com/pandas-dev/pandas/issues/18187))  \n",
    "- Bug in `DataFrame.filter(...)` when `unicode` is passed as a condition in Python 2 ([GH13101](https://github.com/pandas-dev/pandas/issues/13101))  \n",
    "- Bug when merging empty DataFrames when `np.seterr(divide='raise')` is set ([GH17776](https://github.com/pandas-dev/pandas/issues/17776))  "
   ]
  },
  {
   "cell_type": "markdown",
   "metadata": {},
   "source": [
    "### Numeric\n",
    "\n",
    "- Bug in `pd.Series.rolling.skew()` and `rolling.kurt()` with all equal values has floating issue ([GH18044](https://github.com/pandas-dev/pandas/issues/18044))  "
   ]
  },
  {
   "cell_type": "markdown",
   "metadata": {},
   "source": [
    "### Categorical\n",
    "\n",
    "- Bug in `DataFrame.astype()` where casting to ‘category’ on an empty `DataFrame` causes a segmentation fault ([GH18004](https://github.com/pandas-dev/pandas/issues/18004))  \n",
    "- Error messages in the testing module have been improved when items have different `CategoricalDtype` ([GH18069](https://github.com/pandas-dev/pandas/issues/18069))  \n",
    "- `CategoricalIndex` can now correctly take a `pd.api.types.CategoricalDtype` as its dtype ([GH18116](https://github.com/pandas-dev/pandas/issues/18116))  \n",
    "- Bug in `Categorical.unique()` returning read-only `codes`  array when all categories were `NaN` ([GH18051](https://github.com/pandas-dev/pandas/issues/18051))  \n",
    "- Bug in `DataFrame.groupby(axis=1)` with a `CategoricalIndex` ([GH18432](https://github.com/pandas-dev/pandas/issues/18432))  "
   ]
  },
  {
   "cell_type": "markdown",
   "metadata": {},
   "source": [
    "### String\n",
    "\n",
    "- `Series.str.split()` will now propagate `NaN` values across all expanded columns instead of `None` ([GH18450](https://github.com/pandas-dev/pandas/issues/18450))  \n",
    "\n",
    "\n",
    "\n",
    "<a id='whatsnew-0-21-1-contributors'></a>"
   ]
  },
  {
   "cell_type": "markdown",
   "metadata": {},
   "source": [
    "## Contributors\n",
    "\n",
    "A total of 46 people contributed patches to this release.  People with a\n",
    "“+” by their names contributed a patch for the first time.\n",
    "\n",
    "\n",
    "- Aaron Critchley +  \n",
    "- Alex Rychyk  \n",
    "- Alexander Buchkovsky +  \n",
    "- Alexander Michael Schade +  \n",
    "- Chris Mazzullo  \n",
    "- Cornelius Riemenschneider +  \n",
    "- Dave Hirschfeld +  \n",
    "- David Fischer +  \n",
    "- David Stansby +  \n",
    "- Dror Atariah +  \n",
    "- Eric Kisslinger +  \n",
    "- Hans +  \n",
    "- Ingolf Becker +  \n",
    "- Jan Werkmann +  \n",
    "- Jeff Reback  \n",
    "- Joris Van den Bossche  \n",
    "- Jörg Döpfert +  \n",
    "- Kevin Kuhl +  \n",
    "- Krzysztof Chomski +  \n",
    "- Leif Walsh  \n",
    "- Licht Takeuchi  \n",
    "- Manraj Singh +  \n",
    "- Matt Braymer-Hayes +  \n",
    "- Michael Waskom +  \n",
    "- Mie~~~ +  \n",
    "- Peter Hoffmann +  \n",
    "- Robert Meyer +  \n",
    "- Sam Cohan +  \n",
    "- Sietse Brouwer +  \n",
    "- Sven +  \n",
    "- Tim Swast  \n",
    "- Tom Augspurger  \n",
    "- Wes Turner  \n",
    "- William Ayd +  \n",
    "- Yee Mey +  \n",
    "- bolkedebruin +  \n",
    "- cgohlke  \n",
    "- derestle-htwg +  \n",
    "- fjdiod +  \n",
    "- gabrielclow +  \n",
    "- gfyoung  \n",
    "- ghasemnaddaf +  \n",
    "- jbrockmendel  \n",
    "- jschendel  \n",
    "- miker985 +  \n",
    "- topper-123  "
   ]
  }
 ],
 "metadata": {
  "filename": "v0.21.1.rst",
  "kernelspec": {
   "display_name": "Python",
   "language": "python3",
   "name": "python3"
  },
  "title": "v0.21.1 (December 12, 2017)"
 },
 "nbformat": 4,
 "nbformat_minor": 2
}