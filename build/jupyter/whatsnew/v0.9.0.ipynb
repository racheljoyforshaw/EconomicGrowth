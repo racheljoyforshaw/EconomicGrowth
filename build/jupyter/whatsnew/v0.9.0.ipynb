{
 "cells": [
  {
   "cell_type": "markdown",
   "metadata": {},
   "source": [
    "\n",
    "<a id='whatsnew-0900'></a>\n",
    "{{ header }}"
   ]
  },
  {
   "cell_type": "markdown",
   "metadata": {},
   "source": [
    "# v0.9.0 (October 7, 2012)\n",
    "\n",
    "This is a major release from 0.8.1 and includes several new features and\n",
    "enhancements along with a large number of bug fixes. New features include\n",
    "vectorized unicode encoding/decoding for Series.str, to_latex method to\n",
    "DataFrame, more flexible parsing of boolean values, and enabling the download of\n",
    "options data from Yahoo! Finance."
   ]
  },
  {
   "cell_type": "markdown",
   "metadata": {},
   "source": [
    "## New features\n",
    "\n",
    "> - Add `encode` and `decode` for unicode handling to [vectorized\n",
    "  string processing methods](user_guide/text.ipynb#text-string-methods) in Series.str  ([GH1706](https://github.com/pandas-dev/pandas/issues/1706))  \n",
    "- Add `DataFrame.to_latex` method ([GH1735](https://github.com/pandas-dev/pandas/issues/1735))  \n",
    "- Add convenient expanding window equivalents of all rolling_* ops ([GH1785](https://github.com/pandas-dev/pandas/issues/1785))  \n",
    "- Add Options class to pandas.io.data for fetching options data from Yahoo!\n",
    "  Finance ([GH1748](https://github.com/pandas-dev/pandas/issues/1748), [GH1739](https://github.com/pandas-dev/pandas/issues/1739))  \n",
    "- More flexible parsing of boolean values (Yes, No, TRUE, FALSE, etc)\n",
    "  ([GH1691](https://github.com/pandas-dev/pandas/issues/1691), [GH1295](https://github.com/pandas-dev/pandas/issues/1295))  \n",
    "- Add `level` parameter to `Series.reset_index`  \n",
    "- `TimeSeries.between_time` can now select times across midnight ([GH1871](https://github.com/pandas-dev/pandas/issues/1871))  \n",
    "- Series constructor can now handle generator as input ([GH1679](https://github.com/pandas-dev/pandas/issues/1679))  \n",
    "- `DataFrame.dropna` can now take multiple axes (tuple/list) as input\n",
    "  ([GH924](https://github.com/pandas-dev/pandas/issues/924))  \n",
    "- Enable `skip_footer` parameter in `ExcelFile.parse` ([GH1843](https://github.com/pandas-dev/pandas/issues/1843))  "
   ]
  },
  {
   "cell_type": "markdown",
   "metadata": {},
   "source": [
    "## API changes\n",
    "\n",
    "> - The default column names when `header=None` and no columns names passed to\n",
    "  functions like `read_csv` has changed to be more Pythonic and amenable to\n",
    "  attribute access:  \n",
    "\n",
    "\n",
    "\n",
    "- Creating a Series from another Series, passing an index, will cause reindexing\n",
    "  to happen inside rather than treating the Series like an ndarray. Technically\n",
    "  improper usages like `Series(df[col1], index=df[col2])` that worked before\n",
    "  “by accident” (this was never intended) will lead to all NA Series in some\n",
    "  cases. To be perfectly clear:  \n",
    "\n",
    "\n",
    "- Deprecated `day_of_year` API removed from PeriodIndex, use `dayofyear`\n",
    "  ([GH1723](https://github.com/pandas-dev/pandas/issues/1723))  \n",
    "- Don’t modify NumPy suppress printoption to True at import time  \n",
    "- The internal HDF5 data arrangement for DataFrames has been transposed.  Legacy\n",
    "  files will still be readable by HDFStore ([GH1834](https://github.com/pandas-dev/pandas/issues/1834), [GH1824](https://github.com/pandas-dev/pandas/issues/1824))  \n",
    "- Legacy cruft removed: pandas.stats.misc.quantileTS  \n",
    "- Use ISO8601 format for Period repr: monthly, daily, and on down ([GH1776](https://github.com/pandas-dev/pandas/issues/1776))  \n",
    "- Empty DataFrame columns are now created as object dtype. This will prevent a\n",
    "  class of TypeErrors that was occurring in code where the dtype of a column\n",
    "  would depend on the presence of data or not (e.g. a SQL query having results)\n",
    "  ([GH1783](https://github.com/pandas-dev/pandas/issues/1783))  \n",
    "- Setting parts of DataFrame/Panel using ix now aligns input Series/DataFrame\n",
    "  ([GH1630](https://github.com/pandas-dev/pandas/issues/1630))  \n",
    "- `first` and `last` methods in `GroupBy` no longer drop non-numeric\n",
    "  columns ([GH1809](https://github.com/pandas-dev/pandas/issues/1809))  \n",
    "- Resolved inconsistencies in specifying custom NA values in text parser.\n",
    "  `na_values` of type dict no longer override default NAs unless\n",
    "  `keep_default_na` is set to false explicitly ([GH1657](https://github.com/pandas-dev/pandas/issues/1657))  \n",
    "- `DataFrame.dot` will not do data alignment, and also work with Series\n",
    "  ([GH1915](https://github.com/pandas-dev/pandas/issues/1915))  \n",
    "\n",
    "\n",
    "See the [full release notes](index.ipynb#release) or issue tracker\n",
    "on GitHub for a complete list.\n",
    "\n",
    "\n",
    "<a id='whatsnew-0-9-0-contributors'></a>"
   ]
  },
  {
   "cell_type": "markdown",
   "metadata": {},
   "source": [
    "## Contributors\n",
    "\n",
    "A total of 24 people contributed patches to this release.  People with a\n",
    "“+” by their names contributed a patch for the first time.\n",
    "\n",
    "\n",
    "- Chang She  \n",
    "- Christopher Whelan +  \n",
    "- Dan Miller +  \n",
    "- Daniel Shapiro +  \n",
    "- Dieter Vandenbussche  \n",
    "- Doug Coleman +  \n",
    "- John-Colvin +  \n",
    "- Johnny +  \n",
    "- Joshua Leahy +  \n",
    "- Lars Buitinck +  \n",
    "- Mark O’Leary +  \n",
    "- Martin Blais  \n",
    "- MinRK +  \n",
    "- Paul Ivanov +  \n",
    "- Skipper Seabold  \n",
    "- Spencer Lyon +  \n",
    "- Taavi Burns +  \n",
    "- Wes McKinney  \n",
    "- Wouter Overmeire  \n",
    "- Yaroslav Halchenko  \n",
    "- lenolib +  \n",
    "- tshauck +  \n",
    "- y-p +  \n",
    "- Øystein S. Haaland +  "
   ]
  }
 ],
 "metadata": {
  "filename": "v0.9.0.rst",
  "kernelspec": {
   "display_name": "Python",
   "language": "python3",
   "name": "python3"
  },
  "title": "v0.9.0 (October 7, 2012)"
 },
 "nbformat": 4,
 "nbformat_minor": 2
}