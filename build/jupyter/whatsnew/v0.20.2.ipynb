{
 "cells": [
  {
   "cell_type": "markdown",
   "metadata": {},
   "source": [
    "\n",
    "<a id='whatsnew-0202'></a>"
   ]
  },
  {
   "cell_type": "markdown",
   "metadata": {},
   "source": [
    "# v0.20.2 (June 4, 2017)\n",
    "\n",
    "{{ header }}\n",
    "\n",
    "This is a minor bug-fix release in the 0.20.x series and includes some small regression fixes,\n",
    "bug fixes and performance improvements.\n",
    "We recommend that all users upgrade to this version."
   ]
  },
  {
   "cell_type": "markdown",
   "metadata": {},
   "source": [
    "## What’s new in v0.20.2\n",
    "\n",
    "- [Enhancements](#Enhancements)  \n",
    "- [Performance improvements](#Performance-improvements)  \n",
    "- [Bug fixes](#Bug-fixes)  \n",
    "  - [Conversion](#Conversion)  \n",
    "  - [Indexing](#Indexing)  \n",
    "  - [I/O](#I/O)  \n",
    "  - [Plotting](#Plotting)  \n",
    "  - [Groupby/resample/rolling](#Groupby/resample/rolling)  \n",
    "  - [Sparse](#Sparse)  \n",
    "  - [Reshaping](#Reshaping)  \n",
    "  - [Numeric](#Numeric)  \n",
    "  - [Categorical](#Categorical)  \n",
    "  - [Other](#Other)  \n",
    "- [Contributors](#Contributors)  "
   ]
  },
  {
   "cell_type": "markdown",
   "metadata": {},
   "source": [
    "\n",
    "<a id='whatsnew-0202-enhancements'></a>"
   ]
  },
  {
   "cell_type": "markdown",
   "metadata": {},
   "source": [
    "## Enhancements\n",
    "\n",
    "- Unblocked access to additional compression types supported in pytables: ‘blosc:blosclz, ‘blosc:lz4’, ‘blosc:lz4hc’, ‘blosc:snappy’, ‘blosc:zlib’, ‘blosc:zstd’ ([GH14478](https://github.com/pandas-dev/pandas/issues/14478))  \n",
    "- `Series` provides a `to_latex` method ([GH16180](https://github.com/pandas-dev/pandas/issues/16180))  \n",
    "- A new groupby method `ngroup()`,\n",
    "  parallel to the existing `cumcount()`,\n",
    "  has been added to return the group order ([GH11642](https://github.com/pandas-dev/pandas/issues/11642)); see\n",
    "  [here](user_guide/groupby.ipynb#groupby-ngroup).  \n",
    "\n",
    "\n",
    "\n",
    "<a id='whatsnew-0202-performance'></a>"
   ]
  },
  {
   "cell_type": "markdown",
   "metadata": {},
   "source": [
    "## Performance improvements\n",
    "\n",
    "- Performance regression fix when indexing with a list-like ([GH16285](https://github.com/pandas-dev/pandas/issues/16285))  \n",
    "- Performance regression fix for MultiIndexes ([GH16319](https://github.com/pandas-dev/pandas/issues/16319), [GH16346](https://github.com/pandas-dev/pandas/issues/16346))  \n",
    "- Improved performance of `.clip()` with scalar arguments ([GH15400](https://github.com/pandas-dev/pandas/issues/15400))  \n",
    "- Improved performance of groupby with categorical groupers ([GH16413](https://github.com/pandas-dev/pandas/issues/16413))  \n",
    "- Improved performance of `MultiIndex.remove_unused_levels()` ([GH16556](https://github.com/pandas-dev/pandas/issues/16556))  \n",
    "\n",
    "\n",
    "\n",
    "<a id='whatsnew-0202-bug-fixes'></a>"
   ]
  },
  {
   "cell_type": "markdown",
   "metadata": {},
   "source": [
    "## Bug fixes\n",
    "\n",
    "- Silenced a warning on some Windows environments about “tput: terminal attributes: No such device or address” when\n",
    "  detecting the terminal size. This fix only applies to python 3 ([GH16496](https://github.com/pandas-dev/pandas/issues/16496))  \n",
    "- Bug in using `pathlib.Path` or `py.path.local` objects with io functions ([GH16291](https://github.com/pandas-dev/pandas/issues/16291))  \n",
    "- Bug in `Index.symmetric_difference()` on two equal MultiIndex’s, results in a `TypeError` ([GH13490](https://github.com/pandas-dev/pandas/issues/13490))  \n",
    "- Bug in `DataFrame.update()` with `overwrite=False` and `NaN values` ([GH15593](https://github.com/pandas-dev/pandas/issues/15593))  \n",
    "- Passing an invalid engine to `read_csv()` now raises an informative\n",
    "  `ValueError` rather than `UnboundLocalError`. ([GH16511](https://github.com/pandas-dev/pandas/issues/16511))  \n",
    "- Bug in `unique()` on an array of tuples ([GH16519](https://github.com/pandas-dev/pandas/issues/16519))  \n",
    "- Bug in `cut()` when `labels` are set, resulting in incorrect label ordering ([GH16459](https://github.com/pandas-dev/pandas/issues/16459))  \n",
    "- Fixed a compatibility issue with IPython 6.0’s tab completion showing deprecation warnings on `Categoricals` ([GH16409](https://github.com/pandas-dev/pandas/issues/16409))  "
   ]
  },
  {
   "cell_type": "markdown",
   "metadata": {},
   "source": [
    "### Conversion\n",
    "\n",
    "- Bug in `to_numeric()` in which empty data inputs were causing a segfault of the interpreter ([GH16302](https://github.com/pandas-dev/pandas/issues/16302))  \n",
    "- Silence numpy warnings when broadcasting `DataFrame` to `Series` with comparison ops ([GH16378](https://github.com/pandas-dev/pandas/issues/16378), [GH16306](https://github.com/pandas-dev/pandas/issues/16306))  "
   ]
  },
  {
   "cell_type": "markdown",
   "metadata": {},
   "source": [
    "### Indexing\n",
    "\n",
    "- Bug in `DataFrame.reset_index(level=)` with single level index ([GH16263](https://github.com/pandas-dev/pandas/issues/16263))  \n",
    "- Bug in partial string indexing with a monotonic, but not strictly-monotonic, index incorrectly reversing the slice bounds ([GH16515](https://github.com/pandas-dev/pandas/issues/16515))  \n",
    "- Bug in `MultiIndex.remove_unused_levels()` that would not return a `MultiIndex` equal to the original. ([GH16556](https://github.com/pandas-dev/pandas/issues/16556))  "
   ]
  },
  {
   "cell_type": "markdown",
   "metadata": {},
   "source": [
    "### I/O\n",
    "\n",
    "- Bug in `read_csv()` when `comment` is passed in a space delimited text file ([GH16472](https://github.com/pandas-dev/pandas/issues/16472))  \n",
    "- Bug in `read_csv()` not raising an exception with nonexistent columns in `usecols` when it had the correct length ([GH14671](https://github.com/pandas-dev/pandas/issues/14671))  \n",
    "- Bug that would force importing of the clipboard routines unnecessarily, potentially causing an import error on startup ([GH16288](https://github.com/pandas-dev/pandas/issues/16288))  \n",
    "- Bug that raised `IndexError` when HTML-rendering an empty `DataFrame` ([GH15953](https://github.com/pandas-dev/pandas/issues/15953))  \n",
    "- Bug in `read_csv()` in which tarfile object inputs were raising an error in Python 2.x for the C engine ([GH16530](https://github.com/pandas-dev/pandas/issues/16530))  \n",
    "- Bug where `DataFrame.to_html()` ignored the `index_names` parameter ([GH16493](https://github.com/pandas-dev/pandas/issues/16493))  \n",
    "- Bug where `pd.read_hdf()` returns numpy strings for index names ([GH13492](https://github.com/pandas-dev/pandas/issues/13492))  \n",
    "- Bug in `HDFStore.select_as_multiple()` where start/stop arguments were not respected ([GH16209](https://github.com/pandas-dev/pandas/issues/16209))  "
   ]
  },
  {
   "cell_type": "markdown",
   "metadata": {},
   "source": [
    "### Plotting\n",
    "\n",
    "- Bug in `DataFrame.plot` with a single column and a list-like `color` ([GH3486](https://github.com/pandas-dev/pandas/issues/3486))  \n",
    "- Bug in `plot` where `NaT` in `DatetimeIndex` results in `Timestamp.min` ([GH12405](https://github.com/pandas-dev/pandas/issues/12405))  \n",
    "- Bug in `DataFrame.boxplot` where `figsize` keyword was not respected for non-grouped boxplots ([GH11959](https://github.com/pandas-dev/pandas/issues/11959))  "
   ]
  },
  {
   "cell_type": "markdown",
   "metadata": {},
   "source": [
    "### Groupby/resample/rolling\n",
    "\n",
    "- Bug in creating a time-based rolling window on an empty `DataFrame` ([GH15819](https://github.com/pandas-dev/pandas/issues/15819))  \n",
    "- Bug in `rolling.cov()` with offset window ([GH16058](https://github.com/pandas-dev/pandas/issues/16058))  \n",
    "- Bug in `.resample()` and `.groupby()` when aggregating on integers ([GH16361](https://github.com/pandas-dev/pandas/issues/16361))  "
   ]
  },
  {
   "cell_type": "markdown",
   "metadata": {},
   "source": [
    "### Sparse\n",
    "\n",
    "- Bug in construction of `SparseDataFrame` from `scipy.sparse.dok_matrix` ([GH16179](https://github.com/pandas-dev/pandas/issues/16179))  "
   ]
  },
  {
   "cell_type": "markdown",
   "metadata": {},
   "source": [
    "### Reshaping\n",
    "\n",
    "- Bug in `DataFrame.stack` with unsorted levels in `MultiIndex` columns ([GH16323](https://github.com/pandas-dev/pandas/issues/16323))  \n",
    "- Bug in `pd.wide_to_long()` where no error was raised when `i` was not a unique identifier ([GH16382](https://github.com/pandas-dev/pandas/issues/16382))  \n",
    "- Bug in `Series.isin(..)` with a list of tuples ([GH16394](https://github.com/pandas-dev/pandas/issues/16394))  \n",
    "- Bug in construction of a `DataFrame` with mixed dtypes including an all-NaT column. ([GH16395](https://github.com/pandas-dev/pandas/issues/16395))  \n",
    "- Bug in `DataFrame.agg()` and `Series.agg()` with aggregating on non-callable attributes ([GH16405](https://github.com/pandas-dev/pandas/issues/16405))  "
   ]
  },
  {
   "cell_type": "markdown",
   "metadata": {},
   "source": [
    "### Numeric\n",
    "\n",
    "- Bug in `.interpolate()`, where `limit_direction` was not respected when `limit=None` (default) was passed ([GH16282](https://github.com/pandas-dev/pandas/issues/16282))  "
   ]
  },
  {
   "cell_type": "markdown",
   "metadata": {},
   "source": [
    "### Categorical\n",
    "\n",
    "- Fixed comparison operations considering the order of the categories when both categoricals are unordered ([GH16014](https://github.com/pandas-dev/pandas/issues/16014))  "
   ]
  },
  {
   "cell_type": "markdown",
   "metadata": {},
   "source": [
    "### Other\n",
    "\n",
    "- Bug in `DataFrame.drop()` with an empty-list with non-unique indices ([GH16270](https://github.com/pandas-dev/pandas/issues/16270))  \n",
    "\n",
    "\n",
    "\n",
    "<a id='whatsnew-0-20-2-contributors'></a>"
   ]
  },
  {
   "cell_type": "markdown",
   "metadata": {},
   "source": [
    "## Contributors\n",
    "\n",
    "A total of 34 people contributed patches to this release.  People with a\n",
    "“+” by their names contributed a patch for the first time.\n",
    "\n",
    "\n",
    "- Aaron Barber +  \n",
    "- Andrew 亮 +  \n",
    "- Becky Sweger +  \n",
    "- Christian Prinoth +  \n",
    "- Christian Stade-Schuldt +  \n",
    "- DSM  \n",
    "- Erik Fredriksen +  \n",
    "- Hugues Valois +  \n",
    "- Jeff Reback  \n",
    "- Jeff Tratner  \n",
    "- JimStearns206 +  \n",
    "- John W. O’Brien  \n",
    "- Joris Van den Bossche  \n",
    "- JosephWagner +  \n",
    "- Keith Webber +  \n",
    "- Mehmet Ali “Mali” Akmanalp +  \n",
    "- Pankaj Pandey  \n",
    "- Patrick Luo +  \n",
    "- Patrick O’Melveny +  \n",
    "- Pietro Battiston  \n",
    "- RobinFiveWords +  \n",
    "- Ryan Hendrickson +  \n",
    "- SimonBaron +  \n",
    "- Tom Augspurger  \n",
    "- WBare +  \n",
    "- bpraggastis +  \n",
    "- chernrick +  \n",
    "- chris-b1  \n",
    "- economy +  \n",
    "- gfyoung  \n",
    "- jaredsnyder +  \n",
    "- keitakurita +  \n",
    "- linebp  \n",
    "- lloydkirk +  "
   ]
  }
 ],
 "metadata": {
  "filename": "v0.20.2.rst",
  "kernelspec": {
   "display_name": "Python",
   "language": "python3",
   "name": "python3"
  },
  "title": "v0.20.2 (June 4, 2017)"
 },
 "nbformat": 4,
 "nbformat_minor": 2
}