{
 "cells": [
  {
   "cell_type": "markdown",
   "metadata": {},
   "source": [
    "\n",
    "<a id='whatsnew-0131'></a>"
   ]
  },
  {
   "cell_type": "markdown",
   "metadata": {},
   "source": [
    "# v0.13.1 (February 3, 2014)\n",
    "\n",
    "{{ header }}\n",
    "\n",
    "This is a minor release from 0.13.0 and includes a small number of API changes, several new features,\n",
    "enhancements, and performance improvements along with a large number of bug fixes. We recommend that all\n",
    "users upgrade to this version.\n",
    "\n",
    "Highlights include:\n",
    "\n",
    "- Added `infer_datetime_format` keyword to `read_csv/to_datetime` to allow speedups for homogeneously formatted datetimes.  \n",
    "- Will intelligently limit display precision for datetime/timedelta formats.  \n",
    "- Enhanced Panel `apply()` method.  \n",
    "- Suggested tutorials in new [Tutorials](getting_started/tutorials.ipynb#tutorials) section.  \n",
    "- Our pandas ecosystem is growing, We now feature related projects in a new [Pandas Ecosystem](ecosystem.ipynb#ecosystem) section.  \n",
    "- Much work has been taking place on improving the docs, and a new [Contributing](development/contributing.ipynb#contributing) section has been added.  \n",
    "- Even though it may only be of interest to devs, we <3 our new CI status page: [ScatterCI](http://scatterci.github.io/pydata/pandas).  \n",
    "\n",
    "\n",
    "0.13.1 fixes a bug that was caused by a combination of having numpy < 1.8, and doing\n",
    "chained assignment on a string-like array. Please review [the docs](user_guide/indexing.ipynb#indexing-view-versus-copy),\n",
    "chained indexing can have unexpected results and should generally be avoided.\n",
    "\n",
    "This would previously segfault:\n",
    "\n",
    "The recommended way to do this type of assignment is:"
   ]
  },
  {
   "cell_type": "markdown",
   "metadata": {},
   "source": [
    "## Output formatting enhancements\n",
    "\n",
    "- df.info() view now display dtype info per column ([GH5682](https://github.com/pandas-dev/pandas/issues/5682))  \n",
    "- df.info() now honors the option `max_info_rows`, to disable null counts for large frames ([GH5974](https://github.com/pandas-dev/pandas/issues/5974))  \n",
    "- Add `show_dimensions` display option for the new DataFrame repr to control whether the dimensions print.  \n",
    "- The `ArrayFormatter` for `datetime` and `timedelta64` now intelligently\n",
    "limit precision based on the values in the array ([GH3401](https://github.com/pandas-dev/pandas/issues/3401))  \n",
    "Previously output might look like:  "
   ]
  },
  {
   "cell_type": "markdown",
   "metadata": {
    "hide-output": false
   },
   "source": [
    "```text\n",
    "  age                 today               diff\n",
    "0 2001-01-01 00:00:00 2013-04-19 00:00:00 4491 days, 00:00:00\n",
    "1 2004-06-01 00:00:00 2013-04-19 00:00:00 3244 days, 00:00:00\n",
    "```\n"
   ]
  },
  {
   "cell_type": "markdown",
   "metadata": {},
   "source": [
    "Now the output looks like:  "
   ]
  },
  {
   "cell_type": "markdown",
   "metadata": {},
   "source": [
    "## API changes\n",
    "\n",
    "- Add `-NaN` and `-nan` to the default set of NA values ([GH5952](https://github.com/pandas-dev/pandas/issues/5952)).\n",
    "  See [NA Values](user_guide/io.ipynb#io-na-values).  \n",
    "- Added `Series.str.get_dummies` vectorized string method ([GH6021](https://github.com/pandas-dev/pandas/issues/6021)), to extract\n",
    "  dummy/indicator variables for separated string columns:  \n",
    "- Added the `NDFrame.equals()` method to compare if two NDFrames are\n",
    "equal have equal axes, dtypes, and values. Added the\n",
    "`array_equivalent` function to compare if two ndarrays are\n",
    "equal. NaNs in identical locations are treated as\n",
    "equal. ([GH5283](https://github.com/pandas-dev/pandas/issues/5283)) See also [the docs](getting_started/basics.ipynb#basics-equals) for a motivating example.  "
   ]
  },
  {
   "cell_type": "code",
   "execution_count": null,
   "metadata": {
    "hide-output": false
   },
   "outputs": [],
   "source": [
    "df = pd.DataFrame({'col': ['foo', 0, np.nan]})\n",
    "df2 = pd.DataFrame({'col': [np.nan, 0, 'foo']}, index=[2, 1, 0])\n",
    "df.equals(df2)\n",
    "df.equals(df2.sort_index())"
   ]
  },
  {
   "cell_type": "markdown",
   "metadata": {},
   "source": [
    "- `DataFrame.apply` will use the `reduce` argument to determine whether a\n",
    "`Series` or a `DataFrame` should be returned when the `DataFrame` is\n",
    "empty ([GH6007](https://github.com/pandas-dev/pandas/issues/6007)).  \n",
    "Previously, calling `DataFrame.apply` an empty `DataFrame` would return\n",
    "either a `DataFrame` if there were no columns, or the function being\n",
    "applied would be called with an empty `Series` to guess whether a\n",
    "`Series` or `DataFrame` should be returned:  "
   ]
  },
  {
   "cell_type": "markdown",
   "metadata": {
    "hide-output": false
   },
   "source": [
    "```ipython\n",
    "In [32]: def applied_func(col):\n",
    "  ....:    print(\"Apply function being called with: \", col)\n",
    "  ....:    return col.sum()\n",
    "  ....:\n",
    "\n",
    "In [33]: empty = DataFrame(columns=['a', 'b'])\n",
    "\n",
    "In [34]: empty.apply(applied_func)\n",
    "Apply function being called with:  Series([], Length: 0, dtype: float64)\n",
    "Out[34]:\n",
    "a   NaN\n",
    "b   NaN\n",
    "Length: 2, dtype: float64\n",
    "```\n"
   ]
  },
  {
   "cell_type": "markdown",
   "metadata": {},
   "source": [
    "Now, when `apply` is called on an empty `DataFrame`: if the `reduce`\n",
    "argument is `True` a `Series` will returned, if it is `False` a\n",
    "`DataFrame` will be returned, and if it is `None` (the default) the\n",
    "function being applied will be called with an empty series to try and guess\n",
    "the return type.  "
   ]
  },
  {
   "cell_type": "markdown",
   "metadata": {
    "hide-output": false
   },
   "source": [
    "```ipython\n",
    "In [35]: empty.apply(applied_func, reduce=True)\n",
    "Out[35]:\n",
    "a   NaN\n",
    "b   NaN\n",
    "Length: 2, dtype: float64\n",
    "\n",
    "In [36]: empty.apply(applied_func, reduce=False)\n",
    "Out[36]:\n",
    "Empty DataFrame\n",
    "Columns: [a, b]\n",
    "Index: []\n",
    "\n",
    "[0 rows x 2 columns]\n",
    "```\n"
   ]
  },
  {
   "cell_type": "markdown",
   "metadata": {},
   "source": [
    "\n",
    "\n",
    "## Prior version deprecations/changes\n",
    "\n",
    "There are no announced changes in 0.13 or prior that are taking effect as of 0.13.1"
   ]
  },
  {
   "cell_type": "markdown",
   "metadata": {},
   "source": [
    "## Deprecations\n",
    "\n",
    "There are no deprecations of prior behavior in 0.13.1"
   ]
  },
  {
   "cell_type": "markdown",
   "metadata": {},
   "source": [
    "## Enhancements\n",
    "\n",
    "- `pd.read_csv` and `pd.to_datetime` learned a new `infer_datetime_format` keyword which greatly\n",
    "improves parsing perf in many cases. Thanks to @lexual for suggesting and @danbirken\n",
    "for rapidly implementing. ([GH5490](https://github.com/pandas-dev/pandas/issues/5490), [GH6021](https://github.com/pandas-dev/pandas/issues/6021))  \n",
    "If `parse_dates` is enabled and this flag is set, pandas will attempt to\n",
    "infer the format of the datetime strings in the columns, and if it can\n",
    "be inferred, switch to a faster method of parsing them.  In some cases\n",
    "this can increase the parsing speed by ~5-10x.  "
   ]
  },
  {
   "cell_type": "code",
   "execution_count": null,
   "metadata": {
    "hide-output": false
   },
   "outputs": [],
   "source": [
    "# Try to infer the format for the index column\n",
    "df = pd.read_csv('foo.csv', index_col=0, parse_dates=True,\n",
    "                 infer_datetime_format=True)"
   ]
  },
  {
   "cell_type": "markdown",
   "metadata": {},
   "source": [
    "- `date_format` and `datetime_format` keywords can now be specified when writing to `excel`\n",
    "  files ([GH4133](https://github.com/pandas-dev/pandas/issues/4133))  \n",
    "- `MultiIndex.from_product` convenience function for creating a MultiIndex from\n",
    "  the cartesian product of a set of iterables ([GH6055](https://github.com/pandas-dev/pandas/issues/6055)):  \n",
    "- Panel `apply()` will work on non-ufuncs. See [the docs](getting_started/basics.ipynb#basics-apply).  "
   ]
  },
  {
   "cell_type": "markdown",
   "metadata": {
    "hide-output": false
   },
   "source": [
    "```ipython\n",
    "In [28]: import pandas.util.testing as tm\n",
    "\n",
    "In [29]: panel = tm.makePanel(5)\n",
    "\n",
    "In [30]: panel\n",
    "Out[30]:\n",
    "<class 'pandas.core.panel.Panel'>\n",
    "Dimensions: 3 (items) x 5 (major_axis) x 4 (minor_axis)\n",
    "Items axis: ItemA to ItemC\n",
    "Major_axis axis: 2000-01-03 00:00:00 to 2000-01-07 00:00:00\n",
    "Minor_axis axis: A to D\n",
    "\n",
    "In [31]: panel['ItemA']\n",
    "Out[31]:\n",
    "                   A         B         C         D\n",
    "2000-01-03 -0.673690  0.577046 -1.344312 -1.469388\n",
    "2000-01-04  0.113648 -1.715002  0.844885  0.357021\n",
    "2000-01-05 -1.478427 -1.039268  1.075770 -0.674600\n",
    "2000-01-06  0.524988 -0.370647 -0.109050 -1.776904\n",
    "2000-01-07  0.404705 -1.157892  1.643563 -0.968914\n",
    "\n",
    "[5 rows x 4 columns]\n",
    "```\n"
   ]
  },
  {
   "cell_type": "markdown",
   "metadata": {},
   "source": [
    "Specifying an `apply` that operates on a Series (to return a single element)  "
   ]
  },
  {
   "cell_type": "markdown",
   "metadata": {
    "hide-output": false
   },
   "source": [
    "```ipython\n",
    "In [32]: panel.apply(lambda x: x.dtype, axis='items')\n",
    "Out[32]:\n",
    "                  A        B        C        D\n",
    "2000-01-03  float64  float64  float64  float64\n",
    "2000-01-04  float64  float64  float64  float64\n",
    "2000-01-05  float64  float64  float64  float64\n",
    "2000-01-06  float64  float64  float64  float64\n",
    "2000-01-07  float64  float64  float64  float64\n",
    "\n",
    "[5 rows x 4 columns]\n",
    "```\n"
   ]
  },
  {
   "cell_type": "markdown",
   "metadata": {},
   "source": [
    "A similar reduction type operation  "
   ]
  },
  {
   "cell_type": "markdown",
   "metadata": {
    "hide-output": false
   },
   "source": [
    "```ipython\n",
    "In [33]: panel.apply(lambda x: x.sum(), axis='major_axis')\n",
    "Out[33]:\n",
    "      ItemA     ItemB     ItemC\n",
    "A -1.108775 -1.090118 -2.984435\n",
    "B -3.705764  0.409204  1.866240\n",
    "C  2.110856  2.960500 -0.974967\n",
    "D -4.532785  0.303202 -3.685193\n",
    "\n",
    "[4 rows x 3 columns]\n",
    "```\n"
   ]
  },
  {
   "cell_type": "markdown",
   "metadata": {},
   "source": [
    "This is equivalent to  "
   ]
  },
  {
   "cell_type": "markdown",
   "metadata": {
    "hide-output": false
   },
   "source": [
    "```ipython\n",
    "In [34]: panel.sum('major_axis')\n",
    "Out[34]:\n",
    "      ItemA     ItemB     ItemC\n",
    "A -1.108775 -1.090118 -2.984435\n",
    "B -3.705764  0.409204  1.866240\n",
    "C  2.110856  2.960500 -0.974967\n",
    "D -4.532785  0.303202 -3.685193\n",
    "\n",
    "[4 rows x 3 columns]\n",
    "```\n"
   ]
  },
  {
   "cell_type": "markdown",
   "metadata": {},
   "source": [
    "A transformation operation that returns a Panel, but is computing\n",
    "the z-score across the major_axis  "
   ]
  },
  {
   "cell_type": "markdown",
   "metadata": {
    "hide-output": false
   },
   "source": [
    "```ipython\n",
    "In [35]: result = panel.apply(lambda x: (x - x.mean()) / x.std(),\n",
    "  ....:                      axis='major_axis')\n",
    "  ....:\n",
    "\n",
    "In [36]: result\n",
    "Out[36]:\n",
    "<class 'pandas.core.panel.Panel'>\n",
    "Dimensions: 3 (items) x 5 (major_axis) x 4 (minor_axis)\n",
    "Items axis: ItemA to ItemC\n",
    "Major_axis axis: 2000-01-03 00:00:00 to 2000-01-07 00:00:00\n",
    "Minor_axis axis: A to D\n",
    "\n",
    "In [37]: result['ItemA']                           # noqa E999\n",
    "Out[37]:\n",
    "                  A         B         C         D\n",
    "2000-01-03 -0.535778  1.500802 -1.506416 -0.681456\n",
    "2000-01-04  0.397628 -1.108752  0.360481  1.529895\n",
    "2000-01-05 -1.489811 -0.339412  0.557374  0.280845\n",
    "2000-01-06  0.885279  0.421830 -0.453013 -1.053785\n",
    "2000-01-07  0.742682 -0.474468  1.041575 -0.075499\n",
    "\n",
    "[5 rows x 4 columns]\n",
    "```\n"
   ]
  },
  {
   "cell_type": "markdown",
   "metadata": {},
   "source": [
    "- Panel `apply()` operating on cross-sectional slabs. ([GH1148](https://github.com/pandas-dev/pandas/issues/1148))  "
   ]
  },
  {
   "cell_type": "markdown",
   "metadata": {
    "hide-output": false
   },
   "source": [
    "```ipython\n",
    "In [38]: def f(x):\n",
    "   ....:     return ((x.T - x.mean(1)) / x.std(1)).T\n",
    "   ....:\n",
    "\n",
    "In [39]: result = panel.apply(f, axis=['items', 'major_axis'])\n",
    "\n",
    "In [40]: result\n",
    "Out[40]:\n",
    "<class 'pandas.core.panel.Panel'>\n",
    "Dimensions: 4 (items) x 5 (major_axis) x 3 (minor_axis)\n",
    "Items axis: A to D\n",
    "Major_axis axis: 2000-01-03 00:00:00 to 2000-01-07 00:00:00\n",
    "Minor_axis axis: ItemA to ItemC\n",
    "\n",
    "In [41]: result.loc[:, :, 'ItemA']\n",
    "Out[41]:\n",
    "                   A         B         C         D\n",
    "2000-01-03  0.012922 -0.030874 -0.629546 -0.757034\n",
    "2000-01-04  0.392053 -1.071665  0.163228  0.548188\n",
    "2000-01-05 -1.093650 -0.640898  0.385734 -1.154310\n",
    "2000-01-06  1.005446 -1.154593 -0.595615 -0.809185\n",
    "2000-01-07  0.783051 -0.198053  0.919339 -1.052721\n",
    "\n",
    "[5 rows x 4 columns]\n",
    "```\n"
   ]
  },
  {
   "cell_type": "markdown",
   "metadata": {},
   "source": [
    "This is equivalent to the following  "
   ]
  },
  {
   "cell_type": "markdown",
   "metadata": {
    "hide-output": false
   },
   "source": [
    "```ipython\n",
    "In [42]: result = pd.Panel({ax: f(panel.loc[:, :, ax]) for ax in panel.minor_axis})\n",
    "\n",
    "In [43]: result\n",
    "Out[43]:\n",
    "<class 'pandas.core.panel.Panel'>\n",
    "Dimensions: 4 (items) x 5 (major_axis) x 3 (minor_axis)\n",
    "Items axis: A to D\n",
    "Major_axis axis: 2000-01-03 00:00:00 to 2000-01-07 00:00:00\n",
    "Minor_axis axis: ItemA to ItemC\n",
    "\n",
    "In [44]: result.loc[:, :, 'ItemA']\n",
    "Out[44]:\n",
    "                   A         B         C         D\n",
    "2000-01-03  0.012922 -0.030874 -0.629546 -0.757034\n",
    "2000-01-04  0.392053 -1.071665  0.163228  0.548188\n",
    "2000-01-05 -1.093650 -0.640898  0.385734 -1.154310\n",
    "2000-01-06  1.005446 -1.154593 -0.595615 -0.809185\n",
    "2000-01-07  0.783051 -0.198053  0.919339 -1.052721\n",
    "\n",
    "[5 rows x 4 columns]\n",
    "```\n"
   ]
  },
  {
   "cell_type": "markdown",
   "metadata": {},
   "source": [
    "\n",
    "\n",
    "## Performance\n",
    "\n",
    "Performance improvements for 0.13.1\n",
    "\n",
    "- Series datetime/timedelta binary operations ([GH5801](https://github.com/pandas-dev/pandas/issues/5801))  \n",
    "- DataFrame `count/dropna` for `axis=1`  \n",
    "- Series.str.contains now has a regex=False keyword which can be faster for plain (non-regex) string patterns. ([GH5879](https://github.com/pandas-dev/pandas/issues/5879))  \n",
    "- Series.str.extract ([GH5944](https://github.com/pandas-dev/pandas/issues/5944))  \n",
    "- `dtypes/ftypes` methods ([GH5968](https://github.com/pandas-dev/pandas/issues/5968))  \n",
    "- indexing with object dtypes ([GH5968](https://github.com/pandas-dev/pandas/issues/5968))  \n",
    "- `DataFrame.apply` ([GH6013](https://github.com/pandas-dev/pandas/issues/6013))  \n",
    "- Regression in JSON IO ([GH5765](https://github.com/pandas-dev/pandas/issues/5765))  \n",
    "- Index construction from Series ([GH6150](https://github.com/pandas-dev/pandas/issues/6150))  "
   ]
  },
  {
   "cell_type": "markdown",
   "metadata": {},
   "source": [
    "## Experimental\n",
    "\n",
    "There are no experimental changes in 0.13.1\n",
    "\n",
    "\n",
    "<a id='release-bug-fixes-0-13-1'></a>"
   ]
  },
  {
   "cell_type": "markdown",
   "metadata": {},
   "source": [
    "## Bug fixes\n",
    "\n",
    "- Bug in `io.wb.get_countries` not including all countries ([GH6008](https://github.com/pandas-dev/pandas/issues/6008))  \n",
    "- Bug in Series replace with timestamp dict ([GH5797](https://github.com/pandas-dev/pandas/issues/5797))  \n",
    "- read_csv/read_table now respects the prefix kwarg ([GH5732](https://github.com/pandas-dev/pandas/issues/5732)).  \n",
    "- Bug in selection with missing values via `.ix` from a duplicate indexed DataFrame failing ([GH5835](https://github.com/pandas-dev/pandas/issues/5835))  \n",
    "- Fix issue of boolean comparison on empty DataFrames ([GH5808](https://github.com/pandas-dev/pandas/issues/5808))  \n",
    "- Bug in isnull handling `NaT` in an object array ([GH5443](https://github.com/pandas-dev/pandas/issues/5443))  \n",
    "- Bug in `to_datetime` when passed a `np.nan` or integer datelike and a format string ([GH5863](https://github.com/pandas-dev/pandas/issues/5863))  \n",
    "- Bug in groupby dtype conversion with datetimelike ([GH5869](https://github.com/pandas-dev/pandas/issues/5869))  \n",
    "- Regression in handling of empty Series as indexers to Series  ([GH5877](https://github.com/pandas-dev/pandas/issues/5877))  \n",
    "- Bug in internal caching, related to ([GH5727](https://github.com/pandas-dev/pandas/issues/5727))  \n",
    "- Testing bug in reading JSON/msgpack from a non-filepath on windows under py3 ([GH5874](https://github.com/pandas-dev/pandas/issues/5874))  \n",
    "- Bug when assigning to .ix[tuple(…)] ([GH5896](https://github.com/pandas-dev/pandas/issues/5896))  \n",
    "- Bug in fully reindexing a Panel ([GH5905](https://github.com/pandas-dev/pandas/issues/5905))  \n",
    "- Bug in idxmin/max with object dtypes ([GH5914](https://github.com/pandas-dev/pandas/issues/5914))  \n",
    "- Bug in `BusinessDay` when adding n days to a date not on offset when n>5 and n%5==0 ([GH5890](https://github.com/pandas-dev/pandas/issues/5890))  \n",
    "- Bug in assigning to chained series with a series via ix ([GH5928](https://github.com/pandas-dev/pandas/issues/5928))  \n",
    "- Bug in creating an empty DataFrame, copying, then assigning ([GH5932](https://github.com/pandas-dev/pandas/issues/5932))  \n",
    "- Bug in DataFrame.tail with empty frame ([GH5846](https://github.com/pandas-dev/pandas/issues/5846))  \n",
    "- Bug in propagating metadata on `resample` ([GH5862](https://github.com/pandas-dev/pandas/issues/5862))  \n",
    "- Fixed string-representation of `NaT` to be “NaT” ([GH5708](https://github.com/pandas-dev/pandas/issues/5708))  \n",
    "- Fixed string-representation for Timestamp to show nanoseconds if present ([GH5912](https://github.com/pandas-dev/pandas/issues/5912))  \n",
    "- `pd.match` not returning passed sentinel  \n",
    "- `Panel.to_frame()` no longer fails when `major_axis` is a\n",
    "  `MultiIndex` ([GH5402](https://github.com/pandas-dev/pandas/issues/5402)).  \n",
    "- Bug in `pd.read_msgpack` with inferring a `DateTimeIndex` frequency\n",
    "  incorrectly ([GH5947](https://github.com/pandas-dev/pandas/issues/5947))  \n",
    "- Fixed `to_datetime` for array with both Tz-aware datetimes and `NaT`’s  ([GH5961](https://github.com/pandas-dev/pandas/issues/5961))  \n",
    "- Bug in rolling skew/kurtosis when passed a Series with bad data ([GH5749](https://github.com/pandas-dev/pandas/issues/5749))  \n",
    "- Bug in scipy `interpolate` methods with a datetime index ([GH5975](https://github.com/pandas-dev/pandas/issues/5975))  \n",
    "- Bug in NaT comparison if a mixed datetime/np.datetime64 with NaT were passed ([GH5968](https://github.com/pandas-dev/pandas/issues/5968))  \n",
    "- Fixed bug with `pd.concat` losing dtype information if all inputs are empty ([GH5742](https://github.com/pandas-dev/pandas/issues/5742))  \n",
    "- Recent changes in IPython cause warnings to be emitted when using previous versions\n",
    "  of pandas in QTConsole, now fixed. If you’re using an older version and\n",
    "  need to suppress the warnings, see ([GH5922](https://github.com/pandas-dev/pandas/issues/5922)).  \n",
    "- Bug in merging `timedelta` dtypes ([GH5695](https://github.com/pandas-dev/pandas/issues/5695))  \n",
    "- Bug in plotting.scatter_matrix function. Wrong alignment among diagonal\n",
    "  and off-diagonal plots, see ([GH5497](https://github.com/pandas-dev/pandas/issues/5497)).  \n",
    "- Regression in Series with a MultiIndex via ix ([GH6018](https://github.com/pandas-dev/pandas/issues/6018))  \n",
    "- Bug in Series.xs with a MultiIndex ([GH6018](https://github.com/pandas-dev/pandas/issues/6018))  \n",
    "- Bug in Series construction of mixed type with datelike and an integer (which should result in\n",
    "  object type and not automatic conversion) ([GH6028](https://github.com/pandas-dev/pandas/issues/6028))  \n",
    "- Possible segfault when chained indexing with an object array under NumPy 1.7.1 ([GH6026](https://github.com/pandas-dev/pandas/issues/6026), [GH6056](https://github.com/pandas-dev/pandas/issues/6056))  \n",
    "- Bug in setting using fancy indexing a single element with a non-scalar (e.g. a list),\n",
    "  ([GH6043](https://github.com/pandas-dev/pandas/issues/6043))  \n",
    "- `to_sql` did not respect `if_exists` ([GH4110](https://github.com/pandas-dev/pandas/issues/4110) [GH4304](https://github.com/pandas-dev/pandas/issues/4304))  \n",
    "- Regression in `.get(None)` indexing from 0.12 ([GH5652](https://github.com/pandas-dev/pandas/issues/5652))  \n",
    "- Subtle `iloc` indexing bug, surfaced in ([GH6059](https://github.com/pandas-dev/pandas/issues/6059))  \n",
    "- Bug with insert of strings into DatetimeIndex ([GH5818](https://github.com/pandas-dev/pandas/issues/5818))  \n",
    "- Fixed unicode bug in to_html/HTML repr ([GH6098](https://github.com/pandas-dev/pandas/issues/6098))  \n",
    "- Fixed missing arg validation in get_options_data ([GH6105](https://github.com/pandas-dev/pandas/issues/6105))  \n",
    "- Bug in assignment with duplicate columns in a frame where the locations\n",
    "  are a slice (e.g. next to each other) ([GH6120](https://github.com/pandas-dev/pandas/issues/6120))  \n",
    "- Bug in propagating _ref_locs during construction of a DataFrame with dups\n",
    "  index/columns ([GH6121](https://github.com/pandas-dev/pandas/issues/6121))  \n",
    "- Bug in `DataFrame.apply` when using mixed datelike reductions ([GH6125](https://github.com/pandas-dev/pandas/issues/6125))  \n",
    "- Bug in `DataFrame.append` when appending a row with different columns ([GH6129](https://github.com/pandas-dev/pandas/issues/6129))  \n",
    "- Bug in DataFrame construction with recarray and non-ns datetime dtype ([GH6140](https://github.com/pandas-dev/pandas/issues/6140))  \n",
    "- Bug in `.loc` setitem indexing with a dataframe on rhs, multiple item setting, and\n",
    "  a datetimelike ([GH6152](https://github.com/pandas-dev/pandas/issues/6152))  \n",
    "- Fixed a bug in `query`/`eval` during lexicographic string comparisons ([GH6155](https://github.com/pandas-dev/pandas/issues/6155)).  \n",
    "- Fixed a bug in `query` where the index of a single-element `Series` was\n",
    "  being thrown away ([GH6148](https://github.com/pandas-dev/pandas/issues/6148)).  \n",
    "- Bug in `HDFStore` on appending a dataframe with MultiIndexed columns to\n",
    "  an existing table ([GH6167](https://github.com/pandas-dev/pandas/issues/6167))  \n",
    "- Consistency with dtypes in setting an empty DataFrame ([GH6171](https://github.com/pandas-dev/pandas/issues/6171))  \n",
    "- Bug in selecting on a MultiIndex `HDFStore` even in the presence of under\n",
    "  specified column spec ([GH6169](https://github.com/pandas-dev/pandas/issues/6169))  \n",
    "- Bug in `nanops.var` with `ddof=1` and 1 elements would sometimes return `inf`\n",
    "  rather than `nan` on some platforms ([GH6136](https://github.com/pandas-dev/pandas/issues/6136))  \n",
    "- Bug in Series and DataFrame bar plots ignoring the `use_index` keyword ([GH6209](https://github.com/pandas-dev/pandas/issues/6209))  \n",
    "- Bug in groupby with mixed str/int under python3 fixed; `argsort` was failing ([GH6212](https://github.com/pandas-dev/pandas/issues/6212))  \n",
    "\n",
    "\n",
    "\n",
    "<a id='whatsnew-0-13-1-contributors'></a>"
   ]
  },
  {
   "cell_type": "markdown",
   "metadata": {},
   "source": [
    "## Contributors\n",
    "\n",
    "A total of 52 people contributed patches to this release.  People with a\n",
    "“+” by their names contributed a patch for the first time.\n",
    "\n",
    "\n",
    "- Alex Rothberg  \n",
    "- Alok Singhal +  \n",
    "- Andrew Burrows +  \n",
    "- Andy Hayden  \n",
    "- Bjorn Arneson +  \n",
    "- Brad Buran  \n",
    "- Caleb Epstein  \n",
    "- Chapman Siu  \n",
    "- Chase Albert +  \n",
    "- Clark Fitzgerald +  \n",
    "- DSM  \n",
    "- Dan Birken  \n",
    "- Daniel Waeber +  \n",
    "- David Wolever +  \n",
    "- Doran Deluz +  \n",
    "- Douglas McNeil +  \n",
    "- Douglas Rudd +  \n",
    "- Dražen Lučanin  \n",
    "- Elliot S +  \n",
    "- Felix Lawrence +  \n",
    "- George Kuan +  \n",
    "- Guillaume Gay +  \n",
    "- Jacob Schaer  \n",
    "- Jan Wagner +  \n",
    "- Jeff Tratner  \n",
    "- John McNamara  \n",
    "- Joris Van den Bossche  \n",
    "- Julia Evans +  \n",
    "- Kieran O’Mahony  \n",
    "- Michael Schatzow +  \n",
    "- Naveen Michaud-Agrawal +  \n",
    "- Patrick O’Keeffe +  \n",
    "- Phillip Cloud  \n",
    "- Roman Pekar  \n",
    "- Skipper Seabold  \n",
    "- Spencer Lyon  \n",
    "- Tom Augspurger +  \n",
    "- TomAugspurger  \n",
    "- acorbe +  \n",
    "- akittredge +  \n",
    "- bmu +  \n",
    "- bwignall +  \n",
    "- chapman siu  \n",
    "- danielballan  \n",
    "- david +  \n",
    "- davidshinn  \n",
    "- immerrr +  \n",
    "- jreback  \n",
    "- lexual  \n",
    "- mwaskom +  \n",
    "- unutbu  \n",
    "- y-p  "
   ]
  }
 ],
 "metadata": {
  "filename": "v0.13.1.rst",
  "kernelspec": {
   "display_name": "Python",
   "language": "python3",
   "name": "python3"
  },
  "title": "v0.13.1 (February 3, 2014)"
 },
 "nbformat": 4,
 "nbformat_minor": 2
}