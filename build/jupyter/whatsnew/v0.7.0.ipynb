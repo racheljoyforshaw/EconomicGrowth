{
 "cells": [
  {
   "cell_type": "markdown",
   "metadata": {},
   "source": [
    "\n",
    "<a id='whatsnew-0700'></a>"
   ]
  },
  {
   "cell_type": "markdown",
   "metadata": {},
   "source": [
    "# v.0.7.0 (February 9, 2012)\n",
    "\n",
    "{{ header }}"
   ]
  },
  {
   "cell_type": "markdown",
   "metadata": {},
   "source": [
    "## New features\n",
    "\n",
    "- New unified [merge function](user_guide/merging.ipynb#merging-join) for efficiently performing\n",
    "  full gamut of database / relational-algebra operations. Refactored existing\n",
    "  join methods to use the new infrastructure, resulting in substantial\n",
    "  performance gains ([GH220](https://github.com/pandas-dev/pandas/issues/220), [GH249](https://github.com/pandas-dev/pandas/issues/249), [GH267](https://github.com/pandas-dev/pandas/issues/267))  \n",
    "- New [unified concatenation function](user_guide/merging.ipynb#merging-concat) for concatenating\n",
    "  Series, DataFrame or Panel objects along an axis. Can form union or\n",
    "  intersection of the other axes. Improves performance of `Series.append` and\n",
    "  `DataFrame.append` ([GH468](https://github.com/pandas-dev/pandas/issues/468), [GH479](https://github.com/pandas-dev/pandas/issues/479), [GH273](https://github.com/pandas-dev/pandas/issues/273))  \n",
    "- [Can](user_guide/merging.ipynb#merging-concatenation) pass multiple DataFrames to\n",
    "  DataFrame.append to concatenate (stack) and multiple Series to\n",
    "  `Series.append` too  \n",
    "- [Can](getting_started/dsintro.ipynb#basics-dataframe-from-list-of-dicts) pass list of dicts (e.g., a\n",
    "  list of JSON objects) to DataFrame constructor ([GH526](https://github.com/pandas-dev/pandas/issues/526))  \n",
    "- You can now [set multiple columns](user_guide/indexing.ipynb#indexing-columns-multiple) in a\n",
    "  DataFrame via `__getitem__`, useful for transformation ([GH342](https://github.com/pandas-dev/pandas/issues/342))  \n",
    "- Handle differently-indexed output values in `DataFrame.apply` ([GH498](https://github.com/pandas-dev/pandas/issues/498))  \n",
    "\n",
    "\n",
    "- [Add](user_guide/advanced.ipynb#advanced-reorderlevels) `reorder_levels` method to Series and\n",
    "  DataFrame ([GH534](https://github.com/pandas-dev/pandas/issues/534))  \n",
    "- [Add](user_guide/indexing.ipynb#indexing-dictionarylike) dict-like `get` function to DataFrame\n",
    "  and Panel ([GH521](https://github.com/pandas-dev/pandas/issues/521))  \n",
    "- [Add](getting_started/basics.ipynb#basics-iterrows) `DataFrame.iterrows` method for efficiently\n",
    "  iterating through the rows of a DataFrame  \n",
    "- Add `DataFrame.to_panel` with code adapted from\n",
    "  `LongPanel.to_long`  \n",
    "- [Add](getting_started/basics.ipynb#basics-reindexing) `reindex_axis` method added to DataFrame  \n",
    "- [Add](getting_started/basics.ipynb#basics-stats) `level` option to binary arithmetic functions on\n",
    "  `DataFrame` and `Series`  \n",
    "- [Add](user_guide/advanced.ipynb#advanced-advanced-reindex) `level` option to the `reindex`\n",
    "  and `align` methods on Series and DataFrame for broadcasting values across\n",
    "  a level ([GH542](https://github.com/pandas-dev/pandas/issues/542), [GH552](https://github.com/pandas-dev/pandas/issues/552), others)  \n",
    "- Add attribute-based item access to\n",
    "  `Panel` and add IPython completion ([GH563](https://github.com/pandas-dev/pandas/issues/563))  \n",
    "- [Add](user_guide/visualization.ipynb#visualization-basic) `logy` option to `Series.plot` for\n",
    "  log-scaling on the Y axis  \n",
    "- [Add](user_guide/io.ipynb#io-formatting) `index` and `header` options to\n",
    "  `DataFrame.to_string`  \n",
    "- [Can](user_guide/merging.ipynb#merging-multiple-join) pass multiple DataFrames to\n",
    "  `DataFrame.join` to join on index ([GH115](https://github.com/pandas-dev/pandas/issues/115))  \n",
    "- [Can](user_guide/merging.ipynb#merging-multiple-join) pass multiple Panels to `Panel.join`\n",
    "  ([GH115](https://github.com/pandas-dev/pandas/issues/115))  \n",
    "- [Added](user_guide/io.ipynb#io-formatting) `justify` argument to `DataFrame.to_string`\n",
    "  to allow different alignment of column headers  \n",
    "- [Add](user_guide/groupby.ipynb#groupby-attributes) `sort` option to GroupBy to allow disabling\n",
    "  sorting of the group keys for potential speedups ([GH595](https://github.com/pandas-dev/pandas/issues/595))  \n",
    "- [Can](getting_started/dsintro.ipynb#basics-dataframe-from-series) pass MaskedArray to Series\n",
    "  constructor ([GH563](https://github.com/pandas-dev/pandas/issues/563))  \n",
    "- Add Panel item access via attributes\n",
    "  and IPython completion ([GH554](https://github.com/pandas-dev/pandas/issues/554))  \n",
    "- Implement `DataFrame.lookup`, fancy-indexing analogue for retrieving values\n",
    "  given a sequence of row and column labels ([GH338](https://github.com/pandas-dev/pandas/issues/338))  \n",
    "- Can pass a [list of functions](user_guide/groupby.ipynb#groupby-aggregate-multifunc) to\n",
    "  aggregate with groupby on a DataFrame, yielding an aggregated result with\n",
    "  hierarchical columns ([GH166](https://github.com/pandas-dev/pandas/issues/166))  \n",
    "- Can call `cummin` and `cummax` on Series and DataFrame to get cumulative\n",
    "  minimum and maximum, respectively ([GH647](https://github.com/pandas-dev/pandas/issues/647))  \n",
    "- `value_range` added as utility function to get min and max of a dataframe\n",
    "  ([GH288](https://github.com/pandas-dev/pandas/issues/288))  \n",
    "- Added `encoding` argument to `read_csv`, `read_table`, `to_csv` and\n",
    "  `from_csv` for non-ascii text ([GH717](https://github.com/pandas-dev/pandas/issues/717))  \n",
    "- [Added](getting_started/basics.ipynb#basics-stats) `abs` method to pandas objects  \n",
    "- [Added](user_guide/reshaping.ipynb#reshaping-pivot) `crosstab` function for easily computing frequency tables  \n",
    "- [Added](user_guide/indexing.ipynb#indexing-set-ops) `isin` method to index objects  \n",
    "- [Added](user_guide/advanced.ipynb#advanced-xs) `level` argument to `xs` method of DataFrame.  "
   ]
  },
  {
   "cell_type": "markdown",
   "metadata": {},
   "source": [
    "## API changes to integer indexing\n",
    "\n",
    "One of the potentially riskiest API changes in 0.7.0, but also one of the most\n",
    "important, was a complete review of how **integer indexes** are handled with\n",
    "regard to label-based indexing. Here is an example:\n",
    "\n",
    "This is all exactly identical to the behavior before. However, if you ask for a\n",
    "key **not** contained in the Series, in versions 0.6.1 and prior, Series would\n",
    "*fall back* on a location-based lookup. This now raises a `KeyError`:"
   ]
  },
  {
   "cell_type": "markdown",
   "metadata": {
    "hide-output": false
   },
   "source": [
    "```ipython\n",
    "In [2]: s[1]\n",
    "KeyError: 1\n",
    "```\n"
   ]
  },
  {
   "cell_type": "markdown",
   "metadata": {},
   "source": [
    "This change also has the same impact on DataFrame:"
   ]
  },
  {
   "cell_type": "markdown",
   "metadata": {
    "hide-output": false
   },
   "source": [
    "```ipython\n",
    "In [3]: df = pd.DataFrame(np.random.randn(8, 4), index=range(0, 16, 2))\n",
    "\n",
    "In [4]: df\n",
    "    0        1       2       3\n",
    "0   0.88427  0.3363 -0.1787  0.03162\n",
    "2   0.14451 -0.1415  0.2504  0.58374\n",
    "4  -1.44779 -0.9186 -1.4996  0.27163\n",
    "6  -0.26598 -2.4184 -0.2658  0.11503\n",
    "8  -0.58776  0.3144 -0.8566  0.61941\n",
    "10  0.10940 -0.7175 -1.0108  0.47990\n",
    "12 -1.16919 -0.3087 -0.6049 -0.43544\n",
    "14 -0.07337  0.3410  0.0424 -0.16037\n",
    "\n",
    "In [5]: df.ix[3]\n",
    "KeyError: 3\n",
    "```\n"
   ]
  },
  {
   "cell_type": "markdown",
   "metadata": {},
   "source": [
    "In order to support purely integer-based indexing, the following methods have\n",
    "been added:\n",
    "\n",
    "``````````````````````|Method|Description|\n",
    "|:--------------------------------------:|:----------------------------------------------------------:|\n",
    "|Series.iget_value(i)|Retrieve value stored at location i|\n",
    "|Series.iget(i)|Alias for iget_value|\n",
    "|DataFrame.irow(i)|Retrieve the i-th row|\n",
    "|DataFrame.icol(j)|Retrieve the j-th column|\n",
    "|DataFrame.iget_value(i, j)|Retrieve the value at row i and column j|"
   ]
  },
  {
   "cell_type": "markdown",
   "metadata": {},
   "source": [
    "## API tweaks regarding label-based slicing\n",
    "\n",
    "Label-based slicing using `ix` now requires that the index be sorted\n",
    "(monotonic) **unless** both the start and endpoint are contained in the index:"
   ]
  },
  {
   "cell_type": "code",
   "execution_count": null,
   "metadata": {
    "hide-output": false
   },
   "outputs": [],
   "source": [
    "In [1]: s = pd.Series(np.random.randn(6), index=list('gmkaec'))\n",
    "\n",
    "In [2]: s\n",
    "Out[2]:\n",
    "g   -1.182230\n",
    "m   -0.276183\n",
    "k   -0.243550\n",
    "a    1.628992\n",
    "e    0.073308\n",
    "c   -0.539890\n",
    "dtype: float64"
   ]
  },
  {
   "cell_type": "markdown",
   "metadata": {},
   "source": [
    "Then this is OK:"
   ]
  },
  {
   "cell_type": "code",
   "execution_count": null,
   "metadata": {
    "hide-output": false
   },
   "outputs": [],
   "source": [
    "In [3]: s.ix['k':'e']\n",
    "Out[3]:\n",
    "k   -0.243550\n",
    "a    1.628992\n",
    "e    0.073308\n",
    "dtype: float64"
   ]
  },
  {
   "cell_type": "markdown",
   "metadata": {},
   "source": [
    "But this is not:"
   ]
  },
  {
   "cell_type": "markdown",
   "metadata": {
    "hide-output": false
   },
   "source": [
    "```ipython\n",
    "In [12]: s.ix['b':'h']\n",
    "KeyError 'b'\n",
    "```\n"
   ]
  },
  {
   "cell_type": "markdown",
   "metadata": {},
   "source": [
    "If the index had been sorted, the “range selection” would have been possible:"
   ]
  },
  {
   "cell_type": "code",
   "execution_count": null,
   "metadata": {
    "hide-output": false
   },
   "outputs": [],
   "source": [
    "In [4]: s2 = s.sort_index()\n",
    "\n",
    "In [5]: s2\n",
    "Out[5]:\n",
    "a    1.628992\n",
    "c   -0.539890\n",
    "e    0.073308\n",
    "g   -1.182230\n",
    "k   -0.243550\n",
    "m   -0.276183\n",
    "dtype: float64\n",
    "\n",
    "In [6]: s2.ix['b':'h']\n",
    "Out[6]:\n",
    "c   -0.539890\n",
    "e    0.073308\n",
    "g   -1.182230\n",
    "dtype: float64"
   ]
  },
  {
   "cell_type": "markdown",
   "metadata": {},
   "source": [
    "## Changes to Series `[]` operator\n",
    "\n",
    "As as notational convenience, you can pass a sequence of labels or a label\n",
    "slice to a Series when getting and setting values via `[]` (i.e. the\n",
    "`__getitem__` and `__setitem__` methods). The behavior will be the same as\n",
    "passing similar input to `ix` **except in the case of integer indexing**:\n",
    "\n",
    "In the case of integer indexes, the behavior will be exactly as before\n",
    "(shadowing `ndarray`):\n",
    "\n",
    "If you wish to do indexing with sequences and slicing on an integer index with\n",
    "label semantics, use `ix`."
   ]
  },
  {
   "cell_type": "markdown",
   "metadata": {},
   "source": [
    "## Other API changes\n",
    "\n",
    "- The deprecated `LongPanel` class has been completely removed  \n",
    "- If `Series.sort` is called on a column of a DataFrame, an exception will\n",
    "  now be raised. Before it was possible to accidentally mutate a DataFrame’s\n",
    "  column by doing `df[col].sort()` instead of the side-effect free method\n",
    "  `df[col].order()` ([GH316](https://github.com/pandas-dev/pandas/issues/316))  \n",
    "- Miscellaneous renames and deprecations which will (harmlessly) raise\n",
    "  `FutureWarning`  \n",
    "- `drop` added as an optional parameter to `DataFrame.reset_index` ([GH699](https://github.com/pandas-dev/pandas/issues/699))  "
   ]
  },
  {
   "cell_type": "markdown",
   "metadata": {},
   "source": [
    "## Performance improvements\n",
    "\n",
    "- [Cythonized GroupBy aggregations](user_guide/groupby.ipynb#groupby-aggregate-cython) no longer\n",
    "  presort the data, thus achieving a significant speedup ([GH93](https://github.com/pandas-dev/pandas/issues/93)).  GroupBy\n",
    "  aggregations with Python functions significantly sped up by clever\n",
    "  manipulation of the ndarray data type in Cython ([GH496](https://github.com/pandas-dev/pandas/issues/496)).  \n",
    "- Better error message in DataFrame constructor when passed column labels\n",
    "  don’t match data ([GH497](https://github.com/pandas-dev/pandas/issues/497))  \n",
    "- Substantially improve performance of multi-GroupBy aggregation when a\n",
    "  Python function is passed, reuse ndarray object in Cython ([GH496](https://github.com/pandas-dev/pandas/issues/496))  \n",
    "- Can store objects indexed by tuples and floats in HDFStore ([GH492](https://github.com/pandas-dev/pandas/issues/492))  \n",
    "- Don’t print length by default in Series.to_string, add length option ([GH489](https://github.com/pandas-dev/pandas/issues/489))  \n",
    "- Improve Cython code for multi-groupby to aggregate without having to sort\n",
    "  the data ([GH93](https://github.com/pandas-dev/pandas/issues/93))  \n",
    "- Improve MultiIndex reindexing speed by storing tuples in the MultiIndex,\n",
    "  test for backwards unpickling compatibility  \n",
    "- Improve column reindexing performance by using specialized Cython take\n",
    "  function  \n",
    "- Further performance tweaking of Series.__getitem__ for standard use cases  \n",
    "- Avoid Index dict creation in some cases (i.e. when getting slices, etc.),\n",
    "  regression from prior versions  \n",
    "- Friendlier error message in setup.py if NumPy not installed  \n",
    "- Use common set of NA-handling operations (sum, mean, etc.) in Panel class\n",
    "  also ([GH536](https://github.com/pandas-dev/pandas/issues/536))  \n",
    "- Default name assignment when calling `reset_index` on DataFrame with a\n",
    "  regular (non-hierarchical) index ([GH476](https://github.com/pandas-dev/pandas/issues/476))  \n",
    "- Use Cythonized groupers when possible in Series/DataFrame stat ops with\n",
    "  `level` parameter passed ([GH545](https://github.com/pandas-dev/pandas/issues/545))  \n",
    "- Ported skiplist data structure to C to speed up `rolling_median` by about\n",
    "  5-10x in most typical use cases ([GH374](https://github.com/pandas-dev/pandas/issues/374))  \n",
    "\n",
    "\n",
    "\n",
    "<a id='whatsnew-0-7-0-contributors'></a>"
   ]
  },
  {
   "cell_type": "markdown",
   "metadata": {},
   "source": [
    "## Contributors\n",
    "\n",
    "A total of 18 people contributed patches to this release.  People with a\n",
    "“+” by their names contributed a patch for the first time.\n",
    "\n",
    "\n",
    "- Adam Klein  \n",
    "- Bayle Shanks +  \n",
    "- Chris Billington +  \n",
    "- Dieter Vandenbussche  \n",
    "- Fabrizio Pollastri +  \n",
    "- Graham Taylor +  \n",
    "- Gregg Lind +  \n",
    "- Josh Klein +  \n",
    "- Luca Beltrame  \n",
    "- Olivier Grisel +  \n",
    "- Skipper Seabold  \n",
    "- Thomas Kluyver  \n",
    "- Thomas Wiecki +  \n",
    "- Wes McKinney  \n",
    "- Wouter Overmeire  \n",
    "- Yaroslav Halchenko  \n",
    "- fabriziop +  \n",
    "- theandygross +  "
   ]
  }
 ],
 "metadata": {
  "filename": "v0.7.0.rst",
  "kernelspec": {
   "display_name": "Python",
   "language": "python3",
   "name": "python3"
  },
  "title": "v.0.7.0 (February 9, 2012)"
 },
 "nbformat": 4,
 "nbformat_minor": 2
}