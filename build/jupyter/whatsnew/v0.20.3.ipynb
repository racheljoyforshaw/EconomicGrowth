{
 "cells": [
  {
   "cell_type": "markdown",
   "metadata": {},
   "source": [
    "\n",
    "<a id='whatsnew-0203'></a>"
   ]
  },
  {
   "cell_type": "markdown",
   "metadata": {},
   "source": [
    "# v0.20.3 (July 7, 2017)\n",
    "\n",
    "{{ header }}\n",
    "\n",
    "This is a minor bug-fix release in the 0.20.x series and includes some small regression fixes\n",
    "and bug fixes. We recommend that all users upgrade to this version."
   ]
  },
  {
   "cell_type": "markdown",
   "metadata": {},
   "source": [
    "## What’s new in v0.20.3\n",
    "\n",
    "- [Bug fixes](#Bug-fixes)  \n",
    "  - [Conversion](#Conversion)  \n",
    "  - [Indexing](#Indexing)  \n",
    "  - [I/O](#I/O)  \n",
    "  - [Plotting](#Plotting)  \n",
    "  - [Reshaping](#Reshaping)  \n",
    "  - [Categorical](#Categorical)  \n",
    "- [Contributors](#Contributors)  "
   ]
  },
  {
   "cell_type": "markdown",
   "metadata": {},
   "source": [
    "\n",
    "<a id='whatsnew-0203-bug-fixes'></a>"
   ]
  },
  {
   "cell_type": "markdown",
   "metadata": {},
   "source": [
    "## Bug fixes\n",
    "\n",
    "- Fixed a bug in failing to compute rolling computations of a column-MultiIndexed `DataFrame` ([GH16789](https://github.com/pandas-dev/pandas/issues/16789), [GH16825](https://github.com/pandas-dev/pandas/issues/16825))  \n",
    "- Fixed a pytest marker failing downstream packages’ tests suites ([GH16680](https://github.com/pandas-dev/pandas/issues/16680))  "
   ]
  },
  {
   "cell_type": "markdown",
   "metadata": {},
   "source": [
    "### Conversion\n",
    "\n",
    "- Bug in pickle compat prior to the v0.20.x series, when `UTC` is a timezone in a Series/DataFrame/Index ([GH16608](https://github.com/pandas-dev/pandas/issues/16608))  \n",
    "- Bug in `Series` construction when passing a `Series` with `dtype='category'` ([GH16524](https://github.com/pandas-dev/pandas/issues/16524)).  \n",
    "- Bug in `DataFrame.astype()` when passing a `Series` as the `dtype` kwarg. ([GH16717](https://github.com/pandas-dev/pandas/issues/16717)).  "
   ]
  },
  {
   "cell_type": "markdown",
   "metadata": {},
   "source": [
    "### Indexing\n",
    "\n",
    "- Bug in `Float64Index` causing an empty array instead of `None` to be returned from `.get(np.nan)` on a Series whose index did not contain any `NaN` s ([GH8569](https://github.com/pandas-dev/pandas/issues/8569))  \n",
    "- Bug in `MultiIndex.isin` causing an error when passing an empty iterable ([GH16777](https://github.com/pandas-dev/pandas/issues/16777))  \n",
    "- Fixed a bug in a slicing DataFrame/Series that have a  `TimedeltaIndex` ([GH16637](https://github.com/pandas-dev/pandas/issues/16637))  "
   ]
  },
  {
   "cell_type": "markdown",
   "metadata": {},
   "source": [
    "### I/O\n",
    "\n",
    "- Bug in `read_csv()` in which files weren’t opened as binary files by the C engine on Windows, causing EOF characters mid-field, which would fail ([GH16039](https://github.com/pandas-dev/pandas/issues/16039), [GH16559](https://github.com/pandas-dev/pandas/issues/16559), [GH16675](https://github.com/pandas-dev/pandas/issues/16675))  \n",
    "- Bug in `read_hdf()` in which reading a `Series` saved to an HDF file in ‘fixed’ format fails when an explicit `mode='r'` argument is supplied ([GH16583](https://github.com/pandas-dev/pandas/issues/16583))  \n",
    "- Bug in `DataFrame.to_latex()` where `bold_rows` was wrongly specified to be `True` by default, whereas in reality row labels remained non-bold whatever parameter provided. ([GH16707](https://github.com/pandas-dev/pandas/issues/16707))  \n",
    "- Fixed an issue with `DataFrame.style()` where generated element ids were not unique ([GH16780](https://github.com/pandas-dev/pandas/issues/16780))  \n",
    "- Fixed loading a `DataFrame` with a `PeriodIndex`, from a `format='fixed'` HDFStore, in Python 3, that was written in Python 2 ([GH16781](https://github.com/pandas-dev/pandas/issues/16781))  "
   ]
  },
  {
   "cell_type": "markdown",
   "metadata": {},
   "source": [
    "### Plotting\n",
    "\n",
    "- Fixed regression that prevented RGB and RGBA tuples from being used as color arguments ([GH16233](https://github.com/pandas-dev/pandas/issues/16233))  \n",
    "- Fixed an issue with `DataFrame.plot.scatter()` that incorrectly raised a `KeyError` when categorical data is used for plotting ([GH16199](https://github.com/pandas-dev/pandas/issues/16199))  "
   ]
  },
  {
   "cell_type": "markdown",
   "metadata": {},
   "source": [
    "### Reshaping\n",
    "\n",
    "- `PeriodIndex` / `TimedeltaIndex.join` was missing the `sort=` kwarg ([GH16541](https://github.com/pandas-dev/pandas/issues/16541))  \n",
    "- Bug in joining on a `MultiIndex` with a `category` dtype for a level ([GH16627](https://github.com/pandas-dev/pandas/issues/16627)).  \n",
    "- Bug in `merge()` when merging/joining with multiple categorical columns ([GH16767](https://github.com/pandas-dev/pandas/issues/16767))  "
   ]
  },
  {
   "cell_type": "markdown",
   "metadata": {},
   "source": [
    "### Categorical\n",
    "\n",
    "- Bug in `DataFrame.sort_values` not respecting the `kind` parameter with categorical data ([GH16793](https://github.com/pandas-dev/pandas/issues/16793))  \n",
    "\n",
    "\n",
    "\n",
    "<a id='whatsnew-0-20-3-contributors'></a>"
   ]
  },
  {
   "cell_type": "markdown",
   "metadata": {},
   "source": [
    "## Contributors\n",
    "\n",
    "A total of 20 people contributed patches to this release.  People with a\n",
    "“+” by their names contributed a patch for the first time.\n",
    "\n",
    "\n",
    "- Bran Yang  \n",
    "- Chris  \n",
    "- Chris Kerr +  \n",
    "- DSM  \n",
    "- David Gwynne  \n",
    "- Douglas Rudd  \n",
    "- Forbidden Donut +  \n",
    "- Jeff Reback  \n",
    "- Joris Van den Bossche  \n",
    "- Karel De Brabandere +  \n",
    "- Peter Quackenbush +  \n",
    "- Pradyumna Reddy Chinthala +  \n",
    "- Telt +  \n",
    "- Tom Augspurger  \n",
    "- chris-b1  \n",
    "- gfyoung  \n",
    "- ian +  \n",
    "- jdeschenes +  \n",
    "- kjford +  \n",
    "- ri938 +  "
   ]
  }
 ],
 "metadata": {
  "filename": "v0.20.3.rst",
  "kernelspec": {
   "display_name": "Python",
   "language": "python3",
   "name": "python3"
  },
  "title": "v0.20.3 (July 7, 2017)"
 },
 "nbformat": 4,
 "nbformat_minor": 2
}