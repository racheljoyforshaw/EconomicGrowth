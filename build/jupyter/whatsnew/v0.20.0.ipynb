{
 "cells": [
  {
   "cell_type": "markdown",
   "metadata": {},
   "source": [
    "\n",
    "<a id='whatsnew-0200'></a>"
   ]
  },
  {
   "cell_type": "markdown",
   "metadata": {},
   "source": [
    "# v0.20.1 (May 5, 2017)\n",
    "\n",
    "{{ header }}\n",
    "\n",
    "This is a major release from 0.19.2 and includes a number of API changes, deprecations, new features,\n",
    "enhancements, and performance improvements along with a large number of bug fixes. We recommend that all\n",
    "users upgrade to this version.\n",
    "\n",
    "Highlights include:\n",
    "\n",
    "- New `.agg()` API for Series/DataFrame similar to the groupby-rolling-resample API’s, see [here](#whatsnew-0200-enhancements-agg)  \n",
    "- Integration with the `feather-format`, including a new top-level `pd.read_feather()` and `DataFrame.to_feather()` method, see [here](user_guide/io.ipynb#io-feather).  \n",
    "- The `.ix` indexer has been deprecated, see [here](#whatsnew-0200-api-breaking-deprecate-ix)  \n",
    "- `Panel` has been deprecated, see [here](#whatsnew-0200-api-breaking-deprecate-panel)  \n",
    "- Addition of an `IntervalIndex` and `Interval` scalar type, see [here](#whatsnew-0200-enhancements-intervalindex)  \n",
    "- Improved user API when grouping by index levels in `.groupby()`, see [here](#whatsnew-0200-enhancements-groupby-access)  \n",
    "- Improved support for `UInt64` dtypes, see [here](#whatsnew-0200-enhancements-uint64-support)  \n",
    "- A new orient for JSON serialization, `orient='table'`, that uses the Table Schema spec and that gives the possibility for a more interactive repr in the Jupyter Notebook, see [here](#whatsnew-0200-enhancements-table-schema)  \n",
    "- Experimental support for exporting styled DataFrames (`DataFrame.style`) to Excel, see [here](#whatsnew-0200-enhancements-style-excel)  \n",
    "- Window binary corr/cov operations now return a MultiIndexed `DataFrame` rather than a `Panel`, as `Panel` is now deprecated, see [here](#whatsnew-0200-api-breaking-rolling-pairwise)  \n",
    "- Support for S3 handling now uses `s3fs`, see [here](#whatsnew-0200-api-breaking-s3)  \n",
    "- Google BigQuery support now uses the `pandas-gbq` library, see [here](#whatsnew-0200-api-breaking-gbq)  \n",
    "\n",
    "\n",
    "Pandas has changed the internal structure and layout of the code base.\n",
    "This can affect imports that are not from the top-level `pandas.*` namespace, please see the changes [here](#whatsnew-0200-privacy).\n",
    "\n",
    "Check the [API Changes](#whatsnew-0200-api-breaking) and [deprecations](#whatsnew-0200-deprecations) before updating.\n",
    "\n",
    ">**Note**\n",
    ">\n",
    ">This is a combined release for 0.20.0 and and 0.20.1.\n",
    "Version 0.20.1 contains one additional change for backwards-compatibility with downstream projects using pandas’ `utils` routines. ([GH16250](https://github.com/pandas-dev/pandas/issues/16250))"
   ]
  },
  {
   "cell_type": "markdown",
   "metadata": {},
   "source": [
    "## What’s new in v0.20.0\n",
    "\n",
    "- [New features](#New-features)  \n",
    "  - [`agg` API for DataFrame/Series](#`agg`-API-for-DataFrame/Series)  \n",
    "  - [`dtype` keyword for data IO](#`dtype`-keyword-for-data-IO)  \n",
    "  - [`.to_datetime()` has gained an `origin` parameter](#`.to_datetime()`-has-gained-an-`origin`-parameter)  \n",
    "  - [Groupby enhancements](#Groupby-enhancements)  \n",
    "  - [Better support for compressed URLs in `read_csv`](#Better-support-for-compressed-URLs-in-`read_csv`)  \n",
    "  - [Pickle file I/O now supports compression](#Pickle-file-I/O-now-supports-compression)  \n",
    "  - [UInt64 support improved](#UInt64-support-improved)  \n",
    "  - [GroupBy on categoricals](#GroupBy-on-categoricals)  \n",
    "  - [Table schema output](#Table-schema-output)  \n",
    "  - [SciPy sparse matrix from/to SparseDataFrame](#SciPy-sparse-matrix-from/to-SparseDataFrame)  \n",
    "  - [Excel output for styled DataFrames](#Excel-output-for-styled-DataFrames)  \n",
    "  - [IntervalIndex](#IntervalIndex)  \n",
    "  - [Other enhancements](#Other-enhancements)  \n",
    "- [Backwards incompatible API changes](#Backwards-incompatible-API-changes)  \n",
    "  - [Possible incompatibility for HDF5 formats created with pandas < 0.13.0](#Possible-incompatibility-for-HDF5-formats-created-with-pandas-<-0.13.0)  \n",
    "  - [Map on Index types now return other Index types](#Map-on-Index-types-now-return-other-Index-types)  \n",
    "  - [Accessing datetime fields of Index now return Index](#Accessing-datetime-fields-of-Index-now-return-Index)  \n",
    "  - [pd.unique will now be consistent with extension types](#pd.unique-will-now-be-consistent-with-extension-types)  \n",
    "  - [S3 file handling](#S3-file-handling)  \n",
    "  - [Partial string indexing changes](#Partial-string-indexing-changes)  \n",
    "  - [Concat of different float dtypes will not automatically upcast](#Concat-of-different-float-dtypes-will-not-automatically-upcast)  \n",
    "  - [Pandas Google BigQuery support has moved](#Pandas-Google-BigQuery-support-has-moved)  \n",
    "  - [Memory usage for Index is more accurate](#Memory-usage-for-Index-is-more-accurate)  \n",
    "  - [DataFrame.sort_index changes](#DataFrame.sort_index-changes)  \n",
    "  - [Groupby describe formatting](#Groupby-describe-formatting)  \n",
    "  - [Window binary corr/cov operations return a MultiIndex DataFrame](#Window-binary-corr/cov-operations-return-a-MultiIndex-DataFrame)  \n",
    "  - [HDFStore where string comparison](#HDFStore-where-string-comparison)  \n",
    "  - [Index.intersection and inner join now preserve the order of the left Index](#Index.intersection-and-inner-join-now-preserve-the-order-of-the-left-Index)  \n",
    "  - [Pivot table always returns a DataFrame](#Pivot-table-always-returns-a-DataFrame)  \n",
    "  - [Other API changes](#Other-API-changes)  \n",
    "- [Reorganization of the library: privacy changes](#Reorganization-of-the-library:-privacy-changes)  \n",
    "  - [Modules privacy has changed](#Modules-privacy-has-changed)  \n",
    "  - [`pandas.errors`](#`pandas.errors`)  \n",
    "  - [`pandas.testing`](#`pandas.testing`)  \n",
    "  - [`pandas.plotting`](#`pandas.plotting`)  \n",
    "  - [Other Development Changes](#Other-Development-Changes)  \n",
    "- [Deprecations](#Deprecations)  \n",
    "  - [Deprecate `.ix`](#Deprecate-`.ix`)  \n",
    "  - [Deprecate Panel](#Deprecate-Panel)  \n",
    "  - [Deprecate groupby.agg() with a dictionary when renaming](#Deprecate-groupby.agg()-with-a-dictionary-when-renaming)  \n",
    "  - [Deprecate .plotting](#Deprecate-.plotting)  \n",
    "  - [Other deprecations](#Other-deprecations)  \n",
    "- [Removal of prior version deprecations/changes](#Removal-of-prior-version-deprecations/changes)  \n",
    "- [Performance improvements](#Performance-improvements)  \n",
    "- [Bug fixes](#Bug-fixes)  \n",
    "  - [Conversion](#Conversion)  \n",
    "  - [Indexing](#Indexing)  \n",
    "  - [I/O](#I/O)  \n",
    "  - [Plotting](#Plotting)  \n",
    "  - [Groupby/resample/rolling](#Groupby/resample/rolling)  \n",
    "  - [Sparse](#Sparse)  \n",
    "  - [Reshaping](#Reshaping)  \n",
    "  - [Numeric](#Numeric)  \n",
    "  - [Other](#Other)  \n",
    "- [Contributors](#Contributors)  "
   ]
  },
  {
   "cell_type": "markdown",
   "metadata": {},
   "source": [
    "\n",
    "<a id='whatsnew-0200-enhancements'></a>"
   ]
  },
  {
   "cell_type": "markdown",
   "metadata": {},
   "source": [
    "## New features\n",
    "\n",
    "\n",
    "<a id='whatsnew-0200-enhancements-agg'></a>"
   ]
  },
  {
   "cell_type": "markdown",
   "metadata": {},
   "source": [
    "### `agg` API for DataFrame/Series\n",
    "\n",
    "Series & DataFrame have been enhanced to support the aggregation API. This is a familiar API\n",
    "from groupby, window operations, and resampling. This allows aggregation operations in a concise way\n",
    "by using `agg()` and `transform()`. The full documentation\n",
    "is [here](getting_started/basics.ipynb#basics-aggregate) ([GH1623](https://github.com/pandas-dev/pandas/issues/1623)).\n",
    "\n",
    "Here is a sample\n",
    "\n",
    "One can operate using string function names, callables, lists, or dictionaries of these.\n",
    "\n",
    "Using a single function is equivalent to `.apply`.\n",
    "\n",
    "Multiple aggregations with a list of functions.\n",
    "\n",
    "Using a dict provides the ability to apply specific aggregations per column.\n",
    "You will get a matrix-like output of all of the aggregators. The output has one column\n",
    "per unique function. Those functions applied to a particular column will be `NaN`:\n",
    "\n",
    "The API also supports a `.transform()` function for broadcasting results.\n",
    "\n",
    "When presented with mixed dtypes that cannot be aggregated, `.agg()` will only take the valid\n",
    "aggregations. This is similar to how groupby `.agg()` works. ([GH15015](https://github.com/pandas-dev/pandas/issues/15015))\n",
    "\n",
    "\n",
    "<a id='whatsnew-0200-enhancements-dataio-dtype'></a>"
   ]
  },
  {
   "cell_type": "markdown",
   "metadata": {},
   "source": [
    "### `dtype` keyword for data IO\n",
    "\n",
    "The `'python'` engine for `read_csv()`, as well as the `read_fwf()` function for parsing\n",
    "fixed-width text files and `read_excel()` for parsing Excel files, now accept the `dtype` keyword argument for specifying the types of specific columns ([GH14295](https://github.com/pandas-dev/pandas/issues/14295)). See the [io docs](user_guide/io.ipynb#io-dtypes) for more information.\n",
    "\n",
    "\n",
    "<a id='whatsnew-0120-enhancements-datetime-origin'></a>"
   ]
  },
  {
   "cell_type": "markdown",
   "metadata": {},
   "source": [
    "### `.to_datetime()` has gained an `origin` parameter\n",
    "\n",
    "`to_datetime()` has gained a new parameter, `origin`, to define a reference date\n",
    "from where to compute the resulting timestamps when parsing numerical values with a specific `unit` specified. ([GH11276](https://github.com/pandas-dev/pandas/issues/11276), [GH11745](https://github.com/pandas-dev/pandas/issues/11745))\n",
    "\n",
    "For example, with 1960-01-01 as the starting date:\n",
    "\n",
    "The default is set at `origin='unix'`, which defaults to `1970-01-01 00:00:00`, which is\n",
    "commonly called ‘unix epoch’ or POSIX time. This was the previous default, so this is a backward compatible change.\n",
    "\n",
    "\n",
    "<a id='whatsnew-0200-enhancements-groupby-access'></a>"
   ]
  },
  {
   "cell_type": "markdown",
   "metadata": {},
   "source": [
    "### Groupby enhancements\n",
    "\n",
    "Strings passed to `DataFrame.groupby()` as the `by` parameter may now reference either column names or index level names. Previously, only column names could be referenced. This allows to easily group by a column and index level at the same time. ([GH5677](https://github.com/pandas-dev/pandas/issues/5677))\n",
    "\n",
    "\n",
    "<a id='whatsnew-0200-enhancements-compressed-urls'></a>"
   ]
  },
  {
   "cell_type": "markdown",
   "metadata": {},
   "source": [
    "### Better support for compressed URLs in `read_csv`\n",
    "\n",
    "The compression code was refactored ([GH12688](https://github.com/pandas-dev/pandas/issues/12688)). As a result, reading\n",
    "dataframes from URLs in `read_csv()` or `read_table()` now supports\n",
    "additional compression methods: `xz`, `bz2`, and `zip` ([GH14570](https://github.com/pandas-dev/pandas/issues/14570)).\n",
    "Previously, only `gzip` compression was supported. By default, compression of\n",
    "URLs and paths are now inferred using their file extensions. Additionally,\n",
    "support for bz2 compression in the python 2 C-engine improved ([GH14874](https://github.com/pandas-dev/pandas/issues/14874)).\n",
    "\n",
    "\n",
    "<a id='whatsnew-0200-enhancements-pickle-compression'></a>"
   ]
  },
  {
   "cell_type": "markdown",
   "metadata": {},
   "source": [
    "### Pickle file I/O now supports compression\n",
    "\n",
    "`read_pickle()`, `DataFrame.to_pickle()` and `Series.to_pickle()`\n",
    "can now read from and write to compressed pickle files. Compression methods\n",
    "can be an explicit parameter or be inferred from the file extension.\n",
    "See [the docs here.](user_guide/io.ipynb#io-pickle-compression)\n",
    "\n",
    "Using an explicit compression type\n",
    "\n",
    "The default is to infer the compression type from the extension (`compression='infer'`):\n",
    "\n",
    "\n",
    "<a id='whatsnew-0200-enhancements-uint64-support'></a>"
   ]
  },
  {
   "cell_type": "markdown",
   "metadata": {},
   "source": [
    "### UInt64 support improved\n",
    "\n",
    "Pandas has significantly improved support for operations involving unsigned,\n",
    "or purely non-negative, integers. Previously, handling these integers would\n",
    "result in improper rounding or data-type casting, leading to incorrect results.\n",
    "Notably, a new numerical index, `UInt64Index`, has been created ([GH14937](https://github.com/pandas-dev/pandas/issues/14937))\n",
    "\n",
    "- Bug in converting object elements of array-like objects to unsigned 64-bit integers ([GH4471](https://github.com/pandas-dev/pandas/issues/4471), [GH14982](https://github.com/pandas-dev/pandas/issues/14982))  \n",
    "- Bug in `Series.unique()` in which unsigned 64-bit integers were causing overflow ([GH14721](https://github.com/pandas-dev/pandas/issues/14721))  \n",
    "- Bug in `DataFrame` construction in which unsigned 64-bit integer elements were being converted to objects ([GH14881](https://github.com/pandas-dev/pandas/issues/14881))  \n",
    "- Bug in `pd.read_csv()` in which unsigned 64-bit integer elements were being improperly converted to the wrong data types ([GH14983](https://github.com/pandas-dev/pandas/issues/14983))  \n",
    "- Bug in `pd.unique()` in which unsigned 64-bit integers were causing overflow ([GH14915](https://github.com/pandas-dev/pandas/issues/14915))  \n",
    "- Bug in `pd.value_counts()` in which unsigned 64-bit integers were being erroneously truncated in the output ([GH14934](https://github.com/pandas-dev/pandas/issues/14934))  \n",
    "\n",
    "\n",
    "\n",
    "<a id='whatsnew-0200-enhancements-groupy-categorical'></a>"
   ]
  },
  {
   "cell_type": "markdown",
   "metadata": {},
   "source": [
    "### GroupBy on categoricals\n",
    "\n",
    "In previous versions, `.groupby(..., sort=False)` would fail with a `ValueError` when grouping on a categorical series with some categories not appearing in the data. ([GH13179](https://github.com/pandas-dev/pandas/issues/13179))\n",
    "\n",
    "**Previous behavior**:"
   ]
  },
  {
   "cell_type": "markdown",
   "metadata": {
    "hide-output": false
   },
   "source": [
    "```ipython\n",
    "In [3]: df[df.chromosomes != '1'].groupby('chromosomes', sort=False).sum()\n",
    "---------------------------------------------------------------------------\n",
    "ValueError: items in new_categories are not the same as in old categories\n",
    "```\n"
   ]
  },
  {
   "cell_type": "markdown",
   "metadata": {},
   "source": [
    "**New behavior**:\n",
    "\n",
    "\n",
    "<a id='whatsnew-0200-enhancements-table-schema'></a>"
   ]
  },
  {
   "cell_type": "markdown",
   "metadata": {},
   "source": [
    "### Table schema output\n",
    "\n",
    "The new orient `'table'` for `DataFrame.to_json()`\n",
    "will generate a [Table Schema](http://specs.frictionlessdata.io/json-table-schema/) compatible string representation of\n",
    "the data.\n",
    "\n",
    "See [IO: Table Schema for more information](user_guide/io.ipynb#io-table-schema).\n",
    "\n",
    "Additionally, the repr for `DataFrame` and `Series` can now publish\n",
    "this JSON Table schema representation of the Series or DataFrame if you are\n",
    "using IPython (or another frontend like [nteract](http://nteract.io/) using the Jupyter messaging\n",
    "protocol).\n",
    "This gives frontends like the Jupyter notebook and [nteract](http://nteract.io/)\n",
    "more flexibility in how they display pandas objects, since they have\n",
    "more information about the data.\n",
    "You must enable this by setting the `display.html.table_schema` option to `True`.\n",
    "\n",
    "\n",
    "<a id='whatsnew-0200-enhancements-scipy-sparse'></a>"
   ]
  },
  {
   "cell_type": "markdown",
   "metadata": {},
   "source": [
    "### SciPy sparse matrix from/to SparseDataFrame\n",
    "\n",
    "Pandas now supports creating sparse dataframes directly from `scipy.sparse.spmatrix` instances.\n",
    "See the [documentation](user_guide/sparse.ipynb#sparse-scipysparse) for more information. ([GH4343](https://github.com/pandas-dev/pandas/issues/4343))\n",
    "\n",
    "All sparse formats are supported, but matrices that are not in [`COOrdinate`](https://docs.scipy.org/doc/scipy/reference/sparse.html#module-scipy.sparse) format will be converted, copying data as needed.\n",
    "\n",
    "To convert a `SparseDataFrame` back to sparse SciPy matrix in COO format, you can use:\n",
    "\n",
    "\n",
    "<a id='whatsnew-0200-enhancements-style-excel'></a>"
   ]
  },
  {
   "cell_type": "markdown",
   "metadata": {},
   "source": [
    "### Excel output for styled DataFrames\n",
    "\n",
    "Experimental support has been added to export `DataFrame.style` formats to Excel using the `openpyxl` engine. ([GH15530](https://github.com/pandas-dev/pandas/issues/15530))\n",
    "\n",
    "For example, after running the following, `styled.xlsx` renders as below:\n",
    "\n",
    "<img src=\"whatsnew/../_static/style-excel.png\" style=\"\">\n",
    "\n",
    "See the [Style documentation](user_guide/style.ipynb#Export-to-Excel) for more detail.\n",
    "\n",
    "\n",
    "<a id='whatsnew-0200-enhancements-intervalindex'></a>"
   ]
  },
  {
   "cell_type": "markdown",
   "metadata": {},
   "source": [
    "### IntervalIndex\n",
    "\n",
    "pandas has gained an `IntervalIndex` with its own dtype, `interval` as well as the `Interval` scalar type. These allow first-class support for interval\n",
    "notation, specifically as a return type for the categories in `cut()` and `qcut()`. The `IntervalIndex` allows some unique indexing, see the\n",
    "[docs](user_guide/advanced.ipynb#advanced-intervalindex). ([GH7640](https://github.com/pandas-dev/pandas/issues/7640), [GH8625](https://github.com/pandas-dev/pandas/issues/8625))\n",
    "\n",
    "These indexing behaviors of the IntervalIndex are provisional and may change in a future version of pandas. Feedback on usage is welcome.\n",
    "\n",
    "Previous behavior:\n",
    "\n",
    "The returned categories were strings, representing Intervals"
   ]
  },
  {
   "cell_type": "markdown",
   "metadata": {
    "hide-output": false
   },
   "source": [
    "```ipython\n",
    "In [1]: c = pd.cut(range(4), bins=2)\n",
    "\n",
    "In [2]: c\n",
    "Out[2]:\n",
    "[(-0.003, 1.5], (-0.003, 1.5], (1.5, 3], (1.5, 3]]\n",
    "Categories (2, object): [(-0.003, 1.5] < (1.5, 3]]\n",
    "\n",
    "In [3]: c.categories\n",
    "Out[3]: Index(['(-0.003, 1.5]', '(1.5, 3]'], dtype='object')\n",
    "```\n"
   ]
  },
  {
   "cell_type": "markdown",
   "metadata": {},
   "source": [
    "New behavior:\n",
    "\n",
    "Furthermore, this allows one to bin *other* data with these same bins, with `NaN` representing a missing\n",
    "value similar to other dtypes.\n",
    "\n",
    "An `IntervalIndex` can also be used in `Series` and `DataFrame` as the index.\n",
    "\n",
    "Selecting via a specific interval:\n",
    "\n",
    "Selecting via a scalar value that is contained *in* the intervals.\n",
    "\n",
    "\n",
    "<a id='whatsnew-0200-enhancements-other'></a>"
   ]
  },
  {
   "cell_type": "markdown",
   "metadata": {},
   "source": [
    "### Other enhancements\n",
    "\n",
    "- `DataFrame.rolling()` now accepts the parameter `closed='right'|'left'|'both'|'neither'` to choose the rolling window-endpoint closedness. See the [documentation](user_guide/computation.ipynb#stats-rolling-window-endpoints) ([GH13965](https://github.com/pandas-dev/pandas/issues/13965))  \n",
    "- Integration with the `feather-format`, including a new top-level `pd.read_feather()` and `DataFrame.to_feather()` method, see [here](user_guide/io.ipynb#io-feather).  \n",
    "- `Series.str.replace()` now accepts a callable, as replacement, which is passed to `re.sub` ([GH15055](https://github.com/pandas-dev/pandas/issues/15055))  \n",
    "- `Series.str.replace()` now accepts a compiled regular expression as a pattern ([GH15446](https://github.com/pandas-dev/pandas/issues/15446))  \n",
    "- `Series.sort_index` accepts parameters `kind` and `na_position` ([GH13589](https://github.com/pandas-dev/pandas/issues/13589), [GH14444](https://github.com/pandas-dev/pandas/issues/14444))  \n",
    "- `DataFrame` and `DataFrame.groupby()`  have gained a `nunique()` method to count the distinct values over an axis ([GH14336](https://github.com/pandas-dev/pandas/issues/14336), [GH15197](https://github.com/pandas-dev/pandas/issues/15197)).  \n",
    "- `DataFrame` has gained a `melt()` method, equivalent to `pd.melt()`, for unpivoting from a wide to long format ([GH12640](https://github.com/pandas-dev/pandas/issues/12640)).  \n",
    "- `pd.read_excel()` now preserves sheet order when using `sheetname=None` ([GH9930](https://github.com/pandas-dev/pandas/issues/9930))  \n",
    "- Multiple offset aliases with decimal points are now supported (e.g. `0.5min` is parsed as `30s`) ([GH8419](https://github.com/pandas-dev/pandas/issues/8419))  \n",
    "- `.isnull()` and `.notnull()` have been added to `Index` object to make them more consistent with the `Series` API ([GH15300](https://github.com/pandas-dev/pandas/issues/15300))  \n",
    "- New `UnsortedIndexError` (subclass of `KeyError`) raised when indexing/slicing into an\n",
    "  unsorted MultiIndex ([GH11897](https://github.com/pandas-dev/pandas/issues/11897)). This allows differentiation between errors due to lack\n",
    "  of sorting or an incorrect key. See [here](user_guide/advanced.ipynb#advanced-unsorted)  \n",
    "- `MultiIndex` has gained a `.to_frame()` method to convert to a `DataFrame` ([GH12397](https://github.com/pandas-dev/pandas/issues/12397))  \n",
    "- `pd.cut` and `pd.qcut` now support datetime64 and timedelta64 dtypes ([GH14714](https://github.com/pandas-dev/pandas/issues/14714), [GH14798](https://github.com/pandas-dev/pandas/issues/14798))  \n",
    "- `pd.qcut` has gained the `duplicates='raise'|'drop'` option to control whether to raise on duplicated edges ([GH7751](https://github.com/pandas-dev/pandas/issues/7751))  \n",
    "- `Series` provides a `to_excel` method to output Excel files ([GH8825](https://github.com/pandas-dev/pandas/issues/8825))  \n",
    "- The `usecols` argument in `pd.read_csv()` now accepts a callable function as a value  ([GH14154](https://github.com/pandas-dev/pandas/issues/14154))  \n",
    "- The `skiprows` argument in `pd.read_csv()` now accepts a callable function as a value  ([GH10882](https://github.com/pandas-dev/pandas/issues/10882))  \n",
    "- The `nrows` and `chunksize` arguments in `pd.read_csv()` are supported if both are passed ([GH6774](https://github.com/pandas-dev/pandas/issues/6774), [GH15755](https://github.com/pandas-dev/pandas/issues/15755))  \n",
    "- `DataFrame.plot` now prints a title above each subplot if `suplots=True` and `title` is a list of strings ([GH14753](https://github.com/pandas-dev/pandas/issues/14753))  \n",
    "- `DataFrame.plot` can pass the matplotlib 2.0 default color cycle as a single string as color parameter, see [here](http://matplotlib.org/2.0.0/users/colors.html#cn-color-selection). ([GH15516](https://github.com/pandas-dev/pandas/issues/15516))  \n",
    "- `Series.interpolate()` now supports timedelta as an index type with `method='time'` ([GH6424](https://github.com/pandas-dev/pandas/issues/6424))  \n",
    "- Addition of a `level` keyword to `DataFrame/Series.rename` to rename\n",
    "  labels in the specified level of a MultiIndex ([GH4160](https://github.com/pandas-dev/pandas/issues/4160)).  \n",
    "- `DataFrame.reset_index()` will now interpret a tuple `index.name` as a key spanning across levels of `columns`, if this is a `MultiIndex` ([GH16164](https://github.com/pandas-dev/pandas/issues/16164))  \n",
    "- `Timedelta.isoformat` method added for formatting Timedeltas as an [ISO 8601 duration](https://en.wikipedia.org/wiki/ISO_8601#Durations). See the [Timedelta docs](user_guide/timedeltas.ipynb#timedeltas-isoformat) ([GH15136](https://github.com/pandas-dev/pandas/issues/15136))  \n",
    "- `.select_dtypes()` now allows the string `datetimetz` to generically select datetimes with tz ([GH14910](https://github.com/pandas-dev/pandas/issues/14910))  \n",
    "- The `.to_latex()` method will now accept `multicolumn` and `multirow` arguments to use the accompanying LaTeX enhancements  \n",
    "- `pd.merge_asof()` gained the option `direction='backward'|'forward'|'nearest'` ([GH14887](https://github.com/pandas-dev/pandas/issues/14887))  \n",
    "- `Series/DataFrame.asfreq()` have gained a `fill_value` parameter, to fill missing values ([GH3715](https://github.com/pandas-dev/pandas/issues/3715)).  \n",
    "- `Series/DataFrame.resample.asfreq` have gained a `fill_value` parameter, to fill missing values during resampling ([GH3715](https://github.com/pandas-dev/pandas/issues/3715)).  \n",
    "- `pandas.util.hash_pandas_object()` has gained the ability to hash a `MultiIndex` ([GH15224](https://github.com/pandas-dev/pandas/issues/15224))  \n",
    "- `Series/DataFrame.squeeze()` have gained the `axis` parameter. ([GH15339](https://github.com/pandas-dev/pandas/issues/15339))  \n",
    "- `DataFrame.to_excel()` has a new `freeze_panes` parameter to turn on Freeze Panes when exporting to Excel ([GH15160](https://github.com/pandas-dev/pandas/issues/15160))  \n",
    "- `pd.read_html()` will parse multiple header rows, creating a MutliIndex header. ([GH13434](https://github.com/pandas-dev/pandas/issues/13434)).  \n",
    "- HTML table output skips `colspan` or `rowspan` attribute if equal to 1. ([GH15403](https://github.com/pandas-dev/pandas/issues/15403))  \n",
    "- `pandas.io.formats.style.Styler` template now has blocks for easier extension, see the [example notebook](user_guide/style.ipynb#Subclassing) ([GH15649](https://github.com/pandas-dev/pandas/issues/15649))  \n",
    "- `Styler.render()` now accepts `**kwargs` to allow user-defined variables in the template ([GH15649](https://github.com/pandas-dev/pandas/issues/15649))  \n",
    "- Compatibility with Jupyter notebook 5.0; MultiIndex column labels are left-aligned and MultiIndex row-labels are top-aligned ([GH15379](https://github.com/pandas-dev/pandas/issues/15379))  \n",
    "- `TimedeltaIndex` now has a custom date-tick formatter specifically designed for nanosecond level precision ([GH8711](https://github.com/pandas-dev/pandas/issues/8711))  \n",
    "- `pd.api.types.union_categoricals` gained the `ignore_ordered` argument to allow ignoring the ordered attribute of unioned categoricals ([GH13410](https://github.com/pandas-dev/pandas/issues/13410)). See the [categorical union docs](user_guide/categorical.ipynb#categorical-union) for more information.  \n",
    "- `DataFrame.to_latex()` and `DataFrame.to_string()` now allow optional header aliases. ([GH15536](https://github.com/pandas-dev/pandas/issues/15536))  \n",
    "- Re-enable the `parse_dates` keyword of `pd.read_excel()` to parse string columns as dates ([GH14326](https://github.com/pandas-dev/pandas/issues/14326))  \n",
    "- Added `.empty` property to subclasses of `Index`. ([GH15270](https://github.com/pandas-dev/pandas/issues/15270))  \n",
    "- Enabled floor division for `Timedelta` and `TimedeltaIndex` ([GH15828](https://github.com/pandas-dev/pandas/issues/15828))  \n",
    "- `pandas.io.json.json_normalize()` gained the option `errors='ignore'|'raise'`; the default is `errors='raise'` which is backward compatible. ([GH14583](https://github.com/pandas-dev/pandas/issues/14583))  \n",
    "- `pandas.io.json.json_normalize()` with an empty `list` will return an empty `DataFrame` ([GH15534](https://github.com/pandas-dev/pandas/issues/15534))  \n",
    "- `pandas.io.json.json_normalize()` has gained a `sep` option that accepts `str` to separate joined fields; the default is “.”, which is backward compatible. ([GH14883](https://github.com/pandas-dev/pandas/issues/14883))  \n",
    "- `MultiIndex.remove_unused_levels()` has been added to facilitate [removing unused levels](user_guide/advanced.ipynb#advanced-shown-levels). ([GH15694](https://github.com/pandas-dev/pandas/issues/15694))  \n",
    "- `pd.read_csv()` will now raise a `ParserError` error whenever any parsing error occurs ([GH15913](https://github.com/pandas-dev/pandas/issues/15913), [GH15925](https://github.com/pandas-dev/pandas/issues/15925))  \n",
    "- `pd.read_csv()` now supports the `error_bad_lines` and `warn_bad_lines` arguments for the Python parser ([GH15925](https://github.com/pandas-dev/pandas/issues/15925))  \n",
    "- The `display.show_dimensions` option can now also be used to specify\n",
    "  whether the length of a `Series` should be shown in its repr ([GH7117](https://github.com/pandas-dev/pandas/issues/7117)).  \n",
    "- `parallel_coordinates()` has gained a `sort_labels` keyword argument that sorts class labels and the colors assigned to them ([GH15908](https://github.com/pandas-dev/pandas/issues/15908))  \n",
    "- Options added to allow one to turn on/off using `bottleneck` and `numexpr`, see [here](getting_started/basics.ipynb#basics-accelerate) ([GH16157](https://github.com/pandas-dev/pandas/issues/16157))  \n",
    "- `DataFrame.style.bar()` now accepts two more options to further customize the bar chart. Bar alignment is set with `align='left'|'mid'|'zero'`, the default is “left”, which is backward compatible; You can now pass a list of `color=[color_negative, color_positive]`. ([GH14757](https://github.com/pandas-dev/pandas/issues/14757))  \n",
    "\n",
    "\n",
    "\n",
    "<a id='whatsnew-0200-api-breaking'></a>"
   ]
  },
  {
   "cell_type": "markdown",
   "metadata": {},
   "source": [
    "## Backwards incompatible API changes\n",
    "\n",
    "\n",
    "<a id='whatsnew-api-breaking-io-compat'></a>"
   ]
  },
  {
   "cell_type": "markdown",
   "metadata": {},
   "source": [
    "### Possible incompatibility for HDF5 formats created with pandas < 0.13.0\n",
    "\n",
    "`pd.TimeSeries` was deprecated officially in 0.17.0, though has already been an alias since 0.13.0. It has\n",
    "been dropped in favor of `pd.Series`. ([GH15098](https://github.com/pandas-dev/pandas/issues/15098)).\n",
    "\n",
    "This *may* cause HDF5 files that were created in prior versions to become unreadable if `pd.TimeSeries`\n",
    "was used. This is most likely to be for pandas < 0.13.0. If you find yourself in this situation.\n",
    "You can use a recent prior version of pandas to read in your HDF5 files,\n",
    "then write them out again after applying the procedure below."
   ]
  },
  {
   "cell_type": "markdown",
   "metadata": {
    "hide-output": false
   },
   "source": [
    "```ipython\n",
    "In [2]: s = pd.TimeSeries([1, 2, 3], index=pd.date_range('20130101', periods=3))\n",
    "\n",
    "In [3]: s\n",
    "Out[3]:\n",
    "2013-01-01    1\n",
    "2013-01-02    2\n",
    "2013-01-03    3\n",
    "Freq: D, dtype: int64\n",
    "\n",
    "In [4]: type(s)\n",
    "Out[4]: pandas.core.series.TimeSeries\n",
    "\n",
    "In [5]: s = pd.Series(s)\n",
    "\n",
    "In [6]: s\n",
    "Out[6]:\n",
    "2013-01-01    1\n",
    "2013-01-02    2\n",
    "2013-01-03    3\n",
    "Freq: D, dtype: int64\n",
    "\n",
    "In [7]: type(s)\n",
    "Out[7]: pandas.core.series.Series\n",
    "```\n"
   ]
  },
  {
   "cell_type": "markdown",
   "metadata": {},
   "source": [
    "\n",
    "<a id='whatsnew-0200-api-breaking-index-map'></a>"
   ]
  },
  {
   "cell_type": "markdown",
   "metadata": {},
   "source": [
    "### Map on Index types now return other Index types\n",
    "\n",
    "`map` on an `Index` now returns an `Index`, not a numpy array ([GH12766](https://github.com/pandas-dev/pandas/issues/12766))\n",
    "\n",
    "Previous behavior:"
   ]
  },
  {
   "cell_type": "markdown",
   "metadata": {
    "hide-output": false
   },
   "source": [
    "```ipython\n",
    "In [5]: idx.map(lambda x: x * 2)\n",
    "Out[5]: array([2, 4])\n",
    "\n",
    "In [6]: idx.map(lambda x: (x, x * 2))\n",
    "Out[6]: array([(1, 2), (2, 4)], dtype=object)\n",
    "\n",
    "In [7]: mi.map(lambda x: x)\n",
    "Out[7]: array([(1, 2), (2, 4)], dtype=object)\n",
    "\n",
    "In [8]: mi.map(lambda x: x[0])\n",
    "Out[8]: array([1, 2])\n",
    "```\n"
   ]
  },
  {
   "cell_type": "markdown",
   "metadata": {},
   "source": [
    "New behavior:\n",
    "\n",
    "`map` on a `Series` with `datetime64` values may return `int64` dtypes rather than `int32`\n",
    "\n",
    "Previous behavior:"
   ]
  },
  {
   "cell_type": "markdown",
   "metadata": {
    "hide-output": false
   },
   "source": [
    "```ipython\n",
    "In [9]: s.map(lambda x: x.hour)\n",
    "Out[9]:\n",
    "0    0\n",
    "1    1\n",
    "2    2\n",
    "dtype: int32\n",
    "```\n"
   ]
  },
  {
   "cell_type": "markdown",
   "metadata": {},
   "source": [
    "New behavior:\n",
    "\n",
    "\n",
    "<a id='whatsnew-0200-api-breaking-index-dt-field'></a>"
   ]
  },
  {
   "cell_type": "markdown",
   "metadata": {},
   "source": [
    "### Accessing datetime fields of Index now return Index\n",
    "\n",
    "The datetime-related attributes (see [here](user_guide/timeseries.ipynb#timeseries-components)\n",
    "for an overview) of `DatetimeIndex`, `PeriodIndex` and `TimedeltaIndex` previously\n",
    "returned numpy arrays. They will now return a new `Index` object, except\n",
    "in the case of a boolean field, where the result will still be a boolean ndarray. ([GH15022](https://github.com/pandas-dev/pandas/issues/15022))\n",
    "\n",
    "Previous behaviour:"
   ]
  },
  {
   "cell_type": "markdown",
   "metadata": {
    "hide-output": false
   },
   "source": [
    "```ipython\n",
    "In [1]: idx = pd.date_range(\"2015-01-01\", periods=5, freq='10H')\n",
    "\n",
    "In [2]: idx.hour\n",
    "Out[2]: array([ 0, 10, 20,  6, 16], dtype=int32)\n",
    "```\n"
   ]
  },
  {
   "cell_type": "markdown",
   "metadata": {},
   "source": [
    "New behavior:\n",
    "\n",
    "This has the advantage that specific `Index` methods are still available on the\n",
    "result. On the other hand, this might have backward incompatibilities: e.g.\n",
    "compared to numpy arrays, `Index` objects are not mutable. To get the original\n",
    "ndarray, you can always convert explicitly using `np.asarray(idx.hour)`.\n",
    "\n",
    "\n",
    "<a id='whatsnew-0200-api-breaking-unique'></a>"
   ]
  },
  {
   "cell_type": "markdown",
   "metadata": {},
   "source": [
    "### pd.unique will now be consistent with extension types\n",
    "\n",
    "In prior versions, using `Series.unique()` and `pandas.unique()` on `Categorical` and tz-aware\n",
    "data-types would yield different return types. These are now made consistent. ([GH15903](https://github.com/pandas-dev/pandas/issues/15903))\n",
    "\n",
    "- Datetime tz-aware  \n",
    "Previous behaviour:  "
   ]
  },
  {
   "cell_type": "markdown",
   "metadata": {
    "hide-output": false
   },
   "source": [
    "```ipython\n",
    "# Series\n",
    "In [5]: pd.Series([pd.Timestamp('20160101', tz='US/Eastern'),\n",
    "   ...:            pd.Timestamp('20160101', tz='US/Eastern')]).unique()\n",
    "Out[5]: array([Timestamp('2016-01-01 00:00:00-0500', tz='US/Eastern')], dtype=object)\n",
    "\n",
    "In [6]: pd.unique(pd.Series([pd.Timestamp('20160101', tz='US/Eastern'),\n",
    "   ...:                      pd.Timestamp('20160101', tz='US/Eastern')]))\n",
    "Out[6]: array(['2016-01-01T05:00:00.000000000'], dtype='datetime64[ns]')\n",
    "\n",
    "# Index\n",
    "In [7]: pd.Index([pd.Timestamp('20160101', tz='US/Eastern'),\n",
    "   ...:           pd.Timestamp('20160101', tz='US/Eastern')]).unique()\n",
    "Out[7]: DatetimeIndex(['2016-01-01 00:00:00-05:00'], dtype='datetime64[ns, US/Eastern]', freq=None)\n",
    "\n",
    "In [8]: pd.unique([pd.Timestamp('20160101', tz='US/Eastern'),\n",
    "   ...:            pd.Timestamp('20160101', tz='US/Eastern')])\n",
    "Out[8]: array(['2016-01-01T05:00:00.000000000'], dtype='datetime64[ns]')\n",
    "```\n"
   ]
  },
  {
   "cell_type": "markdown",
   "metadata": {},
   "source": [
    "New behavior:  \n",
    "- Categoricals  \n",
    "Previous behaviour:  "
   ]
  },
  {
   "cell_type": "markdown",
   "metadata": {
    "hide-output": false
   },
   "source": [
    "```ipython\n",
    "In [1]: pd.Series(list('baabc'), dtype='category').unique()\n",
    "Out[1]:\n",
    "[b, a, c]\n",
    "Categories (3, object): [b, a, c]\n",
    "\n",
    "In [2]: pd.unique(pd.Series(list('baabc'), dtype='category'))\n",
    "Out[2]: array(['b', 'a', 'c'], dtype=object)\n",
    "```\n"
   ]
  },
  {
   "cell_type": "markdown",
   "metadata": {},
   "source": [
    "New behavior:  \n",
    "\n",
    "\n",
    "\n",
    "<a id='whatsnew-0200-api-breaking-s3'></a>"
   ]
  },
  {
   "cell_type": "markdown",
   "metadata": {},
   "source": [
    "### S3 file handling\n",
    "\n",
    "pandas now uses [s3fs](http://s3fs.readthedocs.io/) for handling S3 connections. This shouldn’t break\n",
    "any code. However, since `s3fs` is not a required dependency, you will need to install it separately, like `boto`\n",
    "in prior versions of pandas. ([GH11915](https://github.com/pandas-dev/pandas/issues/11915)).\n",
    "\n",
    "\n",
    "<a id='whatsnew-0200-api-breaking-partial-string-indexing'></a>"
   ]
  },
  {
   "cell_type": "markdown",
   "metadata": {},
   "source": [
    "### Partial string indexing changes\n",
    "\n",
    "[DatetimeIndex Partial String Indexing](user_guide/timeseries.ipynb#timeseries-partialindexing) now works as an exact match, provided that string resolution coincides with index resolution, including a case when both are seconds ([GH14826](https://github.com/pandas-dev/pandas/issues/14826)). See [Slice vs. Exact Match](user_guide/timeseries.ipynb#timeseries-slice-vs-exact-match) for details.\n",
    "\n",
    "Previous behavior:"
   ]
  },
  {
   "cell_type": "markdown",
   "metadata": {
    "hide-output": false
   },
   "source": [
    "```ipython\n",
    "In [4]: df['2011-12-31 23:59:59']\n",
    "Out[4]:\n",
    "                       a\n",
    "2011-12-31 23:59:59  1\n",
    "\n",
    "In [5]: df['a']['2011-12-31 23:59:59']\n",
    "Out[5]:\n",
    "2011-12-31 23:59:59    1\n",
    "Name: a, dtype: int64\n",
    "```\n"
   ]
  },
  {
   "cell_type": "markdown",
   "metadata": {},
   "source": [
    "New behavior:"
   ]
  },
  {
   "cell_type": "markdown",
   "metadata": {
    "hide-output": false
   },
   "source": [
    "```ipython\n",
    "In [4]: df['2011-12-31 23:59:59']\n",
    "KeyError: '2011-12-31 23:59:59'\n",
    "\n",
    "In [5]: df['a']['2011-12-31 23:59:59']\n",
    "Out[5]: 1\n",
    "```\n"
   ]
  },
  {
   "cell_type": "markdown",
   "metadata": {},
   "source": [
    "\n",
    "<a id='whatsnew-0200-api-breaking-concat-dtypes'></a>"
   ]
  },
  {
   "cell_type": "markdown",
   "metadata": {},
   "source": [
    "### Concat of different float dtypes will not automatically upcast\n",
    "\n",
    "Previously, `concat` of multiple objects with different `float` dtypes would automatically upcast results to a dtype of `float64`.\n",
    "Now the smallest acceptable dtype will be used ([GH13247](https://github.com/pandas-dev/pandas/issues/13247))\n",
    "\n",
    "Previous behavior:"
   ]
  },
  {
   "cell_type": "markdown",
   "metadata": {
    "hide-output": false
   },
   "source": [
    "```ipython\n",
    "In [7]: pd.concat([df1, df2]).dtypes\n",
    "Out[7]:\n",
    "0    float64\n",
    "dtype: object\n",
    "```\n"
   ]
  },
  {
   "cell_type": "markdown",
   "metadata": {},
   "source": [
    "New behavior:\n",
    "\n",
    "\n",
    "<a id='whatsnew-0200-api-breaking-gbq'></a>"
   ]
  },
  {
   "cell_type": "markdown",
   "metadata": {},
   "source": [
    "### Pandas Google BigQuery support has moved\n",
    "\n",
    "pandas has split off Google BigQuery support into a separate package `pandas-gbq`. You can `conda install pandas-gbq -c conda-forge` or\n",
    "`pip install pandas-gbq` to get it. The functionality of `read_gbq()` and `DataFrame.to_gbq()` remain the same with the\n",
    "currently released version of `pandas-gbq=0.1.4`. Documentation is now hosted [here](https://pandas-gbq.readthedocs.io/)  ([GH15347](https://github.com/pandas-dev/pandas/issues/15347))\n",
    "\n",
    "\n",
    "<a id='whatsnew-0200-api-breaking-memory-usage'></a>"
   ]
  },
  {
   "cell_type": "markdown",
   "metadata": {},
   "source": [
    "### Memory usage for Index is more accurate\n",
    "\n",
    "In previous versions, showing `.memory_usage()` on a pandas structure that has an index, would only include actual index values and not include structures that facilitated fast indexing. This will generally be different for `Index` and `MultiIndex` and less-so for other index types. ([GH15237](https://github.com/pandas-dev/pandas/issues/15237))\n",
    "\n",
    "Previous behavior:"
   ]
  },
  {
   "cell_type": "markdown",
   "metadata": {
    "hide-output": false
   },
   "source": [
    "```ipython\n",
    "In [8]: index = pd.Index(['foo', 'bar', 'baz'])\n",
    "\n",
    "In [9]: index.memory_usage(deep=True)\n",
    "Out[9]: 180\n",
    "\n",
    "In [10]: index.get_loc('foo')\n",
    "Out[10]: 0\n",
    "\n",
    "In [11]: index.memory_usage(deep=True)\n",
    "Out[11]: 180\n",
    "```\n"
   ]
  },
  {
   "cell_type": "markdown",
   "metadata": {},
   "source": [
    "New behavior:"
   ]
  },
  {
   "cell_type": "markdown",
   "metadata": {
    "hide-output": false
   },
   "source": [
    "```ipython\n",
    "In [8]: index = pd.Index(['foo', 'bar', 'baz'])\n",
    "\n",
    "In [9]: index.memory_usage(deep=True)\n",
    "Out[9]: 180\n",
    "\n",
    "In [10]: index.get_loc('foo')\n",
    "Out[10]: 0\n",
    "\n",
    "In [11]: index.memory_usage(deep=True)\n",
    "Out[11]: 260\n",
    "```\n"
   ]
  },
  {
   "cell_type": "markdown",
   "metadata": {},
   "source": [
    "\n",
    "<a id='whatsnew-0200-api-breaking-sort-index'></a>"
   ]
  },
  {
   "cell_type": "markdown",
   "metadata": {},
   "source": [
    "### DataFrame.sort_index changes\n",
    "\n",
    "In certain cases, calling `.sort_index()` on a MultiIndexed DataFrame would return the *same* DataFrame without seeming to sort.\n",
    "This would happen with a `lexsorted`, but non-monotonic levels. ([GH15622](https://github.com/pandas-dev/pandas/issues/15622), [GH15687](https://github.com/pandas-dev/pandas/issues/15687), [GH14015](https://github.com/pandas-dev/pandas/issues/14015), [GH13431](https://github.com/pandas-dev/pandas/issues/13431), [GH15797](https://github.com/pandas-dev/pandas/issues/15797))\n",
    "\n",
    "This is *unchanged* from prior versions, but shown for illustration purposes:\n",
    "\n",
    "Sorting works as expected\n",
    "\n",
    "However, this example, which has a non-monotonic 2nd level,\n",
    "doesn’t behave as desired.\n",
    "\n",
    "Previous behavior:"
   ]
  },
  {
   "cell_type": "code",
   "execution_count": null,
   "metadata": {
    "hide-output": false
   },
   "outputs": [],
   "source": [
    "In [11]: df.sort_index()\n",
    "Out[11]:\n",
    "      value\n",
    "a bb      1\n",
    "  aa      2\n",
    "b bb      3\n",
    "  aa      4\n",
    "\n",
    "In [14]: df.sort_index().index.is_lexsorted()\n",
    "Out[14]: True\n",
    "\n",
    "In [15]: df.sort_index().index.is_monotonic\n",
    "Out[15]: False"
   ]
  },
  {
   "cell_type": "markdown",
   "metadata": {},
   "source": [
    "New behavior:\n",
    "\n",
    "\n",
    "<a id='whatsnew-0200-api-breaking-groupby-describe'></a>"
   ]
  },
  {
   "cell_type": "markdown",
   "metadata": {},
   "source": [
    "### Groupby describe formatting\n",
    "\n",
    "The output formatting of `groupby.describe()` now labels the `describe()` metrics in the columns instead of the index.\n",
    "This format is consistent with `groupby.agg()` when applying multiple functions at once. ([GH4792](https://github.com/pandas-dev/pandas/issues/4792))\n",
    "\n",
    "Previous behavior:"
   ]
  },
  {
   "cell_type": "markdown",
   "metadata": {
    "hide-output": false
   },
   "source": [
    "```ipython\n",
    "In [1]: df = pd.DataFrame({'A': [1, 1, 2, 2], 'B': [1, 2, 3, 4]})\n",
    "\n",
    "In [2]: df.groupby('A').describe()\n",
    "Out[2]:\n",
    "                B\n",
    "A\n",
    "1 count  2.000000\n",
    "  mean   1.500000\n",
    "  std    0.707107\n",
    "  min    1.000000\n",
    "  25%    1.250000\n",
    "  50%    1.500000\n",
    "  75%    1.750000\n",
    "  max    2.000000\n",
    "2 count  2.000000\n",
    "  mean   3.500000\n",
    "  std    0.707107\n",
    "  min    3.000000\n",
    "  25%    3.250000\n",
    "  50%    3.500000\n",
    "  75%    3.750000\n",
    "  max    4.000000\n",
    "\n",
    "In [3]: df.groupby('A').agg([np.mean, np.std, np.min, np.max])\n",
    "Out[3]:\n",
    "     B\n",
    "  mean       std amin amax\n",
    "A\n",
    "1  1.5  0.707107    1    2\n",
    "2  3.5  0.707107    3    4\n",
    "```\n"
   ]
  },
  {
   "cell_type": "markdown",
   "metadata": {},
   "source": [
    "New behavior:\n",
    "\n",
    "\n",
    "<a id='whatsnew-0200-api-breaking-rolling-pairwise'></a>"
   ]
  },
  {
   "cell_type": "markdown",
   "metadata": {},
   "source": [
    "### Window binary corr/cov operations return a MultiIndex DataFrame\n",
    "\n",
    "A binary window operation, like `.corr()` or `.cov()`, when operating on a `.rolling(..)`, `.expanding(..)`, or `.ewm(..)` object,\n",
    "will now return a 2-level `MultiIndexed DataFrame` rather than a `Panel`, as `Panel` is now deprecated,\n",
    "see [here](#whatsnew-0200-api-breaking-deprecate-panel). These are equivalent in function,\n",
    "but a MultiIndexed `DataFrame` enjoys more support in pandas.\n",
    "See the section on [Windowed Binary Operations](user_guide/computation.ipynb#stats-moments-binary) for more information. ([GH15677](https://github.com/pandas-dev/pandas/issues/15677))\n",
    "\n",
    "Previous behavior:"
   ]
  },
  {
   "cell_type": "markdown",
   "metadata": {
    "hide-output": false
   },
   "source": [
    "```ipython\n",
    "In [2]: df.rolling(12).corr()\n",
    "Out[2]:\n",
    "<class 'pandas.core.panel.Panel'>\n",
    "Dimensions: 100 (items) x 2 (major_axis) x 2 (minor_axis)\n",
    "Items axis: 2016-01-01 00:00:00 to 2016-04-09 00:00:00\n",
    "Major_axis axis: A to B\n",
    "Minor_axis axis: A to B\n",
    "```\n"
   ]
  },
  {
   "cell_type": "markdown",
   "metadata": {},
   "source": [
    "New behavior:\n",
    "\n",
    "Retrieving a correlation matrix for a cross-section\n",
    "\n",
    "\n",
    "<a id='whatsnew-0200-api-breaking-hdfstore-where'></a>"
   ]
  },
  {
   "cell_type": "markdown",
   "metadata": {},
   "source": [
    "### HDFStore where string comparison\n",
    "\n",
    "In previous versions most types could be compared to string column in a `HDFStore`\n",
    "usually resulting in an invalid comparison, returning an empty result frame. These comparisons will now raise a\n",
    "`TypeError` ([GH15492](https://github.com/pandas-dev/pandas/issues/15492))\n",
    "\n",
    "Previous behavior:"
   ]
  },
  {
   "cell_type": "markdown",
   "metadata": {
    "hide-output": false
   },
   "source": [
    "```ipython\n",
    "In [4]: pd.read_hdf('store.h5', 'key', where='unparsed_date > ts')\n",
    "File \"<string>\", line 1\n",
    "  (unparsed_date > 1970-01-01 00:00:01.388552400)\n",
    "                        ^\n",
    "SyntaxError: invalid token\n",
    "```\n"
   ]
  },
  {
   "cell_type": "markdown",
   "metadata": {},
   "source": [
    "New behavior:"
   ]
  },
  {
   "cell_type": "markdown",
   "metadata": {
    "hide-output": false
   },
   "source": [
    "```ipython\n",
    "In [18]: ts = pd.Timestamp('2014-01-01')\n",
    "\n",
    "In [19]: pd.read_hdf('store.h5', 'key', where='unparsed_date > ts')\n",
    "TypeError: Cannot compare 2014-01-01 00:00:00 of\n",
    "type <class 'pandas.tslib.Timestamp'> to string column\n",
    "```\n"
   ]
  },
  {
   "cell_type": "markdown",
   "metadata": {},
   "source": [
    "\n",
    "<a id='whatsnew-0200-api-breaking-index-order'></a>"
   ]
  },
  {
   "cell_type": "markdown",
   "metadata": {},
   "source": [
    "### Index.intersection and inner join now preserve the order of the left Index\n",
    "\n",
    "`Index.intersection()` now preserves the order of the calling `Index` (left)\n",
    "instead of the other `Index` (right) ([GH15582](https://github.com/pandas-dev/pandas/issues/15582)). This affects inner\n",
    "joins, `DataFrame.join()` and `merge()`, and the `.align` method.\n",
    "\n",
    "- `Index.intersection`  \n",
    "Previous behavior:  "
   ]
  },
  {
   "cell_type": "markdown",
   "metadata": {
    "hide-output": false
   },
   "source": [
    "```ipython\n",
    "In [4]: left.intersection(right)\n",
    "Out[4]: Int64Index([1, 2], dtype='int64')\n",
    "```\n"
   ]
  },
  {
   "cell_type": "markdown",
   "metadata": {},
   "source": [
    "New behavior:  \n",
    "- `DataFrame.join` and `pd.merge`  \n",
    "Previous behavior:  "
   ]
  },
  {
   "cell_type": "markdown",
   "metadata": {
    "hide-output": false
   },
   "source": [
    "```ipython\n",
    "In [4]: left.join(right, how='inner')\n",
    "Out[4]:\n",
    "   a    b\n",
    "1  10  100\n",
    "2  20  200\n",
    "```\n"
   ]
  },
  {
   "cell_type": "markdown",
   "metadata": {},
   "source": [
    "New behavior:  \n",
    "\n",
    "\n",
    "\n",
    "<a id='whatsnew-0200-api-breaking-pivot-table'></a>"
   ]
  },
  {
   "cell_type": "markdown",
   "metadata": {},
   "source": [
    "### Pivot table always returns a DataFrame\n",
    "\n",
    "The documentation for `pivot_table()` states that a `DataFrame` is *always* returned. Here a bug\n",
    "is fixed that allowed this to return a `Series` under certain circumstance. ([GH4386](https://github.com/pandas-dev/pandas/issues/4386))\n",
    "\n",
    "Previous behavior:"
   ]
  },
  {
   "cell_type": "markdown",
   "metadata": {
    "hide-output": false
   },
   "source": [
    "```ipython\n",
    "In [2]: df.pivot_table('col1', index=['col3', 'col2'], aggfunc=np.sum)\n",
    "Out[2]:\n",
    "col3  col2\n",
    "1     C       3\n",
    "3     D       4\n",
    "9     E       5\n",
    "Name: col1, dtype: int64\n",
    "```\n"
   ]
  },
  {
   "cell_type": "markdown",
   "metadata": {},
   "source": [
    "New behavior:\n",
    "\n",
    "\n",
    "<a id='whatsnew-0200-api'></a>"
   ]
  },
  {
   "cell_type": "markdown",
   "metadata": {},
   "source": [
    "### Other API changes\n",
    "\n",
    "- `numexpr` version is now required to be >= 2.4.6 and it will not be used at all if this requisite is not fulfilled ([GH15213](https://github.com/pandas-dev/pandas/issues/15213)).  \n",
    "- `CParserError` has been renamed to `ParserError` in `pd.read_csv()` and will be removed in the future ([GH12665](https://github.com/pandas-dev/pandas/issues/12665))  \n",
    "- `SparseArray.cumsum()` and `SparseSeries.cumsum()` will now always return `SparseArray` and `SparseSeries` respectively ([GH12855](https://github.com/pandas-dev/pandas/issues/12855))  \n",
    "- `DataFrame.applymap()` with an empty `DataFrame` will return a copy of the empty `DataFrame` instead of a `Series` ([GH8222](https://github.com/pandas-dev/pandas/issues/8222))  \n",
    "- `Series.map()` now respects default values of dictionary subclasses with a `__missing__` method, such as `collections.Counter` ([GH15999](https://github.com/pandas-dev/pandas/issues/15999))  \n",
    "- `.loc` has compat with `.ix` for accepting iterators, and NamedTuples ([GH15120](https://github.com/pandas-dev/pandas/issues/15120))  \n",
    "- `interpolate()` and `fillna()` will raise a `ValueError` if the `limit` keyword argument is not greater than 0. ([GH9217](https://github.com/pandas-dev/pandas/issues/9217))  \n",
    "- `pd.read_csv()` will now issue a `ParserWarning` whenever there are conflicting values provided by the `dialect` parameter and the user ([GH14898](https://github.com/pandas-dev/pandas/issues/14898))  \n",
    "- `pd.read_csv()` will now raise a `ValueError` for the C engine if the quote character is larger than than one byte ([GH11592](https://github.com/pandas-dev/pandas/issues/11592))  \n",
    "- `inplace` arguments now require a boolean value, else a `ValueError` is thrown ([GH14189](https://github.com/pandas-dev/pandas/issues/14189))  \n",
    "- `pandas.api.types.is_datetime64_ns_dtype` will now report `True` on a tz-aware dtype, similar to `pandas.api.types.is_datetime64_any_dtype`  \n",
    "- `DataFrame.asof()` will return a null filled `Series` instead the scalar `NaN` if a match is not found ([GH15118](https://github.com/pandas-dev/pandas/issues/15118))  \n",
    "- Specific support for `copy.copy()` and `copy.deepcopy()` functions on NDFrame objects ([GH15444](https://github.com/pandas-dev/pandas/issues/15444))  \n",
    "- `Series.sort_values()` accepts a one element list of bool for consistency with the behavior of `DataFrame.sort_values()` ([GH15604](https://github.com/pandas-dev/pandas/issues/15604))  \n",
    "- `.merge()` and `.join()` on `category` dtype columns will now preserve the category dtype when possible ([GH10409](https://github.com/pandas-dev/pandas/issues/10409))  \n",
    "- `SparseDataFrame.default_fill_value` will be 0, previously was `nan` in the return from `pd.get_dummies(..., sparse=True)` ([GH15594](https://github.com/pandas-dev/pandas/issues/15594))  \n",
    "- The default behaviour of `Series.str.match` has changed from extracting\n",
    "  groups to matching the pattern. The extracting behaviour was deprecated\n",
    "  since pandas version 0.13.0 and can be done with the `Series.str.extract`\n",
    "  method ([GH5224](https://github.com/pandas-dev/pandas/issues/5224)). As a consequence, the `as_indexer` keyword is\n",
    "  ignored (no longer needed to specify the new behaviour) and is deprecated.  \n",
    "- `NaT` will now correctly report `False` for datetimelike boolean operations such as `is_month_start` ([GH15781](https://github.com/pandas-dev/pandas/issues/15781))  \n",
    "- `NaT` will now correctly return `np.nan` for `Timedelta` and `Period` accessors such as `days` and `quarter` ([GH15782](https://github.com/pandas-dev/pandas/issues/15782))  \n",
    "- `NaT` will now returns `NaT` for `tz_localize` and `tz_convert`\n",
    "  methods ([GH15830](https://github.com/pandas-dev/pandas/issues/15830))  \n",
    "- `DataFrame` and `Panel` constructors with invalid input will now raise `ValueError` rather than `PandasError`, if called with scalar inputs and not axes ([GH15541](https://github.com/pandas-dev/pandas/issues/15541))  \n",
    "- `DataFrame` and `Panel` constructors with invalid input will now raise `ValueError` rather than `pandas.core.common.PandasError`, if called with scalar inputs and not axes; The exception `PandasError` is removed as well. ([GH15541](https://github.com/pandas-dev/pandas/issues/15541))  \n",
    "- The exception `pandas.core.common.AmbiguousIndexError` is removed as it is not referenced ([GH15541](https://github.com/pandas-dev/pandas/issues/15541))  \n",
    "\n",
    "\n",
    "\n",
    "<a id='whatsnew-0200-privacy'></a>"
   ]
  },
  {
   "cell_type": "markdown",
   "metadata": {},
   "source": [
    "## Reorganization of the library: privacy changes\n",
    "\n",
    "\n",
    "<a id='whatsnew-0200-privacy-extensions'></a>"
   ]
  },
  {
   "cell_type": "markdown",
   "metadata": {},
   "source": [
    "### Modules privacy has changed\n",
    "\n",
    "Some formerly public python/c/c++/cython extension modules have been moved and/or renamed. These are all removed from the public API.\n",
    "Furthermore, the `pandas.core`, `pandas.compat`, and `pandas.util` top-level modules are now considered to be PRIVATE.\n",
    "If indicated, a deprecation warning will be issued if you reference theses modules. ([GH12588](https://github.com/pandas-dev/pandas/issues/12588))\n",
    "\n",
    "|Previous Location|New Location|Deprecated|\n",
    "|:----------------------------:|:----------------------------:|:--:|\n",
    "|pandas.lib|pandas._libs.lib|X|\n",
    "|pandas.tslib|pandas._libs.tslib|X|\n",
    "|pandas.computation|pandas.core.computation|X|\n",
    "|pandas.msgpack|pandas.io.msgpack||\n",
    "|pandas.index|pandas._libs.index||\n",
    "|pandas.algos|pandas._libs.algos||\n",
    "|pandas.hashtable|pandas._libs.hashtable||\n",
    "|pandas.indexes|pandas.core.indexes||\n",
    "|pandas.json|pandas._libs.json / pandas.io.json|X|\n",
    "|pandas.parser|pandas._libs.parsers|X|\n",
    "|pandas.formats|pandas.io.formats||\n",
    "|pandas.sparse|pandas.core.sparse||\n",
    "|pandas.tools|pandas.core.reshape|X|\n",
    "|pandas.types|pandas.core.dtypes|X|\n",
    "|pandas.io.sas.saslib|pandas.io.sas._sas||\n",
    "|pandas._join|pandas._libs.join||\n",
    "|pandas._hash|pandas._libs.hashing||\n",
    "|pandas._period|pandas._libs.period||\n",
    "|pandas._sparse|pandas._libs.sparse||\n",
    "|pandas._testing|pandas._libs.testing||\n",
    "|pandas._window|pandas._libs.window||\n",
    "Some new subpackages are created with public functionality that is not directly\n",
    "exposed in the top-level namespace: `pandas.errors`, `pandas.plotting` and\n",
    "`pandas.testing` (more details below). Together with `pandas.api.types` and\n",
    "certain functions in the `pandas.io` and `pandas.tseries` submodules,\n",
    "these are now the public subpackages.\n",
    "\n",
    "Further changes:\n",
    "\n",
    "- The function `union_categoricals()` is now importable from `pandas.api.types`, formerly from `pandas.types.concat` ([GH15998](https://github.com/pandas-dev/pandas/issues/15998))  \n",
    "- The type import `pandas.tslib.NaTType` is deprecated and can be replaced by using `type(pandas.NaT)` ([GH16146](https://github.com/pandas-dev/pandas/issues/16146))  \n",
    "- The public functions in `pandas.tools.hashing` deprecated from that locations, but are now importable from `pandas.util` ([GH16223](https://github.com/pandas-dev/pandas/issues/16223))  \n",
    "- The modules in `pandas.util`: `decorators`, `print_versions`, `doctools`, `validators`, `depr_module` are now private. Only the functions exposed in `pandas.util` itself are public ([GH16223](https://github.com/pandas-dev/pandas/issues/16223))  \n",
    "\n",
    "\n",
    "\n",
    "<a id='whatsnew-0200-privacy-errors'></a>"
   ]
  },
  {
   "cell_type": "markdown",
   "metadata": {},
   "source": [
    "### `pandas.errors`\n",
    "\n",
    "We are adding a standard public module for all pandas exceptions & warnings `pandas.errors`. ([GH14800](https://github.com/pandas-dev/pandas/issues/14800)). Previously\n",
    "these exceptions & warnings could be imported from `pandas.core.common` or `pandas.io.common`. These exceptions and warnings\n",
    "will be removed from the `*.common` locations in a future release. ([GH15541](https://github.com/pandas-dev/pandas/issues/15541))\n",
    "\n",
    "The following are now part of this API:"
   ]
  },
  {
   "cell_type": "code",
   "execution_count": null,
   "metadata": {
    "hide-output": false
   },
   "outputs": [],
   "source": [
    "['DtypeWarning',\n",
    " 'EmptyDataError',\n",
    " 'OutOfBoundsDatetime',\n",
    " 'ParserError',\n",
    " 'ParserWarning',\n",
    " 'PerformanceWarning',\n",
    " 'UnsortedIndexError',\n",
    " 'UnsupportedFunctionCall']"
   ]
  },
  {
   "cell_type": "markdown",
   "metadata": {},
   "source": [
    "\n",
    "<a id='whatsnew-0200-privacy-testing'></a>"
   ]
  },
  {
   "cell_type": "markdown",
   "metadata": {},
   "source": [
    "### `pandas.testing`\n",
    "\n",
    "We are adding a standard module that exposes the public testing functions in `pandas.testing` ([GH9895](https://github.com/pandas-dev/pandas/issues/9895)). Those functions can be used when writing tests for functionality using pandas objects.\n",
    "\n",
    "The following testing functions are now part of this API:\n",
    "\n",
    "- `testing.assert_frame_equal()`  \n",
    "- `testing.assert_series_equal()`  \n",
    "- `testing.assert_index_equal()`  \n",
    "\n",
    "\n",
    "\n",
    "<a id='whatsnew-0200-privacy-plotting'></a>"
   ]
  },
  {
   "cell_type": "markdown",
   "metadata": {},
   "source": [
    "### `pandas.plotting`\n",
    "\n",
    "A new public `pandas.plotting` module has been added that holds plotting functionality that was previously in either `pandas.tools.plotting` or in the top-level namespace. See the [deprecations sections](#whatsnew-0200-privacy-deprecate-plotting) for more details.\n",
    "\n",
    "\n",
    "<a id='whatsnew-0200-privacy-development'></a>"
   ]
  },
  {
   "cell_type": "markdown",
   "metadata": {},
   "source": [
    "### Other Development Changes\n",
    "\n",
    "- Building pandas for development now requires `cython >= 0.23` ([GH14831](https://github.com/pandas-dev/pandas/issues/14831))  \n",
    "- Require at least 0.23 version of cython to avoid problems with character encodings ([GH14699](https://github.com/pandas-dev/pandas/issues/14699))  \n",
    "- Switched the test framework to use [pytest](http://doc.pytest.org/en/latest) ([GH13097](https://github.com/pandas-dev/pandas/issues/13097))  \n",
    "- Reorganization of tests directory layout ([GH14854](https://github.com/pandas-dev/pandas/issues/14854), [GH15707](https://github.com/pandas-dev/pandas/issues/15707)).  \n",
    "\n",
    "\n",
    "\n",
    "<a id='whatsnew-0200-deprecations'></a>"
   ]
  },
  {
   "cell_type": "markdown",
   "metadata": {},
   "source": [
    "## Deprecations\n",
    "\n",
    "\n",
    "<a id='whatsnew-0200-api-breaking-deprecate-ix'></a>"
   ]
  },
  {
   "cell_type": "markdown",
   "metadata": {},
   "source": [
    "### Deprecate `.ix`\n",
    "\n",
    "The `.ix` indexer is deprecated, in favor of the more strict `.iloc` and `.loc` indexers. `.ix` offers a lot of magic on the inference of what the user wants to do. To wit, `.ix` can decide to index *positionally* OR via *labels*, depending on the data type of the index. This has caused quite a bit of user confusion over the years. The full indexing documentation is [here](user_guide/indexing.ipynb#indexing). ([GH14218](https://github.com/pandas-dev/pandas/issues/14218))\n",
    "\n",
    "The recommended methods of indexing are:\n",
    "\n",
    "- `.loc` if you want to *label* index  \n",
    "- `.iloc` if you want to *positionally* index.  \n",
    "\n",
    "\n",
    "Using `.ix` will now show a `DeprecationWarning` with a link to some examples of how to convert code [here](user_guide/indexing.ipynb#indexing-deprecate-ix).\n",
    "\n",
    "Previous behavior, where you wish to get the 0th and the 2nd elements from the index in the ‘A’ column."
   ]
  },
  {
   "cell_type": "markdown",
   "metadata": {
    "hide-output": false
   },
   "source": [
    "```ipython\n",
    "In [3]: df.ix[[0, 2], 'A']\n",
    "Out[3]:\n",
    "a    1\n",
    "c    3\n",
    "Name: A, dtype: int64\n",
    "```\n"
   ]
  },
  {
   "cell_type": "markdown",
   "metadata": {},
   "source": [
    "Using `.loc`. Here we will select the appropriate indexes from the index, then use *label* indexing.\n",
    "\n",
    "Using `.iloc`. Here we will get the location of the ‘A’ column, then use *positional* indexing to select things.\n",
    "\n",
    "\n",
    "<a id='whatsnew-0200-api-breaking-deprecate-panel'></a>"
   ]
  },
  {
   "cell_type": "markdown",
   "metadata": {},
   "source": [
    "### Deprecate Panel\n",
    "\n",
    "`Panel` is deprecated and will be removed in a future version. The recommended way to represent 3-D data are\n",
    "with a `MultiIndex` on a `DataFrame` via the `to_frame()` or with the [xarray package](http://xarray.pydata.org/en/stable/). Pandas\n",
    "provides a `to_xarray()` method to automate this conversion ([GH13563](https://github.com/pandas-dev/pandas/issues/13563))."
   ]
  },
  {
   "cell_type": "markdown",
   "metadata": {
    "hide-output": false
   },
   "source": [
    "```ipython\n",
    "In [133]: import pandas.util.testing as tm\n",
    "\n",
    "In [134]: p = tm.makePanel()\n",
    "\n",
    "In [135]: p\n",
    "Out[135]:\n",
    "<class 'pandas.core.panel.Panel'>\n",
    "Dimensions: 3 (items) x 3 (major_axis) x 4 (minor_axis)\n",
    "Items axis: ItemA to ItemC\n",
    "Major_axis axis: 2000-01-03 00:00:00 to 2000-01-05 00:00:00\n",
    "Minor_axis axis: A to D\n",
    "```\n"
   ]
  },
  {
   "cell_type": "markdown",
   "metadata": {},
   "source": [
    "Convert to a MultiIndex DataFrame"
   ]
  },
  {
   "cell_type": "markdown",
   "metadata": {
    "hide-output": false
   },
   "source": [
    "```ipython\n",
    "In [136]: p.to_frame()\n",
    "Out[136]:\n",
    "                     ItemA     ItemB     ItemC\n",
    "major      minor\n",
    "2000-01-03 A      0.628776 -1.409432  0.209395\n",
    "           B      0.988138 -1.347533 -0.896581\n",
    "           C     -0.938153  1.272395 -0.161137\n",
    "           D     -0.223019 -0.591863 -1.051539\n",
    "2000-01-04 A      0.186494  1.422986 -0.592886\n",
    "           B     -0.072608  0.363565  1.104352\n",
    "           C     -1.239072 -1.449567  0.889157\n",
    "           D      2.123692 -0.414505 -0.319561\n",
    "2000-01-05 A      0.952478 -2.147855 -1.473116\n",
    "           B     -0.550603 -0.014752 -0.431550\n",
    "           C      0.139683 -1.195524  0.288377\n",
    "           D      0.122273 -1.425795 -0.619993\n",
    "\n",
    "[12 rows x 3 columns]\n",
    "```\n"
   ]
  },
  {
   "cell_type": "markdown",
   "metadata": {},
   "source": [
    "Convert to an xarray DataArray"
   ]
  },
  {
   "cell_type": "markdown",
   "metadata": {
    "hide-output": false
   },
   "source": [
    "```ipython\n",
    "In [137]: p.to_xarray()\n",
    "Out[137]:\n",
    "<xarray.DataArray (items: 3, major_axis: 3, minor_axis: 4)>\n",
    "array([[[ 0.628776,  0.988138, -0.938153, -0.223019],\n",
    "        [ 0.186494, -0.072608, -1.239072,  2.123692],\n",
    "        [ 0.952478, -0.550603,  0.139683,  0.122273]],\n",
    "\n",
    "       [[-1.409432, -1.347533,  1.272395, -0.591863],\n",
    "        [ 1.422986,  0.363565, -1.449567, -0.414505],\n",
    "        [-2.147855, -0.014752, -1.195524, -1.425795]],\n",
    "\n",
    "       [[ 0.209395, -0.896581, -0.161137, -1.051539],\n",
    "        [-0.592886,  1.104352,  0.889157, -0.319561],\n",
    "        [-1.473116, -0.43155 ,  0.288377, -0.619993]]])\n",
    "Coordinates:\n",
    "  * items       (items) object 'ItemA' 'ItemB' 'ItemC'\n",
    "  * major_axis  (major_axis) datetime64[ns] 2000-01-03 2000-01-04 2000-01-05\n",
    "  * minor_axis  (minor_axis) object 'A' 'B' 'C' 'D'\n",
    "```\n"
   ]
  },
  {
   "cell_type": "markdown",
   "metadata": {},
   "source": [
    "\n",
    "<a id='whatsnew-0200-api-breaking-deprecate-group-agg-dict'></a>"
   ]
  },
  {
   "cell_type": "markdown",
   "metadata": {},
   "source": [
    "### Deprecate groupby.agg() with a dictionary when renaming\n",
    "\n",
    "The `.groupby(..).agg(..)`, `.rolling(..).agg(..)`, and `.resample(..).agg(..)`  syntax can accept a variable of inputs, including scalars,\n",
    "list, and a dict of column names to scalars or lists. This provides a useful syntax for constructing multiple\n",
    "(potentially different) aggregations.\n",
    "\n",
    "However, `.agg(..)` can *also* accept a dict that allows ‘renaming’ of the result columns. This is a complicated and confusing syntax, as well as not consistent\n",
    "between `Series` and `DataFrame`. We are deprecating this ‘renaming’ functionality.\n",
    "\n",
    "- We are deprecating passing a dict to a grouped/rolled/resampled `Series`. This allowed\n",
    "  one to `rename` the resulting aggregation, but this had a completely different\n",
    "  meaning than passing a dictionary to a grouped `DataFrame`, which accepts column-to-aggregations.  \n",
    "- We are deprecating passing a dict-of-dicts to a grouped/rolled/resampled `DataFrame` in a similar manner.  \n",
    "\n",
    "\n",
    "This is an illustrative example:\n",
    "\n",
    "Here is a typical useful syntax for computing different aggregations for different columns. This\n",
    "is a natural, and useful syntax. We aggregate from the dict-to-list by taking the specified\n",
    "columns and applying the list of functions. This returns a `MultiIndex` for the columns (this is *not* deprecated).\n",
    "\n",
    "Here’s an example of the first deprecation, passing a dict to a grouped `Series`. This\n",
    "is a combination aggregation & renaming:"
   ]
  },
  {
   "cell_type": "markdown",
   "metadata": {
    "hide-output": false
   },
   "source": [
    "```ipython\n",
    "In [6]: df.groupby('A').B.agg({'foo': 'count'})\n",
    "FutureWarning: using a dict on a Series for aggregation\n",
    "is deprecated and will be removed in a future version\n",
    "\n",
    "Out[6]:\n",
    "   foo\n",
    "A\n",
    "1    3\n",
    "2    2\n",
    "```\n"
   ]
  },
  {
   "cell_type": "markdown",
   "metadata": {},
   "source": [
    "You can accomplish the same operation, more idiomatically by:\n",
    "\n",
    "Here’s an example of the second deprecation, passing a dict-of-dict to a grouped `DataFrame`:"
   ]
  },
  {
   "cell_type": "code",
   "execution_count": null,
   "metadata": {
    "hide-output": false
   },
   "outputs": [],
   "source": [
    "In [23]: (df.groupby('A')\n",
    "    ...:    .agg({'B': {'foo': 'sum'}, 'C': {'bar': 'min'}})\n",
    "    ...:  )\n",
    "FutureWarning: using a dict with renaming is deprecated and\n",
    "will be removed in a future version\n",
    "\n",
    "Out[23]:\n",
    "     B   C\n",
    "   foo bar\n",
    "A\n",
    "1   3   0\n",
    "2   7   3"
   ]
  },
  {
   "cell_type": "markdown",
   "metadata": {},
   "source": [
    "You can accomplish nearly the same by:\n",
    "\n",
    "\n",
    "<a id='whatsnew-0200-privacy-deprecate-plotting'></a>"
   ]
  },
  {
   "cell_type": "markdown",
   "metadata": {},
   "source": [
    "### Deprecate .plotting\n",
    "\n",
    "The `pandas.tools.plotting` module has been deprecated,  in favor of the top level `pandas.plotting` module. All the public plotting functions are now available\n",
    "from `pandas.plotting` ([GH12548](https://github.com/pandas-dev/pandas/issues/12548)).\n",
    "\n",
    "Furthermore, the top-level `pandas.scatter_matrix` and `pandas.plot_params` are deprecated.\n",
    "Users can import these from `pandas.plotting` as well.\n",
    "\n",
    "Previous script:"
   ]
  },
  {
   "cell_type": "code",
   "execution_count": null,
   "metadata": {
    "hide-output": false
   },
   "outputs": [],
   "source": [
    "pd.tools.plotting.scatter_matrix(df)\n",
    "pd.scatter_matrix(df)"
   ]
  },
  {
   "cell_type": "markdown",
   "metadata": {},
   "source": [
    "Should be changed to:"
   ]
  },
  {
   "cell_type": "code",
   "execution_count": null,
   "metadata": {
    "hide-output": false
   },
   "outputs": [],
   "source": [
    "pd.plotting.scatter_matrix(df)"
   ]
  },
  {
   "cell_type": "markdown",
   "metadata": {},
   "source": [
    "\n",
    "<a id='whatsnew-0200-deprecations-other'></a>"
   ]
  },
  {
   "cell_type": "markdown",
   "metadata": {},
   "source": [
    "### Other deprecations\n",
    "\n",
    "- `SparseArray.to_dense()` has deprecated the `fill` parameter, as that parameter was not being respected ([GH14647](https://github.com/pandas-dev/pandas/issues/14647))  \n",
    "- `SparseSeries.to_dense()` has deprecated the `sparse_only` parameter ([GH14647](https://github.com/pandas-dev/pandas/issues/14647))  \n",
    "- `Series.repeat()` has deprecated the `reps` parameter in favor of `repeats` ([GH12662](https://github.com/pandas-dev/pandas/issues/12662))  \n",
    "- The `Series` constructor and `.astype` method have deprecated accepting timestamp dtypes without a frequency (e.g. `np.datetime64`) for the `dtype` parameter ([GH15524](https://github.com/pandas-dev/pandas/issues/15524))  \n",
    "- `Index.repeat()` and `MultiIndex.repeat()` have deprecated the `n` parameter in favor of `repeats` ([GH12662](https://github.com/pandas-dev/pandas/issues/12662))  \n",
    "- `Categorical.searchsorted()` and `Series.searchsorted()` have deprecated the `v` parameter in favor of `value` ([GH12662](https://github.com/pandas-dev/pandas/issues/12662))  \n",
    "- `TimedeltaIndex.searchsorted()`, `DatetimeIndex.searchsorted()`, and `PeriodIndex.searchsorted()` have deprecated the `key` parameter in favor of `value` ([GH12662](https://github.com/pandas-dev/pandas/issues/12662))  \n",
    "- `DataFrame.astype()` has deprecated the `raise_on_error` parameter in favor of `errors` ([GH14878](https://github.com/pandas-dev/pandas/issues/14878))  \n",
    "- `Series.sortlevel` and `DataFrame.sortlevel` have been deprecated in favor of `Series.sort_index` and `DataFrame.sort_index` ([GH15099](https://github.com/pandas-dev/pandas/issues/15099))  \n",
    "- importing `concat` from `pandas.tools.merge` has been deprecated in favor of imports from the `pandas` namespace. This should only affect explicit imports ([GH15358](https://github.com/pandas-dev/pandas/issues/15358))  \n",
    "- `Series/DataFrame/Panel.consolidate()` been deprecated as a public method. ([GH15483](https://github.com/pandas-dev/pandas/issues/15483))  \n",
    "- The `as_indexer` keyword of `Series.str.match()` has been deprecated (ignored keyword) ([GH15257](https://github.com/pandas-dev/pandas/issues/15257)).  \n",
    "- The following top-level pandas functions have been deprecated and will be removed in a future version ([GH13790](https://github.com/pandas-dev/pandas/issues/13790), [GH15940](https://github.com/pandas-dev/pandas/issues/15940))  \n",
    "  - `pd.pnow()`, replaced by `Period.now()`  \n",
    "  - `pd.Term`, is removed, as it is not applicable to user code. Instead use in-line string expressions in the where clause when searching in HDFStore  \n",
    "  - `pd.Expr`, is removed, as it is not applicable to user code.  \n",
    "  - `pd.match()`, is removed.  \n",
    "  - `pd.groupby()`, replaced by using the `.groupby()` method directly on a `Series/DataFrame`  \n",
    "  - `pd.get_store()`, replaced by a direct call to `pd.HDFStore(...)`  \n",
    "- `is_any_int_dtype`, `is_floating_dtype`, and `is_sequence` are deprecated from `pandas.api.types` ([GH16042](https://github.com/pandas-dev/pandas/issues/16042))  \n",
    "\n",
    "\n",
    "\n",
    "<a id='whatsnew-0200-prior-deprecations'></a>"
   ]
  },
  {
   "cell_type": "markdown",
   "metadata": {},
   "source": [
    "## Removal of prior version deprecations/changes\n",
    "\n",
    "- The `pandas.rpy` module is removed. Similar functionality can be accessed\n",
    "  through the [rpy2](https://rpy2.readthedocs.io/) project.\n",
    "  See the [R interfacing docs](https://pandas.pydata.org/pandas-docs/version/0.20/r_interface.html) for more details.  \n",
    "- The `pandas.io.ga` module with a `google-analytics` interface is removed ([GH11308](https://github.com/pandas-dev/pandas/issues/11308)).\n",
    "  Similar functionality can be found in the [Google2Pandas](https://github.com/panalysis/Google2Pandas) package.  \n",
    "- `pd.to_datetime` and `pd.to_timedelta` have dropped the `coerce` parameter in favor of `errors` ([GH13602](https://github.com/pandas-dev/pandas/issues/13602))  \n",
    "- `pandas.stats.fama_macbeth`, `pandas.stats.ols`, `pandas.stats.plm` and `pandas.stats.var`, as well as the top-level `pandas.fama_macbeth` and `pandas.ols` routines are removed. Similar functionality can be found in the [statsmodels](https://www.statsmodels.org/dev/) package. ([GH11898](https://github.com/pandas-dev/pandas/issues/11898))  \n",
    "- The `TimeSeries` and `SparseTimeSeries` classes, aliases of `Series`\n",
    "  and `SparseSeries`, are removed ([GH10890](https://github.com/pandas-dev/pandas/issues/10890), [GH15098](https://github.com/pandas-dev/pandas/issues/15098)).  \n",
    "- `Series.is_time_series` is dropped in favor of `Series.index.is_all_dates` ([GH15098](https://github.com/pandas-dev/pandas/issues/15098))  \n",
    "- The deprecated `irow`, `icol`, `iget` and `iget_value` methods are removed\n",
    "  in favor of `iloc` and `iat` as explained [here](v0.17.0#whatsnew-0170-deprecations) ([GH10711](https://github.com/pandas-dev/pandas/issues/10711)).  \n",
    "- The deprecated `DataFrame.iterkv()` has been removed in favor of `DataFrame.iteritems()` ([GH10711](https://github.com/pandas-dev/pandas/issues/10711))  \n",
    "- The `Categorical` constructor has dropped the `name` parameter ([GH10632](https://github.com/pandas-dev/pandas/issues/10632))  \n",
    "- `Categorical` has dropped support for `NaN` categories ([GH10748](https://github.com/pandas-dev/pandas/issues/10748))  \n",
    "- The `take_last` parameter has been dropped from `duplicated()`, `drop_duplicates()`, `nlargest()`, and `nsmallest()` methods ([GH10236](https://github.com/pandas-dev/pandas/issues/10236), [GH10792](https://github.com/pandas-dev/pandas/issues/10792), [GH10920](https://github.com/pandas-dev/pandas/issues/10920))  \n",
    "- `Series`, `Index`, and `DataFrame` have dropped the `sort` and `order` methods ([GH10726](https://github.com/pandas-dev/pandas/issues/10726))  \n",
    "- Where clauses in `pytables` are only accepted as strings and expressions types and not other data-types ([GH12027](https://github.com/pandas-dev/pandas/issues/12027))  \n",
    "- `DataFrame` has dropped the `combineAdd` and `combineMult` methods in favor of `add` and `mul` respectively ([GH10735](https://github.com/pandas-dev/pandas/issues/10735))  \n",
    "\n",
    "\n",
    "\n",
    "<a id='whatsnew-0200-performance'></a>"
   ]
  },
  {
   "cell_type": "markdown",
   "metadata": {},
   "source": [
    "## Performance improvements\n",
    "\n",
    "- Improved performance of `pd.wide_to_long()` ([GH14779](https://github.com/pandas-dev/pandas/issues/14779))  \n",
    "- Improved performance of `pd.factorize()` by releasing the GIL with `object` dtype when inferred as strings ([GH14859](https://github.com/pandas-dev/pandas/issues/14859), [GH16057](https://github.com/pandas-dev/pandas/issues/16057))  \n",
    "- Improved performance of timeseries plotting with an irregular DatetimeIndex\n",
    "  (or with `compat_x=True`) ([GH15073](https://github.com/pandas-dev/pandas/issues/15073)).  \n",
    "- Improved performance of `groupby().cummin()` and `groupby().cummax()` ([GH15048](https://github.com/pandas-dev/pandas/issues/15048), [GH15109](https://github.com/pandas-dev/pandas/issues/15109), [GH15561](https://github.com/pandas-dev/pandas/issues/15561), [GH15635](https://github.com/pandas-dev/pandas/issues/15635))  \n",
    "- Improved performance and reduced memory when indexing with a `MultiIndex` ([GH15245](https://github.com/pandas-dev/pandas/issues/15245))  \n",
    "- When reading buffer object in `read_sas()` method without specified format, filepath string is inferred rather than buffer object. ([GH14947](https://github.com/pandas-dev/pandas/issues/14947))  \n",
    "- Improved performance of `.rank()` for categorical data ([GH15498](https://github.com/pandas-dev/pandas/issues/15498))  \n",
    "- Improved performance when using `.unstack()` ([GH15503](https://github.com/pandas-dev/pandas/issues/15503))  \n",
    "- Improved performance of merge/join on `category` columns ([GH10409](https://github.com/pandas-dev/pandas/issues/10409))  \n",
    "- Improved performance of `drop_duplicates()` on `bool` columns ([GH12963](https://github.com/pandas-dev/pandas/issues/12963))  \n",
    "- Improve performance of `pd.core.groupby.GroupBy.apply` when the applied\n",
    "  function used the `.name` attribute of the group DataFrame ([GH15062](https://github.com/pandas-dev/pandas/issues/15062)).  \n",
    "- Improved performance of `iloc` indexing with a list or array ([GH15504](https://github.com/pandas-dev/pandas/issues/15504)).  \n",
    "- Improved performance of `Series.sort_index()` with a monotonic index ([GH15694](https://github.com/pandas-dev/pandas/issues/15694))  \n",
    "- Improved performance in `pd.read_csv()` on some platforms with buffered reads ([GH16039](https://github.com/pandas-dev/pandas/issues/16039))  \n",
    "\n",
    "\n",
    "\n",
    "<a id='whatsnew-0200-bug-fixes'></a>"
   ]
  },
  {
   "cell_type": "markdown",
   "metadata": {},
   "source": [
    "## Bug fixes"
   ]
  },
  {
   "cell_type": "markdown",
   "metadata": {},
   "source": [
    "### Conversion\n",
    "\n",
    "- Bug in `Timestamp.replace` now raises `TypeError` when incorrect argument names are given; previously this raised `ValueError` ([GH15240](https://github.com/pandas-dev/pandas/issues/15240))  \n",
    "- Bug in `Timestamp.replace` with compat for passing long integers ([GH15030](https://github.com/pandas-dev/pandas/issues/15030))  \n",
    "- Bug in `Timestamp` returning UTC based time/date attributes when a timezone was provided ([GH13303](https://github.com/pandas-dev/pandas/issues/13303), [GH6538](https://github.com/pandas-dev/pandas/issues/6538))  \n",
    "- Bug in `Timestamp` incorrectly localizing timezones during construction ([GH11481](https://github.com/pandas-dev/pandas/issues/11481), [GH15777](https://github.com/pandas-dev/pandas/issues/15777))  \n",
    "- Bug in `TimedeltaIndex` addition where overflow was being allowed without error ([GH14816](https://github.com/pandas-dev/pandas/issues/14816))  \n",
    "- Bug in `TimedeltaIndex` raising a `ValueError` when boolean indexing with `loc` ([GH14946](https://github.com/pandas-dev/pandas/issues/14946))  \n",
    "- Bug in catching an overflow in `Timestamp` + `Timedelta/Offset` operations ([GH15126](https://github.com/pandas-dev/pandas/issues/15126))  \n",
    "- Bug in `DatetimeIndex.round()` and `Timestamp.round()` floating point accuracy when rounding by milliseconds or less ([GH14440](https://github.com/pandas-dev/pandas/issues/14440), [GH15578](https://github.com/pandas-dev/pandas/issues/15578))  \n",
    "- Bug in `astype()` where `inf` values were incorrectly converted to integers. Now raises error now with `astype()` for Series and DataFrames ([GH14265](https://github.com/pandas-dev/pandas/issues/14265))  \n",
    "- Bug in `DataFrame(..).apply(to_numeric)` when values are of type decimal.Decimal. ([GH14827](https://github.com/pandas-dev/pandas/issues/14827))  \n",
    "- Bug in `describe()` when passing a numpy array which does not contain the median to the `percentiles` keyword argument ([GH14908](https://github.com/pandas-dev/pandas/issues/14908))  \n",
    "- Cleaned up `PeriodIndex` constructor, including raising on floats more consistently ([GH13277](https://github.com/pandas-dev/pandas/issues/13277))  \n",
    "- Bug in using `__deepcopy__` on empty NDFrame objects ([GH15370](https://github.com/pandas-dev/pandas/issues/15370))  \n",
    "- Bug in `.replace()` may result in incorrect dtypes. ([GH12747](https://github.com/pandas-dev/pandas/issues/12747), [GH15765](https://github.com/pandas-dev/pandas/issues/15765))  \n",
    "- Bug in `Series.replace` and `DataFrame.replace` which failed on empty replacement dicts ([GH15289](https://github.com/pandas-dev/pandas/issues/15289))  \n",
    "- Bug in `Series.replace` which replaced a numeric by string ([GH15743](https://github.com/pandas-dev/pandas/issues/15743))  \n",
    "- Bug in `Index` construction with `NaN` elements and integer dtype specified ([GH15187](https://github.com/pandas-dev/pandas/issues/15187))  \n",
    "- Bug in `Series` construction with a datetimetz ([GH14928](https://github.com/pandas-dev/pandas/issues/14928))  \n",
    "- Bug in `Series.dt.round()` inconsistent behaviour on `NaT` ‘s with different arguments ([GH14940](https://github.com/pandas-dev/pandas/issues/14940))  \n",
    "- Bug in `Series` constructor when both `copy=True` and `dtype` arguments are provided ([GH15125](https://github.com/pandas-dev/pandas/issues/15125))  \n",
    "- Incorrect dtyped `Series` was returned by comparison methods (e.g., `lt`, `gt`, …) against a constant for an empty `DataFrame` ([GH15077](https://github.com/pandas-dev/pandas/issues/15077))  \n",
    "- Bug in `Series.ffill()` with mixed dtypes containing tz-aware datetimes. ([GH14956](https://github.com/pandas-dev/pandas/issues/14956))  \n",
    "- Bug in `DataFrame.fillna()` where the argument `downcast` was ignored when fillna value was of type `dict` ([GH15277](https://github.com/pandas-dev/pandas/issues/15277))  \n",
    "- Bug in `.asfreq()`, where frequency was not set for empty `Series` ([GH14320](https://github.com/pandas-dev/pandas/issues/14320))  \n",
    "- Bug in `DataFrame` construction with nulls and datetimes in a list-like ([GH15869](https://github.com/pandas-dev/pandas/issues/15869))  \n",
    "- Bug in `DataFrame.fillna()` with tz-aware datetimes ([GH15855](https://github.com/pandas-dev/pandas/issues/15855))  \n",
    "- Bug in `is_string_dtype`, `is_timedelta64_ns_dtype`, and `is_string_like_dtype` in which an error was raised when `None` was passed in ([GH15941](https://github.com/pandas-dev/pandas/issues/15941))  \n",
    "- Bug in the return type of `pd.unique` on a `Categorical`, which was returning an ndarray and not a `Categorical` ([GH15903](https://github.com/pandas-dev/pandas/issues/15903))  \n",
    "- Bug in `Index.to_series()` where the index was not copied (and so mutating later would change the original), ([GH15949](https://github.com/pandas-dev/pandas/issues/15949))  \n",
    "- Bug in indexing with partial string indexing with a len-1 DataFrame ([GH16071](https://github.com/pandas-dev/pandas/issues/16071))  \n",
    "- Bug in `Series` construction where passing invalid dtype didn’t raise an error. ([GH15520](https://github.com/pandas-dev/pandas/issues/15520))  "
   ]
  },
  {
   "cell_type": "markdown",
   "metadata": {},
   "source": [
    "### Indexing\n",
    "\n",
    "- Bug in `Index` power operations with reversed operands ([GH14973](https://github.com/pandas-dev/pandas/issues/14973))  \n",
    "- Bug in `DataFrame.sort_values()` when sorting by multiple columns where one column is of type `int64` and contains `NaT` ([GH14922](https://github.com/pandas-dev/pandas/issues/14922))  \n",
    "- Bug in `DataFrame.reindex()` in which `method` was ignored when passing `columns` ([GH14992](https://github.com/pandas-dev/pandas/issues/14992))  \n",
    "- Bug in `DataFrame.loc` with indexing a `MultiIndex` with a `Series` indexer ([GH14730](https://github.com/pandas-dev/pandas/issues/14730), [GH15424](https://github.com/pandas-dev/pandas/issues/15424))  \n",
    "- Bug in `DataFrame.loc` with indexing a `MultiIndex` with a numpy array ([GH15434](https://github.com/pandas-dev/pandas/issues/15434))  \n",
    "- Bug in `Series.asof` which raised if the series contained all `np.nan` ([GH15713](https://github.com/pandas-dev/pandas/issues/15713))  \n",
    "- Bug in `.at` when selecting from a tz-aware column ([GH15822](https://github.com/pandas-dev/pandas/issues/15822))  \n",
    "- Bug in `Series.where()` and `DataFrame.where()` where array-like conditionals were being rejected ([GH15414](https://github.com/pandas-dev/pandas/issues/15414))  \n",
    "- Bug in `Series.where()` where TZ-aware data was converted to float representation ([GH15701](https://github.com/pandas-dev/pandas/issues/15701))  \n",
    "- Bug in `.loc` that would not return the correct dtype for scalar access for a DataFrame ([GH11617](https://github.com/pandas-dev/pandas/issues/11617))  \n",
    "- Bug in output formatting of a `MultiIndex` when names are integers ([GH12223](https://github.com/pandas-dev/pandas/issues/12223), [GH15262](https://github.com/pandas-dev/pandas/issues/15262))  \n",
    "- Bug in `Categorical.searchsorted()` where alphabetical instead of the provided categorical order was used ([GH14522](https://github.com/pandas-dev/pandas/issues/14522))  \n",
    "- Bug in `Series.iloc` where a `Categorical` object for list-like indexes input was returned, where a `Series` was expected. ([GH14580](https://github.com/pandas-dev/pandas/issues/14580))  \n",
    "- Bug in `DataFrame.isin` comparing datetimelike to empty frame ([GH15473](https://github.com/pandas-dev/pandas/issues/15473))  \n",
    "- Bug in `.reset_index()` when an all `NaN` level of a `MultiIndex` would fail ([GH6322](https://github.com/pandas-dev/pandas/issues/6322))  \n",
    "- Bug in `.reset_index()` when raising error for index name already present in `MultiIndex` columns ([GH16120](https://github.com/pandas-dev/pandas/issues/16120))  \n",
    "- Bug in creating a `MultiIndex` with tuples and not passing a list of names; this will now raise `ValueError` ([GH15110](https://github.com/pandas-dev/pandas/issues/15110))  \n",
    "- Bug in the HTML display with with a `MultiIndex` and truncation ([GH14882](https://github.com/pandas-dev/pandas/issues/14882))  \n",
    "- Bug in the display of `.info()` where a qualifier (+) would always be displayed with a `MultiIndex` that contains only non-strings ([GH15245](https://github.com/pandas-dev/pandas/issues/15245))  \n",
    "- Bug in `pd.concat()` where the names of `MultiIndex` of resulting `DataFrame` are not handled correctly when `None` is presented in the names of `MultiIndex` of input `DataFrame` ([GH15787](https://github.com/pandas-dev/pandas/issues/15787))  \n",
    "- Bug in `DataFrame.sort_index()` and `Series.sort_index()` where `na_position` doesn’t work with a `MultiIndex` ([GH14784](https://github.com/pandas-dev/pandas/issues/14784), [GH16604](https://github.com/pandas-dev/pandas/issues/16604))  \n",
    "- Bug in in `pd.concat()` when combining objects with a `CategoricalIndex` ([GH16111](https://github.com/pandas-dev/pandas/issues/16111))  \n",
    "- Bug in indexing with a scalar and a `CategoricalIndex` ([GH16123](https://github.com/pandas-dev/pandas/issues/16123))  "
   ]
  },
  {
   "cell_type": "markdown",
   "metadata": {},
   "source": [
    "### I/O\n",
    "\n",
    "- Bug in `pd.to_numeric()` in which float and unsigned integer elements were being improperly casted ([GH14941](https://github.com/pandas-dev/pandas/issues/14941), [GH15005](https://github.com/pandas-dev/pandas/issues/15005))  \n",
    "- Bug in `pd.read_fwf()` where the skiprows parameter was not being respected during column width inference ([GH11256](https://github.com/pandas-dev/pandas/issues/11256))  \n",
    "- Bug in `pd.read_csv()` in which the `dialect` parameter was not being verified before processing ([GH14898](https://github.com/pandas-dev/pandas/issues/14898))  \n",
    "- Bug in `pd.read_csv()` in which missing data was being improperly handled with `usecols` ([GH6710](https://github.com/pandas-dev/pandas/issues/6710))  \n",
    "- Bug in `pd.read_csv()` in which a file containing a row with many columns followed by rows with fewer columns would cause a crash ([GH14125](https://github.com/pandas-dev/pandas/issues/14125))  \n",
    "- Bug in `pd.read_csv()` for the C engine where `usecols` were being indexed incorrectly with `parse_dates` ([GH14792](https://github.com/pandas-dev/pandas/issues/14792))  \n",
    "- Bug in `pd.read_csv()` with `parse_dates` when multi-line headers are specified ([GH15376](https://github.com/pandas-dev/pandas/issues/15376))  \n",
    "- Bug in `pd.read_csv()` with `float_precision='round_trip'` which caused a segfault when a text entry is parsed ([GH15140](https://github.com/pandas-dev/pandas/issues/15140))  \n",
    "- Bug in `pd.read_csv()` when an index was specified and no values were specified as null values ([GH15835](https://github.com/pandas-dev/pandas/issues/15835))  \n",
    "- Bug in `pd.read_csv()` in which certain invalid file objects caused the Python interpreter to crash ([GH15337](https://github.com/pandas-dev/pandas/issues/15337))  \n",
    "- Bug in `pd.read_csv()` in which invalid values for `nrows` and `chunksize` were allowed ([GH15767](https://github.com/pandas-dev/pandas/issues/15767))  \n",
    "- Bug in `pd.read_csv()` for the Python engine in which unhelpful error messages were being raised when parsing errors occurred ([GH15910](https://github.com/pandas-dev/pandas/issues/15910))  \n",
    "- Bug in `pd.read_csv()` in which the `skipfooter` parameter was not being properly validated ([GH15925](https://github.com/pandas-dev/pandas/issues/15925))  \n",
    "- Bug in `pd.to_csv()` in which there was numeric overflow when a timestamp index was being written ([GH15982](https://github.com/pandas-dev/pandas/issues/15982))  \n",
    "- Bug in `pd.util.hashing.hash_pandas_object()` in which hashing of categoricals depended on the ordering of categories, instead of just their values. ([GH15143](https://github.com/pandas-dev/pandas/issues/15143))  \n",
    "- Bug in `.to_json()` where `lines=True` and contents (keys or values) contain escaped characters ([GH15096](https://github.com/pandas-dev/pandas/issues/15096))  \n",
    "- Bug in `.to_json()` causing single byte ascii characters to be expanded to four byte unicode ([GH15344](https://github.com/pandas-dev/pandas/issues/15344))  \n",
    "- Bug in `.to_json()` for the C engine where rollover was not correctly handled for case where frac is odd and diff is exactly 0.5 ([GH15716](https://github.com/pandas-dev/pandas/issues/15716), [GH15864](https://github.com/pandas-dev/pandas/issues/15864))  \n",
    "- Bug in `pd.read_json()` for Python 2 where `lines=True` and contents contain non-ascii unicode characters ([GH15132](https://github.com/pandas-dev/pandas/issues/15132))  \n",
    "- Bug in `pd.read_msgpack()` in which `Series` categoricals were being improperly processed ([GH14901](https://github.com/pandas-dev/pandas/issues/14901))  \n",
    "- Bug in `pd.read_msgpack()` which did not allow loading of a dataframe with an index of type `CategoricalIndex` ([GH15487](https://github.com/pandas-dev/pandas/issues/15487))  \n",
    "- Bug in `pd.read_msgpack()` when deserializing a `CategoricalIndex` ([GH15487](https://github.com/pandas-dev/pandas/issues/15487))  \n",
    "- Bug in `DataFrame.to_records()` with converting a `DatetimeIndex` with a timezone ([GH13937](https://github.com/pandas-dev/pandas/issues/13937))  \n",
    "- Bug in `DataFrame.to_records()` which failed with unicode characters in column names ([GH11879](https://github.com/pandas-dev/pandas/issues/11879))  \n",
    "- Bug in `.to_sql()` when writing a DataFrame with numeric index names ([GH15404](https://github.com/pandas-dev/pandas/issues/15404)).  \n",
    "- Bug in `DataFrame.to_html()` with `index=False` and `max_rows` raising in `IndexError` ([GH14998](https://github.com/pandas-dev/pandas/issues/14998))  \n",
    "- Bug in `pd.read_hdf()` passing a `Timestamp` to the `where` parameter with a non date column ([GH15492](https://github.com/pandas-dev/pandas/issues/15492))  \n",
    "- Bug in `DataFrame.to_stata()` and `StataWriter` which produces incorrectly formatted files to be produced for some locales ([GH13856](https://github.com/pandas-dev/pandas/issues/13856))  \n",
    "- Bug in `StataReader` and `StataWriter` which allows invalid encodings ([GH15723](https://github.com/pandas-dev/pandas/issues/15723))  \n",
    "- Bug in the `Series` repr not showing the length when the output was truncated ([GH15962](https://github.com/pandas-dev/pandas/issues/15962)).  "
   ]
  },
  {
   "cell_type": "markdown",
   "metadata": {},
   "source": [
    "### Plotting\n",
    "\n",
    "- Bug in `DataFrame.hist` where `plt.tight_layout` caused an `AttributeError`  (use `matplotlib >= 2.0.1`) ([GH9351](https://github.com/pandas-dev/pandas/issues/9351))  \n",
    "- Bug in `DataFrame.boxplot` where `fontsize` was not applied to the tick labels on both axes ([GH15108](https://github.com/pandas-dev/pandas/issues/15108))  \n",
    "- Bug in the date and time converters pandas registers with matplotlib not handling multiple dimensions ([GH16026](https://github.com/pandas-dev/pandas/issues/16026))  \n",
    "- Bug in `pd.scatter_matrix()` could accept either `color` or `c`, but not both ([GH14855](https://github.com/pandas-dev/pandas/issues/14855))  "
   ]
  },
  {
   "cell_type": "markdown",
   "metadata": {},
   "source": [
    "### Groupby/resample/rolling\n",
    "\n",
    "- Bug in `.groupby(..).resample()` when passed the `on=` kwarg. ([GH15021](https://github.com/pandas-dev/pandas/issues/15021))  \n",
    "- Properly set `__name__` and `__qualname__` for `Groupby.*` functions ([GH14620](https://github.com/pandas-dev/pandas/issues/14620))  \n",
    "- Bug in `GroupBy.get_group()` failing with a categorical grouper ([GH15155](https://github.com/pandas-dev/pandas/issues/15155))  \n",
    "- Bug in `.groupby(...).rolling(...)` when `on` is specified and using a `DatetimeIndex` ([GH15130](https://github.com/pandas-dev/pandas/issues/15130), [GH13966](https://github.com/pandas-dev/pandas/issues/13966))  \n",
    "- Bug in groupby operations with `timedelta64` when passing `numeric_only=False` ([GH5724](https://github.com/pandas-dev/pandas/issues/5724))  \n",
    "- Bug in `groupby.apply()` coercing `object` dtypes to numeric types, when not all values were numeric ([GH14423](https://github.com/pandas-dev/pandas/issues/14423), [GH15421](https://github.com/pandas-dev/pandas/issues/15421), [GH15670](https://github.com/pandas-dev/pandas/issues/15670))  \n",
    "- Bug in `resample`, where a non-string `loffset` argument would not be applied when resampling a timeseries ([GH13218](https://github.com/pandas-dev/pandas/issues/13218))  \n",
    "- Bug in `DataFrame.groupby().describe()` when grouping on `Index` containing tuples ([GH14848](https://github.com/pandas-dev/pandas/issues/14848))  \n",
    "- Bug in `groupby().nunique()` with a datetimelike-grouper where bins counts were incorrect ([GH13453](https://github.com/pandas-dev/pandas/issues/13453))  \n",
    "- Bug in `groupby.transform()` that would coerce the resultant dtypes back to the original ([GH10972](https://github.com/pandas-dev/pandas/issues/10972), [GH11444](https://github.com/pandas-dev/pandas/issues/11444))  \n",
    "- Bug in `groupby.agg()` incorrectly localizing timezone on `datetime` ([GH15426](https://github.com/pandas-dev/pandas/issues/15426), [GH10668](https://github.com/pandas-dev/pandas/issues/10668), [GH13046](https://github.com/pandas-dev/pandas/issues/13046))  \n",
    "- Bug in `.rolling/expanding()` functions where `count()` was not counting `np.Inf`, nor handling `object` dtypes ([GH12541](https://github.com/pandas-dev/pandas/issues/12541))  \n",
    "- Bug in `.rolling()` where `pd.Timedelta` or `datetime.timedelta` was not accepted as a `window` argument ([GH15440](https://github.com/pandas-dev/pandas/issues/15440))  \n",
    "- Bug in `Rolling.quantile` function that caused a segmentation fault when called with a quantile value outside of the range [0, 1] ([GH15463](https://github.com/pandas-dev/pandas/issues/15463))  \n",
    "- Bug in `DataFrame.resample().median()` if duplicate column names are present ([GH14233](https://github.com/pandas-dev/pandas/issues/14233))  "
   ]
  },
  {
   "cell_type": "markdown",
   "metadata": {},
   "source": [
    "### Sparse\n",
    "\n",
    "- Bug in `SparseSeries.reindex` on single level with list of length 1 ([GH15447](https://github.com/pandas-dev/pandas/issues/15447))  \n",
    "- Bug in repr-formatting a `SparseDataFrame` after a value was set on (a copy of) one of its series ([GH15488](https://github.com/pandas-dev/pandas/issues/15488))  \n",
    "- Bug in `SparseDataFrame` construction with lists not coercing to dtype ([GH15682](https://github.com/pandas-dev/pandas/issues/15682))  \n",
    "- Bug in sparse array indexing in which indices were not being validated ([GH15863](https://github.com/pandas-dev/pandas/issues/15863))  "
   ]
  },
  {
   "cell_type": "markdown",
   "metadata": {},
   "source": [
    "### Reshaping\n",
    "\n",
    "- Bug in `pd.merge_asof()` where `left_index` or `right_index` caused a failure when multiple `by` was specified ([GH15676](https://github.com/pandas-dev/pandas/issues/15676))  \n",
    "- Bug in `pd.merge_asof()` where `left_index`/`right_index` together caused a failure when `tolerance` was specified ([GH15135](https://github.com/pandas-dev/pandas/issues/15135))  \n",
    "- Bug in `DataFrame.pivot_table()` where `dropna=True` would not drop all-NaN columns when the columns was a `category` dtype ([GH15193](https://github.com/pandas-dev/pandas/issues/15193))  \n",
    "- Bug in `pd.melt()` where passing a tuple value for `value_vars` caused a `TypeError` ([GH15348](https://github.com/pandas-dev/pandas/issues/15348))  \n",
    "- Bug in `pd.pivot_table()` where no error was raised when values argument was not in the columns ([GH14938](https://github.com/pandas-dev/pandas/issues/14938))  \n",
    "- Bug in `pd.concat()` in which concatenating with an empty dataframe with `join='inner'` was being improperly handled ([GH15328](https://github.com/pandas-dev/pandas/issues/15328))  \n",
    "- Bug with `sort=True` in `DataFrame.join` and `pd.merge` when joining on indexes ([GH15582](https://github.com/pandas-dev/pandas/issues/15582))  \n",
    "- Bug in `DataFrame.nsmallest` and `DataFrame.nlargest` where identical values resulted in duplicated rows ([GH15297](https://github.com/pandas-dev/pandas/issues/15297))  \n",
    "- Bug in `pandas.pivot_table()` incorrectly raising `UnicodeError` when passing unicode input for `margins` keyword ([GH13292](https://github.com/pandas-dev/pandas/issues/13292))  "
   ]
  },
  {
   "cell_type": "markdown",
   "metadata": {},
   "source": [
    "### Numeric\n",
    "\n",
    "- Bug in `.rank()` which incorrectly ranks ordered categories ([GH15420](https://github.com/pandas-dev/pandas/issues/15420))  \n",
    "- Bug in `.corr()` and `.cov()` where the column and index were the same object ([GH14617](https://github.com/pandas-dev/pandas/issues/14617))  \n",
    "- Bug in `.mode()` where `mode` was not returned if was only a single value ([GH15714](https://github.com/pandas-dev/pandas/issues/15714))  \n",
    "- Bug in `pd.cut()` with a single bin on an all 0s array ([GH15428](https://github.com/pandas-dev/pandas/issues/15428))  \n",
    "- Bug in `pd.qcut()` with a single quantile and an array with identical values ([GH15431](https://github.com/pandas-dev/pandas/issues/15431))  \n",
    "- Bug in `pandas.tools.utils.cartesian_product()` with large input can cause overflow on windows ([GH15265](https://github.com/pandas-dev/pandas/issues/15265))  \n",
    "- Bug in `.eval()` which caused multi-line evals to fail with local variables not on the first line ([GH15342](https://github.com/pandas-dev/pandas/issues/15342))  "
   ]
  },
  {
   "cell_type": "markdown",
   "metadata": {},
   "source": [
    "### Other\n",
    "\n",
    "- Compat with SciPy 0.19.0 for testing on `.interpolate()` ([GH15662](https://github.com/pandas-dev/pandas/issues/15662))  \n",
    "- Compat for 32-bit platforms for `.qcut/cut`; bins will now be `int64` dtype ([GH14866](https://github.com/pandas-dev/pandas/issues/14866))  \n",
    "- Bug in interactions with `Qt` when a `QtApplication` already exists ([GH14372](https://github.com/pandas-dev/pandas/issues/14372))  \n",
    "- Avoid use of `np.finfo()` during `import pandas` removed to mitigate deadlock on Python GIL misuse ([GH14641](https://github.com/pandas-dev/pandas/issues/14641))  \n",
    "\n",
    "\n",
    "\n",
    "<a id='whatsnew-0-20-0-contributors'></a>"
   ]
  },
  {
   "cell_type": "markdown",
   "metadata": {},
   "source": [
    "## Contributors\n",
    "\n",
    "A total of 204 people contributed patches to this release.  People with a\n",
    "“+” by their names contributed a patch for the first time.\n",
    "\n",
    "\n",
    "- Adam J. Stewart +  \n",
    "- Adrian +  \n",
    "- Ajay Saxena  \n",
    "- Akash Tandon +  \n",
    "- Albert Villanova del Moral +  \n",
    "- Aleksey Bilogur +  \n",
    "- Alexis Mignon +  \n",
    "- Amol Kahat +  \n",
    "- Andreas Winkler +  \n",
    "- Andrew Kittredge +  \n",
    "- Anthonios Partheniou  \n",
    "- Arco Bast +  \n",
    "- Ashish Singal +  \n",
    "- Baurzhan Muftakhidinov +  \n",
    "- Ben Kandel  \n",
    "- Ben Thayer +  \n",
    "- Ben Welsh +  \n",
    "- Bill Chambers +  \n",
    "- Brandon M. Burroughs  \n",
    "- Brian +  \n",
    "- Brian McFee +  \n",
    "- Carlos Souza +  \n",
    "- Chris  \n",
    "- Chris Ham  \n",
    "- Chris Warth  \n",
    "- Christoph Gohlke  \n",
    "- Christoph Paulik +  \n",
    "- Christopher C. Aycock  \n",
    "- Clemens Brunner +  \n",
    "- D.S. McNeil +  \n",
    "- DaanVanHauwermeiren +  \n",
    "- Daniel Himmelstein  \n",
    "- Dave Willmer  \n",
    "- David Cook +  \n",
    "- David Gwynne +  \n",
    "- David Hoffman +  \n",
    "- David Krych  \n",
    "- Diego Fernandez +  \n",
    "- Dimitris Spathis +  \n",
    "- Dmitry L +  \n",
    "- Dody Suria Wijaya +  \n",
    "- Dominik Stanczak +  \n",
    "- Dr-Irv  \n",
    "- Dr. Irv +  \n",
    "- Elliott Sales de Andrade +  \n",
    "- Ennemoser Christoph +  \n",
    "- Francesc Alted +  \n",
    "- Fumito Hamamura +  \n",
    "- Giacomo Ferroni  \n",
    "- Graham R. Jeffries +  \n",
    "- Greg Williams +  \n",
    "- Guilherme Beltramini +  \n",
    "- Guilherme Samora +  \n",
    "- Hao Wu +  \n",
    "- Harshit Patni +  \n",
    "- Ilya V. Schurov +  \n",
    "- Iván Vallés Pérez  \n",
    "- Jackie Leng +  \n",
    "- Jaehoon Hwang +  \n",
    "- James Draper +  \n",
    "- James Goppert +  \n",
    "- James McBride +  \n",
    "- James Santucci +  \n",
    "- Jan Schulz  \n",
    "- Jeff Carey  \n",
    "- Jeff Reback  \n",
    "- JennaVergeynst +  \n",
    "- Jim +  \n",
    "- Jim Crist  \n",
    "- Joe Jevnik  \n",
    "- Joel Nothman +  \n",
    "- John +  \n",
    "- John Tucker +  \n",
    "- John W. O’Brien  \n",
    "- John Zwinck  \n",
    "- Jon M. Mease  \n",
    "- Jon Mease  \n",
    "- Jonathan Whitmore +  \n",
    "- Jonathan de Bruin +  \n",
    "- Joost Kranendonk +  \n",
    "- Joris Van den Bossche  \n",
    "- Joshua Bradt +  \n",
    "- Julian Santander  \n",
    "- Julien Marrec +  \n",
    "- Jun Kim +  \n",
    "- Justin Solinsky +  \n",
    "- Kacawi +  \n",
    "- Kamal Kamalaldin +  \n",
    "- Kerby Shedden  \n",
    "- Kernc  \n",
    "- Keshav Ramaswamy  \n",
    "- Kevin Sheppard  \n",
    "- Kyle Kelley  \n",
    "- Larry Ren  \n",
    "- Leon Yin +  \n",
    "- Line Pedersen +  \n",
    "- Lorenzo Cestaro +  \n",
    "- Luca Scarabello  \n",
    "- Lukasz +  \n",
    "- Mahmoud Lababidi  \n",
    "- Mark Mandel +  \n",
    "- Matt Roeschke  \n",
    "- Matthew Brett  \n",
    "- Matthew Roeschke +  \n",
    "- Matti Picus  \n",
    "- Maximilian Roos  \n",
    "- Michael Charlton +  \n",
    "- Michael Felt  \n",
    "- Michael Lamparski +  \n",
    "- Michiel Stock +  \n",
    "- Mikolaj Chwalisz +  \n",
    "- Min RK  \n",
    "- Miroslav Šedivý +  \n",
    "- Mykola Golubyev  \n",
    "- Nate Yoder  \n",
    "- Nathalie Rud +  \n",
    "- Nicholas Ver Halen  \n",
    "- Nick Chmura +  \n",
    "- Nolan Nichols +  \n",
    "- Pankaj Pandey +  \n",
    "- Pawel Kordek  \n",
    "- Pete Huang +  \n",
    "- Peter +  \n",
    "- Peter Csizsek +  \n",
    "- Petio Petrov +  \n",
    "- Phil Ruffwind +  \n",
    "- Pietro Battiston  \n",
    "- Piotr Chromiec  \n",
    "- Prasanjit Prakash +  \n",
    "- Rob Forgione +  \n",
    "- Robert Bradshaw  \n",
    "- Robin +  \n",
    "- Rodolfo Fernandez  \n",
    "- Roger Thomas  \n",
    "- Rouz Azari +  \n",
    "- Sahil Dua  \n",
    "- Sam Foo +  \n",
    "- Sami Salonen +  \n",
    "- Sarah Bird +  \n",
    "- Sarma Tangirala +  \n",
    "- Scott Sanderson  \n",
    "- Sebastian Bank  \n",
    "- Sebastian Gsänger +  \n",
    "- Shawn Heide  \n",
    "- Shyam Saladi +  \n",
    "- Sinhrks  \n",
    "- Stephen Rauch +  \n",
    "- Sébastien de Menten +  \n",
    "- Tara Adiseshan  \n",
    "- Thiago Serafim  \n",
    "- Thoralf Gutierrez +  \n",
    "- Thrasibule +  \n",
    "- Tobias Gustafsson +  \n",
    "- Tom Augspurger  \n",
    "- Tong SHEN +  \n",
    "- Tong Shen +  \n",
    "- TrigonaMinima +  \n",
    "- Uwe +  \n",
    "- Wes Turner  \n",
    "- Wiktor Tomczak +  \n",
    "- WillAyd  \n",
    "- Yaroslav Halchenko  \n",
    "- Yimeng Zhang +  \n",
    "- abaldenko +  \n",
    "- adrian-stepien +  \n",
    "- alexandercbooth +  \n",
    "- atbd +  \n",
    "- bastewart +  \n",
    "- bmagnusson +  \n",
    "- carlosdanielcsantos +  \n",
    "- chaimdemulder +  \n",
    "- chris-b1  \n",
    "- dickreuter +  \n",
    "- discort +  \n",
    "- dr-leo +  \n",
    "- dubourg  \n",
    "- dwkenefick +  \n",
    "- funnycrab +  \n",
    "- gfyoung  \n",
    "- goldenbull +  \n",
    "- hesham.shabana@hotmail.com  \n",
    "- jojomdt +  \n",
    "- linebp +  \n",
    "- manu +  \n",
    "- manuels +  \n",
    "- mattip +  \n",
    "- maxalbert +  \n",
    "- mcocdawc +  \n",
    "- nuffe +  \n",
    "- paul-mannino  \n",
    "- pbreach +  \n",
    "- sakkemo +  \n",
    "- scls19fr  \n",
    "- sinhrks  \n",
    "- stijnvanhoey +  \n",
    "- the-nose-knows +  \n",
    "- themrmax +  \n",
    "- tomrod +  \n",
    "- tzinckgraf  \n",
    "- wandersoncferreira  \n",
    "- watercrossing +  \n",
    "- wcwagner  \n",
    "- xgdgsc +  \n",
    "- yui-knk  "
   ]
  }
 ],
 "metadata": {
  "filename": "v0.20.0.rst",
  "kernelspec": {
   "display_name": "Python",
   "language": "python3",
   "name": "python3"
  },
  "title": "v0.20.1 (May 5, 2017)"
 },
 "nbformat": 4,
 "nbformat_minor": 2
}