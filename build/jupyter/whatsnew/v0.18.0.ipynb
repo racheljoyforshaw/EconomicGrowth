{
 "cells": [
  {
   "cell_type": "markdown",
   "metadata": {},
   "source": [
    "\n",
    "<a id='whatsnew-0180'></a>"
   ]
  },
  {
   "cell_type": "markdown",
   "metadata": {},
   "source": [
    "# v0.18.0 (March 13, 2016)\n",
    "\n",
    "{{ header }}\n",
    "\n",
    "This is a major release from 0.17.1 and includes a small number of API changes, several new features,\n",
    "enhancements, and performance improvements along with a large number of bug fixes. We recommend that all\n",
    "users upgrade to this version.\n",
    "\n",
    "pandas >= 0.18.0 no longer supports compatibility with Python version 2.6\n",
    "and 3.3 ([GH7718](https://github.com/pandas-dev/pandas/issues/7718), [GH11273](https://github.com/pandas-dev/pandas/issues/11273))\n",
    "\n",
    "`numexpr` version 2.4.4 will now show a warning and not be used as a computation back-end for pandas because of some buggy behavior. This does not affect other versions (>= 2.1 and >= 2.4.6). ([GH12489](https://github.com/pandas-dev/pandas/issues/12489))\n",
    "\n",
    "Highlights include:\n",
    "\n",
    "- Moving and expanding window functions are now methods on Series and DataFrame,\n",
    "  similar to `.groupby`, see [here](#whatsnew-0180-enhancements-moments).  \n",
    "- Adding support for a `RangeIndex` as a specialized form of the `Int64Index`\n",
    "  for memory savings, see [here](#whatsnew-0180-enhancements-rangeindex).  \n",
    "- API breaking change to the `.resample` method to make it more `.groupby`\n",
    "  like, see [here](#whatsnew-0180-breaking-resample).  \n",
    "- Removal of support for positional indexing with floats, which was deprecated\n",
    "  since 0.14.0. This will now raise a `TypeError`, see [here](#whatsnew-0180-float-indexers).  \n",
    "- The `.to_xarray()` function has been added for compatibility with the\n",
    "  [xarray package](http://xarray.pydata.org/en/stable/), see [here](#whatsnew-0180-enhancements-xarray).  \n",
    "- The `read_sas` function has been enhanced to read `sas7bdat` files, see [here](#whatsnew-0180-enhancements-sas).  \n",
    "- Addition of the [.str.extractall() method](#whatsnew-0180-enhancements-extract),\n",
    "  and API changes to the [.str.extract() method](#whatsnew-0180-enhancements-extract)\n",
    "  and [.str.cat() method](#whatsnew-0180-enhancements-strcat).  \n",
    "- `pd.test()` top-level nose test runner is available ([GH4327](https://github.com/pandas-dev/pandas/issues/4327)).  \n",
    "\n",
    "\n",
    "Check the [API Changes](#whatsnew-0180-api-breaking) and [deprecations](#whatsnew-0180-deprecations) before updating."
   ]
  },
  {
   "cell_type": "markdown",
   "metadata": {},
   "source": [
    "## What’s new in v0.18.0\n",
    "\n",
    "- [New features](#New-features)  \n",
    "  - [Window functions are now methods](#Window-functions-are-now-methods)  \n",
    "  - [Changes to rename](#Changes-to-rename)  \n",
    "  - [Range index](#Range-index)  \n",
    "  - [Changes to str.extract](#Changes-to-str.extract)  \n",
    "  - [Addition of str.extractall](#Addition-of-str.extractall)  \n",
    "  - [Changes to str.cat](#Changes-to-str.cat)  \n",
    "  - [Datetimelike rounding](#Datetimelike-rounding)  \n",
    "  - [Formatting of integers in FloatIndex](#Formatting-of-integers-in-FloatIndex)  \n",
    "  - [Changes to dtype assignment behaviors](#Changes-to-dtype-assignment-behaviors)  \n",
    "  - [to_xarray](#to_xarray)  \n",
    "  - [Latex representation](#Latex-representation)  \n",
    "  - [`pd.read_sas()` changes](#`pd.read_sas()`-changes)  \n",
    "  - [Other enhancements](#Other-enhancements)  \n",
    "- [Backwards incompatible API changes](#Backwards-incompatible-API-changes)  \n",
    "  - [NaT and Timedelta operations](#NaT-and-Timedelta-operations)  \n",
    "  - [Changes to msgpack](#Changes-to-msgpack)  \n",
    "  - [Signature change for .rank](#Signature-change-for-.rank)  \n",
    "  - [Bug in QuarterBegin with n=0](#Bug-in-QuarterBegin-with-n=0)  \n",
    "  - [Resample API](#Resample-API)  \n",
    "    - [Downsampling](#Downsampling)  \n",
    "    - [Upsampling](#Upsampling)  \n",
    "    - [Previous API will work but with deprecations](#Previous-API-will-work-but-with-deprecations)  \n",
    "  - [Changes to eval](#Changes-to-eval)  \n",
    "  - [Other API changes](#Other-API-changes)  \n",
    "  - [Deprecations](#Deprecations)  \n",
    "  - [Removal of deprecated float indexers](#Removal-of-deprecated-float-indexers)  \n",
    "  - [Removal of prior version deprecations/changes](#Removal-of-prior-version-deprecations/changes)  \n",
    "- [Performance improvements](#Performance-improvements)  \n",
    "- [Bug Fixes](#Bug-Fixes)  \n",
    "- [Contributors](#Contributors)  "
   ]
  },
  {
   "cell_type": "markdown",
   "metadata": {},
   "source": [
    "\n",
    "<a id='whatsnew-0180-enhancements'></a>"
   ]
  },
  {
   "cell_type": "markdown",
   "metadata": {},
   "source": [
    "## New features\n",
    "\n",
    "\n",
    "<a id='whatsnew-0180-enhancements-moments'></a>"
   ]
  },
  {
   "cell_type": "markdown",
   "metadata": {},
   "source": [
    "### Window functions are now methods\n",
    "\n",
    "Window functions have been refactored to be methods on `Series/DataFrame` objects, rather than top-level functions, which are now deprecated. This allows these window-type functions, to have a similar API to that of `.groupby`. See the full documentation [here](user_guide/computation.ipynb#stats-moments) ([GH11603](https://github.com/pandas-dev/pandas/issues/11603), [GH12373](https://github.com/pandas-dev/pandas/issues/12373))\n",
    "\n",
    "Previous behavior:"
   ]
  },
  {
   "cell_type": "markdown",
   "metadata": {
    "hide-output": false
   },
   "source": [
    "```ipython\n",
    "In [8]: pd.rolling_mean(df, window=3)\n",
    "        FutureWarning: pd.rolling_mean is deprecated for DataFrame and will be removed in a future version, replace with\n",
    "                       DataFrame.rolling(window=3,center=False).mean()\n",
    "Out[8]:\n",
    "    A         B\n",
    "0 NaN       NaN\n",
    "1 NaN       NaN\n",
    "2   1  0.237722\n",
    "3   2 -0.023640\n",
    "4   3  0.133155\n",
    "5   4 -0.048693\n",
    "6   5  0.342054\n",
    "7   6  0.370076\n",
    "8   7  0.079587\n",
    "9   8 -0.954504\n",
    "```\n"
   ]
  },
  {
   "cell_type": "markdown",
   "metadata": {},
   "source": [
    "New behavior:\n",
    "\n",
    "These show a descriptive repr\n",
    "\n",
    "with tab-completion of available methods and properties."
   ]
  },
  {
   "cell_type": "markdown",
   "metadata": {
    "hide-output": false
   },
   "source": [
    "```ipython\n",
    "In [9]: r.<TAB>  # noqa E225, E999\n",
    "r.A           r.agg         r.apply       r.count       r.exclusions  r.max         r.median      r.name        r.skew        r.sum\n",
    "r.B           r.aggregate   r.corr        r.cov         r.kurt        r.mean        r.min         r.quantile    r.std         r.var\n",
    "```\n"
   ]
  },
  {
   "cell_type": "markdown",
   "metadata": {},
   "source": [
    "The methods operate on the `Rolling` object itself\n",
    "\n",
    "They provide getitem accessors\n",
    "\n",
    "And multiple aggregations\n",
    "\n",
    "\n",
    "<a id='whatsnew-0180-enhancements-rename'></a>"
   ]
  },
  {
   "cell_type": "markdown",
   "metadata": {},
   "source": [
    "### Changes to rename\n",
    "\n",
    "`Series.rename` and `NDFrame.rename_axis` can now take a scalar or list-like\n",
    "argument for altering the Series or axis *name*, in addition to their old behaviors of altering labels. ([GH9494](https://github.com/pandas-dev/pandas/issues/9494), [GH11965](https://github.com/pandas-dev/pandas/issues/11965))\n",
    "\n",
    "The new functionality works well in method chains. Previously these methods only accepted functions or dicts mapping a *label* to a new label.\n",
    "This continues to work as before for function or dict-like values.\n",
    "\n",
    "\n",
    "<a id='whatsnew-0180-enhancements-rangeindex'></a>"
   ]
  },
  {
   "cell_type": "markdown",
   "metadata": {},
   "source": [
    "### Range index\n",
    "\n",
    "A `RangeIndex` has been added to the `Int64Index` sub-classes to support a memory saving alternative for common use cases. This has a similar implementation to the python `range` object (`xrange` in python 2), in that it only stores the start, stop, and step values for the index. It will transparently interact with the user API, converting to `Int64Index` if needed.\n",
    "\n",
    "This will now be the default constructed index for `NDFrame` objects, rather than previous an `Int64Index`. ([GH939](https://github.com/pandas-dev/pandas/issues/939), [GH12070](https://github.com/pandas-dev/pandas/issues/12070), [GH12071](https://github.com/pandas-dev/pandas/issues/12071), [GH12109](https://github.com/pandas-dev/pandas/issues/12109), [GH12888](https://github.com/pandas-dev/pandas/issues/12888))\n",
    "\n",
    "Previous behavior:"
   ]
  },
  {
   "cell_type": "markdown",
   "metadata": {
    "hide-output": false
   },
   "source": [
    "```ipython\n",
    "In [3]: s = pd.Series(range(1000))\n",
    "\n",
    "In [4]: s.index\n",
    "Out[4]:\n",
    "Int64Index([  0,   1,   2,   3,   4,   5,   6,   7,   8,   9,\n",
    "            ...\n",
    "            990, 991, 992, 993, 994, 995, 996, 997, 998, 999], dtype='int64', length=1000)\n",
    "\n",
    "In [6]: s.index.nbytes\n",
    "Out[6]: 8000\n",
    "```\n"
   ]
  },
  {
   "cell_type": "markdown",
   "metadata": {},
   "source": [
    "New behavior:\n",
    "\n",
    "\n",
    "<a id='whatsnew-0180-enhancements-extract'></a>"
   ]
  },
  {
   "cell_type": "markdown",
   "metadata": {},
   "source": [
    "### Changes to str.extract\n",
    "\n",
    "The [.str.extract](user_guide/text.ipynb#text-extract) method takes a regular\n",
    "expression with capture groups, finds the first match in each subject\n",
    "string, and returns the contents of the capture groups\n",
    "([GH11386](https://github.com/pandas-dev/pandas/issues/11386)).\n",
    "\n",
    "In v0.18.0, the `expand` argument was added to\n",
    "`extract`.\n",
    "\n",
    "- `expand=False`: it returns a `Series`, `Index`, or `DataFrame`, depending on the subject and regular expression pattern (same behavior as pre-0.18.0).  \n",
    "- `expand=True`: it always returns a `DataFrame`, which is more consistent and less confusing from the perspective of a user.  \n",
    "\n",
    "\n",
    "Currently the default is `expand=None` which gives a `FutureWarning` and uses `expand=False`. To avoid this warning, please explicitly specify `expand`."
   ]
  },
  {
   "cell_type": "markdown",
   "metadata": {
    "hide-output": false
   },
   "source": [
    "```ipython\n",
    "In [1]: pd.Series(['a1', 'b2', 'c3']).str.extract(r'[ab](\\d)', expand=None)\n",
    "FutureWarning: currently extract(expand=None) means expand=False (return Index/Series/DataFrame)\n",
    "but in a future version of pandas this will be changed to expand=True (return DataFrame)\n",
    "\n",
    "Out[1]:\n",
    "0      1\n",
    "1      2\n",
    "2    NaN\n",
    "dtype: object\n",
    "```\n"
   ]
  },
  {
   "cell_type": "markdown",
   "metadata": {},
   "source": [
    "Extracting a regular expression with one group returns a Series if\n",
    "`expand=False`.\n",
    "\n",
    "It returns a `DataFrame` with one column if `expand=True`.\n",
    "\n",
    "Calling on an `Index` with a regex with exactly one capture group\n",
    "returns an `Index` if `expand=False`.\n",
    "\n",
    "It returns a `DataFrame` with one column if `expand=True`.\n",
    "\n",
    "Calling on an `Index` with a regex with more than one capture group\n",
    "raises `ValueError` if `expand=False`."
   ]
  },
  {
   "cell_type": "code",
   "execution_count": null,
   "metadata": {
    "hide-output": false
   },
   "outputs": [],
   "source": [
    ">>> s.index.str.extract(\"(?P<letter>[a-zA-Z])([0-9]+)\", expand=False)\n",
    "ValueError: only one regex group is supported with Index"
   ]
  },
  {
   "cell_type": "markdown",
   "metadata": {},
   "source": [
    "It returns a `DataFrame` if `expand=True`.\n",
    "\n",
    "In summary, `extract(expand=True)` always returns a `DataFrame`\n",
    "with a row for every subject string, and a column for every capture\n",
    "group.\n",
    "\n",
    "\n",
    "<a id='whatsnew-0180-enhancements-extractall'></a>"
   ]
  },
  {
   "cell_type": "markdown",
   "metadata": {},
   "source": [
    "### Addition of str.extractall\n",
    "\n",
    "The [.str.extractall](user_guide/text.ipynb#text-extractall) method was added\n",
    "([GH11386](https://github.com/pandas-dev/pandas/issues/11386)).  Unlike `extract`, which returns only the first\n",
    "match.\n",
    "\n",
    "The `extractall` method returns all matches.\n",
    "\n",
    "\n",
    "<a id='whatsnew-0180-enhancements-strcat'></a>"
   ]
  },
  {
   "cell_type": "markdown",
   "metadata": {},
   "source": [
    "### Changes to str.cat\n",
    "\n",
    "The method `.str.cat()` concatenates the members of a `Series`. Before, if `NaN` values were present in the Series, calling `.str.cat()` on it would return `NaN`, unlike the rest of the `Series.str.*` API. This behavior has been amended to ignore `NaN` values by default. ([GH11435](https://github.com/pandas-dev/pandas/issues/11435)).\n",
    "\n",
    "A new, friendlier `ValueError` is added to protect against the mistake of supplying the `sep` as an arg, rather than as a kwarg. ([GH11334](https://github.com/pandas-dev/pandas/issues/11334))."
   ]
  },
  {
   "cell_type": "markdown",
   "metadata": {
    "hide-output": false
   },
   "source": [
    "```ipython\n",
    "In [2]: pd.Series(['a', 'b', np.nan, 'c']).str.cat(' ')\n",
    "ValueError: Did you mean to supply a `sep` keyword?\n",
    "```\n"
   ]
  },
  {
   "cell_type": "markdown",
   "metadata": {},
   "source": [
    "\n",
    "<a id='whatsnew-0180-enhancements-rounding'></a>"
   ]
  },
  {
   "cell_type": "markdown",
   "metadata": {},
   "source": [
    "### Datetimelike rounding\n",
    "\n",
    "`DatetimeIndex`, `Timestamp`, `TimedeltaIndex`, `Timedelta` have gained the `.round()`, `.floor()` and `.ceil()` method for datetimelike rounding, flooring and ceiling. ([GH4314](https://github.com/pandas-dev/pandas/issues/4314), [GH11963](https://github.com/pandas-dev/pandas/issues/11963))\n",
    "\n",
    "Naive datetimes\n",
    "\n",
    "Tz-aware are rounded, floored and ceiled in local times\n",
    "\n",
    "Timedeltas\n",
    "\n",
    "In addition, `.round()`, `.floor()` and `.ceil()` will be available through the `.dt` accessor of `Series`."
   ]
  },
  {
   "cell_type": "markdown",
   "metadata": {},
   "source": [
    "### Formatting of integers in FloatIndex\n",
    "\n",
    "Integers in `FloatIndex`, e.g. 1., are now formatted with a decimal point and a `0` digit, e.g. `1.0` ([GH11713](https://github.com/pandas-dev/pandas/issues/11713))\n",
    "This change not only affects the display to the console, but also the output of IO methods like `.to_csv` or `.to_html`.\n",
    "\n",
    "Previous behavior:"
   ]
  },
  {
   "cell_type": "markdown",
   "metadata": {
    "hide-output": false
   },
   "source": [
    "```ipython\n",
    "In [2]: s = pd.Series([1, 2, 3], index=np.arange(3.))\n",
    "\n",
    "In [3]: s\n",
    "Out[3]:\n",
    "0    1\n",
    "1    2\n",
    "2    3\n",
    "dtype: int64\n",
    "\n",
    "In [4]: s.index\n",
    "Out[4]: Float64Index([0.0, 1.0, 2.0], dtype='float64')\n",
    "\n",
    "In [5]: print(s.to_csv(path=None))\n",
    "0,1\n",
    "1,2\n",
    "2,3\n",
    "```\n"
   ]
  },
  {
   "cell_type": "markdown",
   "metadata": {},
   "source": [
    "New behavior:"
   ]
  },
  {
   "cell_type": "markdown",
   "metadata": {},
   "source": [
    "### Changes to dtype assignment behaviors\n",
    "\n",
    "When a DataFrame’s slice is updated with a new slice of the same dtype, the dtype of the DataFrame will now remain the same. ([GH10503](https://github.com/pandas-dev/pandas/issues/10503))\n",
    "\n",
    "Previous behavior:"
   ]
  },
  {
   "cell_type": "markdown",
   "metadata": {
    "hide-output": false
   },
   "source": [
    "```ipython\n",
    "In [5]: df = pd.DataFrame({'a': [0, 1, 1],\n",
    "                           'b': pd.Series([100, 200, 300], dtype='uint32')})\n",
    "\n",
    "In [7]: df.dtypes\n",
    "Out[7]:\n",
    "a     int64\n",
    "b    uint32\n",
    "dtype: object\n",
    "\n",
    "In [8]: ix = df['a'] == 1\n",
    "\n",
    "In [9]: df.loc[ix, 'b'] = df.loc[ix, 'b']\n",
    "\n",
    "In [11]: df.dtypes\n",
    "Out[11]:\n",
    "a    int64\n",
    "b    int64\n",
    "dtype: object\n",
    "```\n"
   ]
  },
  {
   "cell_type": "markdown",
   "metadata": {},
   "source": [
    "New behavior:\n",
    "\n",
    "When a DataFrame’s integer slice is partially updated with a new slice of floats that could potentially be down-casted to integer without losing precision, the dtype of the slice will be set to float instead of integer.\n",
    "\n",
    "Previous behavior:"
   ]
  },
  {
   "cell_type": "markdown",
   "metadata": {
    "hide-output": false
   },
   "source": [
    "```ipython\n",
    "In [4]: df = pd.DataFrame(np.array(range(1,10)).reshape(3,3),\n",
    "                          columns=list('abc'),\n",
    "                          index=[[4,4,8], [8,10,12]])\n",
    "\n",
    "In [5]: df\n",
    "Out[5]:\n",
    "      a  b  c\n",
    "4 8   1  2  3\n",
    "  10  4  5  6\n",
    "8 12  7  8  9\n",
    "\n",
    "In [7]: df.ix[4, 'c'] = np.array([0., 1.])\n",
    "\n",
    "In [8]: df\n",
    "Out[8]:\n",
    "      a  b  c\n",
    "4 8   1  2  0\n",
    "  10  4  5  1\n",
    "8 12  7  8  9\n",
    "```\n"
   ]
  },
  {
   "cell_type": "markdown",
   "metadata": {},
   "source": [
    "New behavior:\n",
    "\n",
    "\n",
    "<a id='whatsnew-0180-enhancements-xarray'></a>"
   ]
  },
  {
   "cell_type": "markdown",
   "metadata": {},
   "source": [
    "### to_xarray\n",
    "\n",
    "In a future version of pandas, we will be deprecating `Panel` and other > 2 ndim objects. In order to provide for continuity,\n",
    "all `NDFrame` objects have gained the `.to_xarray()` method in order to convert to `xarray` objects, which has\n",
    "a pandas-like interface for > 2 ndim. ([GH11972](https://github.com/pandas-dev/pandas/issues/11972))\n",
    "\n",
    "See the [xarray full-documentation here](http://xarray.pydata.org/en/stable/)."
   ]
  },
  {
   "cell_type": "markdown",
   "metadata": {
    "hide-output": false
   },
   "source": [
    "```ipython\n",
    "In [1]: p = Panel(np.arange(2*3*4).reshape(2,3,4))\n",
    "\n",
    "In [2]: p.to_xarray()\n",
    "Out[2]:\n",
    "<xarray.DataArray (items: 2, major_axis: 3, minor_axis: 4)>\n",
    "array([[[ 0,  1,  2,  3],\n",
    "        [ 4,  5,  6,  7],\n",
    "        [ 8,  9, 10, 11]],\n",
    "\n",
    "       [[12, 13, 14, 15],\n",
    "        [16, 17, 18, 19],\n",
    "        [20, 21, 22, 23]]])\n",
    "Coordinates:\n",
    "  * items       (items) int64 0 1\n",
    "  * major_axis  (major_axis) int64 0 1 2\n",
    "  * minor_axis  (minor_axis) int64 0 1 2 3\n",
    "```\n"
   ]
  },
  {
   "cell_type": "markdown",
   "metadata": {},
   "source": [
    "### Latex representation\n",
    "\n",
    "`DataFrame` has gained a `._repr_latex_()` method in order to allow for conversion to latex in a ipython/jupyter notebook using nbconvert. ([GH11778](https://github.com/pandas-dev/pandas/issues/11778))\n",
    "\n",
    "Note that this must be activated by setting the option `pd.display.latex.repr=True` ([GH12182](https://github.com/pandas-dev/pandas/issues/12182))\n",
    "\n",
    "For example, if you have a jupyter notebook you plan to convert to latex using nbconvert, place the statement `pd.display.latex.repr=True` in the first cell to have the contained DataFrame output also stored as latex.\n",
    "\n",
    "The options `display.latex.escape` and `display.latex.longtable` have also been added to the configuration and are used automatically by the `to_latex`\n",
    "method. See the [available options docs](user_guide/options.ipynb#options-available) for more info.\n",
    "\n",
    "\n",
    "<a id='whatsnew-0180-enhancements-sas'></a>"
   ]
  },
  {
   "cell_type": "markdown",
   "metadata": {},
   "source": [
    "### `pd.read_sas()` changes\n",
    "\n",
    "`read_sas` has gained the ability to read SAS7BDAT files, including compressed files.  The files can be read in entirety, or incrementally.  For full details see [here](user_guide/io.ipynb#io-sas). ([GH4052](https://github.com/pandas-dev/pandas/issues/4052))\n",
    "\n",
    "\n",
    "<a id='whatsnew-0180-enhancements-other'></a>"
   ]
  },
  {
   "cell_type": "markdown",
   "metadata": {},
   "source": [
    "### Other enhancements\n",
    "\n",
    "- Handle truncated floats in SAS xport files ([GH11713](https://github.com/pandas-dev/pandas/issues/11713))  \n",
    "- Added option to hide index in `Series.to_string` ([GH11729](https://github.com/pandas-dev/pandas/issues/11729))  \n",
    "- `read_excel` now supports s3 urls of the format `s3://bucketname/filename` ([GH11447](https://github.com/pandas-dev/pandas/issues/11447))  \n",
    "- add support for `AWS_S3_HOST` env variable when reading from s3 ([GH12198](https://github.com/pandas-dev/pandas/issues/12198))  \n",
    "- A simple version of `Panel.round()` is now implemented ([GH11763](https://github.com/pandas-dev/pandas/issues/11763))  \n",
    "- For Python 3.x, `round(DataFrame)`, `round(Series)`, `round(Panel)` will work ([GH11763](https://github.com/pandas-dev/pandas/issues/11763))  \n",
    "- `sys.getsizeof(obj)` returns the memory usage of a pandas object, including the\n",
    "  values it contains ([GH11597](https://github.com/pandas-dev/pandas/issues/11597))  \n",
    "- `Series` gained an `is_unique` attribute ([GH11946](https://github.com/pandas-dev/pandas/issues/11946))  \n",
    "- `DataFrame.quantile` and `Series.quantile` now accept `interpolation` keyword ([GH10174](https://github.com/pandas-dev/pandas/issues/10174)).  \n",
    "- Added `DataFrame.style.format` for more flexible formatting of cell values ([GH11692](https://github.com/pandas-dev/pandas/issues/11692))  \n",
    "- `DataFrame.select_dtypes` now allows the `np.float16` type code ([GH11990](https://github.com/pandas-dev/pandas/issues/11990))  \n",
    "- `pivot_table()` now accepts most iterables for the `values` parameter ([GH12017](https://github.com/pandas-dev/pandas/issues/12017))  \n",
    "- Added Google `BigQuery` service account authentication support, which enables authentication on remote servers. ([GH11881](https://github.com/pandas-dev/pandas/issues/11881), [GH12572](https://github.com/pandas-dev/pandas/issues/12572)). For further details see [here](https://pandas-gbq.readthedocs.io/en/latest/intro.html)  \n",
    "- `HDFStore` is now iterable: `for k in store` is equivalent to `for k in store.keys()` ([GH12221](https://github.com/pandas-dev/pandas/issues/12221)).  \n",
    "- Add missing methods/fields to `.dt` for `Period` ([GH8848](https://github.com/pandas-dev/pandas/issues/8848))  \n",
    "- The entire code base has been `PEP`-ified ([GH12096](https://github.com/pandas-dev/pandas/issues/12096))  \n",
    "\n",
    "\n",
    "\n",
    "<a id='whatsnew-0180-api-breaking'></a>"
   ]
  },
  {
   "cell_type": "markdown",
   "metadata": {},
   "source": [
    "## Backwards incompatible API changes\n",
    "\n",
    "- the leading white spaces have been removed from the output of `.to_string(index=False)` method ([GH11833](https://github.com/pandas-dev/pandas/issues/11833))  \n",
    "- the `out` parameter has been removed from the `Series.round()` method. ([GH11763](https://github.com/pandas-dev/pandas/issues/11763))  \n",
    "- `DataFrame.round()` leaves non-numeric columns unchanged in its return, rather than raises. ([GH11885](https://github.com/pandas-dev/pandas/issues/11885))  \n",
    "- `DataFrame.head(0)` and `DataFrame.tail(0)` return empty frames, rather than `self`.  ([GH11937](https://github.com/pandas-dev/pandas/issues/11937))  \n",
    "- `Series.head(0)` and `Series.tail(0)` return empty series, rather than `self`.  ([GH11937](https://github.com/pandas-dev/pandas/issues/11937))  \n",
    "- `to_msgpack` and `read_msgpack` encoding now defaults to `'utf-8'`. ([GH12170](https://github.com/pandas-dev/pandas/issues/12170))  \n",
    "- the order of keyword arguments to text file parsing functions (`.read_csv()`, `.read_table()`, `.read_fwf()`) changed to group related arguments. ([GH11555](https://github.com/pandas-dev/pandas/issues/11555))  \n",
    "- `NaTType.isoformat` now returns the string `'NaT` to allow the result to\n",
    "  be passed to the constructor of `Timestamp`. ([GH12300](https://github.com/pandas-dev/pandas/issues/12300))  "
   ]
  },
  {
   "cell_type": "markdown",
   "metadata": {},
   "source": [
    "### NaT and Timedelta operations\n",
    "\n",
    "`NaT` and `Timedelta` have expanded arithmetic operations, which are extended to `Series`\n",
    "arithmetic where applicable.  Operations defined for `datetime64[ns]` or `timedelta64[ns]`\n",
    "are now also defined for `NaT` ([GH11564](https://github.com/pandas-dev/pandas/issues/11564)).\n",
    "\n",
    "`NaT` now supports arithmetic operations with integers and floats.\n",
    "\n",
    "`NaT` defines more arithmetic operations with `datetime64[ns]` and `timedelta64[ns]`.\n",
    "\n",
    "`NaT` may represent either a `datetime64[ns]` null or a `timedelta64[ns]` null.\n",
    "Given the ambiguity, it is treated as a `timedelta64[ns]`, which allows more operations\n",
    "to succeed.\n",
    "\n",
    "as opposed to"
   ]
  },
  {
   "cell_type": "markdown",
   "metadata": {
    "hide-output": false
   },
   "source": [
    "```ipython\n",
    "In [3]: pd.Timestamp('19900315') + pd.Timestamp('19900315')\n",
    "TypeError: unsupported operand type(s) for +: 'Timestamp' and 'Timestamp'\n",
    "```\n"
   ]
  },
  {
   "cell_type": "markdown",
   "metadata": {},
   "source": [
    "However, when wrapped in a `Series` whose `dtype` is `datetime64[ns]` or `timedelta64[ns]`,\n",
    "the `dtype` information is respected."
   ]
  },
  {
   "cell_type": "markdown",
   "metadata": {
    "hide-output": false
   },
   "source": [
    "```ipython\n",
    "In [1]: pd.Series([pd.NaT], dtype='<M8[ns]') + pd.Series([pd.NaT], dtype='<M8[ns]')\n",
    "TypeError: can only operate on a datetimes for subtraction,\n",
    "           but the operator [__add__] was passed\n",
    "```\n"
   ]
  },
  {
   "cell_type": "markdown",
   "metadata": {},
   "source": [
    "`Timedelta` division by `floats` now works.\n",
    "\n",
    "Subtraction by `Timedelta` in a `Series` by a `Timestamp` works ([GH11925](https://github.com/pandas-dev/pandas/issues/11925))\n",
    "\n",
    "`NaT.isoformat()` now returns `'NaT'`. This change allows allows\n",
    "`pd.Timestamp` to rehydrate any timestamp like object from its isoformat\n",
    "([GH12300](https://github.com/pandas-dev/pandas/issues/12300))."
   ]
  },
  {
   "cell_type": "markdown",
   "metadata": {},
   "source": [
    "### Changes to msgpack\n",
    "\n",
    "Forward incompatible changes in `msgpack` writing format were made over 0.17.0 and 0.18.0; older versions of pandas cannot read files packed by newer versions ([GH12129](https://github.com/pandas-dev/pandas/issues/12129), [GH10527](https://github.com/pandas-dev/pandas/issues/10527))\n",
    "\n",
    "Bugs in `to_msgpack` and `read_msgpack` introduced in 0.17.0 and fixed in 0.18.0, caused files packed in Python 2 unreadable by Python 3 ([GH12142](https://github.com/pandas-dev/pandas/issues/12142)). The following table describes the backward and forward compat of msgpacks.\n",
    "\n",
    "-   \n",
    "-   \n",
    "\n",
    "\n",
    "|Packed with|Can be unpacked with|\n",
    "|:--------------------:|:----------------------:|\n",
    "|pre-0.17 / Python 2|any|\n",
    "|pre-0.17 / Python 3|any|\n",
    "|0.17 / Python 2|==0.17 / Python 2>=0.18 / any Python|\n",
    "|0.17 / Python 3|>=0.18 / any Python|\n",
    "|0.18|>= 0.18|\n",
    "0.18.0 is backward-compatible for reading files packed by older versions, except for files packed with 0.17 in Python 2, in which case only they can only be unpacked in Python 2."
   ]
  },
  {
   "cell_type": "markdown",
   "metadata": {},
   "source": [
    "### Signature change for .rank\n",
    "\n",
    "`Series.rank` and `DataFrame.rank` now have the same signature ([GH11759](https://github.com/pandas-dev/pandas/issues/11759))\n",
    "\n",
    "Previous signature"
   ]
  },
  {
   "cell_type": "markdown",
   "metadata": {
    "hide-output": false
   },
   "source": [
    "```ipython\n",
    "In [3]: pd.Series([0,1]).rank(method='average', na_option='keep',\n",
    "                              ascending=True, pct=False)\n",
    "Out[3]:\n",
    "0    1\n",
    "1    2\n",
    "dtype: float64\n",
    "\n",
    "In [4]: pd.DataFrame([0,1]).rank(axis=0, numeric_only=None,\n",
    "                                 method='average', na_option='keep',\n",
    "                                 ascending=True, pct=False)\n",
    "Out[4]:\n",
    "   0\n",
    "0  1\n",
    "1  2\n",
    "```\n"
   ]
  },
  {
   "cell_type": "markdown",
   "metadata": {},
   "source": [
    "New signature"
   ]
  },
  {
   "cell_type": "markdown",
   "metadata": {},
   "source": [
    "### Bug in QuarterBegin with n=0\n",
    "\n",
    "In previous versions, the behavior of the QuarterBegin offset was inconsistent\n",
    "depending on the date when the `n` parameter was 0. ([GH11406](https://github.com/pandas-dev/pandas/issues/11406))\n",
    "\n",
    "The general semantics of anchored offsets for `n=0` is to not move the date\n",
    "when it is an anchor point (e.g., a quarter start date), and otherwise roll\n",
    "forward to the next anchor point.\n",
    "\n",
    "For the `QuarterBegin` offset in previous versions, the date would be rolled\n",
    "*backwards* if date was in the same month as the quarter start date."
   ]
  },
  {
   "cell_type": "markdown",
   "metadata": {
    "hide-output": false
   },
   "source": [
    "```ipython\n",
    "In [3]: d = pd.Timestamp('2014-02-15')\n",
    "\n",
    "In [4]: d + pd.offsets.QuarterBegin(n=0, startingMonth=2)\n",
    "Out[4]: Timestamp('2014-02-01 00:00:00')\n",
    "```\n"
   ]
  },
  {
   "cell_type": "markdown",
   "metadata": {},
   "source": [
    "This behavior has been corrected in version 0.18.0, which is consistent with\n",
    "other anchored offsets like `MonthBegin` and `YearBegin`.\n",
    "\n",
    "\n",
    "<a id='whatsnew-0180-breaking-resample'></a>"
   ]
  },
  {
   "cell_type": "markdown",
   "metadata": {},
   "source": [
    "### Resample API\n",
    "\n",
    "Like the change in the window functions API [above](#whatsnew-0180-enhancements-moments), `.resample(...)` is changing to have a more groupby-like API. ([GH11732](https://github.com/pandas-dev/pandas/issues/11732), [GH12702](https://github.com/pandas-dev/pandas/issues/12702), [GH12202](https://github.com/pandas-dev/pandas/issues/12202), [GH12332](https://github.com/pandas-dev/pandas/issues/12332), [GH12334](https://github.com/pandas-dev/pandas/issues/12334), [GH12348](https://github.com/pandas-dev/pandas/issues/12348), [GH12448](https://github.com/pandas-dev/pandas/issues/12448)).\n",
    "\n",
    "**Previous API**:\n",
    "\n",
    "You would write a resampling operation that immediately evaluates. If a `how` parameter was not provided, it\n",
    "would default to `how='mean'`."
   ]
  },
  {
   "cell_type": "markdown",
   "metadata": {
    "hide-output": false
   },
   "source": [
    "```ipython\n",
    "In [6]: df.resample('2s')\n",
    "Out[6]:\n",
    "                         A         B         C         D\n",
    "2010-01-01 09:00:00  0.485748  0.447351  0.357096  0.793615\n",
    "2010-01-01 09:00:02  0.820801  0.794317  0.364034  0.531096\n",
    "2010-01-01 09:00:04  0.433985  0.314582  0.424104  0.625733\n",
    "2010-01-01 09:00:06  0.624988  0.609738  0.633165  0.612452\n",
    "2010-01-01 09:00:08  0.510470  0.534317  0.573201  0.806949\n",
    "```\n"
   ]
  },
  {
   "cell_type": "markdown",
   "metadata": {},
   "source": [
    "You could also specify a `how` directly"
   ]
  },
  {
   "cell_type": "markdown",
   "metadata": {
    "hide-output": false
   },
   "source": [
    "```ipython\n",
    "In [7]: df.resample('2s', how='sum')\n",
    "Out[7]:\n",
    "                         A         B         C         D\n",
    "2010-01-01 09:00:00  0.971495  0.894701  0.714192  1.587231\n",
    "2010-01-01 09:00:02  1.641602  1.588635  0.728068  1.062191\n",
    "2010-01-01 09:00:04  0.867969  0.629165  0.848208  1.251465\n",
    "2010-01-01 09:00:06  1.249976  1.219477  1.266330  1.224904\n",
    "2010-01-01 09:00:08  1.020940  1.068634  1.146402  1.613897\n",
    "```\n"
   ]
  },
  {
   "cell_type": "markdown",
   "metadata": {},
   "source": [
    "**New API**:\n",
    "\n",
    "Now, you can write `.resample(..)` as a 2-stage operation like `.groupby(...)`, which\n",
    "yields a `Resampler`."
   ]
  },
  {
   "cell_type": "markdown",
   "metadata": {},
   "source": [
    "#### Downsampling\n",
    "\n",
    "You can then use this object to perform operations.\n",
    "These are downsampling operations (going from a higher frequency to a lower one).\n",
    "\n",
    "Furthermore, resample now supports `getitem` operations to perform the resample on specific columns.\n",
    "\n",
    "and `.aggregate` type operations.\n",
    "\n",
    "These accessors can of course, be combined"
   ]
  },
  {
   "cell_type": "markdown",
   "metadata": {},
   "source": [
    "#### Upsampling\n",
    "\n",
    "Upsampling operations take you from a lower frequency to a higher frequency. These are now\n",
    "performed with the `Resampler` objects with `backfill()`,\n",
    "`ffill()`, `fillna()` and `asfreq()` methods.\n",
    "\n",
    "Previously"
   ]
  },
  {
   "cell_type": "markdown",
   "metadata": {
    "hide-output": false
   },
   "source": [
    "```ipython\n",
    "In [6]: s.resample('M', fill_method='ffill')\n",
    "Out[6]:\n",
    "2010-03-31    0\n",
    "2010-04-30    0\n",
    "2010-05-31    0\n",
    "2010-06-30    1\n",
    "2010-07-31    1\n",
    "2010-08-31    1\n",
    "2010-09-30    2\n",
    "2010-10-31    2\n",
    "2010-11-30    2\n",
    "2010-12-31    3\n",
    "2011-01-31    3\n",
    "2011-02-28    3\n",
    "2011-03-31    4\n",
    "Freq: M, dtype: int64\n",
    "```\n"
   ]
  },
  {
   "cell_type": "markdown",
   "metadata": {},
   "source": [
    "New API\n",
    "\n",
    ">**Note**\n",
    ">\n",
    ">In the new API, you can either downsample OR upsample. The prior implementation would allow you to pass an aggregator function (like `mean`) even though you were upsampling, providing a bit of confusion."
   ]
  },
  {
   "cell_type": "markdown",
   "metadata": {},
   "source": [
    "#### Previous API will work but with deprecations\n",
    "\n",
    "This new API for resample includes some internal changes for the prior-to-0.18.0 API, to work with a deprecation warning in most cases, as the resample operation returns a deferred object. We can intercept operations and just do what the (pre 0.18.0) API did (with a warning). Here is a typical use case:"
   ]
  },
  {
   "cell_type": "markdown",
   "metadata": {
    "hide-output": false
   },
   "source": [
    "```ipython\n",
    "In [4]: r = df.resample('2s')\n",
    "\n",
    "In [6]: r*10\n",
    "pandas/tseries/resample.py:80: FutureWarning: .resample() is now a deferred operation\n",
    "use .resample(...).mean() instead of .resample(...)\n",
    "\n",
    "Out[6]:\n",
    "                      A         B         C         D\n",
    "2010-01-01 09:00:00  4.857476  4.473507  3.570960  7.936154\n",
    "2010-01-01 09:00:02  8.208011  7.943173  3.640340  5.310957\n",
    "2010-01-01 09:00:04  4.339846  3.145823  4.241039  6.257326\n",
    "2010-01-01 09:00:06  6.249881  6.097384  6.331650  6.124518\n",
    "2010-01-01 09:00:08  5.104699  5.343172  5.732009  8.069486\n",
    "```\n"
   ]
  },
  {
   "cell_type": "markdown",
   "metadata": {},
   "source": [
    "However, getting and assignment operations directly on a `Resampler` will raise a `ValueError`:"
   ]
  },
  {
   "cell_type": "markdown",
   "metadata": {
    "hide-output": false
   },
   "source": [
    "```ipython\n",
    "In [7]: r.iloc[0] = 5\n",
    "ValueError: .resample() is now a deferred operation\n",
    "use .resample(...).mean() instead of .resample(...)\n",
    "```\n"
   ]
  },
  {
   "cell_type": "markdown",
   "metadata": {},
   "source": [
    "There is a situation where the new API can not perform all the operations when using original code.\n",
    "This code is intending to resample every 2s, take the `mean` AND then take the `min` of those results."
   ]
  },
  {
   "cell_type": "markdown",
   "metadata": {
    "hide-output": false
   },
   "source": [
    "```ipython\n",
    "In [4]: df.resample('2s').min()\n",
    "Out[4]:\n",
    "A    0.433985\n",
    "B    0.314582\n",
    "C    0.357096\n",
    "D    0.531096\n",
    "dtype: float64\n",
    "```\n"
   ]
  },
  {
   "cell_type": "markdown",
   "metadata": {},
   "source": [
    "The new API will:\n",
    "\n",
    "The good news is the return dimensions will differ between the new API and the old API, so this should loudly raise\n",
    "an exception.\n",
    "\n",
    "To replicate the original operation"
   ]
  },
  {
   "cell_type": "markdown",
   "metadata": {},
   "source": [
    "### Changes to eval\n",
    "\n",
    "In prior versions, new columns assignments in an `eval` expression resulted\n",
    "in an inplace change to the `DataFrame`. ([GH9297](https://github.com/pandas-dev/pandas/issues/9297), [GH8664](https://github.com/pandas-dev/pandas/issues/8664), [GH10486](https://github.com/pandas-dev/pandas/issues/10486))"
   ]
  },
  {
   "cell_type": "markdown",
   "metadata": {
    "hide-output": false
   },
   "source": [
    "```ipython\n",
    "In [12]: df.eval('c = a + b')\n",
    "FutureWarning: eval expressions containing an assignment currentlydefault to operating inplace.\n",
    "This will change in a future version of pandas, use inplace=True to avoid this warning.\n",
    "\n",
    "In [13]: df\n",
    "Out[13]:\n",
    "      a  b     c\n",
    "0   0.0  0   0.0\n",
    "1   2.5  1   3.5\n",
    "2   5.0  2   7.0\n",
    "3   7.5  3  10.5\n",
    "4  10.0  4  14.0\n",
    "```\n"
   ]
  },
  {
   "cell_type": "markdown",
   "metadata": {},
   "source": [
    "In version 0.18.0, a new `inplace` keyword was added to choose whether the\n",
    "assignment should be done inplace or return a copy.\n",
    "\n",
    "For backwards compatibility, `inplace` defaults to `True` if not specified.\n",
    "This will change in a future version of pandas. If your code depends on an\n",
    "inplace assignment you should update to explicitly set `inplace=True`\n",
    "\n",
    "The `inplace` keyword parameter was also added the `query` method.\n",
    "\n",
    "Note that the default value for `inplace` in a `query`\n",
    "is `False`, which is consistent with prior versions.\n",
    "\n",
    "`eval` has also been updated to allow multi-line expressions for multiple\n",
    "assignments.  These expressions will be evaluated one at a time in order.  Only\n",
    "assignments are valid for multi-line expressions.\n",
    "\n",
    "\n",
    "<a id='whatsnew-0180-api'></a>"
   ]
  },
  {
   "cell_type": "markdown",
   "metadata": {},
   "source": [
    "### Other API changes\n",
    "\n",
    "- `DataFrame.between_time` and `Series.between_time` now only parse a fixed set of time strings. Parsing of date strings is no longer supported and raises a `ValueError`. ([GH11818](https://github.com/pandas-dev/pandas/issues/11818))  \n",
    "This will now raise.  "
   ]
  },
  {
   "cell_type": "markdown",
   "metadata": {
    "hide-output": false
   },
   "source": [
    "```ipython\n",
    "In [2]: s.between_time('20150101 07:00:00','20150101 09:00:00')\n",
    "ValueError: Cannot convert arg ['20150101 07:00:00'] to a time.\n",
    "```\n"
   ]
  },
  {
   "cell_type": "markdown",
   "metadata": {},
   "source": [
    "- `.memory_usage()` now includes values in the index, as does memory_usage in `.info()` ([GH11597](https://github.com/pandas-dev/pandas/issues/11597))  \n",
    "- `DataFrame.to_latex()` now supports non-ascii encodings (eg `utf-8`) in Python 2 with the parameter `encoding` ([GH7061](https://github.com/pandas-dev/pandas/issues/7061))  \n",
    "- `pandas.merge()` and `DataFrame.merge()` will show a specific error message when trying to merge with an object that is not of type `DataFrame` or a subclass ([GH12081](https://github.com/pandas-dev/pandas/issues/12081))  \n",
    "- `DataFrame.unstack` and `Series.unstack` now take `fill_value` keyword to allow direct replacement of missing values when an unstack results in missing values in the resulting `DataFrame`. As an added benefit, specifying `fill_value` will preserve the data type of the original stacked data.  ([GH9746](https://github.com/pandas-dev/pandas/issues/9746))  \n",
    "- As part of the new API for [window functions](#whatsnew-0180-enhancements-moments) and [resampling](#whatsnew-0180-breaking-resample), aggregation functions have been clarified, raising more informative error messages on invalid aggregations. ([GH9052](https://github.com/pandas-dev/pandas/issues/9052)). A full set of examples are presented in [groupby](user_guide/groupby.ipynb#groupby-aggregate).  \n",
    "- Statistical functions for `NDFrame` objects (like `sum(), mean(), min()`) will now raise if non-numpy-compatible arguments are passed in for `**kwargs` ([GH12301](https://github.com/pandas-dev/pandas/issues/12301))  \n",
    "- `.to_latex` and `.to_html` gain a `decimal` parameter like `.to_csv`; the default is `'.'` ([GH12031](https://github.com/pandas-dev/pandas/issues/12031))  \n",
    "- More helpful error message when constructing a `DataFrame` with empty data but with indices ([GH8020](https://github.com/pandas-dev/pandas/issues/8020))  \n",
    "- `.describe()` will now properly handle bool dtype as a categorical ([GH6625](https://github.com/pandas-dev/pandas/issues/6625))  \n",
    "- More helpful error message with an invalid `.transform` with user defined input ([GH10165](https://github.com/pandas-dev/pandas/issues/10165))  \n",
    "- Exponentially weighted functions now allow specifying alpha directly ([GH10789](https://github.com/pandas-dev/pandas/issues/10789)) and raise `ValueError` if parameters violate `0 < alpha <= 1` ([GH12492](https://github.com/pandas-dev/pandas/issues/12492))  \n",
    "\n",
    "\n",
    "\n",
    "<a id='whatsnew-0180-deprecations'></a>"
   ]
  },
  {
   "cell_type": "markdown",
   "metadata": {},
   "source": [
    "### Deprecations\n",
    "\n",
    "\n",
    "<a id='whatsnew-0180-window-deprecations'></a>\n",
    "- The functions `pd.rolling_*`, `pd.expanding_*`, and `pd.ewm*` are deprecated and replaced by the corresponding method call. Note that\n",
    "the new suggested syntax includes all of the arguments (even if default) ([GH11603](https://github.com/pandas-dev/pandas/issues/11603))  "
   ]
  },
  {
   "cell_type": "markdown",
   "metadata": {
    "hide-output": false
   },
   "source": [
    "```ipython\n",
    "In [1]: s = pd.Series(range(3))\n",
    "\n",
    "In [2]: pd.rolling_mean(s,window=2,min_periods=1)\n",
    "        FutureWarning: pd.rolling_mean is deprecated for Series and\n",
    "             will be removed in a future version, replace with\n",
    "             Series.rolling(min_periods=1,window=2,center=False).mean()\n",
    "Out[2]:\n",
    "        0    0.0\n",
    "        1    0.5\n",
    "        2    1.5\n",
    "        dtype: float64\n",
    "\n",
    "In [3]: pd.rolling_cov(s, s, window=2)\n",
    "        FutureWarning: pd.rolling_cov is deprecated for Series and\n",
    "             will be removed in a future version, replace with\n",
    "             Series.rolling(window=2).cov(other=<Series>)\n",
    "Out[3]:\n",
    "        0    NaN\n",
    "        1    0.5\n",
    "        2    0.5\n",
    "        dtype: float64\n",
    "```\n"
   ]
  },
  {
   "cell_type": "markdown",
   "metadata": {},
   "source": [
    "- The `freq` and `how` arguments to the `.rolling`, `.expanding`, and `.ewm` (new) functions are deprecated, and will be removed in a future version. You can simply resample the input prior to creating a window function. ([GH11603](https://github.com/pandas-dev/pandas/issues/11603)).  \n",
    "  For example, instead of `s.rolling(window=5,freq='D').max()` to get the max value on a rolling 5 Day window, one could use `s.resample('D').mean().rolling(window=5).max()`, which first resamples the data to daily data, then provides a rolling 5 day window.  \n",
    "- `pd.tseries.frequencies.get_offset_name` function is deprecated. Use offset’s `.freqstr` property as alternative ([GH11192](https://github.com/pandas-dev/pandas/issues/11192))  \n",
    "- `pandas.stats.fama_macbeth` routines are deprecated and will be removed in a future version ([GH6077](https://github.com/pandas-dev/pandas/issues/6077))  \n",
    "- `pandas.stats.ols`, `pandas.stats.plm` and `pandas.stats.var` routines are deprecated and will be removed in a future version ([GH6077](https://github.com/pandas-dev/pandas/issues/6077))  \n",
    "- show a `FutureWarning` rather than a `DeprecationWarning` on using long-time deprecated syntax in `HDFStore.select`, where the `where` clause is not a string-like ([GH12027](https://github.com/pandas-dev/pandas/issues/12027))  \n",
    "- The `pandas.options.display.mpl_style` configuration has been deprecated\n",
    "  and will be removed in a future version of pandas. This functionality\n",
    "  is better handled by matplotlib’s [style sheets](http://matplotlib.org/users/style_sheets.html) ([GH11783](https://github.com/pandas-dev/pandas/issues/11783)).  \n",
    "\n",
    "\n",
    "\n",
    "<a id='whatsnew-0180-float-indexers'></a>"
   ]
  },
  {
   "cell_type": "markdown",
   "metadata": {},
   "source": [
    "### Removal of deprecated float indexers\n",
    "\n",
    "In [GH4892](https://github.com/pandas-dev/pandas/issues/4892) indexing with floating point numbers on a non-`Float64Index` was deprecated (in version 0.14.0).\n",
    "In 0.18.0, this deprecation warning is removed and these will now raise a `TypeError`. ([GH12165](https://github.com/pandas-dev/pandas/issues/12165), [GH12333](https://github.com/pandas-dev/pandas/issues/12333))\n",
    "\n",
    "Previous behavior:"
   ]
  },
  {
   "cell_type": "markdown",
   "metadata": {
    "hide-output": false
   },
   "source": [
    "```ipython\n",
    "# this is label indexing\n",
    "In [2]: s[5.0]\n",
    "FutureWarning: scalar indexers for index type Int64Index should be integers and not floating point\n",
    "Out[2]: 2\n",
    "\n",
    "# this is positional indexing\n",
    "In [3]: s.iloc[1.0]\n",
    "FutureWarning: scalar indexers for index type Int64Index should be integers and not floating point\n",
    "Out[3]: 2\n",
    "\n",
    "# this is label indexing\n",
    "In [4]: s.loc[5.0]\n",
    "FutureWarning: scalar indexers for index type Int64Index should be integers and not floating point\n",
    "Out[4]: 2\n",
    "\n",
    "# .ix would coerce 1.0 to the positional 1, and index\n",
    "In [5]: s2.ix[1.0] = 10\n",
    "FutureWarning: scalar indexers for index type Index should be integers and not floating point\n",
    "\n",
    "In [6]: s2\n",
    "Out[6]:\n",
    "a     1\n",
    "b    10\n",
    "c     3\n",
    "dtype: int64\n",
    "```\n"
   ]
  },
  {
   "cell_type": "markdown",
   "metadata": {},
   "source": [
    "New behavior:\n",
    "\n",
    "For iloc, getting & setting via a float scalar will always raise."
   ]
  },
  {
   "cell_type": "markdown",
   "metadata": {
    "hide-output": false
   },
   "source": [
    "```ipython\n",
    "In [3]: s.iloc[2.0]\n",
    "TypeError: cannot do label indexing on <class 'pandas.indexes.numeric.Int64Index'> with these indexers [2.0] of <type 'float'>\n",
    "```\n"
   ]
  },
  {
   "cell_type": "markdown",
   "metadata": {},
   "source": [
    "Other indexers will coerce to a like integer for both getting and setting. The `FutureWarning` has been dropped for `.loc`, `.ix` and `[]`.\n",
    "\n",
    "and setting\n",
    "\n",
    "Positional setting with `.ix` and a float indexer will ADD this value to the index, rather than previously setting the value by position."
   ]
  },
  {
   "cell_type": "markdown",
   "metadata": {
    "hide-output": false
   },
   "source": [
    "```ipython\n",
    "In [3]: s2.ix[1.0] = 10\n",
    "In [4]: s2\n",
    "Out[4]:\n",
    "a       1\n",
    "b       2\n",
    "c       3\n",
    "1.0    10\n",
    "dtype: int64\n",
    "```\n"
   ]
  },
  {
   "cell_type": "markdown",
   "metadata": {},
   "source": [
    "Slicing will also coerce integer-like floats to integers for a non-`Float64Index`.\n",
    "\n",
    "Note that for floats that are NOT coercible to ints, the label based bounds will be excluded\n",
    "\n",
    "Float indexing on a `Float64Index` is unchanged.\n",
    "\n",
    "\n",
    "<a id='whatsnew-0180-prior-deprecations'></a>"
   ]
  },
  {
   "cell_type": "markdown",
   "metadata": {},
   "source": [
    "### Removal of prior version deprecations/changes\n",
    "\n",
    "- Removal of `rolling_corr_pairwise` in favor of `.rolling().corr(pairwise=True)` ([GH4950](https://github.com/pandas-dev/pandas/issues/4950))  \n",
    "- Removal of `expanding_corr_pairwise` in favor of `.expanding().corr(pairwise=True)` ([GH4950](https://github.com/pandas-dev/pandas/issues/4950))  \n",
    "- Removal of `DataMatrix` module. This was not imported into the pandas namespace in any event ([GH12111](https://github.com/pandas-dev/pandas/issues/12111))  \n",
    "- Removal of `cols` keyword in favor of `subset` in `DataFrame.duplicated()` and `DataFrame.drop_duplicates()` ([GH6680](https://github.com/pandas-dev/pandas/issues/6680))  \n",
    "- Removal of the `read_frame` and `frame_query` (both aliases for `pd.read_sql`)\n",
    "  and `write_frame` (alias of `to_sql`) functions in the `pd.io.sql` namespace,\n",
    "  deprecated since 0.14.0 ([GH6292](https://github.com/pandas-dev/pandas/issues/6292)).  \n",
    "- Removal of the `order` keyword from `.factorize()` ([GH6930](https://github.com/pandas-dev/pandas/issues/6930))  \n",
    "\n",
    "\n",
    "\n",
    "<a id='whatsnew-0180-performance'></a>"
   ]
  },
  {
   "cell_type": "markdown",
   "metadata": {},
   "source": [
    "## Performance improvements\n",
    "\n",
    "- Improved performance of `andrews_curves` ([GH11534](https://github.com/pandas-dev/pandas/issues/11534))  \n",
    "- Improved huge `DatetimeIndex`, `PeriodIndex` and `TimedeltaIndex`’s ops performance including `NaT` ([GH10277](https://github.com/pandas-dev/pandas/issues/10277))  \n",
    "- Improved performance of `pandas.concat` ([GH11958](https://github.com/pandas-dev/pandas/issues/11958))  \n",
    "- Improved performance of `StataReader` ([GH11591](https://github.com/pandas-dev/pandas/issues/11591))  \n",
    "- Improved performance in construction of `Categoricals` with `Series` of datetimes containing `NaT` ([GH12077](https://github.com/pandas-dev/pandas/issues/12077))  \n",
    "- Improved performance of ISO 8601 date parsing for dates without separators ([GH11899](https://github.com/pandas-dev/pandas/issues/11899)), leading zeros ([GH11871](https://github.com/pandas-dev/pandas/issues/11871)) and with white space preceding the time zone ([GH9714](https://github.com/pandas-dev/pandas/issues/9714))  \n",
    "\n",
    "\n",
    "\n",
    "<a id='whatsnew-0180-bug-fixes'></a>"
   ]
  },
  {
   "cell_type": "markdown",
   "metadata": {},
   "source": [
    "## Bug Fixes\n",
    "\n",
    "- Bug in `GroupBy.size` when data-frame is empty. ([GH11699](https://github.com/pandas-dev/pandas/issues/11699))  \n",
    "- Bug in `Period.end_time` when a multiple of time period is requested ([GH11738](https://github.com/pandas-dev/pandas/issues/11738))  \n",
    "- Regression in `.clip` with tz-aware datetimes ([GH11838](https://github.com/pandas-dev/pandas/issues/11838))  \n",
    "- Bug in `date_range` when the boundaries fell on the frequency ([GH11804](https://github.com/pandas-dev/pandas/issues/11804), [GH12409](https://github.com/pandas-dev/pandas/issues/12409))  \n",
    "- Bug in consistency of passing nested dicts to `.groupby(...).agg(...)` ([GH9052](https://github.com/pandas-dev/pandas/issues/9052))  \n",
    "- Accept unicode in `Timedelta` constructor ([GH11995](https://github.com/pandas-dev/pandas/issues/11995))  \n",
    "- Bug in value label reading for `StataReader` when reading incrementally ([GH12014](https://github.com/pandas-dev/pandas/issues/12014))  \n",
    "- Bug in vectorized `DateOffset` when `n` parameter is `0` ([GH11370](https://github.com/pandas-dev/pandas/issues/11370))  \n",
    "- Compat for numpy 1.11 w.r.t. `NaT` comparison changes ([GH12049](https://github.com/pandas-dev/pandas/issues/12049))  \n",
    "- Bug in `read_csv` when reading from a `StringIO` in threads ([GH11790](https://github.com/pandas-dev/pandas/issues/11790))  \n",
    "- Bug in not treating `NaT` as a missing value in datetimelikes when factorizing & with `Categoricals` ([GH12077](https://github.com/pandas-dev/pandas/issues/12077))  \n",
    "- Bug in getitem when the values of a `Series` were tz-aware ([GH12089](https://github.com/pandas-dev/pandas/issues/12089))  \n",
    "- Bug in `Series.str.get_dummies` when one of the variables was ‘name’ ([GH12180](https://github.com/pandas-dev/pandas/issues/12180))  \n",
    "- Bug in `pd.concat` while concatenating tz-aware NaT series. ([GH11693](https://github.com/pandas-dev/pandas/issues/11693), [GH11755](https://github.com/pandas-dev/pandas/issues/11755), [GH12217](https://github.com/pandas-dev/pandas/issues/12217))  \n",
    "- Bug in `pd.read_stata` with version <= 108 files ([GH12232](https://github.com/pandas-dev/pandas/issues/12232))  \n",
    "- Bug in `Series.resample` using a frequency of `Nano` when the index is a `DatetimeIndex` and contains non-zero nanosecond parts ([GH12037](https://github.com/pandas-dev/pandas/issues/12037))  \n",
    "- Bug in resampling with `.nunique` and a sparse index ([GH12352](https://github.com/pandas-dev/pandas/issues/12352))  \n",
    "- Removed some compiler warnings ([GH12471](https://github.com/pandas-dev/pandas/issues/12471))  \n",
    "- Work around compat issues with `boto` in python 3.5 ([GH11915](https://github.com/pandas-dev/pandas/issues/11915))  \n",
    "- Bug in `NaT` subtraction from `Timestamp` or `DatetimeIndex` with timezones ([GH11718](https://github.com/pandas-dev/pandas/issues/11718))  \n",
    "- Bug in subtraction of `Series` of a single tz-aware `Timestamp` ([GH12290](https://github.com/pandas-dev/pandas/issues/12290))  \n",
    "- Use compat iterators in PY2 to support `.next()` ([GH12299](https://github.com/pandas-dev/pandas/issues/12299))  \n",
    "- Bug in `Timedelta.round` with negative values ([GH11690](https://github.com/pandas-dev/pandas/issues/11690))  \n",
    "- Bug in `.loc` against `CategoricalIndex` may result in normal `Index` ([GH11586](https://github.com/pandas-dev/pandas/issues/11586))  \n",
    "- Bug in `DataFrame.info` when duplicated column names exist ([GH11761](https://github.com/pandas-dev/pandas/issues/11761))  \n",
    "- Bug in `.copy` of datetime tz-aware objects ([GH11794](https://github.com/pandas-dev/pandas/issues/11794))  \n",
    "- Bug in `Series.apply` and `Series.map` where `timedelta64` was not boxed ([GH11349](https://github.com/pandas-dev/pandas/issues/11349))  \n",
    "- Bug in `DataFrame.set_index()` with tz-aware `Series` ([GH12358](https://github.com/pandas-dev/pandas/issues/12358))  \n",
    "- Bug in subclasses of `DataFrame` where `AttributeError` did not propagate ([GH11808](https://github.com/pandas-dev/pandas/issues/11808))  \n",
    "- Bug groupby on tz-aware data where selection not returning `Timestamp` ([GH11616](https://github.com/pandas-dev/pandas/issues/11616))  \n",
    "- Bug in `pd.read_clipboard` and `pd.to_clipboard` functions not supporting Unicode; upgrade included `pyperclip` to v1.5.15 ([GH9263](https://github.com/pandas-dev/pandas/issues/9263))  \n",
    "- Bug in `DataFrame.query` containing an assignment ([GH8664](https://github.com/pandas-dev/pandas/issues/8664))  \n",
    "- Bug in `from_msgpack` where `__contains__()` fails for columns of the unpacked `DataFrame`, if the `DataFrame` has object columns. ([GH11880](https://github.com/pandas-dev/pandas/issues/11880))  \n",
    "- Bug in `.resample` on categorical data with `TimedeltaIndex` ([GH12169](https://github.com/pandas-dev/pandas/issues/12169))  \n",
    "- Bug in timezone info lost when broadcasting scalar datetime to `DataFrame` ([GH11682](https://github.com/pandas-dev/pandas/issues/11682))  \n",
    "- Bug in `Index` creation from `Timestamp` with mixed tz coerces to UTC ([GH11488](https://github.com/pandas-dev/pandas/issues/11488))  \n",
    "- Bug in `to_numeric` where it does not raise if input is more than one dimension ([GH11776](https://github.com/pandas-dev/pandas/issues/11776))  \n",
    "- Bug in parsing timezone offset strings with non-zero minutes ([GH11708](https://github.com/pandas-dev/pandas/issues/11708))  \n",
    "- Bug in `df.plot` using incorrect colors for bar plots under matplotlib 1.5+ ([GH11614](https://github.com/pandas-dev/pandas/issues/11614))  \n",
    "- Bug in the `groupby` `plot` method when using keyword arguments ([GH11805](https://github.com/pandas-dev/pandas/issues/11805)).  \n",
    "- Bug in `DataFrame.duplicated` and `drop_duplicates` causing spurious matches when setting `keep=False` ([GH11864](https://github.com/pandas-dev/pandas/issues/11864))  \n",
    "- Bug in `.loc` result with duplicated key may have `Index` with incorrect dtype ([GH11497](https://github.com/pandas-dev/pandas/issues/11497))  \n",
    "- Bug in `pd.rolling_median` where memory allocation failed even with sufficient memory ([GH11696](https://github.com/pandas-dev/pandas/issues/11696))  \n",
    "- Bug in `DataFrame.style` with spurious zeros ([GH12134](https://github.com/pandas-dev/pandas/issues/12134))  \n",
    "- Bug in `DataFrame.style` with integer columns not starting at 0 ([GH12125](https://github.com/pandas-dev/pandas/issues/12125))  \n",
    "- Bug in `.style.bar` may not rendered properly using specific browser ([GH11678](https://github.com/pandas-dev/pandas/issues/11678))  \n",
    "- Bug in rich comparison of `Timedelta` with a `numpy.array` of `Timedelta` that caused an infinite recursion ([GH11835](https://github.com/pandas-dev/pandas/issues/11835))  \n",
    "- Bug in `DataFrame.round` dropping column index name ([GH11986](https://github.com/pandas-dev/pandas/issues/11986))  \n",
    "- Bug in `df.replace` while replacing value in mixed dtype `Dataframe` ([GH11698](https://github.com/pandas-dev/pandas/issues/11698))  \n",
    "- Bug in `Index` prevents copying name of passed `Index`, when a new name is not provided ([GH11193](https://github.com/pandas-dev/pandas/issues/11193))  \n",
    "- Bug in `read_excel` failing to read any non-empty sheets when empty sheets exist and `sheetname=None` ([GH11711](https://github.com/pandas-dev/pandas/issues/11711))  \n",
    "- Bug in `read_excel` failing to raise `NotImplemented` error when keywords `parse_dates` and `date_parser` are provided ([GH11544](https://github.com/pandas-dev/pandas/issues/11544))  \n",
    "- Bug in `read_sql` with `pymysql` connections failing to return chunked data ([GH11522](https://github.com/pandas-dev/pandas/issues/11522))  \n",
    "- Bug in `.to_csv` ignoring formatting parameters `decimal`, `na_rep`, `float_format` for float indexes ([GH11553](https://github.com/pandas-dev/pandas/issues/11553))  \n",
    "- Bug in `Int64Index` and `Float64Index` preventing the use of the modulo operator ([GH9244](https://github.com/pandas-dev/pandas/issues/9244))  \n",
    "- Bug in `MultiIndex.drop` for not lexsorted MultiIndexes ([GH12078](https://github.com/pandas-dev/pandas/issues/12078))  \n",
    "- Bug in `DataFrame` when masking an empty `DataFrame` ([GH11859](https://github.com/pandas-dev/pandas/issues/11859))  \n",
    "- Bug in `.plot` potentially modifying the `colors` input when the number of columns didn’t match the number of series provided ([GH12039](https://github.com/pandas-dev/pandas/issues/12039)).  \n",
    "- Bug in `Series.plot` failing when index has a `CustomBusinessDay` frequency ([GH7222](https://github.com/pandas-dev/pandas/issues/7222)).  \n",
    "- Bug in `.to_sql` for `datetime.time` values with sqlite fallback ([GH8341](https://github.com/pandas-dev/pandas/issues/8341))  \n",
    "- Bug in `read_excel` failing to read data with one column when `squeeze=True` ([GH12157](https://github.com/pandas-dev/pandas/issues/12157))  \n",
    "- Bug in `read_excel` failing to read one empty column ([GH12292](https://github.com/pandas-dev/pandas/issues/12292), [GH9002](https://github.com/pandas-dev/pandas/issues/9002))  \n",
    "- Bug in `.groupby` where a `KeyError` was not raised for a wrong column if there was only one row in the dataframe ([GH11741](https://github.com/pandas-dev/pandas/issues/11741))  \n",
    "- Bug in `.read_csv` with dtype specified on empty data producing an error ([GH12048](https://github.com/pandas-dev/pandas/issues/12048))  \n",
    "- Bug in `.read_csv` where strings like `'2E'` are treated as valid floats ([GH12237](https://github.com/pandas-dev/pandas/issues/12237))  \n",
    "- Bug in building *pandas* with debugging symbols ([GH12123](https://github.com/pandas-dev/pandas/issues/12123))  \n",
    "- Removed `millisecond` property of `DatetimeIndex`. This would always raise a `ValueError` ([GH12019](https://github.com/pandas-dev/pandas/issues/12019)).  \n",
    "- Bug in `Series` constructor with read-only data ([GH11502](https://github.com/pandas-dev/pandas/issues/11502))  \n",
    "- Removed `pandas.util.testing.choice()`.  Should use `np.random.choice()`, instead. ([GH12386](https://github.com/pandas-dev/pandas/issues/12386))  \n",
    "- Bug in `.loc` setitem indexer preventing the use of a TZ-aware DatetimeIndex ([GH12050](https://github.com/pandas-dev/pandas/issues/12050))  \n",
    "- Bug in `.style` indexes and MultiIndexes not appearing ([GH11655](https://github.com/pandas-dev/pandas/issues/11655))  \n",
    "- Bug in `to_msgpack` and `from_msgpack` which did not correctly serialize or deserialize `NaT` ([GH12307](https://github.com/pandas-dev/pandas/issues/12307)).  \n",
    "- Bug in `.skew` and `.kurt` due to roundoff error for highly similar values ([GH11974](https://github.com/pandas-dev/pandas/issues/11974))  \n",
    "- Bug in `Timestamp` constructor where microsecond resolution was lost if HHMMSS were not separated with ‘:’ ([GH10041](https://github.com/pandas-dev/pandas/issues/10041))  \n",
    "- Bug in `buffer_rd_bytes` src->buffer could be freed more than once if reading failed, causing a segfault ([GH12098](https://github.com/pandas-dev/pandas/issues/12098))  \n",
    "- Bug in `crosstab` where arguments with non-overlapping indexes would return a `KeyError` ([GH10291](https://github.com/pandas-dev/pandas/issues/10291))  \n",
    "- Bug in `DataFrame.apply` in which reduction was not being prevented for cases in which `dtype` was not a numpy dtype ([GH12244](https://github.com/pandas-dev/pandas/issues/12244))  \n",
    "- Bug when initializing categorical series with a scalar value. ([GH12336](https://github.com/pandas-dev/pandas/issues/12336))  \n",
    "- Bug when specifying a UTC `DatetimeIndex` by setting `utc=True` in `.to_datetime` ([GH11934](https://github.com/pandas-dev/pandas/issues/11934))  \n",
    "- Bug when increasing the buffer size of CSV reader in `read_csv` ([GH12494](https://github.com/pandas-dev/pandas/issues/12494))  \n",
    "- Bug when setting columns of a `DataFrame` with duplicate column names ([GH12344](https://github.com/pandas-dev/pandas/issues/12344))  \n",
    "\n",
    "\n",
    "\n",
    "<a id='whatsnew-0-18-0-contributors'></a>"
   ]
  },
  {
   "cell_type": "markdown",
   "metadata": {},
   "source": [
    "## Contributors\n",
    "\n",
    "A total of 101 people contributed patches to this release.  People with a\n",
    "“+” by their names contributed a patch for the first time.\n",
    "\n",
    "\n",
    "- ARF +  \n",
    "- Alex Alekseyev +  \n",
    "- Andrew McPherson +  \n",
    "- Andrew Rosenfeld  \n",
    "- Andy Hayden  \n",
    "- Anthonios Partheniou  \n",
    "- Anton I. Sipos  \n",
    "- Ben +  \n",
    "- Ben North +  \n",
    "- Bran Yang +  \n",
    "- Chris  \n",
    "- Chris Carroux +  \n",
    "- Christopher C. Aycock +  \n",
    "- Christopher Scanlin +  \n",
    "- Cody +  \n",
    "- Da Wang +  \n",
    "- Daniel Grady +  \n",
    "- Dorozhko Anton +  \n",
    "- Dr-Irv +  \n",
    "- Erik M. Bray +  \n",
    "- Evan Wright  \n",
    "- Francis T. O’Donovan +  \n",
    "- Frank Cleary +  \n",
    "- Gianluca Rossi  \n",
    "- Graham Jeffries +  \n",
    "- Guillaume Horel  \n",
    "- Henry Hammond +  \n",
    "- Isaac Schwabacher +  \n",
    "- Jean-Mathieu Deschenes  \n",
    "- Jeff Reback  \n",
    "- Joe Jevnik +  \n",
    "- John Freeman +  \n",
    "- John Fremlin +  \n",
    "- Jonas Hoersch +  \n",
    "- Joris Van den Bossche  \n",
    "- Joris Vankerschaver  \n",
    "- Justin Lecher  \n",
    "- Justin Lin +  \n",
    "- Ka Wo Chen  \n",
    "- Keming Zhang +  \n",
    "- Kerby Shedden  \n",
    "- Kyle +  \n",
    "- Marco Farrugia +  \n",
    "- MasonGallo +  \n",
    "- MattRijk +  \n",
    "- Matthew Lurie +  \n",
    "- Maximilian Roos  \n",
    "- Mayank Asthana +  \n",
    "- Mortada Mehyar  \n",
    "- Moussa Taifi +  \n",
    "- Navreet Gill +  \n",
    "- Nicolas Bonnotte  \n",
    "- Paul Reiners +  \n",
    "- Philip Gura +  \n",
    "- Pietro Battiston  \n",
    "- RahulHP +  \n",
    "- Randy Carnevale  \n",
    "- Rinoc Johnson  \n",
    "- Rishipuri +  \n",
    "- Sangmin Park +  \n",
    "- Scott E Lasley  \n",
    "- Sereger13 +  \n",
    "- Shannon Wang +  \n",
    "- Skipper Seabold  \n",
    "- Thierry Moisan  \n",
    "- Thomas A Caswell  \n",
    "- Toby Dylan Hocking +  \n",
    "- Tom Augspurger  \n",
    "- Travis +  \n",
    "- Trent Hauck  \n",
    "- Tux1  \n",
    "- Varun  \n",
    "- Wes McKinney  \n",
    "- Will Thompson +  \n",
    "- Yoav Ram  \n",
    "- Yoong Kang Lim +  \n",
    "- Yoshiki Vázquez Baeza  \n",
    "- Young Joong Kim +  \n",
    "- Younggun Kim  \n",
    "- Yuval Langer +  \n",
    "- alex argunov +  \n",
    "- behzad nouri  \n",
    "- boombard +  \n",
    "- brian-pantano +  \n",
    "- chromy +  \n",
    "- daniel +  \n",
    "- dgram0 +  \n",
    "- gfyoung +  \n",
    "- hack-c +  \n",
    "- hcontrast +  \n",
    "- jfoo +  \n",
    "- kaustuv deolal +  \n",
    "- llllllllll  \n",
    "- ranarag +  \n",
    "- rockg  \n",
    "- scls19fr  \n",
    "- seales +  \n",
    "- sinhrks  \n",
    "- srib +  \n",
    "- surveymedia.ca +  \n",
    "- tworec +  "
   ]
  }
 ],
 "metadata": {
  "filename": "v0.18.0.rst",
  "kernelspec": {
   "display_name": "Python",
   "language": "python3",
   "name": "python3"
  },
  "title": "v0.18.0 (March 13, 2016)"
 },
 "nbformat": 4,
 "nbformat_minor": 2
}