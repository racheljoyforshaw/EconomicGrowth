{
 "cells": [
  {
   "cell_type": "markdown",
   "metadata": {},
   "source": [
    "\n",
    "<a id='whatsnew-0241'></a>"
   ]
  },
  {
   "cell_type": "markdown",
   "metadata": {},
   "source": [
    "# Whats new in 0.24.1 (February 3, 2019)\n",
    "\n",
    "The 0.24.x series of releases will be the last to support Python 2. Future feature\n",
    "releases will support Python 3 only. See [Plan for dropping Python 2.7](install.ipynb#install-dropping-27) for more.\n",
    "\n",
    "{{ header }}\n",
    "\n",
    "These are the changes in pandas 0.24.1. See release for a full changelog\n",
    "including other versions of pandas. See [What’s new in 0.24.0 (January 25, 2019)](v0.24.0#whatsnew-0240) for the 0.24.0 changelog.\n",
    "\n",
    "\n",
    "<a id='whatsnew-0241-api'></a>"
   ]
  },
  {
   "cell_type": "markdown",
   "metadata": {},
   "source": [
    "## API changes"
   ]
  },
  {
   "cell_type": "markdown",
   "metadata": {},
   "source": [
    "### Changing the `sort` parameter for `Index` set operations\n",
    "\n",
    "The default `sort` value for `Index.union()` has changed from `True` to `None` ([GH24959](https://github.com/pandas-dev/pandas/issues/24959)).\n",
    "The default *behavior*, however, remains the same: the result is sorted, unless\n",
    "\n",
    "1. `self` and `other` are identical  \n",
    "1. `self` or `other` is empty  \n",
    "1. `self` or `other` contain values that can not be compared (a `RuntimeWarning` is raised).  \n",
    "\n",
    "\n",
    "This change will allow `sort=True` to mean “always sort” in a future release.\n",
    "\n",
    "The same change applies to `Index.difference()` and `Index.symmetric_difference()`, which\n",
    "would not sort the result when the values could not be compared.\n",
    "\n",
    "The sort option for `Index.intersection()` has changed in three ways.\n",
    "\n",
    "1. The default has changed from `True` to `False`, to restore the\n",
    "  pandas 0.23.4 and earlier behavior of not sorting by default.  \n",
    "1. The behavior of `sort=True` can now be obtained with `sort=None`.\n",
    "  This will sort the result only if the values in `self` and `other`\n",
    "  are not identical.  \n",
    "1. The value `sort=True` is no longer allowed. A future version of pandas\n",
    "  will properly support `sort=True` meaning “always sort”.  \n",
    "\n",
    "\n",
    "\n",
    "<a id='whatsnew-0241-regressions'></a>"
   ]
  },
  {
   "cell_type": "markdown",
   "metadata": {},
   "source": [
    "## Fixed regressions\n",
    "\n",
    "- Fixed regression in `DataFrame.to_dict()` with `records` orient raising an\n",
    "  `AttributeError` when the `DataFrame` contained more than 255 columns, or\n",
    "  wrongly converting column names that were not valid python identifiers ([GH24939](https://github.com/pandas-dev/pandas/issues/24939), [GH24940](https://github.com/pandas-dev/pandas/issues/24940)).  \n",
    "- Fixed regression in `read_sql()` when passing certain queries with MySQL/pymysql ([GH24988](https://github.com/pandas-dev/pandas/issues/24988)).  \n",
    "- Fixed regression in `Index.intersection` incorrectly sorting the values by default ([GH24959](https://github.com/pandas-dev/pandas/issues/24959)).  \n",
    "- Fixed regression in `merge()` when merging an empty `DataFrame` with multiple timezone-aware columns on one of the timezone-aware columns ([GH25014](https://github.com/pandas-dev/pandas/issues/25014)).  \n",
    "- Fixed regression in `Series.rename_axis()` and `DataFrame.rename_axis()` where passing `None` failed to remove the axis name ([GH25034](https://github.com/pandas-dev/pandas/issues/25034))  \n",
    "- Fixed regression in `to_timedelta()` with box=False incorrectly returning a `datetime64` object instead of a `timedelta64` object ([GH24961](https://github.com/pandas-dev/pandas/issues/24961))  \n",
    "- Fixed regression where custom hashable types could not be used as column keys in `DataFrame.set_index()` ([GH24969](https://github.com/pandas-dev/pandas/issues/24969))  \n",
    "\n",
    "\n",
    "\n",
    "<a id='whatsnew-0241-bug-fixes'></a>"
   ]
  },
  {
   "cell_type": "markdown",
   "metadata": {},
   "source": [
    "## Bug fixes\n",
    "\n",
    "**Reshaping**\n",
    "\n",
    "- Bug in `DataFrame.groupby()` with `Grouper` when there is a time change (DST) and grouping frequency is `'1d'` ([GH24972](https://github.com/pandas-dev/pandas/issues/24972))  \n",
    "\n",
    "\n",
    "**Visualization**\n",
    "\n",
    "- Fixed the warning for implicitly registered matplotlib converters not showing. See [Restore Matplotlib datetime converter registration](v0.21.1#whatsnew-0211-converters) for more ([GH24963](https://github.com/pandas-dev/pandas/issues/24963)).  \n",
    "\n",
    "\n",
    "**Other**\n",
    "\n",
    "- Fixed AttributeError when printing a DataFrame’s HTML repr after accessing the IPython config object ([GH25036](https://github.com/pandas-dev/pandas/issues/25036))  \n",
    "\n",
    "\n",
    "\n",
    "<a id='whatsnew-0-241-contributors'></a>"
   ]
  },
  {
   "cell_type": "markdown",
   "metadata": {},
   "source": [
    "## Contributors\n",
    "\n",
    "A total of 7 people contributed patches to this release. People with a “+” by their names contributed a patch for the first time.\n",
    "\n",
    "- Alex Buchkovsky  \n",
    "- Roman Yurchak  \n",
    "- h-vetinari  \n",
    "- jbrockmendel  \n",
    "- Jeremy Schendel  \n",
    "- Joris Van den Bossche  \n",
    "- Tom Augspurger  "
   ]
  }
 ],
 "metadata": {
  "filename": "v0.24.1.rst",
  "kernelspec": {
   "display_name": "Python",
   "language": "python3",
   "name": "python3"
  },
  "title": "Whats new in 0.24.1 (February 3, 2019)"
 },
 "nbformat": 4,
 "nbformat_minor": 2
}