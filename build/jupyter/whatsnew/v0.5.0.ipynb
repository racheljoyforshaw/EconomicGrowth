{
 "cells": [
  {
   "cell_type": "markdown",
   "metadata": {},
   "source": [
    "\n",
    "<a id='whatsnew-050'></a>"
   ]
  },
  {
   "cell_type": "markdown",
   "metadata": {},
   "source": [
    "# v.0.5.0 (October 24, 2011)\n",
    "\n",
    "{{ header }}"
   ]
  },
  {
   "cell_type": "markdown",
   "metadata": {},
   "source": [
    "## New features\n",
    "\n",
    "- [Added](getting_started/basics.ipynb#basics-df-join) `DataFrame.align` method with standard join options  \n",
    "- [Added](user_guide/io.ipynb#io-parse-dates) `parse_dates` option to `read_csv` and `read_table` methods to optionally try to parse dates in the index columns  \n",
    "- [Added](user_guide/io.ipynb#io-parse-dates) `nrows`, `chunksize`, and `iterator` arguments to `read_csv` and `read_table`. The last two return a new `TextParser` class capable of lazily iterating through chunks of a flat file ([GH242](https://github.com/pandas-dev/pandas/issues/242))  \n",
    "- [Added](user_guide/merging.ipynb#merging-multikey-join) ability to join on multiple columns in `DataFrame.join` ([GH214](https://github.com/pandas-dev/pandas/issues/214))  \n",
    "- Added private `_get_duplicates` function to `Index` for identifying duplicate values more easily ([ENH5c](https://github.com/pandas-dev/pandas/commit/5ca6ff5d822ee4ddef1ec0d87b6d83d8b4bbd3eb))  \n",
    "- [Added](user_guide/indexing.ipynb#indexing-df-cols) column attribute access to DataFrame.  \n",
    "- [Added](user_guide/indexing.ipynb#indexing-df-cols) Python tab completion hook for DataFrame columns. ([GH233](https://github.com/pandas-dev/pandas/issues/233), [GH230](https://github.com/pandas-dev/pandas/issues/230))  \n",
    "- [Implemented](getting_started/basics.ipynb#basics-describe) `Series.describe` for Series containing objects ([GH241](https://github.com/pandas-dev/pandas/issues/241))  \n",
    "- [Added](user_guide/merging.ipynb#merging-df-inner-join) inner join option to `DataFrame.join` when joining on key(s) ([GH248](https://github.com/pandas-dev/pandas/issues/248))  \n",
    "- [Implemented](user_guide/indexing.ipynb#indexing-df-cols) selecting DataFrame columns by passing a list to `__getitem__` ([GH253](https://github.com/pandas-dev/pandas/issues/253))  \n",
    "- [Implemented](user_guide/indexing.ipynb#indexing-set-ops) & and | to intersect / union Index objects, respectively ([GH261](https://github.com/pandas-dev/pandas/issues/261))  \n",
    "- [Added](user_guide/reshaping.ipynb#reshaping-pivot) `pivot_table` convenience function to pandas namespace ([GH234](https://github.com/pandas-dev/pandas/issues/234))  \n",
    "- [Implemented](getting_started/basics.ipynb#basics-rename-axis) `Panel.rename_axis` function ([GH243](https://github.com/pandas-dev/pandas/issues/243))  \n",
    "- DataFrame will show index level names in console output ([GH334](https://github.com/pandas-dev/pandas/issues/334))  \n",
    "- [Implemented](user_guide/advanced.ipynb#advanced-take) `Panel.take`  \n",
    "- [Added](user_guide/options.ipynb#basics-console-output) `set_eng_float_format` for alternate DataFrame floating point string formatting ([ENH61](https://github.com/pandas-dev/pandas/commit/6141961))  \n",
    "- [Added](user_guide/indexing.ipynb#indexing-set-index) convenience `set_index` function for creating a DataFrame index from its existing columns  \n",
    "- [Implemented](user_guide/groupby.ipynb#groupby-multiindex) `groupby` hierarchical index level name  ([GH223](https://github.com/pandas-dev/pandas/issues/223))  \n",
    "- [Added](user_guide/io.ipynb#io-store-in-csv) support for different delimiters in `DataFrame.to_csv` ([GH244](https://github.com/pandas-dev/pandas/issues/244))  \n",
    "- TODO: DOCS ABOUT TAKE METHODS  "
   ]
  },
  {
   "cell_type": "markdown",
   "metadata": {},
   "source": [
    "## Performance enhancements\n",
    "\n",
    "- VBENCH Major performance improvements in file parsing functions `read_csv` and `read_table`  \n",
    "- VBENCH Added Cython function for converting tuples to ndarray very fast. Speeds up many MultiIndex-related operations  \n",
    "- VBENCH Refactored merging / joining code into a tidy class and disabled unnecessary computations in the float/object case, thus getting about 10% better performance ([GH211](https://github.com/pandas-dev/pandas/issues/211))  \n",
    "- VBENCH Improved speed of `DataFrame.xs` on mixed-type DataFrame objects by about 5x, regression from 0.3.0 ([GH215](https://github.com/pandas-dev/pandas/issues/215))  \n",
    "- VBENCH With new `DataFrame.align` method, speeding up binary operations between differently-indexed DataFrame objects by 10-25%.  \n",
    "- VBENCH Significantly sped up conversion of nested dict into DataFrame ([GH212](https://github.com/pandas-dev/pandas/issues/212))  \n",
    "- VBENCH Significantly speed up DataFrame `__repr__` and `count` on large mixed-type DataFrame objects  \n",
    "\n",
    "\n",
    "\n",
    "<a id='whatsnew-0-5-0-contributors'></a>"
   ]
  },
  {
   "cell_type": "markdown",
   "metadata": {},
   "source": [
    "## Contributors\n",
    "\n",
    "A total of 9 people contributed patches to this release.  People with a\n",
    "“+” by their names contributed a patch for the first time.\n",
    "\n",
    "\n",
    "- Aman Thakral +  \n",
    "- Luca Beltrame +  \n",
    "- Nick Pentreath +  \n",
    "- Skipper Seabold  \n",
    "- Thomas Kluyver +  \n",
    "- Wes McKinney  \n",
    "- Yaroslav Halchenko +  \n",
    "- lodagro +  \n",
    "- unknown +  "
   ]
  }
 ],
 "metadata": {
  "filename": "v0.5.0.rst",
  "kernelspec": {
   "display_name": "Python",
   "language": "python3",
   "name": "python3"
  },
  "title": "v.0.5.0 (October 24, 2011)"
 },
 "nbformat": 4,
 "nbformat_minor": 2
}