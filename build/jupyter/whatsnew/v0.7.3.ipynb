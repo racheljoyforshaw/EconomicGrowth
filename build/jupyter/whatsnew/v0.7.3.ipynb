{
 "cells": [
  {
   "cell_type": "markdown",
   "metadata": {},
   "source": [
    "\n",
    "<a id='whatsnew-0703'></a>"
   ]
  },
  {
   "cell_type": "markdown",
   "metadata": {},
   "source": [
    "# v.0.7.3 (April 12, 2012)\n",
    "\n",
    "{{ header }}\n",
    "\n",
    "This is a minor release from 0.7.2 and fixes many minor bugs and adds a number\n",
    "of nice new features. There are also a couple of API changes to note; these\n",
    "should not affect very many users, and we are inclined to call them “bug fixes”\n",
    "even though they do constitute a change in behavior. See the [full release\n",
    "notes](index.ipynb#release) or issue\n",
    "tracker on GitHub for a complete list."
   ]
  },
  {
   "cell_type": "markdown",
   "metadata": {},
   "source": [
    "## New features\n",
    "\n",
    "- New [fixed width file reader](user_guide/io.ipynb#io-fwf), `read_fwf`  \n",
    "- New [scatter_matrix](user_guide/visualization.ipynb#visualization-scatter-matrix) function for making\n",
    "  a scatter plot matrix  "
   ]
  },
  {
   "cell_type": "code",
   "execution_count": null,
   "metadata": {
    "hide-output": false
   },
   "outputs": [],
   "source": [
    "from pandas.tools.plotting import scatter_matrix\n",
    "scatter_matrix(df, alpha=0.2)        # noqa F821"
   ]
  },
  {
   "cell_type": "markdown",
   "metadata": {},
   "source": [
    "<img src=\"whatsnew/../savefig/scatter_matrix_kde.png\" style=\"width:5in;\">\n",
    "\n",
    "- Add `stacked` argument to Series and DataFrame’s `plot` method for\n",
    "  [stacked bar plots](user_guide/visualization.ipynb#visualization-barplot).  "
   ]
  },
  {
   "cell_type": "code",
   "execution_count": null,
   "metadata": {
    "hide-output": false
   },
   "outputs": [],
   "source": [
    "df.plot(kind='bar', stacked=True)    # noqa F821"
   ]
  },
  {
   "cell_type": "markdown",
   "metadata": {},
   "source": [
    "<img src=\"whatsnew/../savefig/bar_plot_stacked_ex.png\" style=\"width:4in;\">"
   ]
  },
  {
   "cell_type": "code",
   "execution_count": null,
   "metadata": {
    "hide-output": false
   },
   "outputs": [],
   "source": [
    "df.plot(kind='barh', stacked=True)   # noqa F821"
   ]
  },
  {
   "cell_type": "markdown",
   "metadata": {},
   "source": [
    "<img src=\"whatsnew/../savefig/barh_plot_stacked_ex.png\" style=\"width:4in;\">\n",
    "\n",
    "- Add log x and y [scaling options](user_guide/visualization.ipynb#visualization-basic) to\n",
    "  `DataFrame.plot` and `Series.plot`  \n",
    "- Add `kurt` methods to Series and DataFrame for computing kurtosis  "
   ]
  },
  {
   "cell_type": "markdown",
   "metadata": {},
   "source": [
    "## NA Boolean comparison API change\n",
    "\n",
    "Reverted some changes to how NA values (represented typically as `NaN` or\n",
    "`None`) are handled in non-numeric Series:\n",
    "\n",
    "In comparisons, NA / NaN will always come through as `False` except with\n",
    "`!=` which is `True`. *Be very careful* with boolean arithmetic, especially\n",
    "negation, in the presence of NA data. You may wish to add an explicit NA\n",
    "filter into boolean array operations if you are worried about this:\n",
    "\n",
    "While propagating NA in comparisons may seem like the right behavior to some\n",
    "users (and you could argue on purely technical grounds that this is the right\n",
    "thing to do), the evaluation was made that propagating NA everywhere, including\n",
    "in numerical arrays, would cause a large amount of problems for users. Thus, a\n",
    "“practicality beats purity” approach was taken. This issue may be revisited at\n",
    "some point in the future."
   ]
  },
  {
   "cell_type": "markdown",
   "metadata": {},
   "source": [
    "## Other API changes\n",
    "\n",
    "When calling `apply` on a grouped Series, the return value will also be a\n",
    "Series, to be more consistent with the `groupby` behavior with DataFrame:\n",
    "\n",
    "\n",
    "<a id='whatsnew-0-7-3-contributors'></a>"
   ]
  },
  {
   "cell_type": "markdown",
   "metadata": {},
   "source": [
    "## Contributors\n",
    "\n",
    "A total of 15 people contributed patches to this release.  People with a\n",
    "“+” by their names contributed a patch for the first time.\n",
    "\n",
    "\n",
    "- Abraham Flaxman +  \n",
    "- Adam Klein  \n",
    "- Andreas H. +  \n",
    "- Chang She  \n",
    "- Dieter Vandenbussche  \n",
    "- Jacques Kvam +  \n",
    "- K.-Michael Aye +  \n",
    "- Kamil Kisiel +  \n",
    "- Martin Blais +  \n",
    "- Skipper Seabold  \n",
    "- Thomas Kluyver  \n",
    "- Wes McKinney  \n",
    "- Wouter Overmeire  \n",
    "- Yaroslav Halchenko  \n",
    "- lgautier +  "
   ]
  }
 ],
 "metadata": {
  "filename": "v0.7.3.rst",
  "kernelspec": {
   "display_name": "Python",
   "language": "python3",
   "name": "python3"
  },
  "title": "v.0.7.3 (April 12, 2012)"
 },
 "nbformat": 4,
 "nbformat_minor": 2
}