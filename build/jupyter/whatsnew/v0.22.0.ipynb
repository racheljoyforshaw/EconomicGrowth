{
 "cells": [
  {
   "cell_type": "markdown",
   "metadata": {},
   "source": [
    "\n",
    "<a id='whatsnew-0220'></a>"
   ]
  },
  {
   "cell_type": "markdown",
   "metadata": {},
   "source": [
    "# v0.22.0 (December 29, 2017)\n",
    "\n",
    "{{ header }}\n",
    "\n",
    "This is a major release from 0.21.1 and includes a single, API-breaking change.\n",
    "We recommend that all users upgrade to this version after carefully reading the\n",
    "release note (singular!).\n",
    "\n",
    "\n",
    "<a id='whatsnew-0220-api-breaking'></a>"
   ]
  },
  {
   "cell_type": "markdown",
   "metadata": {},
   "source": [
    "## Backwards incompatible API changes\n",
    "\n",
    "Pandas 0.22.0 changes the handling of empty and all-*NA* sums and products. The\n",
    "summary is that\n",
    "\n",
    "- The sum of an empty or all-*NA* `Series` is now `0`  \n",
    "- The product of an empty or all-*NA* `Series` is now `1`  \n",
    "- We’ve added a `min_count` parameter to `.sum()` and `.prod()` controlling\n",
    "  the minimum number of valid values for the result to be valid. If fewer than\n",
    "  `min_count` non-*NA* values are present, the result is *NA*. The default is\n",
    "  `0`. To return `NaN`, the 0.21 behavior, use `min_count=1`.  \n",
    "\n",
    "\n",
    "Some background: In pandas 0.21, we fixed a long-standing inconsistency\n",
    "in the return value of all-*NA* series depending on whether or not bottleneck\n",
    "was installed. See [Sum/Prod of all-NaN or empty Series/DataFrames is now consistently NaN](v0.21.0#whatsnew-0210-api-breaking-bottleneck). At the same\n",
    "time, we changed the sum and prod of an empty `Series` to also be `NaN`.\n",
    "\n",
    "Based on feedback, we’ve partially reverted those changes."
   ]
  },
  {
   "cell_type": "markdown",
   "metadata": {},
   "source": [
    "### Arithmetic operations\n",
    "\n",
    "The default sum for empty or all-*NA* `Series` is now `0`.\n",
    "\n",
    "*pandas 0.21.x*"
   ]
  },
  {
   "cell_type": "markdown",
   "metadata": {
    "hide-output": false
   },
   "source": [
    "```ipython\n",
    "In [1]: pd.Series([]).sum()\n",
    "Out[1]: nan\n",
    "\n",
    "In [2]: pd.Series([np.nan]).sum()\n",
    "Out[2]: nan\n",
    "```\n"
   ]
  },
  {
   "cell_type": "markdown",
   "metadata": {},
   "source": [
    "*pandas 0.22.0*\n",
    "\n",
    "The default behavior is the same as pandas 0.20.3 with bottleneck installed. It\n",
    "also matches the behavior of NumPy’s `np.nansum` on empty and all-*NA* arrays.\n",
    "\n",
    "To have the sum of an empty series return `NaN` (the default behavior of\n",
    "pandas 0.20.3 without bottleneck, or pandas 0.21.x), use the `min_count`\n",
    "keyword.\n",
    "\n",
    "Thanks to the `skipna` parameter, the `.sum` on an all-*NA*\n",
    "series is conceptually the same as the `.sum` of an empty one with\n",
    "`skipna=True` (the default).\n",
    "\n",
    "The `min_count` parameter refers to the minimum number of *non-null* values\n",
    "required for a non-NA sum or product.\n",
    "\n",
    "`Series.prod()` has been updated to behave the same as `Series.sum()`,\n",
    "returning `1` instead.\n",
    "\n",
    "These changes affect `DataFrame.sum()` and `DataFrame.prod()` as well.\n",
    "Finally, a few less obvious places in pandas are affected by this change."
   ]
  },
  {
   "cell_type": "markdown",
   "metadata": {},
   "source": [
    "### Grouping by a categorical\n",
    "\n",
    "Grouping by a `Categorical` and summing now returns `0` instead of\n",
    "`NaN` for categories with no observations. The product now returns `1`\n",
    "instead of `NaN`.\n",
    "\n",
    "*pandas 0.21.x*"
   ]
  },
  {
   "cell_type": "markdown",
   "metadata": {
    "hide-output": false
   },
   "source": [
    "```ipython\n",
    "In [8]: grouper = pd.Categorical(['a', 'a'], categories=['a', 'b'])\n",
    "\n",
    "In [9]: pd.Series([1, 2]).groupby(grouper).sum()\n",
    "Out[9]:\n",
    "a    3.0\n",
    "b    NaN\n",
    "dtype: float64\n",
    "```\n"
   ]
  },
  {
   "cell_type": "markdown",
   "metadata": {},
   "source": [
    "*pandas 0.22*\n",
    "\n",
    "To restore the 0.21 behavior of returning `NaN` for unobserved groups,\n",
    "use `min_count>=1`."
   ]
  },
  {
   "cell_type": "markdown",
   "metadata": {},
   "source": [
    "### Resample\n",
    "\n",
    "The sum and product of all-*NA* bins has changed from `NaN` to `0` for\n",
    "sum and `1` for product.\n",
    "\n",
    "*pandas 0.21.x*"
   ]
  },
  {
   "cell_type": "markdown",
   "metadata": {
    "hide-output": false
   },
   "source": [
    "```ipython\n",
    "In [11]: s = pd.Series([1, 1, np.nan, np.nan],\n",
    "   ....:               index=pd.date_range('2017', periods=4))\n",
    "   ....: s\n",
    "Out[11]:\n",
    "2017-01-01    1.0\n",
    "2017-01-02    1.0\n",
    "2017-01-03    NaN\n",
    "2017-01-04    NaN\n",
    "Freq: D, dtype: float64\n",
    "\n",
    "In [12]: s.resample('2d').sum()\n",
    "Out[12]:\n",
    "2017-01-01    2.0\n",
    "2017-01-03    NaN\n",
    "Freq: 2D, dtype: float64\n",
    "```\n"
   ]
  },
  {
   "cell_type": "markdown",
   "metadata": {},
   "source": [
    "*pandas 0.22.0*\n",
    "\n",
    "To restore the 0.21 behavior of returning `NaN`, use `min_count>=1`.\n",
    "\n",
    "In particular, upsampling and taking the sum or product is affected, as\n",
    "upsampling introduces missing values even if the original series was\n",
    "entirely valid.\n",
    "\n",
    "*pandas 0.21.x*"
   ]
  },
  {
   "cell_type": "markdown",
   "metadata": {
    "hide-output": false
   },
   "source": [
    "```ipython\n",
    "In [14]: idx = pd.DatetimeIndex(['2017-01-01', '2017-01-02'])\n",
    "\n",
    "In [15]: pd.Series([1, 2], index=idx).resample('12H').sum()\n",
    "Out[15]:\n",
    "2017-01-01 00:00:00    1.0\n",
    "2017-01-01 12:00:00    NaN\n",
    "2017-01-02 00:00:00    2.0\n",
    "Freq: 12H, dtype: float64\n",
    "```\n"
   ]
  },
  {
   "cell_type": "markdown",
   "metadata": {},
   "source": [
    "*pandas 0.22.0*\n",
    "\n",
    "Once again, the `min_count` keyword is available to restore the 0.21 behavior."
   ]
  },
  {
   "cell_type": "markdown",
   "metadata": {},
   "source": [
    "### Rolling and expanding\n",
    "\n",
    "Rolling and expanding already have a `min_periods` keyword that behaves\n",
    "similar to `min_count`. The only case that changes is when doing a rolling\n",
    "or expanding sum with `min_periods=0`. Previously this returned `NaN`,\n",
    "when fewer than `min_periods` non-*NA* values were in the window. Now it\n",
    "returns `0`.\n",
    "\n",
    "*pandas 0.21.1*"
   ]
  },
  {
   "cell_type": "markdown",
   "metadata": {
    "hide-output": false
   },
   "source": [
    "```ipython\n",
    "In [17]: s = pd.Series([np.nan, np.nan])\n",
    "\n",
    "In [18]: s.rolling(2, min_periods=0).sum()\n",
    "Out[18]:\n",
    "0   NaN\n",
    "1   NaN\n",
    "dtype: float64\n",
    "```\n"
   ]
  },
  {
   "cell_type": "markdown",
   "metadata": {},
   "source": [
    "*pandas 0.22.0*\n",
    "\n",
    "The default behavior of `min_periods=None`, implying that `min_periods`\n",
    "equals the window size, is unchanged."
   ]
  },
  {
   "cell_type": "markdown",
   "metadata": {},
   "source": [
    "## Compatibility\n",
    "\n",
    "If you maintain a library that should work across pandas versions, it\n",
    "may be easiest to exclude pandas 0.21 from your requirements. Otherwise, all your\n",
    "`sum()` calls would need to check if the `Series` is empty before summing.\n",
    "\n",
    "With setuptools, in your `setup.py` use:"
   ]
  },
  {
   "cell_type": "code",
   "execution_count": null,
   "metadata": {
    "hide-output": false
   },
   "outputs": [],
   "source": [
    "install_requires=['pandas!=0.21.*', ...]"
   ]
  },
  {
   "cell_type": "markdown",
   "metadata": {},
   "source": [
    "With conda, use"
   ]
  },
  {
   "cell_type": "markdown",
   "metadata": {
    "hide-output": false
   },
   "source": [
    "```yaml\n",
    "requirements:\n",
    "  run:\n",
    "    - pandas !=0.21.0,!=0.21.1\n",
    "```\n"
   ]
  },
  {
   "cell_type": "markdown",
   "metadata": {},
   "source": [
    "Note that the inconsistency in the return value for all-*NA* series is still\n",
    "there for pandas 0.20.3 and earlier. Avoiding pandas 0.21 will only help with\n",
    "the empty case.\n",
    "\n",
    "\n",
    "<a id='whatsnew-0-22-0-contributors'></a>"
   ]
  },
  {
   "cell_type": "markdown",
   "metadata": {},
   "source": [
    "## Contributors\n",
    "\n",
    "A total of 1 people contributed patches to this release.  People with a\n",
    "“+” by their names contributed a patch for the first time.\n",
    "\n",
    "\n",
    "- Tom Augspurger  "
   ]
  }
 ],
 "metadata": {
  "filename": "v0.22.0.rst",
  "kernelspec": {
   "display_name": "Python",
   "language": "python3",
   "name": "python3"
  },
  "title": "v0.22.0 (December 29, 2017)"
 },
 "nbformat": 4,
 "nbformat_minor": 2
}