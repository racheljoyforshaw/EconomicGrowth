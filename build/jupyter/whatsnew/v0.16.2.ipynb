{
 "cells": [
  {
   "cell_type": "markdown",
   "metadata": {},
   "source": [
    "\n",
    "<a id='whatsnew-0162'></a>"
   ]
  },
  {
   "cell_type": "markdown",
   "metadata": {},
   "source": [
    "# v0.16.2 (June 12, 2015)\n",
    "\n",
    "{{ header }}\n",
    "\n",
    "This is a minor bug-fix release from 0.16.1 and includes a a large number of\n",
    "bug fixes along some new features (`pipe()` method), enhancements, and performance improvements.\n",
    "\n",
    "We recommend that all users upgrade to this version.\n",
    "\n",
    "Highlights include:\n",
    "\n",
    "- A new `pipe` method, see [here](#whatsnew-0162-enhancements-pipe)  \n",
    "- Documentation on how to use [numba](http://numba.pydata.org) with *pandas*, see [here](user_guide/enhancingperf.ipynb#enhancingperf-numba)  "
   ]
  },
  {
   "cell_type": "markdown",
   "metadata": {},
   "source": [
    "## What’s new in v0.16.2\n",
    "\n",
    "- [New features](#New-features)  \n",
    "  - [Pipe](#Pipe)  \n",
    "  - [Other enhancements](#Other-enhancements)  \n",
    "- [API changes](#API-changes)  \n",
    "- [Performance improvements](#Performance-improvements)  \n",
    "- [Bug fixes](#Bug-fixes)  \n",
    "- [Contributors](#Contributors)  "
   ]
  },
  {
   "cell_type": "markdown",
   "metadata": {},
   "source": [
    "\n",
    "<a id='whatsnew-0162-enhancements'></a>"
   ]
  },
  {
   "cell_type": "markdown",
   "metadata": {},
   "source": [
    "## New features\n",
    "\n",
    "\n",
    "<a id='whatsnew-0162-enhancements-pipe'></a>"
   ]
  },
  {
   "cell_type": "markdown",
   "metadata": {},
   "source": [
    "### Pipe\n",
    "\n",
    "We’ve introduced a new method `DataFrame.pipe()`. As suggested by the name, `pipe`\n",
    "should be used to pipe data through a chain of function calls.\n",
    "The goal is to avoid confusing nested function calls like"
   ]
  },
  {
   "cell_type": "code",
   "execution_count": null,
   "metadata": {
    "hide-output": false
   },
   "outputs": [],
   "source": [
    "# df is a DataFrame\n",
    "# f, g, and h are functions that take and return DataFrames\n",
    "f(g(h(df), arg1=1), arg2=2, arg3=3)  # noqa F821"
   ]
  },
  {
   "cell_type": "markdown",
   "metadata": {},
   "source": [
    "The logic flows from inside out, and function names are separated from their keyword arguments.\n",
    "This can be rewritten as"
   ]
  },
  {
   "cell_type": "code",
   "execution_count": null,
   "metadata": {
    "hide-output": false
   },
   "outputs": [],
   "source": [
    "(df.pipe(h)                   # noqa F821\n",
    "   .pipe(g, arg1=1)           # noqa F821\n",
    "   .pipe(f, arg2=2, arg3=3)   # noqa F821\n",
    ")"
   ]
  },
  {
   "cell_type": "markdown",
   "metadata": {},
   "source": [
    "Now both the code and the logic flow from top to bottom. Keyword arguments are next to\n",
    "their functions. Overall the code is much more readable.\n",
    "\n",
    "In the example above, the functions `f`, `g`, and `h` each expected the DataFrame as the first positional argument.\n",
    "When the function you wish to apply takes its data anywhere other than the first argument, pass a tuple\n",
    "of `(function, keyword)` indicating where the DataFrame should flow. For example:\n",
    "\n",
    "The pipe method is inspired by unix pipes, which stream text through\n",
    "processes. More recently [dplyr](https://github.com/hadley/dplyr) and [magrittr](https://github.com/smbache/magrittr) have introduced the\n",
    "popular `(%>%)` pipe operator for [R](http://www.r-project.org).\n",
    "\n",
    "See the [documentation](getting_started/basics.ipynb#basics-pipe) for more. ([GH10129](https://github.com/pandas-dev/pandas/issues/10129))\n",
    "\n",
    "\n",
    "<a id='whatsnew-0162-enhancements-other'></a>"
   ]
  },
  {
   "cell_type": "markdown",
   "metadata": {},
   "source": [
    "### Other enhancements\n",
    "\n",
    "- Added rsplit to Index/Series StringMethods ([GH10303](https://github.com/pandas-dev/pandas/issues/10303))  \n",
    "- Removed the hard-coded size limits on the `DataFrame` HTML representation\n",
    "  in the IPython notebook, and leave this to IPython itself (only for IPython\n",
    "  v3.0 or greater). This eliminates the duplicate scroll bars that appeared in\n",
    "  the notebook with large frames ([GH10231](https://github.com/pandas-dev/pandas/issues/10231)).  \n",
    "  Note that the notebook has a `toggle output scrolling` feature to limit the\n",
    "  display of very large frames (by clicking left of the output).\n",
    "  You can also configure the way DataFrames are displayed using the pandas\n",
    "  options, see here [here](user_guide/options.ipynb#options-frequently-used).  \n",
    "- `axis` parameter of `DataFrame.quantile` now accepts also `index` and `column`. ([GH9543](https://github.com/pandas-dev/pandas/issues/9543))  \n",
    "\n",
    "\n",
    "\n",
    "<a id='whatsnew-0162-api'></a>"
   ]
  },
  {
   "cell_type": "markdown",
   "metadata": {},
   "source": [
    "## API changes\n",
    "\n",
    "- `Holiday` now raises `NotImplementedError` if both `offset` and `observance` are used in the constructor instead of returning an incorrect result ([GH10217](https://github.com/pandas-dev/pandas/issues/10217)).  \n",
    "\n",
    "\n",
    "\n",
    "<a id='whatsnew-0162-performance'></a>"
   ]
  },
  {
   "cell_type": "markdown",
   "metadata": {},
   "source": [
    "## Performance improvements\n",
    "\n",
    "- Improved `Series.resample` performance with `dtype=datetime64[ns]` ([GH7754](https://github.com/pandas-dev/pandas/issues/7754))  \n",
    "- Increase performance of `str.split` when `expand=True` ([GH10081](https://github.com/pandas-dev/pandas/issues/10081))  \n",
    "\n",
    "\n",
    "\n",
    "<a id='whatsnew-0162-bug-fixes'></a>"
   ]
  },
  {
   "cell_type": "markdown",
   "metadata": {},
   "source": [
    "## Bug fixes\n",
    "\n",
    "- Bug in `Series.hist` raises an error when a one row `Series` was given ([GH10214](https://github.com/pandas-dev/pandas/issues/10214))  \n",
    "- Bug where `HDFStore.select` modifies the passed columns list ([GH7212](https://github.com/pandas-dev/pandas/issues/7212))  \n",
    "- Bug in `Categorical` repr with `display.width` of `None` in Python 3 ([GH10087](https://github.com/pandas-dev/pandas/issues/10087))  \n",
    "- Bug in `to_json` with certain orients and a `CategoricalIndex` would segfault ([GH10317](https://github.com/pandas-dev/pandas/issues/10317))  \n",
    "- Bug where some of the nan functions do not have consistent return dtypes ([GH10251](https://github.com/pandas-dev/pandas/issues/10251))  \n",
    "- Bug in `DataFrame.quantile` on checking that a valid axis was passed ([GH9543](https://github.com/pandas-dev/pandas/issues/9543))  \n",
    "- Bug in `groupby.apply` aggregation for `Categorical` not preserving categories ([GH10138](https://github.com/pandas-dev/pandas/issues/10138))  \n",
    "- Bug in `to_csv` where `date_format` is ignored if the `datetime` is fractional ([GH10209](https://github.com/pandas-dev/pandas/issues/10209))  \n",
    "- Bug in `DataFrame.to_json` with mixed data types ([GH10289](https://github.com/pandas-dev/pandas/issues/10289))  \n",
    "- Bug in cache updating when consolidating ([GH10264](https://github.com/pandas-dev/pandas/issues/10264))  \n",
    "- Bug in `mean()` where integer dtypes can overflow ([GH10172](https://github.com/pandas-dev/pandas/issues/10172))  \n",
    "- Bug where `Panel.from_dict` does not set dtype when specified ([GH10058](https://github.com/pandas-dev/pandas/issues/10058))  \n",
    "- Bug in `Index.union` raises `AttributeError` when passing array-likes. ([GH10149](https://github.com/pandas-dev/pandas/issues/10149))  \n",
    "- Bug in `Timestamp`’s‘ `microsecond`, `quarter`, `dayofyear`, `week` and `daysinmonth` properties return `np.int` type, not built-in `int`. ([GH10050](https://github.com/pandas-dev/pandas/issues/10050))  \n",
    "- Bug in `NaT` raises `AttributeError` when accessing to `daysinmonth`, `dayofweek` properties. ([GH10096](https://github.com/pandas-dev/pandas/issues/10096))  \n",
    "- Bug in Index repr when using the `max_seq_items=None` setting ([GH10182](https://github.com/pandas-dev/pandas/issues/10182)).  \n",
    "- Bug in getting timezone data with `dateutil` on various platforms ( [GH9059](https://github.com/pandas-dev/pandas/issues/9059), [GH8639](https://github.com/pandas-dev/pandas/issues/8639), [GH9663](https://github.com/pandas-dev/pandas/issues/9663), [GH10121](https://github.com/pandas-dev/pandas/issues/10121))  \n",
    "- Bug in displaying datetimes with mixed frequencies; display ‘ms’ datetimes to the proper precision. ([GH10170](https://github.com/pandas-dev/pandas/issues/10170))  \n",
    "- Bug in `setitem` where type promotion is applied to the entire block ([GH10280](https://github.com/pandas-dev/pandas/issues/10280))  \n",
    "- Bug in `Series` arithmetic methods may incorrectly hold names ([GH10068](https://github.com/pandas-dev/pandas/issues/10068))  \n",
    "- Bug in `GroupBy.get_group` when grouping on multiple keys, one of which is categorical. ([GH10132](https://github.com/pandas-dev/pandas/issues/10132))  \n",
    "- Bug in `DatetimeIndex` and `TimedeltaIndex` names are lost after timedelta arithmetics ( [GH9926](https://github.com/pandas-dev/pandas/issues/9926))  \n",
    "- Bug in `DataFrame` construction from nested `dict` with `datetime64` ([GH10160](https://github.com/pandas-dev/pandas/issues/10160))  \n",
    "- Bug in `Series` construction from `dict` with `datetime64` keys ([GH9456](https://github.com/pandas-dev/pandas/issues/9456))  \n",
    "- Bug in `Series.plot(label=\"LABEL\")` not correctly setting the label ([GH10119](https://github.com/pandas-dev/pandas/issues/10119))  \n",
    "- Bug in `plot` not defaulting to matplotlib `axes.grid` setting ([GH9792](https://github.com/pandas-dev/pandas/issues/9792))  \n",
    "- Bug causing strings containing an exponent, but no decimal to be parsed as `int` instead of `float` in `engine='python'` for the `read_csv` parser ([GH9565](https://github.com/pandas-dev/pandas/issues/9565))  \n",
    "- Bug in `Series.align` resets `name` when `fill_value` is specified ([GH10067](https://github.com/pandas-dev/pandas/issues/10067))  \n",
    "- Bug in `read_csv` causing index name not to be set on an empty DataFrame ([GH10184](https://github.com/pandas-dev/pandas/issues/10184))  \n",
    "- Bug in `SparseSeries.abs` resets `name` ([GH10241](https://github.com/pandas-dev/pandas/issues/10241))  \n",
    "- Bug in `TimedeltaIndex` slicing may reset freq ([GH10292](https://github.com/pandas-dev/pandas/issues/10292))  \n",
    "- Bug in `GroupBy.get_group` raises `ValueError` when group key contains `NaT` ([GH6992](https://github.com/pandas-dev/pandas/issues/6992))  \n",
    "- Bug in `SparseSeries` constructor ignores input data name ([GH10258](https://github.com/pandas-dev/pandas/issues/10258))  \n",
    "- Bug in `Categorical.remove_categories` causing a `ValueError` when removing the `NaN` category if underlying dtype is floating-point ([GH10156](https://github.com/pandas-dev/pandas/issues/10156))  \n",
    "- Bug where infer_freq infers time rule (WOM-5XXX) unsupported by to_offset ([GH9425](https://github.com/pandas-dev/pandas/issues/9425))  \n",
    "- Bug in `DataFrame.to_hdf()` where table format would raise a seemingly unrelated error for invalid (non-string) column names. This is now explicitly forbidden. ([GH9057](https://github.com/pandas-dev/pandas/issues/9057))  \n",
    "- Bug to handle masking empty `DataFrame` ([GH10126](https://github.com/pandas-dev/pandas/issues/10126)).  \n",
    "- Bug where MySQL interface could not handle numeric table/column names ([GH10255](https://github.com/pandas-dev/pandas/issues/10255))  \n",
    "- Bug in `read_csv` with a `date_parser` that returned a `datetime64` array of other time resolution than `[ns]` ([GH10245](https://github.com/pandas-dev/pandas/issues/10245))  \n",
    "- Bug in `Panel.apply` when the result has ndim=0 ([GH10332](https://github.com/pandas-dev/pandas/issues/10332))  \n",
    "- Bug in `read_hdf` where `auto_close` could not be passed ([GH9327](https://github.com/pandas-dev/pandas/issues/9327)).  \n",
    "- Bug in `read_hdf` where open stores could not be used ([GH10330](https://github.com/pandas-dev/pandas/issues/10330)).  \n",
    "- Bug in adding empty `DataFrames`, now results in a `DataFrame` that `.equals` an empty `DataFrame` ([GH10181](https://github.com/pandas-dev/pandas/issues/10181)).  \n",
    "- Bug in `to_hdf` and `HDFStore` which did not check that complib choices were valid ([GH4582](https://github.com/pandas-dev/pandas/issues/4582), [GH8874](https://github.com/pandas-dev/pandas/issues/8874)).  \n",
    "\n",
    "\n",
    "\n",
    "<a id='whatsnew-0-16-2-contributors'></a>"
   ]
  },
  {
   "cell_type": "markdown",
   "metadata": {},
   "source": [
    "## Contributors\n",
    "\n",
    "A total of 34 people contributed patches to this release.  People with a\n",
    "“+” by their names contributed a patch for the first time.\n",
    "\n",
    "\n",
    "- Andrew Rosenfeld  \n",
    "- Artemy Kolchinsky  \n",
    "- Bernard Willers +  \n",
    "- Christer van der Meeren  \n",
    "- Christian Hudon +  \n",
    "- Constantine Glen Evans +  \n",
    "- Daniel Julius Lasiman +  \n",
    "- Evan Wright  \n",
    "- Francesco Brundu +  \n",
    "- Gaëtan de Menten +  \n",
    "- Jake VanderPlas  \n",
    "- James Hiebert +  \n",
    "- Jeff Reback  \n",
    "- Joris Van den Bossche  \n",
    "- Justin Lecher +  \n",
    "- Ka Wo Chen +  \n",
    "- Kevin Sheppard  \n",
    "- Mortada Mehyar  \n",
    "- Morton Fox +  \n",
    "- Robin Wilson +  \n",
    "- Sinhrks  \n",
    "- Stephan Hoyer  \n",
    "- Thomas Grainger  \n",
    "- Tom Ajamian  \n",
    "- Tom Augspurger  \n",
    "- Yoshiki Vázquez Baeza  \n",
    "- Younggun Kim  \n",
    "- austinc +  \n",
    "- behzad nouri  \n",
    "- jreback  \n",
    "- lexual  \n",
    "- rekcahpassyla +  \n",
    "- scls19fr  \n",
    "- sinhrks  "
   ]
  }
 ],
 "metadata": {
  "filename": "v0.16.2.rst",
  "kernelspec": {
   "display_name": "Python",
   "language": "python3",
   "name": "python3"
  },
  "title": "v0.16.2 (June 12, 2015)"
 },
 "nbformat": 4,
 "nbformat_minor": 2
}