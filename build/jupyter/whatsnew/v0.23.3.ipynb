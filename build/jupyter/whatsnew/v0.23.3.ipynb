{
 "cells": [
  {
   "cell_type": "markdown",
   "metadata": {},
   "source": [
    "\n",
    "<a id='whatsnew-0233'></a>"
   ]
  },
  {
   "cell_type": "markdown",
   "metadata": {},
   "source": [
    "# What’s new in 0.23.3 (July 7, 2018)\n",
    "\n",
    "{{ header }}\n",
    "\n",
    "This release fixes a build issue with the sdist for Python 3.7 ([GH21785](https://github.com/pandas-dev/pandas/issues/21785))\n",
    "There are no other changes.\n",
    "\n",
    "\n",
    "<a id='whatsnew-0-23-3-contributors'></a>"
   ]
  },
  {
   "cell_type": "markdown",
   "metadata": {},
   "source": [
    "## Contributors\n",
    "\n",
    "A total of 2 people contributed patches to this release.  People with a\n",
    "“+” by their names contributed a patch for the first time.\n",
    "\n",
    "\n",
    "- Tom Augspurger  \n",
    "- meeseeksdev[bot] +  "
   ]
  }
 ],
 "metadata": {
  "filename": "v0.23.3.rst",
  "kernelspec": {
   "display_name": "Python",
   "language": "python3",
   "name": "python3"
  },
  "title": "What’s new in 0.23.3 (July 7, 2018)"
 },
 "nbformat": 4,
 "nbformat_minor": 2
}