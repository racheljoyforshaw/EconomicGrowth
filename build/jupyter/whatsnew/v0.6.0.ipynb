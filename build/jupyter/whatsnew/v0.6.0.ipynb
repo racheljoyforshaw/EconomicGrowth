{
 "cells": [
  {
   "cell_type": "markdown",
   "metadata": {},
   "source": [
    "\n",
    "<a id='whatsnew-060'></a>"
   ]
  },
  {
   "cell_type": "markdown",
   "metadata": {},
   "source": [
    "# v.0.6.0 (November 25, 2011)\n",
    "\n",
    "{{ header }}"
   ]
  },
  {
   "cell_type": "markdown",
   "metadata": {},
   "source": [
    "## New features\n",
    "\n",
    "- [Added](user_guide/reshaping.ipynb#reshaping-melt) `melt` function to `pandas.core.reshape`  \n",
    "- [Added](user_guide/groupby.ipynb#groupby-multiindex) `level` parameter to group by level in Series and DataFrame descriptive statistics ([GH313](https://github.com/pandas-dev/pandas/issues/313))  \n",
    "- [Added](getting_started/basics.ipynb#basics-head-tail) `head` and `tail` methods to Series, analogous to to DataFrame ([GH296](https://github.com/pandas-dev/pandas/issues/296))  \n",
    "- [Added](user_guide/indexing.ipynb#indexing-boolean) `Series.isin` function which checks if each value is contained in a passed sequence ([GH289](https://github.com/pandas-dev/pandas/issues/289))  \n",
    "- [Added](user_guide/io.ipynb#io-formatting) `float_format` option to `Series.to_string`  \n",
    "- [Added](user_guide/io.ipynb#io-parse-dates) `skip_footer` ([GH291](https://github.com/pandas-dev/pandas/issues/291)) and `converters` ([GH343](https://github.com/pandas-dev/pandas/issues/343)) options to `read_csv` and `read_table`  \n",
    "- [Added](user_guide/indexing.ipynb#indexing-duplicate) `drop_duplicates` and `duplicated` functions for removing duplicate DataFrame rows and checking for duplicate rows, respectively ([GH319](https://github.com/pandas-dev/pandas/issues/319))  \n",
    "- [Implemented](getting_started/dsintro.ipynb#dsintro-boolean) operators ‘&’, ‘|’, ‘^’, ‘-‘ on DataFrame ([GH347](https://github.com/pandas-dev/pandas/issues/347))  \n",
    "- [Added](getting_started/basics.ipynb#basics-stats) `Series.mad`, mean absolute deviation  \n",
    "- [Added](user_guide/timeseries.ipynb#timeseries-offsets) `QuarterEnd` DateOffset ([GH321](https://github.com/pandas-dev/pandas/issues/321))  \n",
    "- [Added](getting_started/dsintro.ipynb#dsintro-numpy-interop) `dot` to DataFrame ([GH65](https://github.com/pandas-dev/pandas/issues/65))  \n",
    "- Added `orient` option to `Panel.from_dict` ([GH359](https://github.com/pandas-dev/pandas/issues/359), [GH301](https://github.com/pandas-dev/pandas/issues/301))  \n",
    "- [Added](getting_started/dsintro.ipynb#basics-dataframe-from-dict) `orient` option to `DataFrame.from_dict`  \n",
    "- [Added](getting_started/dsintro.ipynb#basics-dataframe-from-records) passing list of tuples or list of lists to `DataFrame.from_records` ([GH357](https://github.com/pandas-dev/pandas/issues/357))  \n",
    "- [Added](user_guide/groupby.ipynb#groupby-multiindex) multiple levels to groupby ([GH103](https://github.com/pandas-dev/pandas/issues/103))  \n",
    "- [Allow](getting_started/basics.ipynb#basics-sorting) multiple columns in `by` argument of `DataFrame.sort_index` ([GH92](https://github.com/pandas-dev/pandas/issues/92), [GH362](https://github.com/pandas-dev/pandas/issues/362))  \n",
    "- [Added](user_guide/indexing.ipynb#indexing-basics-get-value) fast `get_value` and `put_value` methods to DataFrame ([GH360](https://github.com/pandas-dev/pandas/issues/360))  \n",
    "- [Added](user_guide/computation.ipynb#computation-covariance) `cov` instance methods to Series and DataFrame ([GH194](https://github.com/pandas-dev/pandas/issues/194), [GH362](https://github.com/pandas-dev/pandas/issues/362))  \n",
    "- [Added](user_guide/visualization.ipynb#visualization-barplot) `kind='bar'` option to `DataFrame.plot` ([GH348](https://github.com/pandas-dev/pandas/issues/348))  \n",
    "- [Added](getting_started/basics.ipynb#basics-idxmin) `idxmin` and `idxmax` to Series and DataFrame ([GH286](https://github.com/pandas-dev/pandas/issues/286))  \n",
    "- [Added](user_guide/io.ipynb#io-clipboard) `read_clipboard` function to parse DataFrame from clipboard ([GH300](https://github.com/pandas-dev/pandas/issues/300))  \n",
    "- [Added](getting_started/basics.ipynb#basics-stats) `nunique` function to Series for counting unique elements ([GH297](https://github.com/pandas-dev/pandas/issues/297))  \n",
    "- [Made](getting_started/dsintro.ipynb#basics-dataframe) DataFrame constructor use Series name if no columns passed ([GH373](https://github.com/pandas-dev/pandas/issues/373))  \n",
    "- [Support](user_guide/io.ipynb#io-parse-dates) regular expressions in read_table/read_csv ([GH364](https://github.com/pandas-dev/pandas/issues/364))  \n",
    "- [Added](user_guide/io.ipynb#io-html) `DataFrame.to_html` for writing DataFrame to HTML ([GH387](https://github.com/pandas-dev/pandas/issues/387))  \n",
    "- [Added](getting_started/dsintro.ipynb#basics-dataframe) support for MaskedArray data in DataFrame, masked values converted to NaN ([GH396](https://github.com/pandas-dev/pandas/issues/396))  \n",
    "- [Added](user_guide/visualization.ipynb#visualization-box) `DataFrame.boxplot` function ([GH368](https://github.com/pandas-dev/pandas/issues/368))  \n",
    "- [Can](getting_started/basics.ipynb#basics-apply) pass extra args, kwds to DataFrame.apply ([GH376](https://github.com/pandas-dev/pandas/issues/376))  \n",
    "- [Implement](user_guide/merging.ipynb#merging-multikey-join) `DataFrame.join` with vector `on` argument ([GH312](https://github.com/pandas-dev/pandas/issues/312))  \n",
    "- [Added](user_guide/visualization.ipynb#visualization-basic) `legend` boolean flag to `DataFrame.plot` ([GH324](https://github.com/pandas-dev/pandas/issues/324))  \n",
    "- [Can](user_guide/reshaping.ipynb#reshaping-stacking) pass multiple levels to `stack` and `unstack` ([GH370](https://github.com/pandas-dev/pandas/issues/370))  \n",
    "- [Can](user_guide/reshaping.ipynb#reshaping-pivot) pass multiple values columns to `pivot_table` ([GH381](https://github.com/pandas-dev/pandas/issues/381))  \n",
    "- [Use](user_guide/groupby.ipynb#groupby-multiindex) Series name in GroupBy for result index ([GH363](https://github.com/pandas-dev/pandas/issues/363))  \n",
    "- [Added](getting_started/basics.ipynb#basics-apply) `raw` option to `DataFrame.apply` for performance if only need ndarray ([GH309](https://github.com/pandas-dev/pandas/issues/309))  \n",
    "- Added proper, tested weighted least squares to standard and panel OLS ([GH303](https://github.com/pandas-dev/pandas/issues/303))  "
   ]
  },
  {
   "cell_type": "markdown",
   "metadata": {},
   "source": [
    "## Performance enhancements\n",
    "\n",
    "- VBENCH Cythonized `cache_readonly`, resulting in substantial micro-performance enhancements throughout the code base ([GH361](https://github.com/pandas-dev/pandas/issues/361))  \n",
    "- VBENCH Special Cython matrix iterator for applying arbitrary reduction operations with 3-5x better performance than np.apply_along_axis ([GH309](https://github.com/pandas-dev/pandas/issues/309))  \n",
    "- VBENCH Improved performance of `MultiIndex.from_tuples`  \n",
    "- VBENCH Special Cython matrix iterator for applying arbitrary reduction operations  \n",
    "- VBENCH + DOCUMENT Add `raw` option to `DataFrame.apply` for getting better performance when  \n",
    "- VBENCH Faster cythonized count by level in Series and DataFrame ([GH341](https://github.com/pandas-dev/pandas/issues/341))  \n",
    "- VBENCH? Significant GroupBy performance enhancement with multiple keys with many “empty” combinations  \n",
    "- VBENCH New Cython vectorized function `map_infer` speeds up `Series.apply` and `Series.map` significantly when passed elementwise Python function, motivated by ([GH355](https://github.com/pandas-dev/pandas/issues/355))  \n",
    "- VBENCH Significantly improved performance of `Series.order`, which also makes np.unique called on a Series faster ([GH327](https://github.com/pandas-dev/pandas/issues/327))  \n",
    "- VBENCH Vastly improved performance of GroupBy on axes with a MultiIndex ([GH299](https://github.com/pandas-dev/pandas/issues/299))  \n",
    "\n",
    "\n",
    "\n",
    "<a id='whatsnew-0-6-0-contributors'></a>"
   ]
  },
  {
   "cell_type": "markdown",
   "metadata": {},
   "source": [
    "## Contributors\n",
    "\n",
    "A total of 8 people contributed patches to this release.  People with a\n",
    "“+” by their names contributed a patch for the first time.\n",
    "\n",
    "\n",
    "- Adam Klein +  \n",
    "- Chang She +  \n",
    "- Dieter Vandenbussche  \n",
    "- Jeff Hammerbacher +  \n",
    "- Nathan Pinger +  \n",
    "- Thomas Kluyver  \n",
    "- Wes McKinney  \n",
    "- Wouter Overmeire +  "
   ]
  }
 ],
 "metadata": {
  "filename": "v0.6.0.rst",
  "kernelspec": {
   "display_name": "Python",
   "language": "python3",
   "name": "python3"
  },
  "title": "v.0.6.0 (November 25, 2011)"
 },
 "nbformat": 4,
 "nbformat_minor": 2
}