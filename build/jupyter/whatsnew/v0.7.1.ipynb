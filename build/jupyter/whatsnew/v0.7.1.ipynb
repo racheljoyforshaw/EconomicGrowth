{
 "cells": [
  {
   "cell_type": "markdown",
   "metadata": {},
   "source": [
    "\n",
    "<a id='whatsnew-0701'></a>"
   ]
  },
  {
   "cell_type": "markdown",
   "metadata": {},
   "source": [
    "# v.0.7.1 (February 29, 2012)\n",
    "\n",
    "{{ header }}\n",
    "\n",
    "This release includes a few new features and addresses over a dozen bugs in\n",
    "0.7.0."
   ]
  },
  {
   "cell_type": "markdown",
   "metadata": {},
   "source": [
    "## New features\n",
    "\n",
    "> - Add `to_clipboard` function to pandas namespace for writing objects to\n",
    "  the system clipboard ([GH774](https://github.com/pandas-dev/pandas/issues/774))  \n",
    "- Add `itertuples` method to DataFrame for iterating through the rows of a\n",
    "  dataframe as tuples ([GH818](https://github.com/pandas-dev/pandas/issues/818))  \n",
    "- Add ability to pass fill_value and method to DataFrame and Series align\n",
    "  method ([GH806](https://github.com/pandas-dev/pandas/issues/806), [GH807](https://github.com/pandas-dev/pandas/issues/807))  \n",
    "- Add fill_value option to reindex, align methods ([GH784](https://github.com/pandas-dev/pandas/issues/784))  \n",
    "- Enable concat to produce DataFrame from Series ([GH787](https://github.com/pandas-dev/pandas/issues/787))  \n",
    "- Add `between` method to Series ([GH802](https://github.com/pandas-dev/pandas/issues/802))  \n",
    "- Add HTML representation hook to DataFrame for the IPython HTML notebook\n",
    "  ([GH773](https://github.com/pandas-dev/pandas/issues/773))  \n",
    "- Support for reading Excel 2007 XML documents using openpyxl  "
   ]
  },
  {
   "cell_type": "markdown",
   "metadata": {},
   "source": [
    "## Performance improvements\n",
    "\n",
    "> - Improve performance and memory usage of fillna on DataFrame  \n",
    "- Can concatenate a list of Series along axis=1 to obtain a DataFrame ([GH787](https://github.com/pandas-dev/pandas/issues/787))  \n",
    "\n",
    "\n",
    "\n",
    "\n",
    "<a id='whatsnew-0-7-1-contributors'></a>"
   ]
  },
  {
   "cell_type": "markdown",
   "metadata": {},
   "source": [
    "## Contributors\n",
    "\n",
    "A total of 9 people contributed patches to this release.  People with a\n",
    "“+” by their names contributed a patch for the first time.\n",
    "\n",
    "\n",
    "- Adam Klein  \n",
    "- Brian Granger +  \n",
    "- Chang She  \n",
    "- Dieter Vandenbussche  \n",
    "- Josh Klein  \n",
    "- Steve +  \n",
    "- Wes McKinney  \n",
    "- Wouter Overmeire  \n",
    "- Yaroslav Halchenko  "
   ]
  }
 ],
 "metadata": {
  "filename": "v0.7.1.rst",
  "kernelspec": {
   "display_name": "Python",
   "language": "python3",
   "name": "python3"
  },
  "title": "v.0.7.1 (February 29, 2012)"
 },
 "nbformat": 4,
 "nbformat_minor": 2
}