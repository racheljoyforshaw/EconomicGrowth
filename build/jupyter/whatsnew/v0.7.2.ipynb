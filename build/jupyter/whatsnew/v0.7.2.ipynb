{
 "cells": [
  {
   "cell_type": "markdown",
   "metadata": {},
   "source": [
    "\n",
    "<a id='whatsnew-0702'></a>"
   ]
  },
  {
   "cell_type": "markdown",
   "metadata": {},
   "source": [
    "# v.0.7.2 (March 16, 2012)\n",
    "\n",
    "{{ header }}\n",
    "\n",
    "This release targets bugs in 0.7.1, and adds a few minor features."
   ]
  },
  {
   "cell_type": "markdown",
   "metadata": {},
   "source": [
    "## New features\n",
    "\n",
    "> - Add additional tie-breaking methods in DataFrame.rank ([GH874](https://github.com/pandas-dev/pandas/issues/874))  \n",
    "- Add ascending parameter to rank in Series, DataFrame ([GH875](https://github.com/pandas-dev/pandas/issues/875))  \n",
    "- Add coerce_float option to DataFrame.from_records ([GH893](https://github.com/pandas-dev/pandas/issues/893))  \n",
    "- Add sort_columns parameter to allow unsorted plots ([GH918](https://github.com/pandas-dev/pandas/issues/918))  \n",
    "- Enable column access via attributes on GroupBy ([GH882](https://github.com/pandas-dev/pandas/issues/882))  \n",
    "- Can pass dict of values to DataFrame.fillna ([GH661](https://github.com/pandas-dev/pandas/issues/661))  \n",
    "- Can select multiple hierarchical groups by passing list of values in .ix\n",
    "  ([GH134](https://github.com/pandas-dev/pandas/issues/134))  \n",
    "- Add `axis` option to DataFrame.fillna ([GH174](https://github.com/pandas-dev/pandas/issues/174))  \n",
    "- Add level keyword to `drop` for dropping values from a level ([GH159](https://github.com/pandas-dev/pandas/issues/159))  "
   ]
  },
  {
   "cell_type": "markdown",
   "metadata": {},
   "source": [
    "## Performance improvements\n",
    "\n",
    "> - Use khash for Series.value_counts, add raw function to algorithms.py ([GH861](https://github.com/pandas-dev/pandas/issues/861))  \n",
    "- Intercept __builtin__.sum in groupby ([GH885](https://github.com/pandas-dev/pandas/issues/885))  \n",
    "\n",
    "\n",
    "\n",
    "\n",
    "<a id='whatsnew-0-7-2-contributors'></a>"
   ]
  },
  {
   "cell_type": "markdown",
   "metadata": {},
   "source": [
    "## Contributors\n",
    "\n",
    "A total of 12 people contributed patches to this release.  People with a\n",
    "“+” by their names contributed a patch for the first time.\n",
    "\n",
    "\n",
    "- Adam Klein  \n",
    "- Benjamin Gross +  \n",
    "- Dan Birken +  \n",
    "- Dieter Vandenbussche  \n",
    "- Josh +  \n",
    "- Thomas Kluyver  \n",
    "- Travis N. Vaught +  \n",
    "- Wes McKinney  \n",
    "- Wouter Overmeire  \n",
    "- claudiobertoldi +  \n",
    "- elpres +  \n",
    "- joshuaar +  "
   ]
  }
 ],
 "metadata": {
  "filename": "v0.7.2.rst",
  "kernelspec": {
   "display_name": "Python",
   "language": "python3",
   "name": "python3"
  },
  "title": "v.0.7.2 (March 16, 2012)"
 },
 "nbformat": 4,
 "nbformat_minor": 2
}