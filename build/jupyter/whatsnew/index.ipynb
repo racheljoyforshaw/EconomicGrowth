{
 "cells": [
  {
   "cell_type": "markdown",
   "metadata": {},
   "source": [
    "\n",
    "<a id='release'></a>\n",
    "{{ header }}"
   ]
  },
  {
   "cell_type": "markdown",
   "metadata": {},
   "source": [
    "# Release Notes\n",
    "\n",
    "This is the list of changes to pandas between each release. For full details,\n",
    "see the commit logs at [http://github.com/pandas-dev/pandas](http://github.com/pandas-dev/pandas). For install and\n",
    "upgrade instructions, see [Installation](http://www.statsmodels.org/devel/install.html#install)."
   ]
  },
  {
   "cell_type": "markdown",
   "metadata": {},
   "source": [
    "## Version 0.25\n",
    "\n",
    "- [What’s new in 0.25.0 (July 18, 2019)](v0.25.0)\n",
    "  - [Enhancements](v0.25.0#enhancements)\n",
    "  - [Backwards incompatible API changes](v0.25.0#backwards-incompatible-api-changes)\n",
    "  - [Deprecations](v0.25.0#deprecations)\n",
    "  - [Removal of prior version deprecations/changes](v0.25.0#removal-of-prior-version-deprecations-changes)\n",
    "  - [Performance improvements](v0.25.0#performance-improvements)\n",
    "  - [Bug fixes](v0.25.0#bug-fixes)\n",
    "  - [Contributors](v0.25.0#contributors)"
   ]
  },
  {
   "cell_type": "markdown",
   "metadata": {},
   "source": [
    "## Version 0.24\n",
    "\n",
    "- [Whats new in 0.24.2 (March 12, 2019)](v0.24.2)\n",
    "  - [Fixed regressions](v0.24.2#fixed-regressions)\n",
    "  - [Bug fixes](v0.24.2#bug-fixes)\n",
    "  - [Contributors](v0.24.2#contributors)\n",
    "- [Whats new in 0.24.1 (February 3, 2019)](v0.24.1)\n",
    "  - [API changes](v0.24.1#api-changes)\n",
    "  - [Fixed regressions](v0.24.1#fixed-regressions)\n",
    "  - [Bug fixes](v0.24.1#bug-fixes)\n",
    "  - [Contributors](v0.24.1#contributors)\n",
    "- [What’s new in 0.24.0 (January 25, 2019)](v0.24.0)\n",
    "  - [Enhancements](v0.24.0#enhancements)\n",
    "  - [Backwards incompatible API changes](v0.24.0#backwards-incompatible-api-changes)\n",
    "  - [Extension type changes](v0.24.0#extension-type-changes)\n",
    "  - [Deprecations](v0.24.0#deprecations)\n",
    "  - [Removal of prior version deprecations/changes](v0.24.0#removal-of-prior-version-deprecations-changes)\n",
    "  - [Performance improvements](v0.24.0#performance-improvements)\n",
    "  - [Bug fixes](v0.24.0#bug-fixes)\n",
    "  - [Contributors](v0.24.0#contributors)"
   ]
  },
  {
   "cell_type": "markdown",
   "metadata": {},
   "source": [
    "## Version 0.23\n",
    "\n",
    "- [What’s new in 0.23.4 (August 3, 2018)](v0.23.4)\n",
    "  - [Fixed regressions](v0.23.4#fixed-regressions)\n",
    "  - [Bug fixes](v0.23.4#bug-fixes)\n",
    "  - [Contributors](v0.23.4#contributors)\n",
    "- [What’s new in 0.23.3 (July 7, 2018)](v0.23.3)\n",
    "  - [Contributors](v0.23.3#contributors)\n",
    "- [What’s new in 0.23.2 (July 5, 2018)](v0.23.2)\n",
    "  - [Logical reductions over entire DataFrame](v0.23.2#logical-reductions-over-entire-dataframe)\n",
    "  - [Fixed regressions](v0.23.2#fixed-regressions)\n",
    "  - [Build changes](v0.23.2#build-changes)\n",
    "  - [Bug fixes](v0.23.2#bug-fixes)\n",
    "  - [Contributors](v0.23.2#contributors)\n",
    "- [What’s new in 0.23.1 (June 12, 2018)](v0.23.1)\n",
    "  - [Fixed regressions](v0.23.1#fixed-regressions)\n",
    "  - [Performance improvements](v0.23.1#performance-improvements)\n",
    "  - [Bug fixes](v0.23.1#bug-fixes)\n",
    "  - [Contributors](v0.23.1#contributors)\n",
    "- [What’s new in 0.23.0 (May 15, 2018)](v0.23.0)\n",
    "  - [New features](v0.23.0#new-features)\n",
    "  - [Backwards incompatible API changes](v0.23.0#backwards-incompatible-api-changes)\n",
    "  - [Deprecations](v0.23.0#deprecations)\n",
    "  - [Removal of prior version deprecations/changes](v0.23.0#removal-of-prior-version-deprecations-changes)\n",
    "  - [Performance improvements](v0.23.0#performance-improvements)\n",
    "  - [Documentation changes](v0.23.0#documentation-changes)\n",
    "  - [Bug fixes](v0.23.0#bug-fixes)\n",
    "  - [Contributors](v0.23.0#contributors)"
   ]
  },
  {
   "cell_type": "markdown",
   "metadata": {},
   "source": [
    "## Version 0.22\n",
    "\n",
    "- [v0.22.0 (December 29, 2017)](v0.22.0)\n",
    "  - [Backwards incompatible API changes](v0.22.0#backwards-incompatible-api-changes)\n",
    "  - [Compatibility](v0.22.0#compatibility)\n",
    "  - [Contributors](v0.22.0#contributors)"
   ]
  },
  {
   "cell_type": "markdown",
   "metadata": {},
   "source": [
    "## Version 0.21\n",
    "\n",
    "- [v0.21.1 (December 12, 2017)](v0.21.1)\n",
    "  - [Restore Matplotlib datetime converter registration](v0.21.1#restore-matplotlib-datetime-converter-registration)\n",
    "  - [New features](v0.21.1#new-features)\n",
    "  - [Deprecations](v0.21.1#deprecations)\n",
    "  - [Performance improvements](v0.21.1#performance-improvements)\n",
    "  - [Bug fixes](v0.21.1#bug-fixes)\n",
    "  - [Contributors](v0.21.1#contributors)\n",
    "- [v0.21.0 (October 27, 2017)](v0.21.0)\n",
    "  - [New features](v0.21.0#new-features)\n",
    "  - [Backwards incompatible API changes](v0.21.0#backwards-incompatible-api-changes)\n",
    "  - [Deprecations](v0.21.0#deprecations)\n",
    "  - [Removal of prior version deprecations/changes](v0.21.0#removal-of-prior-version-deprecations-changes)\n",
    "  - [Performance improvements](v0.21.0#performance-improvements)\n",
    "  - [Documentation changes](v0.21.0#documentation-changes)\n",
    "  - [Bug fixes](v0.21.0#bug-fixes)\n",
    "  - [Contributors](v0.21.0#contributors)"
   ]
  },
  {
   "cell_type": "markdown",
   "metadata": {},
   "source": [
    "## Version 0.20\n",
    "\n",
    "- [v0.20.3 (July 7, 2017)](v0.20.3)\n",
    "  - [Bug fixes](v0.20.3#bug-fixes)\n",
    "  - [Contributors](v0.20.3#contributors)\n",
    "- [v0.20.2 (June 4, 2017)](v0.20.2)\n",
    "  - [Enhancements](v0.20.2#enhancements)\n",
    "  - [Performance improvements](v0.20.2#performance-improvements)\n",
    "  - [Bug fixes](v0.20.2#bug-fixes)\n",
    "  - [Contributors](v0.20.2#contributors)\n",
    "- [v0.20.1 (May 5, 2017)](v0.20.0)\n",
    "  - [New features](v0.20.0#new-features)\n",
    "  - [Backwards incompatible API changes](v0.20.0#backwards-incompatible-api-changes)\n",
    "  - [Reorganization of the library: privacy changes](v0.20.0#reorganization-of-the-library-privacy-changes)\n",
    "  - [Deprecations](v0.20.0#deprecations)\n",
    "  - [Removal of prior version deprecations/changes](v0.20.0#removal-of-prior-version-deprecations-changes)\n",
    "  - [Performance improvements](v0.20.0#performance-improvements)\n",
    "  - [Bug fixes](v0.20.0#bug-fixes)\n",
    "  - [Contributors](v0.20.0#contributors)"
   ]
  },
  {
   "cell_type": "markdown",
   "metadata": {},
   "source": [
    "## Version 0.19\n",
    "\n",
    "- [v0.19.2 (December 24, 2016)](v0.19.2)\n",
    "  - [Enhancements](v0.19.2#enhancements)\n",
    "  - [Performance improvements](v0.19.2#performance-improvements)\n",
    "  - [Bug fixes](v0.19.2#bug-fixes)\n",
    "  - [Contributors](v0.19.2#contributors)\n",
    "- [v0.19.1 (November 3, 2016)](v0.19.1)\n",
    "  - [Performance improvements](v0.19.1#performance-improvements)\n",
    "  - [Bug fixes](v0.19.1#bug-fixes)\n",
    "  - [Contributors](v0.19.1#contributors)\n",
    "- [v0.19.0 (October 2, 2016)](v0.19.0)\n",
    "  - [New features](v0.19.0#new-features)\n",
    "  - [API changes](v0.19.0#api-changes)\n",
    "  - [Deprecations](v0.19.0#deprecations)\n",
    "  - [Removal of prior version deprecations/changes](v0.19.0#removal-of-prior-version-deprecations-changes)\n",
    "  - [Performance improvements](v0.19.0#performance-improvements)\n",
    "  - [Bug fixes](v0.19.0#bug-fixes)\n",
    "  - [Contributors](v0.19.0#contributors)"
   ]
  },
  {
   "cell_type": "markdown",
   "metadata": {},
   "source": [
    "## Version 0.18\n",
    "\n",
    "- [v0.18.1 (May 3, 2016)](v0.18.1)\n",
    "  - [New features](v0.18.1#new-features)\n",
    "  - [Sparse changes](v0.18.1#sparse-changes)\n",
    "  - [API changes](v0.18.1#api-changes)\n",
    "  - [Performance improvements](v0.18.1#performance-improvements)\n",
    "  - [Bug fixes](v0.18.1#bug-fixes)\n",
    "  - [Contributors](v0.18.1#contributors)\n",
    "- [v0.18.0 (March 13, 2016)](v0.18.0)\n",
    "  - [New features](v0.18.0#new-features)\n",
    "  - [Backwards incompatible API changes](v0.18.0#backwards-incompatible-api-changes)\n",
    "  - [Performance improvements](v0.18.0#performance-improvements)\n",
    "  - [Bug Fixes](v0.18.0#bug-fixes)\n",
    "  - [Contributors](v0.18.0#contributors)"
   ]
  },
  {
   "cell_type": "markdown",
   "metadata": {},
   "source": [
    "## Version 0.17\n",
    "\n",
    "- [v0.17.1 (November 21, 2015)](v0.17.1)\n",
    "  - [New features](v0.17.1#new-features)\n",
    "  - [Enhancements](v0.17.1#enhancements)\n",
    "  - [API changes](v0.17.1#api-changes)\n",
    "  - [Performance improvements](v0.17.1#performance-improvements)\n",
    "  - [Bug fixes](v0.17.1#bug-fixes)\n",
    "  - [Contributors](v0.17.1#contributors)\n",
    "- [v0.17.0 (October 9, 2015)](v0.17.0)\n",
    "  - [New features](v0.17.0#new-features)\n",
    "  - [Backwards incompatible API changes](v0.17.0#backwards-incompatible-api-changes)\n",
    "  - [Performance improvements](v0.17.0#performance-improvements)\n",
    "  - [Bug fixes](v0.17.0#bug-fixes)\n",
    "  - [Contributors](v0.17.0#contributors)"
   ]
  },
  {
   "cell_type": "markdown",
   "metadata": {},
   "source": [
    "## Version 0.16\n",
    "\n",
    "- [v0.16.2 (June 12, 2015)](v0.16.2)\n",
    "  - [New features](v0.16.2#new-features)\n",
    "  - [API changes](v0.16.2#api-changes)\n",
    "  - [Performance improvements](v0.16.2#performance-improvements)\n",
    "  - [Bug fixes](v0.16.2#bug-fixes)\n",
    "  - [Contributors](v0.16.2#contributors)\n",
    "- [v0.16.1 (May 11, 2015)](v0.16.1)\n",
    "  - [Enhancements](v0.16.1#enhancements)\n",
    "  - [API changes](v0.16.1#api-changes)\n",
    "  - [Index representation](v0.16.1#index-representation)\n",
    "  - [Performance improvements](v0.16.1#performance-improvements)\n",
    "  - [Bug fixes](v0.16.1#bug-fixes)\n",
    "  - [Contributors](v0.16.1#contributors)\n",
    "- [v0.16.0 (March 22, 2015)](v0.16.0)\n",
    "  - [New features](v0.16.0#new-features)\n",
    "  - [Backwards incompatible API changes](v0.16.0#backwards-incompatible-api-changes)\n",
    "  - [Performance improvements](v0.16.0#performance-improvements)\n",
    "  - [Bug fixes](v0.16.0#bug-fixes)\n",
    "  - [Contributors](v0.16.0#contributors)"
   ]
  },
  {
   "cell_type": "markdown",
   "metadata": {},
   "source": [
    "## Version 0.15\n",
    "\n",
    "- [v0.15.2 (December 12, 2014)](v0.15.2)\n",
    "  - [API changes](v0.15.2#api-changes)\n",
    "  - [Enhancements](v0.15.2#enhancements)\n",
    "  - [Performance](v0.15.2#performance)\n",
    "  - [Bug fixes](v0.15.2#bug-fixes)\n",
    "  - [Contributors](v0.15.2#contributors)\n",
    "- [v0.15.1 (November 9, 2014)](v0.15.1)\n",
    "  - [API changes](v0.15.1#api-changes)\n",
    "  - [Enhancements](v0.15.1#enhancements)\n",
    "  - [Bug fixes](v0.15.1#bug-fixes)\n",
    "  - [Contributors](v0.15.1#contributors)\n",
    "- [v0.15.0 (October 18, 2014)](v0.15.0)\n",
    "  - [New features](v0.15.0#new-features)\n",
    "  - [Backwards incompatible API changes](v0.15.0#backwards-incompatible-api-changes)\n",
    "  - [Enhancements](v0.15.0#enhancements)\n",
    "  - [Performance](v0.15.0#performance)\n",
    "  - [Bug fixes](v0.15.0#bug-fixes)\n",
    "  - [Contributors](v0.15.0#contributors)"
   ]
  },
  {
   "cell_type": "markdown",
   "metadata": {},
   "source": [
    "## Version 0.14\n",
    "\n",
    "- [v0.14.1 (July 11, 2014)](v0.14.1)\n",
    "  - [API changes](v0.14.1#api-changes)\n",
    "  - [Enhancements](v0.14.1#enhancements)\n",
    "  - [Performance](v0.14.1#performance)\n",
    "  - [Experimental](v0.14.1#experimental)\n",
    "  - [Bug fixes](v0.14.1#bug-fixes)\n",
    "  - [Contributors](v0.14.1#contributors)\n",
    "- [v0.14.0 (May 31 , 2014)](v0.14.0)\n",
    "  - [API changes](v0.14.0#api-changes)\n",
    "  - [Display changes](v0.14.0#display-changes)\n",
    "  - [Text parsing API changes](v0.14.0#text-parsing-api-changes)\n",
    "  - [Groupby API changes](v0.14.0#groupby-api-changes)\n",
    "  - [SQL](v0.14.0#sql)\n",
    "  - [MultiIndexing using slicers](v0.14.0#multiindexing-using-slicers)\n",
    "  - [Plotting](v0.14.0#plotting)\n",
    "  - [Prior version deprecations/changes](v0.14.0#prior-version-deprecations-changes)\n",
    "  - [Deprecations](v0.14.0#deprecations)\n",
    "  - [Known issues](v0.14.0#known-issues)\n",
    "  - [Enhancements](v0.14.0#enhancements)\n",
    "  - [Performance](v0.14.0#performance)\n",
    "  - [Experimental](v0.14.0#experimental)\n",
    "  - [Bug Fixes](v0.14.0#bug-fixes)\n",
    "  - [Contributors](v0.14.0#contributors)"
   ]
  },
  {
   "cell_type": "markdown",
   "metadata": {},
   "source": [
    "## Version 0.13\n",
    "\n",
    "- [v0.13.1 (February 3, 2014)](v0.13.1)\n",
    "  - [Output formatting enhancements](v0.13.1#output-formatting-enhancements)\n",
    "  - [API changes](v0.13.1#api-changes)\n",
    "  - [Prior version deprecations/changes](v0.13.1#prior-version-deprecations-changes)\n",
    "  - [Deprecations](v0.13.1#deprecations)\n",
    "  - [Enhancements](v0.13.1#enhancements)\n",
    "  - [Performance](v0.13.1#performance)\n",
    "  - [Experimental](v0.13.1#experimental)\n",
    "  - [Bug fixes](v0.13.1#bug-fixes)\n",
    "  - [Contributors](v0.13.1#contributors)\n",
    "- [v0.13.0 (January 3, 2014)](v0.13.0)\n",
    "  - [API changes](v0.13.0#api-changes)\n",
    "  - [Prior version deprecations/changes](v0.13.0#prior-version-deprecations-changes)\n",
    "  - [Deprecations](v0.13.0#deprecations)\n",
    "  - [Indexing API changes](v0.13.0#indexing-api-changes)\n",
    "  - [Float64Index API change](v0.13.0#float64index-api-change)\n",
    "  - [HDFStore API changes](v0.13.0#hdfstore-api-changes)\n",
    "  - [DataFrame repr changes](v0.13.0#dataframe-repr-changes)\n",
    "  - [Enhancements](v0.13.0#enhancements)\n",
    "  - [Experimental](v0.13.0#experimental)\n",
    "  - [Internal refactoring](v0.13.0#internal-refactoring)\n",
    "  - [Bug fixes](v0.13.0#bug-fixes)\n",
    "  - [Contributors](v0.13.0#contributors)"
   ]
  },
  {
   "cell_type": "markdown",
   "metadata": {},
   "source": [
    "## Version 0.12\n",
    "\n",
    "- [v0.12.0 (July 24, 2013)](v0.12.0)\n",
    "  - [API changes](v0.12.0#api-changes)\n",
    "  - [I/O enhancements](v0.12.0#i-o-enhancements)\n",
    "  - [Other enhancements](v0.12.0#other-enhancements)\n",
    "  - [Experimental features](v0.12.0#experimental-features)\n",
    "  - [Bug fixes](v0.12.0#bug-fixes)\n",
    "  - [Contributors](v0.12.0#contributors)"
   ]
  },
  {
   "cell_type": "markdown",
   "metadata": {},
   "source": [
    "## Version 0.11\n",
    "\n",
    "- [v0.11.0 (April 22, 2013)](v0.11.0)\n",
    "  - [Selection choices](v0.11.0#selection-choices)\n",
    "  - [Selection deprecations](v0.11.0#selection-deprecations)\n",
    "  - [Dtypes](v0.11.0#dtypes)\n",
    "  - [Dtype conversion](v0.11.0#dtype-conversion)\n",
    "  - [Dtype gotchas](v0.11.0#dtype-gotchas)\n",
    "  - [Datetimes conversion](v0.11.0#datetimes-conversion)\n",
    "  - [API changes](v0.11.0#api-changes)\n",
    "  - [Enhancements](v0.11.0#enhancements)\n",
    "  - [Contributors](v0.11.0#contributors)"
   ]
  },
  {
   "cell_type": "markdown",
   "metadata": {},
   "source": [
    "## Version 0.10\n",
    "\n",
    "- [v0.10.1 (January 22, 2013)](v0.10.1)\n",
    "  - [API changes](v0.10.1#api-changes)\n",
    "  - [New features](v0.10.1#new-features)\n",
    "  - [HDFStore](v0.10.1#hdfstore)\n",
    "  - [Contributors](v0.10.1#contributors)\n",
    "- [v0.10.0 (December 17, 2012)](v0.10.0)\n",
    "  - [File parsing new features](v0.10.0#file-parsing-new-features)\n",
    "  - [API changes](v0.10.0#api-changes)\n",
    "  - [New features](v0.10.0#new-features)\n",
    "  - [Wide DataFrame printing](v0.10.0#wide-dataframe-printing)\n",
    "  - [Updated PyTables support](v0.10.0#updated-pytables-support)\n",
    "  - [N dimensional Panels (experimental)](v0.10.0#n-dimensional-panels-experimental)\n",
    "  - [Contributors](v0.10.0#contributors)"
   ]
  },
  {
   "cell_type": "markdown",
   "metadata": {},
   "source": [
    "## Version 0.9\n",
    "\n",
    "- [v0.9.1 (November 14, 2012)](v0.9.1)\n",
    "  - [New features](v0.9.1#new-features)\n",
    "  - [API changes](v0.9.1#api-changes)\n",
    "  - [Contributors](v0.9.1#contributors)\n",
    "- [v0.9.0 (October 7, 2012)](v0.9.0)\n",
    "  - [New features](v0.9.0#new-features)\n",
    "  - [API changes](v0.9.0#api-changes)\n",
    "  - [Contributors](v0.9.0#contributors)"
   ]
  },
  {
   "cell_type": "markdown",
   "metadata": {},
   "source": [
    "## Version 0.8\n",
    "\n",
    "- [v0.8.1 (July 22, 2012)](v0.8.1)\n",
    "  - [New features](v0.8.1#new-features)\n",
    "  - [Performance improvements](v0.8.1#performance-improvements)\n",
    "  - [Contributors](v0.8.1#contributors)\n",
    "- [v0.8.0 (June 29, 2012)](v0.8.0)\n",
    "  - [Support for non-unique indexes](v0.8.0#support-for-non-unique-indexes)\n",
    "  - [NumPy datetime64 dtype and 1.6 dependency](v0.8.0#numpy-datetime64-dtype-and-1-6-dependency)\n",
    "  - [Time series changes and improvements](v0.8.0#time-series-changes-and-improvements)\n",
    "  - [Other new features](v0.8.0#other-new-features)\n",
    "  - [New plotting methods](v0.8.0#new-plotting-methods)\n",
    "  - [Other API changes](v0.8.0#other-api-changes)\n",
    "  - [Potential porting issues for pandas <= 0.7.3 users](v0.8.0#potential-porting-issues-for-pandas-0-7-3-users)\n",
    "  - [Contributors](v0.8.0#contributors)"
   ]
  },
  {
   "cell_type": "markdown",
   "metadata": {},
   "source": [
    "## Version 0.7\n",
    "\n",
    "- [v.0.7.3 (April 12, 2012)](v0.7.3)\n",
    "  - [New features](v0.7.3#new-features)\n",
    "  - [NA Boolean comparison API change](v0.7.3#na-boolean-comparison-api-change)\n",
    "  - [Other API changes](v0.7.3#other-api-changes)\n",
    "  - [Contributors](v0.7.3#contributors)\n",
    "- [v.0.7.2 (March 16, 2012)](v0.7.2)\n",
    "  - [New features](v0.7.2#new-features)\n",
    "  - [Performance improvements](v0.7.2#performance-improvements)\n",
    "  - [Contributors](v0.7.2#contributors)\n",
    "- [v.0.7.1 (February 29, 2012)](v0.7.1)\n",
    "  - [New features](v0.7.1#new-features)\n",
    "  - [Performance improvements](v0.7.1#performance-improvements)\n",
    "  - [Contributors](v0.7.1#contributors)\n",
    "- [v.0.7.0 (February 9, 2012)](v0.7.0)\n",
    "  - [New features](v0.7.0#new-features)\n",
    "  - [API changes to integer indexing](v0.7.0#api-changes-to-integer-indexing)\n",
    "  - [API tweaks regarding label-based slicing](v0.7.0#api-tweaks-regarding-label-based-slicing)\n",
    "  - [Changes to Series `[]` operator](v0.7.0#changes-to-series-operator)\n",
    "  - [Other API changes](v0.7.0#other-api-changes)\n",
    "  - [Performance improvements](v0.7.0#performance-improvements)\n",
    "  - [Contributors](v0.7.0#contributors)"
   ]
  },
  {
   "cell_type": "markdown",
   "metadata": {},
   "source": [
    "## Version 0.6\n",
    "\n",
    "- [v.0.6.1 (December 13, 2011)](v0.6.1)\n",
    "  - [New features](v0.6.1#new-features)\n",
    "  - [Performance improvements](v0.6.1#performance-improvements)\n",
    "  - [Contributors](v0.6.1#contributors)\n",
    "- [v.0.6.0 (November 25, 2011)](v0.6.0)\n",
    "  - [New features](v0.6.0#new-features)\n",
    "  - [Performance enhancements](v0.6.0#performance-enhancements)\n",
    "  - [Contributors](v0.6.0#contributors)"
   ]
  },
  {
   "cell_type": "markdown",
   "metadata": {},
   "source": [
    "## Version 0.5\n",
    "\n",
    "- [v.0.5.0 (October 24, 2011)](v0.5.0)\n",
    "  - [New features](v0.5.0#new-features)\n",
    "  - [Performance enhancements](v0.5.0#performance-enhancements)\n",
    "  - [Contributors](v0.5.0#contributors)"
   ]
  },
  {
   "cell_type": "markdown",
   "metadata": {},
   "source": [
    "## Version 0.4\n",
    "\n",
    "- [v.0.4.1 through v0.4.3 (September 25 - October 9, 2011)](v0.4.x)\n",
    "  - [New features](v0.4.x#new-features)\n",
    "  - [Performance enhancements](v0.4.x#performance-enhancements)\n",
    "  - [Contributors](v0.4.x#contributors)"
   ]
  }
 ],
 "metadata": {
  "filename": "index.rst",
  "kernelspec": {
   "display_name": "Python",
   "language": "python3",
   "name": "python3"
  },
  "title": "Release Notes"
 },
 "nbformat": 4,
 "nbformat_minor": 2
}