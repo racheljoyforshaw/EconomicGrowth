{
 "cells": [
  {
   "cell_type": "markdown",
   "metadata": {},
   "source": [
    "\n",
    "<a id='whatsnew-0152'></a>"
   ]
  },
  {
   "cell_type": "markdown",
   "metadata": {},
   "source": [
    "# v0.15.2 (December 12, 2014)\n",
    "\n",
    "{{ header }}\n",
    "\n",
    "This is a minor release from 0.15.1 and includes a large number of bug fixes\n",
    "along with several new features, enhancements, and performance improvements.\n",
    "A small number of API changes were necessary to fix existing bugs.\n",
    "We recommend that all users upgrade to this version.\n",
    "\n",
    "- [Enhancements](#whatsnew-0152-enhancements)  \n",
    "- [API Changes](#whatsnew-0152-api)  \n",
    "- [Performance Improvements](#whatsnew-0152-performance)  \n",
    "- [Bug Fixes](#whatsnew-0152-bug-fixes)  \n",
    "\n",
    "\n",
    "\n",
    "<a id='whatsnew-0152-api'></a>"
   ]
  },
  {
   "cell_type": "markdown",
   "metadata": {},
   "source": [
    "## API changes\n",
    "\n",
    "- Indexing in `MultiIndex` beyond lex-sort depth is now supported, though\n",
    "  a lexically sorted index will have a better performance. ([GH2646](https://github.com/pandas-dev/pandas/issues/2646))  \n",
    "- Bug in unique of Series with `category` dtype, which returned all categories regardless\n",
    "whether they were “used” or not (see [GH8559](https://github.com/pandas-dev/pandas/issues/8559) for the discussion).\n",
    "Previous behaviour was to return all categories:  "
   ]
  },
  {
   "cell_type": "markdown",
   "metadata": {
    "hide-output": false
   },
   "source": [
    "```ipython\n",
    "In [3]: cat = pd.Categorical(['a', 'b', 'a'], categories=['a', 'b', 'c'])\n",
    "\n",
    "In [4]: cat\n",
    "Out[4]:\n",
    "[a, b, a]\n",
    "Categories (3, object): [a < b < c]\n",
    "\n",
    "In [5]: cat.unique()\n",
    "Out[5]: array(['a', 'b', 'c'], dtype=object)\n",
    "```\n"
   ]
  },
  {
   "cell_type": "markdown",
   "metadata": {},
   "source": [
    "Now, only the categories that do effectively occur in the array are returned:  \n",
    "- `Series.all` and `Series.any` now support the `level` and `skipna` parameters. `Series.all`, `Series.any`, `Index.all`, and `Index.any` no longer support the `out` and `keepdims` parameters, which existed for compatibility with ndarray. Various index types no longer support the `all` and `any` aggregation functions and will now raise `TypeError`. ([GH8302](https://github.com/pandas-dev/pandas/issues/8302)).  \n",
    "- Allow equality comparisons of Series with a categorical dtype and object dtype; previously these would raise `TypeError` ([GH8938](https://github.com/pandas-dev/pandas/issues/8938))  \n",
    "- Bug in `NDFrame`: conflicting attribute/column names now behave consistently between getting and setting. Previously, when both a column and attribute named `y` existed, `data.y` would return the attribute, while `data.y = z` would update the column ([GH8994](https://github.com/pandas-dev/pandas/issues/8994))  \n",
    "Old behavior:  "
   ]
  },
  {
   "cell_type": "markdown",
   "metadata": {
    "hide-output": false
   },
   "source": [
    "```ipython\n",
    "In [6]: data.y\n",
    "Out[6]: 2\n",
    "\n",
    "In [7]: data['y'].values\n",
    "Out[7]: array([5, 5, 5])\n",
    "```\n"
   ]
  },
  {
   "cell_type": "markdown",
   "metadata": {},
   "source": [
    "New behavior:  \n",
    "- `Timestamp('now')` is now equivalent to `Timestamp.now()` in that it returns the local time rather than UTC. Also, `Timestamp('today')` is now equivalent to `Timestamp.today()` and both have `tz` as a possible argument. ([GH9000](https://github.com/pandas-dev/pandas/issues/9000))  \n",
    "- Fix negative step support for label-based slices ([GH8753](https://github.com/pandas-dev/pandas/issues/8753))  \n",
    "Old behavior:  "
   ]
  },
  {
   "cell_type": "markdown",
   "metadata": {
    "hide-output": false
   },
   "source": [
    "```ipython\n",
    "In [1]: s = pd.Series(np.arange(3), ['a', 'b', 'c'])\n",
    "Out[1]:\n",
    "a    0\n",
    "b    1\n",
    "c    2\n",
    "dtype: int64\n",
    "\n",
    "In [2]: s.loc['c':'a':-1]\n",
    "Out[2]:\n",
    "c    2\n",
    "dtype: int64\n",
    "```\n"
   ]
  },
  {
   "cell_type": "markdown",
   "metadata": {},
   "source": [
    "New behavior:  \n",
    "\n",
    "\n",
    "\n",
    "<a id='whatsnew-0152-enhancements'></a>"
   ]
  },
  {
   "cell_type": "markdown",
   "metadata": {},
   "source": [
    "## Enhancements\n",
    "\n",
    "`Categorical` enhancements:\n",
    "\n",
    "- Added ability to export Categorical data to Stata ([GH8633](https://github.com/pandas-dev/pandas/issues/8633)).  See [here](user_guide/io.ipynb#io-stata-categorical) for limitations of categorical variables exported to Stata data files.  \n",
    "- Added flag `order_categoricals` to `StataReader` and `read_stata` to select whether to order imported categorical data ([GH8836](https://github.com/pandas-dev/pandas/issues/8836)).  See [here](user_guide/io.ipynb#io-stata-categorical) for more information on importing categorical variables from Stata data files.  \n",
    "- Added ability to export Categorical data to to/from HDF5 ([GH7621](https://github.com/pandas-dev/pandas/issues/7621)). Queries work the same as if it was an object array. However, the `category` dtyped data is stored in a more efficient manner. See [here](user_guide/io.ipynb#io-hdf5-categorical) for an example and caveats w.r.t. prior versions of pandas.  \n",
    "- Added support for `searchsorted()` on Categorical class ([GH8420](https://github.com/pandas-dev/pandas/issues/8420)).  \n",
    "\n",
    "\n",
    "Other enhancements:\n",
    "\n",
    "- Added the ability to specify the SQL type of columns when writing a DataFrame\n",
    "to a database ([GH8778](https://github.com/pandas-dev/pandas/issues/8778)).\n",
    "For example, specifying to use the sqlalchemy `String` type instead of the\n",
    "default `Text` type for string columns:  "
   ]
  },
  {
   "cell_type": "code",
   "execution_count": null,
   "metadata": {
    "hide-output": false
   },
   "outputs": [],
   "source": [
    "from sqlalchemy.types import String\n",
    "data.to_sql('data_dtype', engine, dtype={'Col_1': String})  # noqa F821"
   ]
  },
  {
   "cell_type": "markdown",
   "metadata": {},
   "source": [
    "- `Series.all` and `Series.any` now support the `level` and `skipna` parameters ([GH8302](https://github.com/pandas-dev/pandas/issues/8302)):  \n",
    "- `Panel` now supports the `all` and `any` aggregation functions. ([GH8302](https://github.com/pandas-dev/pandas/issues/8302)):  "
   ]
  },
  {
   "cell_type": "code",
   "execution_count": null,
   "metadata": {
    "hide-output": false
   },
   "outputs": [],
   "source": [
    ">>> p = pd.Panel(np.random.rand(2, 5, 4) > 0.1)\n",
    ">>> p.all()\n",
    "       0      1      2     3\n",
    "0   True   True   True  True\n",
    "1   True  False   True  True\n",
    "2   True   True   True  True\n",
    "3  False   True  False  True\n",
    "4   True   True   True  True"
   ]
  },
  {
   "cell_type": "markdown",
   "metadata": {},
   "source": [
    "- Added support for `utcfromtimestamp()`, `fromtimestamp()`, and `combine()` on Timestamp class ([GH5351](https://github.com/pandas-dev/pandas/issues/5351)).  \n",
    "- Added Google Analytics (pandas.io.ga) basic documentation ([GH8835](https://github.com/pandas-dev/pandas/issues/8835)). See [here](http://pandas.pydata.org/pandas-docs/version/0.15.2/remote_data.html#remote-data-ga).  \n",
    "- `Timedelta` arithmetic returns `NotImplemented` in unknown cases, allowing extensions by custom classes ([GH8813](https://github.com/pandas-dev/pandas/issues/8813)).  \n",
    "- `Timedelta` now supports arithmetic with `numpy.ndarray` objects of the appropriate dtype (numpy 1.8 or newer only) ([GH8884](https://github.com/pandas-dev/pandas/issues/8884)).  \n",
    "- Added `Timedelta.to_timedelta64()` method to the public API ([GH8884](https://github.com/pandas-dev/pandas/issues/8884)).  \n",
    "- Added `gbq.generate_bq_schema()` function to the gbq module ([GH8325](https://github.com/pandas-dev/pandas/issues/8325)).  \n",
    "- `Series` now works with map objects the same way as generators ([GH8909](https://github.com/pandas-dev/pandas/issues/8909)).  \n",
    "- Added context manager to `HDFStore` for automatic closing ([GH8791](https://github.com/pandas-dev/pandas/issues/8791)).  \n",
    "- `to_datetime` gains an `exact` keyword to allow for a format to not require an exact match for a provided format string (if its `False`). `exact` defaults to `True` (meaning that exact matching is still the default)  ([GH8904](https://github.com/pandas-dev/pandas/issues/8904))  \n",
    "- Added `axvlines` boolean option to parallel_coordinates plot function, determines whether vertical lines will be printed, default is True  \n",
    "- Added ability to read table footers to read_html ([GH8552](https://github.com/pandas-dev/pandas/issues/8552))  \n",
    "- `to_sql` now infers data types of non-NA values for columns that contain NA values and have dtype `object` ([GH8778](https://github.com/pandas-dev/pandas/issues/8778)).  \n",
    "\n",
    "\n",
    "\n",
    "<a id='whatsnew-0152-performance'></a>"
   ]
  },
  {
   "cell_type": "markdown",
   "metadata": {},
   "source": [
    "## Performance\n",
    "\n",
    "- Reduce memory usage when skiprows is an integer in read_csv ([GH8681](https://github.com/pandas-dev/pandas/issues/8681))  \n",
    "- Performance boost for `to_datetime` conversions with a passed `format=`, and the `exact=False` ([GH8904](https://github.com/pandas-dev/pandas/issues/8904))  \n",
    "\n",
    "\n",
    "\n",
    "<a id='whatsnew-0152-bug-fixes'></a>"
   ]
  },
  {
   "cell_type": "markdown",
   "metadata": {},
   "source": [
    "## Bug fixes\n",
    "\n",
    "- Bug in concat of Series with `category` dtype which were coercing to `object`. ([GH8641](https://github.com/pandas-dev/pandas/issues/8641))  \n",
    "- Bug in Timestamp-Timestamp not returning a Timedelta type and datelike-datelike ops with timezones ([GH8865](https://github.com/pandas-dev/pandas/issues/8865))  \n",
    "- Made consistent a timezone mismatch exception (either tz operated with None or incompatible timezone), will now return `TypeError` rather than `ValueError` (a couple of edge cases only), ([GH8865](https://github.com/pandas-dev/pandas/issues/8865))  \n",
    "- Bug in using a `pd.Grouper(key=...)` with no level/axis or level only ([GH8795](https://github.com/pandas-dev/pandas/issues/8795), [GH8866](https://github.com/pandas-dev/pandas/issues/8866))  \n",
    "- Report a `TypeError` when invalid/no parameters are passed in a groupby ([GH8015](https://github.com/pandas-dev/pandas/issues/8015))  \n",
    "- Bug in packaging pandas with `py2app/cx_Freeze` ([GH8602](https://github.com/pandas-dev/pandas/issues/8602), [GH8831](https://github.com/pandas-dev/pandas/issues/8831))  \n",
    "- Bug in `groupby` signatures that didn’t include *args or **kwargs ([GH8733](https://github.com/pandas-dev/pandas/issues/8733)).  \n",
    "- `io.data.Options` now raises `RemoteDataError` when no expiry dates are available from Yahoo and when it receives no data from Yahoo ([GH8761](https://github.com/pandas-dev/pandas/issues/8761)), ([GH8783](https://github.com/pandas-dev/pandas/issues/8783)).  \n",
    "- Unclear error message in csv parsing when passing dtype and names and the parsed data is a different data type ([GH8833](https://github.com/pandas-dev/pandas/issues/8833))  \n",
    "- Bug in slicing a MultiIndex with an empty list and at least one boolean indexer ([GH8781](https://github.com/pandas-dev/pandas/issues/8781))  \n",
    "- `io.data.Options` now raises `RemoteDataError` when no expiry dates are available from Yahoo ([GH8761](https://github.com/pandas-dev/pandas/issues/8761)).  \n",
    "- `Timedelta` kwargs may now be numpy ints and floats ([GH8757](https://github.com/pandas-dev/pandas/issues/8757)).  \n",
    "- Fixed several outstanding bugs for `Timedelta` arithmetic and comparisons ([GH8813](https://github.com/pandas-dev/pandas/issues/8813), [GH5963](https://github.com/pandas-dev/pandas/issues/5963), [GH5436](https://github.com/pandas-dev/pandas/issues/5436)).  \n",
    "- `sql_schema` now generates dialect appropriate `CREATE TABLE` statements ([GH8697](https://github.com/pandas-dev/pandas/issues/8697))  \n",
    "- `slice` string method now takes step into account ([GH8754](https://github.com/pandas-dev/pandas/issues/8754))  \n",
    "- Bug in `BlockManager` where setting values with different type would break block integrity ([GH8850](https://github.com/pandas-dev/pandas/issues/8850))  \n",
    "- Bug in `DatetimeIndex` when using `time` object as key ([GH8667](https://github.com/pandas-dev/pandas/issues/8667))  \n",
    "- Bug in `merge` where `how='left'` and `sort=False` would not preserve left frame order ([GH7331](https://github.com/pandas-dev/pandas/issues/7331))  \n",
    "- Bug in `MultiIndex.reindex` where reindexing at level would not reorder labels ([GH4088](https://github.com/pandas-dev/pandas/issues/4088))  \n",
    "- Bug in certain operations with dateutil timezones, manifesting with dateutil 2.3 ([GH8639](https://github.com/pandas-dev/pandas/issues/8639))  \n",
    "- Regression in DatetimeIndex iteration with a Fixed/Local offset timezone ([GH8890](https://github.com/pandas-dev/pandas/issues/8890))  \n",
    "- Bug in `to_datetime` when parsing a nanoseconds using the `%f` format ([GH8989](https://github.com/pandas-dev/pandas/issues/8989))  \n",
    "- `io.data.Options` now raises `RemoteDataError` when no expiry dates are available from Yahoo and when it receives no data from Yahoo ([GH8761](https://github.com/pandas-dev/pandas/issues/8761)), ([GH8783](https://github.com/pandas-dev/pandas/issues/8783)).  \n",
    "- Fix: The font size was only set on x axis if vertical or the y axis if horizontal. ([GH8765](https://github.com/pandas-dev/pandas/issues/8765))  \n",
    "- Fixed division by 0 when reading big csv files in python 3 ([GH8621](https://github.com/pandas-dev/pandas/issues/8621))  \n",
    "- Bug in outputting a MultiIndex with `to_html,index=False` which would add an extra column ([GH8452](https://github.com/pandas-dev/pandas/issues/8452))  \n",
    "- Imported categorical variables from Stata files retain the ordinal information in the underlying data ([GH8836](https://github.com/pandas-dev/pandas/issues/8836)).  \n",
    "- Defined `.size` attribute across `NDFrame` objects to provide compat with numpy >= 1.9.1; buggy with `np.array_split` ([GH8846](https://github.com/pandas-dev/pandas/issues/8846))  \n",
    "- Skip testing of histogram plots for matplotlib <= 1.2 ([GH8648](https://github.com/pandas-dev/pandas/issues/8648)).  \n",
    "- Bug where `get_data_google` returned object dtypes ([GH3995](https://github.com/pandas-dev/pandas/issues/3995))  \n",
    "- Bug in `DataFrame.stack(..., dropna=False)` when the DataFrame’s `columns` is a `MultiIndex`\n",
    "  whose `labels` do not reference all its `levels`. ([GH8844](https://github.com/pandas-dev/pandas/issues/8844))  \n",
    "- Bug in that Option context applied on `__enter__` ([GH8514](https://github.com/pandas-dev/pandas/issues/8514))  \n",
    "- Bug in resample that causes a ValueError when resampling across multiple days\n",
    "  and the last offset is not calculated from the start of the range ([GH8683](https://github.com/pandas-dev/pandas/issues/8683))  \n",
    "- Bug where `DataFrame.plot(kind='scatter')` fails when checking if an np.array is in the DataFrame ([GH8852](https://github.com/pandas-dev/pandas/issues/8852))  \n",
    "- Bug in `pd.infer_freq/DataFrame.inferred_freq` that prevented proper sub-daily frequency inference when the index contained DST days ([GH8772](https://github.com/pandas-dev/pandas/issues/8772)).  \n",
    "- Bug where index name was still used when plotting a series with `use_index=False` ([GH8558](https://github.com/pandas-dev/pandas/issues/8558)).  \n",
    "- Bugs when trying to stack multiple columns, when some (or all) of the level names are numbers ([GH8584](https://github.com/pandas-dev/pandas/issues/8584)).  \n",
    "- Bug in `MultiIndex` where `__contains__` returns wrong result if index is not lexically sorted or unique ([GH7724](https://github.com/pandas-dev/pandas/issues/7724))  \n",
    "- BUG CSV: fix problem with trailing white space in skipped rows, ([GH8679](https://github.com/pandas-dev/pandas/issues/8679)), ([GH8661](https://github.com/pandas-dev/pandas/issues/8661)), ([GH8983](https://github.com/pandas-dev/pandas/issues/8983))  \n",
    "- Regression in `Timestamp` does not parse ‘Z’ zone designator for UTC ([GH8771](https://github.com/pandas-dev/pandas/issues/8771))  \n",
    "- Bug in StataWriter the produces writes strings with 244 characters irrespective of actual size ([GH8969](https://github.com/pandas-dev/pandas/issues/8969))  \n",
    "- Fixed ValueError raised by cummin/cummax when datetime64 Series contains NaT. ([GH8965](https://github.com/pandas-dev/pandas/issues/8965))  \n",
    "- Bug in DataReader returns object dtype if there are missing values ([GH8980](https://github.com/pandas-dev/pandas/issues/8980))  \n",
    "- Bug in plotting if sharex was enabled and index was a timeseries, would show labels on multiple axes ([GH3964](https://github.com/pandas-dev/pandas/issues/3964)).  \n",
    "- Bug where passing a unit to the TimedeltaIndex constructor applied the to nano-second conversion twice. ([GH9011](https://github.com/pandas-dev/pandas/issues/9011)).  \n",
    "- Bug in plotting of a period-like array ([GH9012](https://github.com/pandas-dev/pandas/issues/9012))  \n",
    "\n",
    "\n",
    "\n",
    "<a id='whatsnew-0-15-2-contributors'></a>"
   ]
  },
  {
   "cell_type": "markdown",
   "metadata": {},
   "source": [
    "## Contributors\n",
    "\n",
    "A total of 49 people contributed patches to this release.  People with a\n",
    "“+” by their names contributed a patch for the first time.\n",
    "\n",
    "\n",
    "- Aaron Staple  \n",
    "- Angelos Evripiotis +  \n",
    "- Artemy Kolchinsky  \n",
    "- Benoit Pointet +  \n",
    "- Brian Jacobowski +  \n",
    "- Charalampos Papaloizou +  \n",
    "- Chris Warth +  \n",
    "- David Stephens  \n",
    "- Fabio Zanini +  \n",
    "- Francesc Via +  \n",
    "- Henry Kleynhans +  \n",
    "- Jake VanderPlas +  \n",
    "- Jan Schulz  \n",
    "- Jeff Reback  \n",
    "- Jeff Tratner  \n",
    "- Joris Van den Bossche  \n",
    "- Kevin Sheppard  \n",
    "- Matt Suggit +  \n",
    "- Matthew Brett  \n",
    "- Phillip Cloud  \n",
    "- Rupert Thompson +  \n",
    "- Scott E Lasley +  \n",
    "- Stephan Hoyer  \n",
    "- Stephen Simmons +  \n",
    "- Sylvain Corlay +  \n",
    "- Thomas Grainger +  \n",
    "- Tiago Antao +  \n",
    "- Tom Augspurger  \n",
    "- Trent Hauck  \n",
    "- Victor Chaves +  \n",
    "- Victor Salgado +  \n",
    "- Vikram Bhandoh +  \n",
    "- WANG Aiyong  \n",
    "- Will Holmgren +  \n",
    "- behzad nouri  \n",
    "- broessli +  \n",
    "- charalampos papaloizou +  \n",
    "- immerrr  \n",
    "- jnmclarty  \n",
    "- jreback  \n",
    "- mgilbert +  \n",
    "- onesandzeroes  \n",
    "- peadarcoyle +  \n",
    "- rockg  \n",
    "- seth-p  \n",
    "- sinhrks  \n",
    "- unutbu  \n",
    "- wavedatalab +  \n",
    "- Åsmund Hjulstad +  "
   ]
  }
 ],
 "metadata": {
  "filename": "v0.15.2.rst",
  "kernelspec": {
   "display_name": "Python",
   "language": "python3",
   "name": "python3"
  },
  "title": "v0.15.2 (December 12, 2014)"
 },
 "nbformat": 4,
 "nbformat_minor": 2
}