{
 "cells": [
  {
   "cell_type": "markdown",
   "metadata": {},
   "source": [
    "\n",
    "<a id='whatsnew-0170'></a>"
   ]
  },
  {
   "cell_type": "markdown",
   "metadata": {},
   "source": [
    "# v0.17.0 (October 9, 2015)\n",
    "\n",
    "{{ header }}\n",
    "\n",
    "This is a major release from 0.16.2 and includes a small number of API changes, several new features,\n",
    "enhancements, and performance improvements along with a large number of bug fixes. We recommend that all\n",
    "users upgrade to this version.\n",
    "\n",
    "pandas >= 0.17.0 will no longer support compatibility with Python version 3.2 ([GH9118](https://github.com/pandas-dev/pandas/issues/9118))\n",
    "\n",
    "The `pandas.io.data` package is deprecated and will be replaced by the\n",
    "[pandas-datareader package](https://github.com/pydata/pandas-datareader).\n",
    "This will allow the data modules to be independently updated to your pandas\n",
    "installation. The API for `pandas-datareader v0.1.1` is exactly the same\n",
    "as in `pandas v0.17.0` ([GH8961](https://github.com/pandas-dev/pandas/issues/8961), [GH10861](https://github.com/pandas-dev/pandas/issues/10861)).\n",
    "\n",
    "After installing pandas-datareader, you can easily change your imports:"
   ]
  },
  {
   "cell_type": "code",
   "execution_count": null,
   "metadata": {
    "hide-output": false
   },
   "outputs": [],
   "source": [
    "from pandas.io import data, wb"
   ]
  },
  {
   "cell_type": "markdown",
   "metadata": {},
   "source": [
    "becomes"
   ]
  },
  {
   "cell_type": "code",
   "execution_count": null,
   "metadata": {
    "hide-output": false
   },
   "outputs": [],
   "source": [
    "from pandas_datareader import data, wb"
   ]
  },
  {
   "cell_type": "markdown",
   "metadata": {},
   "source": [
    "Highlights include:\n",
    "\n",
    "- Release the Global Interpreter Lock (GIL) on some cython operations, see [here](#whatsnew-0170-gil)  \n",
    "- Plotting methods are now available as attributes of the `.plot` accessor, see [here](#whatsnew-0170-plot)  \n",
    "- The sorting API has been revamped to remove some long-time inconsistencies, see [here](#whatsnew-0170-api-breaking-sorting)  \n",
    "- Support for a `datetime64[ns]` with timezones as a first-class dtype, see [here](#whatsnew-0170-tz)  \n",
    "- The default for `to_datetime` will now be to `raise` when presented with unparseable formats,\n",
    "  previously this would return the original input. Also, date parse\n",
    "  functions now return consistent results. See [here](#whatsnew-0170-api-breaking-to-datetime)  \n",
    "- The default for `dropna` in `HDFStore` has changed to `False`, to store by default all rows even\n",
    "  if they are all `NaN`, see [here](#whatsnew-0170-api-breaking-hdf-dropna)  \n",
    "- Datetime accessor (`dt`) now supports `Series.dt.strftime` to generate formatted strings for datetime-likes, and `Series.dt.total_seconds` to generate each duration of the timedelta in seconds. See [here](#whatsnew-0170-strftime)  \n",
    "- `Period` and `PeriodIndex` can handle multiplied freq like `3D`, which corresponding to 3 days span. See [here](#whatsnew-0170-periodfreq)  \n",
    "- Development installed versions of pandas will now have `PEP440` compliant version strings ([GH9518](https://github.com/pandas-dev/pandas/issues/9518))  \n",
    "- Development support for benchmarking with the [Air Speed Velocity library](https://github.com/spacetelescope/asv/) ([GH8361](https://github.com/pandas-dev/pandas/issues/8361))  \n",
    "- Support for reading SAS xport files, see [here](#whatsnew-0170-enhancements-sas-xport)  \n",
    "- Documentation comparing SAS to *pandas*, see [here](getting_started/comparison/comparison_with_sas.ipynb#compare-with-sas)  \n",
    "- Removal of the automatic TimeSeries broadcasting, deprecated since 0.8.0, see [here](#whatsnew-0170-prior-deprecations)  \n",
    "- Display format with plain text can optionally align with Unicode East Asian Width, see [here](#whatsnew-0170-east-asian-width)  \n",
    "- Compatibility with Python 3.5 ([GH11097](https://github.com/pandas-dev/pandas/issues/11097))  \n",
    "- Compatibility with matplotlib 1.5.0 ([GH11111](https://github.com/pandas-dev/pandas/issues/11111))  \n",
    "\n",
    "\n",
    "Check the [API Changes](#whatsnew-0170-api) and [deprecations](#whatsnew-0170-deprecations) before updating."
   ]
  },
  {
   "cell_type": "markdown",
   "metadata": {},
   "source": [
    "## What’s new in v0.17.0\n",
    "\n",
    "- [New features](#New-features)  \n",
    "  - [Datetime with TZ](#Datetime-with-TZ)  \n",
    "  - [Releasing the GIL](#Releasing-the-GIL)  \n",
    "  - [Plot submethods](#Plot-submethods)  \n",
    "  - [Additional methods for `dt` accessor](#Additional-methods-for-`dt`-accessor)  \n",
    "    - [strftime](#strftime)  \n",
    "    - [total_seconds](#total_seconds)  \n",
    "  - [Period frequency enhancement](#Period-frequency-enhancement)  \n",
    "  - [Support for SAS XPORT files](#Support-for-SAS-XPORT-files)  \n",
    "  - [Support for math functions in .eval()](#Support-for-math-functions-in-.eval())  \n",
    "  - [Changes to Excel with `MultiIndex`](#Changes-to-Excel-with-`MultiIndex`)  \n",
    "  - [Google BigQuery enhancements](#Google-BigQuery-enhancements)  \n",
    "  - [Display alignment with Unicode East Asian width](#Display-alignment-with-Unicode-East-Asian-width)  \n",
    "  - [Other enhancements](#Other-enhancements)  \n",
    "- [Backwards incompatible API changes](#Backwards-incompatible-API-changes)  \n",
    "  - [Changes to sorting API](#Changes-to-sorting-API)  \n",
    "  - [Changes to to_datetime and to_timedelta](#Changes-to-to_datetime-and-to_timedelta)  \n",
    "    - [Error handling](#Error-handling)  \n",
    "    - [Consistent parsing](#Consistent-parsing)  \n",
    "  - [Changes to Index comparisons](#Changes-to-Index-comparisons)  \n",
    "  - [Changes to boolean comparisons vs. None](#Changes-to-boolean-comparisons-vs.-None)  \n",
    "  - [HDFStore dropna behavior](#HDFStore-dropna-behavior)  \n",
    "  - [Changes to `display.precision` option](#Changes-to-`display.precision`-option)  \n",
    "  - [Changes to `Categorical.unique`](#Changes-to-`Categorical.unique`)  \n",
    "  - [Changes to `bool` passed as `header` in parsers](#Changes-to-`bool`-passed-as-`header`-in-parsers)  \n",
    "  - [Other API changes](#Other-API-changes)  \n",
    "  - [Deprecations](#Deprecations)  \n",
    "  - [Removal of prior version deprecations/changes](#Removal-of-prior-version-deprecations/changes)  \n",
    "- [Performance improvements](#Performance-improvements)  \n",
    "- [Bug fixes](#Bug-fixes)  \n",
    "- [Contributors](#Contributors)  "
   ]
  },
  {
   "cell_type": "markdown",
   "metadata": {},
   "source": [
    "\n",
    "<a id='whatsnew-0170-enhancements'></a>"
   ]
  },
  {
   "cell_type": "markdown",
   "metadata": {},
   "source": [
    "## New features\n",
    "\n",
    "\n",
    "<a id='whatsnew-0170-tz'></a>"
   ]
  },
  {
   "cell_type": "markdown",
   "metadata": {},
   "source": [
    "### Datetime with TZ\n",
    "\n",
    "We are adding an implementation that natively supports datetime with timezones. A `Series` or a `DataFrame` column previously\n",
    "*could* be assigned a datetime with timezones, and would work as an `object` dtype. This had performance issues with a large\n",
    "number rows. See the [docs](user_guide/timeseries.ipynb#timeseries-timezone-series) for more details. ([GH8260](https://github.com/pandas-dev/pandas/issues/8260), [GH10763](https://github.com/pandas-dev/pandas/issues/10763), [GH11034](https://github.com/pandas-dev/pandas/issues/11034)).\n",
    "\n",
    "The new implementation allows for having a single-timezone across all rows, with operations in a performant manner.\n",
    "\n",
    "This uses a new-dtype representation as well, that is very similar in look-and-feel to its numpy cousin `datetime64[ns]`\n",
    "\n",
    ">**Note**\n",
    ">\n",
    ">There is a slightly different string repr for the underlying `DatetimeIndex` as a result of the dtype changes, but\n",
    "functionally these are the same.\n",
    "\n",
    "Previous behavior:"
   ]
  },
  {
   "cell_type": "markdown",
   "metadata": {
    "hide-output": false
   },
   "source": [
    "```ipython\n",
    "In [1]: pd.date_range('20130101', periods=3, tz='US/Eastern')\n",
    "Out[1]: DatetimeIndex(['2013-01-01 00:00:00-05:00', '2013-01-02 00:00:00-05:00',\n",
    "                       '2013-01-03 00:00:00-05:00'],\n",
    "                      dtype='datetime64[ns]', freq='D', tz='US/Eastern')\n",
    "\n",
    "In [2]: pd.date_range('20130101', periods=3, tz='US/Eastern').dtype\n",
    "Out[2]: dtype('<M8[ns]')\n",
    "```\n"
   ]
  },
  {
   "cell_type": "markdown",
   "metadata": {},
   "source": [
    "New behavior:\n",
    "\n",
    "\n",
    "<a id='whatsnew-0170-gil'></a>"
   ]
  },
  {
   "cell_type": "markdown",
   "metadata": {},
   "source": [
    "### Releasing the GIL\n",
    "\n",
    "We are releasing the global-interpreter-lock (GIL) on some cython operations.\n",
    "This will allow other threads to run simultaneously during computation, potentially allowing performance improvements\n",
    "from multi-threading. Notably `groupby`, `nsmallest`, `value_counts` and some indexing operations benefit from this. ([GH8882](https://github.com/pandas-dev/pandas/issues/8882))\n",
    "\n",
    "For example the groupby expression in the following code will have the GIL released during the factorization step, e.g. `df.groupby('key')`\n",
    "as well as the `.sum()` operation."
   ]
  },
  {
   "cell_type": "code",
   "execution_count": null,
   "metadata": {
    "hide-output": false
   },
   "outputs": [],
   "source": [
    "N = 1000000\n",
    "ngroups = 10\n",
    "df = DataFrame({'key': np.random.randint(0, ngroups, size=N),\n",
    "                'data': np.random.randn(N)})\n",
    "df.groupby('key')['data'].sum()"
   ]
  },
  {
   "cell_type": "markdown",
   "metadata": {},
   "source": [
    "Releasing of the GIL could benefit an application that uses threads for user interactions (e.g. [QT](https://wiki.python.org/moin/PyQt)), or performing multi-threaded computations. A nice example of a library that can handle these types of computation-in-parallel is the [dask](https://dask.readthedocs.io/en/latest/) library.\n",
    "\n",
    "\n",
    "<a id='whatsnew-0170-plot'></a>"
   ]
  },
  {
   "cell_type": "markdown",
   "metadata": {},
   "source": [
    "### Plot submethods\n",
    "\n",
    "The Series and DataFrame `.plot()` method allows for customizing [plot types](user_guide/visualization.ipynb#visualization-other) by supplying the `kind` keyword arguments. Unfortunately, many of these kinds of plots use different required and optional keyword arguments, which makes it difficult to discover what any given plot kind uses out of the dozens of possible arguments.\n",
    "\n",
    "To alleviate this issue, we have added a new, optional plotting interface, which exposes each kind of plot as a method of the `.plot` attribute. Instead of writing `series.plot(kind=<kind>, ...)`, you can now also use `series.plot.<kind>(...)`:\n",
    "\n",
    "<img src=\"whatsnew/../_static/whatsnew_plot_submethods.png\" style=\"\">\n",
    "\n",
    "As a result of this change, these methods are now all discoverable via tab-completion:\n",
    "\n",
    "Each method signature only includes relevant arguments. Currently, these are limited to required arguments, but in the future these will include optional arguments, as well. For an overview, see the new api.dataframe.plotting API documentation.\n",
    "\n",
    "\n",
    "<a id='whatsnew-0170-strftime'></a>"
   ]
  },
  {
   "cell_type": "markdown",
   "metadata": {},
   "source": [
    "### Additional methods for `dt` accessor"
   ]
  },
  {
   "cell_type": "markdown",
   "metadata": {},
   "source": [
    "#### strftime\n",
    "\n",
    "We are now supporting a `Series.dt.strftime` method for datetime-likes to generate a formatted string ([GH10110](https://github.com/pandas-dev/pandas/issues/10110)). Examples:\n",
    "\n",
    "The string format is as the python standard library and details can be found [here](https://docs.python.org/2/library/datetime.html#strftime-and-strptime-behavior)"
   ]
  },
  {
   "cell_type": "markdown",
   "metadata": {},
   "source": [
    "#### total_seconds\n",
    "\n",
    "`pd.Series` of type `timedelta64` has new method `.dt.total_seconds()` returning the duration of the timedelta in seconds ([GH10817](https://github.com/pandas-dev/pandas/issues/10817))\n",
    "\n",
    "\n",
    "<a id='whatsnew-0170-periodfreq'></a>"
   ]
  },
  {
   "cell_type": "markdown",
   "metadata": {},
   "source": [
    "### Period frequency enhancement\n",
    "\n",
    "`Period`, `PeriodIndex` and `period_range` can now accept multiplied freq. Also, `Period.freq` and `PeriodIndex.freq` are now stored as a `DateOffset` instance like `DatetimeIndex`, and not as `str` ([GH7811](https://github.com/pandas-dev/pandas/issues/7811))\n",
    "\n",
    "A multiplied freq represents a span of corresponding length. The example below creates a period of 3 days. Addition and subtraction will shift the period by its span.\n",
    "\n",
    "You can use the multiplied freq in `PeriodIndex` and `period_range`.\n",
    "\n",
    "\n",
    "<a id='whatsnew-0170-enhancements-sas-xport'></a>"
   ]
  },
  {
   "cell_type": "markdown",
   "metadata": {},
   "source": [
    "### Support for SAS XPORT files\n",
    "\n",
    "`read_sas()` provides support for reading *SAS XPORT* format files. ([GH4052](https://github.com/pandas-dev/pandas/issues/4052))."
   ]
  },
  {
   "cell_type": "code",
   "execution_count": null,
   "metadata": {
    "hide-output": false
   },
   "outputs": [],
   "source": [
    "df = pd.read_sas('sas_xport.xpt')"
   ]
  },
  {
   "cell_type": "markdown",
   "metadata": {},
   "source": [
    "It is also possible to obtain an iterator and read an XPORT file\n",
    "incrementally."
   ]
  },
  {
   "cell_type": "code",
   "execution_count": null,
   "metadata": {
    "hide-output": false
   },
   "outputs": [],
   "source": [
    "for df in pd.read_sas('sas_xport.xpt', chunksize=10000):\n",
    "    do_something(df)"
   ]
  },
  {
   "cell_type": "markdown",
   "metadata": {},
   "source": [
    "See the [docs](user_guide/io.ipynb#io-sas) for more details.\n",
    "\n",
    "\n",
    "<a id='whatsnew-0170-matheval'></a>"
   ]
  },
  {
   "cell_type": "markdown",
   "metadata": {},
   "source": [
    "### Support for math functions in .eval()\n",
    "\n",
    "`eval()` now supports calling math functions ([GH4893](https://github.com/pandas-dev/pandas/issues/4893))"
   ]
  },
  {
   "cell_type": "code",
   "execution_count": null,
   "metadata": {
    "hide-output": false
   },
   "outputs": [],
   "source": [
    "df = pd.DataFrame({'a': np.random.randn(10)})\n",
    "df.eval(\"b = sin(a)\")"
   ]
  },
  {
   "cell_type": "markdown",
   "metadata": {},
   "source": [
    "The support math functions are sin, cos, exp, log, expm1, log1p,\n",
    "sqrt, sinh, cosh, tanh, arcsin, arccos, arctan, arccosh,\n",
    "arcsinh, arctanh, abs and arctan2.\n",
    "\n",
    "These functions map to the intrinsics for the `NumExpr` engine.  For the Python\n",
    "engine, they are mapped to `NumPy` calls."
   ]
  },
  {
   "cell_type": "markdown",
   "metadata": {},
   "source": [
    "### Changes to Excel with `MultiIndex`\n",
    "\n",
    "In version 0.16.2 a `DataFrame` with `MultiIndex` columns could not be written to Excel via `to_excel`.\n",
    "That functionality has been added ([GH10564](https://github.com/pandas-dev/pandas/issues/10564)), along with updating  `read_excel` so that the data can\n",
    "be read back with, no loss of information, by specifying which columns/rows make up the `MultiIndex`\n",
    "in the `header` and `index_col` parameters ([GH4679](https://github.com/pandas-dev/pandas/issues/4679))\n",
    "\n",
    "See the [documentation](user_guide/io.ipynb#io-excel) for more details.\n",
    "\n",
    "Previously, it was necessary to specify the `has_index_names` argument in `read_excel`,\n",
    "if the serialized data had index names.  For version 0.17.0 the output format of `to_excel`\n",
    "has been changed to make this keyword unnecessary - the change is shown below.\n",
    "\n",
    "**Old**\n",
    "\n",
    "<img src=\"whatsnew/../_static/old-excel-index.png\" style=\"\">\n",
    "\n",
    "**New**\n",
    "\n",
    "<img src=\"whatsnew/../_static/new-excel-index.png\" style=\"\">\n",
    "\n",
    "Excel files saved in version 0.16.2 or prior that had index names will still able to be read in,\n",
    "but the `has_index_names` argument must specified to `True`.\n",
    "\n",
    "\n",
    "<a id='whatsnew-0170-gbq'></a>"
   ]
  },
  {
   "cell_type": "markdown",
   "metadata": {},
   "source": [
    "### Google BigQuery enhancements\n",
    "\n",
    "- Added ability to automatically create a table/dataset using the `pandas.io.gbq.to_gbq()` function if the destination table/dataset does not exist. ([GH8325](https://github.com/pandas-dev/pandas/issues/8325), [GH11121](https://github.com/pandas-dev/pandas/issues/11121)).  \n",
    "- Added ability to replace an existing table and schema when calling the `pandas.io.gbq.to_gbq()` function via the `if_exists` argument. See the [docs](https://pandas-gbq.readthedocs.io/en/latest/writing.html) for more details ([GH8325](https://github.com/pandas-dev/pandas/issues/8325)).  \n",
    "- `InvalidColumnOrder` and `InvalidPageToken` in the gbq module will raise `ValueError` instead of `IOError`.  \n",
    "- The `generate_bq_schema()` function is now deprecated and will be removed in a future version ([GH11121](https://github.com/pandas-dev/pandas/issues/11121))  \n",
    "- The gbq module will now support Python 3 ([GH11094](https://github.com/pandas-dev/pandas/issues/11094)).  \n",
    "\n",
    "\n",
    "\n",
    "<a id='whatsnew-0170-east-asian-width'></a>"
   ]
  },
  {
   "cell_type": "markdown",
   "metadata": {},
   "source": [
    "### Display alignment with Unicode East Asian width\n",
    "\n",
    "Enabling this option will affect the performance for printing of `DataFrame` and `Series` (about 2 times slower).\n",
    "Use only when it is actually required.\n",
    "\n",
    "Some East Asian countries use Unicode characters its width is corresponding to 2 alphabets. If a `DataFrame` or `Series` contains these characters, the default output cannot be aligned properly. The following options are added to enable precise handling for these characters.\n",
    "\n",
    "- `display.unicode.east_asian_width`: Whether to use the Unicode East Asian Width to calculate the display text width. ([GH2612](https://github.com/pandas-dev/pandas/issues/2612))  \n",
    "- `display.unicode.ambiguous_as_wide`: Whether to handle Unicode characters belong to Ambiguous as Wide. ([GH11102](https://github.com/pandas-dev/pandas/issues/11102))  \n",
    "\n",
    "\n",
    "<img src=\"whatsnew/../_static/option_unicode01.png\" style=\"\">\n",
    "\n",
    "<img src=\"whatsnew/../_static/option_unicode02.png\" style=\"\">\n",
    "\n",
    "For further details, see [here](user_guide/options.ipynb#options-east-asian-width)\n",
    "\n",
    "\n",
    "<a id='whatsnew-0170-enhancements-other'></a>"
   ]
  },
  {
   "cell_type": "markdown",
   "metadata": {},
   "source": [
    "### Other enhancements\n",
    "\n",
    "- Support for `openpyxl` >= 2.2. The API for style support is now stable ([GH10125](https://github.com/pandas-dev/pandas/issues/10125))  \n",
    "- `merge` now accepts the argument `indicator` which adds a Categorical-type column (by default called `_merge`) to the output object that takes on the values ([GH8790](https://github.com/pandas-dev/pandas/issues/8790))  \n",
    "    \n",
    "  ``  \n",
    "  ``  \n",
    "  ``  \n",
    "  ``  \n",
    "  ``  \n",
    "    \n",
    "  ``  \n",
    "  |Observation Origin|_merge value|\n",
    "  |:---------------------------------:|:--------------:|\n",
    "  |Merge key only in 'left' frame|left_only|\n",
    "  |Merge key only in 'right' frame|right_only|\n",
    "  |Merge key in both frames|both|\n",
    "  For more, see the [updated docs](user_guide/merging.ipynb#merging-indicator)  \n",
    "- `pd.to_numeric` is a new function to coerce strings to numbers (possibly with coercion) ([GH11133](https://github.com/pandas-dev/pandas/issues/11133))  \n",
    "- `pd.merge` will now allow duplicate column names if they are not merged upon ([GH10639](https://github.com/pandas-dev/pandas/issues/10639)).  \n",
    "- `pd.pivot` will now allow passing index as `None` ([GH3962](https://github.com/pandas-dev/pandas/issues/3962)).  \n",
    "- `pd.concat` will now use existing Series names if provided ([GH10698](https://github.com/pandas-dev/pandas/issues/10698)).  \n",
    "Previous behavior:  "
   ]
  },
  {
   "cell_type": "markdown",
   "metadata": {
    "hide-output": false
   },
   "source": [
    "```ipython\n",
    "In [1]: pd.concat([foo, bar, baz], 1)\n",
    "Out[1]:\n",
    "      0  1  2\n",
    "   0  1  1  4\n",
    "   1  2  2  5\n",
    "```\n"
   ]
  },
  {
   "cell_type": "markdown",
   "metadata": {},
   "source": [
    "New behavior:  \n",
    "- `DataFrame` has gained the `nlargest` and `nsmallest` methods ([GH10393](https://github.com/pandas-dev/pandas/issues/10393))  \n",
    "- Add a `limit_direction` keyword argument that works with `limit` to enable `interpolate` to fill `NaN` values forward, backward, or both ([GH9218](https://github.com/pandas-dev/pandas/issues/9218), [GH10420](https://github.com/pandas-dev/pandas/issues/10420), [GH11115](https://github.com/pandas-dev/pandas/issues/11115))  \n",
    "- Added a `DataFrame.round` method to round the values to a variable number of decimal places ([GH10568](https://github.com/pandas-dev/pandas/issues/10568)).  \n",
    "- `drop_duplicates` and `duplicated` now accept a `keep` keyword to target first, last, and all duplicates. The `take_last` keyword is deprecated, see [here](#whatsnew-0170-deprecations) ([GH6511](https://github.com/pandas-dev/pandas/issues/6511), [GH8505](https://github.com/pandas-dev/pandas/issues/8505))  \n",
    "- Reindex now has a `tolerance` argument that allows for finer control of [Limits on filling while reindexing](getting_started/basics.ipynb#basics-limits-on-reindex-fill) ([GH10411](https://github.com/pandas-dev/pandas/issues/10411)):  \n",
    "  When used on a `DatetimeIndex`, `TimedeltaIndex` or `PeriodIndex`, `tolerance` will coerced into a `Timedelta` if possible. This allows you to specify tolerance with a string:  \n",
    "  `tolerance` is also exposed by the lower level `Index.get_indexer` and `Index.get_loc` methods.  \n",
    "- Added functionality to use the `base` argument when resampling a `TimeDeltaIndex` ([GH10530](https://github.com/pandas-dev/pandas/issues/10530))  \n",
    "- `DatetimeIndex` can be instantiated using strings contains `NaT` ([GH7599](https://github.com/pandas-dev/pandas/issues/7599))  \n",
    "- `to_datetime` can now accept the `yearfirst` keyword ([GH7599](https://github.com/pandas-dev/pandas/issues/7599))  \n",
    "- `pandas.tseries.offsets` larger than the `Day` offset can now be used with a `Series` for addition/subtraction ([GH10699](https://github.com/pandas-dev/pandas/issues/10699)).  See the [docs](user_guide/timeseries.ipynb#timeseries-offsetseries) for more details.  \n",
    "- `pd.Timedelta.total_seconds()` now returns Timedelta duration to ns precision (previously microsecond precision) ([GH10939](https://github.com/pandas-dev/pandas/issues/10939))  \n",
    "- `PeriodIndex` now supports arithmetic with `np.ndarray` ([GH10638](https://github.com/pandas-dev/pandas/issues/10638))  \n",
    "- Support pickling of `Period` objects ([GH10439](https://github.com/pandas-dev/pandas/issues/10439))  \n",
    "- `.as_blocks` will now take a `copy` optional argument to return a copy of the data, default is to copy (no change in behavior from prior versions), ([GH9607](https://github.com/pandas-dev/pandas/issues/9607))  \n",
    "- `regex` argument to `DataFrame.filter` now handles numeric column names instead of raising `ValueError` ([GH10384](https://github.com/pandas-dev/pandas/issues/10384)).  \n",
    "- Enable reading gzip compressed files via URL, either by explicitly setting the compression parameter or by inferring from the presence of the HTTP Content-Encoding header in the response ([GH8685](https://github.com/pandas-dev/pandas/issues/8685))  \n",
    "- Enable writing Excel files in [memory](user_guide/io.ipynb#io-excel-writing-buffer) using StringIO/BytesIO ([GH7074](https://github.com/pandas-dev/pandas/issues/7074))  \n",
    "- Enable serialization of lists and dicts to strings in `ExcelWriter` ([GH8188](https://github.com/pandas-dev/pandas/issues/8188))  \n",
    "- SQL io functions now accept a SQLAlchemy connectable. ([GH7877](https://github.com/pandas-dev/pandas/issues/7877))  \n",
    "- `pd.read_sql` and `to_sql` can accept database URI as `con` parameter ([GH10214](https://github.com/pandas-dev/pandas/issues/10214))  \n",
    "- `read_sql_table` will now allow reading from views ([GH10750](https://github.com/pandas-dev/pandas/issues/10750)).  \n",
    "- Enable writing complex values to `HDFStores` when using the `table` format ([GH10447](https://github.com/pandas-dev/pandas/issues/10447))  \n",
    "- Enable `pd.read_hdf` to be used without specifying a key when the HDF file contains a single dataset ([GH10443](https://github.com/pandas-dev/pandas/issues/10443))  \n",
    "- `pd.read_stata` will now read Stata 118 type files. ([GH9882](https://github.com/pandas-dev/pandas/issues/9882))  \n",
    "- `msgpack` submodule has been updated to 0.4.6 with backward compatibility ([GH10581](https://github.com/pandas-dev/pandas/issues/10581))  \n",
    "- `DataFrame.to_dict` now accepts `orient='index'` keyword argument ([GH10844](https://github.com/pandas-dev/pandas/issues/10844)).  \n",
    "- `DataFrame.apply` will return a Series of dicts if the passed function returns a dict and `reduce=True` ([GH8735](https://github.com/pandas-dev/pandas/issues/8735)).  \n",
    "- Allow passing kwargs to the interpolation methods ([GH10378](https://github.com/pandas-dev/pandas/issues/10378)).  \n",
    "- Improved error message when concatenating an empty iterable of `Dataframe` objects ([GH9157](https://github.com/pandas-dev/pandas/issues/9157))  \n",
    "- `pd.read_csv` can now read bz2-compressed files incrementally, and the C parser can read bz2-compressed files from AWS S3 ([GH11070](https://github.com/pandas-dev/pandas/issues/11070), [GH11072](https://github.com/pandas-dev/pandas/issues/11072)).  \n",
    "- In `pd.read_csv`, recognize `s3n://` and `s3a://` URLs as designating S3 file storage ([GH11070](https://github.com/pandas-dev/pandas/issues/11070), [GH11071](https://github.com/pandas-dev/pandas/issues/11071)).  \n",
    "- Read CSV files from AWS S3 incrementally, instead of first downloading the entire file. (Full file download still required for compressed files in Python 2.)  ([GH11070](https://github.com/pandas-dev/pandas/issues/11070), [GH11073](https://github.com/pandas-dev/pandas/issues/11073))  \n",
    "- `pd.read_csv` is now able to infer compression type for files read from AWS S3 storage ([GH11070](https://github.com/pandas-dev/pandas/issues/11070), [GH11074](https://github.com/pandas-dev/pandas/issues/11074)).  \n",
    "\n",
    "\n",
    "\n",
    "<a id='whatsnew-0170-api'></a>\n",
    "\n",
    "<a id='whatsnew-0170-api-breaking'></a>"
   ]
  },
  {
   "cell_type": "markdown",
   "metadata": {},
   "source": [
    "## Backwards incompatible API changes\n",
    "\n",
    "\n",
    "<a id='whatsnew-0170-api-breaking-sorting'></a>"
   ]
  },
  {
   "cell_type": "markdown",
   "metadata": {},
   "source": [
    "### Changes to sorting API\n",
    "\n",
    "The sorting API has had some longtime inconsistencies. ([GH9816](https://github.com/pandas-dev/pandas/issues/9816), [GH8239](https://github.com/pandas-dev/pandas/issues/8239)).\n",
    "\n",
    "Here is a summary of the API **PRIOR** to 0.17.0:\n",
    "\n",
    "- `Series.sort` is **INPLACE** while `DataFrame.sort` returns a new object.  \n",
    "- `Series.order` returns a new object  \n",
    "- It was possible to use `Series/DataFrame.sort_index` to sort by **values** by passing the `by` keyword.  \n",
    "- `Series/DataFrame.sortlevel` worked only on a `MultiIndex` for sorting by index.  \n",
    "\n",
    "\n",
    "To address these issues, we have revamped the API:\n",
    "\n",
    "- We have introduced a new method, `DataFrame.sort_values()`, which is the merger of `DataFrame.sort()`, `Series.sort()`,\n",
    "  and `Series.order()`, to handle sorting of **values**.  \n",
    "- The existing methods `Series.sort()`, `Series.order()`, and `DataFrame.sort()` have been deprecated and will be removed in a\n",
    "  future version.  \n",
    "- The `by` argument of `DataFrame.sort_index()` has been deprecated and will be removed in a future version.  \n",
    "- The existing method `.sort_index()` will gain the `level` keyword to enable level sorting.  \n",
    "\n",
    "\n",
    "We now have two distinct and non-overlapping methods of sorting. A `*` marks items that\n",
    "will show a `FutureWarning`.\n",
    "\n",
    "To sort by the **values**:\n",
    "\n",
    "````````````|Previous|Replacement|\n",
    "|:--------------------------------:|:----------------------------------:|\n",
    "|* Series.order()|Series.sort_values()|\n",
    "|* Series.sort()|Series.sort_values(inplace=True)|\n",
    "|* DataFrame.sort(columns=...)|DataFrame.sort_values(by=...)|\n",
    "To sort by the **index**:\n",
    "\n",
    "````````````````````|Previous|Replacement|\n",
    "|:--------------------------------:|:----------------------------------:|\n",
    "|Series.sort_index()|Series.sort_index()|\n",
    "|Series.sortlevel(level=...)|Series.sort_index(level=...)|\n",
    "|DataFrame.sort_index()|DataFrame.sort_index()|\n",
    "|DataFrame.sortlevel(level=...)|DataFrame.sort_index(level=...)|\n",
    "|* DataFrame.sort()|DataFrame.sort_index()|\n",
    "We have also deprecated and changed similar methods in two Series-like classes, `Index` and `Categorical`.\n",
    "\n",
    "````````|Previous|Replacement|\n",
    "|:--------------------------------:|:----------------------------------:|\n",
    "|* Index.order()|Index.sort_values()|\n",
    "|* Categorical.order()|Categorical.sort_values()|\n",
    "\n",
    "<a id='whatsnew-0170-api-breaking-to-datetime'></a>"
   ]
  },
  {
   "cell_type": "markdown",
   "metadata": {},
   "source": [
    "### Changes to to_datetime and to_timedelta"
   ]
  },
  {
   "cell_type": "markdown",
   "metadata": {},
   "source": [
    "#### Error handling\n",
    "\n",
    "The default for `pd.to_datetime` error handling has changed to `errors='raise'`.\n",
    "In prior versions it was `errors='ignore'`. Furthermore, the `coerce` argument\n",
    "has been deprecated in favor of `errors='coerce'`. This means that invalid parsing\n",
    "will raise rather that return the original input as in previous versions. ([GH10636](https://github.com/pandas-dev/pandas/issues/10636))\n",
    "\n",
    "Previous behavior:"
   ]
  },
  {
   "cell_type": "markdown",
   "metadata": {
    "hide-output": false
   },
   "source": [
    "```ipython\n",
    "In [2]: pd.to_datetime(['2009-07-31', 'asd'])\n",
    "Out[2]: array(['2009-07-31', 'asd'], dtype=object)\n",
    "```\n"
   ]
  },
  {
   "cell_type": "markdown",
   "metadata": {},
   "source": [
    "New behavior:"
   ]
  },
  {
   "cell_type": "markdown",
   "metadata": {
    "hide-output": false
   },
   "source": [
    "```ipython\n",
    "In [3]: pd.to_datetime(['2009-07-31', 'asd'])\n",
    "ValueError: Unknown string format\n",
    "```\n"
   ]
  },
  {
   "cell_type": "markdown",
   "metadata": {},
   "source": [
    "Of course you can coerce this as well.\n",
    "\n",
    "To keep the previous behavior, you can use `errors='ignore'`:\n",
    "\n",
    "Furthermore, `pd.to_timedelta` has gained a similar API, of `errors='raise'|'ignore'|'coerce'`, and the `coerce` keyword\n",
    "has been deprecated in favor of `errors='coerce'`."
   ]
  },
  {
   "cell_type": "markdown",
   "metadata": {},
   "source": [
    "#### Consistent parsing\n",
    "\n",
    "The string parsing of `to_datetime`, `Timestamp` and `DatetimeIndex` has\n",
    "been made consistent. ([GH7599](https://github.com/pandas-dev/pandas/issues/7599))\n",
    "\n",
    "Prior to v0.17.0, `Timestamp` and `to_datetime` may parse year-only datetime-string incorrectly using today’s date, otherwise `DatetimeIndex`\n",
    "uses the beginning of the year. `Timestamp` and `to_datetime` may raise `ValueError` in some types of datetime-string which `DatetimeIndex`\n",
    "can parse, such as a quarterly string.\n",
    "\n",
    "Previous behavior:"
   ]
  },
  {
   "cell_type": "markdown",
   "metadata": {
    "hide-output": false
   },
   "source": [
    "```ipython\n",
    "In [1]: pd.Timestamp('2012Q2')\n",
    "Traceback\n",
    "   ...\n",
    "ValueError: Unable to parse 2012Q2\n",
    "\n",
    "# Results in today's date.\n",
    "In [2]: pd.Timestamp('2014')\n",
    "Out [2]: 2014-08-12 00:00:00\n",
    "```\n"
   ]
  },
  {
   "cell_type": "markdown",
   "metadata": {},
   "source": [
    "v0.17.0 can parse them as below. It works on `DatetimeIndex` also.\n",
    "\n",
    "New behavior:\n",
    "\n",
    ">**Note**\n",
    ">\n",
    ">If you want to perform calculations based on today’s date, use `Timestamp.now()` and `pandas.tseries.offsets`."
   ]
  },
  {
   "cell_type": "markdown",
   "metadata": {},
   "source": [
    "### Changes to Index comparisons\n",
    "\n",
    "Operator equal on `Index` should behavior similarly to `Series` ([GH9947](https://github.com/pandas-dev/pandas/issues/9947), [GH10637](https://github.com/pandas-dev/pandas/issues/10637))\n",
    "\n",
    "Starting in v0.17.0, comparing `Index` objects of different lengths will raise\n",
    "a `ValueError`. This is to be consistent with the behavior of `Series`.\n",
    "\n",
    "Previous behavior:"
   ]
  },
  {
   "cell_type": "markdown",
   "metadata": {
    "hide-output": false
   },
   "source": [
    "```ipython\n",
    "In [2]: pd.Index([1, 2, 3]) == pd.Index([1, 4, 5])\n",
    "Out[2]: array([ True, False, False], dtype=bool)\n",
    "\n",
    "In [3]: pd.Index([1, 2, 3]) == pd.Index([2])\n",
    "Out[3]: array([False,  True, False], dtype=bool)\n",
    "\n",
    "In [4]: pd.Index([1, 2, 3]) == pd.Index([1, 2])\n",
    "Out[4]: False\n",
    "```\n"
   ]
  },
  {
   "cell_type": "markdown",
   "metadata": {},
   "source": [
    "New behavior:"
   ]
  },
  {
   "cell_type": "markdown",
   "metadata": {
    "hide-output": false
   },
   "source": [
    "```ipython\n",
    "In [8]: pd.Index([1, 2, 3]) == pd.Index([1, 4, 5])\n",
    "Out[8]: array([ True, False, False], dtype=bool)\n",
    "\n",
    "In [9]: pd.Index([1, 2, 3]) == pd.Index([2])\n",
    "ValueError: Lengths must match to compare\n",
    "\n",
    "In [10]: pd.Index([1, 2, 3]) == pd.Index([1, 2])\n",
    "ValueError: Lengths must match to compare\n",
    "```\n"
   ]
  },
  {
   "cell_type": "markdown",
   "metadata": {},
   "source": [
    "Note that this is different from the `numpy` behavior where a comparison can\n",
    "be broadcast:\n",
    "\n",
    "or it can return False if broadcasting can not be done:"
   ]
  },
  {
   "cell_type": "markdown",
   "metadata": {},
   "source": [
    "### Changes to boolean comparisons vs. None\n",
    "\n",
    "Boolean comparisons of a `Series` vs `None` will now be equivalent to comparing with `np.nan`, rather than raise `TypeError`. ([GH1079](https://github.com/pandas-dev/pandas/issues/1079)).\n",
    "\n",
    "Previous behavior:"
   ]
  },
  {
   "cell_type": "markdown",
   "metadata": {
    "hide-output": false
   },
   "source": [
    "```ipython\n",
    "In [5]: s == None\n",
    "TypeError: Could not compare <type 'NoneType'> type with Series\n",
    "```\n"
   ]
  },
  {
   "cell_type": "markdown",
   "metadata": {},
   "source": [
    "New behavior:\n",
    "\n",
    "Usually you simply want to know which values are null.\n",
    "\n",
    "You generally will want to use `isnull/notnull` for these types of comparisons, as `isnull/notnull` tells you which elements are null. One has to be\n",
    "mindful that `nan's` don’t compare equal, but `None's` do. Note that Pandas/numpy uses the fact that `np.nan != np.nan`, and treats `None` like `np.nan`.\n",
    "\n",
    "\n",
    "<a id='whatsnew-0170-api-breaking-hdf-dropna'></a>"
   ]
  },
  {
   "cell_type": "markdown",
   "metadata": {},
   "source": [
    "### HDFStore dropna behavior\n",
    "\n",
    "The default behavior for HDFStore write functions with `format='table'` is now to keep rows that are all missing. Previously, the behavior was to drop rows that were all missing save the index. The previous behavior can be replicated using the `dropna=True` option. ([GH9382](https://github.com/pandas-dev/pandas/issues/9382))\n",
    "\n",
    "Previous behavior:"
   ]
  },
  {
   "cell_type": "markdown",
   "metadata": {
    "hide-output": false
   },
   "source": [
    "```ipython\n",
    "In [27]:\n",
    "df_with_missing.to_hdf('file.h5',\n",
    "                       'df_with_missing',\n",
    "                       format='table',\n",
    "                       mode='w')\n",
    "\n",
    "In [28]: pd.read_hdf('file.h5', 'df_with_missing')\n",
    "\n",
    "Out [28]:\n",
    "      col1  col2\n",
    "  0     0     1\n",
    "  2     2   NaN\n",
    "```\n"
   ]
  },
  {
   "cell_type": "markdown",
   "metadata": {},
   "source": [
    "New behavior:\n",
    "\n",
    "See the [docs](user_guide/io.ipynb#io-hdf5) for more details.\n",
    "\n",
    "\n",
    "<a id='whatsnew-0170-api-breaking-display-precision'></a>"
   ]
  },
  {
   "cell_type": "markdown",
   "metadata": {},
   "source": [
    "### Changes to `display.precision` option\n",
    "\n",
    "The `display.precision` option has been clarified to refer to decimal places ([GH10451](https://github.com/pandas-dev/pandas/issues/10451)).\n",
    "\n",
    "Earlier versions of pandas would format floating point numbers to have one less decimal place than the value in\n",
    "`display.precision`."
   ]
  },
  {
   "cell_type": "markdown",
   "metadata": {
    "hide-output": false
   },
   "source": [
    "```ipython\n",
    "In [1]: pd.set_option('display.precision', 2)\n",
    "\n",
    "In [2]: pd.DataFrame({'x': [123.456789]})\n",
    "Out[2]:\n",
    "       x\n",
    "0  123.5\n",
    "```\n"
   ]
  },
  {
   "cell_type": "markdown",
   "metadata": {},
   "source": [
    "If interpreting precision as “significant figures” this did work for scientific notation but that same interpretation\n",
    "did not work for values with standard formatting. It was also out of step with how numpy handles formatting.\n",
    "\n",
    "Going forward the value of `display.precision` will directly control the number of places after the decimal, for\n",
    "regular formatting as well as scientific notation, similar to how numpy’s `precision` print option works.\n",
    "\n",
    "To preserve output behavior with prior versions the default value of `display.precision` has been reduced to `6`\n",
    "from `7`.\n",
    "\n",
    "\n",
    "<a id='whatsnew-0170-api-breaking-categorical-unique'></a>"
   ]
  },
  {
   "cell_type": "markdown",
   "metadata": {},
   "source": [
    "### Changes to `Categorical.unique`\n",
    "\n",
    "`Categorical.unique` now returns new `Categoricals` with `categories` and `codes` that are unique, rather than returning `np.array` ([GH10508](https://github.com/pandas-dev/pandas/issues/10508))\n",
    "\n",
    "- unordered category: values and categories are sorted by appearance order.  \n",
    "- ordered category: values are sorted by appearance order, categories keep existing order.  "
   ]
  },
  {
   "cell_type": "markdown",
   "metadata": {},
   "source": [
    "### Changes to `bool` passed as `header` in parsers\n",
    "\n",
    "In earlier versions of pandas, if a bool was passed the `header` argument of\n",
    "`read_csv`, `read_excel`, or `read_html` it was implicitly converted to\n",
    "an integer, resulting in `header=0` for `False` and `header=1` for `True`\n",
    "([GH6113](https://github.com/pandas-dev/pandas/issues/6113))\n",
    "\n",
    "A `bool` input to `header` will now raise a `TypeError`"
   ]
  },
  {
   "cell_type": "markdown",
   "metadata": {
    "hide-output": false
   },
   "source": [
    "```ipython\n",
    "In [29]: df = pd.read_csv('data.csv', header=False)\n",
    "TypeError: Passing a bool to header is invalid. Use header=None for no header or\n",
    "header=int or list-like of ints to specify the row(s) making up the column names\n",
    "```\n"
   ]
  },
  {
   "cell_type": "markdown",
   "metadata": {},
   "source": [
    "\n",
    "<a id='whatsnew-0170-api-breaking-other'></a>"
   ]
  },
  {
   "cell_type": "markdown",
   "metadata": {},
   "source": [
    "### Other API changes\n",
    "\n",
    "- Line and kde plot with `subplots=True` now uses default colors, not all black. Specify `color='k'` to draw all lines in black ([GH9894](https://github.com/pandas-dev/pandas/issues/9894))  \n",
    "- Calling the `.value_counts()` method on a Series with a `categorical` dtype now returns a Series with a `CategoricalIndex` ([GH10704](https://github.com/pandas-dev/pandas/issues/10704))  \n",
    "- The metadata properties of subclasses of pandas objects will now be serialized ([GH10553](https://github.com/pandas-dev/pandas/issues/10553)).  \n",
    "- `groupby` using `Categorical` follows the same rule as `Categorical.unique` described above  ([GH10508](https://github.com/pandas-dev/pandas/issues/10508))  \n",
    "- When constructing `DataFrame` with an array of `complex64` dtype previously meant the corresponding column\n",
    "  was automatically promoted to the `complex128` dtype. Pandas will now preserve the itemsize of the input for complex data ([GH10952](https://github.com/pandas-dev/pandas/issues/10952))  \n",
    "- some numeric reduction operators would return `ValueError`, rather than `TypeError` on object types that includes strings and numbers ([GH11131](https://github.com/pandas-dev/pandas/issues/11131))  \n",
    "- Passing currently unsupported `chunksize` argument to `read_excel` or `ExcelFile.parse` will now raise `NotImplementedError` ([GH8011](https://github.com/pandas-dev/pandas/issues/8011))  \n",
    "- Allow an `ExcelFile` object to be passed into `read_excel` ([GH11198](https://github.com/pandas-dev/pandas/issues/11198))  \n",
    "- `DatetimeIndex.union` does not infer `freq` if `self` and the input have `None` as `freq` ([GH11086](https://github.com/pandas-dev/pandas/issues/11086))  \n",
    "- `NaT`’s methods now either raise `ValueError`, or return `np.nan` or `NaT` ([GH9513](https://github.com/pandas-dev/pandas/issues/9513))  \n",
    "    \n",
    "    \n",
    "  ``  \n",
    "  ````  \n",
    "  ``  \n",
    "  ``````````  \n",
    "  ``  \n",
    "  ``  \n",
    "  ``  \n",
    "    \n",
    "  |Behavior|Methods|\n",
    "  |:-----------------------------:|:-------------------------------------------------------------:|\n",
    "  |return np.nan|weekday, isoweekday|\n",
    "  |return NaT|date, now, replace, to_datetime, today|\n",
    "  |return np.datetime64('NaT')|to_datetime64 (unchanged)|\n",
    "  |raise ValueError|All other public methods (names not beginning with underscores)|\n",
    "\n",
    "\n",
    "\n",
    "<a id='whatsnew-0170-deprecations'></a>"
   ]
  },
  {
   "cell_type": "markdown",
   "metadata": {},
   "source": [
    "### Deprecations\n",
    "\n",
    "- For `Series` the following indexing functions are deprecated ([GH10177](https://github.com/pandas-dev/pandas/issues/10177)).  \n",
    "    \n",
    "    \n",
    "  ``  \n",
    "  ````  \n",
    "  ``  \n",
    "  ````  \n",
    "  ``  \n",
    "  ````  \n",
    "  |Deprecated Function|Replacement|\n",
    "  |:-------------------:|:-------------------------------:|\n",
    "  |.irow(i)|.iloc[i] or .iat[i]|\n",
    "  |.iget(i)|.iloc[i] or .iat[i]|\n",
    "  |.iget_value(i)|.iloc[i] or .iat[i]|\n",
    "- For `DataFrame` the following indexing functions are deprecated ([GH10177](https://github.com/pandas-dev/pandas/issues/10177)).  \n",
    "    \n",
    "    \n",
    "  ``  \n",
    "  ``  \n",
    "  ``  \n",
    "  ````  \n",
    "  ``  \n",
    "  ``  \n",
    "  |Deprecated Function|Replacement|\n",
    "  |:-------------------:|:-------------------------------:|\n",
    "  |.irow(i)|.iloc[i]|\n",
    "  |.iget_value(i, j)|.iloc[i, j] or .iat[i, j]|\n",
    "  |.icol(j)|.iloc[:, j]|\n",
    "\n",
    "\n",
    ">**Note**\n",
    ">\n",
    ">These indexing function have been deprecated in the documentation since 0.11.0.\n",
    "\n",
    "- `Categorical.name` was deprecated to make `Categorical` more `numpy.ndarray` like. Use `Series(cat, name=\"whatever\")` instead ([GH10482](https://github.com/pandas-dev/pandas/issues/10482)).  \n",
    "- Setting missing values (NaN) in a `Categorical`’s `categories` will issue a warning ([GH10748](https://github.com/pandas-dev/pandas/issues/10748)). You can still have missing values in the `values`.  \n",
    "- `drop_duplicates` and `duplicated`’s `take_last` keyword was deprecated in favor of `keep`. ([GH6511](https://github.com/pandas-dev/pandas/issues/6511), [GH8505](https://github.com/pandas-dev/pandas/issues/8505))  \n",
    "- `Series.nsmallest` and `nlargest`’s `take_last` keyword was deprecated in favor of `keep`. ([GH10792](https://github.com/pandas-dev/pandas/issues/10792))  \n",
    "- `DataFrame.combineAdd` and `DataFrame.combineMult` are deprecated. They\n",
    "  can easily be replaced by using the `add` and `mul` methods:\n",
    "  `DataFrame.add(other, fill_value=0)` and `DataFrame.mul(other, fill_value=1.)`\n",
    "  ([GH10735](https://github.com/pandas-dev/pandas/issues/10735)).  \n",
    "- `TimeSeries` deprecated in favor of `Series` (note that this has been an alias since 0.13.0), ([GH10890](https://github.com/pandas-dev/pandas/issues/10890))  \n",
    "- `SparsePanel` deprecated and will be removed in a future version ([GH11157](https://github.com/pandas-dev/pandas/issues/11157)).  \n",
    "- `Series.is_time_series` deprecated in favor of `Series.index.is_all_dates` ([GH11135](https://github.com/pandas-dev/pandas/issues/11135))  \n",
    "- Legacy offsets (like `'A@JAN'`) are deprecated (note that this has been alias since 0.8.0) ([GH10878](https://github.com/pandas-dev/pandas/issues/10878))  \n",
    "- `WidePanel` deprecated in favor of `Panel`, `LongPanel` in favor of `DataFrame` (note these have been aliases since < 0.11.0), ([GH10892](https://github.com/pandas-dev/pandas/issues/10892))  \n",
    "- `DataFrame.convert_objects` has been deprecated in favor of type-specific functions `pd.to_datetime`, `pd.to_timestamp` and `pd.to_numeric` (new in 0.17.0) ([GH11133](https://github.com/pandas-dev/pandas/issues/11133)).  \n",
    "\n",
    "\n",
    "\n",
    "<a id='whatsnew-0170-prior-deprecations'></a>"
   ]
  },
  {
   "cell_type": "markdown",
   "metadata": {},
   "source": [
    "### Removal of prior version deprecations/changes\n",
    "\n",
    "- Removal of `na_last` parameters from `Series.order()` and `Series.sort()`, in favor of `na_position`. ([GH5231](https://github.com/pandas-dev/pandas/issues/5231))  \n",
    "- Remove of `percentile_width` from `.describe()`, in favor of `percentiles`. ([GH7088](https://github.com/pandas-dev/pandas/issues/7088))  \n",
    "- Removal of `colSpace` parameter from `DataFrame.to_string()`, in favor of `col_space`, circa 0.8.0 version.  \n",
    "- Removal of automatic time-series broadcasting ([GH2304](https://github.com/pandas-dev/pandas/issues/2304))  \n",
    "Previously  "
   ]
  },
  {
   "cell_type": "markdown",
   "metadata": {
    "hide-output": false
   },
   "source": [
    "```ipython\n",
    "In [3]: df + df.A\n",
    "FutureWarning: TimeSeries broadcasting along DataFrame index by default is deprecated.\n",
    "Please use DataFrame.<op> to explicitly broadcast arithmetic operations along the index\n",
    "\n",
    "Out[3]:\n",
    "                    A         B\n",
    "2013-01-01  0.942870 -0.719541\n",
    "2013-01-02  2.865414  1.120055\n",
    "2013-01-03 -1.441177  0.166574\n",
    "2013-01-04  1.719177  0.223065\n",
    "2013-01-05  0.031393 -2.226989\n",
    "```\n"
   ]
  },
  {
   "cell_type": "markdown",
   "metadata": {},
   "source": [
    "Current  \n",
    "- Remove `table` keyword in `HDFStore.put/append`, in favor of using `format=` ([GH4645](https://github.com/pandas-dev/pandas/issues/4645))  \n",
    "- Remove `kind` in `read_excel/ExcelFile` as its unused ([GH4712](https://github.com/pandas-dev/pandas/issues/4712))  \n",
    "- Remove `infer_type` keyword from `pd.read_html` as its unused ([GH4770](https://github.com/pandas-dev/pandas/issues/4770), [GH7032](https://github.com/pandas-dev/pandas/issues/7032))  \n",
    "- Remove `offset` and `timeRule` keywords from `Series.tshift/shift`, in favor of `freq` ([GH4853](https://github.com/pandas-dev/pandas/issues/4853), [GH4864](https://github.com/pandas-dev/pandas/issues/4864))  \n",
    "- Remove `pd.load/pd.save` aliases in favor of `pd.to_pickle/pd.read_pickle` ([GH3787](https://github.com/pandas-dev/pandas/issues/3787))  \n",
    "\n",
    "\n",
    "\n",
    "<a id='whatsnew-0170-performance'></a>"
   ]
  },
  {
   "cell_type": "markdown",
   "metadata": {},
   "source": [
    "## Performance improvements\n",
    "\n",
    "- Development support for benchmarking with the [Air Speed Velocity library](https://github.com/spacetelescope/asv/) ([GH8361](https://github.com/pandas-dev/pandas/issues/8361))  \n",
    "- Added vbench benchmarks for alternative ExcelWriter engines and reading Excel files ([GH7171](https://github.com/pandas-dev/pandas/issues/7171))  \n",
    "- Performance improvements in `Categorical.value_counts` ([GH10804](https://github.com/pandas-dev/pandas/issues/10804))  \n",
    "- Performance improvements in `SeriesGroupBy.nunique` and `SeriesGroupBy.value_counts` and `SeriesGroupby.transform` ([GH10820](https://github.com/pandas-dev/pandas/issues/10820), [GH11077](https://github.com/pandas-dev/pandas/issues/11077))  \n",
    "- Performance improvements in `DataFrame.drop_duplicates` with integer dtypes ([GH10917](https://github.com/pandas-dev/pandas/issues/10917))  \n",
    "- Performance improvements in `DataFrame.duplicated` with wide frames. ([GH10161](https://github.com/pandas-dev/pandas/issues/10161), [GH11180](https://github.com/pandas-dev/pandas/issues/11180))  \n",
    "- 4x improvement in `timedelta` string parsing ([GH6755](https://github.com/pandas-dev/pandas/issues/6755), [GH10426](https://github.com/pandas-dev/pandas/issues/10426))  \n",
    "- 8x improvement in `timedelta64` and `datetime64` ops ([GH6755](https://github.com/pandas-dev/pandas/issues/6755))  \n",
    "- Significantly improved performance of indexing `MultiIndex` with slicers ([GH10287](https://github.com/pandas-dev/pandas/issues/10287))  \n",
    "- 8x improvement in `iloc` using list-like input ([GH10791](https://github.com/pandas-dev/pandas/issues/10791))  \n",
    "- Improved performance of `Series.isin` for datetimelike/integer Series ([GH10287](https://github.com/pandas-dev/pandas/issues/10287))  \n",
    "- 20x improvement in `concat` of Categoricals when categories are identical ([GH10587](https://github.com/pandas-dev/pandas/issues/10587))  \n",
    "- Improved performance of `to_datetime` when specified format string is ISO8601 ([GH10178](https://github.com/pandas-dev/pandas/issues/10178))  \n",
    "- 2x improvement of `Series.value_counts` for float dtype ([GH10821](https://github.com/pandas-dev/pandas/issues/10821))  \n",
    "- Enable `infer_datetime_format` in `to_datetime` when date components do not have 0 padding ([GH11142](https://github.com/pandas-dev/pandas/issues/11142))  \n",
    "- Regression from 0.16.1 in constructing `DataFrame` from nested dictionary ([GH11084](https://github.com/pandas-dev/pandas/issues/11084))  \n",
    "- Performance improvements in addition/subtraction operations for `DateOffset` with `Series` or `DatetimeIndex`  ([GH10744](https://github.com/pandas-dev/pandas/issues/10744), [GH11205](https://github.com/pandas-dev/pandas/issues/11205))  \n",
    "\n",
    "\n",
    "\n",
    "<a id='whatsnew-0170-bug-fixes'></a>"
   ]
  },
  {
   "cell_type": "markdown",
   "metadata": {},
   "source": [
    "## Bug fixes\n",
    "\n",
    "- Bug in incorrect computation of `.mean()` on `timedelta64[ns]` because of overflow ([GH9442](https://github.com/pandas-dev/pandas/issues/9442))  \n",
    "- Bug in  `.isin` on older numpies ([GH11232](https://github.com/pandas-dev/pandas/issues/11232))  \n",
    "- Bug in `DataFrame.to_html(index=False)` renders unnecessary `name` row ([GH10344](https://github.com/pandas-dev/pandas/issues/10344))  \n",
    "- Bug in `DataFrame.to_latex()` the `column_format` argument could not be passed ([GH9402](https://github.com/pandas-dev/pandas/issues/9402))  \n",
    "- Bug in `DatetimeIndex` when localizing with `NaT` ([GH10477](https://github.com/pandas-dev/pandas/issues/10477))  \n",
    "- Bug in `Series.dt` ops in preserving meta-data ([GH10477](https://github.com/pandas-dev/pandas/issues/10477))  \n",
    "- Bug in preserving `NaT` when passed in an otherwise invalid `to_datetime` construction ([GH10477](https://github.com/pandas-dev/pandas/issues/10477))  \n",
    "- Bug in `DataFrame.apply` when function returns categorical series. ([GH9573](https://github.com/pandas-dev/pandas/issues/9573))  \n",
    "- Bug in `to_datetime` with invalid dates and formats supplied ([GH10154](https://github.com/pandas-dev/pandas/issues/10154))  \n",
    "- Bug in `Index.drop_duplicates` dropping name(s) ([GH10115](https://github.com/pandas-dev/pandas/issues/10115))  \n",
    "- Bug in `Series.quantile` dropping name ([GH10881](https://github.com/pandas-dev/pandas/issues/10881))  \n",
    "- Bug in `pd.Series` when setting a value on an empty `Series` whose index has a frequency. ([GH10193](https://github.com/pandas-dev/pandas/issues/10193))  \n",
    "- Bug in `pd.Series.interpolate` with invalid `order` keyword values. ([GH10633](https://github.com/pandas-dev/pandas/issues/10633))  \n",
    "- Bug in `DataFrame.plot` raises `ValueError` when color name is specified by multiple characters ([GH10387](https://github.com/pandas-dev/pandas/issues/10387))  \n",
    "- Bug in `Index` construction with a mixed list of tuples ([GH10697](https://github.com/pandas-dev/pandas/issues/10697))  \n",
    "- Bug in `DataFrame.reset_index` when index contains `NaT`. ([GH10388](https://github.com/pandas-dev/pandas/issues/10388))  \n",
    "- Bug in `ExcelReader` when worksheet is empty ([GH6403](https://github.com/pandas-dev/pandas/issues/6403))  \n",
    "- Bug in `BinGrouper.group_info` where returned values are not compatible with base class ([GH10914](https://github.com/pandas-dev/pandas/issues/10914))  \n",
    "- Bug in clearing the cache on `DataFrame.pop` and a subsequent inplace op ([GH10912](https://github.com/pandas-dev/pandas/issues/10912))  \n",
    "- Bug in indexing with a mixed-integer `Index` causing an `ImportError` ([GH10610](https://github.com/pandas-dev/pandas/issues/10610))  \n",
    "- Bug in `Series.count` when index has nulls ([GH10946](https://github.com/pandas-dev/pandas/issues/10946))  \n",
    "- Bug in pickling of a non-regular freq `DatetimeIndex` ([GH11002](https://github.com/pandas-dev/pandas/issues/11002))  \n",
    "- Bug causing `DataFrame.where` to not respect the `axis` parameter when the frame has a symmetric shape. ([GH9736](https://github.com/pandas-dev/pandas/issues/9736))  \n",
    "- Bug in `Table.select_column` where name is not preserved ([GH10392](https://github.com/pandas-dev/pandas/issues/10392))  \n",
    "- Bug in `offsets.generate_range` where `start` and `end` have finer precision than `offset` ([GH9907](https://github.com/pandas-dev/pandas/issues/9907))  \n",
    "- Bug in `pd.rolling_*` where `Series.name` would be lost in the output ([GH10565](https://github.com/pandas-dev/pandas/issues/10565))  \n",
    "- Bug in `stack` when index or columns are not unique. ([GH10417](https://github.com/pandas-dev/pandas/issues/10417))  \n",
    "- Bug in setting a `Panel` when an axis has a MultiIndex ([GH10360](https://github.com/pandas-dev/pandas/issues/10360))  \n",
    "- Bug in `USFederalHolidayCalendar` where `USMemorialDay` and `USMartinLutherKingJr` were incorrect ([GH10278](https://github.com/pandas-dev/pandas/issues/10278) and [GH9760](https://github.com/pandas-dev/pandas/issues/9760) )  \n",
    "- Bug in `.sample()` where returned object, if set, gives unnecessary `SettingWithCopyWarning` ([GH10738](https://github.com/pandas-dev/pandas/issues/10738))  \n",
    "- Bug in `.sample()` where weights passed as `Series` were not aligned along axis before being treated positionally, potentially causing problems if weight indices were not aligned with sampled object. ([GH10738](https://github.com/pandas-dev/pandas/issues/10738))  \n",
    "- Regression fixed in ([GH9311](https://github.com/pandas-dev/pandas/issues/9311), [GH6620](https://github.com/pandas-dev/pandas/issues/6620), [GH9345](https://github.com/pandas-dev/pandas/issues/9345)), where groupby with a datetime-like converting to float with certain aggregators ([GH10979](https://github.com/pandas-dev/pandas/issues/10979))  \n",
    "- Bug in `DataFrame.interpolate` with `axis=1` and `inplace=True` ([GH10395](https://github.com/pandas-dev/pandas/issues/10395))  \n",
    "- Bug in `io.sql.get_schema` when specifying multiple columns as primary\n",
    "  key ([GH10385](https://github.com/pandas-dev/pandas/issues/10385)).  \n",
    "- Bug in `groupby(sort=False)` with datetime-like `Categorical` raises `ValueError` ([GH10505](https://github.com/pandas-dev/pandas/issues/10505))  \n",
    "- Bug in `groupby(axis=1)` with `filter()` throws `IndexError` ([GH11041](https://github.com/pandas-dev/pandas/issues/11041))  \n",
    "- Bug in `test_categorical` on big-endian builds ([GH10425](https://github.com/pandas-dev/pandas/issues/10425))  \n",
    "- Bug in `Series.shift` and `DataFrame.shift` not supporting categorical data ([GH9416](https://github.com/pandas-dev/pandas/issues/9416))  \n",
    "- Bug in `Series.map` using categorical `Series` raises `AttributeError` ([GH10324](https://github.com/pandas-dev/pandas/issues/10324))  \n",
    "- Bug in `MultiIndex.get_level_values` including `Categorical` raises `AttributeError` ([GH10460](https://github.com/pandas-dev/pandas/issues/10460))  \n",
    "- Bug in `pd.get_dummies` with `sparse=True` not returning `SparseDataFrame` ([GH10531](https://github.com/pandas-dev/pandas/issues/10531))  \n",
    "- Bug in `Index` subtypes (such as `PeriodIndex`) not returning their own type for `.drop` and `.insert` methods ([GH10620](https://github.com/pandas-dev/pandas/issues/10620))  \n",
    "- Bug in `algos.outer_join_indexer` when `right` array is empty ([GH10618](https://github.com/pandas-dev/pandas/issues/10618))  \n",
    "- Bug in `filter` (regression from 0.16.0) and `transform` when grouping on multiple keys, one of which is datetime-like ([GH10114](https://github.com/pandas-dev/pandas/issues/10114))  \n",
    "- Bug in `to_datetime` and `to_timedelta` causing `Index` name to be lost ([GH10875](https://github.com/pandas-dev/pandas/issues/10875))  \n",
    "- Bug in `len(DataFrame.groupby)` causing `IndexError` when there’s a column containing only NaNs ([GH11016](https://github.com/pandas-dev/pandas/issues/11016))  \n",
    "- Bug that caused segfault when resampling an empty Series ([GH10228](https://github.com/pandas-dev/pandas/issues/10228))  \n",
    "- Bug in `DatetimeIndex` and `PeriodIndex.value_counts` resets name from its result, but retains in result’s `Index`. ([GH10150](https://github.com/pandas-dev/pandas/issues/10150))  \n",
    "- Bug in `pd.eval` using `numexpr` engine coerces 1 element numpy array to scalar ([GH10546](https://github.com/pandas-dev/pandas/issues/10546))  \n",
    "- Bug in `pd.concat` with `axis=0` when column is of dtype `category` ([GH10177](https://github.com/pandas-dev/pandas/issues/10177))  \n",
    "- Bug in `read_msgpack` where input type is not always checked ([GH10369](https://github.com/pandas-dev/pandas/issues/10369), [GH10630](https://github.com/pandas-dev/pandas/issues/10630))  \n",
    "- Bug in `pd.read_csv` with kwargs `index_col=False`, `index_col=['a', 'b']` or `dtype`\n",
    "  ([GH10413](https://github.com/pandas-dev/pandas/issues/10413), [GH10467](https://github.com/pandas-dev/pandas/issues/10467), [GH10577](https://github.com/pandas-dev/pandas/issues/10577))  \n",
    "- Bug in `Series.from_csv` with `header` kwarg not setting the `Series.name` or the `Series.index.name` ([GH10483](https://github.com/pandas-dev/pandas/issues/10483))  \n",
    "- Bug in `groupby.var` which caused variance to be inaccurate for small float values ([GH10448](https://github.com/pandas-dev/pandas/issues/10448))  \n",
    "- Bug in `Series.plot(kind='hist')` Y Label not informative ([GH10485](https://github.com/pandas-dev/pandas/issues/10485))  \n",
    "- Bug in `read_csv` when using a converter which generates a `uint8` type ([GH9266](https://github.com/pandas-dev/pandas/issues/9266))  \n",
    "- Bug causes memory leak in time-series line and area plot ([GH9003](https://github.com/pandas-dev/pandas/issues/9003))  \n",
    "- Bug when setting a `Panel` sliced along the major or minor axes when the right-hand side is a `DataFrame` ([GH11014](https://github.com/pandas-dev/pandas/issues/11014))  \n",
    "- Bug that returns `None` and does not raise `NotImplementedError` when operator functions (e.g. `.add`) of `Panel` are not implemented ([GH7692](https://github.com/pandas-dev/pandas/issues/7692))  \n",
    "- Bug in line and kde plot cannot accept multiple colors when `subplots=True` ([GH9894](https://github.com/pandas-dev/pandas/issues/9894))  \n",
    "- Bug in `DataFrame.plot` raises `ValueError` when color name is specified by multiple characters ([GH10387](https://github.com/pandas-dev/pandas/issues/10387))  \n",
    "- Bug in left and right `align` of `Series` with `MultiIndex` may be inverted ([GH10665](https://github.com/pandas-dev/pandas/issues/10665))  \n",
    "- Bug in left and right `join` of with `MultiIndex` may be inverted ([GH10741](https://github.com/pandas-dev/pandas/issues/10741))  \n",
    "- Bug in `read_stata` when reading a file with a different order set in `columns` ([GH10757](https://github.com/pandas-dev/pandas/issues/10757))  \n",
    "- Bug in `Categorical` may not representing properly when category contains `tz` or `Period` ([GH10713](https://github.com/pandas-dev/pandas/issues/10713))  \n",
    "- Bug in `Categorical.__iter__` may not returning correct `datetime` and `Period` ([GH10713](https://github.com/pandas-dev/pandas/issues/10713))  \n",
    "- Bug in indexing with a `PeriodIndex` on an object with a `PeriodIndex` ([GH4125](https://github.com/pandas-dev/pandas/issues/4125))  \n",
    "- Bug in `read_csv` with `engine='c'`: EOF preceded by a comment, blank line, etc. was not handled correctly ([GH10728](https://github.com/pandas-dev/pandas/issues/10728), [GH10548](https://github.com/pandas-dev/pandas/issues/10548))  \n",
    "- Reading “famafrench” data via `DataReader` results in HTTP 404 error because of the website url is changed ([GH10591](https://github.com/pandas-dev/pandas/issues/10591)).  \n",
    "- Bug in `read_msgpack` where DataFrame to decode has duplicate column names ([GH9618](https://github.com/pandas-dev/pandas/issues/9618))  \n",
    "- Bug in `io.common.get_filepath_or_buffer` which caused reading of valid S3 files to fail if the bucket also contained keys for which the user does not have read permission ([GH10604](https://github.com/pandas-dev/pandas/issues/10604))  \n",
    "- Bug in vectorised setting of timestamp columns with python `datetime.date` and numpy `datetime64` ([GH10408](https://github.com/pandas-dev/pandas/issues/10408), [GH10412](https://github.com/pandas-dev/pandas/issues/10412))  \n",
    "- Bug in `Index.take` may add unnecessary `freq` attribute ([GH10791](https://github.com/pandas-dev/pandas/issues/10791))  \n",
    "- Bug in `merge` with empty `DataFrame` may raise `IndexError` ([GH10824](https://github.com/pandas-dev/pandas/issues/10824))  \n",
    "- Bug in `to_latex` where unexpected keyword argument for some documented arguments ([GH10888](https://github.com/pandas-dev/pandas/issues/10888))  \n",
    "- Bug in indexing of large `DataFrame` where `IndexError` is uncaught ([GH10645](https://github.com/pandas-dev/pandas/issues/10645) and [GH10692](https://github.com/pandas-dev/pandas/issues/10692))  \n",
    "- Bug in `read_csv` when using the `nrows` or `chunksize` parameters if file contains only a header line ([GH9535](https://github.com/pandas-dev/pandas/issues/9535))  \n",
    "- Bug in serialization of `category` types in HDF5 in presence of alternate encodings. ([GH10366](https://github.com/pandas-dev/pandas/issues/10366))  \n",
    "- Bug in `pd.DataFrame` when constructing an empty DataFrame with a string dtype ([GH9428](https://github.com/pandas-dev/pandas/issues/9428))  \n",
    "- Bug in `pd.DataFrame.diff` when DataFrame is not consolidated ([GH10907](https://github.com/pandas-dev/pandas/issues/10907))  \n",
    "- Bug in `pd.unique` for arrays with the `datetime64` or `timedelta64` dtype that meant an array with object dtype was returned instead the original dtype ([GH9431](https://github.com/pandas-dev/pandas/issues/9431))  \n",
    "- Bug in `Timedelta` raising error when slicing from 0s ([GH10583](https://github.com/pandas-dev/pandas/issues/10583))  \n",
    "- Bug in `DatetimeIndex.take` and `TimedeltaIndex.take` may not raise `IndexError` against invalid index ([GH10295](https://github.com/pandas-dev/pandas/issues/10295))  \n",
    "- Bug in `Series([np.nan]).astype('M8[ms]')`, which now returns `Series([pd.NaT])` ([GH10747](https://github.com/pandas-dev/pandas/issues/10747))  \n",
    "- Bug in `PeriodIndex.order` reset freq ([GH10295](https://github.com/pandas-dev/pandas/issues/10295))  \n",
    "- Bug in `date_range` when `freq` divides `end` as nanos ([GH10885](https://github.com/pandas-dev/pandas/issues/10885))  \n",
    "- Bug in `iloc` allowing memory outside bounds of a Series to be accessed with negative integers ([GH10779](https://github.com/pandas-dev/pandas/issues/10779))  \n",
    "- Bug in `read_msgpack` where encoding is not respected ([GH10581](https://github.com/pandas-dev/pandas/issues/10581))  \n",
    "- Bug preventing access to the first index when using `iloc` with a list containing the appropriate negative integer ([GH10547](https://github.com/pandas-dev/pandas/issues/10547), [GH10779](https://github.com/pandas-dev/pandas/issues/10779))  \n",
    "- Bug in `TimedeltaIndex` formatter causing error while trying to save `DataFrame` with `TimedeltaIndex` using `to_csv` ([GH10833](https://github.com/pandas-dev/pandas/issues/10833))  \n",
    "- Bug in `DataFrame.where` when handling Series slicing ([GH10218](https://github.com/pandas-dev/pandas/issues/10218), [GH9558](https://github.com/pandas-dev/pandas/issues/9558))  \n",
    "- Bug where `pd.read_gbq` throws `ValueError` when Bigquery returns zero rows ([GH10273](https://github.com/pandas-dev/pandas/issues/10273))  \n",
    "- Bug in `to_json` which was causing segmentation fault when serializing 0-rank ndarray ([GH9576](https://github.com/pandas-dev/pandas/issues/9576))  \n",
    "- Bug in plotting functions may raise `IndexError` when plotted on `GridSpec` ([GH10819](https://github.com/pandas-dev/pandas/issues/10819))  \n",
    "- Bug in plot result may show unnecessary minor ticklabels ([GH10657](https://github.com/pandas-dev/pandas/issues/10657))  \n",
    "- Bug in `groupby` incorrect computation for aggregation on `DataFrame` with `NaT` (E.g `first`, `last`, `min`). ([GH10590](https://github.com/pandas-dev/pandas/issues/10590), [GH11010](https://github.com/pandas-dev/pandas/issues/11010))  \n",
    "- Bug when constructing `DataFrame` where passing a dictionary with only scalar values and specifying columns did not raise an error ([GH10856](https://github.com/pandas-dev/pandas/issues/10856))  \n",
    "- Bug in `.var()` causing roundoff errors for highly similar values ([GH10242](https://github.com/pandas-dev/pandas/issues/10242))  \n",
    "- Bug in `DataFrame.plot(subplots=True)` with duplicated columns outputs incorrect result ([GH10962](https://github.com/pandas-dev/pandas/issues/10962))  \n",
    "- Bug in `Index` arithmetic may result in incorrect class ([GH10638](https://github.com/pandas-dev/pandas/issues/10638))  \n",
    "- Bug in `date_range` results in empty if freq is negative annually, quarterly and monthly ([GH11018](https://github.com/pandas-dev/pandas/issues/11018))  \n",
    "- Bug in `DatetimeIndex` cannot infer negative freq ([GH11018](https://github.com/pandas-dev/pandas/issues/11018))  \n",
    "- Remove use of some deprecated numpy comparison operations, mainly in tests. ([GH10569](https://github.com/pandas-dev/pandas/issues/10569))  \n",
    "- Bug in `Index` dtype may not applied properly ([GH11017](https://github.com/pandas-dev/pandas/issues/11017))  \n",
    "- Bug in `io.gbq` when testing for minimum google api client version ([GH10652](https://github.com/pandas-dev/pandas/issues/10652))  \n",
    "- Bug in `DataFrame` construction from nested `dict` with `timedelta` keys ([GH11129](https://github.com/pandas-dev/pandas/issues/11129))  \n",
    "- Bug in `.fillna` against may raise `TypeError` when data contains datetime dtype ([GH7095](https://github.com/pandas-dev/pandas/issues/7095), [GH11153](https://github.com/pandas-dev/pandas/issues/11153))  \n",
    "- Bug in `.groupby` when number of keys to group by is same as length of index ([GH11185](https://github.com/pandas-dev/pandas/issues/11185))  \n",
    "- Bug in `convert_objects` where converted values might not be returned if all null and `coerce` ([GH9589](https://github.com/pandas-dev/pandas/issues/9589))  \n",
    "- Bug in `convert_objects` where `copy` keyword was not respected ([GH9589](https://github.com/pandas-dev/pandas/issues/9589))  \n",
    "\n",
    "\n",
    "\n",
    "<a id='whatsnew-0-17-0-contributors'></a>"
   ]
  },
  {
   "cell_type": "markdown",
   "metadata": {},
   "source": [
    "## Contributors\n",
    "\n",
    "A total of 112 people contributed patches to this release.  People with a\n",
    "“+” by their names contributed a patch for the first time.\n",
    "\n",
    "\n",
    "- Alex Rothberg  \n",
    "- Andrea Bedini +  \n",
    "- Andrew Rosenfeld  \n",
    "- Andy Hayden  \n",
    "- Andy Li +  \n",
    "- Anthonios Partheniou +  \n",
    "- Artemy Kolchinsky  \n",
    "- Bernard Willers  \n",
    "- Charlie Clark +  \n",
    "- Chris +  \n",
    "- Chris Whelan  \n",
    "- Christoph Gohlke +  \n",
    "- Christopher Whelan  \n",
    "- Clark Fitzgerald  \n",
    "- Clearfield Christopher +  \n",
    "- Dan Ringwalt +  \n",
    "- Daniel Ni +  \n",
    "- Data & Code Expert Experimenting with Code on Data +  \n",
    "- David Cottrell  \n",
    "- David John Gagne +  \n",
    "- David Kelly +  \n",
    "- ETF +  \n",
    "- Eduardo Schettino +  \n",
    "- Egor +  \n",
    "- Egor Panfilov +  \n",
    "- Evan Wright  \n",
    "- Frank Pinter +  \n",
    "- Gabriel Araujo +  \n",
    "- Garrett-R  \n",
    "- Gianluca Rossi +  \n",
    "- Guillaume Gay  \n",
    "- Guillaume Poulin  \n",
    "- Harsh Nisar +  \n",
    "- Ian Henriksen +  \n",
    "- Ian Hoegen +  \n",
    "- Jaidev Deshpande +  \n",
    "- Jan Rudolph +  \n",
    "- Jan Schulz  \n",
    "- Jason Swails +  \n",
    "- Jeff Reback  \n",
    "- Jonas Buyl +  \n",
    "- Joris Van den Bossche  \n",
    "- Joris Vankerschaver +  \n",
    "- Josh Levy-Kramer +  \n",
    "- Julien Danjou  \n",
    "- Ka Wo Chen  \n",
    "- Karrie Kehoe +  \n",
    "- Kelsey Jordahl  \n",
    "- Kerby Shedden  \n",
    "- Kevin Sheppard  \n",
    "- Lars Buitinck  \n",
    "- Leif Johnson +  \n",
    "- Luis Ortiz +  \n",
    "- Mac +  \n",
    "- Matt Gambogi +  \n",
    "- Matt Savoie +  \n",
    "- Matthew Gilbert +  \n",
    "- Maximilian Roos +  \n",
    "- Michelangelo D’Agostino +  \n",
    "- Mortada Mehyar  \n",
    "- Nick Eubank  \n",
    "- Nipun Batra  \n",
    "- Ondřej Čertík  \n",
    "- Phillip Cloud  \n",
    "- Pratap Vardhan +  \n",
    "- Rafal Skolasinski +  \n",
    "- Richard Lewis +  \n",
    "- Rinoc Johnson +  \n",
    "- Rob Levy  \n",
    "- Robert Gieseke  \n",
    "- Safia Abdalla +  \n",
    "- Samuel Denny +  \n",
    "- Saumitra Shahapure +  \n",
    "- Sebastian Pölsterl +  \n",
    "- Sebastian Rubbert +  \n",
    "- Sheppard, Kevin +  \n",
    "- Sinhrks  \n",
    "- Siu Kwan Lam +  \n",
    "- Skipper Seabold  \n",
    "- Spencer Carrucciu +  \n",
    "- Stephan Hoyer  \n",
    "- Stephen Hoover +  \n",
    "- Stephen Pascoe +  \n",
    "- Terry Santegoeds +  \n",
    "- Thomas Grainger  \n",
    "- Tjerk Santegoeds +  \n",
    "- Tom Augspurger  \n",
    "- Vincent Davis +  \n",
    "- Winterflower +  \n",
    "- Yaroslav Halchenko  \n",
    "- Yuan Tang (Terry) +  \n",
    "- agijsberts  \n",
    "- ajcr +  \n",
    "- behzad nouri  \n",
    "- cel4  \n",
    "- chris-b1 +  \n",
    "- cyrusmaher +  \n",
    "- davidovitch +  \n",
    "- ganego +  \n",
    "- jreback  \n",
    "- juricast +  \n",
    "- larvian +  \n",
    "- maximilianr +  \n",
    "- msund +  \n",
    "- rekcahpassyla  \n",
    "- robertzk +  \n",
    "- scls19fr  \n",
    "- seth-p  \n",
    "- sinhrks  \n",
    "- springcoil +  \n",
    "- terrytangyuan +  \n",
    "- tzinckgraf +  "
   ]
  }
 ],
 "metadata": {
  "filename": "v0.17.0.rst",
  "kernelspec": {
   "display_name": "Python",
   "language": "python3",
   "name": "python3"
  },
  "title": "v0.17.0 (October 9, 2015)"
 },
 "nbformat": 4,
 "nbformat_minor": 2
}