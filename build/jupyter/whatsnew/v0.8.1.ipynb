{
 "cells": [
  {
   "cell_type": "markdown",
   "metadata": {},
   "source": [
    "\n",
    "<a id='whatsnew-0801'></a>"
   ]
  },
  {
   "cell_type": "markdown",
   "metadata": {},
   "source": [
    "# v0.8.1 (July 22, 2012)\n",
    "\n",
    "{{ header }}\n",
    "\n",
    "This release includes a few new features, performance enhancements, and over 30\n",
    "bug fixes from 0.8.0.  New features include notably NA friendly string\n",
    "processing functionality and a series of new plot types and options."
   ]
  },
  {
   "cell_type": "markdown",
   "metadata": {},
   "source": [
    "## New features\n",
    "\n",
    "> - Add [vectorized string processing methods](user_guide/text.ipynb#text-string-methods)\n",
    "  accessible via Series.str ([GH620](https://github.com/pandas-dev/pandas/issues/620))  \n",
    "- Add option to disable adjustment in EWMA ([GH1584](https://github.com/pandas-dev/pandas/issues/1584))  \n",
    "- [Radviz plot](user_guide/visualization.ipynb#visualization-radviz) ([GH1566](https://github.com/pandas-dev/pandas/issues/1566))  \n",
    "- [Parallel coordinates plot](user_guide/visualization.ipynb#visualization-parallel-coordinates)  \n",
    "- [Bootstrap plot](user_guide/visualization.ipynb#visualization-bootstrap)  \n",
    "- Per column styles and secondary y-axis plotting ([GH1559](https://github.com/pandas-dev/pandas/issues/1559))  \n",
    "- New datetime converters millisecond plotting  ([GH1599](https://github.com/pandas-dev/pandas/issues/1599))  \n",
    "- Add option to disable “sparse” display of hierarchical indexes ([GH1538](https://github.com/pandas-dev/pandas/issues/1538))  \n",
    "- Series/DataFrame’s `set_index` method can [append levels](user_guide/indexing.ipynb#indexing-set-index) to an existing Index/MultiIndex ([GH1569](https://github.com/pandas-dev/pandas/issues/1569), [GH1577](https://github.com/pandas-dev/pandas/issues/1577))  "
   ]
  },
  {
   "cell_type": "markdown",
   "metadata": {},
   "source": [
    "## Performance improvements\n",
    "\n",
    "> - Improved implementation of rolling min and max (thanks to [Bottleneck](http://berkeleyanalytics.com/bottleneck/) !)  \n",
    "- Add accelerated `'median'` GroupBy option ([GH1358](https://github.com/pandas-dev/pandas/issues/1358))  \n",
    "- Significantly improve the performance of parsing ISO8601-format date\n",
    "  strings with `DatetimeIndex` or `to_datetime` ([GH1571](https://github.com/pandas-dev/pandas/issues/1571))  \n",
    "- Improve the performance of GroupBy on single-key aggregations and use with\n",
    "  Categorical types  \n",
    "- Significant datetime parsing performance improvements  \n",
    "\n",
    "\n",
    "\n",
    "\n",
    "<a id='whatsnew-0-8-1-contributors'></a>"
   ]
  },
  {
   "cell_type": "markdown",
   "metadata": {},
   "source": [
    "## Contributors\n",
    "\n",
    "A total of 5 people contributed patches to this release.  People with a\n",
    "“+” by their names contributed a patch for the first time.\n",
    "\n",
    "\n",
    "- Chang She  \n",
    "- Skipper Seabold  \n",
    "- Todd DeLuca +  \n",
    "- Vytautas Jancauskas  \n",
    "- Wes McKinney  "
   ]
  }
 ],
 "metadata": {
  "filename": "v0.8.1.rst",
  "kernelspec": {
   "display_name": "Python",
   "language": "python3",
   "name": "python3"
  },
  "title": "v0.8.1 (July 22, 2012)"
 },
 "nbformat": 4,
 "nbformat_minor": 2
}