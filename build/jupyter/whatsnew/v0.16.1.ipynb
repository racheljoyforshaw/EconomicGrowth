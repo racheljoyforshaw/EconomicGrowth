{
 "cells": [
  {
   "cell_type": "markdown",
   "metadata": {},
   "source": [
    "\n",
    "<a id='whatsnew-0161'></a>"
   ]
  },
  {
   "cell_type": "markdown",
   "metadata": {},
   "source": [
    "# v0.16.1 (May 11, 2015)\n",
    "\n",
    "{{ header }}\n",
    "\n",
    "This is a minor bug-fix release from 0.16.0 and includes a a large number of\n",
    "bug fixes along several new features, enhancements, and performance improvements.\n",
    "We recommend that all users upgrade to this version.\n",
    "\n",
    "Highlights include:\n",
    "\n",
    "- Support for a `CategoricalIndex`, a category based index, see [here](#whatsnew-0161-enhancements-categoricalindex)  \n",
    "- New section on how-to-contribute to *pandas*, see [here](development/contributing.ipynb#contributing)  \n",
    "- Revised “Merge, join, and concatenate” documentation, including graphical examples to make it easier to understand each operations, see [here](user_guide/merging.ipynb#merging)  \n",
    "- New method `sample` for drawing random samples from Series, DataFrames and Panels. See [here](#whatsnew-0161-enhancements-sample)  \n",
    "- The default `Index` printing has changed to a more uniform format, see [here](#whatsnew-0161-index-repr)  \n",
    "- `BusinessHour` datetime-offset is now supported, see [here](user_guide/timeseries.ipynb#timeseries-businesshour)  \n",
    "- Further enhancement to the `.str` accessor to make string operations easier, see [here](#whatsnew-0161-enhancements-string)  "
   ]
  },
  {
   "cell_type": "markdown",
   "metadata": {},
   "source": [
    "## What’s new in v0.16.1\n",
    "\n",
    "- [Enhancements](#Enhancements)  \n",
    "  - [CategoricalIndex](#CategoricalIndex)  \n",
    "  - [Sample](#Sample)  \n",
    "  - [String methods enhancements](#String-methods-enhancements)  \n",
    "  - [Other enhancements](#Other-enhancements)  \n",
    "- [API changes](#API-changes)  \n",
    "  - [Deprecations](#Deprecations)  \n",
    "- [Index representation](#Index-representation)  \n",
    "- [Performance improvements](#Performance-improvements)  \n",
    "- [Bug fixes](#Bug-fixes)  \n",
    "- [Contributors](#Contributors)  "
   ]
  },
  {
   "cell_type": "markdown",
   "metadata": {},
   "source": [
    "\n",
    "<a id='whatsnew-0161-enhancements'></a>\n",
    "In pandas 0.17.0, the sub-package `pandas.io.data` will be removed in favor of a separately installable package ([GH8961](https://github.com/pandas-dev/pandas/issues/8961))."
   ]
  },
  {
   "cell_type": "markdown",
   "metadata": {},
   "source": [
    "## Enhancements\n",
    "\n",
    "\n",
    "<a id='whatsnew-0161-enhancements-categoricalindex'></a>"
   ]
  },
  {
   "cell_type": "markdown",
   "metadata": {},
   "source": [
    "### CategoricalIndex\n",
    "\n",
    "We introduce a `CategoricalIndex`, a new type of index object that is useful for supporting\n",
    "indexing with duplicates. This is a container around a `Categorical` (introduced in v0.15.0)\n",
    "and allows efficient indexing and storage of an index with a large number of duplicated elements. Prior to 0.16.1,\n",
    "setting the index of a `DataFrame/Series` with a `category` dtype would convert this to regular object-based `Index`."
   ]
  },
  {
   "cell_type": "markdown",
   "metadata": {
    "hide-output": false
   },
   "source": [
    "```ipython\n",
    "In [1]: df = pd.DataFrame({'A': np.arange(6),\n",
    "   ...:                    'B': pd.Series(list('aabbca'))\n",
    "   ...:                           .astype('category', categories=list('cab'))\n",
    "   ...:                    })\n",
    "   ...:\n",
    "\n",
    "In [2]: df\n",
    "Out[2]:\n",
    "   A  B\n",
    "0  0  a\n",
    "1  1  a\n",
    "2  2  b\n",
    "3  3  b\n",
    "4  4  c\n",
    "5  5  a\n",
    "\n",
    "In [3]: df.dtypes\n",
    "Out[3]:\n",
    "A       int64\n",
    "B    category\n",
    "dtype: object\n",
    "\n",
    "In [4]: df.B.cat.categories\n",
    "Out[4]: Index(['c', 'a', 'b'], dtype='object')\n",
    "```\n"
   ]
  },
  {
   "cell_type": "markdown",
   "metadata": {},
   "source": [
    "setting the index, will create create a `CategoricalIndex`"
   ]
  },
  {
   "cell_type": "markdown",
   "metadata": {
    "hide-output": false
   },
   "source": [
    "```ipython\n",
    "In [5]: df2 = df.set_index('B')\n",
    "\n",
    "In [6]: df2.index\n",
    "Out[6]: CategoricalIndex(['a', 'a', 'b', 'b', 'c', 'a'], categories=['c', 'a', 'b'], ordered=False, name='B', dtype='category')\n",
    "```\n"
   ]
  },
  {
   "cell_type": "markdown",
   "metadata": {},
   "source": [
    "indexing with `__getitem__/.iloc/.loc/.ix` works similarly to an Index with duplicates.\n",
    "The indexers MUST be in the category or the operation will raise."
   ]
  },
  {
   "cell_type": "markdown",
   "metadata": {
    "hide-output": false
   },
   "source": [
    "```ipython\n",
    "In [7]: df2.loc['a']\n",
    "Out[7]:\n",
    "   A\n",
    "B\n",
    "a  0\n",
    "a  1\n",
    "a  5\n",
    "```\n"
   ]
  },
  {
   "cell_type": "markdown",
   "metadata": {},
   "source": [
    "and preserves the `CategoricalIndex`"
   ]
  },
  {
   "cell_type": "markdown",
   "metadata": {
    "hide-output": false
   },
   "source": [
    "```ipython\n",
    "In [8]: df2.loc['a'].index\n",
    "Out[8]: CategoricalIndex(['a', 'a', 'a'], categories=['c', 'a', 'b'], ordered=False, name='B', dtype='category')\n",
    "```\n"
   ]
  },
  {
   "cell_type": "markdown",
   "metadata": {},
   "source": [
    "sorting will order by the order of the categories"
   ]
  },
  {
   "cell_type": "markdown",
   "metadata": {
    "hide-output": false
   },
   "source": [
    "```ipython\n",
    "In [9]: df2.sort_index()\n",
    "Out[9]:\n",
    "   A\n",
    "B\n",
    "c  4\n",
    "a  0\n",
    "a  1\n",
    "a  5\n",
    "b  2\n",
    "b  3\n",
    "```\n"
   ]
  },
  {
   "cell_type": "markdown",
   "metadata": {},
   "source": [
    "groupby operations on the index will preserve the index nature as well"
   ]
  },
  {
   "cell_type": "markdown",
   "metadata": {
    "hide-output": false
   },
   "source": [
    "```ipython\n",
    "In [10]: df2.groupby(level=0).sum()\n",
    "Out[10]:\n",
    "   A\n",
    "B\n",
    "c  4\n",
    "a  6\n",
    "b  5\n",
    "\n",
    "In [11]: df2.groupby(level=0).sum().index\n",
    "Out[11]: CategoricalIndex(['c', 'a', 'b'], categories=['c', 'a', 'b'], ordered=False, name='B', dtype='category')\n",
    "```\n"
   ]
  },
  {
   "cell_type": "markdown",
   "metadata": {},
   "source": [
    "reindexing operations, will return a resulting index based on the type of the passed\n",
    "indexer, meaning that passing a list will return a plain-old-`Index`; indexing with\n",
    "a `Categorical` will return a `CategoricalIndex`, indexed according to the categories\n",
    "of the PASSED `Categorical` dtype. This allows one to arbitrarily index these even with\n",
    "values NOT in the categories, similarly to how you can reindex ANY pandas index."
   ]
  },
  {
   "cell_type": "markdown",
   "metadata": {
    "hide-output": false
   },
   "source": [
    "```ipython\n",
    "In [12]: df2.reindex(['a', 'e'])\n",
    "Out[12]:\n",
    "     A\n",
    "B\n",
    "a  0.0\n",
    "a  1.0\n",
    "a  5.0\n",
    "e  NaN\n",
    "\n",
    "In [13]: df2.reindex(['a', 'e']).index\n",
    "Out[13]: pd.Index(['a', 'a', 'a', 'e'], dtype='object', name='B')\n",
    "\n",
    "In [14]: df2.reindex(pd.Categorical(['a', 'e'], categories=list('abcde')))\n",
    "Out[14]:\n",
    "     A\n",
    "B\n",
    "a  0.0\n",
    "a  1.0\n",
    "a  5.0\n",
    "e  NaN\n",
    "\n",
    "In [15]: df2.reindex(pd.Categorical(['a', 'e'], categories=list('abcde'))).index\n",
    "Out[15]: pd.CategoricalIndex(['a', 'a', 'a', 'e'],\n",
    "                             categories=['a', 'b', 'c', 'd', 'e'],\n",
    "                             ordered=False, name='B',\n",
    "                             dtype='category')\n",
    "```\n"
   ]
  },
  {
   "cell_type": "markdown",
   "metadata": {},
   "source": [
    "See the [documentation](user_guide/advanced.ipynb#indexing-categoricalindex) for more. ([GH7629](https://github.com/pandas-dev/pandas/issues/7629), [GH10038](https://github.com/pandas-dev/pandas/issues/10038), [GH10039](https://github.com/pandas-dev/pandas/issues/10039))\n",
    "\n",
    "\n",
    "<a id='whatsnew-0161-enhancements-sample'></a>"
   ]
  },
  {
   "cell_type": "markdown",
   "metadata": {},
   "source": [
    "### Sample\n",
    "\n",
    "Series, DataFrames, and Panels now have a new method: `sample()`.\n",
    "The method accepts a specific number of rows or columns to return, or a fraction of the\n",
    "total number or rows or columns. It also has options for sampling with or without replacement,\n",
    "for passing in a column for weights for non-uniform sampling, and for setting seed values to\n",
    "facilitate replication. ([GH2419](https://github.com/pandas-dev/pandas/issues/2419))\n",
    "\n",
    "When applied to a DataFrame, one may pass the name of a column to specify sampling weights\n",
    "when sampling from rows.\n",
    "\n",
    "\n",
    "<a id='whatsnew-0161-enhancements-string'></a>"
   ]
  },
  {
   "cell_type": "markdown",
   "metadata": {},
   "source": [
    "### String methods enhancements\n",
    "\n",
    "[Continuing from v0.16.0](v0.16.0#whatsnew-0160-enhancements-string), the following\n",
    "enhancements make string operations easier and more consistent with standard python string operations.\n",
    "\n",
    "- Added `StringMethods` (`.str` accessor) to `Index` ([GH9068](https://github.com/pandas-dev/pandas/issues/9068))  \n",
    "  The `.str` accessor is now available for both `Series` and `Index`.  \n",
    "  One special case for the .str accessor on `Index` is that if a string method returns `bool`, the `.str` accessor\n",
    "  will return a `np.array` instead of a boolean `Index` ([GH8875](https://github.com/pandas-dev/pandas/issues/8875)). This enables the following expression\n",
    "  to work naturally:  \n",
    "- The following new methods are accessible via `.str` accessor to apply the function to each values. ([GH9766](https://github.com/pandas-dev/pandas/issues/9766), [GH9773](https://github.com/pandas-dev/pandas/issues/9773), [GH10031](https://github.com/pandas-dev/pandas/issues/10031), [GH10045](https://github.com/pandas-dev/pandas/issues/10045), [GH10052](https://github.com/pandas-dev/pandas/issues/10052))  \n",
    "    \n",
    "  ``  \n",
    "  ``  \n",
    "  ``  \n",
    "  ``  \n",
    "  ``  \n",
    "  ``  \n",
    "  ``  \n",
    "  ``  \n",
    "  |||Methods|||\n",
    "  |:--------------:|:-------------:|:-------------:|:-------------:|:--------------:|\n",
    "  |capitalize()|swapcase()|normalize()|partition()|rpartition()|\n",
    "  |index()|rindex()|translate()|||\n",
    "- `split` now takes `expand` keyword to specify whether to expand dimensionality. `return_type` is deprecated. ([GH9847](https://github.com/pandas-dev/pandas/issues/9847))  \n",
    "- Improved `extract` and `get_dummies` methods for `Index.str` ([GH9980](https://github.com/pandas-dev/pandas/issues/9980))  \n",
    "\n",
    "\n",
    "\n",
    "<a id='whatsnew-0161-enhancements-other'></a>"
   ]
  },
  {
   "cell_type": "markdown",
   "metadata": {},
   "source": [
    "### Other enhancements\n",
    "\n",
    "- `BusinessHour` offset is now supported, which represents business hours starting from 09:00 - 17:00 on `BusinessDay` by default. See [Here](user_guide/timeseries.ipynb#timeseries-businesshour) for details. ([GH7905](https://github.com/pandas-dev/pandas/issues/7905))  \n",
    "- `DataFrame.diff` now takes an `axis` parameter that determines the direction of differencing ([GH9727](https://github.com/pandas-dev/pandas/issues/9727))  \n",
    "- Allow `clip`, `clip_lower`, and `clip_upper` to accept array-like arguments as thresholds (This is a regression from 0.11.0). These methods now have an `axis` parameter which determines how the Series or DataFrame will be aligned with the threshold(s). ([GH6966](https://github.com/pandas-dev/pandas/issues/6966))  \n",
    "- `DataFrame.mask()` and `Series.mask()` now support same keywords as `where` ([GH8801](https://github.com/pandas-dev/pandas/issues/8801))  \n",
    "- `drop` function can now accept `errors` keyword to suppress `ValueError` raised when any of label does not exist in the target data. ([GH6736](https://github.com/pandas-dev/pandas/issues/6736))  \n",
    "- Add support for separating years and quarters using dashes, for\n",
    "  example 2014-Q1.  ([GH9688](https://github.com/pandas-dev/pandas/issues/9688))  \n",
    "- Allow conversion of values with dtype `datetime64` or `timedelta64` to strings using `astype(str)` ([GH9757](https://github.com/pandas-dev/pandas/issues/9757))  \n",
    "- `get_dummies` function now accepts `sparse` keyword.  If set to `True`, the return `DataFrame` is sparse, e.g. `SparseDataFrame`. ([GH8823](https://github.com/pandas-dev/pandas/issues/8823))  \n",
    "- `Period` now accepts `datetime64` as value input. ([GH9054](https://github.com/pandas-dev/pandas/issues/9054))  \n",
    "- Allow timedelta string conversion when leading zero is missing from time definition, ie 0:00:00 vs 00:00:00. ([GH9570](https://github.com/pandas-dev/pandas/issues/9570))  \n",
    "- Allow `Panel.shift` with `axis='items'` ([GH9890](https://github.com/pandas-dev/pandas/issues/9890))  \n",
    "- Trying to write an excel file now raises `NotImplementedError` if the `DataFrame` has a `MultiIndex` instead of writing a broken Excel file. ([GH9794](https://github.com/pandas-dev/pandas/issues/9794))  \n",
    "- Allow `Categorical.add_categories` to accept `Series` or `np.array`. ([GH9927](https://github.com/pandas-dev/pandas/issues/9927))  \n",
    "- Add/delete `str/dt/cat` accessors dynamically from `__dir__`. ([GH9910](https://github.com/pandas-dev/pandas/issues/9910))  \n",
    "- Add `normalize` as a `dt` accessor method. ([GH10047](https://github.com/pandas-dev/pandas/issues/10047))  \n",
    "- `DataFrame` and `Series` now have `_constructor_expanddim` property as overridable constructor for one higher dimensionality data. This should be used only when it is really needed, see [here](development/extending.ipynb#extending-subclassing-pandas)  \n",
    "- `pd.lib.infer_dtype` now returns `'bytes'` in Python 3 where appropriate. ([GH10032](https://github.com/pandas-dev/pandas/issues/10032))  \n",
    "\n",
    "\n",
    "\n",
    "<a id='whatsnew-0161-api'></a>"
   ]
  },
  {
   "cell_type": "markdown",
   "metadata": {},
   "source": [
    "## API changes\n",
    "\n",
    "- When passing in an ax to `df.plot( ..., ax=ax)`, the sharex kwarg will now default to False.\n",
    "  The result is that the visibility of xlabels and xticklabels will not anymore be changed. You\n",
    "  have to do that by yourself for the right axes in your figure or set `sharex=True` explicitly\n",
    "  (but this changes the visible for all axes in the figure, not only the one which is passed in!).\n",
    "  If pandas creates the subplots itself (e.g. no passed in ax kwarg), then the\n",
    "  default is still `sharex=True` and the visibility changes are applied.  \n",
    "- `assign()` now inserts new columns in alphabetical order. Previously\n",
    "  the order was arbitrary. ([GH9777](https://github.com/pandas-dev/pandas/issues/9777))  \n",
    "- By default, `read_csv` and `read_table` will now try to infer the compression type based on the file extension. Set `compression=None` to restore the previous behavior (no decompression). ([GH9770](https://github.com/pandas-dev/pandas/issues/9770))  \n",
    "\n",
    "\n",
    "\n",
    "<a id='whatsnew-0161-deprecations'></a>"
   ]
  },
  {
   "cell_type": "markdown",
   "metadata": {},
   "source": [
    "### Deprecations\n",
    "\n",
    "- `Series.str.split`’s `return_type` keyword was removed in favor of `expand` ([GH9847](https://github.com/pandas-dev/pandas/issues/9847))  \n",
    "\n",
    "\n",
    "\n",
    "<a id='whatsnew-0161-index-repr'></a>"
   ]
  },
  {
   "cell_type": "markdown",
   "metadata": {},
   "source": [
    "## Index representation\n",
    "\n",
    "The string representation of `Index` and its sub-classes have now been unified. These will show a single-line display if there are few values; a wrapped multi-line display for a lot of values (but less than `display.max_seq_items`; if lots of items (> `display.max_seq_items`) will show a truncated display (the head and tail of the data). The formatting for `MultiIndex` is unchanged (a multi-line wrapped display). The display width responds to the option `display.max_seq_items`, which is defaulted to 100. ([GH6482](https://github.com/pandas-dev/pandas/issues/6482))\n",
    "\n",
    "Previous behavior"
   ]
  },
  {
   "cell_type": "markdown",
   "metadata": {
    "hide-output": false
   },
   "source": [
    "```ipython\n",
    "In [2]: pd.Index(range(4), name='foo')\n",
    "Out[2]: Int64Index([0, 1, 2, 3], dtype='int64')\n",
    "\n",
    "In [3]: pd.Index(range(104), name='foo')\n",
    "Out[3]: Int64Index([0, 1, 2, 3, 4, 5, 6, 7, 8, 9, 10, 11, 12, 13, 14, 15, 16, 17, 18, 19, 20, 21, 22, 23, 24, 25, 26, 27, 28, 29, 30, 31, 32, 33, 34, 35, 36, 37, 38, 39, 40, 41, 42, 43, 44, 45, 46, 47, 48, 49, 50, 51, 52, 53, 54, 55, 56, 57, 58, 59, 60, 61, 62, 63, 64, 65, 66, 67, 68, 69, 70, 71, 72, 73, 74, 75, 76, 77, 78, 79, 80, 81, 82, 83, 84, 85, 86, 87, 88, 89, 90, 91, 92, 93, 94, 95, 96, 97, 98, 99, ...], dtype='int64')\n",
    "\n",
    "In [4]: pd.date_range('20130101', periods=4, name='foo', tz='US/Eastern')\n",
    "Out[4]:\n",
    "<class 'pandas.tseries.index.DatetimeIndex'>\n",
    "[2013-01-01 00:00:00-05:00, ..., 2013-01-04 00:00:00-05:00]\n",
    "Length: 4, Freq: D, Timezone: US/Eastern\n",
    "\n",
    "In [5]: pd.date_range('20130101', periods=104, name='foo', tz='US/Eastern')\n",
    "Out[5]:\n",
    "<class 'pandas.tseries.index.DatetimeIndex'>\n",
    "[2013-01-01 00:00:00-05:00, ..., 2013-04-14 00:00:00-04:00]\n",
    "Length: 104, Freq: D, Timezone: US/Eastern\n",
    "```\n"
   ]
  },
  {
   "cell_type": "markdown",
   "metadata": {},
   "source": [
    "New behavior\n",
    "\n",
    "\n",
    "<a id='whatsnew-0161-performance'></a>"
   ]
  },
  {
   "cell_type": "markdown",
   "metadata": {},
   "source": [
    "## Performance improvements\n",
    "\n",
    "- Improved csv write performance with mixed dtypes, including datetimes by up to 5x ([GH9940](https://github.com/pandas-dev/pandas/issues/9940))  \n",
    "- Improved csv write performance generally by 2x ([GH9940](https://github.com/pandas-dev/pandas/issues/9940))  \n",
    "- Improved the performance of `pd.lib.max_len_string_array` by 5-7x ([GH10024](https://github.com/pandas-dev/pandas/issues/10024))  \n",
    "\n",
    "\n",
    "\n",
    "<a id='whatsnew-0161-bug-fixes'></a>"
   ]
  },
  {
   "cell_type": "markdown",
   "metadata": {},
   "source": [
    "## Bug fixes\n",
    "\n",
    "- Bug where labels did not appear properly in the legend of `DataFrame.plot()`, passing `label=` arguments works, and Series indices are no longer mutated. ([GH9542](https://github.com/pandas-dev/pandas/issues/9542))  \n",
    "- Bug in json serialization causing a segfault when a frame had zero length. ([GH9805](https://github.com/pandas-dev/pandas/issues/9805))  \n",
    "- Bug in `read_csv` where missing trailing delimiters would cause segfault. ([GH5664](https://github.com/pandas-dev/pandas/issues/5664))  \n",
    "- Bug in retaining index name on appending ([GH9862](https://github.com/pandas-dev/pandas/issues/9862))  \n",
    "- Bug in `scatter_matrix` draws unexpected axis ticklabels ([GH5662](https://github.com/pandas-dev/pandas/issues/5662))  \n",
    "- Fixed bug in `StataWriter` resulting in changes to input `DataFrame` upon save ([GH9795](https://github.com/pandas-dev/pandas/issues/9795)).  \n",
    "- Bug in `transform` causing length mismatch when null entries were present and a fast aggregator was being used ([GH9697](https://github.com/pandas-dev/pandas/issues/9697))  \n",
    "- Bug in `equals` causing false negatives when block order differed ([GH9330](https://github.com/pandas-dev/pandas/issues/9330))  \n",
    "- Bug in grouping with multiple `pd.Grouper` where one is non-time based ([GH10063](https://github.com/pandas-dev/pandas/issues/10063))  \n",
    "- Bug in `read_sql_table` error when reading postgres table with timezone ([GH7139](https://github.com/pandas-dev/pandas/issues/7139))  \n",
    "- Bug in `DataFrame` slicing may not retain metadata ([GH9776](https://github.com/pandas-dev/pandas/issues/9776))  \n",
    "- Bug where `TimdeltaIndex` were not properly serialized in fixed `HDFStore` ([GH9635](https://github.com/pandas-dev/pandas/issues/9635))  \n",
    "- Bug with `TimedeltaIndex` constructor ignoring `name` when given another `TimedeltaIndex` as data ([GH10025](https://github.com/pandas-dev/pandas/issues/10025)).  \n",
    "- Bug in `DataFrameFormatter._get_formatted_index` with not applying `max_colwidth` to the `DataFrame` index ([GH7856](https://github.com/pandas-dev/pandas/issues/7856))  \n",
    "- Bug in `.loc` with a read-only ndarray data source ([GH10043](https://github.com/pandas-dev/pandas/issues/10043))  \n",
    "- Bug in `groupby.apply()` that would raise if a passed user defined function either returned only `None` (for all input). ([GH9685](https://github.com/pandas-dev/pandas/issues/9685))  \n",
    "- Always use temporary files in pytables tests ([GH9992](https://github.com/pandas-dev/pandas/issues/9992))  \n",
    "- Bug in plotting continuously using `secondary_y` may not show legend properly. ([GH9610](https://github.com/pandas-dev/pandas/issues/9610), [GH9779](https://github.com/pandas-dev/pandas/issues/9779))  \n",
    "- Bug in `DataFrame.plot(kind=\"hist\")` results in `TypeError` when `DataFrame` contains non-numeric columns  ([GH9853](https://github.com/pandas-dev/pandas/issues/9853))  \n",
    "- Bug where repeated plotting of `DataFrame` with a `DatetimeIndex` may raise `TypeError` ([GH9852](https://github.com/pandas-dev/pandas/issues/9852))  \n",
    "- Bug in `setup.py` that would allow an incompat cython version to build ([GH9827](https://github.com/pandas-dev/pandas/issues/9827))  \n",
    "- Bug in plotting `secondary_y` incorrectly attaches `right_ax` property to secondary axes specifying itself recursively. ([GH9861](https://github.com/pandas-dev/pandas/issues/9861))  \n",
    "- Bug in `Series.quantile` on empty Series of type `Datetime` or `Timedelta` ([GH9675](https://github.com/pandas-dev/pandas/issues/9675))  \n",
    "- Bug in `where` causing incorrect results when upcasting was required ([GH9731](https://github.com/pandas-dev/pandas/issues/9731))  \n",
    "- Bug in `FloatArrayFormatter` where decision boundary for displaying “small” floats in decimal format is off by one order of magnitude for a given display.precision ([GH9764](https://github.com/pandas-dev/pandas/issues/9764))  \n",
    "- Fixed bug where `DataFrame.plot()` raised an error when both `color` and `style` keywords were passed and there was no color symbol in the style strings ([GH9671](https://github.com/pandas-dev/pandas/issues/9671))  \n",
    "- Not showing a `DeprecationWarning` on combining list-likes with an `Index` ([GH10083](https://github.com/pandas-dev/pandas/issues/10083))  \n",
    "- Bug in `read_csv` and `read_table` when using `skip_rows` parameter if blank lines are present. ([GH9832](https://github.com/pandas-dev/pandas/issues/9832))  \n",
    "- Bug in `read_csv()` interprets `index_col=True` as `1` ([GH9798](https://github.com/pandas-dev/pandas/issues/9798))  \n",
    "- Bug in index equality comparisons using `==` failing on Index/MultiIndex type incompatibility ([GH9785](https://github.com/pandas-dev/pandas/issues/9785))  \n",
    "- Bug in which `SparseDataFrame` could not take nan as a column name ([GH8822](https://github.com/pandas-dev/pandas/issues/8822))  \n",
    "- Bug in `to_msgpack` and `read_msgpack` zlib and blosc compression support ([GH9783](https://github.com/pandas-dev/pandas/issues/9783))  \n",
    "- Bug `GroupBy.size` doesn’t attach index name properly if grouped by `TimeGrouper` ([GH9925](https://github.com/pandas-dev/pandas/issues/9925))  \n",
    "- Bug causing an exception in slice assignments because `length_of_indexer` returns wrong results ([GH9995](https://github.com/pandas-dev/pandas/issues/9995))  \n",
    "- Bug in csv parser causing lines with initial white space plus one non-space character to be skipped. ([GH9710](https://github.com/pandas-dev/pandas/issues/9710))  \n",
    "- Bug in C csv parser causing spurious NaNs when data started with newline followed by white space. ([GH10022](https://github.com/pandas-dev/pandas/issues/10022))  \n",
    "- Bug causing elements with a null group to spill into the final group when grouping by a `Categorical` ([GH9603](https://github.com/pandas-dev/pandas/issues/9603))  \n",
    "- Bug where .iloc and .loc behavior is not consistent on empty dataframes ([GH9964](https://github.com/pandas-dev/pandas/issues/9964))  \n",
    "- Bug in invalid attribute access on a `TimedeltaIndex` incorrectly raised `ValueError` instead of `AttributeError` ([GH9680](https://github.com/pandas-dev/pandas/issues/9680))  \n",
    "- Bug in unequal comparisons between categorical data and a scalar, which was not in the categories (e.g. `Series(Categorical(list(\"abc\"), ordered=True)) > \"d\"`. This returned `False` for all elements, but now raises a `TypeError`. Equality comparisons also now return `False` for `==` and `True` for `!=`. ([GH9848](https://github.com/pandas-dev/pandas/issues/9848))  \n",
    "- Bug in DataFrame `__setitem__` when right hand side is a dictionary ([GH9874](https://github.com/pandas-dev/pandas/issues/9874))  \n",
    "- Bug in `where` when dtype is `datetime64/timedelta64`, but dtype of other is not ([GH9804](https://github.com/pandas-dev/pandas/issues/9804))  \n",
    "- Bug in `MultiIndex.sortlevel()` results in unicode level name breaks ([GH9856](https://github.com/pandas-dev/pandas/issues/9856))  \n",
    "- Bug in which `groupby.transform` incorrectly enforced output dtypes to match input dtypes. ([GH9807](https://github.com/pandas-dev/pandas/issues/9807))  \n",
    "- Bug in `DataFrame` constructor when `columns` parameter is set, and `data` is an empty list ([GH9939](https://github.com/pandas-dev/pandas/issues/9939))  \n",
    "- Bug in bar plot with `log=True` raises `TypeError` if all values are less than 1 ([GH9905](https://github.com/pandas-dev/pandas/issues/9905))  \n",
    "- Bug in horizontal bar plot ignores `log=True` ([GH9905](https://github.com/pandas-dev/pandas/issues/9905))  \n",
    "- Bug in PyTables queries that did not return proper results using the index ([GH8265](https://github.com/pandas-dev/pandas/issues/8265), [GH9676](https://github.com/pandas-dev/pandas/issues/9676))  \n",
    "- Bug where dividing a dataframe containing values of type `Decimal` by another `Decimal` would raise. ([GH9787](https://github.com/pandas-dev/pandas/issues/9787))  \n",
    "- Bug where using DataFrames asfreq would remove the name of the index. ([GH9885](https://github.com/pandas-dev/pandas/issues/9885))  \n",
    "- Bug causing extra index point when resample BM/BQ ([GH9756](https://github.com/pandas-dev/pandas/issues/9756))  \n",
    "- Changed caching in `AbstractHolidayCalendar` to be at the instance level rather than at the class level as the latter can result in unexpected behaviour. ([GH9552](https://github.com/pandas-dev/pandas/issues/9552))  \n",
    "- Fixed latex output for MultiIndexed dataframes ([GH9778](https://github.com/pandas-dev/pandas/issues/9778))  \n",
    "- Bug causing an exception when setting an empty range using `DataFrame.loc` ([GH9596](https://github.com/pandas-dev/pandas/issues/9596))  \n",
    "- Bug in hiding ticklabels with subplots and shared axes when adding a new plot to an existing grid of axes ([GH9158](https://github.com/pandas-dev/pandas/issues/9158))  \n",
    "- Bug in `transform` and `filter` when grouping on a categorical variable ([GH9921](https://github.com/pandas-dev/pandas/issues/9921))  \n",
    "- Bug in `transform` when groups are equal in number and dtype to the input index ([GH9700](https://github.com/pandas-dev/pandas/issues/9700))  \n",
    "- Google BigQuery connector now imports dependencies on a per-method basis.([GH9713](https://github.com/pandas-dev/pandas/issues/9713))  \n",
    "- Updated BigQuery connector to no longer use deprecated `oauth2client.tools.run()` ([GH8327](https://github.com/pandas-dev/pandas/issues/8327))  \n",
    "- Bug in subclassed `DataFrame`. It may not return the correct class, when slicing or subsetting it. ([GH9632](https://github.com/pandas-dev/pandas/issues/9632))  \n",
    "- Bug in `.median()` where non-float null values are not handled correctly ([GH10040](https://github.com/pandas-dev/pandas/issues/10040))  \n",
    "- Bug in Series.fillna() where it raises if a numerically convertible string is given ([GH10092](https://github.com/pandas-dev/pandas/issues/10092))  \n",
    "\n",
    "\n",
    "\n",
    "<a id='whatsnew-0-16-1-contributors'></a>"
   ]
  },
  {
   "cell_type": "markdown",
   "metadata": {},
   "source": [
    "## Contributors\n",
    "\n",
    "A total of 58 people contributed patches to this release.  People with a\n",
    "“+” by their names contributed a patch for the first time.\n",
    "\n",
    "\n",
    "- Alfonso MHC +  \n",
    "- Andy Hayden  \n",
    "- Artemy Kolchinsky  \n",
    "- Chris Gilmer +  \n",
    "- Chris Grinolds +  \n",
    "- Dan Birken  \n",
    "- David BROCHART +  \n",
    "- David Hirschfeld +  \n",
    "- David Stephens  \n",
    "- Dr. Leo +  \n",
    "- Evan Wright +  \n",
    "- Frans van Dunné +  \n",
    "- Hatem Nassrat +  \n",
    "- Henning Sperr +  \n",
    "- Hugo Herter +  \n",
    "- Jan Schulz  \n",
    "- Jeff Blackburne +  \n",
    "- Jeff Reback  \n",
    "- Jim Crist +  \n",
    "- Jonas Abernot +  \n",
    "- Joris Van den Bossche  \n",
    "- Kerby Shedden  \n",
    "- Leo Razoumov +  \n",
    "- Manuel Riel +  \n",
    "- Mortada Mehyar  \n",
    "- Nick Burns +  \n",
    "- Nick Eubank +  \n",
    "- Olivier Grisel  \n",
    "- Phillip Cloud  \n",
    "- Pietro Battiston  \n",
    "- Roy Hyunjin Han  \n",
    "- Sam Zhang +  \n",
    "- Scott Sanderson +  \n",
    "- Sinhrks +  \n",
    "- Stephan Hoyer  \n",
    "- Tiago Antao  \n",
    "- Tom Ajamian +  \n",
    "- Tom Augspurger  \n",
    "- Tomaz Berisa +  \n",
    "- Vikram Shirgur +  \n",
    "- Vladimir Filimonov  \n",
    "- William Hogman +  \n",
    "- Yasin A +  \n",
    "- Younggun Kim +  \n",
    "- behzad nouri  \n",
    "- dsm054  \n",
    "- floydsoft +  \n",
    "- flying-sheep +  \n",
    "- gfr +  \n",
    "- jnmclarty  \n",
    "- jreback  \n",
    "- ksanghai +  \n",
    "- lucas +  \n",
    "- mschmohl +  \n",
    "- ptype +  \n",
    "- rockg  \n",
    "- scls19fr +  \n",
    "- sinhrks  "
   ]
  }
 ],
 "metadata": {
  "filename": "v0.16.1.rst",
  "kernelspec": {
   "display_name": "Python",
   "language": "python3",
   "name": "python3"
  },
  "title": "v0.16.1 (May 11, 2015)"
 },
 "nbformat": 4,
 "nbformat_minor": 2
}