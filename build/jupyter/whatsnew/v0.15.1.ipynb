{
 "cells": [
  {
   "cell_type": "markdown",
   "metadata": {},
   "source": [
    "\n",
    "<a id='whatsnew-0151'></a>"
   ]
  },
  {
   "cell_type": "markdown",
   "metadata": {},
   "source": [
    "# v0.15.1 (November 9, 2014)\n",
    "\n",
    "{{ header }}\n",
    "\n",
    "This is a minor bug-fix release from 0.15.0 and includes a small number of API changes, several new features,\n",
    "enhancements, and performance improvements along with a large number of bug fixes. We recommend that all\n",
    "users upgrade to this version.\n",
    "\n",
    "- [Enhancements](#whatsnew-0151-enhancements)  \n",
    "- [API Changes](#whatsnew-0151-api)  \n",
    "- [Bug Fixes](#whatsnew-0151-bug-fixes)  \n",
    "\n",
    "\n",
    "\n",
    "<a id='whatsnew-0151-api'></a>"
   ]
  },
  {
   "cell_type": "markdown",
   "metadata": {},
   "source": [
    "## API changes\n",
    "\n",
    "- `s.dt.hour` and other `.dt` accessors will now return `np.nan` for missing values (rather than previously -1), ([GH8689](https://github.com/pandas-dev/pandas/issues/8689))  \n",
    "previous behavior:  "
   ]
  },
  {
   "cell_type": "markdown",
   "metadata": {
    "hide-output": false
   },
   "source": [
    "```ipython\n",
    "In [6]: s.dt.hour\n",
    "Out[6]:\n",
    "0    0\n",
    "1    0\n",
    "2   -1\n",
    "3    0\n",
    "4    0\n",
    "dtype: int64\n",
    "```\n"
   ]
  },
  {
   "cell_type": "markdown",
   "metadata": {},
   "source": [
    "current behavior:  \n",
    "- `groupby` with `as_index=False` will not add erroneous extra columns to\n",
    "result ([GH8582](https://github.com/pandas-dev/pandas/issues/8582)):  \n",
    "previous behavior:  "
   ]
  },
  {
   "cell_type": "markdown",
   "metadata": {
    "hide-output": false
   },
   "source": [
    "```ipython\n",
    "In [4]: df.groupby(ts, as_index=False).max()\n",
    "Out[4]:\n",
    "   NaN  jim  joe\n",
    "0    0   72   83\n",
    "1    5   77   84\n",
    "2   10   96   65\n",
    "```\n"
   ]
  },
  {
   "cell_type": "markdown",
   "metadata": {},
   "source": [
    "current behavior:  \n",
    "- `groupby` will not erroneously exclude columns if the column name conflicts\n",
    "with the grouper name ([GH8112](https://github.com/pandas-dev/pandas/issues/8112)):  \n",
    "previous behavior (excludes 1st column from output):  "
   ]
  },
  {
   "cell_type": "markdown",
   "metadata": {
    "hide-output": false
   },
   "source": [
    "```ipython\n",
    "In [4]: gr.apply(sum)\n",
    "Out[4]:\n",
    "       joe\n",
    "jim\n",
    "False   24\n",
    "True    11\n",
    "```\n"
   ]
  },
  {
   "cell_type": "markdown",
   "metadata": {},
   "source": [
    "current behavior:  \n",
    "- Support for slicing with monotonic decreasing indexes, even if `start` or `stop` is\n",
    "not found in the index ([GH7860](https://github.com/pandas-dev/pandas/issues/7860)):  \n",
    "previous behavior:  "
   ]
  },
  {
   "cell_type": "markdown",
   "metadata": {
    "hide-output": false
   },
   "source": [
    "```ipython\n",
    "In [8]: s.loc[3.5:1.5]\n",
    "KeyError: 3.5\n",
    "```\n"
   ]
  },
  {
   "cell_type": "markdown",
   "metadata": {},
   "source": [
    "current behavior:  \n",
    "- `io.data.Options` has been fixed for a change in the format of the Yahoo Options page ([GH8612](https://github.com/pandas-dev/pandas/issues/8612)), ([GH8741](https://github.com/pandas-dev/pandas/issues/8741))  \n",
    ">**Note**\n",
    ">\n",
    ">As a result of a change in Yahoo’s option page layout, when an expiry date is given,\n",
    "`Options` methods now return data for a single expiry date.  Previously, methods returned all\n",
    "data for the selected month.  \n",
    "The `month` and `year` parameters have been undeprecated and can be used to get all\n",
    "options data for a given month.  \n",
    "If an expiry date that is not valid is given, data for the next expiry after the given\n",
    "date is returned.  \n",
    "Option data frames are now saved on the instance as `callsYYMMDD` or `putsYYMMDD`.  Previously\n",
    "they were saved as `callsMMYY` and `putsMMYY`.  The next expiry is saved as `calls` and `puts`.  \n",
    "New features:  \n",
    "- The expiry parameter can now be a single date or a list-like object containing dates.  \n",
    "- A new property `expiry_dates` was added, which returns all available expiry dates.  \n",
    "Current behavior:  "
   ]
  },
  {
   "cell_type": "markdown",
   "metadata": {
    "hide-output": false
   },
   "source": [
    "```ipython\n",
    "In [17]: from pandas.io.data import Options\n",
    "\n",
    "In [18]: aapl = Options('aapl', 'yahoo')\n",
    "\n",
    "In [19]: aapl.get_call_data().iloc[0:5, 0:1]\n",
    "Out[19]:\n",
    "                                             Last\n",
    "Strike Expiry     Type Symbol\n",
    "80     2014-11-14 call AAPL141114C00080000  29.05\n",
    "84     2014-11-14 call AAPL141114C00084000  24.80\n",
    "85     2014-11-14 call AAPL141114C00085000  24.05\n",
    "86     2014-11-14 call AAPL141114C00086000  22.76\n",
    "87     2014-11-14 call AAPL141114C00087000  21.74\n",
    "\n",
    "In [20]: aapl.expiry_dates\n",
    "Out[20]:\n",
    "[datetime.date(2014, 11, 14),\n",
    " datetime.date(2014, 11, 22),\n",
    " datetime.date(2014, 11, 28),\n",
    " datetime.date(2014, 12, 5),\n",
    " datetime.date(2014, 12, 12),\n",
    " datetime.date(2014, 12, 20),\n",
    " datetime.date(2015, 1, 17),\n",
    " datetime.date(2015, 2, 20),\n",
    " datetime.date(2015, 4, 17),\n",
    " datetime.date(2015, 7, 17),\n",
    " datetime.date(2016, 1, 15),\n",
    " datetime.date(2017, 1, 20)]\n",
    "\n",
    "In [21]: aapl.get_near_stock_price(expiry=aapl.expiry_dates[0:3]).iloc[0:5, 0:1]\n",
    "Out[21]:\n",
    "                                            Last\n",
    "Strike Expiry     Type Symbol\n",
    "109    2014-11-22 call AAPL141122C00109000  1.48\n",
    "       2014-11-28 call AAPL141128C00109000  1.79\n",
    "110    2014-11-14 call AAPL141114C00110000  0.55\n",
    "       2014-11-22 call AAPL141122C00110000  1.02\n",
    "       2014-11-28 call AAPL141128C00110000  1.32\n",
    "```\n"
   ]
  },
  {
   "cell_type": "markdown",
   "metadata": {},
   "source": [
    "\n",
    "\n",
    "\n",
    "<a id='whatsnew-0151-datetime64-plotting'></a>\n",
    "- pandas now also registers the `datetime64` dtype in matplotlib’s units registry\n",
    "  to plot such values as datetimes. This is activated once pandas is imported. In\n",
    "  previous versions, plotting an array of `datetime64` values will have resulted\n",
    "  in plotted integer values. To keep the previous behaviour, you can do\n",
    "  `del matplotlib.units.registry[np.datetime64]` ([GH8614](https://github.com/pandas-dev/pandas/issues/8614)).  \n",
    "\n",
    "\n",
    "\n",
    "<a id='whatsnew-0151-enhancements'></a>"
   ]
  },
  {
   "cell_type": "markdown",
   "metadata": {},
   "source": [
    "## Enhancements\n",
    "\n",
    "- `concat` permits a wider variety of iterables of pandas objects to be\n",
    "passed as the first parameter ([GH8645](https://github.com/pandas-dev/pandas/issues/8645)):  \n",
    "previous behavior:  "
   ]
  },
  {
   "cell_type": "markdown",
   "metadata": {
    "hide-output": false
   },
   "source": [
    "```ipython\n",
    "In [7]: pd.concat(deque((df1, df2)))\n",
    "TypeError: first argument must be a list-like of pandas objects, you passed an object of type \"deque\"\n",
    "```\n"
   ]
  },
  {
   "cell_type": "markdown",
   "metadata": {},
   "source": [
    "current behavior:  \n",
    "- Represent `MultiIndex` labels with a dtype that utilizes memory based on the level size. In prior versions, the memory usage was a constant 8 bytes per element in each level. In addition, in prior versions, the *reported* memory usage was incorrect as it didn’t show the usage for the memory occupied by the underling data array. ([GH8456](https://github.com/pandas-dev/pandas/issues/8456))  \n",
    "previous behavior:  "
   ]
  },
  {
   "cell_type": "markdown",
   "metadata": {
    "hide-output": false
   },
   "source": [
    "```ipython\n",
    "# this was underreported in prior versions\n",
    "In [1]: dfi.memory_usage(index=True)\n",
    "Out[1]:\n",
    "Index    8000 # took about 24008 bytes in < 0.15.1\n",
    "A        8000\n",
    "dtype: int64\n",
    "```\n"
   ]
  },
  {
   "cell_type": "markdown",
   "metadata": {},
   "source": [
    "current behavior:  \n",
    "- Added Index properties is_monotonic_increasing and is_monotonic_decreasing ([GH8680](https://github.com/pandas-dev/pandas/issues/8680)).  \n",
    "- Added option to select columns when importing Stata files ([GH7935](https://github.com/pandas-dev/pandas/issues/7935))  \n",
    "- Qualify memory usage in `DataFrame.info()` by adding `+` if it is a lower bound ([GH8578](https://github.com/pandas-dev/pandas/issues/8578))  \n",
    "- Raise errors in certain aggregation cases where an argument such as `numeric_only` is not handled ([GH8592](https://github.com/pandas-dev/pandas/issues/8592)).  \n",
    "- Added support for 3-character ISO and non-standard country codes in `io.wb.download()` ([GH8482](https://github.com/pandas-dev/pandas/issues/8482))  \n",
    "- World Bank data requests now will warn/raise based\n",
    "  on an `errors` argument, as well as a list of hard-coded country codes and\n",
    "  the World Bank’s JSON response.  In prior versions, the error messages\n",
    "  didn’t look at the World Bank’s JSON response.  Problem-inducing input were\n",
    "  simply dropped prior to the request. The issue was that many good countries\n",
    "  were cropped in the hard-coded approach.  All countries will work now, but\n",
    "  some bad countries will raise exceptions because some edge cases break the\n",
    "  entire response. ([GH8482](https://github.com/pandas-dev/pandas/issues/8482))  \n",
    "- Added option to `Series.str.split()` to return a `DataFrame` rather than a `Series` ([GH8428](https://github.com/pandas-dev/pandas/issues/8428))  \n",
    "- Added option to `df.info(null_counts=None|True|False)` to override the default display options and force showing of the null-counts ([GH8701](https://github.com/pandas-dev/pandas/issues/8701))  \n",
    "\n",
    "\n",
    "\n",
    "<a id='whatsnew-0151-bug-fixes'></a>"
   ]
  },
  {
   "cell_type": "markdown",
   "metadata": {},
   "source": [
    "## Bug fixes\n",
    "\n",
    "- Bug in unpickling of a `CustomBusinessDay` object ([GH8591](https://github.com/pandas-dev/pandas/issues/8591))  \n",
    "- Bug in coercing `Categorical` to a records array, e.g. `df.to_records()` ([GH8626](https://github.com/pandas-dev/pandas/issues/8626))  \n",
    "- Bug in `Categorical` not created properly with `Series.to_frame()` ([GH8626](https://github.com/pandas-dev/pandas/issues/8626))  \n",
    "- Bug in coercing in astype of a `Categorical` of a passed `pd.Categorical` (this now raises `TypeError` correctly), ([GH8626](https://github.com/pandas-dev/pandas/issues/8626))  \n",
    "- Bug in `cut`/`qcut` when using `Series` and `retbins=True` ([GH8589](https://github.com/pandas-dev/pandas/issues/8589))  \n",
    "- Bug in writing Categorical columns to an SQL database with `to_sql` ([GH8624](https://github.com/pandas-dev/pandas/issues/8624)).  \n",
    "- Bug in comparing `Categorical` of datetime raising when being compared to a scalar datetime ([GH8687](https://github.com/pandas-dev/pandas/issues/8687))  \n",
    "- Bug in selecting from a `Categorical` with `.iloc` ([GH8623](https://github.com/pandas-dev/pandas/issues/8623))  \n",
    "- Bug in groupby-transform with a Categorical ([GH8623](https://github.com/pandas-dev/pandas/issues/8623))  \n",
    "- Bug in duplicated/drop_duplicates with a Categorical ([GH8623](https://github.com/pandas-dev/pandas/issues/8623))  \n",
    "- Bug in `Categorical` reflected comparison operator raising if the first argument was a numpy array scalar (e.g. np.int64) ([GH8658](https://github.com/pandas-dev/pandas/issues/8658))  \n",
    "- Bug in Panel indexing with a list-like ([GH8710](https://github.com/pandas-dev/pandas/issues/8710))  \n",
    "- Compat issue is `DataFrame.dtypes` when `options.mode.use_inf_as_null` is True ([GH8722](https://github.com/pandas-dev/pandas/issues/8722))  \n",
    "- Bug in `read_csv`, `dialect` parameter would not take a string ([GH8703](https://github.com/pandas-dev/pandas/issues/8703))  \n",
    "- Bug in slicing a MultiIndex level with an empty-list ([GH8737](https://github.com/pandas-dev/pandas/issues/8737))  \n",
    "- Bug in numeric index operations of add/sub with Float/Index Index with numpy arrays ([GH8608](https://github.com/pandas-dev/pandas/issues/8608))  \n",
    "- Bug in setitem with empty indexer and unwanted coercion of dtypes ([GH8669](https://github.com/pandas-dev/pandas/issues/8669))  \n",
    "- Bug in ix/loc block splitting on setitem (manifests with integer-like dtypes, e.g. datetime64) ([GH8607](https://github.com/pandas-dev/pandas/issues/8607))  \n",
    "- Bug when doing label based indexing with integers not found in the index for\n",
    "  non-unique but monotonic indexes ([GH8680](https://github.com/pandas-dev/pandas/issues/8680)).  \n",
    "- Bug when indexing a Float64Index with `np.nan` on numpy 1.7 ([GH8980](https://github.com/pandas-dev/pandas/issues/8980)).  \n",
    "- Fix `shape` attribute for `MultiIndex` ([GH8609](https://github.com/pandas-dev/pandas/issues/8609))  \n",
    "- Bug in `GroupBy` where a name conflict between the grouper and columns\n",
    "  would break `groupby` operations ([GH7115](https://github.com/pandas-dev/pandas/issues/7115), [GH8112](https://github.com/pandas-dev/pandas/issues/8112))  \n",
    "- Fixed a bug where plotting a column `y` and specifying a label would mutate the index name of the original DataFrame ([GH8494](https://github.com/pandas-dev/pandas/issues/8494))  \n",
    "- Fix regression in plotting of a DatetimeIndex directly with matplotlib ([GH8614](https://github.com/pandas-dev/pandas/issues/8614)).  \n",
    "- Bug in `date_range` where partially-specified dates would incorporate current date ([GH6961](https://github.com/pandas-dev/pandas/issues/6961))  \n",
    "- Bug in Setting by indexer to a scalar value with a mixed-dtype Panel4d was failing ([GH8702](https://github.com/pandas-dev/pandas/issues/8702))  \n",
    "- Bug where `DataReader`’s would fail if one of the symbols passed was invalid.  Now returns data for valid symbols and np.nan for invalid ([GH8494](https://github.com/pandas-dev/pandas/issues/8494))  \n",
    "- Bug in `get_quote_yahoo` that wouldn’t allow non-float return values ([GH5229](https://github.com/pandas-dev/pandas/issues/5229)).  \n",
    "\n",
    "\n",
    "\n",
    "<a id='whatsnew-0-15-1-contributors'></a>"
   ]
  },
  {
   "cell_type": "markdown",
   "metadata": {},
   "source": [
    "## Contributors\n",
    "\n",
    "A total of 23 people contributed patches to this release.  People with a\n",
    "“+” by their names contributed a patch for the first time.\n",
    "\n",
    "\n",
    "- Aaron Staple +  \n",
    "- Andrew Rosenfeld  \n",
    "- Anton I. Sipos  \n",
    "- Artemy Kolchinsky  \n",
    "- Bill Letson +  \n",
    "- Dave Hughes +  \n",
    "- David Stephens  \n",
    "- Guillaume Horel +  \n",
    "- Jeff Reback  \n",
    "- Joris Van den Bossche  \n",
    "- Kevin Sheppard  \n",
    "- Nick Stahl +  \n",
    "- Sanghee Kim +  \n",
    "- Stephan Hoyer  \n",
    "- Tom Augspurger  \n",
    "- TomAugspurger  \n",
    "- WANG Aiyong +  \n",
    "- behzad nouri  \n",
    "- immerrr  \n",
    "- jnmclarty  \n",
    "- jreback  \n",
    "- pallav-fdsi +  \n",
    "- unutbu  "
   ]
  }
 ],
 "metadata": {
  "filename": "v0.15.1.rst",
  "kernelspec": {
   "display_name": "Python",
   "language": "python3",
   "name": "python3"
  },
  "title": "v0.15.1 (November 9, 2014)"
 },
 "nbformat": 4,
 "nbformat_minor": 2
}