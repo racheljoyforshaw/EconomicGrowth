{
 "cells": [
  {
   "cell_type": "markdown",
   "metadata": {},
   "source": [
    "\n",
    "<a id='whatsnew-0181'></a>"
   ]
  },
  {
   "cell_type": "markdown",
   "metadata": {},
   "source": [
    "# v0.18.1 (May 3, 2016)\n",
    "\n",
    "{{ header }}\n",
    "\n",
    "This is a minor bug-fix release from 0.18.0 and includes a large number of\n",
    "bug fixes along with several new features, enhancements, and performance improvements.\n",
    "We recommend that all users upgrade to this version.\n",
    "\n",
    "Highlights include:\n",
    "\n",
    "- `.groupby(...)` has been enhanced to provide convenient syntax when working with `.rolling(..)`, `.expanding(..)` and `.resample(..)` per group, see [here](#whatsnew-0181-deferred-ops)  \n",
    "- `pd.to_datetime()` has gained the ability to assemble dates from a `DataFrame`, see [here](#whatsnew-0181-enhancements-assembling)  \n",
    "- Method chaining improvements, see [here](#whatsnew-0181-enhancements-method-chain).  \n",
    "- Custom business hour offset, see [here](#whatsnew-0181-enhancements-custombusinesshour).  \n",
    "- Many bug fixes in the handling of `sparse`, see [here](#whatsnew-0181-sparse)  \n",
    "- Expanded the [Tutorials section](getting_started/tutorials.ipynb#tutorial-modern) with a feature on modern pandas, courtesy of [@TomAugsburger](https://twitter.com/TomAugspurger). ([GH13045](https://github.com/pandas-dev/pandas/issues/13045)).  "
   ]
  },
  {
   "cell_type": "markdown",
   "metadata": {},
   "source": [
    "## What’s new in v0.18.1\n",
    "\n",
    "- [New features](#New-features)  \n",
    "  - [Custom business hour](#Custom-business-hour)  \n",
    "  - [`.groupby(..)` syntax with window and resample operations](#`.groupby(..)`-syntax-with-window-and-resample-operations)  \n",
    "  - [Method chaining improvements](#Method-chaining-improvements)  \n",
    "    - [`.where()` and `.mask()`](#`.where()`-and-`.mask()`)  \n",
    "    - [`.loc[]`, `.iloc[]`, `.ix[]`](#`.loc[]`,-`.iloc[]`,-`.ix[]`)  \n",
    "    - [`[]` indexing](#`[]`-indexing)  \n",
    "  - [Partial string indexing on `DateTimeIndex` when part of a `MultiIndex`](#Partial-string-indexing-on-`DateTimeIndex`-when-part-of-a-`MultiIndex`)  \n",
    "  - [Assembling datetimes](#Assembling-datetimes)  \n",
    "  - [Other enhancements](#Other-enhancements)  \n",
    "- [Sparse changes](#Sparse-changes)  \n",
    "- [API changes](#API-changes)  \n",
    "  - [`.groupby(..).nth()` changes](#`.groupby(..).nth()`-changes)  \n",
    "  - [numpy function compatibility](#numpy-function-compatibility)  \n",
    "  - [Using `.apply` on groupby resampling](#Using-`.apply`-on-groupby-resampling)  \n",
    "  - [Changes in `read_csv` exceptions](#Changes-in-`read_csv`-exceptions)  \n",
    "  - [`to_datetime` error changes](#`to_datetime`-error-changes)  \n",
    "  - [Other API changes](#Other-API-changes)  \n",
    "  - [Deprecations](#Deprecations)  \n",
    "- [Performance improvements](#Performance-improvements)  \n",
    "- [Bug fixes](#Bug-fixes)  \n",
    "- [Contributors](#Contributors)  "
   ]
  },
  {
   "cell_type": "markdown",
   "metadata": {},
   "source": [
    "\n",
    "<a id='whatsnew-0181-new-features'></a>"
   ]
  },
  {
   "cell_type": "markdown",
   "metadata": {},
   "source": [
    "## New features\n",
    "\n",
    "\n",
    "<a id='whatsnew-0181-enhancements-custombusinesshour'></a>"
   ]
  },
  {
   "cell_type": "markdown",
   "metadata": {},
   "source": [
    "### Custom business hour\n",
    "\n",
    "The `CustomBusinessHour` is a mixture of `BusinessHour` and `CustomBusinessDay` which\n",
    "allows you to specify arbitrary holidays. For details,\n",
    "see [Custom Business Hour](user_guide/timeseries.ipynb#timeseries-custombusinesshour) ([GH11514](https://github.com/pandas-dev/pandas/issues/11514))\n",
    "\n",
    "Friday before MLK Day\n",
    "\n",
    "Tuesday after MLK Day (Monday is skipped because it’s a holiday)\n",
    "\n",
    "\n",
    "<a id='whatsnew-0181-deferred-ops'></a>"
   ]
  },
  {
   "cell_type": "markdown",
   "metadata": {},
   "source": [
    "### `.groupby(..)` syntax with window and resample operations\n",
    "\n",
    "`.groupby(...)` has been enhanced to provide convenient syntax when working with `.rolling(..)`, `.expanding(..)` and `.resample(..)` per group, see ([GH12486](https://github.com/pandas-dev/pandas/issues/12486), [GH12738](https://github.com/pandas-dev/pandas/issues/12738)).\n",
    "\n",
    "You can now use `.rolling(..)` and `.expanding(..)` as methods on groupbys. These return another deferred object (similar to what `.rolling()` and `.expanding()` do on ungrouped pandas objects). You can then operate on these `RollingGroupby` objects in a similar manner.\n",
    "\n",
    "Previously you would have to do this to get a rolling window mean per-group:\n",
    "\n",
    "Now you can do:\n",
    "\n",
    "For `.resample(..)` type of operations, previously you would have to:\n",
    "\n",
    "Now you can do:\n",
    "\n",
    "\n",
    "<a id='whatsnew-0181-enhancements-method-chain'></a>"
   ]
  },
  {
   "cell_type": "markdown",
   "metadata": {},
   "source": [
    "### Method chaining improvements\n",
    "\n",
    "The following methods / indexers now accept a `callable`. It is intended to make\n",
    "these more useful in method chains, see the [documentation](user_guide/indexing.ipynb#indexing-callable).\n",
    "([GH11485](https://github.com/pandas-dev/pandas/issues/11485), [GH12533](https://github.com/pandas-dev/pandas/issues/12533))\n",
    "\n",
    "- `.where()` and `.mask()`  \n",
    "- `.loc[]`, `iloc[]` and `.ix[]`  \n",
    "- `[]` indexing  "
   ]
  },
  {
   "cell_type": "markdown",
   "metadata": {},
   "source": [
    "#### `.where()` and `.mask()`\n",
    "\n",
    "These can accept a callable for the condition and `other`\n",
    "arguments."
   ]
  },
  {
   "cell_type": "markdown",
   "metadata": {},
   "source": [
    "#### `.loc[]`, `.iloc[]`, `.ix[]`\n",
    "\n",
    "These can accept a callable, and a tuple of callable as a slicer. The callable\n",
    "can return a valid boolean indexer or anything which is valid for these indexer’s input."
   ]
  },
  {
   "cell_type": "markdown",
   "metadata": {},
   "source": [
    "#### `[]` indexing\n",
    "\n",
    "Finally, you can use a callable in `[]` indexing of Series, DataFrame and Panel.\n",
    "The callable must return a valid input for `[]` indexing depending on its\n",
    "class and index type.\n",
    "\n",
    "Using these methods / indexers, you can chain data selection operations\n",
    "without using temporary variable.\n",
    "\n",
    "\n",
    "<a id='whatsnew-0181-partial-string-indexing'></a>"
   ]
  },
  {
   "cell_type": "markdown",
   "metadata": {},
   "source": [
    "### Partial string indexing on `DateTimeIndex` when part of a `MultiIndex`\n",
    "\n",
    "Partial string indexing now matches on `DateTimeIndex` when part of a `MultiIndex` ([GH10331](https://github.com/pandas-dev/pandas/issues/10331))\n",
    "\n",
    "On other levels\n",
    "\n",
    "\n",
    "<a id='whatsnew-0181-enhancements-assembling'></a>"
   ]
  },
  {
   "cell_type": "markdown",
   "metadata": {},
   "source": [
    "### Assembling datetimes\n",
    "\n",
    "`pd.to_datetime()` has gained the ability to assemble datetimes from a passed in `DataFrame` or a dict. ([GH8158](https://github.com/pandas-dev/pandas/issues/8158)).\n",
    "\n",
    "Assembling using the passed frame.\n",
    "\n",
    "You can pass only the columns that you need to assemble.\n",
    "\n",
    "\n",
    "<a id='whatsnew-0181-other'></a>"
   ]
  },
  {
   "cell_type": "markdown",
   "metadata": {},
   "source": [
    "### Other enhancements\n",
    "\n",
    "- `pd.read_csv()` now supports `delim_whitespace=True` for the Python engine ([GH12958](https://github.com/pandas-dev/pandas/issues/12958))  \n",
    "- `pd.read_csv()` now supports opening ZIP files that contains a single CSV, via extension inference or explicit `compression='zip'` ([GH12175](https://github.com/pandas-dev/pandas/issues/12175))  \n",
    "- `pd.read_csv()` now supports opening files using xz compression, via extension inference or explicit `compression='xz'` is specified; `xz` compressions is also supported by `DataFrame.to_csv` in the same way ([GH11852](https://github.com/pandas-dev/pandas/issues/11852))  \n",
    "- `pd.read_msgpack()` now always gives writeable ndarrays even when compression is used ([GH12359](https://github.com/pandas-dev/pandas/issues/12359)).  \n",
    "- `pd.read_msgpack()` now supports serializing and de-serializing categoricals with msgpack ([GH12573](https://github.com/pandas-dev/pandas/issues/12573))  \n",
    "- `.to_json()` now supports `NDFrames` that contain categorical and sparse data ([GH10778](https://github.com/pandas-dev/pandas/issues/10778))  \n",
    "- `interpolate()` now supports `method='akima'` ([GH7588](https://github.com/pandas-dev/pandas/issues/7588)).  \n",
    "- `pd.read_excel()` now accepts path objects (e.g. `pathlib.Path`, `py.path.local`) for the file path, in line with other `read_*` functions ([GH12655](https://github.com/pandas-dev/pandas/issues/12655))  \n",
    "- Added `.weekday_name` property as a component to `DatetimeIndex` and the `.dt` accessor. ([GH11128](https://github.com/pandas-dev/pandas/issues/11128))  \n",
    "- `Index.take` now handles `allow_fill` and `fill_value` consistently ([GH12631](https://github.com/pandas-dev/pandas/issues/12631))  \n",
    "- `Index` now supports `.str.get_dummies()` which returns `MultiIndex`, see [Creating Indicator Variables](user_guide/text.ipynb#text-indicator) ([GH10008](https://github.com/pandas-dev/pandas/issues/10008), [GH10103](https://github.com/pandas-dev/pandas/issues/10103))  \n",
    "- `pd.crosstab()` has gained a `normalize` argument for normalizing frequency tables ([GH12569](https://github.com/pandas-dev/pandas/issues/12569)). Examples in the updated docs [here](user_guide/reshaping.ipynb#reshaping-crosstabulations).  \n",
    "- `.resample(..).interpolate()` is now supported ([GH12925](https://github.com/pandas-dev/pandas/issues/12925))  \n",
    "- `.isin()` now accepts passed `sets` ([GH12988](https://github.com/pandas-dev/pandas/issues/12988))  \n",
    "\n",
    "\n",
    "\n",
    "<a id='whatsnew-0181-sparse'></a>"
   ]
  },
  {
   "cell_type": "markdown",
   "metadata": {},
   "source": [
    "## Sparse changes\n",
    "\n",
    "These changes conform sparse handling to return the correct types and work to make a smoother experience with indexing.\n",
    "\n",
    "`SparseArray.take` now returns a scalar for scalar input, `SparseArray` for others. Furthermore, it handles a negative indexer with the same rule as `Index` ([GH10560](https://github.com/pandas-dev/pandas/issues/10560), [GH12796](https://github.com/pandas-dev/pandas/issues/12796))"
   ]
  },
  {
   "cell_type": "code",
   "execution_count": null,
   "metadata": {
    "hide-output": false
   },
   "outputs": [],
   "source": [
    "s = pd.SparseArray([np.nan, np.nan, 1, 2, 3, np.nan, 4, 5, np.nan, 6])\n",
    "s.take(0)\n",
    "s.take([1, 2, 3])"
   ]
  },
  {
   "cell_type": "markdown",
   "metadata": {},
   "source": [
    "- Bug in `SparseSeries[]` indexing with `Ellipsis` raises `KeyError` ([GH9467](https://github.com/pandas-dev/pandas/issues/9467))  \n",
    "- Bug in `SparseArray[]` indexing with tuples are not handled properly ([GH12966](https://github.com/pandas-dev/pandas/issues/12966))  \n",
    "- Bug in `SparseSeries.loc[]` with list-like input raises `TypeError` ([GH10560](https://github.com/pandas-dev/pandas/issues/10560))  \n",
    "- Bug in `SparseSeries.iloc[]` with scalar input may raise `IndexError` ([GH10560](https://github.com/pandas-dev/pandas/issues/10560))  \n",
    "- Bug in `SparseSeries.loc[]`, `.iloc[]` with `slice` returns `SparseArray`, rather than `SparseSeries` ([GH10560](https://github.com/pandas-dev/pandas/issues/10560))  \n",
    "- Bug in `SparseDataFrame.loc[]`, `.iloc[]` may results in dense `Series`, rather than `SparseSeries` ([GH12787](https://github.com/pandas-dev/pandas/issues/12787))  \n",
    "- Bug in `SparseArray` addition ignores `fill_value` of right hand side ([GH12910](https://github.com/pandas-dev/pandas/issues/12910))  \n",
    "- Bug in `SparseArray` mod raises `AttributeError` ([GH12910](https://github.com/pandas-dev/pandas/issues/12910))  \n",
    "- Bug in `SparseArray` pow calculates `1 ** np.nan` as `np.nan` which must be 1 ([GH12910](https://github.com/pandas-dev/pandas/issues/12910))  \n",
    "- Bug in `SparseArray` comparison output may incorrect result or raise `ValueError` ([GH12971](https://github.com/pandas-dev/pandas/issues/12971))  \n",
    "- Bug in `SparseSeries.__repr__` raises `TypeError` when it is longer than `max_rows` ([GH10560](https://github.com/pandas-dev/pandas/issues/10560))  \n",
    "- Bug in `SparseSeries.shape` ignores `fill_value` ([GH10452](https://github.com/pandas-dev/pandas/issues/10452))  \n",
    "- Bug in `SparseSeries` and `SparseArray` may have different `dtype` from its dense values ([GH12908](https://github.com/pandas-dev/pandas/issues/12908))  \n",
    "- Bug in `SparseSeries.reindex` incorrectly handle `fill_value` ([GH12797](https://github.com/pandas-dev/pandas/issues/12797))  \n",
    "- Bug in `SparseArray.to_frame()` results in `DataFrame`, rather than `SparseDataFrame` ([GH9850](https://github.com/pandas-dev/pandas/issues/9850))  \n",
    "- Bug in `SparseSeries.value_counts()` does not count `fill_value` ([GH6749](https://github.com/pandas-dev/pandas/issues/6749))  \n",
    "- Bug in `SparseArray.to_dense()` does not preserve `dtype` ([GH10648](https://github.com/pandas-dev/pandas/issues/10648))  \n",
    "- Bug in `SparseArray.to_dense()` incorrectly handle `fill_value` ([GH12797](https://github.com/pandas-dev/pandas/issues/12797))  \n",
    "- Bug in `pd.concat()` of `SparseSeries` results in dense ([GH10536](https://github.com/pandas-dev/pandas/issues/10536))  \n",
    "- Bug in `pd.concat()` of `SparseDataFrame` incorrectly handle `fill_value` ([GH9765](https://github.com/pandas-dev/pandas/issues/9765))  \n",
    "- Bug in `pd.concat()` of `SparseDataFrame` may raise `AttributeError` ([GH12174](https://github.com/pandas-dev/pandas/issues/12174))  \n",
    "- Bug in `SparseArray.shift()` may raise `NameError` or `TypeError` ([GH12908](https://github.com/pandas-dev/pandas/issues/12908))  \n",
    "\n",
    "\n",
    "\n",
    "<a id='whatsnew-0181-api'></a>"
   ]
  },
  {
   "cell_type": "markdown",
   "metadata": {},
   "source": [
    "## API changes\n",
    "\n",
    "\n",
    "<a id='whatsnew-0181-api-groubynth'></a>"
   ]
  },
  {
   "cell_type": "markdown",
   "metadata": {},
   "source": [
    "### `.groupby(..).nth()` changes\n",
    "\n",
    "The index in `.groupby(..).nth()` output is now more consistent when the `as_index` argument is passed ([GH11039](https://github.com/pandas-dev/pandas/issues/11039)):\n",
    "\n",
    "Previous behavior:"
   ]
  },
  {
   "cell_type": "markdown",
   "metadata": {
    "hide-output": false
   },
   "source": [
    "```ipython\n",
    "In [3]: df.groupby('A', as_index=True)['B'].nth(0)\n",
    "Out[3]:\n",
    "0    1\n",
    "1    2\n",
    "Name: B, dtype: int64\n",
    "\n",
    "In [4]: df.groupby('A', as_index=False)['B'].nth(0)\n",
    "Out[4]:\n",
    "0    1\n",
    "1    2\n",
    "Name: B, dtype: int64\n",
    "```\n"
   ]
  },
  {
   "cell_type": "markdown",
   "metadata": {},
   "source": [
    "New behavior:\n",
    "\n",
    "Furthermore, previously, a `.groupby` would always sort, regardless if `sort=False` was passed with `.nth()`.\n",
    "\n",
    "Previous behavior:"
   ]
  },
  {
   "cell_type": "markdown",
   "metadata": {
    "hide-output": false
   },
   "source": [
    "```ipython\n",
    "In [4]: df.groupby('c', sort=True).nth(1)\n",
    "Out[4]:\n",
    "          a         b\n",
    "c\n",
    "0 -0.334077  0.002118\n",
    "1  0.036142 -2.074978\n",
    "2 -0.720589  0.887163\n",
    "3  0.859588 -0.636524\n",
    "\n",
    "In [5]: df.groupby('c', sort=False).nth(1)\n",
    "Out[5]:\n",
    "          a         b\n",
    "c\n",
    "0 -0.334077  0.002118\n",
    "1  0.036142 -2.074978\n",
    "2 -0.720589  0.887163\n",
    "3  0.859588 -0.636524\n",
    "```\n"
   ]
  },
  {
   "cell_type": "markdown",
   "metadata": {},
   "source": [
    "New behavior:\n",
    "\n",
    "\n",
    "<a id='whatsnew-0181-numpy-compatibility'></a>"
   ]
  },
  {
   "cell_type": "markdown",
   "metadata": {},
   "source": [
    "### numpy function compatibility\n",
    "\n",
    "Compatibility between pandas array-like methods (e.g. `sum` and `take`) and their `numpy`\n",
    "counterparts has been greatly increased by augmenting the signatures of the `pandas` methods so\n",
    "as to accept arguments that can be passed in from `numpy`, even if they are not necessarily\n",
    "used in the `pandas` implementation ([GH12644](https://github.com/pandas-dev/pandas/issues/12644), [GH12638](https://github.com/pandas-dev/pandas/issues/12638), [GH12687](https://github.com/pandas-dev/pandas/issues/12687))\n",
    "\n",
    "- `.searchsorted()` for `Index` and `TimedeltaIndex` now accept a `sorter` argument to maintain compatibility with numpy’s `searchsorted` function ([GH12238](https://github.com/pandas-dev/pandas/issues/12238))  \n",
    "- Bug in numpy compatibility of `np.round()` on a `Series` ([GH12600](https://github.com/pandas-dev/pandas/issues/12600))  \n",
    "\n",
    "\n",
    "An example of this signature augmentation is illustrated below:\n",
    "\n",
    "Previous behaviour:"
   ]
  },
  {
   "cell_type": "markdown",
   "metadata": {
    "hide-output": false
   },
   "source": [
    "```ipython\n",
    "In [2]: np.cumsum(sp, axis=0)\n",
    "...\n",
    "TypeError: cumsum() takes at most 2 arguments (4 given)\n",
    "```\n"
   ]
  },
  {
   "cell_type": "markdown",
   "metadata": {},
   "source": [
    "New behaviour:\n",
    "\n",
    "\n",
    "<a id='whatsnew-0181-apply-resample'></a>"
   ]
  },
  {
   "cell_type": "markdown",
   "metadata": {},
   "source": [
    "### Using `.apply` on groupby resampling\n",
    "\n",
    "Using `apply` on resampling groupby operations (using a `pd.TimeGrouper`) now has the same output types as similar `apply` calls on other groupby operations. ([GH11742](https://github.com/pandas-dev/pandas/issues/11742)).\n",
    "\n",
    "Previous behavior:"
   ]
  },
  {
   "cell_type": "markdown",
   "metadata": {
    "hide-output": false
   },
   "source": [
    "```ipython\n",
    "In [1]: df.groupby(pd.TimeGrouper(key='date',\n",
    "   ...:                           freq='M')).apply(lambda x: x.value.sum())\n",
    "Out[1]:\n",
    "...\n",
    "TypeError: cannot concatenate a non-NDFrame object\n",
    "\n",
    "# Output is a Series\n",
    "In [2]: df.groupby(pd.TimeGrouper(key='date',\n",
    "   ...:                           freq='M')).apply(lambda x: x[['value']].sum())\n",
    "Out[2]:\n",
    "date\n",
    "2000-10-31  value    10\n",
    "2000-11-30  value    13\n",
    "dtype: int64\n",
    "```\n"
   ]
  },
  {
   "cell_type": "markdown",
   "metadata": {},
   "source": [
    "New behavior:"
   ]
  },
  {
   "cell_type": "markdown",
   "metadata": {
    "hide-output": false
   },
   "source": [
    "```ipython\n",
    "# Output is a Series\n",
    "In [55]: df.groupby(pd.TimeGrouper(key='date',\n",
    "    ...:                           freq='M')).apply(lambda x: x.value.sum())\n",
    "Out[55]:\n",
    "date\n",
    "2000-10-31    10\n",
    "2000-11-30    13\n",
    "Freq: M, dtype: int64\n",
    "\n",
    "# Output is a DataFrame\n",
    "In [56]: df.groupby(pd.TimeGrouper(key='date',\n",
    "    ...:                           freq='M')).apply(lambda x: x[['value']].sum())\n",
    "Out[56]:\n",
    "            value\n",
    "date\n",
    "2000-10-31     10\n",
    "2000-11-30     13\n",
    "```\n"
   ]
  },
  {
   "cell_type": "markdown",
   "metadata": {},
   "source": [
    "\n",
    "<a id='whatsnew-0181-read-csv-exceptions'></a>"
   ]
  },
  {
   "cell_type": "markdown",
   "metadata": {},
   "source": [
    "### Changes in `read_csv` exceptions\n",
    "\n",
    "In order to standardize the `read_csv` API for both the `c` and `python` engines, both will now raise an\n",
    "`EmptyDataError`, a subclass of `ValueError`, in response to empty columns or header ([GH12493](https://github.com/pandas-dev/pandas/issues/12493), [GH12506](https://github.com/pandas-dev/pandas/issues/12506))\n",
    "\n",
    "Previous behaviour:"
   ]
  },
  {
   "cell_type": "markdown",
   "metadata": {
    "hide-output": false
   },
   "source": [
    "```ipython\n",
    "In [1]: import io\n",
    "\n",
    "In [2]: df = pd.read_csv(io.StringIO(''), engine='c')\n",
    "...\n",
    "ValueError: No columns to parse from file\n",
    "\n",
    "In [3]: df = pd.read_csv(io.StringIO(''), engine='python')\n",
    "...\n",
    "StopIteration\n",
    "```\n"
   ]
  },
  {
   "cell_type": "markdown",
   "metadata": {},
   "source": [
    "New behaviour:"
   ]
  },
  {
   "cell_type": "markdown",
   "metadata": {
    "hide-output": false
   },
   "source": [
    "```ipython\n",
    "In [1]: df = pd.read_csv(io.StringIO(''), engine='c')\n",
    "...\n",
    "pandas.io.common.EmptyDataError: No columns to parse from file\n",
    "\n",
    "In [2]: df = pd.read_csv(io.StringIO(''), engine='python')\n",
    "...\n",
    "pandas.io.common.EmptyDataError: No columns to parse from file\n",
    "```\n"
   ]
  },
  {
   "cell_type": "markdown",
   "metadata": {},
   "source": [
    "In addition to this error change, several others have been made as well:\n",
    "\n",
    "- `CParserError` now sub-classes `ValueError` instead of just a `Exception` ([GH12551](https://github.com/pandas-dev/pandas/issues/12551))  \n",
    "- A `CParserError` is now raised instead of a generic `Exception` in `read_csv` when the `c` engine cannot parse a column ([GH12506](https://github.com/pandas-dev/pandas/issues/12506))  \n",
    "- A `ValueError` is now raised instead of a generic `Exception` in `read_csv` when the `c` engine encounters a `NaN` value in an integer column ([GH12506](https://github.com/pandas-dev/pandas/issues/12506))  \n",
    "- A `ValueError` is now raised instead of a generic `Exception` in `read_csv` when `true_values` is specified, and the `c` engine encounters an element in a column containing unencodable bytes ([GH12506](https://github.com/pandas-dev/pandas/issues/12506))  \n",
    "- `pandas.parser.OverflowError` exception has been removed and has been replaced with Python’s built-in `OverflowError` exception ([GH12506](https://github.com/pandas-dev/pandas/issues/12506))  \n",
    "- `pd.read_csv()` no longer allows a combination of strings and integers for the `usecols` parameter ([GH12678](https://github.com/pandas-dev/pandas/issues/12678))  \n",
    "\n",
    "\n",
    "\n",
    "<a id='whatsnew-0181-api-to-datetime'></a>"
   ]
  },
  {
   "cell_type": "markdown",
   "metadata": {},
   "source": [
    "### `to_datetime` error changes\n",
    "\n",
    "Bugs in `pd.to_datetime()` when passing a `unit` with convertible entries and `errors='coerce'` or non-convertible with `errors='ignore'`. Furthermore, an `OutOfBoundsDateime` exception will be raised when an out-of-range value is encountered for that unit when `errors='raise'`. ([GH11758](https://github.com/pandas-dev/pandas/issues/11758), [GH13052](https://github.com/pandas-dev/pandas/issues/13052), [GH13059](https://github.com/pandas-dev/pandas/issues/13059))\n",
    "\n",
    "Previous behaviour:"
   ]
  },
  {
   "cell_type": "markdown",
   "metadata": {
    "hide-output": false
   },
   "source": [
    "```ipython\n",
    "In [27]: pd.to_datetime(1420043460, unit='s', errors='coerce')\n",
    "Out[27]: NaT\n",
    "\n",
    "In [28]: pd.to_datetime(11111111, unit='D', errors='ignore')\n",
    "OverflowError: Python int too large to convert to C long\n",
    "\n",
    "In [29]: pd.to_datetime(11111111, unit='D', errors='raise')\n",
    "OverflowError: Python int too large to convert to C long\n",
    "```\n"
   ]
  },
  {
   "cell_type": "markdown",
   "metadata": {},
   "source": [
    "New behaviour:"
   ]
  },
  {
   "cell_type": "markdown",
   "metadata": {
    "hide-output": false
   },
   "source": [
    "```ipython\n",
    "In [2]: pd.to_datetime(1420043460, unit='s', errors='coerce')\n",
    "Out[2]: Timestamp('2014-12-31 16:31:00')\n",
    "\n",
    "In [3]: pd.to_datetime(11111111, unit='D', errors='ignore')\n",
    "Out[3]: 11111111\n",
    "\n",
    "In [4]: pd.to_datetime(11111111, unit='D', errors='raise')\n",
    "OutOfBoundsDatetime: cannot convert input with unit 'D'\n",
    "```\n"
   ]
  },
  {
   "cell_type": "markdown",
   "metadata": {},
   "source": [
    "\n",
    "<a id='whatsnew-0181-api-other'></a>"
   ]
  },
  {
   "cell_type": "markdown",
   "metadata": {},
   "source": [
    "### Other API changes\n",
    "\n",
    "- `.swaplevel()` for `Series`, `DataFrame`, `Panel`, and `MultiIndex` now features defaults for its first two parameters `i` and `j` that swap the two innermost levels of the index. ([GH12934](https://github.com/pandas-dev/pandas/issues/12934))  \n",
    "- `.searchsorted()` for `Index` and `TimedeltaIndex` now accept a `sorter` argument to maintain compatibility with numpy’s `searchsorted` function ([GH12238](https://github.com/pandas-dev/pandas/issues/12238))  \n",
    "- `Period` and `PeriodIndex` now raises `IncompatibleFrequency` error which inherits `ValueError` rather than raw `ValueError` ([GH12615](https://github.com/pandas-dev/pandas/issues/12615))  \n",
    "- `Series.apply` for category dtype now applies the passed function to each of the `.categories` (and not the `.codes`), and returns a `category` dtype if possible ([GH12473](https://github.com/pandas-dev/pandas/issues/12473))  \n",
    "- `read_csv` will now raise a `TypeError` if `parse_dates` is neither a boolean, list, or dictionary (matches the doc-string) ([GH5636](https://github.com/pandas-dev/pandas/issues/5636))  \n",
    "- The default for `.query()/.eval()` is now `engine=None`, which will use `numexpr` if it’s installed; otherwise it will fallback to the `python` engine. This mimics the pre-0.18.1 behavior if `numexpr` is installed (and which, previously, if numexpr was not installed, `.query()/.eval()` would raise). ([GH12749](https://github.com/pandas-dev/pandas/issues/12749))  \n",
    "- `pd.show_versions()` now includes `pandas_datareader` version ([GH12740](https://github.com/pandas-dev/pandas/issues/12740))  \n",
    "- Provide a proper `__name__` and `__qualname__` attributes for generic functions ([GH12021](https://github.com/pandas-dev/pandas/issues/12021))  \n",
    "- `pd.concat(ignore_index=True)` now uses `RangeIndex` as default ([GH12695](https://github.com/pandas-dev/pandas/issues/12695))  \n",
    "- `pd.merge()` and `DataFrame.join()` will show a `UserWarning` when merging/joining a single- with a multi-leveled dataframe ([GH9455](https://github.com/pandas-dev/pandas/issues/9455), [GH12219](https://github.com/pandas-dev/pandas/issues/12219))  \n",
    "- Compat with `scipy` > 0.17 for deprecated `piecewise_polynomial` interpolation method; support for the replacement `from_derivatives` method ([GH12887](https://github.com/pandas-dev/pandas/issues/12887))  \n",
    "\n",
    "\n",
    "\n",
    "<a id='whatsnew-0181-deprecations'></a>"
   ]
  },
  {
   "cell_type": "markdown",
   "metadata": {},
   "source": [
    "### Deprecations\n",
    "\n",
    "- The method name `Index.sym_diff()` is deprecated and can be replaced by `Index.symmetric_difference()` ([GH12591](https://github.com/pandas-dev/pandas/issues/12591))  \n",
    "- The method name `Categorical.sort()` is deprecated in favor of `Categorical.sort_values()` ([GH12882](https://github.com/pandas-dev/pandas/issues/12882))  \n",
    "\n",
    "\n",
    "\n",
    "<a id='whatsnew-0181-performance'></a>"
   ]
  },
  {
   "cell_type": "markdown",
   "metadata": {},
   "source": [
    "## Performance improvements\n",
    "\n",
    "- Improved speed of SAS reader ([GH12656](https://github.com/pandas-dev/pandas/issues/12656), [GH12961](https://github.com/pandas-dev/pandas/issues/12961))  \n",
    "- Performance improvements in `.groupby(..).cumcount()` ([GH11039](https://github.com/pandas-dev/pandas/issues/11039))  \n",
    "- Improved memory usage in `pd.read_csv()` when using `skiprows=an_integer` ([GH13005](https://github.com/pandas-dev/pandas/issues/13005))  \n",
    "- Improved performance of `DataFrame.to_sql` when checking case sensitivity for tables. Now only checks if table has been created correctly when table name is not lower case. ([GH12876](https://github.com/pandas-dev/pandas/issues/12876))  \n",
    "- Improved performance of `Period` construction and time series plotting ([GH12903](https://github.com/pandas-dev/pandas/issues/12903), [GH11831](https://github.com/pandas-dev/pandas/issues/11831)).  \n",
    "- Improved performance of `.str.encode()` and `.str.decode()` methods ([GH13008](https://github.com/pandas-dev/pandas/issues/13008))  \n",
    "- Improved performance of `to_numeric` if input is numeric dtype ([GH12777](https://github.com/pandas-dev/pandas/issues/12777))  \n",
    "- Improved performance of sparse arithmetic with `IntIndex` ([GH13036](https://github.com/pandas-dev/pandas/issues/13036))  \n",
    "\n",
    "\n",
    "\n",
    "<a id='whatsnew-0181-bug-fixes'></a>"
   ]
  },
  {
   "cell_type": "markdown",
   "metadata": {},
   "source": [
    "## Bug fixes\n",
    "\n",
    "- `usecols` parameter in `pd.read_csv` is now respected even when the lines of a CSV file are not even ([GH12203](https://github.com/pandas-dev/pandas/issues/12203))  \n",
    "- Bug in `groupby.transform(..)` when `axis=1` is specified with a non-monotonic ordered index ([GH12713](https://github.com/pandas-dev/pandas/issues/12713))  \n",
    "- Bug in `Period` and `PeriodIndex` creation raises `KeyError` if `freq=\"Minute\"` is specified. Note that “Minute” freq is deprecated in v0.17.0, and recommended to use `freq=\"T\"` instead ([GH11854](https://github.com/pandas-dev/pandas/issues/11854))  \n",
    "- Bug in `.resample(...).count()` with a `PeriodIndex` always raising a `TypeError` ([GH12774](https://github.com/pandas-dev/pandas/issues/12774))  \n",
    "- Bug in `.resample(...)` with a `PeriodIndex` casting to a `DatetimeIndex` when empty ([GH12868](https://github.com/pandas-dev/pandas/issues/12868))  \n",
    "- Bug in `.resample(...)` with a `PeriodIndex` when resampling to an existing frequency ([GH12770](https://github.com/pandas-dev/pandas/issues/12770))  \n",
    "- Bug in printing data which contains `Period` with different `freq` raises `ValueError` ([GH12615](https://github.com/pandas-dev/pandas/issues/12615))  \n",
    "- Bug in `Series` construction with `Categorical` and `dtype='category'` is specified ([GH12574](https://github.com/pandas-dev/pandas/issues/12574))  \n",
    "- Bugs in concatenation with a coercible dtype was too aggressive, resulting in different dtypes in output formatting when an object was longer than `display.max_rows` ([GH12411](https://github.com/pandas-dev/pandas/issues/12411), [GH12045](https://github.com/pandas-dev/pandas/issues/12045), [GH11594](https://github.com/pandas-dev/pandas/issues/11594), [GH10571](https://github.com/pandas-dev/pandas/issues/10571), [GH12211](https://github.com/pandas-dev/pandas/issues/12211))  \n",
    "- Bug in `float_format` option with option not being validated as a callable. ([GH12706](https://github.com/pandas-dev/pandas/issues/12706))  \n",
    "- Bug in `GroupBy.filter` when `dropna=False` and no groups fulfilled the criteria ([GH12768](https://github.com/pandas-dev/pandas/issues/12768))  \n",
    "- Bug in `__name__` of `.cum*` functions ([GH12021](https://github.com/pandas-dev/pandas/issues/12021))  \n",
    "- Bug in `.astype()` of a `Float64Inde/Int64Index` to an `Int64Index` ([GH12881](https://github.com/pandas-dev/pandas/issues/12881))  \n",
    "- Bug in round tripping an integer based index in `.to_json()/.read_json()` when `orient='index'` (the default) ([GH12866](https://github.com/pandas-dev/pandas/issues/12866))  \n",
    "- Bug in plotting `Categorical` dtypes cause error when attempting stacked bar plot ([GH13019](https://github.com/pandas-dev/pandas/issues/13019))  \n",
    "- Compat with >= `numpy` 1.11 for `NaT` comparisons ([GH12969](https://github.com/pandas-dev/pandas/issues/12969))  \n",
    "- Bug in `.drop()` with a non-unique `MultiIndex`. ([GH12701](https://github.com/pandas-dev/pandas/issues/12701))  \n",
    "- Bug in `.concat` of datetime tz-aware and naive DataFrames ([GH12467](https://github.com/pandas-dev/pandas/issues/12467))  \n",
    "- Bug in correctly raising a `ValueError` in `.resample(..).fillna(..)` when passing a non-string ([GH12952](https://github.com/pandas-dev/pandas/issues/12952))  \n",
    "- Bug fixes in various encoding and header processing issues in `pd.read_sas()` ([GH12659](https://github.com/pandas-dev/pandas/issues/12659), [GH12654](https://github.com/pandas-dev/pandas/issues/12654), [GH12647](https://github.com/pandas-dev/pandas/issues/12647), [GH12809](https://github.com/pandas-dev/pandas/issues/12809))  \n",
    "- Bug in `pd.crosstab()` where would silently ignore `aggfunc` if `values=None` ([GH12569](https://github.com/pandas-dev/pandas/issues/12569)).  \n",
    "- Potential segfault in `DataFrame.to_json` when serialising `datetime.time` ([GH11473](https://github.com/pandas-dev/pandas/issues/11473)).  \n",
    "- Potential segfault in `DataFrame.to_json` when attempting to serialise 0d array ([GH11299](https://github.com/pandas-dev/pandas/issues/11299)).  \n",
    "- Segfault in `to_json` when attempting to serialise a `DataFrame` or `Series` with non-ndarray values; now supports serialization of `category`, `sparse`, and `datetime64[ns, tz]` dtypes ([GH10778](https://github.com/pandas-dev/pandas/issues/10778)).  \n",
    "- Bug in `DataFrame.to_json` with unsupported dtype not passed to default handler ([GH12554](https://github.com/pandas-dev/pandas/issues/12554)).  \n",
    "- Bug in `.align` not returning the sub-class ([GH12983](https://github.com/pandas-dev/pandas/issues/12983))  \n",
    "- Bug in aligning a `Series` with a `DataFrame` ([GH13037](https://github.com/pandas-dev/pandas/issues/13037))  \n",
    "- Bug in `ABCPanel` in which `Panel4D` was not being considered as a valid instance of this generic type ([GH12810](https://github.com/pandas-dev/pandas/issues/12810))  \n",
    "- Bug in consistency of `.name` on `.groupby(..).apply(..)` cases ([GH12363](https://github.com/pandas-dev/pandas/issues/12363))  \n",
    "- Bug in `Timestamp.__repr__` that caused `pprint` to fail in nested structures ([GH12622](https://github.com/pandas-dev/pandas/issues/12622))  \n",
    "- Bug in `Timedelta.min` and `Timedelta.max`, the properties now report the true minimum/maximum `timedeltas` as recognized by pandas. See the [documentation](user_guide/timedeltas.ipynb#timedeltas-limitations). ([GH12727](https://github.com/pandas-dev/pandas/issues/12727))  \n",
    "- Bug in `.quantile()` with interpolation may coerce to `float` unexpectedly ([GH12772](https://github.com/pandas-dev/pandas/issues/12772))  \n",
    "- Bug in `.quantile()` with empty `Series` may return scalar rather than empty `Series` ([GH12772](https://github.com/pandas-dev/pandas/issues/12772))  \n",
    "- Bug in `.loc` with out-of-bounds in a large indexer would raise `IndexError` rather than `KeyError` ([GH12527](https://github.com/pandas-dev/pandas/issues/12527))  \n",
    "- Bug in resampling when using a `TimedeltaIndex` and `.asfreq()`, would previously not include the final fencepost ([GH12926](https://github.com/pandas-dev/pandas/issues/12926))  \n",
    "- Bug in equality testing with a `Categorical` in a `DataFrame` ([GH12564](https://github.com/pandas-dev/pandas/issues/12564))  \n",
    "- Bug in `GroupBy.first()`, `.last()` returns incorrect row when `TimeGrouper` is used ([GH7453](https://github.com/pandas-dev/pandas/issues/7453))  \n",
    "- Bug in `pd.read_csv()` with the `c` engine when specifying `skiprows` with newlines in quoted items ([GH10911](https://github.com/pandas-dev/pandas/issues/10911), [GH12775](https://github.com/pandas-dev/pandas/issues/12775))  \n",
    "- Bug in `DataFrame` timezone lost when assigning tz-aware datetime `Series` with alignment ([GH12981](https://github.com/pandas-dev/pandas/issues/12981))  \n",
    "- Bug in `.value_counts()` when `normalize=True` and `dropna=True` where nulls still contributed to the normalized count ([GH12558](https://github.com/pandas-dev/pandas/issues/12558))  \n",
    "- Bug in `Series.value_counts()` loses name if its dtype is `category` ([GH12835](https://github.com/pandas-dev/pandas/issues/12835))  \n",
    "- Bug in `Series.value_counts()` loses timezone info ([GH12835](https://github.com/pandas-dev/pandas/issues/12835))  \n",
    "- Bug in `Series.value_counts(normalize=True)` with `Categorical` raises `UnboundLocalError` ([GH12835](https://github.com/pandas-dev/pandas/issues/12835))  \n",
    "- Bug in `Panel.fillna()` ignoring `inplace=True` ([GH12633](https://github.com/pandas-dev/pandas/issues/12633))  \n",
    "- Bug in `pd.read_csv()` when specifying `names`, `usecols`, and `parse_dates` simultaneously with the `c` engine ([GH9755](https://github.com/pandas-dev/pandas/issues/9755))  \n",
    "- Bug in `pd.read_csv()` when specifying `delim_whitespace=True` and `lineterminator` simultaneously with the `c` engine ([GH12912](https://github.com/pandas-dev/pandas/issues/12912))  \n",
    "- Bug in `Series.rename`, `DataFrame.rename` and `DataFrame.rename_axis` not treating `Series` as mappings to relabel ([GH12623](https://github.com/pandas-dev/pandas/issues/12623)).  \n",
    "- Clean in `.rolling.min` and `.rolling.max` to enhance dtype handling ([GH12373](https://github.com/pandas-dev/pandas/issues/12373))  \n",
    "- Bug in `groupby` where complex types are coerced to float ([GH12902](https://github.com/pandas-dev/pandas/issues/12902))  \n",
    "- Bug in `Series.map` raises `TypeError` if its dtype is `category` or tz-aware `datetime` ([GH12473](https://github.com/pandas-dev/pandas/issues/12473))  \n",
    "- Bugs on 32bit platforms for some test comparisons ([GH12972](https://github.com/pandas-dev/pandas/issues/12972))  \n",
    "- Bug in index coercion when falling back from `RangeIndex` construction ([GH12893](https://github.com/pandas-dev/pandas/issues/12893))  \n",
    "- Better error message in window functions when invalid argument (e.g. a float window) is passed ([GH12669](https://github.com/pandas-dev/pandas/issues/12669))  \n",
    "- Bug in slicing subclassed `DataFrame` defined to return subclassed `Series` may return normal `Series` ([GH11559](https://github.com/pandas-dev/pandas/issues/11559))  \n",
    "- Bug in `.str` accessor methods may raise `ValueError` if input has `name` and the result is `DataFrame` or `MultiIndex` ([GH12617](https://github.com/pandas-dev/pandas/issues/12617))  \n",
    "- Bug in `DataFrame.last_valid_index()` and `DataFrame.first_valid_index()` on empty frames ([GH12800](https://github.com/pandas-dev/pandas/issues/12800))  \n",
    "- Bug in `CategoricalIndex.get_loc` returns different result from regular `Index` ([GH12531](https://github.com/pandas-dev/pandas/issues/12531))  \n",
    "- Bug in `PeriodIndex.resample` where name not propagated ([GH12769](https://github.com/pandas-dev/pandas/issues/12769))  \n",
    "- Bug in `date_range` `closed` keyword and timezones ([GH12684](https://github.com/pandas-dev/pandas/issues/12684)).  \n",
    "- Bug in `pd.concat` raises `AttributeError` when input data contains tz-aware datetime and timedelta ([GH12620](https://github.com/pandas-dev/pandas/issues/12620))  \n",
    "- Bug in `pd.concat` did not handle empty `Series` properly ([GH11082](https://github.com/pandas-dev/pandas/issues/11082))  \n",
    "- Bug in `.plot.bar` alignment when `width` is specified with `int` ([GH12979](https://github.com/pandas-dev/pandas/issues/12979))  \n",
    "- Bug in `fill_value` is ignored if the argument to a binary operator is a constant ([GH12723](https://github.com/pandas-dev/pandas/issues/12723))  \n",
    "- Bug in `pd.read_html()` when using bs4 flavor and parsing table with a header and only one column ([GH9178](https://github.com/pandas-dev/pandas/issues/9178))  \n",
    "- Bug in `.pivot_table` when `margins=True` and `dropna=True` where nulls still contributed to margin count ([GH12577](https://github.com/pandas-dev/pandas/issues/12577))  \n",
    "- Bug in `.pivot_table` when `dropna=False` where table index/column names disappear ([GH12133](https://github.com/pandas-dev/pandas/issues/12133))  \n",
    "- Bug in `pd.crosstab()` when `margins=True` and `dropna=False` which raised ([GH12642](https://github.com/pandas-dev/pandas/issues/12642))  \n",
    "- Bug in `Series.name` when `name` attribute can be a hashable type ([GH12610](https://github.com/pandas-dev/pandas/issues/12610))  \n",
    "- Bug in `.describe()` resets categorical columns information ([GH11558](https://github.com/pandas-dev/pandas/issues/11558))  \n",
    "- Bug where `loffset` argument was not applied when calling `resample().count()` on a timeseries ([GH12725](https://github.com/pandas-dev/pandas/issues/12725))  \n",
    "- `pd.read_excel()` now accepts column names associated with keyword argument `names` ([GH12870](https://github.com/pandas-dev/pandas/issues/12870))  \n",
    "- Bug in `pd.to_numeric()` with `Index` returns `np.ndarray`, rather than `Index` ([GH12777](https://github.com/pandas-dev/pandas/issues/12777))  \n",
    "- Bug in `pd.to_numeric()` with datetime-like may raise `TypeError` ([GH12777](https://github.com/pandas-dev/pandas/issues/12777))  \n",
    "- Bug in `pd.to_numeric()` with scalar raises `ValueError` ([GH12777](https://github.com/pandas-dev/pandas/issues/12777))  \n",
    "\n",
    "\n",
    "\n",
    "<a id='whatsnew-0-18-1-contributors'></a>"
   ]
  },
  {
   "cell_type": "markdown",
   "metadata": {},
   "source": [
    "## Contributors\n",
    "\n",
    "A total of 60 people contributed patches to this release.  People with a\n",
    "“+” by their names contributed a patch for the first time.\n",
    "\n",
    "\n",
    "- Andrew Fiore-Gartland +  \n",
    "- Bastiaan +  \n",
    "- Benoît Vinot +  \n",
    "- Brandon Rhodes +  \n",
    "- DaCoEx +  \n",
    "- Drew Fustin +  \n",
    "- Ernesto Freitas +  \n",
    "- Filip Ter +  \n",
    "- Gregory Livschitz +  \n",
    "- Gábor Lipták  \n",
    "- Hassan Kibirige +  \n",
    "- Iblis Lin  \n",
    "- Israel Saeta Pérez +  \n",
    "- Jason Wolosonovich +  \n",
    "- Jeff Reback  \n",
    "- Joe Jevnik  \n",
    "- Joris Van den Bossche  \n",
    "- Joshua Storck +  \n",
    "- Ka Wo Chen  \n",
    "- Kerby Shedden  \n",
    "- Kieran O’Mahony  \n",
    "- Leif Walsh +  \n",
    "- Mahmoud Lababidi +  \n",
    "- Maoyuan Liu +  \n",
    "- Mark Roth +  \n",
    "- Matt Wittmann  \n",
    "- MaxU +  \n",
    "- Maximilian Roos  \n",
    "- Michael Droettboom +  \n",
    "- Nick Eubank  \n",
    "- Nicolas Bonnotte  \n",
    "- OXPHOS +  \n",
    "- Pauli Virtanen +  \n",
    "- Peter Waller +  \n",
    "- Pietro Battiston  \n",
    "- Prabhjot Singh +  \n",
    "- Robin Wilson  \n",
    "- Roger Thomas +  \n",
    "- Sebastian Bank  \n",
    "- Stephen Hoover  \n",
    "- Tim Hopper +  \n",
    "- Tom Augspurger  \n",
    "- WANG Aiyong  \n",
    "- Wes Turner  \n",
    "- Winand +  \n",
    "- Xbar +  \n",
    "- Yan Facai +  \n",
    "- adneu +  \n",
    "- ajenkins-cargometrics +  \n",
    "- behzad nouri  \n",
    "- chinskiy +  \n",
    "- gfyoung  \n",
    "- jeps-journal +  \n",
    "- jonaslb +  \n",
    "- kotrfa +  \n",
    "- nileracecrew +  \n",
    "- onesandzeroes  \n",
    "- rs2 +  \n",
    "- sinhrks  \n",
    "- tsdlovell +  "
   ]
  }
 ],
 "metadata": {
  "filename": "v0.18.1.rst",
  "kernelspec": {
   "display_name": "Python",
   "language": "python3",
   "name": "python3"
  },
  "title": "v0.18.1 (May 3, 2016)"
 },
 "nbformat": 4,
 "nbformat_minor": 2
}