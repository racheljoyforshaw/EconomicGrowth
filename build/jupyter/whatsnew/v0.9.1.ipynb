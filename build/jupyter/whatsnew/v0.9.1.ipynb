{
 "cells": [
  {
   "cell_type": "markdown",
   "metadata": {},
   "source": [
    "\n",
    "<a id='whatsnew-0901'></a>"
   ]
  },
  {
   "cell_type": "markdown",
   "metadata": {},
   "source": [
    "# v0.9.1 (November 14, 2012)\n",
    "\n",
    "{{ header }}\n",
    "\n",
    "This is a bug fix release from 0.9.0 and includes several new features and\n",
    "enhancements along with a large number of bug fixes. The new features include\n",
    "by-column sort order for DataFrame and Series, improved NA handling for the rank\n",
    "method, masking functions for DataFrame, and intraday time-series filtering for\n",
    "DataFrame."
   ]
  },
  {
   "cell_type": "markdown",
   "metadata": {},
   "source": [
    "## New features\n",
    "\n",
    "> - Series.sort, DataFrame.sort, and DataFrame.sort_index can now be\n",
    "specified in a per-column manner to support multiple sort orders ([GH928](https://github.com/pandas-dev/pandas/issues/928))  "
   ]
  },
  {
   "cell_type": "markdown",
   "metadata": {
    "hide-output": false
   },
   "source": [
    "```ipython\n",
    "In [2]: df = pd.DataFrame(np.random.randint(0, 2, (6, 3)),\n",
    "   ...:                   columns=['A', 'B', 'C'])\n",
    "\n",
    "In [3]: df.sort(['A', 'B'], ascending=[1, 0])\n",
    "\n",
    "Out[3]:\n",
    "   A  B  C\n",
    "3  0  1  1\n",
    "4  0  1  1\n",
    "2  0  0  1\n",
    "0  1  0  0\n",
    "1  1  0  0\n",
    "5  1  0  0\n",
    "```\n"
   ]
  },
  {
   "cell_type": "markdown",
   "metadata": {},
   "source": [
    "- DataFrame.rank now supports additional argument values for the\n",
    "  na_option parameter so missing values can be assigned either the largest\n",
    "  or the smallest rank ([GH1508](https://github.com/pandas-dev/pandas/issues/1508), [GH2159](https://github.com/pandas-dev/pandas/issues/2159))  \n",
    "- DataFrame has new where and mask methods to select values according to a\n",
    "  given boolean mask ([GH2109](https://github.com/pandas-dev/pandas/issues/2109), [GH2151](https://github.com/pandas-dev/pandas/issues/2151))  \n",
    "  \n",
    "  DataFrame currently supports slicing via a boolean vector the same length as the DataFrame (inside the []).\n",
    "  The returned DataFrame has the same number of columns as the original, but is sliced on its index.  \n",
    "  If a DataFrame is sliced with a DataFrame based boolean condition (with the same size as the original DataFrame),\n",
    "  then a DataFrame the same size (index and columns) as the original is returned, with\n",
    "  elements that do not meet the boolean condition as NaN. This is accomplished via\n",
    "  the new method DataFrame.where. In addition, where takes an optional other argument for replacement.  \n",
    "  Furthermore, where now aligns the input boolean condition (ndarray or DataFrame), such that partial selection\n",
    "  with setting is possible. This is analogous to partial setting via .ix (but on the contents rather than the axis labels)  \n",
    "  DataFrame.mask is the inverse boolean operation of where.  \n",
    "  \n",
    "- Enable referencing of Excel columns by their column names ([GH1936](https://github.com/pandas-dev/pandas/issues/1936))  \n",
    "- Added option to disable pandas-style tick locators and formatters\n",
    "  using series.plot(x_compat=True) or pandas.plot_params[‘x_compat’] =\n",
    "  True ([GH2205](https://github.com/pandas-dev/pandas/issues/2205))  \n",
    "- Existing TimeSeries methods at_time and between_time were added to\n",
    "  DataFrame ([GH2149](https://github.com/pandas-dev/pandas/issues/2149))  \n",
    "- DataFrame.dot can now accept ndarrays ([GH2042](https://github.com/pandas-dev/pandas/issues/2042))  \n",
    "- DataFrame.drop now supports non-unique indexes ([GH2101](https://github.com/pandas-dev/pandas/issues/2101))  \n",
    "- Panel.shift now supports negative periods ([GH2164](https://github.com/pandas-dev/pandas/issues/2164))  \n",
    "- DataFrame now support unary ~ operator ([GH2110](https://github.com/pandas-dev/pandas/issues/2110))  "
   ]
  },
  {
   "cell_type": "markdown",
   "metadata": {},
   "source": [
    "## API changes\n",
    "\n",
    "> - Upsampling data with a PeriodIndex will result in a higher frequency\n",
    "TimeSeries that spans the original time window  "
   ]
  },
  {
   "cell_type": "markdown",
   "metadata": {
    "hide-output": false
   },
   "source": [
    "```ipython\n",
    "In [1]: prng = pd.period_range('2012Q1', periods=2, freq='Q')\n",
    "\n",
    "In [2]: s = pd.Series(np.random.randn(len(prng)), prng)\n",
    "\n",
    "In [4]: s.resample('M')\n",
    "Out[4]:\n",
    "2012-01   -1.471992\n",
    "2012-02         NaN\n",
    "2012-03         NaN\n",
    "2012-04   -0.493593\n",
    "2012-05         NaN\n",
    "2012-06         NaN\n",
    "Freq: M, dtype: float64\n",
    "```\n"
   ]
  },
  {
   "cell_type": "markdown",
   "metadata": {},
   "source": [
    "- Period.end_time now returns the last nanosecond in the time interval\n",
    "  ([GH2124](https://github.com/pandas-dev/pandas/issues/2124), [GH2125](https://github.com/pandas-dev/pandas/issues/2125), [GH1764](https://github.com/pandas-dev/pandas/issues/1764))  \n",
    "- File parsers no longer coerce to float or bool for columns that have custom\n",
    "  converters specified ([GH2184](https://github.com/pandas-dev/pandas/issues/2184))  \n",
    "\n",
    "\n",
    "\n",
    "See the [full release notes](index.ipynb#release) or issue tracker\n",
    "on GitHub for a complete list.\n",
    "\n",
    "\n",
    "<a id='whatsnew-0-9-1-contributors'></a>"
   ]
  },
  {
   "cell_type": "markdown",
   "metadata": {},
   "source": [
    "## Contributors\n",
    "\n",
    "A total of 11 people contributed patches to this release.  People with a\n",
    "“+” by their names contributed a patch for the first time.\n",
    "\n",
    "\n",
    "- Brenda Moon +  \n",
    "- Chang She  \n",
    "- Jeff Reback +  \n",
    "- Justin C Johnson +  \n",
    "- K.-Michael Aye  \n",
    "- Martin Blais  \n",
    "- Tobias Brandt +  \n",
    "- Wes McKinney  \n",
    "- Wouter Overmeire  \n",
    "- timmie  \n",
    "- y-p  "
   ]
  }
 ],
 "metadata": {
  "filename": "v0.9.1.rst",
  "kernelspec": {
   "display_name": "Python",
   "language": "python3",
   "name": "python3"
  },
  "title": "v0.9.1 (November 14, 2012)"
 },
 "nbformat": 4,
 "nbformat_minor": 2
}