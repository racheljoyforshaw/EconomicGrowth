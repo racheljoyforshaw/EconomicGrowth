{
 "cells": [
  {
   "cell_type": "markdown",
   "metadata": {},
   "source": [
    "\n",
    "<a id='whatsnew-0150'></a>"
   ]
  },
  {
   "cell_type": "markdown",
   "metadata": {},
   "source": [
    "# v0.15.0 (October 18, 2014)\n",
    "\n",
    "{{ header }}\n",
    "\n",
    "This is a major release from 0.14.1 and includes a small number of API changes, several new features,\n",
    "enhancements, and performance improvements along with a large number of bug fixes. We recommend that all\n",
    "users upgrade to this version.\n",
    "\n",
    "pandas >= 0.15.0 will no longer support compatibility with NumPy versions <\n",
    "1.7.0. If you want to use the latest versions of pandas, please upgrade to\n",
    "NumPy >= 1.7.0 ([GH7711](https://github.com/pandas-dev/pandas/issues/7711))\n",
    "\n",
    "- Highlights include:  \n",
    "  - The `Categorical` type was integrated as a first-class pandas type, see [here](#whatsnew-0150-cat)  \n",
    "  - New scalar type `Timedelta`, and a new index type `TimedeltaIndex`, see [here](#whatsnew-0150-timedeltaindex)  \n",
    "  - New datetimelike properties accessor `.dt` for Series, see [Datetimelike Properties](#whatsnew-0150-dt)  \n",
    "  - New DataFrame default display for `df.info()` to include memory usage, see [Memory Usage](#whatsnew-0150-memory)  \n",
    "  - `read_csv` will now by default ignore blank lines when parsing, see [here](#whatsnew-0150-blanklines)  \n",
    "  - API change in using Indexes in set operations, see [here](#whatsnew-0150-index-set-ops)  \n",
    "  - Enhancements in the handling of timezones, see [here](#whatsnew-0150-tz)  \n",
    "  - A lot of improvements to the rolling and expanding moment functions, see [here](#whatsnew-0150-roll)  \n",
    "  - Internal refactoring of the `Index` class to no longer sub-class `ndarray`, see [Internal Refactoring](#whatsnew-0150-refactoring)  \n",
    "  - dropping support for `PyTables` less than version 3.0.0, and `numexpr` less than version 2.1 ([GH7990](https://github.com/pandas-dev/pandas/issues/7990))  \n",
    "  - Split indexing documentation into [Indexing and Selecting Data](user_guide/indexing.ipynb#indexing) and [MultiIndex / Advanced Indexing](user_guide/advanced.ipynb#advanced)  \n",
    "  - Split out string methods documentation into [Working with Text Data](user_guide/text.ipynb#text)  \n",
    "- Check the [API Changes](#whatsnew-0150-api) and [deprecations](#whatsnew-0150-deprecations) before updating  \n",
    "- [Other Enhancements](#whatsnew-0150-enhancements)  \n",
    "- [Performance Improvements](#whatsnew-0150-performance)  \n",
    "- [Bug Fixes](#whatsnew-0150-bug-fixes)  \n",
    "\n",
    "\n",
    "In 0.15.0 `Index` has internally been refactored to no longer sub-class `ndarray`\n",
    "but instead subclass `PandasObject`, similarly to the rest of the pandas objects. This change allows very easy sub-classing and creation of new index types. This should be\n",
    "a transparent change with only very limited API implications (See the [Internal Refactoring](#whatsnew-0150-refactoring))\n",
    "\n",
    "The refactoring in `Categorical` changed the two argument constructor from\n",
    "“codes/labels and levels” to “values and levels (now called ‘categories’)”. This can lead to subtle bugs. If you use\n",
    "`Categorical` directly, please audit your code before updating to this pandas\n",
    "version and change it to use the `from_codes()` constructor. See more on `Categorical` [here](#whatsnew-0150-cat)"
   ]
  },
  {
   "cell_type": "markdown",
   "metadata": {},
   "source": [
    "## New features\n",
    "\n",
    "\n",
    "<a id='whatsnew-0150-cat'></a>"
   ]
  },
  {
   "cell_type": "markdown",
   "metadata": {},
   "source": [
    "### Categoricals in Series/DataFrame\n",
    "\n",
    "`Categorical` can now be included in Series and DataFrames and gained new\n",
    "methods to manipulate. Thanks to Jan Schulz for much of this API/implementation. ([GH3943](https://github.com/pandas-dev/pandas/issues/3943), [GH5313](https://github.com/pandas-dev/pandas/issues/5313), [GH5314](https://github.com/pandas-dev/pandas/issues/5314),\n",
    "[GH7444](https://github.com/pandas-dev/pandas/issues/7444), [GH7839](https://github.com/pandas-dev/pandas/issues/7839), [GH7848](https://github.com/pandas-dev/pandas/issues/7848), [GH7864](https://github.com/pandas-dev/pandas/issues/7864), [GH7914](https://github.com/pandas-dev/pandas/issues/7914), [GH7768](https://github.com/pandas-dev/pandas/issues/7768), [GH8006](https://github.com/pandas-dev/pandas/issues/8006), [GH3678](https://github.com/pandas-dev/pandas/issues/3678),\n",
    "[GH8075](https://github.com/pandas-dev/pandas/issues/8075), [GH8076](https://github.com/pandas-dev/pandas/issues/8076), [GH8143](https://github.com/pandas-dev/pandas/issues/8143), [GH8453](https://github.com/pandas-dev/pandas/issues/8453), [GH8518](https://github.com/pandas-dev/pandas/issues/8518)).\n",
    "\n",
    "For full docs, see the [categorical introduction](user_guide/categorical.ipynb#categorical) and the\n",
    "API documentation.\n",
    "\n",
    "- `pandas.core.group_agg` and `pandas.core.factor_agg` were removed. As an alternative, construct\n",
    "  a dataframe and use `df.groupby(<group>).agg(<func>)`.  \n",
    "- Supplying “codes/labels and levels” to the `Categorical` constructor is not\n",
    "  supported anymore. Supplying two arguments to the constructor is now interpreted as\n",
    "  “values and levels (now called ‘categories’)”. Please change your code to use the `from_codes()`\n",
    "  constructor.  \n",
    "- The `Categorical.labels` attribute was renamed to `Categorical.codes` and is read\n",
    "  only. If you want to manipulate codes, please use one of the\n",
    "  API methods on Categoricals.  \n",
    "- The `Categorical.levels` attribute is renamed to `Categorical.categories`.  \n",
    "\n",
    "\n",
    "\n",
    "<a id='whatsnew-0150-timedeltaindex'></a>"
   ]
  },
  {
   "cell_type": "markdown",
   "metadata": {},
   "source": [
    "### TimedeltaIndex/Scalar\n",
    "\n",
    "We introduce a new scalar type `Timedelta`, which is a subclass of `datetime.timedelta`, and behaves in a similar manner,\n",
    "but allows compatibility with `np.timedelta64` types as well as a host of custom representation, parsing, and attributes.\n",
    "This type is very similar to how `Timestamp` works for `datetimes`. It is a nice-API box for the type. See the [docs](user_guide/timedeltas.ipynb#timedeltas-timedeltas).\n",
    "([GH3009](https://github.com/pandas-dev/pandas/issues/3009), [GH4533](https://github.com/pandas-dev/pandas/issues/4533), [GH8209](https://github.com/pandas-dev/pandas/issues/8209), [GH8187](https://github.com/pandas-dev/pandas/issues/8187), [GH8190](https://github.com/pandas-dev/pandas/issues/8190), [GH7869](https://github.com/pandas-dev/pandas/issues/7869), [GH7661](https://github.com/pandas-dev/pandas/issues/7661), [GH8345](https://github.com/pandas-dev/pandas/issues/8345), [GH8471](https://github.com/pandas-dev/pandas/issues/8471))\n",
    "\n",
    "`Timedelta` scalars (and `TimedeltaIndex`) component fields are *not the same* as the component fields on a `datetime.timedelta` object. For example, `.seconds` on a `datetime.timedelta` object returns the total number of seconds combined between `hours`, `minutes` and `seconds`. In contrast, the pandas `Timedelta` breaks out hours, minutes, microseconds and nanoseconds separately."
   ]
  },
  {
   "cell_type": "markdown",
   "metadata": {
    "hide-output": false
   },
   "source": [
    "```ipython\n",
    "# Timedelta accessor\n",
    "In [9]: tds = pd.Timedelta('31 days 5 min 3 sec')\n",
    "\n",
    "In [10]: tds.minutes\n",
    "Out[10]: 5L\n",
    "\n",
    "In [11]: tds.seconds\n",
    "Out[11]: 3L\n",
    "\n",
    "# datetime.timedelta accessor\n",
    "# this is 5 minutes * 60 + 3 seconds\n",
    "In [12]: tds.to_pytimedelta().seconds\n",
    "Out[12]: 303\n",
    "```\n"
   ]
  },
  {
   "cell_type": "markdown",
   "metadata": {},
   "source": [
    "**Note**: this is no longer true starting from v0.16.0, where full\n",
    "compatibility with `datetime.timedelta` is introduced. See the\n",
    "[0.16.0 whatsnew entry](v0.16.0#whatsnew-0160-api-breaking-timedelta)\n",
    "\n",
    "Prior to 0.15.0 `pd.to_timedelta` would return a `Series` for list-like/Series input, and a `np.timedelta64` for scalar input.\n",
    "It will now return a `TimedeltaIndex` for list-like input, `Series` for Series input, and `Timedelta` for scalar input.\n",
    "\n",
    "The arguments to `pd.to_timedelta` are now `(arg,unit='ns',box=True,coerce=False)`, previously were `(arg,box=True,unit='ns')` as these are more logical.\n",
    "\n",
    "Construct a scalar\n",
    "\n",
    "Access fields for a `Timedelta`\n",
    "\n",
    "Construct a `TimedeltaIndex`\n",
    "\n",
    "Constructing a `TimedeltaIndex` with a regular range\n",
    "\n",
    "You can now use a `TimedeltaIndex` as the index of a pandas object\n",
    "\n",
    "You can select with partial string selections\n",
    "\n",
    "Finally, the combination of `TimedeltaIndex` with `DatetimeIndex` allow certain combination operations that are `NaT` preserving:\n",
    "\n",
    "- iteration of a `Series` e.g. `list(Series(...))` of `timedelta64[ns]` would prior to v0.15.0 return `np.timedelta64` for each element. These will now be wrapped in `Timedelta`.  \n",
    "\n",
    "\n",
    "\n",
    "<a id='whatsnew-0150-memory'></a>"
   ]
  },
  {
   "cell_type": "markdown",
   "metadata": {},
   "source": [
    "### Memory usage\n",
    "\n",
    "Implemented methods to find memory usage of a DataFrame. See the [FAQ](user_guide/gotchas.ipynb#df-memory-usage) for more. ([GH6852](https://github.com/pandas-dev/pandas/issues/6852)).\n",
    "\n",
    "A new display option `display.memory_usage` (see options) sets the default behavior of the `memory_usage` argument in the `df.info()` method. By default `display.memory_usage` is `True`.\n",
    "\n",
    "Additionally `memory_usage()` is an available method for a dataframe object which returns the memory usage of each column.\n",
    "\n",
    "\n",
    "<a id='whatsnew-0150-dt'></a>"
   ]
  },
  {
   "cell_type": "markdown",
   "metadata": {},
   "source": [
    "### .dt accessor\n",
    "\n",
    "`Series` has gained an accessor to succinctly return datetime like properties for the *values* of the Series, if its a datetime/period like Series. ([GH7207](https://github.com/pandas-dev/pandas/issues/7207))\n",
    "This will return a Series, indexed like the existing Series. See the [docs](getting_started/basics.ipynb#basics-dt-accessors)\n",
    "\n",
    "This enables nice expressions like this:\n",
    "\n",
    "You can easily produce tz aware transformations:\n",
    "\n",
    "You can also chain these types of operations:\n",
    "\n",
    "The `.dt` accessor works for period and timedelta dtypes.\n",
    "\n",
    "\n",
    "<a id='whatsnew-0150-tz'></a>"
   ]
  },
  {
   "cell_type": "markdown",
   "metadata": {},
   "source": [
    "### Timezone handling improvements\n",
    "\n",
    "- `tz_localize(None)` for tz-aware `Timestamp` and `DatetimeIndex` now removes timezone holding local time,\n",
    "  previously this resulted in `Exception` or `TypeError` ([GH7812](https://github.com/pandas-dev/pandas/issues/7812))  \n",
    "- `tz_localize` now accepts the `ambiguous` keyword which allows for passing an array of bools\n",
    "  indicating whether the date belongs in DST or not, ‘NaT’ for setting transition times to NaT,\n",
    "  ‘infer’ for inferring DST/non-DST, and ‘raise’ (default) for an `AmbiguousTimeError` to be raised. See [the docs](user_guide/timeseries.ipynb#timeseries-timezone-ambiguous) for more details ([GH7943](https://github.com/pandas-dev/pandas/issues/7943))  \n",
    "- `DataFrame.tz_localize` and `DataFrame.tz_convert` now accepts an optional `level` argument\n",
    "  for localizing a specific level of a MultiIndex ([GH7846](https://github.com/pandas-dev/pandas/issues/7846))  \n",
    "- `Timestamp.tz_localize` and `Timestamp.tz_convert` now raise `TypeError` in error cases, rather than `Exception` ([GH8025](https://github.com/pandas-dev/pandas/issues/8025))  \n",
    "- a timeseries/index localized to UTC when inserted into a Series/DataFrame will preserve the UTC timezone (rather than being a naive `datetime64[ns]`) as `object` dtype ([GH8411](https://github.com/pandas-dev/pandas/issues/8411))  \n",
    "- `Timestamp.__repr__` displays `dateutil.tz.tzoffset` info ([GH7907](https://github.com/pandas-dev/pandas/issues/7907))  \n",
    "\n",
    "\n",
    "\n",
    "<a id='whatsnew-0150-roll'></a>"
   ]
  },
  {
   "cell_type": "markdown",
   "metadata": {},
   "source": [
    "### Rolling/expanding moments improvements\n",
    "\n",
    "- `rolling_min()`, `rolling_max()`, `rolling_cov()`, and `rolling_corr()`\n",
    "now return objects with all `NaN` when `len(arg) < min_periods <= window` rather\n",
    "than raising. (This makes all rolling functions consistent in this behavior). ([GH7766](https://github.com/pandas-dev/pandas/issues/7766))  \n",
    "Prior to 0.15.0  "
   ]
  },
  {
   "cell_type": "markdown",
   "metadata": {
    "hide-output": false
   },
   "source": [
    "```ipython\n",
    "In [15]: pd.rolling_min(s, window=10, min_periods=5)\n",
    "ValueError: min_periods (5) must be <= window (4)\n",
    "```\n"
   ]
  },
  {
   "cell_type": "markdown",
   "metadata": {},
   "source": [
    "New behavior  "
   ]
  },
  {
   "cell_type": "markdown",
   "metadata": {
    "hide-output": false
   },
   "source": [
    "```ipython\n",
    "In [4]: pd.rolling_min(s, window=10, min_periods=5)\n",
    "Out[4]:\n",
    "0   NaN\n",
    "1   NaN\n",
    "2   NaN\n",
    "3   NaN\n",
    "dtype: float64\n",
    "```\n"
   ]
  },
  {
   "cell_type": "markdown",
   "metadata": {},
   "source": [
    "- `rolling_max()`, `rolling_min()`, `rolling_sum()`, `rolling_mean()`, `rolling_median()`,\n",
    "`rolling_std()`, `rolling_var()`, `rolling_skew()`, `rolling_kurt()`, `rolling_quantile()`,\n",
    "`rolling_cov()`, `rolling_corr()`, `rolling_corr_pairwise()`,\n",
    "`rolling_window()`, and `rolling_apply()` with `center=True` previously would return a result of the same\n",
    "structure as the input `arg` with `NaN` in the final `(window-1)/2` entries.  \n",
    "Now the final `(window-1)/2` entries of the result are calculated as if the input `arg` were followed\n",
    "by `(window-1)/2` `NaN` values (or with shrinking windows, in the case of `rolling_apply()`).\n",
    "([GH7925](https://github.com/pandas-dev/pandas/issues/7925), [GH8269](https://github.com/pandas-dev/pandas/issues/8269))  \n",
    "Prior behavior (note final value is `NaN`):  "
   ]
  },
  {
   "cell_type": "markdown",
   "metadata": {
    "hide-output": false
   },
   "source": [
    "```ipython\n",
    "In [7]: pd.rolling_sum(Series(range(4)), window=3, min_periods=0, center=True)\n",
    "Out[7]:\n",
    "0     1\n",
    "1     3\n",
    "2     6\n",
    "3   NaN\n",
    "dtype: float64\n",
    "```\n"
   ]
  },
  {
   "cell_type": "markdown",
   "metadata": {},
   "source": [
    "New behavior (note final value is `5 = sum([2, 3, NaN])`):  "
   ]
  },
  {
   "cell_type": "markdown",
   "metadata": {
    "hide-output": false
   },
   "source": [
    "```ipython\n",
    "In [7]: pd.rolling_sum(pd.Series(range(4)), window=3,\n",
    "  ....:                min_periods=0, center=True)\n",
    "Out[7]:\n",
    "0    1\n",
    "1    3\n",
    "2    6\n",
    "3    5\n",
    "dtype: float64\n",
    "```\n"
   ]
  },
  {
   "cell_type": "markdown",
   "metadata": {},
   "source": [
    "- `rolling_window()` now normalizes the weights properly in rolling mean mode (mean=True) so that\n",
    "the calculated weighted means (e.g. ‘triang’, ‘gaussian’) are distributed about the same means as those\n",
    "calculated without weighting (i.e. ‘boxcar’). See [the note on normalization](user_guide/computation.ipynb#stats-moments-normalization) for further details. ([GH7618](https://github.com/pandas-dev/pandas/issues/7618))  \n",
    "Behavior prior to 0.15.0:  "
   ]
  },
  {
   "cell_type": "markdown",
   "metadata": {
    "hide-output": false
   },
   "source": [
    "```ipython\n",
    "In [39]: pd.rolling_window(s, window=3, win_type='triang', center=True)\n",
    "Out[39]:\n",
    "0         NaN\n",
    "1    6.583333\n",
    "2    6.883333\n",
    "3    6.683333\n",
    "4         NaN\n",
    "dtype: float64\n",
    "```\n"
   ]
  },
  {
   "cell_type": "markdown",
   "metadata": {},
   "source": [
    "New behavior  "
   ]
  },
  {
   "cell_type": "markdown",
   "metadata": {
    "hide-output": false
   },
   "source": [
    "```ipython\n",
    "In [10]: pd.rolling_window(s, window=3, win_type='triang', center=True)\n",
    "Out[10]:\n",
    "0       NaN\n",
    "1     9.875\n",
    "2    10.325\n",
    "3    10.025\n",
    "4       NaN\n",
    "dtype: float64\n",
    "```\n"
   ]
  },
  {
   "cell_type": "markdown",
   "metadata": {},
   "source": [
    "- Removed `center` argument from all `expanding_` functions (see list),\n",
    "  as the results produced when `center=True` did not make much sense. ([GH7925](https://github.com/pandas-dev/pandas/issues/7925))  \n",
    "- Added optional `ddof` argument to `expanding_cov()` and `rolling_cov()`.\n",
    "  The default value of `1` is backwards-compatible. ([GH8279](https://github.com/pandas-dev/pandas/issues/8279))  \n",
    "- Documented the `ddof` argument to `expanding_var()`, `expanding_std()`,\n",
    "  `rolling_var()`, and `rolling_std()`. These functions’ support of a\n",
    "  `ddof` argument (with a default value of `1`) was previously undocumented. ([GH8064](https://github.com/pandas-dev/pandas/issues/8064))  \n",
    "- `ewma()`, `ewmstd()`, `ewmvol()`, `ewmvar()`, `ewmcov()`, and `ewmcorr()`\n",
    "now interpret `min_periods` in the same manner that the `rolling_*()` and `expanding_*()` functions do:\n",
    "a given result entry will be `NaN` if the (expanding, in this case) window does not contain\n",
    "at least `min_periods` values. The previous behavior was to set to `NaN` the `min_periods` entries\n",
    "starting with the first non- `NaN` value. ([GH7977](https://github.com/pandas-dev/pandas/issues/7977))  \n",
    "Prior behavior (note values start at index `2`, which is `min_periods` after index `0`\n",
    "(the index of the first non-empty value)):  "
   ]
  },
  {
   "cell_type": "markdown",
   "metadata": {
    "hide-output": false
   },
   "source": [
    "```ipython\n",
    "In [51]: ewma(s, com=3., min_periods=2)\n",
    "Out[51]:\n",
    "0         NaN\n",
    "1         NaN\n",
    "2    1.000000\n",
    "3    1.000000\n",
    "4    1.571429\n",
    "5    2.189189\n",
    "dtype: float64\n",
    "```\n"
   ]
  },
  {
   "cell_type": "markdown",
   "metadata": {},
   "source": [
    "New behavior (note values start at index `4`, the location of the 2nd (since `min_periods=2`) non-empty value):  "
   ]
  },
  {
   "cell_type": "markdown",
   "metadata": {
    "hide-output": false
   },
   "source": [
    "```ipython\n",
    "In [2]: pd.ewma(s, com=3., min_periods=2)\n",
    "Out[2]:\n",
    "0         NaN\n",
    "1         NaN\n",
    "2         NaN\n",
    "3         NaN\n",
    "4    1.759644\n",
    "5    2.383784\n",
    "dtype: float64\n",
    "```\n"
   ]
  },
  {
   "cell_type": "markdown",
   "metadata": {},
   "source": [
    "- `ewmstd()`, `ewmvol()`, `ewmvar()`, `ewmcov()`, and `ewmcorr()`\n",
    "  now have an optional `adjust` argument, just like `ewma()` does,\n",
    "  affecting how the weights are calculated.\n",
    "  The default value of `adjust` is `True`, which is backwards-compatible.\n",
    "  See [Exponentially weighted moment functions](user_guide/computation.ipynb#stats-moments-exponentially-weighted) for details. ([GH7911](https://github.com/pandas-dev/pandas/issues/7911))  \n",
    "- `ewma()`, `ewmstd()`, `ewmvol()`, `ewmvar()`, `ewmcov()`, and `ewmcorr()`\n",
    "now have an optional `ignore_na` argument.\n",
    "When `ignore_na=False` (the default), missing values are taken into account in the weights calculation.\n",
    "When `ignore_na=True` (which reproduces the pre-0.15.0 behavior), missing values are ignored in the weights calculation.\n",
    "([GH7543](https://github.com/pandas-dev/pandas/issues/7543))  "
   ]
  },
  {
   "cell_type": "markdown",
   "metadata": {
    "hide-output": false
   },
   "source": [
    "```ipython\n",
    "In [7]: pd.ewma(pd.Series([None, 1., 8.]), com=2.)\n",
    "Out[7]:\n",
    "0    NaN\n",
    "1    1.0\n",
    "2    5.2\n",
    "dtype: float64\n",
    "\n",
    "In [8]: pd.ewma(pd.Series([1., None, 8.]), com=2.,\n",
    "  ....:         ignore_na=True)  # pre-0.15.0 behavior\n",
    "Out[8]:\n",
    "0    1.0\n",
    "1    1.0\n",
    "2    5.2\n",
    "dtype: float64\n",
    "\n",
    "In [9]: pd.ewma(pd.Series([1., None, 8.]), com=2.,\n",
    "  ....:         ignore_na=False)  # new default\n",
    "Out[9]:\n",
    "0    1.000000\n",
    "1    1.000000\n",
    "2    5.846154\n",
    "dtype: float64\n",
    "```\n"
   ]
  },
  {
   "cell_type": "markdown",
   "metadata": {},
   "source": [
    "By default (`ignore_na=False`) the `ewm*()` functions’ weights calculation\n",
    "in the presence of missing values is different than in pre-0.15.0 versions.\n",
    "To reproduce the pre-0.15.0 calculation of weights in the presence of missing values\n",
    "one must specify explicitly `ignore_na=True`.  \n",
    "- Bug in `expanding_cov()`, `expanding_corr()`, `rolling_cov()`, `rolling_cor()`, `ewmcov()`, and `ewmcorr()`\n",
    "  returning results with columns sorted by name and producing an error for non-unique columns;\n",
    "  now handles non-unique columns and returns columns in original order\n",
    "  (except for the case of two DataFrames with `pairwise=False`, where behavior is unchanged) ([GH7542](https://github.com/pandas-dev/pandas/issues/7542))  \n",
    "- Bug in `rolling_count()` and `expanding_*()` functions unnecessarily producing error message for zero-length data ([GH8056](https://github.com/pandas-dev/pandas/issues/8056))  \n",
    "- Bug in `rolling_apply()` and `expanding_apply()` interpreting `min_periods=0` as `min_periods=1` ([GH8080](https://github.com/pandas-dev/pandas/issues/8080))  \n",
    "- Bug in `expanding_std()` and `expanding_var()` for a single value producing a confusing error message ([GH7900](https://github.com/pandas-dev/pandas/issues/7900))  \n",
    "- Bug in `rolling_std()` and `rolling_var()` for a single value producing `0` rather than `NaN` ([GH7900](https://github.com/pandas-dev/pandas/issues/7900))  \n",
    "- Bug in `ewmstd()`, `ewmvol()`, `ewmvar()`, and `ewmcov()`\n",
    "calculation of de-biasing factors when `bias=False` (the default).\n",
    "Previously an incorrect constant factor was used, based on `adjust=True`, `ignore_na=True`,\n",
    "and an infinite number of observations.\n",
    "Now a different factor is used for each entry, based on the actual weights\n",
    "(analogous to the usual `N/(N-1)` factor).\n",
    "In particular, for a single point a value of `NaN` is returned when `bias=False`,\n",
    "whereas previously a value of (approximately) `0` was returned.  \n",
    "For example, consider the following pre-0.15.0 results for `ewmvar(..., bias=False)`,\n",
    "and the corresponding debiasing factors:  "
   ]
  },
  {
   "cell_type": "markdown",
   "metadata": {
    "hide-output": false
   },
   "source": [
    "```ipython\n",
    "In [89]: ewmvar(s, com=2., bias=False)\n",
    "Out[89]:\n",
    "0   -2.775558e-16\n",
    "1    3.000000e-01\n",
    "2    9.556787e-01\n",
    "3    3.585799e+00\n",
    "dtype: float64\n",
    "\n",
    "In [90]: ewmvar(s, com=2., bias=False) / ewmvar(s, com=2., bias=True)\n",
    "Out[90]:\n",
    "0    1.25\n",
    "1    1.25\n",
    "2    1.25\n",
    "3    1.25\n",
    "dtype: float64\n",
    "```\n"
   ]
  },
  {
   "cell_type": "markdown",
   "metadata": {},
   "source": [
    "Note that entry `0` is approximately 0, and the debiasing factors are a constant 1.25.\n",
    "By comparison, the following 0.15.0 results have a `NaN` for entry `0`,\n",
    "and the debiasing factors are decreasing (towards 1.25):  "
   ]
  },
  {
   "cell_type": "markdown",
   "metadata": {
    "hide-output": false
   },
   "source": [
    "```ipython\n",
    "In [14]: pd.ewmvar(s, com=2., bias=False)\n",
    "Out[14]:\n",
    "0         NaN\n",
    "1    0.500000\n",
    "2    1.210526\n",
    "3    4.089069\n",
    "dtype: float64\n",
    "\n",
    "In [15]: pd.ewmvar(s, com=2., bias=False) / pd.ewmvar(s, com=2., bias=True)\n",
    "Out[15]:\n",
    "0         NaN\n",
    "1    2.083333\n",
    "2    1.583333\n",
    "3    1.425439\n",
    "dtype: float64\n",
    "```\n"
   ]
  },
  {
   "cell_type": "markdown",
   "metadata": {},
   "source": [
    "See [Exponentially weighted moment functions](user_guide/computation.ipynb#stats-moments-exponentially-weighted) for details. ([GH7912](https://github.com/pandas-dev/pandas/issues/7912))  \n",
    "\n",
    "\n",
    "\n",
    "<a id='whatsnew-0150-sql'></a>"
   ]
  },
  {
   "cell_type": "markdown",
   "metadata": {},
   "source": [
    "### Improvements in the sql io module\n",
    "\n",
    "- Added support for a `chunksize` parameter to `to_sql` function. This allows DataFrame to be written in chunks and avoid packet-size overflow errors ([GH8062](https://github.com/pandas-dev/pandas/issues/8062)).  \n",
    "- Added support for a `chunksize` parameter to `read_sql` function. Specifying this argument will return an iterator through chunks of the query result ([GH2908](https://github.com/pandas-dev/pandas/issues/2908)).  \n",
    "- Added support for writing `datetime.date` and `datetime.time` object columns with `to_sql` ([GH6932](https://github.com/pandas-dev/pandas/issues/6932)).  \n",
    "- Added support for specifying a `schema` to read from/write to with `read_sql_table` and `to_sql` ([GH7441](https://github.com/pandas-dev/pandas/issues/7441), [GH7952](https://github.com/pandas-dev/pandas/issues/7952)).\n",
    "For example:  "
   ]
  },
  {
   "cell_type": "code",
   "execution_count": null,
   "metadata": {
    "hide-output": false
   },
   "outputs": [],
   "source": [
    "df.to_sql('table', engine, schema='other_schema')  # noqa F821\n",
    "pd.read_sql_table('table', engine, schema='other_schema')  # noqa F821"
   ]
  },
  {
   "cell_type": "markdown",
   "metadata": {},
   "source": [
    "- Added support for writing `NaN` values with `to_sql` ([GH2754](https://github.com/pandas-dev/pandas/issues/2754)).  \n",
    "- Added support for writing datetime64 columns with `to_sql` for all database flavors ([GH7103](https://github.com/pandas-dev/pandas/issues/7103)).  \n",
    "\n",
    "\n",
    "\n",
    "<a id='whatsnew-0150-api'></a>"
   ]
  },
  {
   "cell_type": "markdown",
   "metadata": {},
   "source": [
    "## Backwards incompatible API changes\n",
    "\n",
    "\n",
    "<a id='whatsnew-0150-api-breaking'></a>"
   ]
  },
  {
   "cell_type": "markdown",
   "metadata": {},
   "source": [
    "### Breaking changes\n",
    "\n",
    "API changes related to `Categorical` (see [here](#whatsnew-0150-cat)\n",
    "for more details):\n",
    "\n",
    "- The `Categorical` constructor with two arguments changed from\n",
    "“codes/labels and levels” to “values and levels (now called ‘categories’)”.\n",
    "This can lead to subtle bugs. If you use `Categorical` directly,\n",
    "please audit your code by changing it to use the `from_codes()`\n",
    "constructor.  \n",
    "An old function call like (prior to 0.15.0):  "
   ]
  },
  {
   "cell_type": "code",
   "execution_count": null,
   "metadata": {
    "hide-output": false
   },
   "outputs": [],
   "source": [
    "pd.Categorical([0,1,0,2,1], levels=['a', 'b', 'c'])"
   ]
  },
  {
   "cell_type": "markdown",
   "metadata": {},
   "source": [
    "will have to adapted to the following to keep the same behaviour:  "
   ]
  },
  {
   "cell_type": "markdown",
   "metadata": {
    "hide-output": false
   },
   "source": [
    "```ipython\n",
    "In [2]: pd.Categorical.from_codes([0,1,0,2,1], categories=['a', 'b', 'c'])\n",
    "Out[2]:\n",
    "[a, b, a, c, b]\n",
    "Categories (3, object): [a, b, c]\n",
    "```\n"
   ]
  },
  {
   "cell_type": "markdown",
   "metadata": {},
   "source": [
    "\n",
    "\n",
    "API changes related to the introduction of the `Timedelta` scalar (see\n",
    "[above](#whatsnew-0150-timedeltaindex) for more details):\n",
    "\n",
    "- Prior to 0.15.0 `to_timedelta()` would return a `Series` for list-like/Series input,\n",
    "  and a `np.timedelta64` for scalar input. It will now return a `TimedeltaIndex` for\n",
    "  list-like input, `Series` for Series input, and `Timedelta` for scalar input.  \n",
    "\n",
    "\n",
    "For API changes related to the rolling and expanding functions, see detailed overview [above](#whatsnew-0150-roll).\n",
    "\n",
    "Other notable API changes:\n",
    "\n",
    "- Consistency when indexing with `.loc` and a list-like indexer when no values are found.  \n",
    "In prior versions there was a difference in these two constructs:  \n",
    "- `df.loc[[3]]` would return a frame reindexed by 3 (with all `np.nan` values)  \n",
    "- `df.loc[[3],:]` would raise `KeyError`.  \n",
    "Both will now raise a `KeyError`. The rule is that *at least 1* indexer must be found when using a list-like and `.loc` ([GH7999](https://github.com/pandas-dev/pandas/issues/7999))  \n",
    "Furthermore in prior versions these were also different:  \n",
    "- `df.loc[[1,3]]` would return a frame reindexed by [1,3]  \n",
    "- `df.loc[[1,3],:]` would raise `KeyError`.  \n",
    "Both will now return a frame reindex by [1,3]. E.g.  "
   ]
  },
  {
   "cell_type": "markdown",
   "metadata": {
    "hide-output": false
   },
   "source": [
    "```ipython\n",
    "In [3]: df.loc[[1, 3]]\n",
    "Out[3]:\n",
    "     0\n",
    "1    a\n",
    "3  NaN\n",
    "\n",
    "In [4]: df.loc[[1, 3], :]\n",
    "Out[4]:\n",
    "     0\n",
    "1    a\n",
    "3  NaN\n",
    "```\n"
   ]
  },
  {
   "cell_type": "markdown",
   "metadata": {},
   "source": [
    "This can also be seen in multi-axis indexing with a `Panel`.  "
   ]
  },
  {
   "cell_type": "code",
   "execution_count": null,
   "metadata": {
    "hide-output": false
   },
   "outputs": [],
   "source": [
    ">>> p = pd.Panel(np.arange(2 * 3 * 4).reshape(2, 3, 4),\n",
    "...              items=['ItemA', 'ItemB'],\n",
    "...              major_axis=[1, 2, 3],\n",
    "...              minor_axis=['A', 'B', 'C', 'D'])\n",
    ">>> p\n",
    "<class 'pandas.core.panel.Panel'>\n",
    "Dimensions: 2 (items) x 3 (major_axis) x 4 (minor_axis)\n",
    "Items axis: ItemA to ItemB\n",
    "Major_axis axis: 1 to 3\n",
    "Minor_axis axis: A to D"
   ]
  },
  {
   "cell_type": "markdown",
   "metadata": {},
   "source": [
    "The following would raise `KeyError` prior to 0.15.0:  "
   ]
  },
  {
   "cell_type": "markdown",
   "metadata": {
    "hide-output": false
   },
   "source": [
    "```ipython\n",
    "In [5]:\n",
    "Out[5]:\n",
    "   ItemA  ItemD\n",
    "1      3    NaN\n",
    "2      7    NaN\n",
    "3     11    NaN\n",
    "```\n"
   ]
  },
  {
   "cell_type": "markdown",
   "metadata": {},
   "source": [
    "Furthermore, `.loc` will raise If no values are found in a MultiIndex with a list-like indexer:  \n",
    "- Assigning values to `None` now considers the dtype when choosing an ‘empty’ value ([GH7941](https://github.com/pandas-dev/pandas/issues/7941)).  \n",
    "  Previously, assigning to `None` in numeric containers changed the\n",
    "  dtype to object (or errored, depending on the call). It now uses\n",
    "  `NaN`:  \n",
    "  `NaT` is now used similarly for datetime containers.  \n",
    "  For object containers, we now preserve `None` values (previously these\n",
    "  were converted to `NaN` values).  \n",
    "  To insert a `NaN`, you must explicitly use `np.nan`. See the [docs](user_guide/missing_data.ipynb#missing-inserting).  \n",
    "- In prior versions, updating a pandas object inplace would not reflect in other python references to this object. ([GH8511](https://github.com/pandas-dev/pandas/issues/8511), [GH5104](https://github.com/pandas-dev/pandas/issues/5104))  \n",
    "Behavior prior to v0.15.0  "
   ]
  },
  {
   "cell_type": "markdown",
   "metadata": {
    "hide-output": false
   },
   "source": [
    "```ipython\n",
    "# the original object\n",
    "In [5]: s\n",
    "Out[5]:\n",
    "0    2.5\n",
    "1    3.5\n",
    "2    4.5\n",
    "dtype: float64\n",
    "\n",
    "\n",
    "# a reference to the original object\n",
    "In [7]: s2\n",
    "Out[7]:\n",
    "0    1\n",
    "1    2\n",
    "2    3\n",
    "dtype: int64\n",
    "```\n"
   ]
  },
  {
   "cell_type": "markdown",
   "metadata": {},
   "source": [
    "This is now the correct behavior  \n",
    "\n",
    "\n",
    "\n",
    "<a id='whatsnew-0150-blanklines'></a>\n",
    "- Made both the C-based and Python engines for read_csv and read_table ignore empty lines in input as well as\n",
    "  white space-filled lines, as long as `sep` is not white space. This is an API change\n",
    "  that can be controlled by the keyword parameter `skip_blank_lines`.  See [the docs](user_guide/io.ipynb#io-skiplines) ([GH4466](https://github.com/pandas-dev/pandas/issues/4466))  \n",
    "- A timeseries/index localized to UTC when inserted into a Series/DataFrame will preserve the UTC timezone\n",
    "  and inserted as `object` dtype rather than being converted to a naive `datetime64[ns]` ([GH8411](https://github.com/pandas-dev/pandas/issues/8411)).  \n",
    "- Bug in passing a `DatetimeIndex` with a timezone that was not being retained in DataFrame construction from a dict ([GH7822](https://github.com/pandas-dev/pandas/issues/7822))  \n",
    "  In prior versions this would drop the timezone, now it retains the timezone,\n",
    "  but gives a column of `object` dtype:  \n",
    "  Previously this would have yielded a column of `datetime64` dtype, but without timezone info.  \n",
    "  The behaviour of assigning a column to an existing dataframe as df[‘a’] = i\n",
    "  remains unchanged (this already returned an  `object` column with a timezone).  \n",
    "- When passing multiple levels to `stack()`, it will now raise a `ValueError` when the\n",
    "  levels aren’t all level names or all level numbers ([GH7660](https://github.com/pandas-dev/pandas/issues/7660)). See\n",
    "  [Reshaping by stacking and unstacking](user_guide/reshaping.ipynb#reshaping-stack-multiple).  \n",
    "- Raise a `ValueError` in `df.to_hdf` with ‘fixed’ format, if `df` has non-unique columns as the resulting file will be broken ([GH7761](https://github.com/pandas-dev/pandas/issues/7761))  \n",
    "- `SettingWithCopy` raise/warnings (according to the option `mode.chained_assignment`) will now be issued when setting a value on a sliced mixed-dtype DataFrame using chained-assignment. ([GH7845](https://github.com/pandas-dev/pandas/issues/7845), [GH7950](https://github.com/pandas-dev/pandas/issues/7950))  "
   ]
  },
  {
   "cell_type": "code",
   "execution_count": null,
   "metadata": {
    "hide-output": false
   },
   "outputs": [],
   "source": [
    "In [1]: df = pd.DataFrame(np.arange(0, 9), columns=['count'])\n",
    "\n",
    "In [2]: df['group'] = 'b'\n",
    "\n",
    "In [3]: df.iloc[0:5]['group'] = 'a'\n",
    "/usr/local/bin/ipython:1: SettingWithCopyWarning:\n",
    "A value is trying to be set on a copy of a slice from a DataFrame.\n",
    "Try using .loc[row_indexer,col_indexer] = value instead\n",
    "\n",
    "See the caveats in the documentation: http://pandas.pydata.org/pandas-docs/stable/indexing.html#indexing-view-versus-copy"
   ]
  },
  {
   "cell_type": "markdown",
   "metadata": {},
   "source": [
    "- `merge`, `DataFrame.merge`, and `ordered_merge` now return the same type\n",
    "  as the `left` argument ([GH7737](https://github.com/pandas-dev/pandas/issues/7737)).  \n",
    "- Previously an enlargement with a mixed-dtype frame would act unlike `.append` which will preserve dtypes (related [GH2578](https://github.com/pandas-dev/pandas/issues/2578), [GH8176](https://github.com/pandas-dev/pandas/issues/8176)):  \n",
    "- `Series.to_csv()` now returns a string when `path=None`, matching the behaviour of `DataFrame.to_csv()` ([GH8215](https://github.com/pandas-dev/pandas/issues/8215)).  \n",
    "- `read_hdf` now raises `IOError` when a file that doesn’t exist is passed in. Previously, a new, empty file was created, and a `KeyError` raised ([GH7715](https://github.com/pandas-dev/pandas/issues/7715)).  \n",
    "- `DataFrame.info()` now ends its output with a newline character ([GH8114](https://github.com/pandas-dev/pandas/issues/8114))  \n",
    "- Concatenating no objects will now raise a `ValueError` rather than a bare `Exception`.  \n",
    "- Merge errors will now be sub-classes of `ValueError` rather than raw `Exception` ([GH8501](https://github.com/pandas-dev/pandas/issues/8501))  \n",
    "- `DataFrame.plot` and `Series.plot` keywords are now have consistent orders ([GH8037](https://github.com/pandas-dev/pandas/issues/8037))  \n",
    "\n",
    "\n",
    "\n",
    "<a id='whatsnew-0150-refactoring'></a>"
   ]
  },
  {
   "cell_type": "markdown",
   "metadata": {},
   "source": [
    "### Internal refactoring\n",
    "\n",
    "In 0.15.0 `Index` has internally been refactored to no longer sub-class `ndarray`\n",
    "but instead subclass `PandasObject`, similarly to the rest of the pandas objects. This\n",
    "change allows very easy sub-classing and creation of new index types. This should be\n",
    "a transparent change with only very limited API implications ([GH5080](https://github.com/pandas-dev/pandas/issues/5080), [GH7439](https://github.com/pandas-dev/pandas/issues/7439), [GH7796](https://github.com/pandas-dev/pandas/issues/7796), [GH8024](https://github.com/pandas-dev/pandas/issues/8024), [GH8367](https://github.com/pandas-dev/pandas/issues/8367), [GH7997](https://github.com/pandas-dev/pandas/issues/7997), [GH8522](https://github.com/pandas-dev/pandas/issues/8522)):\n",
    "\n",
    "- you may need to unpickle pandas version < 0.15.0 pickles using `pd.read_pickle` rather than `pickle.load`. See [pickle docs](user_guide/io.ipynb#io-pickle)  \n",
    "- when plotting with a `PeriodIndex`, the matplotlib internal axes will now be arrays of `Period` rather than a `PeriodIndex` (this is similar to how a `DatetimeIndex` passes arrays of `datetimes` now)  \n",
    "- MultiIndexes will now raise similarly to other pandas objects w.r.t. truth testing, see [here](user_guide/gotchas.ipynb#gotchas-truth) ([GH7897](https://github.com/pandas-dev/pandas/issues/7897)).  \n",
    "- When plotting a DatetimeIndex directly with matplotlib’s plot function,\n",
    "  the axis labels will no longer be formatted as dates but as integers (the\n",
    "  internal representation of a `datetime64`). **UPDATE** This is fixed\n",
    "  in 0.15.1, see [here](v0.15.1#whatsnew-0151-datetime64-plotting).  \n",
    "\n",
    "\n",
    "\n",
    "<a id='whatsnew-0150-deprecations'></a>"
   ]
  },
  {
   "cell_type": "markdown",
   "metadata": {},
   "source": [
    "### Deprecations\n",
    "\n",
    "- The attributes `Categorical` `labels` and `levels` attributes are\n",
    "  deprecated and renamed to `codes` and `categories`.  \n",
    "- The `outtype` argument to `pd.DataFrame.to_dict` has been deprecated in favor of `orient`. ([GH7840](https://github.com/pandas-dev/pandas/issues/7840))  \n",
    "- The `convert_dummies` method has been deprecated in favor of\n",
    "  `get_dummies` ([GH8140](https://github.com/pandas-dev/pandas/issues/8140))  \n",
    "- The `infer_dst` argument in `tz_localize` will be deprecated in favor of\n",
    "  `ambiguous` to allow for more flexibility in dealing with DST transitions.\n",
    "  Replace `infer_dst=True` with `ambiguous='infer'` for the same behavior ([GH7943](https://github.com/pandas-dev/pandas/issues/7943)).\n",
    "  See [the docs](user_guide/timeseries.ipynb#timeseries-timezone-ambiguous) for more details.  \n",
    "- The top-level `pd.value_range` has been deprecated and can be replaced by `.describe()` ([GH8481](https://github.com/pandas-dev/pandas/issues/8481))  \n",
    "\n",
    "\n",
    "\n",
    "<a id='whatsnew-0150-index-set-ops'></a>\n",
    "- The `Index` set operations `+` and `-` were deprecated in order to provide these for numeric type operations on certain index types. `+` can be replaced by `.union()` or `|`, and `-` by `.difference()`. Further the method name `Index.diff()` is deprecated and can be replaced by `Index.difference()` ([GH8226](https://github.com/pandas-dev/pandas/issues/8226))  "
   ]
  },
  {
   "cell_type": "code",
   "execution_count": null,
   "metadata": {
    "hide-output": false
   },
   "outputs": [],
   "source": [
    "# +\n",
    "pd.Index(['a', 'b', 'c']) + pd.Index(['b', 'c', 'd'])\n",
    "\n",
    "# should be replaced by\n",
    "pd.Index(['a', 'b', 'c']).union(pd.Index(['b', 'c', 'd']))"
   ]
  },
  {
   "cell_type": "code",
   "execution_count": null,
   "metadata": {
    "hide-output": false
   },
   "outputs": [],
   "source": [
    "# -\n",
    "pd.Index(['a', 'b', 'c']) - pd.Index(['b', 'c', 'd'])\n",
    "\n",
    "# should be replaced by\n",
    "pd.Index(['a', 'b', 'c']).difference(pd.Index(['b', 'c', 'd']))"
   ]
  },
  {
   "cell_type": "markdown",
   "metadata": {},
   "source": [
    "- The `infer_types` argument to `read_html()` now has no\n",
    "  effect and is deprecated ([GH7762](https://github.com/pandas-dev/pandas/issues/7762), [GH7032](https://github.com/pandas-dev/pandas/issues/7032)).  \n",
    "\n",
    "\n",
    "\n",
    "<a id='whatsnew-0150-prior-deprecations'></a>"
   ]
  },
  {
   "cell_type": "markdown",
   "metadata": {},
   "source": [
    "### Removal of prior version deprecations/changes\n",
    "\n",
    "- Remove `DataFrame.delevel` method in favor of `DataFrame.reset_index`  \n",
    "\n",
    "\n",
    "\n",
    "<a id='whatsnew-0150-enhancements'></a>"
   ]
  },
  {
   "cell_type": "markdown",
   "metadata": {},
   "source": [
    "## Enhancements\n",
    "\n",
    "Enhancements in the importing/exporting of Stata files:\n",
    "\n",
    "- Added support for bool, uint8, uint16 and uint32 data types in `to_stata` ([GH7097](https://github.com/pandas-dev/pandas/issues/7097), [GH7365](https://github.com/pandas-dev/pandas/issues/7365))  \n",
    "- Added conversion option when importing Stata files ([GH8527](https://github.com/pandas-dev/pandas/issues/8527))  \n",
    "- `DataFrame.to_stata` and `StataWriter` check string length for\n",
    "  compatibility with limitations imposed in dta files where fixed-width\n",
    "  strings must contain 244 or fewer characters.  Attempting to write Stata\n",
    "  dta files with strings longer than 244 characters raises a `ValueError`. ([GH7858](https://github.com/pandas-dev/pandas/issues/7858))  \n",
    "- `read_stata` and `StataReader` can import missing data information into a\n",
    "  `DataFrame` by setting the argument `convert_missing` to `True`. When\n",
    "  using this options, missing values are returned as `StataMissingValue`\n",
    "  objects and columns containing missing values have `object` data type. ([GH8045](https://github.com/pandas-dev/pandas/issues/8045))  \n",
    "\n",
    "\n",
    "Enhancements in the plotting functions:\n",
    "\n",
    "- Added `layout` keyword to `DataFrame.plot`. You can pass a tuple of `(rows, columns)`, one of which can be `-1` to automatically infer ([GH6667](https://github.com/pandas-dev/pandas/issues/6667), [GH8071](https://github.com/pandas-dev/pandas/issues/8071)).  \n",
    "- Allow to pass multiple axes to `DataFrame.plot`, `hist` and `boxplot` ([GH5353](https://github.com/pandas-dev/pandas/issues/5353), [GH6970](https://github.com/pandas-dev/pandas/issues/6970), [GH7069](https://github.com/pandas-dev/pandas/issues/7069))  \n",
    "- Added support for `c`, `colormap` and `colorbar` arguments for `DataFrame.plot` with `kind='scatter'` ([GH7780](https://github.com/pandas-dev/pandas/issues/7780))  \n",
    "- Histogram from `DataFrame.plot` with `kind='hist'` ([GH7809](https://github.com/pandas-dev/pandas/issues/7809)), See [the docs](user_guide/visualization.ipynb#visualization-hist).  \n",
    "- Boxplot from `DataFrame.plot` with `kind='box'` ([GH7998](https://github.com/pandas-dev/pandas/issues/7998)), See [the docs](user_guide/visualization.ipynb#visualization-box).  \n",
    "\n",
    "\n",
    "Other:\n",
    "\n",
    "- `read_csv` now has a keyword parameter `float_precision` which specifies which floating-point converter the C engine should use during parsing, see [here](user_guide/io.ipynb#io-float-precision) ([GH8002](https://github.com/pandas-dev/pandas/issues/8002), [GH8044](https://github.com/pandas-dev/pandas/issues/8044))  \n",
    "- Added `searchsorted` method to `Series` objects ([GH7447](https://github.com/pandas-dev/pandas/issues/7447))  \n",
    "- `describe()` on mixed-types DataFrames is more flexible. Type-based column filtering is now possible via the `include`/`exclude` arguments.\n",
    "  See the [docs](getting_started/basics.ipynb#basics-describe) ([GH8164](https://github.com/pandas-dev/pandas/issues/8164)).  \n",
    "  Requesting all columns is possible with the shorthand ‘all’  \n",
    "  Without those arguments, `describe` will behave as before, including only numerical columns or, if none are, only categorical columns. See also the [docs](getting_started/basics.ipynb#basics-describe)  \n",
    "- Added `split` as an option to the `orient` argument in `pd.DataFrame.to_dict`. ([GH7840](https://github.com/pandas-dev/pandas/issues/7840))  \n",
    "- The `get_dummies` method can now be used on DataFrames. By default only\n",
    "  categorical columns are encoded as 0’s and 1’s, while other columns are\n",
    "  left untouched.  \n",
    "- `PeriodIndex` supports `resolution` as the same as `DatetimeIndex` ([GH7708](https://github.com/pandas-dev/pandas/issues/7708))  \n",
    "- `pandas.tseries.holiday` has added support for additional holidays and ways to observe holidays ([GH7070](https://github.com/pandas-dev/pandas/issues/7070))  \n",
    "- `pandas.tseries.holiday.Holiday` now supports a list of offsets in Python3 ([GH7070](https://github.com/pandas-dev/pandas/issues/7070))  \n",
    "- `pandas.tseries.holiday.Holiday` now supports a days_of_week parameter ([GH7070](https://github.com/pandas-dev/pandas/issues/7070))  \n",
    "- `GroupBy.nth()` now supports selecting multiple nth values ([GH7910](https://github.com/pandas-dev/pandas/issues/7910))  \n",
    "- `Period` and `PeriodIndex` supports addition/subtraction with `timedelta`-likes ([GH7966](https://github.com/pandas-dev/pandas/issues/7966))  \n",
    "  If `Period` freq is `D`, `H`, `T`, `S`, `L`, `U`, `N`, `Timedelta`-like can be added if the result can have same freq. Otherwise, only the same `offsets` can be added.  \n",
    "- Added experimental compatibility with `openpyxl` for versions >= 2.0. The `DataFrame.to_excel`\n",
    "  method `engine` keyword now recognizes `openpyxl1` and `openpyxl2`\n",
    "  which will explicitly require openpyxl v1 and v2 respectively, failing if\n",
    "  the requested version is not available. The `openpyxl` engine is a now a\n",
    "  meta-engine that automatically uses whichever version of openpyxl is\n",
    "  installed. ([GH7177](https://github.com/pandas-dev/pandas/issues/7177))  \n",
    "- `DataFrame.fillna` can now accept a `DataFrame` as a fill value ([GH8377](https://github.com/pandas-dev/pandas/issues/8377))  \n",
    "- Passing multiple levels to `stack()` will now work when multiple level\n",
    "  numbers are passed ([GH7660](https://github.com/pandas-dev/pandas/issues/7660)). See\n",
    "  [Reshaping by stacking and unstacking](user_guide/reshaping.ipynb#reshaping-stack-multiple).  \n",
    "- `set_names()`, `set_labels()`, and `set_levels()` methods now take an optional `level` keyword argument to all modification of specific level(s) of a MultiIndex. Additionally `set_names()` now accepts a scalar string value when operating on an `Index` or on a specific level of a `MultiIndex` ([GH7792](https://github.com/pandas-dev/pandas/issues/7792))  \n",
    "- `Index.isin` now supports a `level` argument to specify which index level\n",
    "to use for membership tests ([GH7892](https://github.com/pandas-dev/pandas/issues/7892), [GH7890](https://github.com/pandas-dev/pandas/issues/7890))  "
   ]
  },
  {
   "cell_type": "markdown",
   "metadata": {
    "hide-output": false
   },
   "source": [
    "```ipython\n",
    "In [1]: idx = pd.MultiIndex.from_product([[0, 1], ['a', 'b', 'c']])\n",
    "\n",
    "In [2]: idx.values\n",
    "Out[2]: array([(0, 'a'), (0, 'b'), (0, 'c'), (1, 'a'), (1, 'b'), (1, 'c')], dtype=object)\n",
    "\n",
    "In [3]: idx.isin(['a', 'c', 'e'], level=1)\n",
    "Out[3]: array([ True, False,  True,  True, False,  True], dtype=bool)\n",
    "```\n"
   ]
  },
  {
   "cell_type": "markdown",
   "metadata": {},
   "source": [
    "- `Index` now supports `duplicated` and `drop_duplicates`. ([GH4060](https://github.com/pandas-dev/pandas/issues/4060))  \n",
    "- add `copy=True` argument to `pd.concat` to enable pass through of complete blocks ([GH8252](https://github.com/pandas-dev/pandas/issues/8252))  \n",
    "- Added support for numpy 1.8+ data types (`bool_`, `int_`, `float_`, `string_`) for conversion to R dataframe  ([GH8400](https://github.com/pandas-dev/pandas/issues/8400))  \n",
    "\n",
    "\n",
    "\n",
    "<a id='whatsnew-0150-performance'></a>"
   ]
  },
  {
   "cell_type": "markdown",
   "metadata": {},
   "source": [
    "## Performance\n",
    "\n",
    "- Performance improvements in `DatetimeIndex.__iter__` to allow faster iteration ([GH7683](https://github.com/pandas-dev/pandas/issues/7683))  \n",
    "- Performance improvements in `Period` creation (and `PeriodIndex` setitem) ([GH5155](https://github.com/pandas-dev/pandas/issues/5155))  \n",
    "- Improvements in Series.transform for significant performance gains (revised) ([GH6496](https://github.com/pandas-dev/pandas/issues/6496))  \n",
    "- Performance improvements in `StataReader` when reading large files ([GH8040](https://github.com/pandas-dev/pandas/issues/8040), [GH8073](https://github.com/pandas-dev/pandas/issues/8073))  \n",
    "- Performance improvements in `StataWriter` when writing large files ([GH8079](https://github.com/pandas-dev/pandas/issues/8079))  \n",
    "- Performance and memory usage improvements in multi-key `groupby` ([GH8128](https://github.com/pandas-dev/pandas/issues/8128))  \n",
    "- Performance improvements in groupby `.agg` and `.apply` where builtins max/min were not mapped to numpy/cythonized versions ([GH7722](https://github.com/pandas-dev/pandas/issues/7722))  \n",
    "- Performance improvement in writing to sql (`to_sql`) of up to 50% ([GH8208](https://github.com/pandas-dev/pandas/issues/8208)).  \n",
    "- Performance benchmarking of groupby for large value of ngroups ([GH6787](https://github.com/pandas-dev/pandas/issues/6787))  \n",
    "- Performance improvement in `CustomBusinessDay`, `CustomBusinessMonth` ([GH8236](https://github.com/pandas-dev/pandas/issues/8236))  \n",
    "- Performance improvement for `MultiIndex.values` for multi-level indexes containing datetimes ([GH8543](https://github.com/pandas-dev/pandas/issues/8543))  \n",
    "\n",
    "\n",
    "\n",
    "<a id='whatsnew-0150-bug-fixes'></a>"
   ]
  },
  {
   "cell_type": "markdown",
   "metadata": {},
   "source": [
    "## Bug fixes\n",
    "\n",
    "- Bug in pivot_table, when using margins and a dict aggfunc ([GH8349](https://github.com/pandas-dev/pandas/issues/8349))  \n",
    "- Bug in `read_csv` where `squeeze=True` would return a view ([GH8217](https://github.com/pandas-dev/pandas/issues/8217))  \n",
    "- Bug in checking of table name in `read_sql` in certain cases ([GH7826](https://github.com/pandas-dev/pandas/issues/7826)).  \n",
    "- Bug in `DataFrame.groupby` where `Grouper` does not recognize level when frequency is specified ([GH7885](https://github.com/pandas-dev/pandas/issues/7885))  \n",
    "- Bug in multiindexes dtypes getting mixed up when DataFrame is saved to SQL table ([GH8021](https://github.com/pandas-dev/pandas/issues/8021))  \n",
    "- Bug in `Series` 0-division with a float and integer operand dtypes  ([GH7785](https://github.com/pandas-dev/pandas/issues/7785))  \n",
    "- Bug in `Series.astype(\"unicode\")` not calling `unicode` on the values correctly ([GH7758](https://github.com/pandas-dev/pandas/issues/7758))  \n",
    "- Bug in `DataFrame.as_matrix()` with mixed `datetime64[ns]` and `timedelta64[ns]` dtypes ([GH7778](https://github.com/pandas-dev/pandas/issues/7778))  \n",
    "- Bug in `HDFStore.select_column()` not preserving UTC timezone info when selecting a `DatetimeIndex` ([GH7777](https://github.com/pandas-dev/pandas/issues/7777))  \n",
    "- Bug in `to_datetime` when `format='%Y%m%d'` and `coerce=True` are specified, where previously an object array was returned (rather than\n",
    "  a coerced time-series with `NaT`), ([GH7930](https://github.com/pandas-dev/pandas/issues/7930))  \n",
    "- Bug in `DatetimeIndex` and `PeriodIndex` in-place addition and subtraction cause different result from normal one ([GH6527](https://github.com/pandas-dev/pandas/issues/6527))  \n",
    "- Bug in adding and subtracting `PeriodIndex` with `PeriodIndex` raise `TypeError` ([GH7741](https://github.com/pandas-dev/pandas/issues/7741))  \n",
    "- Bug in `combine_first` with `PeriodIndex` data raises `TypeError` ([GH3367](https://github.com/pandas-dev/pandas/issues/3367))  \n",
    "- Bug in MultiIndex slicing with missing indexers ([GH7866](https://github.com/pandas-dev/pandas/issues/7866))  \n",
    "- Bug in MultiIndex slicing with various edge cases ([GH8132](https://github.com/pandas-dev/pandas/issues/8132))  \n",
    "- Regression in MultiIndex indexing with a non-scalar type object ([GH7914](https://github.com/pandas-dev/pandas/issues/7914))  \n",
    "- Bug in `Timestamp` comparisons with `==` and `int64` dtype ([GH8058](https://github.com/pandas-dev/pandas/issues/8058))  \n",
    "- Bug in pickles contains `DateOffset` may raise `AttributeError` when `normalize` attribute is referred internally ([GH7748](https://github.com/pandas-dev/pandas/issues/7748))  \n",
    "- Bug in `Panel` when using `major_xs` and `copy=False` is passed (deprecation warning fails because of missing `warnings`) ([GH8152](https://github.com/pandas-dev/pandas/issues/8152)).  \n",
    "- Bug in pickle deserialization that failed for pre-0.14.1 containers with dup items trying to avoid ambiguity\n",
    "  when matching block and manager items, when there’s only one block there’s no ambiguity ([GH7794](https://github.com/pandas-dev/pandas/issues/7794))  \n",
    "- Bug in putting a `PeriodIndex` into a `Series` would convert to `int64` dtype, rather than `object` of `Periods` ([GH7932](https://github.com/pandas-dev/pandas/issues/7932))  \n",
    "- Bug in `HDFStore` iteration when passing a where ([GH8014](https://github.com/pandas-dev/pandas/issues/8014))  \n",
    "- Bug in `DataFrameGroupby.transform` when transforming with a passed non-sorted key ([GH8046](https://github.com/pandas-dev/pandas/issues/8046), [GH8430](https://github.com/pandas-dev/pandas/issues/8430))  \n",
    "- Bug in repeated timeseries line and area plot may result in `ValueError` or incorrect kind ([GH7733](https://github.com/pandas-dev/pandas/issues/7733))  \n",
    "- Bug in inference in a `MultiIndex` with `datetime.date` inputs ([GH7888](https://github.com/pandas-dev/pandas/issues/7888))  \n",
    "- Bug in `get` where an `IndexError` would not cause the default value to be returned ([GH7725](https://github.com/pandas-dev/pandas/issues/7725))  \n",
    "- Bug in `offsets.apply`, `rollforward` and `rollback` may reset nanosecond ([GH7697](https://github.com/pandas-dev/pandas/issues/7697))  \n",
    "- Bug in `offsets.apply`, `rollforward` and `rollback` may raise `AttributeError` if `Timestamp` has `dateutil` tzinfo ([GH7697](https://github.com/pandas-dev/pandas/issues/7697))  \n",
    "- Bug in sorting a MultiIndex frame with a `Float64Index` ([GH8017](https://github.com/pandas-dev/pandas/issues/8017))  \n",
    "- Bug in inconsistent panel setitem with a rhs of a `DataFrame` for alignment ([GH7763](https://github.com/pandas-dev/pandas/issues/7763))  \n",
    "- Bug in `is_superperiod` and `is_subperiod` cannot handle higher frequencies than `S` ([GH7760](https://github.com/pandas-dev/pandas/issues/7760), [GH7772](https://github.com/pandas-dev/pandas/issues/7772), [GH7803](https://github.com/pandas-dev/pandas/issues/7803))  \n",
    "- Bug in 32-bit platforms with `Series.shift` ([GH8129](https://github.com/pandas-dev/pandas/issues/8129))  \n",
    "- Bug in `PeriodIndex.unique` returns int64 `np.ndarray` ([GH7540](https://github.com/pandas-dev/pandas/issues/7540))  \n",
    "- Bug in `groupby.apply` with a non-affecting mutation in the function ([GH8467](https://github.com/pandas-dev/pandas/issues/8467))  \n",
    "- Bug in `DataFrame.reset_index` which has `MultiIndex` contains `PeriodIndex` or `DatetimeIndex` with tz raises `ValueError` ([GH7746](https://github.com/pandas-dev/pandas/issues/7746), [GH7793](https://github.com/pandas-dev/pandas/issues/7793))  \n",
    "- Bug in `DataFrame.plot` with `subplots=True` may draw unnecessary minor xticks and yticks ([GH7801](https://github.com/pandas-dev/pandas/issues/7801))  \n",
    "- Bug in `StataReader` which did not read variable labels in 117 files due to difference between Stata documentation and implementation ([GH7816](https://github.com/pandas-dev/pandas/issues/7816))  \n",
    "- Bug in `StataReader` where strings were always converted to 244 characters-fixed width irrespective of underlying string size ([GH7858](https://github.com/pandas-dev/pandas/issues/7858))  \n",
    "- Bug in `DataFrame.plot` and `Series.plot` may ignore `rot` and `fontsize` keywords ([GH7844](https://github.com/pandas-dev/pandas/issues/7844))  \n",
    "- Bug in `DatetimeIndex.value_counts` doesn’t preserve tz  ([GH7735](https://github.com/pandas-dev/pandas/issues/7735))  \n",
    "- Bug in `PeriodIndex.value_counts` results in `Int64Index` ([GH7735](https://github.com/pandas-dev/pandas/issues/7735))  \n",
    "- Bug in `DataFrame.join` when doing left join on index and there are multiple matches ([GH5391](https://github.com/pandas-dev/pandas/issues/5391))  \n",
    "- Bug in `GroupBy.transform()` where int groups with a transform that\n",
    "  didn’t preserve the index were incorrectly truncated ([GH7972](https://github.com/pandas-dev/pandas/issues/7972)).  \n",
    "- Bug in `groupby` where callable objects without name attributes would take the wrong path,\n",
    "  and produce a `DataFrame` instead of a `Series` ([GH7929](https://github.com/pandas-dev/pandas/issues/7929))  \n",
    "- Bug in `groupby` error message when a DataFrame grouping column is duplicated ([GH7511](https://github.com/pandas-dev/pandas/issues/7511))  \n",
    "- Bug in `read_html` where the `infer_types` argument forced coercion of\n",
    "  date-likes incorrectly ([GH7762](https://github.com/pandas-dev/pandas/issues/7762), [GH7032](https://github.com/pandas-dev/pandas/issues/7032)).  \n",
    "- Bug in `Series.str.cat` with an index which was filtered as to not include the first item ([GH7857](https://github.com/pandas-dev/pandas/issues/7857))  \n",
    "- Bug in `Timestamp` cannot parse `nanosecond` from string ([GH7878](https://github.com/pandas-dev/pandas/issues/7878))  \n",
    "- Bug in `Timestamp` with string offset and `tz` results incorrect ([GH7833](https://github.com/pandas-dev/pandas/issues/7833))  \n",
    "- Bug in `tslib.tz_convert` and `tslib.tz_convert_single` may return different results ([GH7798](https://github.com/pandas-dev/pandas/issues/7798))  \n",
    "- Bug in `DatetimeIndex.intersection` of non-overlapping timestamps with tz raises `IndexError` ([GH7880](https://github.com/pandas-dev/pandas/issues/7880))  \n",
    "- Bug in alignment with TimeOps and non-unique indexes ([GH8363](https://github.com/pandas-dev/pandas/issues/8363))  \n",
    "- Bug in `GroupBy.filter()` where fast path vs. slow path made the filter\n",
    "  return a non scalar value that appeared valid but wasn’t ([GH7870](https://github.com/pandas-dev/pandas/issues/7870)).  \n",
    "- Bug in `date_range()`/`DatetimeIndex()` when the timezone was inferred from input dates yet incorrect\n",
    "  times were returned when crossing DST boundaries ([GH7835](https://github.com/pandas-dev/pandas/issues/7835), [GH7901](https://github.com/pandas-dev/pandas/issues/7901)).  \n",
    "- Bug in `to_excel()` where a negative sign was being prepended to positive infinity and was absent for negative infinity ([GH7949](https://github.com/pandas-dev/pandas/issues/7949))  \n",
    "- Bug in area plot draws legend with incorrect `alpha` when `stacked=True` ([GH8027](https://github.com/pandas-dev/pandas/issues/8027))  \n",
    "- `Period` and `PeriodIndex` addition/subtraction with `np.timedelta64` results in incorrect internal representations ([GH7740](https://github.com/pandas-dev/pandas/issues/7740))  \n",
    "- Bug in `Holiday` with no offset or observance ([GH7987](https://github.com/pandas-dev/pandas/issues/7987))  \n",
    "- Bug in `DataFrame.to_latex` formatting when columns or index is a `MultiIndex` ([GH7982](https://github.com/pandas-dev/pandas/issues/7982)).  \n",
    "- Bug in `DateOffset` around Daylight Savings Time produces unexpected results ([GH5175](https://github.com/pandas-dev/pandas/issues/5175)).  \n",
    "- Bug in `DataFrame.shift` where empty columns would throw `ZeroDivisionError` on numpy 1.7 ([GH8019](https://github.com/pandas-dev/pandas/issues/8019))  \n",
    "- Bug in installation where `html_encoding/*.html` wasn’t installed and\n",
    "  therefore some tests were not running correctly ([GH7927](https://github.com/pandas-dev/pandas/issues/7927)).  \n",
    "- Bug in `read_html` where `bytes` objects were not tested for in\n",
    "  `_read` ([GH7927](https://github.com/pandas-dev/pandas/issues/7927)).  \n",
    "- Bug in `DataFrame.stack()` when one of the column levels was a datelike ([GH8039](https://github.com/pandas-dev/pandas/issues/8039))  \n",
    "- Bug in broadcasting numpy scalars with `DataFrame` ([GH8116](https://github.com/pandas-dev/pandas/issues/8116))  \n",
    "- Bug in `pivot_table` performed with nameless `index` and `columns` raises `KeyError` ([GH8103](https://github.com/pandas-dev/pandas/issues/8103))  \n",
    "- Bug in `DataFrame.plot(kind='scatter')` draws points and errorbars with different colors when the color is specified by `c` keyword ([GH8081](https://github.com/pandas-dev/pandas/issues/8081))  \n",
    "- Bug in `Float64Index` where `iat` and `at` were not testing and were\n",
    "  failing ([GH8092](https://github.com/pandas-dev/pandas/issues/8092)).  \n",
    "- Bug in `DataFrame.boxplot()` where y-limits were not set correctly when\n",
    "  producing multiple axes ([GH7528](https://github.com/pandas-dev/pandas/issues/7528), [GH5517](https://github.com/pandas-dev/pandas/issues/5517)).  \n",
    "- Bug in `read_csv` where line comments were not handled correctly given\n",
    "  a custom line terminator or `delim_whitespace=True` ([GH8122](https://github.com/pandas-dev/pandas/issues/8122)).  \n",
    "- Bug in `read_html` where empty tables caused a `StopIteration` ([GH7575](https://github.com/pandas-dev/pandas/issues/7575))  \n",
    "- Bug in casting when setting a column in a same-dtype block ([GH7704](https://github.com/pandas-dev/pandas/issues/7704))  \n",
    "- Bug in accessing groups from a `GroupBy` when the original grouper\n",
    "  was a tuple ([GH8121](https://github.com/pandas-dev/pandas/issues/8121)).  \n",
    "- Bug in `.at` that would accept integer indexers on a non-integer index and do fallback ([GH7814](https://github.com/pandas-dev/pandas/issues/7814))  \n",
    "- Bug with kde plot and NaNs ([GH8182](https://github.com/pandas-dev/pandas/issues/8182))  \n",
    "- Bug in `GroupBy.count` with float32 data type were nan values were not excluded ([GH8169](https://github.com/pandas-dev/pandas/issues/8169)).  \n",
    "- Bug with stacked barplots and NaNs ([GH8175](https://github.com/pandas-dev/pandas/issues/8175)).  \n",
    "- Bug in resample with non evenly divisible offsets (e.g. ‘7s’) ([GH8371](https://github.com/pandas-dev/pandas/issues/8371))  \n",
    "- Bug in interpolation methods with the `limit` keyword when no values needed interpolating ([GH7173](https://github.com/pandas-dev/pandas/issues/7173)).  \n",
    "- Bug where `col_space` was ignored in `DataFrame.to_string()` when `header=False` ([GH8230](https://github.com/pandas-dev/pandas/issues/8230)).  \n",
    "- Bug with `DatetimeIndex.asof` incorrectly matching partial strings and returning the wrong date ([GH8245](https://github.com/pandas-dev/pandas/issues/8245)).  \n",
    "- Bug in plotting methods modifying the global matplotlib rcParams ([GH8242](https://github.com/pandas-dev/pandas/issues/8242)).  \n",
    "- Bug in `DataFrame.__setitem__` that caused errors when setting a dataframe column to a sparse array ([GH8131](https://github.com/pandas-dev/pandas/issues/8131))  \n",
    "- Bug where `Dataframe.boxplot()` failed when entire column was empty ([GH8181](https://github.com/pandas-dev/pandas/issues/8181)).  \n",
    "- Bug with messed variables in `radviz` visualization ([GH8199](https://github.com/pandas-dev/pandas/issues/8199)).  \n",
    "- Bug in interpolation methods with the `limit` keyword when no values needed interpolating ([GH7173](https://github.com/pandas-dev/pandas/issues/7173)).  \n",
    "- Bug where `col_space` was ignored in `DataFrame.to_string()` when `header=False` ([GH8230](https://github.com/pandas-dev/pandas/issues/8230)).  \n",
    "- Bug in `to_clipboard` that would clip long column data ([GH8305](https://github.com/pandas-dev/pandas/issues/8305))  \n",
    "- Bug in `DataFrame` terminal display: Setting max_column/max_rows to zero did not trigger auto-resizing of dfs to fit terminal width/height ([GH7180](https://github.com/pandas-dev/pandas/issues/7180)).  \n",
    "- Bug in OLS where running with “cluster” and “nw_lags” parameters did not work correctly, but also did not throw an error\n",
    "  ([GH5884](https://github.com/pandas-dev/pandas/issues/5884)).  \n",
    "- Bug in `DataFrame.dropna` that interpreted non-existent columns in the subset argument as the ‘last column’ ([GH8303](https://github.com/pandas-dev/pandas/issues/8303))  \n",
    "- Bug in `Index.intersection` on non-monotonic non-unique indexes ([GH8362](https://github.com/pandas-dev/pandas/issues/8362)).  \n",
    "- Bug in masked series assignment where mismatching types would break alignment ([GH8387](https://github.com/pandas-dev/pandas/issues/8387))  \n",
    "- Bug in `NDFrame.equals` gives false negatives with dtype=object ([GH8437](https://github.com/pandas-dev/pandas/issues/8437))  \n",
    "- Bug in assignment with indexer where type diversity would break alignment ([GH8258](https://github.com/pandas-dev/pandas/issues/8258))  \n",
    "- Bug in `NDFrame.loc` indexing when row/column names were lost when target was a list/ndarray ([GH6552](https://github.com/pandas-dev/pandas/issues/6552))  \n",
    "- Regression in `NDFrame.loc` indexing when rows/columns were converted to Float64Index if target was an empty list/ndarray ([GH7774](https://github.com/pandas-dev/pandas/issues/7774))  \n",
    "- Bug in `Series` that allows it to be indexed by a `DataFrame` which has unexpected results.  Such indexing is no longer permitted ([GH8444](https://github.com/pandas-dev/pandas/issues/8444))  \n",
    "- Bug in item assignment of a `DataFrame` with MultiIndex columns where right-hand-side columns were not aligned ([GH7655](https://github.com/pandas-dev/pandas/issues/7655))  \n",
    "- Suppress FutureWarning generated by NumPy when comparing object arrays containing NaN for equality ([GH7065](https://github.com/pandas-dev/pandas/issues/7065))  \n",
    "- Bug in `DataFrame.eval()` where the dtype of the `not` operator (`~`)\n",
    "  was not correctly inferred as `bool`.  \n",
    "\n",
    "\n",
    "\n",
    "<a id='whatsnew-0-15-0-contributors'></a>"
   ]
  },
  {
   "cell_type": "markdown",
   "metadata": {},
   "source": [
    "## Contributors\n",
    "\n",
    "A total of 80 people contributed patches to this release.  People with a\n",
    "“+” by their names contributed a patch for the first time.\n",
    "\n",
    "\n",
    "- Aaron Schumacher +  \n",
    "- Adam Greenhall  \n",
    "- Andy Hayden  \n",
    "- Anthony O’Brien +  \n",
    "- Artemy Kolchinsky +  \n",
    "- Ben Schiller +  \n",
    "- Benedikt Sauer  \n",
    "- Benjamin Thyreau +  \n",
    "- BorisVerk +  \n",
    "- Chris Reynolds +  \n",
    "- Chris Stoafer +  \n",
    "- DSM  \n",
    "- Dav Clark +  \n",
    "- FragLegs +  \n",
    "- German Gomez-Herrero +  \n",
    "- Hsiaoming Yang +  \n",
    "- Huan Li +  \n",
    "- Hyungtae Kim +  \n",
    "- Isaac Slavitt +  \n",
    "- Jacob Schaer  \n",
    "- Jacob Wasserman +  \n",
    "- Jan Schulz  \n",
    "- Jeff Reback  \n",
    "- Jeff Tratner  \n",
    "- Jesse Farnham +  \n",
    "- Joe Bradish +  \n",
    "- Joerg Rittinger +  \n",
    "- John W. O’Brien  \n",
    "- Joris Van den Bossche  \n",
    "- Kevin Sheppard  \n",
    "- Kyle Meyer  \n",
    "- Max Chang +  \n",
    "- Michael Mueller  \n",
    "- Michael W Schatzow +  \n",
    "- Mike Kelly  \n",
    "- Mortada Mehyar  \n",
    "- Nathan Sanders +  \n",
    "- Nathan Typanski +  \n",
    "- Paul Masurel +  \n",
    "- Phillip Cloud  \n",
    "- Pietro Battiston  \n",
    "- RenzoBertocchi +  \n",
    "- Ross Petchler +  \n",
    "- Shahul Hameed +  \n",
    "- Shashank Agarwal +  \n",
    "- Stephan Hoyer  \n",
    "- Tom Augspurger  \n",
    "- TomAugspurger  \n",
    "- Tony Lorenzo +  \n",
    "- Wes Turner  \n",
    "- Wilfred Hughes +  \n",
    "- Yevgeniy Grechka +  \n",
    "- Yoshiki Vázquez Baeza +  \n",
    "- behzad nouri +  \n",
    "- benjamin  \n",
    "- bjonen +  \n",
    "- dlovell +  \n",
    "- dsm054  \n",
    "- hunterowens +  \n",
    "- immerrr  \n",
    "- ischwabacher  \n",
    "- jmorris0x0 +  \n",
    "- jnmclarty +  \n",
    "- jreback  \n",
    "- klonuo +  \n",
    "- lexual  \n",
    "- mcjcode +  \n",
    "- mtrbean +  \n",
    "- onesandzeroes  \n",
    "- rockg  \n",
    "- seth-p  \n",
    "- sinhrks  \n",
    "- someben +  \n",
    "- stahlous +  \n",
    "- stas-sl +  \n",
    "- thatneat +  \n",
    "- tom-alcorn +  \n",
    "- unknown  \n",
    "- unutbu  \n",
    "- zachcp +  "
   ]
  }
 ],
 "metadata": {
  "filename": "v0.15.0.rst",
  "kernelspec": {
   "display_name": "Python",
   "language": "python3",
   "name": "python3"
  },
  "title": "v0.15.0 (October 18, 2014)"
 },
 "nbformat": 4,
 "nbformat_minor": 2
}