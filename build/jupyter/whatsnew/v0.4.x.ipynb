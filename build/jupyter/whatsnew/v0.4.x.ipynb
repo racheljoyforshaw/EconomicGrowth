{
 "cells": [
  {
   "cell_type": "markdown",
   "metadata": {},
   "source": [
    "\n",
    "<a id='whatsnew-04x'></a>"
   ]
  },
  {
   "cell_type": "markdown",
   "metadata": {},
   "source": [
    "# v.0.4.1 through v0.4.3 (September 25 - October 9, 2011)\n",
    "\n",
    "{{ header }}"
   ]
  },
  {
   "cell_type": "markdown",
   "metadata": {},
   "source": [
    "## New features\n",
    "\n",
    "- Added Python 3 support using 2to3 ([GH200](https://github.com/pandas-dev/pandas/issues/200))  \n",
    "- [Added](getting_started/dsintro.ipynb#dsintro-name-attribute) `name` attribute to `Series`, now\n",
    "  prints as part of `Series.__repr__`  \n",
    "- [Added](user_guide/missing_data.ipynb#missing-isna) instance methods `isnull` and `notnull` to\n",
    "  Series ([GH209](https://github.com/pandas-dev/pandas/issues/209), [GH203](https://github.com/pandas-dev/pandas/issues/203))  \n",
    "- [Added](getting_started/basics.ipynb#basics-align) `Series.align` method for aligning two series\n",
    "  with choice of join method ([ENH56](https://github.com/pandas-dev/pandas/commit/56e0c9ffafac79ce262b55a6a13e1b10a88fbe93))  \n",
    "- [Added](user_guide/advanced.ipynb#advanced-get-level-values) method `get_level_values` to\n",
    "  `MultiIndex` ([GH188](https://github.com/pandas-dev/pandas/issues/188))  \n",
    "- Set values in mixed-type `DataFrame` objects via `.ix` indexing attribute ([GH135](https://github.com/pandas-dev/pandas/issues/135))  \n",
    "- Added new `DataFrame` [methods](getting_started/basics.ipynb#basics-dtypes)\n",
    "  `get_dtype_counts` and property `dtypes` ([ENHdc](https://github.com/pandas-dev/pandas/commit/dca3c5c5a6a3769ee01465baca04cfdfa66a4f76))  \n",
    "- Added [ignore_index](user_guide/merging.ipynb#merging-ignore-index) option to\n",
    "  `DataFrame.append` to stack DataFrames ([ENH1b](https://github.com/pandas-dev/pandas/commit/1ba56251f0013ff7cd8834e9486cef2b10098371))  \n",
    "- `read_csv` tries to [sniff](user_guide/io.ipynb#io-sniff) delimiters using\n",
    "  `csv.Sniffer` ([GH146](https://github.com/pandas-dev/pandas/issues/146))  \n",
    "- `read_csv` can [read](user_guide/io.ipynb#io-csv-multiindex) multiple columns into a\n",
    "  `MultiIndex`; DataFrame’s `to_csv` method writes out a corresponding\n",
    "  `MultiIndex` ([GH151](https://github.com/pandas-dev/pandas/issues/151))  \n",
    "- `DataFrame.rename` has a new `copy` parameter to [rename](getting_started/basics.ipynb#basics-rename) a DataFrame in place ([ENHed](https://github.com/pandas-dev/pandas/commit/edd9f1945fc010a57fa0ae3b3444d1fffe592591))  \n",
    "- [Enable](user_guide/reshaping.ipynb#reshaping-unstack-by-name) unstacking by name ([GH142](https://github.com/pandas-dev/pandas/issues/142))  \n",
    "- [Enable](user_guide/advanced.ipynb#advanced-sortlevel-byname) `sortlevel` to work by level ([GH141](https://github.com/pandas-dev/pandas/issues/141))  "
   ]
  },
  {
   "cell_type": "markdown",
   "metadata": {},
   "source": [
    "## Performance enhancements\n",
    "\n",
    "- Altered binary operations on differently-indexed SparseSeries objects\n",
    "  to use the integer-based (dense) alignment logic which is faster with a\n",
    "  larger number of blocks ([GH205](https://github.com/pandas-dev/pandas/issues/205))  \n",
    "- Wrote faster Cython data alignment / merging routines resulting in\n",
    "  substantial speed increases  \n",
    "- Improved performance of `isnull` and `notnull`, a regression from v0.3.0\n",
    "  ([GH187](https://github.com/pandas-dev/pandas/issues/187))  \n",
    "- Refactored code related to `DataFrame.join` so that intermediate aligned\n",
    "  copies of the data in each `DataFrame` argument do not need to be created.\n",
    "  Substantial performance increases result ([GH176](https://github.com/pandas-dev/pandas/issues/176))  \n",
    "- Substantially improved performance of generic `Index.intersection` and\n",
    "  `Index.union`  \n",
    "- Implemented `BlockManager.take` resulting in significantly faster `take`\n",
    "  performance on mixed-type `DataFrame` objects ([GH104](https://github.com/pandas-dev/pandas/issues/104))  \n",
    "- Improved performance of `Series.sort_index`  \n",
    "- Significant groupby performance enhancement: removed unnecessary integrity\n",
    "  checks in DataFrame internals that were slowing down slicing operations to\n",
    "  retrieve groups  \n",
    "- Optimized `_ensure_index` function resulting in performance savings in\n",
    "  type-checking Index objects  \n",
    "- Wrote fast time series merging / joining methods in Cython. Will be\n",
    "  integrated later into DataFrame.join and related functions  "
   ]
  },
  {
   "cell_type": "markdown",
   "metadata": {},
   "source": [
    "## Contributors\n",
    "\n",
    "A total of 2 people contributed patches to this release.  People with a\n",
    "“+” by their names contributed a patch for the first time.\n",
    "\n",
    "\n",
    "- Thomas Kluyver +  \n",
    "- Wes McKinney  "
   ]
  }
 ],
 "metadata": {
  "filename": "v0.4.x.rst",
  "kernelspec": {
   "display_name": "Python",
   "language": "python3",
   "name": "python3"
  },
  "title": "v.0.4.1 through v0.4.3 (September 25 - October 9, 2011)"
 },
 "nbformat": 4,
 "nbformat_minor": 2
}