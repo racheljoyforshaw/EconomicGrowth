{
 "cells": [
  {
   "cell_type": "markdown",
   "metadata": {},
   "source": [
    "\n",
    "<a id='whatsnew-0234'></a>"
   ]
  },
  {
   "cell_type": "markdown",
   "metadata": {},
   "source": [
    "# What’s new in 0.23.4 (August 3, 2018)\n",
    "\n",
    "{{ header }}\n",
    "\n",
    "This is a minor bug-fix release in the 0.23.x series and includes some small regression fixes\n",
    "and bug fixes. We recommend that all users upgrade to this version.\n",
    "\n",
    "Starting January 1, 2019, pandas feature releases will support Python 3 only.\n",
    "See [Plan for dropping Python 2.7](install.ipynb#install-dropping-27) for more."
   ]
  },
  {
   "cell_type": "markdown",
   "metadata": {},
   "source": [
    "## What’s new in v0.23.4\n",
    "\n",
    "- [Fixed regressions](#Fixed-regressions)  \n",
    "- [Bug fixes](#Bug-fixes)  \n",
    "- [Contributors](#Contributors)  "
   ]
  },
  {
   "cell_type": "markdown",
   "metadata": {},
   "source": [
    "\n",
    "<a id='whatsnew-0234-fixed-regressions'></a>"
   ]
  },
  {
   "cell_type": "markdown",
   "metadata": {},
   "source": [
    "## Fixed regressions\n",
    "\n",
    "- Python 3.7 with Windows gave all missing values for rolling variance calculations ([GH21813](https://github.com/pandas-dev/pandas/issues/21813))  \n",
    "\n",
    "\n",
    "\n",
    "<a id='whatsnew-0234-bug-fixes'></a>"
   ]
  },
  {
   "cell_type": "markdown",
   "metadata": {},
   "source": [
    "## Bug fixes\n",
    "\n",
    "**Groupby/resample/rolling**\n",
    "\n",
    "- Bug where calling `DataFrameGroupBy.agg()` with a list of functions including `ohlc` as the non-initial element would raise a `ValueError` ([GH21716](https://github.com/pandas-dev/pandas/issues/21716))  \n",
    "- Bug in `roll_quantile` caused a memory leak when calling `.rolling(...).quantile(q)` with `q` in (0,1) ([GH21965](https://github.com/pandas-dev/pandas/issues/21965))  \n",
    "\n",
    "\n",
    "**Missing**\n",
    "\n",
    "- Bug in `Series.clip()` and `DataFrame.clip()` cannot accept list-like threshold containing `NaN` ([GH19992](https://github.com/pandas-dev/pandas/issues/19992))  \n",
    "\n",
    "\n",
    "\n",
    "<a id='whatsnew-0-23-4-contributors'></a>"
   ]
  },
  {
   "cell_type": "markdown",
   "metadata": {},
   "source": [
    "## Contributors\n",
    "\n",
    "A total of 6 people contributed patches to this release.  People with a\n",
    "“+” by their names contributed a patch for the first time.\n",
    "\n",
    "\n",
    "- Jeff Reback  \n",
    "- MeeseeksMachine +  \n",
    "- Tom Augspurger  \n",
    "- chris-b1  \n",
    "- h-vetinari  \n",
    "- meeseeksdev[bot]  "
   ]
  }
 ],
 "metadata": {
  "filename": "v0.23.4.rst",
  "kernelspec": {
   "display_name": "Python",
   "language": "python3",
   "name": "python3"
  },
  "title": "What’s new in 0.23.4 (August 3, 2018)"
 },
 "nbformat": 4,
 "nbformat_minor": 2
}