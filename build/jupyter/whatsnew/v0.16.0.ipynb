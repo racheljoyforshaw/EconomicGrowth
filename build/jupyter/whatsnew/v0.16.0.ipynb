{
 "cells": [
  {
   "cell_type": "markdown",
   "metadata": {},
   "source": [
    "\n",
    "<a id='whatsnew-0160'></a>"
   ]
  },
  {
   "cell_type": "markdown",
   "metadata": {},
   "source": [
    "# v0.16.0 (March 22, 2015)\n",
    "\n",
    "{{ header }}\n",
    "\n",
    "This is a major release from 0.15.2 and includes a small number of API changes, several new features,\n",
    "enhancements, and performance improvements along with a large number of bug fixes. We recommend that all\n",
    "users upgrade to this version.\n",
    "\n",
    "Highlights include:\n",
    "\n",
    "- `DataFrame.assign` method, see [here](#whatsnew-0160-enhancements-assign)  \n",
    "- `Series.to_coo/from_coo` methods to interact with `scipy.sparse`, see [here](#whatsnew-0160-enhancements-sparse)  \n",
    "- Backwards incompatible change to `Timedelta` to conform the `.seconds` attribute with `datetime.timedelta`, see [here](#whatsnew-0160-api-breaking-timedelta)  \n",
    "- Changes to the `.loc` slicing API to conform with the behavior of `.ix` see [here](#whatsnew-0160-api-breaking-indexing)  \n",
    "- Changes to the default for ordering in the `Categorical` constructor, see [here](#whatsnew-0160-api-breaking-categorical)  \n",
    "- Enhancement to the `.str` accessor to make string operations easier, see [here](#whatsnew-0160-enhancements-string)  \n",
    "- The `pandas.tools.rplot`, `pandas.sandbox.qtpandas` and `pandas.rpy`\n",
    "  modules are deprecated. We refer users to external packages like\n",
    "  [seaborn](http://stanford.edu/~mwaskom/software/seaborn/),\n",
    "  [pandas-qt](https://github.com/datalyze-solutions/pandas-qt) and\n",
    "  [rpy2](http://rpy2.bitbucket.org/) for similar or equivalent\n",
    "  functionality, see [here](#whatsnew-0160-deprecations)  \n",
    "\n",
    "\n",
    "Check the [API Changes](#whatsnew-0160-api) and [deprecations](#whatsnew-0160-deprecations) before updating."
   ]
  },
  {
   "cell_type": "markdown",
   "metadata": {},
   "source": [
    "## What’s new in v0.16.0\n",
    "\n",
    "- [New features](#New-features)  \n",
    "  - [DataFrame assign](#DataFrame-assign)  \n",
    "  - [Interaction with scipy.sparse](#Interaction-with-scipy.sparse)  \n",
    "  - [String methods enhancements](#String-methods-enhancements)  \n",
    "  - [Other enhancements](#Other-enhancements)  \n",
    "- [Backwards incompatible API changes](#Backwards-incompatible-API-changes)  \n",
    "  - [Changes in Timedelta](#Changes-in-Timedelta)  \n",
    "  - [Indexing changes](#Indexing-changes)  \n",
    "  - [Categorical changes](#Categorical-changes)  \n",
    "  - [Other API changes](#Other-API-changes)  \n",
    "  - [Deprecations](#Deprecations)  \n",
    "  - [Removal of prior version deprecations/changes](#Removal-of-prior-version-deprecations/changes)  \n",
    "- [Performance improvements](#Performance-improvements)  \n",
    "- [Bug fixes](#Bug-fixes)  \n",
    "- [Contributors](#Contributors)  "
   ]
  },
  {
   "cell_type": "markdown",
   "metadata": {},
   "source": [
    "\n",
    "<a id='whatsnew-0160-enhancements'></a>"
   ]
  },
  {
   "cell_type": "markdown",
   "metadata": {},
   "source": [
    "## New features\n",
    "\n",
    "\n",
    "<a id='whatsnew-0160-enhancements-assign'></a>"
   ]
  },
  {
   "cell_type": "markdown",
   "metadata": {},
   "source": [
    "### DataFrame assign\n",
    "\n",
    "Inspired by [dplyr’s](https://dplyr.tidyverse.org/articles/dplyr.html#mutating-operations) `mutate` verb, DataFrame has a new\n",
    "`assign()` method.\n",
    "The function signature for `assign` is simply `**kwargs`. The keys\n",
    "are the column names for the new fields, and the values are either a value\n",
    "to be inserted (for example, a `Series` or NumPy array), or a function\n",
    "of one argument to be called on the `DataFrame`. The new values are inserted,\n",
    "and the entire DataFrame (with all original and new columns) is returned.\n",
    "\n",
    "Above was an example of inserting a precomputed value. We can also pass in\n",
    "a function to be evaluated.\n",
    "\n",
    "The power of `assign` comes when used in chains of operations. For example,\n",
    "we can limit the DataFrame to just those with a Sepal Length greater than 5,\n",
    "calculate the ratio, and plot\n",
    "\n",
    "<img src=\"whatsnew/../_static/whatsnew_assign.png\" style=\"width:50%;height:50%\">\n",
    "\n",
    "See the [documentation](getting_started/dsintro.ipynb#dsintro-chained-assignment) for more. ([GH9229](https://github.com/pandas-dev/pandas/issues/9229))\n",
    "\n",
    "\n",
    "<a id='whatsnew-0160-enhancements-sparse'></a>"
   ]
  },
  {
   "cell_type": "markdown",
   "metadata": {},
   "source": [
    "### Interaction with scipy.sparse\n",
    "\n",
    "Added `SparseSeries.to_coo()` and `SparseSeries.from_coo()` methods ([GH8048](https://github.com/pandas-dev/pandas/issues/8048)) for converting to and from `scipy.sparse.coo_matrix` instances (see [here](user_guide/sparse.ipynb#sparse-scipysparse)). For example, given a SparseSeries with MultiIndex we can convert to a scipy.sparse.coo_matrix by specifying the row and column labels as index levels:\n",
    "\n",
    "The from_coo method is a convenience method for creating a `SparseSeries`\n",
    "from a `scipy.sparse.coo_matrix`:\n",
    "\n",
    "\n",
    "<a id='whatsnew-0160-enhancements-string'></a>"
   ]
  },
  {
   "cell_type": "markdown",
   "metadata": {},
   "source": [
    "### String methods enhancements\n",
    "\n",
    "- Following new methods are accessible via `.str` accessor to apply the function to each values. This is intended to make it more consistent with standard methods on strings. ([GH9282](https://github.com/pandas-dev/pandas/issues/9282), [GH9352](https://github.com/pandas-dev/pandas/issues/9352), [GH9386](https://github.com/pandas-dev/pandas/issues/9386), [GH9387](https://github.com/pandas-dev/pandas/issues/9387), [GH9439](https://github.com/pandas-dev/pandas/issues/9439))  \n",
    "    \n",
    "  ``  \n",
    "  ``  \n",
    "  ``  \n",
    "  ``  \n",
    "  ``  \n",
    "  ``  \n",
    "  ``  \n",
    "  ``  \n",
    "  ``  \n",
    "  ``  \n",
    "  ``  \n",
    "  ``  \n",
    "  ``  \n",
    "  ``  \n",
    "  ``  \n",
    "  |||Methods|||\n",
    "  |:-----------:|:-----------:|:-----------:|:-------------:|:-------------:|\n",
    "  |isalnum()|isalpha()|isdigit()|isdigit()|isspace()|\n",
    "  |islower()|isupper()|istitle()|isnumeric()|isdecimal()|\n",
    "  |find()|rfind()|ljust()|rjust()|zfill()|\n",
    "- `Series.str.pad()` and `Series.str.center()` now accept `fillchar` option to specify filling character ([GH9352](https://github.com/pandas-dev/pandas/issues/9352))  \n",
    "- Added `Series.str.slice_replace()`, which previously raised `NotImplementedError` ([GH8888](https://github.com/pandas-dev/pandas/issues/8888))  \n",
    "\n",
    "\n",
    "\n",
    "<a id='whatsnew-0160-enhancements-other'></a>"
   ]
  },
  {
   "cell_type": "markdown",
   "metadata": {},
   "source": [
    "### Other enhancements\n",
    "\n",
    "- Reindex now supports `method='nearest'` for frames or series with a monotonic increasing or decreasing index ([GH9258](https://github.com/pandas-dev/pandas/issues/9258)):  \n",
    "  This method is also exposed by the lower level `Index.get_indexer` and `Index.get_loc` methods.  \n",
    "- The `read_excel()` function’s [sheetname](user_guide/io.ipynb#io-excel-specifying-sheets) argument now accepts a list and `None`, to get multiple or all sheets respectively.  If more than one sheet is specified, a dictionary is returned. ([GH9450](https://github.com/pandas-dev/pandas/issues/9450))  "
   ]
  },
  {
   "cell_type": "code",
   "execution_count": null,
   "metadata": {
    "hide-output": false
   },
   "outputs": [],
   "source": [
    "# Returns the 1st and 4th sheet, as a dictionary of DataFrames.\n",
    "pd.read_excel('path_to_file.xls', sheetname=['Sheet1', 3])"
   ]
  },
  {
   "cell_type": "markdown",
   "metadata": {},
   "source": [
    "- Allow Stata files to be read incrementally with an iterator; support for long strings in Stata files. See the docs [here](user_guide/io.ipynb#io-stata-reader) ([GH9493](https://github.com/pandas-dev/pandas/issues/9493):).  \n",
    "- Paths beginning with ~ will now be expanded to begin with the user’s home directory ([GH9066](https://github.com/pandas-dev/pandas/issues/9066))  \n",
    "- Added time interval selection in `get_data_yahoo` ([GH9071](https://github.com/pandas-dev/pandas/issues/9071))  \n",
    "- Added `Timestamp.to_datetime64()` to complement `Timedelta.to_timedelta64()` ([GH9255](https://github.com/pandas-dev/pandas/issues/9255))  \n",
    "- `tseries.frequencies.to_offset()` now accepts `Timedelta` as input ([GH9064](https://github.com/pandas-dev/pandas/issues/9064))  \n",
    "- Lag parameter was added to the autocorrelation method of `Series`, defaults to lag-1 autocorrelation ([GH9192](https://github.com/pandas-dev/pandas/issues/9192))  \n",
    "- `Timedelta` will now accept `nanoseconds` keyword in constructor ([GH9273](https://github.com/pandas-dev/pandas/issues/9273))  \n",
    "- SQL code now safely escapes table and column names ([GH8986](https://github.com/pandas-dev/pandas/issues/8986))  \n",
    "- Added auto-complete for `Series.str.<tab>`, `Series.dt.<tab>` and `Series.cat.<tab>` ([GH9322](https://github.com/pandas-dev/pandas/issues/9322))  \n",
    "- `Index.get_indexer` now supports `method='pad'` and `method='backfill'` even for any target array, not just monotonic targets. These methods also work for monotonic decreasing as well as monotonic increasing indexes ([GH9258](https://github.com/pandas-dev/pandas/issues/9258)).  \n",
    "- `Index.asof` now works on all index types ([GH9258](https://github.com/pandas-dev/pandas/issues/9258)).  \n",
    "- A `verbose` argument has been augmented in `io.read_excel()`, defaults to False. Set to True to print sheet names as they are parsed. ([GH9450](https://github.com/pandas-dev/pandas/issues/9450))  \n",
    "- Added `days_in_month` (compatibility alias `daysinmonth`) property to `Timestamp`, `DatetimeIndex`, `Period`, `PeriodIndex`, and `Series.dt` ([GH9572](https://github.com/pandas-dev/pandas/issues/9572))  \n",
    "- Added `decimal` option in `to_csv` to provide formatting for non-‘.’ decimal separators ([GH781](https://github.com/pandas-dev/pandas/issues/781))  \n",
    "- Added `normalize` option for `Timestamp` to normalized to midnight ([GH8794](https://github.com/pandas-dev/pandas/issues/8794))  \n",
    "- Added example for `DataFrame` import to R using HDF5 file and `rhdf5`\n",
    "  library. See the [documentation](user_guide/io.ipynb#io-external-compatibility) for more\n",
    "  ([GH9636](https://github.com/pandas-dev/pandas/issues/9636)).  \n",
    "\n",
    "\n",
    "\n",
    "<a id='whatsnew-0160-api'></a>"
   ]
  },
  {
   "cell_type": "markdown",
   "metadata": {},
   "source": [
    "## Backwards incompatible API changes\n",
    "\n",
    "\n",
    "<a id='whatsnew-0160-api-breaking'></a>\n",
    "\n",
    "<a id='whatsnew-0160-api-breaking-timedelta'></a>"
   ]
  },
  {
   "cell_type": "markdown",
   "metadata": {},
   "source": [
    "### Changes in Timedelta\n",
    "\n",
    "In v0.15.0 a new scalar type `Timedelta` was introduced, that is a\n",
    "sub-class of `datetime.timedelta`. Mentioned [here](v0.15.0#whatsnew-0150-timedeltaindex) was a notice of an API change w.r.t. the `.seconds` accessor. The intent was to provide a user-friendly set of accessors that give the ‘natural’ value for that unit, e.g. if you had a `Timedelta('1 day, 10:11:12')`, then `.seconds` would return 12. However, this is at odds with the definition of `datetime.timedelta`, which defines `.seconds` as `10 * 3600 + 11 * 60 + 12 == 36672`.\n",
    "\n",
    "So in v0.16.0, we are restoring the API to match that of `datetime.timedelta`. Further, the component values are still available through the `.components` accessor. This affects the `.seconds` and `.microseconds` accessors, and removes the `.hours`, `.minutes`, `.milliseconds` accessors. These changes affect `TimedeltaIndex` and the Series `.dt` accessor as well. ([GH9185](https://github.com/pandas-dev/pandas/issues/9185), [GH9139](https://github.com/pandas-dev/pandas/issues/9139))\n",
    "\n",
    "Previous behavior"
   ]
  },
  {
   "cell_type": "markdown",
   "metadata": {
    "hide-output": false
   },
   "source": [
    "```ipython\n",
    "In [2]: t = pd.Timedelta('1 day, 10:11:12.100123')\n",
    "\n",
    "In [3]: t.days\n",
    "Out[3]: 1\n",
    "\n",
    "In [4]: t.seconds\n",
    "Out[4]: 12\n",
    "\n",
    "In [5]: t.microseconds\n",
    "Out[5]: 123\n",
    "```\n"
   ]
  },
  {
   "cell_type": "markdown",
   "metadata": {},
   "source": [
    "New behavior\n",
    "\n",
    "Using `.components` allows the full component access\n",
    "\n",
    "\n",
    "<a id='whatsnew-0160-api-breaking-indexing'></a>"
   ]
  },
  {
   "cell_type": "markdown",
   "metadata": {},
   "source": [
    "### Indexing changes\n",
    "\n",
    "The behavior of a small sub-set of edge cases for using `.loc` have changed ([GH8613](https://github.com/pandas-dev/pandas/issues/8613)). Furthermore we have improved the content of the error messages that are raised:\n",
    "\n",
    "- Slicing with `.loc` where the start and/or stop bound is not found in the index is now allowed; this previously would raise a `KeyError`. This makes the behavior the same as `.ix` in this case. This change is only for slicing, not when indexing with a single label.  \n",
    "Previous behavior  "
   ]
  },
  {
   "cell_type": "markdown",
   "metadata": {
    "hide-output": false
   },
   "source": [
    "```ipython\n",
    "In [4]: df.loc['2013-01-02':'2013-01-10']\n",
    "KeyError: 'stop bound [2013-01-10] is not in the [index]'\n",
    "\n",
    "In [6]: s.loc[-10:3]\n",
    "KeyError: 'start bound [-10] is not the [index]'\n",
    "```\n"
   ]
  },
  {
   "cell_type": "markdown",
   "metadata": {},
   "source": [
    "New behavior  \n",
    "- Allow slicing with float-like values on an integer index for `.ix`. Previously this was only enabled for `.loc`:  \n",
    "Previous behavior  "
   ]
  },
  {
   "cell_type": "markdown",
   "metadata": {
    "hide-output": false
   },
   "source": [
    "```ipython\n",
    "In [8]: s.ix[-1.0:2]\n",
    "TypeError: the slice start value [-1.0] is not a proper indexer for this index type (Int64Index)\n",
    "```\n"
   ]
  },
  {
   "cell_type": "markdown",
   "metadata": {},
   "source": [
    "New behavior  "
   ]
  },
  {
   "cell_type": "code",
   "execution_count": null,
   "metadata": {
    "hide-output": false
   },
   "outputs": [],
   "source": [
    "In [2]: s.ix[-1.0:2]\n",
    "Out[2]:\n",
    "-1    1\n",
    " 1    2\n",
    " 2    3\n",
    "dtype: int64"
   ]
  },
  {
   "cell_type": "markdown",
   "metadata": {},
   "source": [
    "- Provide a useful exception for indexing with an invalid type for that index when using `.loc`. For example trying to use `.loc` on an index of type `DatetimeIndex` or `PeriodIndex` or `TimedeltaIndex`, with an integer (or a float).  \n",
    "Previous behavior  "
   ]
  },
  {
   "cell_type": "code",
   "execution_count": null,
   "metadata": {
    "hide-output": false
   },
   "outputs": [],
   "source": [
    "In [4]: df.loc[2:3]\n",
    "KeyError: 'start bound [2] is not the [index]'"
   ]
  },
  {
   "cell_type": "markdown",
   "metadata": {},
   "source": [
    "New behavior  "
   ]
  },
  {
   "cell_type": "markdown",
   "metadata": {
    "hide-output": false
   },
   "source": [
    "```ipython\n",
    "In [4]: df.loc[2:3]\n",
    "TypeError: Cannot do slice indexing on <class 'pandas.tseries.index.DatetimeIndex'> with <type 'int'> keys\n",
    "```\n"
   ]
  },
  {
   "cell_type": "markdown",
   "metadata": {},
   "source": [
    "\n",
    "\n",
    "\n",
    "<a id='whatsnew-0160-api-breaking-categorical'></a>"
   ]
  },
  {
   "cell_type": "markdown",
   "metadata": {},
   "source": [
    "### Categorical changes\n",
    "\n",
    "In prior versions, `Categoricals` that had an unspecified ordering (meaning no `ordered` keyword was passed) were defaulted as `ordered` Categoricals. Going forward, the `ordered` keyword in the `Categorical` constructor will default to `False`. Ordering must now be explicit.\n",
    "\n",
    "Furthermore, previously you *could* change the `ordered` attribute of a Categorical by just setting the attribute, e.g. `cat.ordered=True`; This is now deprecated and you should use `cat.as_ordered()` or `cat.as_unordered()`. These will by default return a **new** object and not modify the existing object. ([GH9347](https://github.com/pandas-dev/pandas/issues/9347), [GH9190](https://github.com/pandas-dev/pandas/issues/9190))\n",
    "\n",
    "Previous behavior"
   ]
  },
  {
   "cell_type": "markdown",
   "metadata": {
    "hide-output": false
   },
   "source": [
    "```ipython\n",
    "In [3]: s = pd.Series([0, 1, 2], dtype='category')\n",
    "\n",
    "In [4]: s\n",
    "Out[4]:\n",
    "0    0\n",
    "1    1\n",
    "2    2\n",
    "dtype: category\n",
    "Categories (3, int64): [0 < 1 < 2]\n",
    "\n",
    "In [5]: s.cat.ordered\n",
    "Out[5]: True\n",
    "\n",
    "In [6]: s.cat.ordered = False\n",
    "\n",
    "In [7]: s\n",
    "Out[7]:\n",
    "0    0\n",
    "1    1\n",
    "2    2\n",
    "dtype: category\n",
    "Categories (3, int64): [0, 1, 2]\n",
    "```\n"
   ]
  },
  {
   "cell_type": "markdown",
   "metadata": {},
   "source": [
    "New behavior\n",
    "\n",
    "For ease of creation of series of categorical data, we have added the ability to pass keywords when calling `.astype()`. These are passed directly to the constructor."
   ]
  },
  {
   "cell_type": "code",
   "execution_count": null,
   "metadata": {
    "hide-output": false
   },
   "outputs": [],
   "source": [
    "In [54]: s = pd.Series([\"a\", \"b\", \"c\", \"a\"]).astype('category', ordered=True)\n",
    "\n",
    "In [55]: s\n",
    "Out[55]:\n",
    "0    a\n",
    "1    b\n",
    "2    c\n",
    "3    a\n",
    "dtype: category\n",
    "Categories (3, object): [a < b < c]\n",
    "\n",
    "In [56]: s = (pd.Series([\"a\", \"b\", \"c\", \"a\"])\n",
    "   ....:        .astype('category', categories=list('abcdef'), ordered=False))\n",
    "\n",
    "In [57]: s\n",
    "Out[57]:\n",
    "0    a\n",
    "1    b\n",
    "2    c\n",
    "3    a\n",
    "dtype: category\n",
    "Categories (6, object): [a, b, c, d, e, f]"
   ]
  },
  {
   "cell_type": "markdown",
   "metadata": {},
   "source": [
    "\n",
    "<a id='whatsnew-0160-api-breaking-other'></a>"
   ]
  },
  {
   "cell_type": "markdown",
   "metadata": {},
   "source": [
    "### Other API changes\n",
    "\n",
    "- `Index.duplicated` now returns `np.array(dtype=bool)` rather than `Index(dtype=object)` containing `bool` values. ([GH8875](https://github.com/pandas-dev/pandas/issues/8875))  \n",
    "- `DataFrame.to_json` now returns accurate type serialisation for each column for frames of mixed dtype ([GH9037](https://github.com/pandas-dev/pandas/issues/9037))  \n",
    "Previously data was coerced to a common dtype before serialisation, which for\n",
    "example resulted in integers being serialised to floats:  "
   ]
  },
  {
   "cell_type": "markdown",
   "metadata": {
    "hide-output": false
   },
   "source": [
    "```ipython\n",
    "In [2]: pd.DataFrame({'i': [1,2], 'f': [3.0, 4.2]}).to_json()\n",
    "Out[2]: '{\"f\":{\"0\":3.0,\"1\":4.2},\"i\":{\"0\":1.0,\"1\":2.0}}'\n",
    "```\n"
   ]
  },
  {
   "cell_type": "markdown",
   "metadata": {},
   "source": [
    "Now each column is serialised using its correct dtype:  "
   ]
  },
  {
   "cell_type": "markdown",
   "metadata": {
    "hide-output": false
   },
   "source": [
    "```ipython\n",
    "In [2]:  pd.DataFrame({'i': [1,2], 'f': [3.0, 4.2]}).to_json()\n",
    "Out[2]: '{\"f\":{\"0\":3.0,\"1\":4.2},\"i\":{\"0\":1,\"1\":2}}'\n",
    "```\n"
   ]
  },
  {
   "cell_type": "markdown",
   "metadata": {},
   "source": [
    "- `DatetimeIndex`, `PeriodIndex` and `TimedeltaIndex.summary` now output the same format. ([GH9116](https://github.com/pandas-dev/pandas/issues/9116))  \n",
    "- `TimedeltaIndex.freqstr` now output the same string format as `DatetimeIndex`. ([GH9116](https://github.com/pandas-dev/pandas/issues/9116))  \n",
    "- Bar and horizontal bar plots no longer add a dashed line along the info axis. The prior style can be achieved with matplotlib’s `axhline` or `axvline` methods ([GH9088](https://github.com/pandas-dev/pandas/issues/9088)).  \n",
    "- `Series` accessors `.dt`, `.cat` and `.str` now raise `AttributeError` instead of `TypeError` if the series does not contain the appropriate type of data ([GH9617](https://github.com/pandas-dev/pandas/issues/9617)). This follows Python’s built-in exception hierarchy more closely and ensures that tests like `hasattr(s, 'cat')` are consistent on both Python 2 and 3.  \n",
    "- `Series` now supports bitwise operation for integral types ([GH9016](https://github.com/pandas-dev/pandas/issues/9016)). Previously even if the input dtypes were integral, the output dtype was coerced to `bool`.  \n",
    "Previous behavior  "
   ]
  },
  {
   "cell_type": "markdown",
   "metadata": {
    "hide-output": false
   },
   "source": [
    "```ipython\n",
    "In [2]: pd.Series([0, 1, 2, 3], list('abcd')) | pd.Series([4, 4, 4, 4], list('abcd'))\n",
    "Out[2]:\n",
    "a    True\n",
    "b    True\n",
    "c    True\n",
    "d    True\n",
    "dtype: bool\n",
    "```\n"
   ]
  },
  {
   "cell_type": "markdown",
   "metadata": {},
   "source": [
    "New behavior. If the input dtypes are integral, the output dtype is also integral and the output\n",
    "values are the result of the bitwise operation.  "
   ]
  },
  {
   "cell_type": "markdown",
   "metadata": {
    "hide-output": false
   },
   "source": [
    "```ipython\n",
    "In [2]: pd.Series([0, 1, 2, 3], list('abcd')) | pd.Series([4, 4, 4, 4], list('abcd'))\n",
    "Out[2]:\n",
    "a    4\n",
    "b    5\n",
    "c    6\n",
    "d    7\n",
    "dtype: int64\n",
    "```\n"
   ]
  },
  {
   "cell_type": "markdown",
   "metadata": {},
   "source": [
    "- During division involving a `Series` or `DataFrame`, `0/0` and `0//0` now give `np.nan` instead of `np.inf`. ([GH9144](https://github.com/pandas-dev/pandas/issues/9144), [GH8445](https://github.com/pandas-dev/pandas/issues/8445))  \n",
    "Previous behavior  "
   ]
  },
  {
   "cell_type": "markdown",
   "metadata": {
    "hide-output": false
   },
   "source": [
    "```ipython\n",
    "In [2]: p = pd.Series([0, 1])\n",
    "\n",
    "In [3]: p / 0\n",
    "Out[3]:\n",
    "0    inf\n",
    "1    inf\n",
    "dtype: float64\n",
    "\n",
    "In [4]: p // 0\n",
    "Out[4]:\n",
    "0    inf\n",
    "1    inf\n",
    "dtype: float64\n",
    "```\n"
   ]
  },
  {
   "cell_type": "markdown",
   "metadata": {},
   "source": [
    "New behavior  \n",
    "- `Series.values_counts` and `Series.describe` for categorical data will now put `NaN` entries at the end. ([GH9443](https://github.com/pandas-dev/pandas/issues/9443))  \n",
    "- `Series.describe` for categorical data will now give counts and frequencies of 0, not `NaN`, for unused categories ([GH9443](https://github.com/pandas-dev/pandas/issues/9443))  \n",
    "- Due to a bug fix, looking up a partial string label with `DatetimeIndex.asof` now includes values that match the string, even if they are after the start of the partial string label ([GH9258](https://github.com/pandas-dev/pandas/issues/9258)).  \n",
    "Old behavior:  "
   ]
  },
  {
   "cell_type": "markdown",
   "metadata": {
    "hide-output": false
   },
   "source": [
    "```ipython\n",
    "In [4]: pd.to_datetime(['2000-01-31', '2000-02-28']).asof('2000-02')\n",
    "Out[4]: Timestamp('2000-01-31 00:00:00')\n",
    "```\n"
   ]
  },
  {
   "cell_type": "markdown",
   "metadata": {},
   "source": [
    "Fixed behavior:  \n",
    "To reproduce the old behavior, simply add more precision to the label (e.g., use `2000-02-01` instead of `2000-02`).  \n",
    "\n",
    "\n",
    "\n",
    "<a id='whatsnew-0160-deprecations'></a>"
   ]
  },
  {
   "cell_type": "markdown",
   "metadata": {},
   "source": [
    "### Deprecations\n",
    "\n",
    "- The `rplot` trellis plotting interface is deprecated and will be removed\n",
    "  in a future version. We refer to external packages like\n",
    "  [seaborn](http://stanford.edu/~mwaskom/software/seaborn/) for similar\n",
    "  but more refined functionality ([GH3445](https://github.com/pandas-dev/pandas/issues/3445)).\n",
    "  The documentation includes some examples how to convert your existing code\n",
    "  using `rplot` to seaborn: [rplot docs](user_guide/visualization.ipynb#rplot).  \n",
    "- The `pandas.sandbox.qtpandas` interface is deprecated and will be removed in a future version.\n",
    "  We refer users to the external package [pandas-qt](https://github.com/datalyze-solutions/pandas-qt). ([GH9615](https://github.com/pandas-dev/pandas/issues/9615))  \n",
    "- The `pandas.rpy` interface is deprecated and will be removed in a future version.\n",
    "  Similar functionality can be accessed through the [rpy2](http://rpy2.bitbucket.org/) project ([GH9602](https://github.com/pandas-dev/pandas/issues/9602))  \n",
    "- Adding `DatetimeIndex/PeriodIndex` to another `DatetimeIndex/PeriodIndex` is being deprecated as a set-operation. This will be changed to a `TypeError` in a future version. `.union()` should be used for the union set operation. ([GH9094](https://github.com/pandas-dev/pandas/issues/9094))  \n",
    "- Subtracting `DatetimeIndex/PeriodIndex` from another `DatetimeIndex/PeriodIndex` is being deprecated as a set-operation. This will be changed to an actual numeric subtraction yielding a `TimeDeltaIndex` in a future version. `.difference()` should be used for the differencing set operation. ([GH9094](https://github.com/pandas-dev/pandas/issues/9094))  \n",
    "\n",
    "\n",
    "\n",
    "<a id='whatsnew-0160-prior-deprecations'></a>"
   ]
  },
  {
   "cell_type": "markdown",
   "metadata": {},
   "source": [
    "### Removal of prior version deprecations/changes\n",
    "\n",
    "- `DataFrame.pivot_table` and `crosstab`’s `rows` and `cols` keyword arguments were removed in favor\n",
    "  of `index` and `columns` ([GH6581](https://github.com/pandas-dev/pandas/issues/6581))  \n",
    "- `DataFrame.to_excel` and `DataFrame.to_csv` `cols` keyword argument was removed in favor of `columns` ([GH6581](https://github.com/pandas-dev/pandas/issues/6581))  \n",
    "- Removed `convert_dummies` in favor of `get_dummies` ([GH6581](https://github.com/pandas-dev/pandas/issues/6581))  \n",
    "- Removed `value_range` in favor of `describe` ([GH6581](https://github.com/pandas-dev/pandas/issues/6581))  \n",
    "\n",
    "\n",
    "\n",
    "<a id='whatsnew-0160-performance'></a>"
   ]
  },
  {
   "cell_type": "markdown",
   "metadata": {},
   "source": [
    "## Performance improvements\n",
    "\n",
    "- Fixed a performance regression for `.loc` indexing with an array or list-like ([GH9126](https://github.com/pandas-dev/pandas/issues/9126):).  \n",
    "- `DataFrame.to_json` 30x performance improvement for mixed dtype frames. ([GH9037](https://github.com/pandas-dev/pandas/issues/9037))  \n",
    "- Performance improvements in `MultiIndex.duplicated` by working with labels instead of values ([GH9125](https://github.com/pandas-dev/pandas/issues/9125))  \n",
    "- Improved the speed of `nunique` by calling `unique` instead of `value_counts` ([GH9129](https://github.com/pandas-dev/pandas/issues/9129), [GH7771](https://github.com/pandas-dev/pandas/issues/7771))  \n",
    "- Performance improvement of up to 10x in `DataFrame.count` and `DataFrame.dropna` by taking advantage of homogeneous/heterogeneous dtypes appropriately ([GH9136](https://github.com/pandas-dev/pandas/issues/9136))  \n",
    "- Performance improvement of up to 20x in `DataFrame.count` when using a `MultiIndex` and the `level` keyword argument  ([GH9163](https://github.com/pandas-dev/pandas/issues/9163))  \n",
    "- Performance and memory usage improvements in `merge` when key space exceeds `int64` bounds ([GH9151](https://github.com/pandas-dev/pandas/issues/9151))  \n",
    "- Performance improvements in multi-key `groupby` ([GH9429](https://github.com/pandas-dev/pandas/issues/9429))  \n",
    "- Performance improvements in `MultiIndex.sortlevel` ([GH9445](https://github.com/pandas-dev/pandas/issues/9445))  \n",
    "- Performance and memory usage improvements in `DataFrame.duplicated` ([GH9398](https://github.com/pandas-dev/pandas/issues/9398))  \n",
    "- Cythonized `Period` ([GH9440](https://github.com/pandas-dev/pandas/issues/9440))  \n",
    "- Decreased memory usage on `to_hdf` ([GH9648](https://github.com/pandas-dev/pandas/issues/9648))  \n",
    "\n",
    "\n",
    "\n",
    "<a id='whatsnew-0160-bug-fixes'></a>"
   ]
  },
  {
   "cell_type": "markdown",
   "metadata": {},
   "source": [
    "## Bug fixes\n",
    "\n",
    "- Changed `.to_html` to remove leading/trailing spaces in table body ([GH4987](https://github.com/pandas-dev/pandas/issues/4987))  \n",
    "- Fixed issue using `read_csv` on s3 with Python 3 ([GH9452](https://github.com/pandas-dev/pandas/issues/9452))  \n",
    "- Fixed compatibility issue in `DatetimeIndex` affecting architectures where `numpy.int_` defaults to `numpy.int32` ([GH8943](https://github.com/pandas-dev/pandas/issues/8943))  \n",
    "- Bug in Panel indexing with an object-like ([GH9140](https://github.com/pandas-dev/pandas/issues/9140))  \n",
    "- Bug in the returned `Series.dt.components` index was reset to the default index ([GH9247](https://github.com/pandas-dev/pandas/issues/9247))  \n",
    "- Bug in `Categorical.__getitem__/__setitem__` with listlike input getting incorrect results from indexer coercion ([GH9469](https://github.com/pandas-dev/pandas/issues/9469))  \n",
    "- Bug in partial setting with a DatetimeIndex ([GH9478](https://github.com/pandas-dev/pandas/issues/9478))  \n",
    "- Bug in groupby for integer and datetime64 columns when applying an aggregator that caused the value to be\n",
    "  changed when the number was sufficiently large ([GH9311](https://github.com/pandas-dev/pandas/issues/9311), [GH6620](https://github.com/pandas-dev/pandas/issues/6620))  \n",
    "- Fixed bug in `to_sql` when mapping a `Timestamp` object column (datetime\n",
    "  column with timezone info) to the appropriate sqlalchemy type ([GH9085](https://github.com/pandas-dev/pandas/issues/9085)).  \n",
    "- Fixed bug in `to_sql` `dtype` argument not accepting an instantiated\n",
    "  SQLAlchemy type  ([GH9083](https://github.com/pandas-dev/pandas/issues/9083)).  \n",
    "- Bug in `.loc` partial setting with a `np.datetime64` ([GH9516](https://github.com/pandas-dev/pandas/issues/9516))  \n",
    "- Incorrect dtypes inferred on datetimelike looking `Series` & on `.xs` slices ([GH9477](https://github.com/pandas-dev/pandas/issues/9477))  \n",
    "- Items in `Categorical.unique()` (and `s.unique()` if `s` is of dtype `category`) now appear in the order in which they are originally found, not in sorted order ([GH9331](https://github.com/pandas-dev/pandas/issues/9331)). This is now consistent with the behavior for other dtypes in pandas.  \n",
    "- Fixed bug on big endian platforms which produced incorrect results in `StataReader` ([GH8688](https://github.com/pandas-dev/pandas/issues/8688)).  \n",
    "- Bug in `MultiIndex.has_duplicates` when having many levels causes an indexer overflow ([GH9075](https://github.com/pandas-dev/pandas/issues/9075), [GH5873](https://github.com/pandas-dev/pandas/issues/5873))  \n",
    "- Bug in `pivot` and `unstack` where `nan` values would break index alignment ([GH4862](https://github.com/pandas-dev/pandas/issues/4862), [GH7401](https://github.com/pandas-dev/pandas/issues/7401), [GH7403](https://github.com/pandas-dev/pandas/issues/7403), [GH7405](https://github.com/pandas-dev/pandas/issues/7405), [GH7466](https://github.com/pandas-dev/pandas/issues/7466), [GH9497](https://github.com/pandas-dev/pandas/issues/9497))  \n",
    "- Bug in left `join` on MultiIndex with `sort=True` or null values ([GH9210](https://github.com/pandas-dev/pandas/issues/9210)).  \n",
    "- Bug in `MultiIndex` where inserting new keys would fail ([GH9250](https://github.com/pandas-dev/pandas/issues/9250)).  \n",
    "- Bug in `groupby` when key space exceeds `int64` bounds ([GH9096](https://github.com/pandas-dev/pandas/issues/9096)).  \n",
    "- Bug in `unstack` with `TimedeltaIndex` or `DatetimeIndex` and nulls ([GH9491](https://github.com/pandas-dev/pandas/issues/9491)).  \n",
    "- Bug in `rank` where comparing floats with tolerance will cause inconsistent behaviour ([GH8365](https://github.com/pandas-dev/pandas/issues/8365)).  \n",
    "- Fixed character encoding bug in `read_stata` and `StataReader` when loading data from a URL ([GH9231](https://github.com/pandas-dev/pandas/issues/9231)).  \n",
    "- Bug in adding `offsets.Nano` to other offsets raises `TypeError` ([GH9284](https://github.com/pandas-dev/pandas/issues/9284))  \n",
    "- Bug in `DatetimeIndex` iteration, related to ([GH8890](https://github.com/pandas-dev/pandas/issues/8890)), fixed in ([GH9100](https://github.com/pandas-dev/pandas/issues/9100))  \n",
    "- Bugs in `resample` around DST transitions. This required fixing offset classes so they behave correctly on DST transitions. ([GH5172](https://github.com/pandas-dev/pandas/issues/5172), [GH8744](https://github.com/pandas-dev/pandas/issues/8744), [GH8653](https://github.com/pandas-dev/pandas/issues/8653), [GH9173](https://github.com/pandas-dev/pandas/issues/9173), [GH9468](https://github.com/pandas-dev/pandas/issues/9468)).  \n",
    "- Bug in binary operator method (eg `.mul()`) alignment with integer levels ([GH9463](https://github.com/pandas-dev/pandas/issues/9463)).  \n",
    "- Bug in boxplot, scatter and hexbin plot may show an unnecessary warning ([GH8877](https://github.com/pandas-dev/pandas/issues/8877))  \n",
    "- Bug in subplot with `layout` kw may show unnecessary warning ([GH9464](https://github.com/pandas-dev/pandas/issues/9464))  \n",
    "- Bug in using grouper functions that need passed through arguments (e.g. axis), when using wrapped function (e.g. `fillna`), ([GH9221](https://github.com/pandas-dev/pandas/issues/9221))  \n",
    "- `DataFrame` now properly supports simultaneous `copy` and `dtype` arguments in constructor ([GH9099](https://github.com/pandas-dev/pandas/issues/9099))  \n",
    "- Bug in `read_csv` when using skiprows on a file with CR line endings with the c engine. ([GH9079](https://github.com/pandas-dev/pandas/issues/9079))  \n",
    "- `isnull` now detects `NaT` in `PeriodIndex` ([GH9129](https://github.com/pandas-dev/pandas/issues/9129))  \n",
    "- Bug in groupby `.nth()` with a multiple column groupby ([GH8979](https://github.com/pandas-dev/pandas/issues/8979))  \n",
    "- Bug in `DataFrame.where` and `Series.where` coerce numerics to string incorrectly ([GH9280](https://github.com/pandas-dev/pandas/issues/9280))  \n",
    "- Bug in `DataFrame.where` and `Series.where` raise `ValueError` when string list-like is passed. ([GH9280](https://github.com/pandas-dev/pandas/issues/9280))  \n",
    "- Accessing `Series.str` methods on with non-string values now raises `TypeError` instead of producing incorrect results ([GH9184](https://github.com/pandas-dev/pandas/issues/9184))  \n",
    "- Bug in `DatetimeIndex.__contains__` when index has duplicates and is not monotonic increasing ([GH9512](https://github.com/pandas-dev/pandas/issues/9512))  \n",
    "- Fixed division by zero error for `Series.kurt()` when all values are equal ([GH9197](https://github.com/pandas-dev/pandas/issues/9197))  \n",
    "- Fixed issue in the `xlsxwriter` engine where it added a default ‘General’ format to cells if no other format was applied. This prevented other row or column formatting being applied. ([GH9167](https://github.com/pandas-dev/pandas/issues/9167))  \n",
    "- Fixes issue with `index_col=False` when `usecols` is also specified in `read_csv`. ([GH9082](https://github.com/pandas-dev/pandas/issues/9082))  \n",
    "- Bug where `wide_to_long` would modify the input stub names list ([GH9204](https://github.com/pandas-dev/pandas/issues/9204))  \n",
    "- Bug in `to_sql` not storing float64 values using double precision. ([GH9009](https://github.com/pandas-dev/pandas/issues/9009))  \n",
    "- `SparseSeries` and `SparsePanel` now accept zero argument constructors (same as their non-sparse counterparts) ([GH9272](https://github.com/pandas-dev/pandas/issues/9272)).  \n",
    "- Regression in merging `Categorical` and `object` dtypes ([GH9426](https://github.com/pandas-dev/pandas/issues/9426))  \n",
    "- Bug in `read_csv` with buffer overflows with certain malformed input files ([GH9205](https://github.com/pandas-dev/pandas/issues/9205))  \n",
    "- Bug in groupby MultiIndex with missing pair ([GH9049](https://github.com/pandas-dev/pandas/issues/9049), [GH9344](https://github.com/pandas-dev/pandas/issues/9344))  \n",
    "- Fixed bug in `Series.groupby` where grouping on `MultiIndex` levels would ignore the sort argument ([GH9444](https://github.com/pandas-dev/pandas/issues/9444))  \n",
    "- Fix bug in `DataFrame.Groupby` where `sort=False` is ignored in the case of Categorical columns. ([GH8868](https://github.com/pandas-dev/pandas/issues/8868))  \n",
    "- Fixed bug with reading CSV files from Amazon S3 on python 3 raising a TypeError ([GH9452](https://github.com/pandas-dev/pandas/issues/9452))  \n",
    "- Bug in the Google BigQuery reader where the ‘jobComplete’ key may be present but False in the query results ([GH8728](https://github.com/pandas-dev/pandas/issues/8728))  \n",
    "- Bug in `Series.values_counts` with excluding `NaN` for categorical type `Series` with `dropna=True` ([GH9443](https://github.com/pandas-dev/pandas/issues/9443))  \n",
    "- Fixed missing numeric_only option for `DataFrame.std/var/sem` ([GH9201](https://github.com/pandas-dev/pandas/issues/9201))  \n",
    "- Support constructing `Panel` or `Panel4D` with scalar data ([GH8285](https://github.com/pandas-dev/pandas/issues/8285))  \n",
    "- `Series` text representation disconnected from max_rows/max_columns ([GH7508](https://github.com/pandas-dev/pandas/issues/7508)).  \n",
    "\n",
    "\n",
    "\n",
    "\n",
    "- `Series` number formatting inconsistent when truncated ([GH8532](https://github.com/pandas-dev/pandas/issues/8532)).  \n",
    "Previous behavior  "
   ]
  },
  {
   "cell_type": "code",
   "execution_count": null,
   "metadata": {
    "hide-output": false
   },
   "outputs": [],
   "source": [
    "In [2]: pd.options.display.max_rows = 10\n",
    "In [3]: s = pd.Series([1,1,1,1,1,1,1,1,1,1,0.9999,1,1]*10)\n",
    "In [4]: s\n",
    "Out[4]:\n",
    "0    1\n",
    "1    1\n",
    "2    1\n",
    "...\n",
    "127    0.9999\n",
    "128    1.0000\n",
    "129    1.0000\n",
    "Length: 130, dtype: float64"
   ]
  },
  {
   "cell_type": "markdown",
   "metadata": {},
   "source": [
    "New behavior  "
   ]
  },
  {
   "cell_type": "code",
   "execution_count": null,
   "metadata": {
    "hide-output": false
   },
   "outputs": [],
   "source": [
    "0      1.0000\n",
    "1      1.0000\n",
    "2      1.0000\n",
    "3      1.0000\n",
    "4      1.0000\n",
    "...\n",
    "125    1.0000\n",
    "126    1.0000\n",
    "127    0.9999\n",
    "128    1.0000\n",
    "129    1.0000\n",
    "dtype: float64"
   ]
  },
  {
   "cell_type": "markdown",
   "metadata": {},
   "source": [
    "- A Spurious `SettingWithCopy` Warning was generated when setting a new item in a frame in some cases ([GH8730](https://github.com/pandas-dev/pandas/issues/8730))  \n",
    "  The following would previously report a `SettingWithCopy` Warning.  \n",
    "\n",
    "\n",
    "\n",
    "<a id='whatsnew-0-16-0-contributors'></a>"
   ]
  },
  {
   "cell_type": "markdown",
   "metadata": {},
   "source": [
    "## Contributors\n",
    "\n",
    "A total of 60 people contributed patches to this release.  People with a\n",
    "“+” by their names contributed a patch for the first time.\n",
    "\n",
    "\n",
    "- Aaron Toth +  \n",
    "- Alan Du +  \n",
    "- Alessandro Amici +  \n",
    "- Artemy Kolchinsky  \n",
    "- Ashwini Chaudhary +  \n",
    "- Ben Schiller  \n",
    "- Bill Letson  \n",
    "- Brandon Bradley +  \n",
    "- Chau Hoang +  \n",
    "- Chris Reynolds  \n",
    "- Chris Whelan +  \n",
    "- Christer van der Meeren +  \n",
    "- David Cottrell +  \n",
    "- David Stephens  \n",
    "- Ehsan Azarnasab +  \n",
    "- Garrett-R +  \n",
    "- Guillaume Gay  \n",
    "- Jake Torcasso +  \n",
    "- Jason Sexauer  \n",
    "- Jeff Reback  \n",
    "- John McNamara  \n",
    "- Joris Van den Bossche  \n",
    "- Joschka zur Jacobsmühlen +  \n",
    "- Juarez Bochi +  \n",
    "- Junya Hayashi +  \n",
    "- K.-Michael Aye  \n",
    "- Kerby Shedden +  \n",
    "- Kevin Sheppard  \n",
    "- Kieran O’Mahony  \n",
    "- Kodi Arfer +  \n",
    "- Matti Airas +  \n",
    "- Min RK +  \n",
    "- Mortada Mehyar  \n",
    "- Robert +  \n",
    "- Scott E Lasley  \n",
    "- Scott Lasley +  \n",
    "- Sergio Pascual +  \n",
    "- Skipper Seabold  \n",
    "- Stephan Hoyer  \n",
    "- Thomas Grainger  \n",
    "- Tom Augspurger  \n",
    "- TomAugspurger  \n",
    "- Vladimir Filimonov +  \n",
    "- Vyomkesh Tripathi +  \n",
    "- Will Holmgren  \n",
    "- Yulong Yang +  \n",
    "- behzad nouri  \n",
    "- bertrandhaut +  \n",
    "- bjonen  \n",
    "- cel4 +  \n",
    "- clham  \n",
    "- hsperr +  \n",
    "- ischwabacher  \n",
    "- jnmclarty  \n",
    "- josham +  \n",
    "- jreback  \n",
    "- omtinez +  \n",
    "- roch +  \n",
    "- sinhrks  \n",
    "- unutbu  "
   ]
  }
 ],
 "metadata": {
  "filename": "v0.16.0.rst",
  "kernelspec": {
   "display_name": "Python",
   "language": "python3",
   "name": "python3"
  },
  "title": "v0.16.0 (March 22, 2015)"
 },
 "nbformat": 4,
 "nbformat_minor": 2
}