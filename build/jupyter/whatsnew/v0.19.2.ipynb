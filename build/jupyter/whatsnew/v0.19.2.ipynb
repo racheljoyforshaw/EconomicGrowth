{
 "cells": [
  {
   "cell_type": "markdown",
   "metadata": {},
   "source": [
    "\n",
    "<a id='whatsnew-0192'></a>"
   ]
  },
  {
   "cell_type": "markdown",
   "metadata": {},
   "source": [
    "# v0.19.2 (December 24, 2016)\n",
    "\n",
    "{{ header }}\n",
    "\n",
    "This is a minor bug-fix release in the 0.19.x series and includes some small regression fixes,\n",
    "bug fixes and performance improvements.\n",
    "We recommend that all users upgrade to this version.\n",
    "\n",
    "Highlights include:\n",
    "\n",
    "- Compatibility with Python 3.6  \n",
    "- Added a [Pandas Cheat Sheet](https://github.com/pandas-dev/pandas/tree/master/doc/cheatsheet/Pandas_Cheat_Sheet.pdf). ([GH13202](https://github.com/pandas-dev/pandas/issues/13202)).  "
   ]
  },
  {
   "cell_type": "markdown",
   "metadata": {},
   "source": [
    "## What’s new in v0.19.2\n",
    "\n",
    "- [Enhancements](#Enhancements)  \n",
    "- [Performance improvements](#Performance-improvements)  \n",
    "- [Bug fixes](#Bug-fixes)  \n",
    "- [Contributors](#Contributors)  "
   ]
  },
  {
   "cell_type": "markdown",
   "metadata": {},
   "source": [
    "\n",
    "<a id='whatsnew-0192-enhancements'></a>"
   ]
  },
  {
   "cell_type": "markdown",
   "metadata": {},
   "source": [
    "## Enhancements\n",
    "\n",
    "The `pd.merge_asof()`, added in 0.19.0, gained some improvements:\n",
    "\n",
    "- `pd.merge_asof()` gained `left_index`/`right_index` and `left_by`/`right_by` arguments ([GH14253](https://github.com/pandas-dev/pandas/issues/14253))  \n",
    "- `pd.merge_asof()` can take multiple columns in `by` parameter and has specialized dtypes for better performance ([GH13936](https://github.com/pandas-dev/pandas/issues/13936))  \n",
    "\n",
    "\n",
    "\n",
    "<a id='whatsnew-0192-performance'></a>"
   ]
  },
  {
   "cell_type": "markdown",
   "metadata": {},
   "source": [
    "## Performance improvements\n",
    "\n",
    "- Performance regression with `PeriodIndex` ([GH14822](https://github.com/pandas-dev/pandas/issues/14822))  \n",
    "- Performance regression in indexing with getitem ([GH14930](https://github.com/pandas-dev/pandas/issues/14930))  \n",
    "- Improved performance of `.replace()` ([GH12745](https://github.com/pandas-dev/pandas/issues/12745))  \n",
    "- Improved performance `Series` creation with a datetime index and dictionary data ([GH14894](https://github.com/pandas-dev/pandas/issues/14894))  \n",
    "\n",
    "\n",
    "\n",
    "<a id='whatsnew-0192-bug-fixes'></a>"
   ]
  },
  {
   "cell_type": "markdown",
   "metadata": {},
   "source": [
    "## Bug fixes\n",
    "\n",
    "- Compat with python 3.6 for pickling of some offsets ([GH14685](https://github.com/pandas-dev/pandas/issues/14685))  \n",
    "- Compat with python 3.6 for some indexing exception types ([GH14684](https://github.com/pandas-dev/pandas/issues/14684), [GH14689](https://github.com/pandas-dev/pandas/issues/14689))  \n",
    "- Compat with python 3.6 for deprecation warnings in the test suite ([GH14681](https://github.com/pandas-dev/pandas/issues/14681))  \n",
    "- Compat with python 3.6 for Timestamp pickles ([GH14689](https://github.com/pandas-dev/pandas/issues/14689))  \n",
    "- Compat with `dateutil==2.6.0`; segfault reported in the testing suite ([GH14621](https://github.com/pandas-dev/pandas/issues/14621))  \n",
    "- Allow `nanoseconds` in `Timestamp.replace` as a kwarg ([GH14621](https://github.com/pandas-dev/pandas/issues/14621))  \n",
    "- Bug in `pd.read_csv` in which aliasing was being done for `na_values` when passed in as a dictionary ([GH14203](https://github.com/pandas-dev/pandas/issues/14203))  \n",
    "- Bug in `pd.read_csv` in which column indices for a dict-like `na_values` were not being respected ([GH14203](https://github.com/pandas-dev/pandas/issues/14203))  \n",
    "- Bug in `pd.read_csv` where reading files fails, if the number of headers is equal to the number of lines in the file ([GH14515](https://github.com/pandas-dev/pandas/issues/14515))  \n",
    "- Bug in `pd.read_csv` for the Python engine in which an unhelpful error message was being raised when multi-char delimiters were not being respected with quotes ([GH14582](https://github.com/pandas-dev/pandas/issues/14582))  \n",
    "- Fix bugs ([GH14734](https://github.com/pandas-dev/pandas/issues/14734), [GH13654](https://github.com/pandas-dev/pandas/issues/13654)) in `pd.read_sas` and `pandas.io.sas.sas7bdat.SAS7BDATReader` that caused problems when reading a SAS file incrementally.  \n",
    "- Bug in `pd.read_csv` for the Python engine in which an unhelpful error message was being raised when `skipfooter` was not being respected by Python’s CSV library ([GH13879](https://github.com/pandas-dev/pandas/issues/13879))  \n",
    "- Bug in `.fillna()` in which timezone aware datetime64 values were incorrectly rounded ([GH14872](https://github.com/pandas-dev/pandas/issues/14872))  \n",
    "- Bug in `.groupby(..., sort=True)` of a non-lexsorted MultiIndex when grouping with multiple levels ([GH14776](https://github.com/pandas-dev/pandas/issues/14776))  \n",
    "- Bug in `pd.cut` with negative values and a single bin ([GH14652](https://github.com/pandas-dev/pandas/issues/14652))  \n",
    "- Bug in `pd.to_numeric` where a 0 was not unsigned on a `downcast='unsigned'` argument ([GH14401](https://github.com/pandas-dev/pandas/issues/14401))  \n",
    "- Bug in plotting regular and irregular timeseries using shared axes\n",
    "  (`sharex=True` or `ax.twinx()`) ([GH13341](https://github.com/pandas-dev/pandas/issues/13341), [GH14322](https://github.com/pandas-dev/pandas/issues/14322)).  \n",
    "- Bug in not propagating exceptions in parsing invalid datetimes, noted in python 3.6 ([GH14561](https://github.com/pandas-dev/pandas/issues/14561))  \n",
    "- Bug in resampling a `DatetimeIndex` in local TZ, covering a DST change, which would raise `AmbiguousTimeError` ([GH14682](https://github.com/pandas-dev/pandas/issues/14682))  \n",
    "- Bug in indexing that transformed `RecursionError` into `KeyError` or `IndexingError` ([GH14554](https://github.com/pandas-dev/pandas/issues/14554))  \n",
    "- Bug in `HDFStore` when writing a `MultiIndex` when using `data_columns=True` ([GH14435](https://github.com/pandas-dev/pandas/issues/14435))  \n",
    "- Bug in `HDFStore.append()` when writing a `Series` and passing a `min_itemsize` argument containing a value for the `index` ([GH11412](https://github.com/pandas-dev/pandas/issues/11412))  \n",
    "- Bug when writing to a `HDFStore` in `table` format with a `min_itemsize` value for the `index` and without asking to append ([GH10381](https://github.com/pandas-dev/pandas/issues/10381))  \n",
    "- Bug in `Series.groupby.nunique()` raising an `IndexError` for an empty `Series` ([GH12553](https://github.com/pandas-dev/pandas/issues/12553))  \n",
    "- Bug in `DataFrame.nlargest` and `DataFrame.nsmallest` when the index had duplicate values ([GH13412](https://github.com/pandas-dev/pandas/issues/13412))  \n",
    "- Bug in clipboard functions on linux with python2 with unicode and separators ([GH13747](https://github.com/pandas-dev/pandas/issues/13747))  \n",
    "- Bug in clipboard functions on Windows 10 and python 3 ([GH14362](https://github.com/pandas-dev/pandas/issues/14362), [GH12807](https://github.com/pandas-dev/pandas/issues/12807))  \n",
    "- Bug in `.to_clipboard()` and Excel compat ([GH12529](https://github.com/pandas-dev/pandas/issues/12529))  \n",
    "- Bug in `DataFrame.combine_first()` for integer columns ([GH14687](https://github.com/pandas-dev/pandas/issues/14687)).  \n",
    "- Bug in `pd.read_csv()` in which the `dtype` parameter was not being respected for empty data ([GH14712](https://github.com/pandas-dev/pandas/issues/14712))  \n",
    "- Bug in `pd.read_csv()` in which the `nrows` parameter was not being respected for large input when using the C engine for parsing ([GH7626](https://github.com/pandas-dev/pandas/issues/7626))  \n",
    "- Bug in `pd.merge_asof()` could not handle timezone-aware DatetimeIndex when a tolerance was specified ([GH14844](https://github.com/pandas-dev/pandas/issues/14844))  \n",
    "- Explicit check in `to_stata` and `StataWriter` for out-of-range values when writing doubles ([GH14618](https://github.com/pandas-dev/pandas/issues/14618))  \n",
    "- Bug in `.plot(kind='kde')` which did not drop missing values to generate the KDE Plot, instead generating an empty plot. ([GH14821](https://github.com/pandas-dev/pandas/issues/14821))  \n",
    "- Bug in `unstack()` if called with a list of column(s) as an argument, regardless of the dtypes of all columns, they get coerced to `object` ([GH11847](https://github.com/pandas-dev/pandas/issues/11847))  \n",
    "\n",
    "\n",
    "\n",
    "<a id='whatsnew-0-19-2-contributors'></a>"
   ]
  },
  {
   "cell_type": "markdown",
   "metadata": {},
   "source": [
    "## Contributors\n",
    "\n",
    "A total of 33 people contributed patches to this release.  People with a\n",
    "“+” by their names contributed a patch for the first time.\n",
    "\n",
    "\n",
    "- Ajay Saxena +  \n",
    "- Ben Kandel  \n",
    "- Chris  \n",
    "- Chris Ham +  \n",
    "- Christopher C. Aycock  \n",
    "- Daniel Himmelstein +  \n",
    "- Dave Willmer +  \n",
    "- Dr-Irv  \n",
    "- Jeff Carey +  \n",
    "- Jeff Reback  \n",
    "- Joe Jevnik  \n",
    "- Joris Van den Bossche  \n",
    "- Julian Santander +  \n",
    "- Kerby Shedden  \n",
    "- Keshav Ramaswamy  \n",
    "- Kevin Sheppard  \n",
    "- Luca Scarabello +  \n",
    "- Matt Roeschke +  \n",
    "- Matti Picus +  \n",
    "- Maximilian Roos  \n",
    "- Mykola Golubyev +  \n",
    "- Nate Yoder +  \n",
    "- Nicholas Ver Halen +  \n",
    "- Pawel Kordek  \n",
    "- Pietro Battiston  \n",
    "- Rodolfo Fernandez +  \n",
    "- Tara Adiseshan +  \n",
    "- Tom Augspurger  \n",
    "- Yaroslav Halchenko  \n",
    "- gfyoung  \n",
    "- hesham.shabana@hotmail.com +  \n",
    "- sinhrks  \n",
    "- wandersoncferreira +  "
   ]
  }
 ],
 "metadata": {
  "filename": "v0.19.2.rst",
  "kernelspec": {
   "display_name": "Python",
   "language": "python3",
   "name": "python3"
  },
  "title": "v0.19.2 (December 24, 2016)"
 },
 "nbformat": 4,
 "nbformat_minor": 2
}