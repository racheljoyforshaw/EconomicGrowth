{
 "cells": [
  {
   "cell_type": "markdown",
   "metadata": {},
   "source": [
    "\n",
    "<a id='install'></a>\n",
    "{{ header }}"
   ]
  },
  {
   "cell_type": "markdown",
   "metadata": {},
   "source": [
    "# Installation\n",
    "\n",
    "The easiest way to install pandas is to install it\n",
    "as part of the [Anaconda](http://docs.continuum.io/anaconda/) distribution, a\n",
    "cross platform distribution for data analysis and scientific computing.\n",
    "This is the recommended installation method for most users.\n",
    "\n",
    "Instructions for installing from source,\n",
    "[PyPI](https://pypi.org/project/pandas), [ActivePython](https://www.activestate.com/activepython/downloads), various Linux distributions, or a\n",
    "[development version](http://github.com/pandas-dev/pandas) are also provided.\n",
    "\n",
    "\n",
    "<a id='install-dropping-27'></a>"
   ]
  },
  {
   "cell_type": "markdown",
   "metadata": {},
   "source": [
    "## Plan for dropping Python 2.7\n",
    "\n",
    "The Python core team plans to stop supporting Python 2.7 on January 1st, 2020.\n",
    "In line with [NumPy’s plans](https://github.com/numpy/numpy/blob/master/doc/neps/nep-0014-dropping-python2.7-proposal.rst#plan-for-dropping-python-27-support), all pandas releases through December 31, 2018\n",
    "will support Python 2.\n",
    "\n",
    "The 0.24.x feature release will be the last release to\n",
    "support Python 2. The released package will continue to be available on\n",
    "PyPI and through conda.\n",
    "\n",
    "> Starting **January 1, 2019**, all new feature releases (> 0.24) will be Python 3 only.\n",
    "\n",
    "\n",
    "If there are people interested in continued support for Python 2.7 past December\n",
    "31, 2018 (either backporting bug fixes or funding) please reach out to the\n",
    "maintainers on the issue tracker.\n",
    "\n",
    "For more information, see the [Python 3 statement](http://python3statement.org/) and the [Porting to Python 3 guide](https://docs.python.org/3/howto/pyporting.html)."
   ]
  },
  {
   "cell_type": "markdown",
   "metadata": {},
   "source": [
    "## Python version support\n",
    "\n",
    "Officially Python 2.7, 3.5, 3.6, and 3.7."
   ]
  },
  {
   "cell_type": "markdown",
   "metadata": {},
   "source": [
    "## Installing pandas\n",
    "\n",
    "\n",
    "<a id='install-anaconda'></a>"
   ]
  },
  {
   "cell_type": "markdown",
   "metadata": {},
   "source": [
    "### Installing with Anaconda\n",
    "\n",
    "Installing pandas and the rest of the [NumPy](http://www.numpy.org/) and\n",
    "[SciPy](http://www.scipy.org/) stack can be a little\n",
    "difficult for inexperienced users.\n",
    "\n",
    "The simplest way to install not only pandas, but Python and the most popular\n",
    "packages that make up the [SciPy](http://www.scipy.org/) stack\n",
    "([IPython](http://ipython.org/), [NumPy](http://www.numpy.org/),\n",
    "[Matplotlib](http://matplotlib.org/), …) is with\n",
    "[Anaconda](http://docs.continuum.io/anaconda/), a cross-platform\n",
    "(Linux, Mac OS X, Windows) Python distribution for data analytics and\n",
    "scientific computing.\n",
    "\n",
    "After running the installer, the user will have access to pandas and the\n",
    "rest of the [SciPy](http://www.scipy.org/) stack without needing to install\n",
    "anything else, and without needing to wait for any software to be compiled.\n",
    "\n",
    "Installation instructions for [Anaconda](http://docs.continuum.io/anaconda/)\n",
    "[can be found here](http://docs.continuum.io/anaconda/install.html).\n",
    "\n",
    "A full list of the packages available as part of the\n",
    "[Anaconda](http://docs.continuum.io/anaconda/) distribution\n",
    "[can be found here](http://docs.continuum.io/anaconda/pkg-docs.html).\n",
    "\n",
    "Another advantage to installing Anaconda is that you don’t need\n",
    "admin rights to install it. Anaconda can install in the user’s home directory,\n",
    "which makes it trivial to delete Anaconda if you decide (just delete\n",
    "that folder).\n",
    "\n",
    "\n",
    "<a id='install-miniconda'></a>"
   ]
  },
  {
   "cell_type": "markdown",
   "metadata": {},
   "source": [
    "### Installing with Miniconda\n",
    "\n",
    "The previous section outlined how to get pandas installed as part of the\n",
    "[Anaconda](http://docs.continuum.io/anaconda/) distribution.\n",
    "However this approach means you will install well over one hundred packages\n",
    "and involves downloading the installer which is a few hundred megabytes in size.\n",
    "\n",
    "If you want to have more control on which packages, or have a limited internet\n",
    "bandwidth, then installing pandas with\n",
    "[Miniconda](http://conda.pydata.org/miniconda.html) may be a better solution.\n",
    "\n",
    "[Conda](http://conda.pydata.org/docs/) is the package manager that the\n",
    "[Anaconda](http://docs.continuum.io/anaconda/) distribution is built upon.\n",
    "It is a package manager that is both cross-platform and language agnostic\n",
    "(it can play a similar role to a pip and virtualenv combination).\n",
    "\n",
    "[Miniconda](http://conda.pydata.org/miniconda.html) allows you to create a\n",
    "minimal self contained Python installation, and then use the\n",
    "[Conda](http://conda.pydata.org/docs/) command to install additional packages.\n",
    "\n",
    "First you will need [Conda](http://conda.pydata.org/docs/) to be installed and\n",
    "downloading and running the [Miniconda](http://conda.pydata.org/miniconda.html)\n",
    "will do this for you. The installer\n",
    "[can be found here](http://conda.pydata.org/miniconda.html)\n",
    "\n",
    "The next step is to create a new conda environment. A conda environment is like a\n",
    "virtualenv that allows you to specify a specific version of Python and set of libraries.\n",
    "Run the following commands from a terminal window:"
   ]
  },
  {
   "cell_type": "code",
   "execution_count": null,
   "metadata": {
    "hide-output": false
   },
   "outputs": [],
   "source": [
    "conda create -n name_of_my_env python"
   ]
  },
  {
   "cell_type": "markdown",
   "metadata": {},
   "source": [
    "This will create a minimal environment with only Python installed in it.\n",
    "To put your self inside this environment run:"
   ]
  },
  {
   "cell_type": "code",
   "execution_count": null,
   "metadata": {
    "hide-output": false
   },
   "outputs": [],
   "source": [
    "source activate name_of_my_env"
   ]
  },
  {
   "cell_type": "markdown",
   "metadata": {},
   "source": [
    "On Windows the command is:"
   ]
  },
  {
   "cell_type": "code",
   "execution_count": null,
   "metadata": {
    "hide-output": false
   },
   "outputs": [],
   "source": [
    "activate name_of_my_env"
   ]
  },
  {
   "cell_type": "markdown",
   "metadata": {},
   "source": [
    "The final step required is to install pandas. This can be done with the\n",
    "following command:"
   ]
  },
  {
   "cell_type": "code",
   "execution_count": null,
   "metadata": {
    "hide-output": false
   },
   "outputs": [],
   "source": [
    "conda install pandas"
   ]
  },
  {
   "cell_type": "markdown",
   "metadata": {},
   "source": [
    "To install a specific pandas version:"
   ]
  },
  {
   "cell_type": "code",
   "execution_count": null,
   "metadata": {
    "hide-output": false
   },
   "outputs": [],
   "source": [
    "conda install pandas=0.20.3"
   ]
  },
  {
   "cell_type": "markdown",
   "metadata": {},
   "source": [
    "To install other packages, IPython for example:"
   ]
  },
  {
   "cell_type": "code",
   "execution_count": null,
   "metadata": {
    "hide-output": false
   },
   "outputs": [],
   "source": [
    "conda install ipython"
   ]
  },
  {
   "cell_type": "markdown",
   "metadata": {},
   "source": [
    "To install the full [Anaconda](http://docs.continuum.io/anaconda/)\n",
    "distribution:"
   ]
  },
  {
   "cell_type": "code",
   "execution_count": null,
   "metadata": {
    "hide-output": false
   },
   "outputs": [],
   "source": [
    "conda install anaconda"
   ]
  },
  {
   "cell_type": "markdown",
   "metadata": {},
   "source": [
    "If you need packages that are available to pip but not conda, then\n",
    "install pip, and then use pip to install those packages:"
   ]
  },
  {
   "cell_type": "code",
   "execution_count": null,
   "metadata": {
    "hide-output": false
   },
   "outputs": [],
   "source": [
    "conda install pip\n",
    "pip install django"
   ]
  },
  {
   "cell_type": "markdown",
   "metadata": {},
   "source": [
    "### Installing from PyPI\n",
    "\n",
    "pandas can be installed via pip from\n",
    "[PyPI](https://pypi.org/project/pandas)."
   ]
  },
  {
   "cell_type": "code",
   "execution_count": null,
   "metadata": {
    "hide-output": false
   },
   "outputs": [],
   "source": [
    "pip install pandas"
   ]
  },
  {
   "cell_type": "markdown",
   "metadata": {},
   "source": [
    "### Installing with ActivePython\n",
    "\n",
    "Installation instructions for\n",
    "[ActivePython](https://www.activestate.com/activepython) can be found\n",
    "[here](https://www.activestate.com/activepython/downloads). Versions\n",
    "2.7 and 3.5 include pandas."
   ]
  },
  {
   "cell_type": "markdown",
   "metadata": {},
   "source": [
    "### Installing using your Linux distribution’s package manager.\n",
    "\n",
    "The commands in this table will install pandas for Python 3 from your distribution.\n",
    "To install pandas for Python 2, you may need to use the `python-pandas` package.\n",
    "\n",
    "[](http://packages.debian.org/search?keywords=pandas&searchon=names&suite=all&section=all)``[](http://neuro.debian.net/index.html#how-to-use-this-repository)``[](http://packages.ubuntu.com/search?keywords=pandas&searchon=names&suite=all&section=all)``[](http://software.opensuse.org/package/python-pandas?search_term=pandas)``[](https://admin.fedoraproject.org/pkgdb/package/rpms/python-pandas/)``[](https://admin.fedoraproject.org/pkgdb/package/rpms/python-pandas/)``|Distribution|Status|Download / Repository Link|Install method|\n",
    "|:--------:|:--------:|:------------------:|:------------------------------------------------:|\n",
    "|Debian|stable|official Debian repository|sudo apt-get install python3-pandas|\n",
    "|Debian & Ubuntu|unstable (latest packages)|NeuroDebian|sudo apt-get install python3-pandas|\n",
    "|Ubuntu|stable|official Ubuntu repository|sudo apt-get install python3-pandas|\n",
    "|OpenSuse|stable|OpenSuse Repository|zypper in python3-pandas|\n",
    "|Fedora|stable|official Fedora repository|dnf install python3-pandas|\n",
    "|Centos/RHEL|stable|EPEL repository|yum install python3-pandas|\n",
    "**However**, the packages in the linux package managers are often a few versions behind, so\n",
    "to get the newest version of pandas, it’s recommended to install using the `pip` or `conda`\n",
    "methods described above."
   ]
  },
  {
   "cell_type": "markdown",
   "metadata": {},
   "source": [
    "### Installing from source\n",
    "\n",
    "See the [contributing guide](development/contributing.ipynb#contributing) for complete instructions on building from the git source tree. Further, see [creating a development environment](development/contributing.ipynb#contributing-dev-env) if you wish to create a *pandas* development environment."
   ]
  },
  {
   "cell_type": "markdown",
   "metadata": {},
   "source": [
    "## Running the test suite\n",
    "\n",
    "pandas is equipped with an exhaustive set of unit tests, covering about 97% of\n",
    "the code base as of this writing. To run it on your machine to verify that\n",
    "everything is working (and that you have all of the dependencies, soft and hard,\n",
    "installed), make sure you have [pytest](http://docs.pytest.org/en/latest/) >= 4.0.2 and [Hypothesis](https://hypothesis.readthedocs.io/) >= 3.58, then run:"
   ]
  },
  {
   "cell_type": "code",
   "execution_count": null,
   "metadata": {
    "hide-output": false
   },
   "outputs": [],
   "source": [
    ">>> pd.test()\n",
    "running: pytest --skip-slow --skip-network C:\\Users\\TP\\Anaconda3\\envs\\py36\\lib\\site-packages\\pandas\n",
    "============================= test session starts =============================\n",
    "platform win32 -- Python 3.6.2, pytest-3.6.0, py-1.4.34, pluggy-0.4.0\n",
    "rootdir: C:\\Users\\TP\\Documents\\Python\\pandasdev\\pandas, inifile: setup.cfg\n",
    "collected 12145 items / 3 skipped\n",
    "\n",
    "..................................................................S......\n",
    "........S................................................................\n",
    ".........................................................................\n",
    "\n",
    "==================== 12130 passed, 12 skipped in 368.339 seconds ====================="
   ]
  },
  {
   "cell_type": "markdown",
   "metadata": {},
   "source": [
    "\n",
    "<a id='install-dependencies'></a>"
   ]
  },
  {
   "cell_type": "markdown",
   "metadata": {},
   "source": [
    "## Dependencies\n",
    "\n",
    "[](https://setuptools.readthedocs.io/en/latest/)[](http://www.numpy.org)[](https://dateutil.readthedocs.io/en/stable/)[](http://pytz.sourceforge.net/)|Package|Minimum supported version|\n",
    "|:--------------------------------------------------------------:|:------------------------:|\n",
    "|setuptools|24.2.0|\n",
    "|NumPy|1.13.3|\n",
    "|python-dateutil|2.6.1|\n",
    "|pytz|2017.2|\n",
    "\n",
    "<a id='install-recommended-dependencies'></a>"
   ]
  },
  {
   "cell_type": "markdown",
   "metadata": {},
   "source": [
    "### Recommended dependencies\n",
    "\n",
    "- [numexpr](https://github.com/pydata/numexpr): for accelerating certain numerical operations.\n",
    "  `numexpr` uses multiple cores as well as smart chunking and caching to achieve large speedups.\n",
    "  If installed, must be Version 2.6.2 or higher.  \n",
    "- [bottleneck](https://github.com/kwgoodman/bottleneck): for accelerating certain types of `nan`\n",
    "  evaluations. `bottleneck` uses specialized cython routines to achieve large speedups. If installed,\n",
    "  must be Version 1.2.1 or higher.  \n",
    "\n",
    "\n",
    ">**Note**\n",
    ">\n",
    ">You are highly encouraged to install these libraries, as they provide speed improvements, especially\n",
    "when working with large data sets.\n",
    "\n",
    "\n",
    "<a id='install-optional-dependencies'></a>"
   ]
  },
  {
   "cell_type": "markdown",
   "metadata": {},
   "source": [
    "### Optional dependencies\n",
    "\n",
    "Pandas has many optional dependencies that are only used for specific methods.\n",
    "For example, `pandas.read_hdf()` requires the `pytables` package. If the\n",
    "optional dependency is not installed, pandas will raise an `ImportError` when\n",
    "the method requiring that dependency is called.\n",
    "\n",
    "[](#optional-html)[](#optional-html)[](#optional-html)|Dependency|Minimum Version|Notes|\n",
    "|:-----------------------:|:----------------:|:-----------------------------------------------------------:|\n",
    "|BeautifulSoup4|4.6.0|HTML parser for read_html (see note)|\n",
    "|Jinja2||Conditional formatting with DataFrame.style|\n",
    "|PyQt4||Clipboard I/O|\n",
    "|PyQt5||Clipboard I/O|\n",
    "|PyTables|3.4.2|HDF5-based reading / writing|\n",
    "|SQLAlchemy|1.1.4|SQL support for databases other than sqlite|\n",
    "|SciPy|0.19.0|Miscellaneous statistical functions|\n",
    "|XLsxWriter|0.9.8|Excel writing|\n",
    "|blosc||Compression for msgpack|\n",
    "|fastparquet|0.2.1|Parquet reading / writing|\n",
    "|gcsfs|0.2.2|Google Cloud Storage access|\n",
    "|html5lib||HTML parser for read_html (see note)|\n",
    "|lxml|3.8.0|HTML parser for read_html (see note)|\n",
    "|matplotlib|2.2.2|Visualization|\n",
    "|openpyxl|2.4.8|Reading / writing for xlsx files|\n",
    "|pandas-gbq|0.8.0|Google Big Query access|\n",
    "|psycopg2||PostgreSQL engine for sqlalchemy|\n",
    "|pyarrow|0.9.0|Parquet and feather reading / writing|\n",
    "|pymysql|0.7.11|MySQL engine for sqlalchemy|\n",
    "|pyreadstat||SPSS files (.sav) reading|\n",
    "|pytables|3.4.2|HDF5 reading / writing|\n",
    "|qtpy||Clipboard I/O|\n",
    "|s3fs|0.0.8|Amazon S3 access|\n",
    "|xarray|0.8.2|pandas-like API for N-dimensional data|\n",
    "|xclip||Clipboard I/O on linux|\n",
    "|xlrd|1.1.0|Excel reading|\n",
    "|xlwt|1.2.0|Excel writing|\n",
    "|xsel||Clipboard I/O on linux|\n",
    "|zlib||Compression for msgpack|\n",
    "\n",
    "<a id='optional-html'></a>"
   ]
  },
  {
   "cell_type": "markdown",
   "metadata": {},
   "source": [
    "#### Optional dependencies for parsing HTML\n",
    "\n",
    "One of the following combinations of libraries is needed to use the\n",
    "top-level `read_html()` function:\n",
    "\n",
    "Changed in version 0.23.0.\n",
    "\n",
    "- [BeautifulSoup4](http://www.crummy.com/software/BeautifulSoup) and [html5lib](https://github.com/html5lib/html5lib-python)  \n",
    "- [BeautifulSoup4](http://www.crummy.com/software/BeautifulSoup) and [lxml](http://lxml.de)  \n",
    "- [BeautifulSoup4](http://www.crummy.com/software/BeautifulSoup) and [html5lib](https://github.com/html5lib/html5lib-python) and [lxml](http://lxml.de)  \n",
    "- Only [lxml](http://lxml.de), although see [HTML Table Parsing](user_guide/io.ipynb#io-html-gotchas)\n",
    "  for reasons as to why you should probably **not** take this approach.  \n",
    "\n",
    "\n",
    "- if you install [BeautifulSoup4](http://www.crummy.com/software/BeautifulSoup) you must install either\n",
    "  [lxml](http://lxml.de) or [html5lib](https://github.com/html5lib/html5lib-python) or both.\n",
    "  `read_html()` will **not** work with *only*\n",
    "  [BeautifulSoup4](http://www.crummy.com/software/BeautifulSoup) installed.  \n",
    "- You are highly encouraged to read [HTML Table Parsing gotchas](user_guide/io.ipynb#io-html-gotchas).\n",
    "  It explains issues surrounding the installation and\n",
    "  usage of the above three libraries.  "
   ]
  }
 ],
 "metadata": {
  "filename": "install.rst",
  "kernelspec": {
   "display_name": "Python",
   "language": "python3",
   "name": "python3"
  },
  "title": "Installation"
 },
 "nbformat": 4,
 "nbformat_minor": 2
}