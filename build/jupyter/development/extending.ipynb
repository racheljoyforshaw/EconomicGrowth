{
 "cells": [
  {
   "cell_type": "markdown",
   "metadata": {},
   "source": [
    "\n",
    "<a id='extending'></a>\n",
    "{{ header }}"
   ]
  },
  {
   "cell_type": "markdown",
   "metadata": {},
   "source": [
    "# Extending pandas\n",
    "\n",
    "While pandas provides a rich set of methods, containers, and data types, your\n",
    "needs may not be fully satisfied. Pandas offers a few options for extending\n",
    "pandas.\n",
    "\n",
    "\n",
    "<a id='extending-register-accessors'></a>"
   ]
  },
  {
   "cell_type": "markdown",
   "metadata": {},
   "source": [
    "## Registering custom accessors\n",
    "\n",
    "Libraries can use the decorators\n",
    "`pandas.api.extensions.register_dataframe_accessor()`,\n",
    "`pandas.api.extensions.register_series_accessor()`, and\n",
    "`pandas.api.extensions.register_index_accessor()`, to add additional\n",
    "“namespaces” to pandas objects. All of these follow a similar convention: you\n",
    "decorate a class, providing the name of attribute to add. The class’s\n",
    "`__init__` method gets the object being decorated. For example:"
   ]
  },
  {
   "cell_type": "code",
   "execution_count": null,
   "metadata": {
    "hide-output": false
   },
   "outputs": [],
   "source": [
    "@pd.api.extensions.register_dataframe_accessor(\"geo\")\n",
    "class GeoAccessor:\n",
    "    def __init__(self, pandas_obj):\n",
    "        self._validate(pandas_obj)\n",
    "        self._obj = pandas_obj\n",
    "\n",
    "    @staticmethod\n",
    "    def _validate(obj):\n",
    "        # verify there is a column latitude and a column longitude\n",
    "        if 'latitude' not in obj.columns or 'longitude' not in obj.columns:\n",
    "            raise AttributeError(\"Must have 'latitude' and 'longitude'.\")\n",
    "\n",
    "    @property\n",
    "    def center(self):\n",
    "        # return the geographic center point of this DataFrame\n",
    "        lat = self._obj.latitude\n",
    "        lon = self._obj.longitude\n",
    "        return (float(lon.mean()), float(lat.mean()))\n",
    "\n",
    "    def plot(self):\n",
    "        # plot this array's data on a map, e.g., using Cartopy\n",
    "        pass"
   ]
  },
  {
   "cell_type": "markdown",
   "metadata": {},
   "source": [
    "Now users can access your methods using the `geo` namespace:\n",
    "\n",
    ">>> ds = pd.DataFrame({'longitude': np.linspace(0, 10),\n",
    "...                    'latitude': np.linspace(0, 20)})\n",
    ">>> ds.geo.center\n",
    "(5.0, 10.0)\n",
    ">>> ds.geo.plot()\n",
    "# plots data on a mapThis can be a convenient way to extend pandas objects without subclassing them.\n",
    "If you write a custom accessor, make a pull request adding it to our\n",
    "ecosystem page.\n",
    "\n",
    "We highly recommend validating the data in your accessor’s __init__.\n",
    "In our `GeoAccessor`, we validate that the data contains the expected columns,\n",
    "raising an `AttributeError` when the validation fails.\n",
    "For a `Series` accessor, you should validate the `dtype` if the accessor\n",
    "applies only to certain dtypes.\n",
    "\n",
    "\n",
    "<a id='extending-extension-types'></a>"
   ]
  },
  {
   "cell_type": "markdown",
   "metadata": {},
   "source": [
    "## Extension types\n",
    "\n",
    "New in version 0.23.0.\n",
    "\n",
    "The `pandas.api.extensions.ExtensionDtype` and `pandas.api.extensions.ExtensionArray` APIs are new and\n",
    "experimental. They may change between versions without warning.\n",
    "\n",
    "Pandas defines an interface for implementing data types and arrays that *extend*\n",
    "NumPy’s type system. Pandas itself uses the extension system for some types\n",
    "that aren’t built into NumPy (categorical, period, interval, datetime with\n",
    "timezone).\n",
    "\n",
    "Libraries can define a custom array and data type. When pandas encounters these\n",
    "objects, they will be handled properly (i.e. not converted to an ndarray of\n",
    "objects). Many methods like `pandas.isna()` will dispatch to the extension\n",
    "type’s implementation.\n",
    "\n",
    "If you’re building a library that implements the interface, please publicize it\n",
    "on [Extension data types](ecosystem.ipynb#ecosystem-extensions).\n",
    "\n",
    "The interface consists of two classes."
   ]
  },
  {
   "cell_type": "markdown",
   "metadata": {},
   "source": [
    "### `ExtensionDtype`\n",
    "\n",
    "A `pandas.api.extensions.ExtensionDtype` is similar to a `numpy.dtype` object. It describes the\n",
    "data type. Implementors are responsible for a few unique items like the name.\n",
    "\n",
    "One particularly important item is the `type` property. This should be the\n",
    "class that is the scalar type for your data. For example, if you were writing an\n",
    "extension array for IP Address data, this might be `ipaddress.IPv4Address`.\n",
    "\n",
    "See the [extension dtype source](https://github.com/pandas-dev/pandas/blob/master/pandas/core/dtypes/base.py) for interface definition.\n",
    "\n",
    "New in version 0.24.0.\n",
    "\n",
    "`pandas.api.extension.ExtensionDtype` can be registered to pandas to allow creation via a string dtype name.\n",
    "This allows one to instantiate `Series` and `.astype()` with a registered string name, for\n",
    "example `'category'` is a registered string accessor for the `CategoricalDtype`.\n",
    "\n",
    "See the [extension dtype dtypes](https://github.com/pandas-dev/pandas/blob/master/pandas/core/dtypes/dtypes.py) for more on how to register dtypes."
   ]
  },
  {
   "cell_type": "markdown",
   "metadata": {},
   "source": [
    "### `ExtensionArray`\n",
    "\n",
    "This class provides all the array-like functionality. ExtensionArrays are\n",
    "limited to 1 dimension. An ExtensionArray is linked to an ExtensionDtype via the\n",
    "`dtype` attribute.\n",
    "\n",
    "Pandas makes no restrictions on how an extension array is created via its\n",
    "`__new__` or `__init__`, and puts no restrictions on how you store your\n",
    "data. We do require that your array be convertible to a NumPy array, even if\n",
    "this is relatively expensive (as it is for `Categorical`).\n",
    "\n",
    "They may be backed by none, one, or many NumPy arrays. For example,\n",
    "`pandas.Categorical` is an extension array backed by two arrays,\n",
    "one for codes and one for categories. An array of IPv6 addresses may\n",
    "be backed by a NumPy structured array with two fields, one for the\n",
    "lower 64 bits and one for the upper 64 bits. Or they may be backed\n",
    "by some other storage type, like Python lists.\n",
    "\n",
    "See the [extension array source](https://github.com/pandas-dev/pandas/blob/master/pandas/core/arrays/base.py) for the interface definition. The docstrings\n",
    "and comments contain guidance for properly implementing the interface.\n",
    "\n",
    "\n",
    "<a id='extending-extension-operator'></a>"
   ]
  },
  {
   "cell_type": "markdown",
   "metadata": {},
   "source": [
    "### `ExtensionArray` Operator Support\n",
    "\n",
    "New in version 0.24.0.\n",
    "\n",
    "By default, there are no operators defined for the class `ExtensionArray`.\n",
    "There are two approaches for providing operator support for your ExtensionArray:\n",
    "\n",
    "1. Define each of the operators on your `ExtensionArray` subclass.  \n",
    "1. Use an operator implementation from pandas that depends on operators that are already defined\n",
    "  on the underlying elements (scalars) of the ExtensionArray.  \n",
    "\n",
    "\n",
    ">**Note**\n",
    ">\n",
    ">Regardless of the approach, you may want to set `__array_priority__`\n",
    "if you want your implementation to be called when involved in binary operations\n",
    "with NumPy arrays.\n",
    "\n",
    "For the first approach, you define selected operators, e.g., `__add__`, `__le__`, etc. that\n",
    "you want your `ExtensionArray` subclass to support.\n",
    "\n",
    "The second approach assumes that the underlying elements (i.e., scalar type) of the `ExtensionArray`\n",
    "have the individual operators already defined.  In other words, if your `ExtensionArray`\n",
    "named `MyExtensionArray` is implemented so that each element is an instance\n",
    "of the class `MyExtensionElement`, then if the operators are defined\n",
    "for `MyExtensionElement`, the second approach will automatically\n",
    "define the operators for `MyExtensionArray`.\n",
    "\n",
    "A mixin class, `ExtensionScalarOpsMixin` supports this second\n",
    "approach.  If developing an `ExtensionArray` subclass, for example `MyExtensionArray`,\n",
    "can simply include `ExtensionScalarOpsMixin` as a parent class of `MyExtensionArray`,\n",
    "and then call the methods `_add_arithmetic_ops()` and/or\n",
    "`_add_comparison_ops()` to hook the operators into\n",
    "your `MyExtensionArray` class, as follows:"
   ]
  },
  {
   "cell_type": "code",
   "execution_count": null,
   "metadata": {
    "hide-output": false
   },
   "outputs": [],
   "source": [
    "from pandas.api.extensions import ExtensionArray, ExtensionScalarOpsMixin\n",
    "\n",
    "class MyExtensionArray(ExtensionArray, ExtensionScalarOpsMixin):\n",
    "    pass\n",
    "\n",
    "\n",
    "MyExtensionArray._add_arithmetic_ops()\n",
    "MyExtensionArray._add_comparison_ops()"
   ]
  },
  {
   "cell_type": "markdown",
   "metadata": {},
   "source": [
    ">**Note**\n",
    ">\n",
    ">Since `pandas` automatically calls the underlying operator on each\n",
    "element one-by-one, this might not be as performant as implementing your own\n",
    "version of the associated operators directly on the `ExtensionArray`.\n",
    "\n",
    "For arithmetic operations, this implementation will try to reconstruct a new\n",
    "`ExtensionArray` with the result of the element-wise operation. Whether\n",
    "or not that succeeds depends on whether the operation returns a result\n",
    "that’s valid for the `ExtensionArray`. If an `ExtensionArray` cannot\n",
    "be reconstructed, an ndarray containing the scalars returned instead.\n",
    "\n",
    "For ease of implementation and consistency with operations between pandas\n",
    "and NumPy ndarrays, we recommend *not* handling Series and Indexes in your binary ops.\n",
    "Instead, you should detect these cases and return `NotImplemented`.\n",
    "When pandas encounters an operation like `op(Series, ExtensionArray)`, pandas\n",
    "will\n",
    "\n",
    "1. unbox the array from the `Series` (`Series.array`)  \n",
    "1. call `result = op(values, ExtensionArray)`  \n",
    "1. re-box the result in a `Series`  \n",
    "\n",
    "\n",
    "\n",
    "<a id='extending-extension-ufunc'></a>"
   ]
  },
  {
   "cell_type": "markdown",
   "metadata": {},
   "source": [
    "### NumPy Universal Functions\n",
    "\n",
    "`Series` implements `__array_ufunc__`. As part of the implementation,\n",
    "pandas unboxes the `ExtensionArray` from the `Series`, applies the ufunc,\n",
    "and re-boxes it if necessary.\n",
    "\n",
    "If applicable, we highly recommend that you implement `__array_ufunc__` in your\n",
    "extension array to avoid coercion to an ndarray. See\n",
    "[the numpy documentation](https://docs.scipy.org/doc/numpy/reference/generated/numpy.lib.mixins.NDArrayOperatorsMixin.html)\n",
    "for an example.\n",
    "\n",
    "As part of your implementation, we require that you defer to pandas when a pandas\n",
    "container (`Series`, `DataFrame`, `Index`) is detected in `inputs`.\n",
    "If any of those is present, you should return `NotImplemented`. Pandas will take care of\n",
    "unboxing the array from the container and re-calling the ufunc with the unwrapped input.\n",
    "\n",
    "\n",
    "<a id='extending-extension-testing'></a>"
   ]
  },
  {
   "cell_type": "markdown",
   "metadata": {},
   "source": [
    "### Testing extension arrays\n",
    "\n",
    "We provide a test suite for ensuring that your extension arrays satisfy the expected\n",
    "behavior. To use the test suite, you must provide several pytest fixtures and inherit\n",
    "from the base test class. The required fixtures are found in\n",
    "[https://github.com/pandas-dev/pandas/blob/master/pandas/tests/extension/conftest.py](https://github.com/pandas-dev/pandas/blob/master/pandas/tests/extension/conftest.py).\n",
    "\n",
    "To use a test, subclass it:"
   ]
  },
  {
   "cell_type": "code",
   "execution_count": null,
   "metadata": {
    "hide-output": false
   },
   "outputs": [],
   "source": [
    "from pandas.tests.extension import base\n",
    "\n",
    "\n",
    "class TestConstructors(base.BaseConstructorsTests):\n",
    "    pass"
   ]
  },
  {
   "cell_type": "markdown",
   "metadata": {},
   "source": [
    "See [https://github.com/pandas-dev/pandas/blob/master/pandas/tests/extension/base/__init__.py](https://github.com/pandas-dev/pandas/blob/master/pandas/tests/extension/base/__init__.py)\n",
    "for a list of all the tests available.\n",
    "\n",
    "\n",
    "<a id='extending-subclassing-pandas'></a>"
   ]
  },
  {
   "cell_type": "markdown",
   "metadata": {},
   "source": [
    "## Subclassing pandas data structures\n",
    "\n",
    "There are some easier alternatives before considering subclassing `pandas` data structures.\n",
    "\n",
    "1. Extensible method chains with [pipe](getting_started/basics.ipynb#basics-pipe)  \n",
    "1. Use *composition*. See [here](http://en.wikipedia.org/wiki/Composition_over_inheritance).  \n",
    "1. Extending by [registering an accessor](#extending-register-accessors)  \n",
    "1. Extending by [extension type](#extending-extension-types)  \n",
    "\n",
    "\n",
    "This section describes how to subclass `pandas` data structures to meet more specific needs. There are two points that need attention:\n",
    "\n",
    "1. Override constructor properties.  \n",
    "1. Define original properties  \n",
    "\n",
    "\n",
    ">**Note**\n",
    ">\n",
    ">You can find a nice example in [geopandas](https://github.com/geopandas/geopandas) project."
   ]
  },
  {
   "cell_type": "markdown",
   "metadata": {},
   "source": [
    "### Override constructor properties\n",
    "\n",
    "Each data structure has several *constructor properties* for returning a new\n",
    "data structure as the result of an operation. By overriding these properties,\n",
    "you can retain subclasses through `pandas` data manipulations.\n",
    "\n",
    "There are 3 constructor properties to be defined:\n",
    "\n",
    "- `_constructor`: Used when a manipulation result has the same dimensions as the original.  \n",
    "- `_constructor_sliced`: Used when a manipulation result has one lower dimension(s) as the original, such as `DataFrame` single columns slicing.  \n",
    "- `_constructor_expanddim`: Used when a manipulation result has one higher dimension as the original, such as `Series.to_frame()`.  \n",
    "\n",
    "\n",
    "Following table shows how `pandas` data structures define constructor properties by default.\n",
    "\n",
    "``````````````````````|Property Attributes|Series|DataFrame|\n",
    "|:-------------------------:|:---------------------:|:---------------------:|\n",
    "|_constructor|Series|DataFrame|\n",
    "|_constructor_sliced|NotImplementedError|Series|\n",
    "|_constructor_expanddim|DataFrame|NotImplementedError|\n",
    "Below example shows how to define `SubclassedSeries` and `SubclassedDataFrame` overriding constructor properties."
   ]
  },
  {
   "cell_type": "code",
   "execution_count": null,
   "metadata": {
    "hide-output": false
   },
   "outputs": [],
   "source": [
    "class SubclassedSeries(pd.Series):\n",
    "\n",
    "    @property\n",
    "    def _constructor(self):\n",
    "        return SubclassedSeries\n",
    "\n",
    "    @property\n",
    "    def _constructor_expanddim(self):\n",
    "        return SubclassedDataFrame\n",
    "\n",
    "\n",
    "class SubclassedDataFrame(pd.DataFrame):\n",
    "\n",
    "    @property\n",
    "    def _constructor(self):\n",
    "        return SubclassedDataFrame\n",
    "\n",
    "    @property\n",
    "    def _constructor_sliced(self):\n",
    "        return SubclassedSeries"
   ]
  },
  {
   "cell_type": "code",
   "execution_count": null,
   "metadata": {
    "hide-output": false
   },
   "outputs": [],
   "source": [
    ">>> s = SubclassedSeries([1, 2, 3])\n",
    ">>> type(s)\n",
    "<class '__main__.SubclassedSeries'>\n",
    "\n",
    ">>> to_framed = s.to_frame()\n",
    ">>> type(to_framed)\n",
    "<class '__main__.SubclassedDataFrame'>\n",
    "\n",
    ">>> df = SubclassedDataFrame({'A': [1, 2, 3], 'B': [4, 5, 6], 'C': [7, 8, 9]})\n",
    ">>> df\n",
    "   A  B  C\n",
    "0  1  4  7\n",
    "1  2  5  8\n",
    "2  3  6  9\n",
    "\n",
    ">>> type(df)\n",
    "<class '__main__.SubclassedDataFrame'>\n",
    "\n",
    ">>> sliced1 = df[['A', 'B']]\n",
    ">>> sliced1\n",
    "   A  B\n",
    "0  1  4\n",
    "1  2  5\n",
    "2  3  6\n",
    "\n",
    ">>> type(sliced1)\n",
    "<class '__main__.SubclassedDataFrame'>\n",
    "\n",
    ">>> sliced2 = df['A']\n",
    ">>> sliced2\n",
    "0    1\n",
    "1    2\n",
    "2    3\n",
    "Name: A, dtype: int64\n",
    "\n",
    ">>> type(sliced2)\n",
    "<class '__main__.SubclassedSeries'>"
   ]
  },
  {
   "cell_type": "markdown",
   "metadata": {},
   "source": [
    "### Define original properties\n",
    "\n",
    "To let original data structures have additional properties, you should let `pandas` know what properties are added. `pandas` maps unknown properties to data names overriding `__getattribute__`. Defining original properties can be done in one of 2 ways:\n",
    "\n",
    "1. Define `_internal_names` and `_internal_names_set` for temporary properties which WILL NOT be passed to manipulation results.  \n",
    "1. Define `_metadata` for normal properties which will be passed to manipulation results.  \n",
    "\n",
    "\n",
    "Below is an example to define two original properties, “internal_cache” as a temporary property and “added_property” as a normal property"
   ]
  },
  {
   "cell_type": "code",
   "execution_count": null,
   "metadata": {
    "hide-output": false
   },
   "outputs": [],
   "source": [
    "class SubclassedDataFrame2(pd.DataFrame):\n",
    "\n",
    "    # temporary properties\n",
    "    _internal_names = pd.DataFrame._internal_names + ['internal_cache']\n",
    "    _internal_names_set = set(_internal_names)\n",
    "\n",
    "    # normal properties\n",
    "    _metadata = ['added_property']\n",
    "\n",
    "    @property\n",
    "    def _constructor(self):\n",
    "        return SubclassedDataFrame2"
   ]
  },
  {
   "cell_type": "code",
   "execution_count": null,
   "metadata": {
    "hide-output": false
   },
   "outputs": [],
   "source": [
    ">>> df = SubclassedDataFrame2({'A': [1, 2, 3], 'B': [4, 5, 6], 'C': [7, 8, 9]})\n",
    ">>> df\n",
    "   A  B  C\n",
    "0  1  4  7\n",
    "1  2  5  8\n",
    "2  3  6  9\n",
    "\n",
    ">>> df.internal_cache = 'cached'\n",
    ">>> df.added_property = 'property'\n",
    "\n",
    ">>> df.internal_cache\n",
    "cached\n",
    ">>> df.added_property\n",
    "property\n",
    "\n",
    "# properties defined in _internal_names is reset after manipulation\n",
    ">>> df[['A', 'B']].internal_cache\n",
    "AttributeError: 'SubclassedDataFrame2' object has no attribute 'internal_cache'\n",
    "\n",
    "# properties defined in _metadata are retained\n",
    ">>> df[['A', 'B']].added_property\n",
    "property"
   ]
  },
  {
   "cell_type": "markdown",
   "metadata": {},
   "source": [
    "\n",
    "<a id='extending-plotting-backends'></a>"
   ]
  },
  {
   "cell_type": "markdown",
   "metadata": {},
   "source": [
    "## Plotting backends\n",
    "\n",
    "Starting in 0.25 pandas can be extended with third-party plotting backends. The\n",
    "main idea is letting users select a plotting backend different than the provided\n",
    "one based on Matplotlib. For example:"
   ]
  },
  {
   "cell_type": "code",
   "execution_count": null,
   "metadata": {
    "hide-output": false
   },
   "outputs": [],
   "source": [
    ">>> pd.set_option('plotting.backend', 'backend.module')\n",
    ">>> pd.Series([1, 2, 3]).plot()"
   ]
  },
  {
   "cell_type": "markdown",
   "metadata": {},
   "source": [
    "This would be more or less equivalent to:"
   ]
  },
  {
   "cell_type": "code",
   "execution_count": null,
   "metadata": {
    "hide-output": false
   },
   "outputs": [],
   "source": [
    ">>> import backend.module\n",
    ">>> backend.module.plot(pd.Series([1, 2, 3]))"
   ]
  },
  {
   "cell_type": "markdown",
   "metadata": {},
   "source": [
    "The backend module can then use other visualization tools (Bokeh, Altair,…)\n",
    "to generate the plots.\n",
    "\n",
    "More information on how to implement a third-party plotting backend can be found at\n",
    "[https://github.com/pandas-dev/pandas/blob/master/pandas/plotting/__init__.py#L1](https://github.com/pandas-dev/pandas/blob/master/pandas/plotting/__init__.py#L1)."
   ]
  }
 ],
 "metadata": {
  "filename": "extending.rst",
  "kernelspec": {
   "display_name": "Python",
   "language": "python3",
   "name": "python3"
  },
  "title": "Extending pandas"
 },
 "nbformat": 4,
 "nbformat_minor": 2
}