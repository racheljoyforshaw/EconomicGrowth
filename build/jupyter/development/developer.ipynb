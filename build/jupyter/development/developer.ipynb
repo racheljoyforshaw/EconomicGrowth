{
 "cells": [
  {
   "cell_type": "markdown",
   "metadata": {},
   "source": [
    "\n",
    "<a id='developer'></a>\n",
    "{{ header }}"
   ]
  },
  {
   "cell_type": "markdown",
   "metadata": {},
   "source": [
    "# Developer\n",
    "\n",
    "This section will focus on downstream applications of pandas.\n",
    "\n",
    "\n",
    "<a id='apache-parquet'></a>"
   ]
  },
  {
   "cell_type": "markdown",
   "metadata": {},
   "source": [
    "## Storing pandas DataFrame objects in Apache Parquet format\n",
    "\n",
    "The [Apache Parquet](https://github.com/apache/parquet-format) format\n",
    "provides key-value metadata at the file and column level, stored in the footer\n",
    "of the Parquet file:"
   ]
  },
  {
   "cell_type": "markdown",
   "metadata": {
    "hide-output": false
   },
   "source": [
    "```shell\n",
    "5: optional list<KeyValue> key_value_metadata\n",
    "```\n"
   ]
  },
  {
   "cell_type": "markdown",
   "metadata": {},
   "source": [
    "where `KeyValue` is"
   ]
  },
  {
   "cell_type": "markdown",
   "metadata": {
    "hide-output": false
   },
   "source": [
    "```shell\n",
    "struct KeyValue {\n",
    "  1: required string key\n",
    "  2: optional string value\n",
    "}\n",
    "```\n"
   ]
  },
  {
   "cell_type": "markdown",
   "metadata": {},
   "source": [
    "So that a `pandas.DataFrame` can be faithfully reconstructed, we store a\n",
    "`pandas` metadata key in the `FileMetaData` with the value stored as :"
   ]
  },
  {
   "cell_type": "markdown",
   "metadata": {
    "hide-output": false
   },
   "source": [
    "```text\n",
    "{'index_columns': ['__index_level_0__', '__index_level_1__', ...],\n",
    " 'column_indexes': [<ci0>, <ci1>, ..., <ciN>],\n",
    " 'columns': [<c0>, <c1>, ...],\n",
    " 'pandas_version': $VERSION}\n",
    "```\n"
   ]
  },
  {
   "cell_type": "markdown",
   "metadata": {},
   "source": [
    "Here, `<c0>`/`<ci0>` and so forth are dictionaries containing the metadata\n",
    "for each column, *including the index columns*. This has JSON form:"
   ]
  },
  {
   "cell_type": "markdown",
   "metadata": {
    "hide-output": false
   },
   "source": [
    "```text\n",
    "{'name': column_name,\n",
    " 'field_name': parquet_column_name,\n",
    " 'pandas_type': pandas_type,\n",
    " 'numpy_type': numpy_type,\n",
    " 'metadata': metadata}\n",
    "```\n"
   ]
  },
  {
   "cell_type": "markdown",
   "metadata": {},
   "source": [
    ">**Note**\n",
    ">\n",
    ">Every index column is stored with a name matching the pattern\n",
    "`__index_level_\\d+__` and its corresponding column information is can be\n",
    "found with the following code snippet.\n",
    "\n",
    "Following this naming convention isn’t strictly necessary, but strongly\n",
    "suggested for compatibility with Arrow.\n",
    "\n",
    "Here’s an example of how the index metadata is structured in pyarrow:\n",
    "\n",
    "> "
   ]
  },
  {
   "cell_type": "code",
   "execution_count": null,
   "metadata": {
    "hide-output": false
   },
   "outputs": [],
   "source": [
    "# assuming there's at least 3 levels in the index\n",
    "index_columns = metadata['index_columns']  # noqa: F821\n",
    "columns = metadata['columns']  # noqa: F821\n",
    "ith_index = 2\n",
    "assert index_columns[ith_index] == '__index_level_2__'\n",
    "ith_index_info = columns[-len(index_columns):][ith_index]\n",
    "ith_index_level_name = ith_index_info['name']"
   ]
  },
  {
   "cell_type": "markdown",
   "metadata": {},
   "source": [
    "\n",
    "`pandas_type` is the logical type of the column, and is one of:\n",
    "\n",
    "- Boolean: `'bool'`  \n",
    "- Integers: `'int8', 'int16', 'int32', 'int64', 'uint8', 'uint16', 'uint32', 'uint64'`  \n",
    "- Floats: `'float16', 'float32', 'float64'`  \n",
    "- Date and Time Types: `'datetime', 'datetimetz'`, `'timedelta'`  \n",
    "- String: `'unicode', 'bytes'`  \n",
    "- Categorical: `'categorical'`  \n",
    "- Other Python objects: `'object'`  \n",
    "\n",
    "\n",
    "The `numpy_type` is the physical storage type of the column, which is the\n",
    "result of `str(dtype)` for the underlying NumPy array that holds the data. So\n",
    "for `datetimetz` this is `datetime64[ns]` and for categorical, it may be\n",
    "any of the supported integer categorical types.\n",
    "\n",
    "The `metadata` field is `None` except for:\n",
    "\n",
    "- `datetimetz`: `{'timezone': zone, 'unit': 'ns'}`, e.g. `{'timezone',\n",
    "  'America/New_York', 'unit': 'ns'}`. The `'unit'` is optional, and if\n",
    "  omitted it is assumed to be nanoseconds.  \n",
    "- `categorical`: `{'num_categories': K, 'ordered': is_ordered, 'type': \\$TYPE}`  \n",
    "  \n",
    "  - Here `'type'` is optional, and can be a nested pandas type specification\n",
    "    here (but not categorical)  \n",
    "  \n",
    "- `unicode`: `{'encoding': encoding}`  \n",
    "  \n",
    "  - The encoding is optional, and if not present is UTF-8  \n",
    "  \n",
    "- `object`: `{'encoding': encoding}`. Objects can be serialized and stored\n",
    "  in `BYTE_ARRAY` Parquet columns. The encoding can be one of:  \n",
    "  \n",
    "  - `'pickle'`  \n",
    "  - `'msgpack'`  \n",
    "  - `'bson'`  \n",
    "  - `'json'`  \n",
    "  \n",
    "- `timedelta`: `{'unit': 'ns'}`. The `'unit'` is optional, and if omitted\n",
    "  it is assumed to be nanoseconds. This metadata is optional altogether  \n",
    "\n",
    "\n",
    "For types other than these, the `'metadata'` key can be\n",
    "omitted. Implementations can assume `None` if the key is not present.\n",
    "\n",
    "As an example of fully-formed metadata:"
   ]
  },
  {
   "cell_type": "markdown",
   "metadata": {
    "hide-output": false
   },
   "source": [
    "```text\n",
    "{'index_columns': ['__index_level_0__'],\n",
    " 'column_indexes': [\n",
    "     {'name': None,\n",
    "      'field_name': 'None',\n",
    "      'pandas_type': 'unicode',\n",
    "      'numpy_type': 'object',\n",
    "      'metadata': {'encoding': 'UTF-8'}}\n",
    " ],\n",
    " 'columns': [\n",
    "     {'name': 'c0',\n",
    "      'field_name': 'c0',\n",
    "      'pandas_type': 'int8',\n",
    "      'numpy_type': 'int8',\n",
    "      'metadata': None},\n",
    "     {'name': 'c1',\n",
    "      'field_name': 'c1',\n",
    "      'pandas_type': 'bytes',\n",
    "      'numpy_type': 'object',\n",
    "      'metadata': None},\n",
    "     {'name': 'c2',\n",
    "      'field_name': 'c2',\n",
    "      'pandas_type': 'categorical',\n",
    "      'numpy_type': 'int16',\n",
    "      'metadata': {'num_categories': 1000, 'ordered': False}},\n",
    "     {'name': 'c3',\n",
    "      'field_name': 'c3',\n",
    "      'pandas_type': 'datetimetz',\n",
    "      'numpy_type': 'datetime64[ns]',\n",
    "      'metadata': {'timezone': 'America/Los_Angeles'}},\n",
    "     {'name': 'c4',\n",
    "      'field_name': 'c4',\n",
    "      'pandas_type': 'object',\n",
    "      'numpy_type': 'object',\n",
    "      'metadata': {'encoding': 'pickle'}},\n",
    "     {'name': None,\n",
    "      'field_name': '__index_level_0__',\n",
    "      'pandas_type': 'int64',\n",
    "      'numpy_type': 'int64',\n",
    "      'metadata': None}\n",
    " ],\n",
    " 'pandas_version': '0.20.0'}\n",
    "```\n"
   ]
  }
 ],
 "metadata": {
  "filename": "developer.rst",
  "kernelspec": {
   "display_name": "Python",
   "language": "python3",
   "name": "python3"
  },
  "title": "Developer"
 },
 "nbformat": 4,
 "nbformat_minor": 2
}