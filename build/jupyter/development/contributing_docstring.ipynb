{
 "cells": [
  {
   "cell_type": "markdown",
   "metadata": {},
   "source": [
    "\n",
    "<a id='docstring'></a>\n",
    "{{ header }}"
   ]
  },
  {
   "cell_type": "markdown",
   "metadata": {},
   "source": [
    "# pandas docstring guide"
   ]
  },
  {
   "cell_type": "markdown",
   "metadata": {},
   "source": [
    "## About docstrings and standards\n",
    "\n",
    "A Python docstring is a string used to document a Python module, class,\n",
    "function or method, so programmers can understand what it does without having\n",
    "to read the details of the implementation.\n",
    "\n",
    "Also, it is a common practice to generate online (html) documentation\n",
    "automatically from docstrings. [Sphinx](https://www.sphinx-doc.org) serves\n",
    "this purpose.\n",
    "\n",
    "Next example gives an idea on how a docstring looks like:"
   ]
  },
  {
   "cell_type": "code",
   "execution_count": null,
   "metadata": {
    "hide-output": false
   },
   "outputs": [],
   "source": [
    "def add(num1, num2):\n",
    "\"\"\"\n",
    "Add up two integer numbers.\n",
    "\n",
    "This function simply wraps the `+` operator, and does not\n",
    "do anything interesting, except for illustrating what is\n",
    "the docstring of a very simple function.\n",
    "\n",
    "Parameters\n",
    "----------\n",
    "num1 : int\n",
    "    First number to add\n",
    "num2 : int\n",
    "    Second number to add\n",
    "\n",
    "Returns\n",
    "-------\n",
    "int\n",
    "    The sum of `num1` and `num2`\n",
    "\n",
    "See Also\n",
    "--------\n",
    "subtract : Subtract one integer from another\n",
    "\n",
    "Examples\n",
    "--------\n",
    ">>> add(2, 2)\n",
    "4\n",
    ">>> add(25, 0)\n",
    "25\n",
    ">>> add(10, -10)\n",
    "0\n",
    "\"\"\"\n",
    "return num1 + num2"
   ]
  },
  {
   "cell_type": "markdown",
   "metadata": {},
   "source": [
    "Some standards exist about docstrings, so they are easier to read, and they can\n",
    "be exported to other formats such as html or pdf.\n",
    "\n",
    "The first conventions every Python docstring should follow are defined in\n",
    "[PEP-257](https://www.python.org/dev/peps/pep-0257/).\n",
    "\n",
    "As PEP-257 is quite open, and some other standards exist on top of it. In the\n",
    "case of pandas, the numpy docstring convention is followed. The conventions is\n",
    "explained in this document:\n",
    "\n",
    "- [numpydoc docstring guide](https://numpydoc.readthedocs.io/en/latest/format.html)\n",
    "  (which is based in the original [Guide to NumPy/SciPy documentation](https://github.com/numpy/numpy/blob/master/doc/HOWTO_DOCUMENT.rst.txt))  \n",
    "\n",
    "\n",
    "numpydoc is a Sphinx extension to support the numpy docstring convention.\n",
    "\n",
    "The standard uses reStructuredText (reST). reStructuredText is a markup\n",
    "language that allows encoding styles in plain text files. Documentation\n",
    "about reStructuredText can be found in:\n",
    "\n",
    "- [Sphinx reStructuredText primer](https://www.sphinx-doc.org/en/stable/rest.html)  \n",
    "- [Quick reStructuredText reference](http://docutils.sourceforge.net/docs/user/rst/quickref.html)  \n",
    "- [Full reStructuredText specification](http://docutils.sourceforge.net/docs/ref/rst/restructuredtext.html)  \n",
    "\n",
    "\n",
    "Pandas has some helpers for sharing docstrings between related classes, see\n",
    "[Sharing docstrings](#docstring-sharing).\n",
    "\n",
    "The rest of this document will summarize all the above guides, and will\n",
    "provide additional convention specific to the pandas project.\n",
    "\n",
    "\n",
    "<a id='docstring-tutorial'></a>"
   ]
  },
  {
   "cell_type": "markdown",
   "metadata": {},
   "source": [
    "## Writing a docstring\n",
    "\n",
    "\n",
    "<a id='docstring-general'></a>"
   ]
  },
  {
   "cell_type": "markdown",
   "metadata": {},
   "source": [
    "### General rules\n",
    "\n",
    "Docstrings must be defined with three double-quotes. No blank lines should be\n",
    "left before or after the docstring. The text starts in the next line after the\n",
    "opening quotes. The closing quotes have their own line\n",
    "(meaning that they are not at the end of the last sentence).\n",
    "\n",
    "In rare occasions reST styles like bold text or italics will be used in\n",
    "docstrings, but is it common to have inline code, which is presented between\n",
    "backticks. It is considered inline code:\n",
    "\n",
    "- The name of a parameter  \n",
    "- Python code, a module, function, built-in, type, literal… (e.g. `os`,\n",
    "  `list`, `numpy.abs`, `datetime.date`, `True`)  \n",
    "- A pandas class (in the form `:class:`pandas.Series``)  \n",
    "- A pandas method (in the form `:meth:`pandas.Series.sum``)  \n",
    "- A pandas function (in the form `:func:`pandas.to_datetime``)  \n",
    "\n",
    "\n",
    ">**Note**\n",
    ">\n",
    ">To display only the last component of the linked class, method or\n",
    "function, prefix it with `~`. For example, `:class:`~pandas.Series``\n",
    "will link to `pandas.Series` but only display the last part, `Series`\n",
    "as the link text. See [Sphinx cross-referencing syntax](https://www.sphinx-doc.org/en/stable/domains.html#cross-referencing-syntax)\n",
    "for details.\n",
    "\n",
    "**Good:**"
   ]
  },
  {
   "cell_type": "code",
   "execution_count": null,
   "metadata": {
    "hide-output": false
   },
   "outputs": [],
   "source": [
    "def add_values(arr):\n",
    "    \"\"\"\n",
    "    Add the values in `arr`.\n",
    "\n",
    "    This is equivalent to Python `sum` of :meth:`pandas.Series.sum`.\n",
    "\n",
    "    Some sections are omitted here for simplicity.\n",
    "    \"\"\"\n",
    "    return sum(arr)"
   ]
  },
  {
   "cell_type": "markdown",
   "metadata": {},
   "source": [
    "**Bad:**"
   ]
  },
  {
   "cell_type": "code",
   "execution_count": null,
   "metadata": {
    "hide-output": false
   },
   "outputs": [],
   "source": [
    "def func():\n",
    "\n",
    "    \"\"\"Some function.\n",
    "\n",
    "    With several mistakes in the docstring.\n",
    "\n",
    "    It has a blank like after the signature `def func():`.\n",
    "\n",
    "    The text 'Some function' should go in the line after the\n",
    "    opening quotes of the docstring, not in the same line.\n",
    "\n",
    "    There is a blank line between the docstring and the first line\n",
    "    of code `foo = 1`.\n",
    "\n",
    "    The closing quotes should be in the next line, not in this one.\"\"\"\n",
    "\n",
    "    foo = 1\n",
    "    bar = 2\n",
    "    return foo + bar"
   ]
  },
  {
   "cell_type": "markdown",
   "metadata": {},
   "source": [
    "\n",
    "<a id='docstring-short-summary'></a>"
   ]
  },
  {
   "cell_type": "markdown",
   "metadata": {},
   "source": [
    "### Section 1: Short summary\n",
    "\n",
    "The short summary is a single sentence that expresses what the function does in\n",
    "a concise way.\n",
    "\n",
    "The short summary must start with a capital letter, end with a dot, and fit in\n",
    "a single line. It needs to express what the object does without providing\n",
    "details. For functions and methods, the short summary must start with an\n",
    "infinitive verb.\n",
    "\n",
    "**Good:**"
   ]
  },
  {
   "cell_type": "code",
   "execution_count": null,
   "metadata": {
    "hide-output": false
   },
   "outputs": [],
   "source": [
    "def astype(dtype):\n",
    "    \"\"\"\n",
    "    Cast Series type.\n",
    "\n",
    "    This section will provide further details.\n",
    "    \"\"\"\n",
    "    pass"
   ]
  },
  {
   "cell_type": "markdown",
   "metadata": {},
   "source": [
    "**Bad:**"
   ]
  },
  {
   "cell_type": "code",
   "execution_count": null,
   "metadata": {
    "hide-output": false
   },
   "outputs": [],
   "source": [
    "def astype(dtype):\n",
    "    \"\"\"\n",
    "    Casts Series type.\n",
    "\n",
    "    Verb in third-person of the present simple, should be infinitive.\n",
    "    \"\"\"\n",
    "    pass"
   ]
  },
  {
   "cell_type": "code",
   "execution_count": null,
   "metadata": {
    "hide-output": false
   },
   "outputs": [],
   "source": [
    "def astype(dtype):\n",
    "    \"\"\"\n",
    "    Method to cast Series type.\n",
    "\n",
    "    Does not start with verb.\n",
    "    \"\"\"\n",
    "    pass"
   ]
  },
  {
   "cell_type": "code",
   "execution_count": null,
   "metadata": {
    "hide-output": false
   },
   "outputs": [],
   "source": [
    "def astype(dtype):\n",
    "    \"\"\"\n",
    "    Cast Series type\n",
    "\n",
    "    Missing dot at the end.\n",
    "    \"\"\"\n",
    "    pass"
   ]
  },
  {
   "cell_type": "code",
   "execution_count": null,
   "metadata": {
    "hide-output": false
   },
   "outputs": [],
   "source": [
    "def astype(dtype):\n",
    "    \"\"\"\n",
    "    Cast Series type from its current type to the new type defined in\n",
    "    the parameter dtype.\n",
    "\n",
    "    Summary is too verbose and doesn't fit in a single line.\n",
    "    \"\"\"\n",
    "    pass"
   ]
  },
  {
   "cell_type": "markdown",
   "metadata": {},
   "source": [
    "\n",
    "<a id='docstring-extended-summary'></a>"
   ]
  },
  {
   "cell_type": "markdown",
   "metadata": {},
   "source": [
    "### Section 2: Extended summary\n",
    "\n",
    "The extended summary provides details on what the function does. It should not\n",
    "go into the details of the parameters, or discuss implementation notes, which\n",
    "go in other sections.\n",
    "\n",
    "A blank line is left between the short summary and the extended summary. And\n",
    "every paragraph in the extended summary is finished by a dot.\n",
    "\n",
    "The extended summary should provide details on why the function is useful and\n",
    "their use cases, if it is not too generic."
   ]
  },
  {
   "cell_type": "code",
   "execution_count": null,
   "metadata": {
    "hide-output": false
   },
   "outputs": [],
   "source": [
    "def unstack():\n",
    "    \"\"\"\n",
    "    Pivot a row index to columns.\n",
    "\n",
    "    When using a MultiIndex, a level can be pivoted so each value in\n",
    "    the index becomes a column. This is especially useful when a subindex\n",
    "    is repeated for the main index, and data is easier to visualize as a\n",
    "    pivot table.\n",
    "\n",
    "    The index level will be automatically removed from the index when added\n",
    "    as columns.\n",
    "    \"\"\"\n",
    "    pass"
   ]
  },
  {
   "cell_type": "markdown",
   "metadata": {},
   "source": [
    "\n",
    "<a id='docstring-parameters'></a>"
   ]
  },
  {
   "cell_type": "markdown",
   "metadata": {},
   "source": [
    "### Section 3: Parameters\n",
    "\n",
    "The details of the parameters will be added in this section. This section has\n",
    "the title “Parameters”, followed by a line with a hyphen under each letter of\n",
    "the word “Parameters”. A blank line is left before the section title, but not\n",
    "after, and not between the line with the word “Parameters” and the one with\n",
    "the hyphens.\n",
    "\n",
    "After the title, each parameter in the signature must be documented, including\n",
    "*args and **kwargs, but not self.\n",
    "\n",
    "The parameters are defined by their name, followed by a space, a colon, another\n",
    "space, and the type (or types). Note that the space between the name and the\n",
    "colon is important. Types are not defined for *args and **kwargs, but must\n",
    "be defined for all other parameters. After the parameter definition, it is\n",
    "required to have a line with the parameter description, which is indented, and\n",
    "can have multiple lines. The description must start with a capital letter, and\n",
    "finish with a dot.\n",
    "\n",
    "For keyword arguments with a default value, the default will be listed after a\n",
    "comma at the end of the type. The exact form of the type in this case will be\n",
    "“int, default 0”. In some cases it may be useful to explain what the default\n",
    "argument means, which can be added after a comma “int, default -1, meaning all\n",
    "cpus”.\n",
    "\n",
    "In cases where the default value is None, meaning that the value will not be\n",
    "used. Instead of “str, default None”, it is preferred to write “str, optional”.\n",
    "When None is a value being used, we will keep the form “str, default None”.\n",
    "For example, in df.to_csv(compression=None), None is not a value being used,\n",
    "but means that compression is optional, and no compression is being used if not\n",
    "provided. In this case we will use str, optional. Only in cases like\n",
    "func(value=None) and None is being used in the same way as 0 or foo\n",
    "would be used, then we will specify “str, int or None, default None”.\n",
    "\n",
    "**Good:**"
   ]
  },
  {
   "cell_type": "code",
   "execution_count": null,
   "metadata": {
    "hide-output": false
   },
   "outputs": [],
   "source": [
    "class Series:\n",
    "    def plot(self, kind, color='blue', **kwargs):\n",
    "        \"\"\"\n",
    "        Generate a plot.\n",
    "\n",
    "        Render the data in the Series as a matplotlib plot of the\n",
    "        specified kind.\n",
    "\n",
    "        Parameters\n",
    "        ----------\n",
    "        kind : str\n",
    "            Kind of matplotlib plot.\n",
    "        color : str, default 'blue'\n",
    "            Color name or rgb code.\n",
    "        **kwargs\n",
    "            These parameters will be passed to the matplotlib plotting\n",
    "            function.\n",
    "        \"\"\"\n",
    "        pass"
   ]
  },
  {
   "cell_type": "markdown",
   "metadata": {},
   "source": [
    "**Bad:**"
   ]
  },
  {
   "cell_type": "code",
   "execution_count": null,
   "metadata": {
    "hide-output": false
   },
   "outputs": [],
   "source": [
    "class Series:\n",
    "    def plot(self, kind, **kwargs):\n",
    "        \"\"\"\n",
    "        Generate a plot.\n",
    "\n",
    "        Render the data in the Series as a matplotlib plot of the\n",
    "        specified kind.\n",
    "\n",
    "        Note the blank line between the parameters title and the first\n",
    "        parameter. Also, note that after the name of the parameter `kind`\n",
    "        and before the colon, a space is missing.\n",
    "\n",
    "        Also, note that the parameter descriptions do not start with a\n",
    "        capital letter, and do not finish with a dot.\n",
    "\n",
    "        Finally, the `**kwargs` parameter is missing.\n",
    "\n",
    "        Parameters\n",
    "        ----------\n",
    "\n",
    "        kind: str\n",
    "            kind of matplotlib plot\n",
    "        \"\"\"\n",
    "        pass"
   ]
  },
  {
   "cell_type": "markdown",
   "metadata": {},
   "source": [
    "\n",
    "<a id='docstring-parameter-types'></a>"
   ]
  },
  {
   "cell_type": "markdown",
   "metadata": {},
   "source": [
    "#### Parameter types\n",
    "\n",
    "When specifying the parameter types, Python built-in data types can be used\n",
    "directly (the Python type is preferred to the more verbose string, integer,\n",
    "boolean, etc):\n",
    "\n",
    "- int  \n",
    "- float  \n",
    "- str  \n",
    "- bool  \n",
    "\n",
    "\n",
    "For complex types, define the subtypes. For dict and tuple, as more than\n",
    "one type is present, we use the brackets to help read the type (curly brackets\n",
    "for dict and normal brackets for tuple):\n",
    "\n",
    "- list of int  \n",
    "- dict of {str : int}  \n",
    "- tuple of (str, int, int)  \n",
    "- tuple of (str,)  \n",
    "- set of str  \n",
    "\n",
    "\n",
    "In case where there are just a set of values allowed, list them in curly\n",
    "brackets and separated by commas (followed by a space). If the values are\n",
    "ordinal and they have an order, list them in this order. Otherwise, list\n",
    "the default value first, if there is one:\n",
    "\n",
    "- {0, 10, 25}  \n",
    "- {‘simple’, ‘advanced’}  \n",
    "- {‘low’, ‘medium’, ‘high’}  \n",
    "- {‘cat’, ‘dog’, ‘bird’}  \n",
    "\n",
    "\n",
    "If the type is defined in a Python module, the module must be specified:\n",
    "\n",
    "- datetime.date  \n",
    "- datetime.datetime  \n",
    "- decimal.Decimal  \n",
    "\n",
    "\n",
    "If the type is in a package, the module must be also specified:\n",
    "\n",
    "- numpy.ndarray  \n",
    "- scipy.sparse.coo_matrix  \n",
    "\n",
    "\n",
    "If the type is a pandas type, also specify pandas except for Series and\n",
    "DataFrame:\n",
    "\n",
    "- Series  \n",
    "- DataFrame  \n",
    "- pandas.Index  \n",
    "- pandas.Categorical  \n",
    "- pandas.SparseArray  \n",
    "\n",
    "\n",
    "If the exact type is not relevant, but must be compatible with a numpy\n",
    "array, array-like can be specified. If Any type that can be iterated is\n",
    "accepted, iterable can be used:\n",
    "\n",
    "- array-like  \n",
    "- iterable  \n",
    "\n",
    "\n",
    "If more than one type is accepted, separate them by commas, except the\n",
    "last two types, that need to be separated by the word ‘or’:\n",
    "\n",
    "- int or float  \n",
    "- float, decimal.Decimal or None  \n",
    "- str or list of str  \n",
    "\n",
    "\n",
    "If `None` is one of the accepted values, it always needs to be the last in\n",
    "the list.\n",
    "\n",
    "For axis, the convention is to use something like:\n",
    "\n",
    "- axis : {0 or ‘index’, 1 or ‘columns’, None}, default None  \n",
    "\n",
    "\n",
    "\n",
    "<a id='docstring-returns'></a>"
   ]
  },
  {
   "cell_type": "markdown",
   "metadata": {},
   "source": [
    "### Section 4: Returns or Yields\n",
    "\n",
    "If the method returns a value, it will be documented in this section. Also\n",
    "if the method yields its output.\n",
    "\n",
    "The title of the section will be defined in the same way as the “Parameters”.\n",
    "With the names “Returns” or “Yields” followed by a line with as many hyphens\n",
    "as the letters in the preceding word.\n",
    "\n",
    "The documentation of the return is also similar to the parameters. But in this\n",
    "case, no name will be provided, unless the method returns or yields more than\n",
    "one value (a tuple of values).\n",
    "\n",
    "The types for “Returns” and “Yields” are the same as the ones for the\n",
    "“Parameters”. Also, the description must finish with a dot.\n",
    "\n",
    "For example, with a single value:"
   ]
  },
  {
   "cell_type": "code",
   "execution_count": null,
   "metadata": {
    "hide-output": false
   },
   "outputs": [],
   "source": [
    "def sample():\n",
    "    \"\"\"\n",
    "    Generate and return a random number.\n",
    "\n",
    "    The value is sampled from a continuous uniform distribution between\n",
    "    0 and 1.\n",
    "\n",
    "    Returns\n",
    "    -------\n",
    "    float\n",
    "        Random number generated.\n",
    "    \"\"\"\n",
    "    return np.random.random()"
   ]
  },
  {
   "cell_type": "markdown",
   "metadata": {},
   "source": [
    "With more than one value:"
   ]
  },
  {
   "cell_type": "code",
   "execution_count": null,
   "metadata": {
    "hide-output": false
   },
   "outputs": [],
   "source": [
    "import string\n",
    "\n",
    "def random_letters():\n",
    "    \"\"\"\n",
    "    Generate and return a sequence of random letters.\n",
    "\n",
    "    The length of the returned string is also random, and is also\n",
    "    returned.\n",
    "\n",
    "    Returns\n",
    "    -------\n",
    "    length : int\n",
    "        Length of the returned string.\n",
    "    letters : str\n",
    "        String of random letters.\n",
    "    \"\"\"\n",
    "    length = np.random.randint(1, 10)\n",
    "    letters = ''.join(np.random.choice(string.ascii_lowercase)\n",
    "                      for i in range(length))\n",
    "    return length, letters"
   ]
  },
  {
   "cell_type": "markdown",
   "metadata": {},
   "source": [
    "If the method yields its value:"
   ]
  },
  {
   "cell_type": "code",
   "execution_count": null,
   "metadata": {
    "hide-output": false
   },
   "outputs": [],
   "source": [
    "def sample_values():\n",
    "    \"\"\"\n",
    "    Generate an infinite sequence of random numbers.\n",
    "\n",
    "    The values are sampled from a continuous uniform distribution between\n",
    "    0 and 1.\n",
    "\n",
    "    Yields\n",
    "    ------\n",
    "    float\n",
    "        Random number generated.\n",
    "    \"\"\"\n",
    "    while True:\n",
    "        yield np.random.random()"
   ]
  },
  {
   "cell_type": "markdown",
   "metadata": {},
   "source": [
    "\n",
    "<a id='docstring-see-also'></a>"
   ]
  },
  {
   "cell_type": "markdown",
   "metadata": {},
   "source": [
    "### Section 5: See Also\n",
    "\n",
    "This section is used to let users know about pandas functionality\n",
    "related to the one being documented. In rare cases, if no related methods\n",
    "or functions can be found at all, this section can be skipped.\n",
    "\n",
    "An obvious example would be the head() and tail() methods. As tail() does\n",
    "the equivalent as head() but at the end of the Series or DataFrame\n",
    "instead of at the beginning, it is good to let the users know about it.\n",
    "\n",
    "To give an intuition on what can be considered related, here there are some\n",
    "examples:\n",
    "\n",
    "- `loc` and `iloc`, as they do the same, but in one case providing indices\n",
    "  and in the other positions  \n",
    "- `max` and `min`, as they do the opposite  \n",
    "- `iterrows`, `itertuples` and `items`, as it is easy that a user\n",
    "  looking for the method to iterate over columns ends up in the method to\n",
    "  iterate over rows, and vice-versa  \n",
    "- `fillna` and `dropna`, as both methods are used to handle missing values  \n",
    "- `read_csv` and `to_csv`, as they are complementary  \n",
    "- `merge` and `join`, as one is a generalization of the other  \n",
    "- `astype` and `pandas.to_datetime`, as users may be reading the\n",
    "  documentation of `astype` to know how to cast as a date, and the way to do\n",
    "  it is with `pandas.to_datetime`  \n",
    "- `where` is related to `numpy.where`, as its functionality is based on it  \n",
    "\n",
    "\n",
    "When deciding what is related, you should mainly use your common sense and\n",
    "think about what can be useful for the users reading the documentation,\n",
    "especially the less experienced ones.\n",
    "\n",
    "When relating to other libraries (mainly `numpy`), use the name of the module\n",
    "first (not an alias like `np`). If the function is in a module which is not\n",
    "the main one, like `scipy.sparse`, list the full module (e.g.\n",
    "`scipy.sparse.coo_matrix`).\n",
    "\n",
    "This section, as the previous, also has a header, “See Also” (note the capital\n",
    "S and A). Also followed by the line with hyphens, and preceded by a blank line.\n",
    "\n",
    "After the header, we will add a line for each related method or function,\n",
    "followed by a space, a colon, another space, and a short description that\n",
    "illustrated what this method or function does, why is it relevant in this\n",
    "context, and what are the key differences between the documented function and\n",
    "the one referencing. The description must also finish with a dot.\n",
    "\n",
    "Note that in “Returns” and “Yields”, the description is located in the\n",
    "following line than the type. But in this section it is located in the same\n",
    "line, with a colon in between. If the description does not fit in the same\n",
    "line, it can continue in the next ones, but it has to be indented in them.\n",
    "\n",
    "For example:"
   ]
  },
  {
   "cell_type": "code",
   "execution_count": null,
   "metadata": {
    "hide-output": false
   },
   "outputs": [],
   "source": [
    "class Series:\n",
    "    def head(self):\n",
    "        \"\"\"\n",
    "        Return the first 5 elements of the Series.\n",
    "\n",
    "        This function is mainly useful to preview the values of the\n",
    "        Series without displaying the whole of it.\n",
    "\n",
    "        Returns\n",
    "        -------\n",
    "        Series\n",
    "            Subset of the original series with the 5 first values.\n",
    "\n",
    "        See Also\n",
    "        --------\n",
    "        Series.tail : Return the last 5 elements of the Series.\n",
    "        Series.iloc : Return a slice of the elements in the Series,\n",
    "            which can also be used to return the first or last n.\n",
    "        \"\"\"\n",
    "        return self.iloc[:5]"
   ]
  },
  {
   "cell_type": "markdown",
   "metadata": {},
   "source": [
    "\n",
    "<a id='docstring-notes'></a>"
   ]
  },
  {
   "cell_type": "markdown",
   "metadata": {},
   "source": [
    "### Section 6: Notes\n",
    "\n",
    "This is an optional section used for notes about the implementation of the\n",
    "algorithm. Or to document technical aspects of the function behavior.\n",
    "\n",
    "Feel free to skip it, unless you are familiar with the implementation of the\n",
    "algorithm, or you discover some counter-intuitive behavior while writing the\n",
    "examples for the function.\n",
    "\n",
    "This section follows the same format as the extended summary section.\n",
    "\n",
    "\n",
    "<a id='docstring-examples'></a>"
   ]
  },
  {
   "cell_type": "markdown",
   "metadata": {},
   "source": [
    "### Section 7: Examples\n",
    "\n",
    "This is one of the most important sections of a docstring, even if it is\n",
    "placed in the last position. As often, people understand concepts better\n",
    "with examples, than with accurate explanations.\n",
    "\n",
    "Examples in docstrings, besides illustrating the usage of the function or\n",
    "method, must be valid Python code, that in a deterministic way returns the\n",
    "presented output, and that can be copied and run by users.\n",
    "\n",
    "They are presented as a session in the Python terminal. >>> is used to\n",
    "present code. … is used for code continuing from the previous line.\n",
    "Output is presented immediately after the last line of code generating the\n",
    "output (no blank lines in between). Comments describing the examples can\n",
    "be added with blank lines before and after them.\n",
    "\n",
    "The way to present examples is as follows:\n",
    "\n",
    "1. Import required libraries (except `numpy` and `pandas`)  \n",
    "1. Create the data required for the example  \n",
    "1. Show a very basic example that gives an idea of the most common use case  \n",
    "1. Add examples with explanations that illustrate how the parameters can be\n",
    "  used for extended functionality  \n",
    "\n",
    "\n",
    "A simple example could be:"
   ]
  },
  {
   "cell_type": "code",
   "execution_count": null,
   "metadata": {
    "hide-output": false
   },
   "outputs": [],
   "source": [
    "class Series:\n",
    "\n",
    "    def head(self, n=5):\n",
    "        \"\"\"\n",
    "        Return the first elements of the Series.\n",
    "\n",
    "        This function is mainly useful to preview the values of the\n",
    "        Series without displaying the whole of it.\n",
    "\n",
    "        Parameters\n",
    "        ----------\n",
    "        n : int\n",
    "            Number of values to return.\n",
    "\n",
    "        Return\n",
    "        ------\n",
    "        pandas.Series\n",
    "            Subset of the original series with the n first values.\n",
    "\n",
    "        See Also\n",
    "        --------\n",
    "        tail : Return the last n elements of the Series.\n",
    "\n",
    "        Examples\n",
    "        --------\n",
    "        >>> s = pd.Series(['Ant', 'Bear', 'Cow', 'Dog', 'Falcon',\n",
    "        ...                'Lion', 'Monkey', 'Rabbit', 'Zebra'])\n",
    "        >>> s.head()\n",
    "        0   Ant\n",
    "        1   Bear\n",
    "        2   Cow\n",
    "        3   Dog\n",
    "        4   Falcon\n",
    "        dtype: object\n",
    "\n",
    "        With the `n` parameter, we can change the number of returned rows:\n",
    "\n",
    "        >>> s.head(n=3)\n",
    "        0   Ant\n",
    "        1   Bear\n",
    "        2   Cow\n",
    "        dtype: object\n",
    "        \"\"\"\n",
    "        return self.iloc[:n]"
   ]
  },
  {
   "cell_type": "markdown",
   "metadata": {},
   "source": [
    "The examples should be as concise as possible. In cases where the complexity of\n",
    "the function requires long examples, is recommended to use blocks with headers\n",
    "in bold. Use double star `**` to make a text bold, like in `**this example**`.\n",
    "\n",
    "\n",
    "<a id='docstring-example-conventions'></a>"
   ]
  },
  {
   "cell_type": "markdown",
   "metadata": {},
   "source": [
    "#### Conventions for the examples\n",
    "\n",
    "Code in examples is assumed to always start with these two lines which are not\n",
    "shown:"
   ]
  },
  {
   "cell_type": "code",
   "execution_count": null,
   "metadata": {
    "hide-output": false
   },
   "outputs": [],
   "source": [
    "import numpy as np\n",
    "import pandas as pd"
   ]
  },
  {
   "cell_type": "markdown",
   "metadata": {},
   "source": [
    "Any other module used in the examples must be explicitly imported, one per line (as\n",
    "recommended in [**PEP 8#imports**](https://www.python.org/dev/peps/pep-0008#imports))\n",
    "and avoiding aliases. Avoid excessive imports, but if needed, imports from\n",
    "the standard library go first, followed by third-party libraries (like\n",
    "matplotlib).\n",
    "\n",
    "When illustrating examples with a single `Series` use the name `s`, and if\n",
    "illustrating with a single `DataFrame` use the name `df`. For indices,\n",
    "`idx` is the preferred name. If a set of homogeneous `Series` or\n",
    "`DataFrame` is used, name them `s1`, `s2`, `s3`…  or `df1`,\n",
    "`df2`, `df3`… If the data is not homogeneous, and more than one structure\n",
    "is needed, name them with something meaningful, for example `df_main` and\n",
    "`df_to_join`.\n",
    "\n",
    "Data used in the example should be as compact as possible. The number of rows\n",
    "is recommended to be around 4, but make it a number that makes sense for the\n",
    "specific example. For example in the `head` method, it requires to be higher\n",
    "than 5, to show the example with the default values. If doing the `mean`, we\n",
    "could use something like `[1, 2, 3]`, so it is easy to see that the value\n",
    "returned is the mean.\n",
    "\n",
    "For more complex examples (grouping for example), avoid using data without\n",
    "interpretation, like a matrix of random numbers with columns A, B, C, D…\n",
    "And instead use a meaningful example, which makes it easier to understand the\n",
    "concept. Unless required by the example, use names of animals, to keep examples\n",
    "consistent. And numerical properties of them.\n",
    "\n",
    "When calling the method, keywords arguments `head(n=3)` are preferred to\n",
    "positional arguments `head(3)`.\n",
    "\n",
    "**Good:**"
   ]
  },
  {
   "cell_type": "code",
   "execution_count": null,
   "metadata": {
    "hide-output": false
   },
   "outputs": [],
   "source": [
    "class Series:\n",
    "\n",
    "    def mean(self):\n",
    "        \"\"\"\n",
    "        Compute the mean of the input.\n",
    "\n",
    "        Examples\n",
    "        --------\n",
    "        >>> s = pd.Series([1, 2, 3])\n",
    "        >>> s.mean()\n",
    "        2\n",
    "        \"\"\"\n",
    "        pass\n",
    "\n",
    "\n",
    "    def fillna(self, value):\n",
    "        \"\"\"\n",
    "        Replace missing values by `value`.\n",
    "\n",
    "        Examples\n",
    "        --------\n",
    "        >>> s = pd.Series([1, np.nan, 3])\n",
    "        >>> s.fillna(0)\n",
    "        [1, 0, 3]\n",
    "        \"\"\"\n",
    "        pass\n",
    "\n",
    "    def groupby_mean(self):\n",
    "        \"\"\"\n",
    "        Group by index and return mean.\n",
    "\n",
    "        Examples\n",
    "        --------\n",
    "        >>> s = pd.Series([380., 370., 24., 26],\n",
    "        ...               name='max_speed',\n",
    "        ...               index=['falcon', 'falcon', 'parrot', 'parrot'])\n",
    "        >>> s.groupby_mean()\n",
    "        index\n",
    "        falcon    375.0\n",
    "        parrot     25.0\n",
    "        Name: max_speed, dtype: float64\n",
    "        \"\"\"\n",
    "        pass\n",
    "\n",
    "    def contains(self, pattern, case_sensitive=True, na=numpy.nan):\n",
    "        \"\"\"\n",
    "        Return whether each value contains `pattern`.\n",
    "\n",
    "        In this case, we are illustrating how to use sections, even\n",
    "        if the example is simple enough and does not require them.\n",
    "\n",
    "        Examples\n",
    "        --------\n",
    "        >>> s = pd.Series('Antelope', 'Lion', 'Zebra', np.nan)\n",
    "        >>> s.contains(pattern='a')\n",
    "        0    False\n",
    "        1    False\n",
    "        2     True\n",
    "        3      NaN\n",
    "        dtype: bool\n",
    "\n",
    "        **Case sensitivity**\n",
    "\n",
    "        With `case_sensitive` set to `False` we can match `a` with both\n",
    "        `a` and `A`:\n",
    "\n",
    "        >>> s.contains(pattern='a', case_sensitive=False)\n",
    "        0     True\n",
    "        1    False\n",
    "        2     True\n",
    "        3      NaN\n",
    "        dtype: bool\n",
    "\n",
    "        **Missing values**\n",
    "\n",
    "        We can fill missing values in the output using the `na` parameter:\n",
    "\n",
    "        >>> s.contains(pattern='a', na=False)\n",
    "        0    False\n",
    "        1    False\n",
    "        2     True\n",
    "        3    False\n",
    "        dtype: bool\n",
    "        \"\"\"\n",
    "        pass"
   ]
  },
  {
   "cell_type": "markdown",
   "metadata": {},
   "source": [
    "**Bad:**"
   ]
  },
  {
   "cell_type": "code",
   "execution_count": null,
   "metadata": {
    "hide-output": false
   },
   "outputs": [],
   "source": [
    "def method(foo=None, bar=None):\n",
    "    \"\"\"\n",
    "    A sample DataFrame method.\n",
    "\n",
    "    Do not import numpy and pandas.\n",
    "\n",
    "    Try to use meaningful data, when it makes the example easier\n",
    "    to understand.\n",
    "\n",
    "    Try to avoid positional arguments like in `df.method(1)`. They\n",
    "    can be all right if previously defined with a meaningful name,\n",
    "    like in `present_value(interest_rate)`, but avoid them otherwise.\n",
    "\n",
    "    When presenting the behavior with different parameters, do not place\n",
    "    all the calls one next to the other. Instead, add a short sentence\n",
    "    explaining what the example shows.\n",
    "\n",
    "    Examples\n",
    "    --------\n",
    "    >>> import numpy as np\n",
    "    >>> import pandas as pd\n",
    "    >>> df = pd.DataFrame(np.random.randn(3, 3),\n",
    "    ...                   columns=('a', 'b', 'c'))\n",
    "    >>> df.method(1)\n",
    "    21\n",
    "    >>> df.method(bar=14)\n",
    "    123\n",
    "    \"\"\"\n",
    "    pass"
   ]
  },
  {
   "cell_type": "markdown",
   "metadata": {},
   "source": [
    "\n",
    "<a id='docstring-doctest-tips'></a>"
   ]
  },
  {
   "cell_type": "markdown",
   "metadata": {},
   "source": [
    "#### Tips for getting your examples pass the doctests\n",
    "\n",
    "Getting the examples pass the doctests in the validation script can sometimes\n",
    "be tricky. Here are some attention points:\n",
    "\n",
    "- Import all needed libraries (except for pandas and numpy, those are already\n",
    "  imported as `import pandas as pd` and `import numpy as np`) and define\n",
    "  all variables you use in the example.  \n",
    "- Try to avoid using random data. However random data might be OK in some\n",
    "cases, like if the function you are documenting deals with probability\n",
    "distributions, or if the amount of data needed to make the function result\n",
    "meaningful is too much, such that creating it manually is very cumbersome.\n",
    "In those cases, always use a fixed random seed to make the generated examples\n",
    "predictable. Example:  "
   ]
  },
  {
   "cell_type": "code",
   "execution_count": null,
   "metadata": {
    "hide-output": false
   },
   "outputs": [],
   "source": [
    ">>> np.random.seed(42)\n",
    ">>> df = pd.DataFrame({'normal': np.random.normal(100, 5, 20)})"
   ]
  },
  {
   "cell_type": "markdown",
   "metadata": {},
   "source": [
    "- If you have a code snippet that wraps multiple lines, you need to use ‘…’\n",
    "on the continued lines:  "
   ]
  },
  {
   "cell_type": "code",
   "execution_count": null,
   "metadata": {
    "hide-output": false
   },
   "outputs": [],
   "source": [
    ">>> df = pd.DataFrame([[1, 2, 3], [4, 5, 6]], index=['a', 'b', 'c'],\n",
    "...                   columns=['A', 'B'])"
   ]
  },
  {
   "cell_type": "markdown",
   "metadata": {},
   "source": [
    "- If you want to show a case where an exception is raised, you can do:  "
   ]
  },
  {
   "cell_type": "code",
   "execution_count": null,
   "metadata": {
    "hide-output": false
   },
   "outputs": [],
   "source": [
    ">>> pd.to_datetime([\"712-01-01\"])\n",
    "Traceback (most recent call last):\n",
    "OutOfBoundsDatetime: Out of bounds nanosecond timestamp: 712-01-01 00:00:00"
   ]
  },
  {
   "cell_type": "markdown",
   "metadata": {},
   "source": [
    "It is essential to include the “Traceback (most recent call last):”, but for\n",
    "the actual error only the error name is sufficient.  \n",
    "- If there is a small part of the result that can vary (e.g. a hash in an object\n",
    "representation), you can use `...` to represent this part.  \n",
    "If you want to show that `s.plot()` returns a matplotlib AxesSubplot object,\n",
    "this will fail the doctest  "
   ]
  },
  {
   "cell_type": "code",
   "execution_count": null,
   "metadata": {
    "hide-output": false
   },
   "outputs": [],
   "source": [
    ">>> s.plot()\n",
    "<matplotlib.axes._subplots.AxesSubplot at 0x7efd0c0b0690>"
   ]
  },
  {
   "cell_type": "markdown",
   "metadata": {},
   "source": [
    "However, you can do (notice the comment that needs to be added)  "
   ]
  },
  {
   "cell_type": "code",
   "execution_count": null,
   "metadata": {
    "hide-output": false
   },
   "outputs": [],
   "source": [
    ">>> s.plot()  \n",
    "<matplotlib.axes._subplots.AxesSubplot at ...>"
   ]
  },
  {
   "cell_type": "markdown",
   "metadata": {},
   "source": [
    "\n",
    "\n",
    "\n",
    "<a id='docstring-example-plots'></a>"
   ]
  },
  {
   "cell_type": "markdown",
   "metadata": {},
   "source": [
    "#### Plots in examples\n",
    "\n",
    "There are some methods in pandas returning plots. To render the plots generated\n",
    "by the examples in the documentation, the `.. plot::` directive exists.\n",
    "\n",
    "To use it, place the next code after the “Examples” header as shown below. The\n",
    "plot will be generated automatically when building the documentation."
   ]
  },
  {
   "cell_type": "code",
   "execution_count": null,
   "metadata": {
    "hide-output": false
   },
   "outputs": [],
   "source": [
    "class Series:\n",
    "    def plot(self):\n",
    "        \"\"\"\n",
    "        Generate a plot with the `Series` data.\n",
    "\n",
    "        Examples\n",
    "        --------\n",
    "\n",
    "        .. plot::\n",
    "            :context: close-figs\n",
    "\n",
    "            >>> s = pd.Series([1, 2, 3])\n",
    "            >>> s.plot()\n",
    "        \"\"\"\n",
    "        pass"
   ]
  },
  {
   "cell_type": "markdown",
   "metadata": {},
   "source": [
    "\n",
    "<a id='docstring-sharing'></a>"
   ]
  },
  {
   "cell_type": "markdown",
   "metadata": {},
   "source": [
    "## Sharing docstrings\n",
    "\n",
    "Pandas has a system for sharing docstrings, with slight variations, between\n",
    "classes. This helps us keep docstrings consistent, while keeping things clear\n",
    "for the user reading. It comes at the cost of some complexity when writing.\n",
    "\n",
    "Each shared docstring will have a base template with variables, like\n",
    "`%(klass)s`. The variables filled in later on using the `Substitution`\n",
    "decorator. Finally, docstrings can be appended to with the `Appender`\n",
    "decorator.\n",
    "\n",
    "In this example, we’ll create a parent docstring normally (this is like\n",
    "`pandas.core.generic.NDFrame`. Then we’ll have two children (like\n",
    "`pandas.core.series.Series` and `pandas.core.frame.DataFrame`). We’ll\n",
    "substitute the children’s class names in this docstring."
   ]
  },
  {
   "cell_type": "code",
   "execution_count": null,
   "metadata": {
    "hide-output": false
   },
   "outputs": [],
   "source": [
    "class Parent:\n",
    "    def my_function(self):\n",
    "        \"\"\"Apply my function to %(klass)s.\"\"\"\n",
    "        ...\n",
    "\n",
    "\n",
    "class ChildA(Parent):\n",
    "    @Substitution(klass=\"ChildA\")\n",
    "    @Appender(Parent.my_function.__doc__)\n",
    "    def my_function(self):\n",
    "        ...\n",
    "\n",
    "\n",
    "class ChildB(Parent):\n",
    "    @Substitution(klass=\"ChildB\")\n",
    "    @Appender(Parent.my_function.__doc__)\n",
    "    def my_function(self):\n",
    "        ..."
   ]
  },
  {
   "cell_type": "markdown",
   "metadata": {},
   "source": [
    "The resulting docstrings are"
   ]
  },
  {
   "cell_type": "code",
   "execution_count": null,
   "metadata": {
    "hide-output": false
   },
   "outputs": [],
   "source": [
    ">>> print(Parent.my_function.__doc__)\n",
    "Apply my function to %(klass)s.\n",
    ">>> print(ChildA.my_function.__doc__)\n",
    "Apply my function to ChildA.\n",
    ">>> print(ChildB.my_function.__doc__)\n",
    "Apply my function to ChildB."
   ]
  },
  {
   "cell_type": "markdown",
   "metadata": {},
   "source": [
    "Notice two things:\n",
    "\n",
    "1. We “append” the parent docstring to the children docstrings, which are\n",
    "  initially empty.  \n",
    "1. Python decorators are applied inside out. So the order is Append then\n",
    "  Substitution, even though Substitution comes first in the file.  \n",
    "\n",
    "\n",
    "Our files will often contain a module-level `_shared_doc_kwargs` with some\n",
    "common substitution values (things like `klass`, `axes`, etc).\n",
    "\n",
    "You can substitute and append in one shot with something like"
   ]
  },
  {
   "cell_type": "code",
   "execution_count": null,
   "metadata": {
    "hide-output": false
   },
   "outputs": [],
   "source": [
    "@Appender(template % _shared_doc_kwargs)\n",
    "def my_function(self):\n",
    "    ..."
   ]
  },
  {
   "cell_type": "markdown",
   "metadata": {},
   "source": [
    "where `template` may come from a module-level `_shared_docs` dictionary\n",
    "mapping function names to docstrings. Wherever possible, we prefer using\n",
    "`Appender` and `Substitution`, since the docstring-writing processes is\n",
    "slightly closer to normal.\n",
    "\n",
    "See `pandas.core.generic.NDFrame.fillna` for an example template, and\n",
    "`pandas.core.series.Series.fillna` and `pandas.core.generic.frame.fillna`\n",
    "for the filled versions."
   ]
  }
 ],
 "metadata": {
  "filename": "contributing_docstring.rst",
  "kernelspec": {
   "display_name": "Python",
   "language": "python3",
   "name": "python3"
  },
  "title": "pandas docstring guide"
 },
 "nbformat": 4,
 "nbformat_minor": 2
}