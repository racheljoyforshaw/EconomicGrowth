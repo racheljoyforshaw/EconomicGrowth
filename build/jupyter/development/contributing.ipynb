{
 "cells": [
  {
   "cell_type": "markdown",
   "metadata": {},
   "source": [
    "\n",
    "<a id='contributing'></a>\n",
    "{{ header }}"
   ]
  },
  {
   "cell_type": "markdown",
   "metadata": {},
   "source": [
    "# Contributing to pandas"
   ]
  },
  {
   "cell_type": "markdown",
   "metadata": {},
   "source": [
    "## Table of contents:\n",
    "\n",
    "- [Where to start?](#Where-to-start?)  \n",
    "- [Bug reports and enhancement requests](#Bug-reports-and-enhancement-requests)  \n",
    "- [Working with the code](#Working-with-the-code)  \n",
    "  - [Version control, Git, and GitHub](#Version-control,-Git,-and-GitHub)  \n",
    "  - [Getting started with Git](#Getting-started-with-Git)  \n",
    "  - [Forking](#Forking)  \n",
    "  - [Creating a development environment](#Creating-a-development-environment)  \n",
    "    - [Installing a C compiler](#Installing-a-C-compiler)  \n",
    "    - [Creating a Python environment](#Creating-a-Python-environment)  \n",
    "    - [Creating a Python environment (pip)](#Creating-a-Python-environment-(pip))  \n",
    "  - [Creating a branch](#Creating-a-branch)  \n",
    "- [Contributing to the documentation](#Contributing-to-the-documentation)  \n",
    "  - [About the *pandas* documentation](#About-the-*pandas*-documentation)  \n",
    "  - [Updating a *pandas* docstring](#Updating-a-*pandas*-docstring)  \n",
    "  - [How to build the *pandas* documentation](#How-to-build-the-*pandas*-documentation)  \n",
    "    - [Requirements](#Requirements)  \n",
    "    - [Building the documentation](#Building-the-documentation)  \n",
    "    - [Building master branch documentation](#Building-master-branch-documentation)  \n",
    "- [Contributing to the code base](#Contributing-to-the-code-base)  \n",
    "  - [Code standards](#Code-standards)  \n",
    "  - [Optional dependencies](#Optional-dependencies)  \n",
    "    - [C (cpplint)](#C-(cpplint))  \n",
    "    - [Python (PEP8 / black)](#Python-(PEP8-/-black))  \n",
    "    - [Import formatting](#Import-formatting)  \n",
    "    - [Backwards compatibility](#Backwards-compatibility)  \n",
    "  - [Testing with continuous integration](#Testing-with-continuous-integration)  \n",
    "  - [Test-driven development/code writing](#Test-driven-development/code-writing)  \n",
    "    - [Writing tests](#Writing-tests)  \n",
    "    - [Transitioning to `pytest`](#Transitioning-to-`pytest`)  \n",
    "    - [Using `pytest`](#Using-`pytest`)  \n",
    "    - [Using `hypothesis`](#Using-`hypothesis`)  \n",
    "    - [Testing warnings](#Testing-warnings)  \n",
    "  - [Running the test suite](#Running-the-test-suite)  \n",
    "  - [Running the performance test suite](#Running-the-performance-test-suite)  \n",
    "  - [Documenting your code](#Documenting-your-code)  \n",
    "- [Contributing your changes to *pandas*](#Contributing-your-changes-to-*pandas*)  \n",
    "  - [Committing your code](#Committing-your-code)  \n",
    "  - [Pushing your changes](#Pushing-your-changes)  \n",
    "  - [Review your code](#Review-your-code)  \n",
    "  - [Finally, make the pull request](#Finally,-make-the-pull-request)  \n",
    "  - [Updating your pull request](#Updating-your-pull-request)  \n",
    "  - [Delete your merged branch (optional)](#Delete-your-merged-branch-(optional))  "
   ]
  },
  {
   "cell_type": "markdown",
   "metadata": {},
   "source": [
    "## Where to start?\n",
    "\n",
    "All contributions, bug reports, bug fixes, documentation improvements,\n",
    "enhancements, and ideas are welcome.\n",
    "\n",
    "If you are brand new to pandas or open-source development, we recommend going\n",
    "through the [GitHub “issues” tab](https://github.com/pandas-dev/pandas/issues)\n",
    "to find issues that interest you. There are a number of issues listed under [Docs](https://github.com/pandas-dev/pandas/issues?labels=Docs&sort=updated&state=open)\n",
    "and [good first issue](https://github.com/pandas-dev/pandas/issues?labels=good+first+issue&sort=updated&state=open)\n",
    "where you could start out. Once you’ve found an interesting issue, you can\n",
    "return here to get your development environment setup.\n",
    "\n",
    "Feel free to ask questions on the [mailing list](https://groups.google.com/forum/?fromgroups#!forum/pydata) or on [Gitter](https://gitter.im/pydata/pandas).\n",
    "\n",
    "\n",
    "<a id='contributing-bug-reports'></a>"
   ]
  },
  {
   "cell_type": "markdown",
   "metadata": {},
   "source": [
    "## Bug reports and enhancement requests\n",
    "\n",
    "Bug reports are an important part of making *pandas* more stable. Having a complete bug report\n",
    "will allow others to reproduce the bug and provide insight into fixing. See\n",
    "[this stackoverflow article](https://stackoverflow.com/help/mcve) and\n",
    "[this blogpost](http://matthewrocklin.com/blog/work/2018/02/28/minimal-bug-reports)\n",
    "for tips on writing a good bug report.\n",
    "\n",
    "Trying the bug-producing code out on the *master* branch is often a worthwhile exercise\n",
    "to confirm the bug still exists. It is also worth searching existing bug reports and pull requests\n",
    "to see if the issue has already been reported and/or fixed.\n",
    "\n",
    "Bug reports must:\n",
    "\n",
    "1. Include a short, self-contained Python snippet reproducing the problem.\n",
    "You can format the code nicely by using [GitHub Flavored Markdown](http://github.github.com/github-flavored-markdown/):  "
   ]
  },
  {
   "cell_type": "code",
   "execution_count": null,
   "metadata": {
    "hide-output": false
   },
   "outputs": [],
   "source": [
    "```python\n",
    ">>> from pandas import DataFrame\n",
    ">>> df = DataFrame(...)\n",
    "...\n",
    "```"
   ]
  },
  {
   "cell_type": "markdown",
   "metadata": {},
   "source": [
    "1. Include the full version string of *pandas* and its dependencies. You can use the built-in function:  "
   ]
  },
  {
   "cell_type": "code",
   "execution_count": null,
   "metadata": {
    "hide-output": false
   },
   "outputs": [],
   "source": [
    ">>> import pandas as pd\n",
    ">>> pd.show_versions()"
   ]
  },
  {
   "cell_type": "markdown",
   "metadata": {},
   "source": [
    "1. Explain why the current behavior is wrong/not desired and what you expect instead.  \n",
    "\n",
    "\n",
    "The issue will then show up to the *pandas* community and be open to comments/ideas from others.\n",
    "\n",
    "\n",
    "<a id='contributing-github'></a>"
   ]
  },
  {
   "cell_type": "markdown",
   "metadata": {},
   "source": [
    "## Working with the code\n",
    "\n",
    "Now that you have an issue you want to fix, enhancement to add, or documentation to improve,\n",
    "you need to learn how to work with GitHub and the *pandas* code base.\n",
    "\n",
    "\n",
    "<a id='contributing-version-control'></a>"
   ]
  },
  {
   "cell_type": "markdown",
   "metadata": {},
   "source": [
    "### Version control, Git, and GitHub\n",
    "\n",
    "To the new user, working with Git is one of the more daunting aspects of contributing to *pandas*.\n",
    "It can very quickly become overwhelming, but sticking to the guidelines below will help keep the process\n",
    "straightforward and mostly trouble free.  As always, if you are having difficulties please\n",
    "feel free to ask for help.\n",
    "\n",
    "The code is hosted on [GitHub](https://www.github.com/pandas-dev/pandas). To\n",
    "contribute you will need to sign up for a [free GitHub account](https://github.com/signup/free). We use [Git](http://git-scm.com/) for\n",
    "version control to allow many people to work together on the project.\n",
    "\n",
    "Some great resources for learning Git:\n",
    "\n",
    "- the [GitHub help pages](http://help.github.com/).  \n",
    "- the [NumPy’s documentation](http://docs.scipy.org/doc/numpy/dev/index.html).  \n",
    "- Matthew Brett’s [Pydagogue](http://matthew-brett.github.com/pydagogue/).  "
   ]
  },
  {
   "cell_type": "markdown",
   "metadata": {},
   "source": [
    "### Getting started with Git\n",
    "\n",
    "[GitHub has instructions](http://help.github.com/set-up-git-redirect) for installing git,\n",
    "setting up your SSH key, and configuring git.  All these steps need to be completed before\n",
    "you can work seamlessly between your local repository and GitHub.\n",
    "\n",
    "\n",
    "<a id='contributing-forking'></a>"
   ]
  },
  {
   "cell_type": "markdown",
   "metadata": {},
   "source": [
    "### Forking\n",
    "\n",
    "You will need your own fork to work on the code. Go to the [pandas project\n",
    "page](https://github.com/pandas-dev/pandas) and hit the `Fork` button. You will\n",
    "want to clone your fork to your machine:"
   ]
  },
  {
   "cell_type": "code",
   "execution_count": null,
   "metadata": {
    "hide-output": false
   },
   "outputs": [],
   "source": [
    "git clone https://github.com/your-user-name/pandas.git pandas-yourname\n",
    "cd pandas-yourname\n",
    "git remote add upstream https://github.com/pandas-dev/pandas.git"
   ]
  },
  {
   "cell_type": "markdown",
   "metadata": {},
   "source": [
    "This creates the directory pandas-yourname and connects your repository to\n",
    "the upstream (main project) *pandas* repository.\n",
    "\n",
    "\n",
    "<a id='contributing-dev-env'></a>"
   ]
  },
  {
   "cell_type": "markdown",
   "metadata": {},
   "source": [
    "### Creating a development environment\n",
    "\n",
    "To test out code changes, you’ll need to build pandas from source, which\n",
    "requires a C compiler and Python environment. If you’re making documentation\n",
    "changes, you can skip to [Contributing to the documentation](#contributing-documentation) but you won’t be able\n",
    "to build the documentation locally before pushing your changes.\n",
    "\n",
    "\n",
    "<a id='contributing-dev-c'></a>"
   ]
  },
  {
   "cell_type": "markdown",
   "metadata": {},
   "source": [
    "#### Installing a C compiler\n",
    "\n",
    "Pandas uses C extensions (mostly written using Cython) to speed up certain\n",
    "operations. To install pandas from source, you need to compile these C\n",
    "extensions, which means you need a C compiler. This process depends on which\n",
    "platform you’re using. Follow the [CPython contributing guide](https://devguide.python.org/setup/#compile-and-build) for getting a\n",
    "compiler installed. You don’t need to do any of the `./configure` or `make`\n",
    "steps; you only need to install the compiler.\n",
    "\n",
    "For Windows developers, when using Python 3.5 and later, it is sufficient to\n",
    "install [Visual Studio 2017](https://visualstudio.com/) with the\n",
    "**Python development workload** and the **Python native development tools**\n",
    "option. Otherwise, the following links may be helpful.\n",
    "\n",
    "- [https://blogs.msdn.microsoft.com/pythonengineering/2017/03/07/python-support-in-vs2017/](https://blogs.msdn.microsoft.com/pythonengineering/2017/03/07/python-support-in-vs2017/)  \n",
    "- [https://blogs.msdn.microsoft.com/pythonengineering/2016/04/11/unable-to-find-vcvarsall-bat/](https://blogs.msdn.microsoft.com/pythonengineering/2016/04/11/unable-to-find-vcvarsall-bat/)  \n",
    "- [https://github.com/conda/conda-recipes/wiki/Building-from-Source-on-Windows-32-bit-and-64-bit](https://github.com/conda/conda-recipes/wiki/Building-from-Source-on-Windows-32-bit-and-64-bit)  \n",
    "- [https://cowboyprogrammer.org/building-python-wheels-for-windows/](https://cowboyprogrammer.org/building-python-wheels-for-windows/)  \n",
    "- [https://blog.ionelmc.ro/2014/12/21/compiling-python-extensions-on-windows/](https://blog.ionelmc.ro/2014/12/21/compiling-python-extensions-on-windows/)  \n",
    "- [https://support.enthought.com/hc/en-us/articles/204469260-Building-Python-extensions-with-Canopy](https://support.enthought.com/hc/en-us/articles/204469260-Building-Python-extensions-with-Canopy)  \n",
    "\n",
    "\n",
    "Let us know if you have any difficulties by opening an issue or reaching out on\n",
    "[Gitter](https://gitter.im/pydata/pandas).\n",
    "\n",
    "\n",
    "<a id='contributing-dev-python'></a>"
   ]
  },
  {
   "cell_type": "markdown",
   "metadata": {},
   "source": [
    "#### Creating a Python environment\n",
    "\n",
    "Now that you have a C compiler, create an isolated pandas development\n",
    "environment:\n",
    "\n",
    "- Install either [Anaconda](https://www.anaconda.com/download/) or [miniconda](https://conda.io/miniconda.html)  \n",
    "- Make sure your conda is up to date (`conda update conda`)  \n",
    "- Make sure that you have [cloned the repository](#contributing-forking)  \n",
    "- `cd` to the *pandas* source directory  \n",
    "\n",
    "\n",
    "We’ll now kick off a three-step process:\n",
    "\n",
    "1. Install the build dependencies  \n",
    "1. Build and install pandas  \n",
    "1. Install the optional dependencies  "
   ]
  },
  {
   "cell_type": "markdown",
   "metadata": {
    "hide-output": false
   },
   "source": [
    "```text\n",
    "# Create and activate the build environment\n",
    "conda env create -f environment.yml\n",
    "conda activate pandas-dev\n",
    "\n",
    "# or with older versions of Anaconda:\n",
    "source activate pandas-dev\n",
    "\n",
    "# Build and install pandas\n",
    "python setup.py build_ext --inplace -j 4\n",
    "python -m pip install -e .\n",
    "```\n"
   ]
  },
  {
   "cell_type": "markdown",
   "metadata": {},
   "source": [
    "At this point you should be able to import pandas from your locally built version:"
   ]
  },
  {
   "cell_type": "code",
   "execution_count": null,
   "metadata": {
    "hide-output": false
   },
   "outputs": [],
   "source": [
    "$ python  # start an interpreter\n",
    ">>> import pandas\n",
    ">>> print(pandas.__version__)\n",
    "0.22.0.dev0+29.g4ad6d4d74"
   ]
  },
  {
   "cell_type": "markdown",
   "metadata": {},
   "source": [
    "This will create the new environment, and not touch any of your existing environments,\n",
    "nor any existing Python installation.\n",
    "\n",
    "To view your environments:"
   ]
  },
  {
   "cell_type": "code",
   "execution_count": null,
   "metadata": {
    "hide-output": false
   },
   "outputs": [],
   "source": [
    "conda info -e"
   ]
  },
  {
   "cell_type": "markdown",
   "metadata": {},
   "source": [
    "To return to your root environment:"
   ]
  },
  {
   "cell_type": "code",
   "execution_count": null,
   "metadata": {
    "hide-output": false
   },
   "outputs": [],
   "source": [
    "conda deactivate"
   ]
  },
  {
   "cell_type": "markdown",
   "metadata": {},
   "source": [
    "See the full conda docs [here](http://conda.pydata.org/docs).\n",
    "\n",
    "\n",
    "<a id='contributing-pip'></a>"
   ]
  },
  {
   "cell_type": "markdown",
   "metadata": {},
   "source": [
    "#### Creating a Python environment (pip)\n",
    "\n",
    "If you aren’t using conda for your development environment, follow these instructions.\n",
    "You’ll need to have at least python3.5 installed on your system."
   ]
  },
  {
   "cell_type": "markdown",
   "metadata": {
    "hide-output": false
   },
   "source": [
    "```text\n",
    "# Create a virtual environment\n",
    "# Use an ENV_DIR of your choice. We'll use ~/virtualenvs/pandas-dev\n",
    "# Any parent directories should already exist\n",
    "python3 -m venv ~/virtualenvs/pandas-dev\n",
    "# Activate the virtualenv\n",
    ". ~/virtualenvs/pandas-dev/bin/activate\n",
    "\n",
    "# Install the build dependencies\n",
    "python -m pip install -r requirements-dev.txt\n",
    "\n",
    "# Build and install pandas\n",
    "python setup.py build_ext --inplace -j 4\n",
    "python -m pip install -e .\n",
    "```\n"
   ]
  },
  {
   "cell_type": "markdown",
   "metadata": {},
   "source": [
    "### Creating a branch\n",
    "\n",
    "You want your master branch to reflect only production-ready code, so create a\n",
    "feature branch for making your changes. For example:"
   ]
  },
  {
   "cell_type": "code",
   "execution_count": null,
   "metadata": {
    "hide-output": false
   },
   "outputs": [],
   "source": [
    "git branch shiny-new-feature\n",
    "git checkout shiny-new-feature"
   ]
  },
  {
   "cell_type": "markdown",
   "metadata": {},
   "source": [
    "The above can be simplified to:"
   ]
  },
  {
   "cell_type": "code",
   "execution_count": null,
   "metadata": {
    "hide-output": false
   },
   "outputs": [],
   "source": [
    "git checkout -b shiny-new-feature"
   ]
  },
  {
   "cell_type": "markdown",
   "metadata": {},
   "source": [
    "This changes your working directory to the shiny-new-feature branch.  Keep any\n",
    "changes in this branch specific to one bug or feature so it is clear\n",
    "what the branch brings to *pandas*. You can have many shiny-new-features\n",
    "and switch in between them using the git checkout command.\n",
    "\n",
    "When creating this branch, make sure your master branch is up to date with\n",
    "the latest upstream master version. To update your local master branch, you\n",
    "can do:"
   ]
  },
  {
   "cell_type": "code",
   "execution_count": null,
   "metadata": {
    "hide-output": false
   },
   "outputs": [],
   "source": [
    "git checkout master\n",
    "git pull upstream master --ff-only"
   ]
  },
  {
   "cell_type": "markdown",
   "metadata": {},
   "source": [
    "When you want to update the feature branch with changes in master after\n",
    "you created the branch, check the section on\n",
    "[updating a PR](#contributing-update-pr).\n",
    "\n",
    "\n",
    "<a id='contributing-documentation'></a>"
   ]
  },
  {
   "cell_type": "markdown",
   "metadata": {},
   "source": [
    "## Contributing to the documentation\n",
    "\n",
    "Contributing to the documentation benefits everyone who uses *pandas*.\n",
    "We encourage you to help us improve the documentation, and\n",
    "you don’t have to be an expert on *pandas* to do so! In fact,\n",
    "there are sections of the docs that are worse off after being written by\n",
    "experts. If something in the docs doesn’t make sense to you, updating the\n",
    "relevant section after you figure it out is a great way to ensure it will help\n",
    "the next person."
   ]
  },
  {
   "cell_type": "markdown",
   "metadata": {},
   "source": [
    "### Documentation:\n",
    "\n",
    "- [About the *pandas* documentation](#About-the-*pandas*-documentation)  \n",
    "- [Updating a *pandas* docstring](#Updating-a-*pandas*-docstring)  \n",
    "- [How to build the *pandas* documentation](#How-to-build-the-*pandas*-documentation)  \n",
    "  - [Requirements](#Requirements)  \n",
    "  - [Building the documentation](#Building-the-documentation)  \n",
    "  - [Building master branch documentation](#Building-master-branch-documentation)  "
   ]
  },
  {
   "cell_type": "markdown",
   "metadata": {},
   "source": [
    "### About the *pandas* documentation\n",
    "\n",
    "The documentation is written in **reStructuredText**, which is almost like writing\n",
    "in plain English, and built using [Sphinx](http://sphinx.pocoo.org/). The\n",
    "Sphinx Documentation has an excellent [introduction to reST](http://sphinx.pocoo.org/rest.html). Review the Sphinx docs to perform more\n",
    "complex changes to the documentation as well.\n",
    "\n",
    "Some other important things to know about the docs:\n",
    "\n",
    "- The *pandas* documentation consists of two parts: the docstrings in the code\n",
    "  itself and the docs in this folder `doc/`.  \n",
    "  The docstrings provide a clear explanation of the usage of the individual\n",
    "  functions, while the documentation in this folder consists of tutorial-like\n",
    "  overviews per topic together with some other information (what’s new,\n",
    "  installation, etc).  \n",
    "- The docstrings follow a pandas convention, based on the **Numpy Docstring\n",
    "  Standard**. Follow the [pandas docstring guide](contributing_docstring.ipynb#docstring) for detailed\n",
    "  instructions on how to write a correct docstring.  \n",
    "  - [pandas docstring guide](contributing_docstring.ipynb)\n",
    "    - [About docstrings and standards](contributing_docstring.ipynb#about-docstrings-and-standards)\n",
    "    - [Writing a docstring](contributing_docstring.ipynb#writing-a-docstring)\n",
    "    - [Sharing docstrings](contributing_docstring.ipynb#sharing-docstrings)\n",
    "- The tutorials make heavy use of the [ipython directive](http://matplotlib.org/sampledoc/ipython_directive.html) sphinx extension.\n",
    "This directive lets you put code in the documentation which will be run\n",
    "during the doc build. For example:  "
   ]
  },
  {
   "cell_type": "code",
   "execution_count": null,
   "metadata": {
    "hide-output": false
   },
   "outputs": [],
   "source": [
    ".. ipython:: python\n",
    "\n",
    "    x = 2\n",
    "    x**3"
   ]
  },
  {
   "cell_type": "markdown",
   "metadata": {},
   "source": [
    "will be rendered as:  "
   ]
  },
  {
   "cell_type": "code",
   "execution_count": null,
   "metadata": {
    "hide-output": false
   },
   "outputs": [],
   "source": [
    "In [1]: x = 2\n",
    "\n",
    "In [2]: x**3\n",
    "Out[2]: 8"
   ]
  },
  {
   "cell_type": "markdown",
   "metadata": {},
   "source": [
    "Almost all code examples in the docs are run (and the output saved) during the\n",
    "doc build. This approach means that code examples will always be up to date,\n",
    "but it does make the doc building a bit more complex.  \n",
    "- Our API documentation in `doc/source/api.rst` houses the auto-generated\n",
    "  documentation from the docstrings. For classes, there are a few subtleties\n",
    "  around controlling which methods and attributes have pages auto-generated.  \n",
    "  We have two autosummary templates for classes.  \n",
    "  1. `_templates/autosummary/class.rst`. Use this when you want to\n",
    "    automatically generate a page for every public method and attribute on the\n",
    "    class. The `Attributes` and `Methods` sections will be automatically\n",
    "    added to the class’ rendered documentation by numpydoc. See `DataFrame`\n",
    "    for an example.  \n",
    "  1. `_templates/autosummary/class_without_autosummary`. Use this when you\n",
    "    want to pick a subset of methods / attributes to auto-generate pages for.\n",
    "    When using this template, you should include an `Attributes` and\n",
    "    `Methods` section in the class docstring. See `CategoricalIndex` for an\n",
    "    example.  \n",
    "  Every method should be included in a `toctree` in `api.rst`, else Sphinx\n",
    "  will emit a warning.  \n",
    "\n",
    "\n",
    ">**Note**\n",
    ">\n",
    ">The `.rst` files are used to automatically generate Markdown and HTML versions\n",
    "of the docs. For this reason, please do not edit `CONTRIBUTING.md` directly,\n",
    "but instead make any changes to `doc/source/development/contributing.rst`. Then, to\n",
    "generate `CONTRIBUTING.md`, use [pandoc](http://johnmacfarlane.net/pandoc/)\n",
    "with the following command:"
   ]
  },
  {
   "cell_type": "code",
   "execution_count": null,
   "metadata": {
    "hide-output": false
   },
   "outputs": [],
   "source": [
    "pandoc doc/source/development/contributing.rst -t markdown_github > CONTRIBUTING.md"
   ]
  },
  {
   "cell_type": "markdown",
   "metadata": {},
   "source": [
    "The utility script `scripts/validate_docstrings.py` can be used to get a csv\n",
    "summary of the API documentation. And also validate common errors in the docstring\n",
    "of a specific class, function or method. The summary also compares the list of\n",
    "methods documented in `doc/source/api.rst` (which is used to generate\n",
    "the [API Reference](http://pandas.pydata.org/pandas-docs/stable/api.html) page)\n",
    "and the actual public methods.\n",
    "This will identify methods documented in `doc/source/api.rst` that are not actually\n",
    "class methods, and existing methods that are not documented in `doc/source/api.rst`."
   ]
  },
  {
   "cell_type": "markdown",
   "metadata": {},
   "source": [
    "### Updating a *pandas* docstring\n",
    "\n",
    "When improving a single function or method’s docstring, it is not necessarily\n",
    "needed to build the full documentation (see next section).\n",
    "However, there is a script that checks a docstring (for example for the `DataFrame.mean` method):"
   ]
  },
  {
   "cell_type": "code",
   "execution_count": null,
   "metadata": {
    "hide-output": false
   },
   "outputs": [],
   "source": [
    "python scripts/validate_docstrings.py pandas.DataFrame.mean"
   ]
  },
  {
   "cell_type": "markdown",
   "metadata": {},
   "source": [
    "This script will indicate some formatting errors if present, and will also\n",
    "run and test the examples included in the docstring.\n",
    "Check the [pandas docstring guide](contributing_docstring.ipynb#docstring) for a detailed guide\n",
    "on how to format the docstring.\n",
    "\n",
    "The examples in the docstring (‘doctests’) must be valid Python code,\n",
    "that in a deterministic way returns the presented output, and that can be\n",
    "copied and run by users. This can be checked with the script above, and is\n",
    "also tested on Travis. A failing doctest will be a blocker for merging a PR.\n",
    "Check the [examples](contributing_docstring.ipynb#docstring-examples) section in the docstring guide\n",
    "for some tips and tricks to get the doctests passing.\n",
    "\n",
    "When doing a PR with a docstring update, it is good to post the\n",
    "output of the validation script in a comment on github."
   ]
  },
  {
   "cell_type": "markdown",
   "metadata": {},
   "source": [
    "### How to build the *pandas* documentation"
   ]
  },
  {
   "cell_type": "markdown",
   "metadata": {},
   "source": [
    "#### Requirements\n",
    "\n",
    "First, you need to have a development environment to be able to build pandas\n",
    "(see the docs on [creating a development environment above](#contributing-dev-env))."
   ]
  },
  {
   "cell_type": "markdown",
   "metadata": {},
   "source": [
    "#### Building the documentation\n",
    "\n",
    "So how do you build the docs? Navigate to your local\n",
    "`doc/` directory in the console and run:"
   ]
  },
  {
   "cell_type": "code",
   "execution_count": null,
   "metadata": {
    "hide-output": false
   },
   "outputs": [],
   "source": [
    "python make.py html"
   ]
  },
  {
   "cell_type": "markdown",
   "metadata": {},
   "source": [
    "Then you can find the HTML output in the folder `doc/build/html/`.\n",
    "\n",
    "The first time you build the docs, it will take quite a while because it has to run\n",
    "all the code examples and build all the generated docstring pages. In subsequent\n",
    "evocations, sphinx will try to only build the pages that have been modified.\n",
    "\n",
    "If you want to do a full clean build, do:"
   ]
  },
  {
   "cell_type": "code",
   "execution_count": null,
   "metadata": {
    "hide-output": false
   },
   "outputs": [],
   "source": [
    "python make.py clean\n",
    "python make.py html"
   ]
  },
  {
   "cell_type": "markdown",
   "metadata": {},
   "source": [
    "You can tell `make.py` to compile only a single section of the docs, greatly\n",
    "reducing the turn-around time for checking your changes."
   ]
  },
  {
   "cell_type": "code",
   "execution_count": null,
   "metadata": {
    "hide-output": false
   },
   "outputs": [],
   "source": [
    "# omit autosummary and API section\n",
    "python make.py clean\n",
    "python make.py --no-api\n",
    "\n",
    "# compile the docs with only a single section, relative to the \"source\" folder.\n",
    "# For example, compiling only this guide (docs/source/development/contributing.rst)\n",
    "python make.py clean\n",
    "python make.py --single development/contributing.rst\n",
    "\n",
    "# compile the reference docs for a single function\n",
    "python make.py clean\n",
    "python make.py --single pandas.DataFrame.join"
   ]
  },
  {
   "cell_type": "markdown",
   "metadata": {},
   "source": [
    "For comparison, a full documentation build may take 15 minutes, but a single\n",
    "section may take 15 seconds. Subsequent builds, which only process portions\n",
    "you have changed, will be faster.\n",
    "\n",
    "You can also specify to use multiple cores to speed up the documentation build:"
   ]
  },
  {
   "cell_type": "code",
   "execution_count": null,
   "metadata": {
    "hide-output": false
   },
   "outputs": [],
   "source": [
    "python make.py html --num-jobs 4"
   ]
  },
  {
   "cell_type": "markdown",
   "metadata": {},
   "source": [
    "Open the following file in a web browser to see the full documentation you\n",
    "just built:"
   ]
  },
  {
   "cell_type": "code",
   "execution_count": null,
   "metadata": {
    "hide-output": false
   },
   "outputs": [],
   "source": [
    "doc/build/html/index.html"
   ]
  },
  {
   "cell_type": "markdown",
   "metadata": {},
   "source": [
    "And you’ll have the satisfaction of seeing your new and improved documentation!\n",
    "\n",
    "\n",
    "<a id='contributing-dev-docs'></a>"
   ]
  },
  {
   "cell_type": "markdown",
   "metadata": {},
   "source": [
    "#### Building master branch documentation\n",
    "\n",
    "When pull requests are merged into the *pandas* `master` branch, the main parts of\n",
    "the documentation are also built by Travis-CI. These docs are then hosted [here](https://dev.pandas.io), see also\n",
    "the [Continuous Integration](#contributing-ci) section.\n",
    "\n",
    "\n",
    "<a id='contributing-code'></a>"
   ]
  },
  {
   "cell_type": "markdown",
   "metadata": {},
   "source": [
    "## Contributing to the code base"
   ]
  },
  {
   "cell_type": "markdown",
   "metadata": {},
   "source": [
    "### Code Base:\n",
    "\n",
    "- [Code standards](#Code-standards)  \n",
    "- [Optional dependencies](#Optional-dependencies)  \n",
    "  - [C (cpplint)](#C-(cpplint))  \n",
    "  - [Python (PEP8 / black)](#Python-(PEP8-/-black))  \n",
    "  - [Import formatting](#Import-formatting)  \n",
    "  - [Backwards compatibility](#Backwards-compatibility)  \n",
    "- [Testing with continuous integration](#Testing-with-continuous-integration)  \n",
    "- [Test-driven development/code writing](#Test-driven-development/code-writing)  \n",
    "  - [Writing tests](#Writing-tests)  \n",
    "  - [Transitioning to `pytest`](#Transitioning-to-`pytest`)  \n",
    "  - [Using `pytest`](#Using-`pytest`)  \n",
    "  - [Using `hypothesis`](#Using-`hypothesis`)  \n",
    "  - [Testing warnings](#Testing-warnings)  \n",
    "- [Running the test suite](#Running-the-test-suite)  \n",
    "- [Running the performance test suite](#Running-the-performance-test-suite)  \n",
    "- [Documenting your code](#Documenting-your-code)  "
   ]
  },
  {
   "cell_type": "markdown",
   "metadata": {},
   "source": [
    "### Code standards\n",
    "\n",
    "Writing good code is not just about what you write. It is also about *how* you\n",
    "write it. During [Continuous Integration](#contributing-ci) testing, several\n",
    "tools will be run to check your code for stylistic errors.\n",
    "Generating any warnings will cause the test to fail.\n",
    "Thus, good style is a requirement for submitting code to *pandas*.\n",
    "\n",
    "There is a tool in pandas to help contributors verify their changes before\n",
    "contributing them to the project:"
   ]
  },
  {
   "cell_type": "code",
   "execution_count": null,
   "metadata": {
    "hide-output": false
   },
   "outputs": [],
   "source": [
    "./ci/code_checks.sh"
   ]
  },
  {
   "cell_type": "markdown",
   "metadata": {},
   "source": [
    "The script verifies the linting of code files, it looks for common mistake patterns\n",
    "(like missing spaces around sphinx directives that make the documentation not\n",
    "being rendered properly) and it also validates the doctests. It is possible to\n",
    "run the checks independently by using the parameters `lint`, `patterns` and\n",
    "`doctests` (e.g. `./ci/code_checks.sh lint`).\n",
    "\n",
    "In addition, because a lot of people use our library, it is important that we\n",
    "do not make sudden changes to the code that could have the potential to break\n",
    "a lot of user code as a result, that is, we need it to be as *backwards compatible*\n",
    "as possible to avoid mass breakages.\n",
    "\n",
    "Additional standards are outlined on the [code style wiki\n",
    "page](https://github.com/pandas-dev/pandas/wiki/Code-Style-and-Conventions)."
   ]
  },
  {
   "cell_type": "markdown",
   "metadata": {},
   "source": [
    "### Optional dependencies\n",
    "\n",
    "Optional dependencies (e.g. matplotlib) should be imported with the private helper\n",
    "`pandas.compat._optional.import_optional_dependency`. This ensures a\n",
    "consistent error message when the dependency is not met.\n",
    "\n",
    "All methods using an optional dependency should include a test asserting that an\n",
    "`ImportError` is raised when the optional dependency is not found. This test\n",
    "should be skipped if the library is present.\n",
    "\n",
    "All optional dependencies should be documented in\n",
    "[Optional dependencies](install.ipynb#install-optional-dependencies) and the minimum required version should be\n",
    "set in the `pandas.compat._optional.VERSIONS` dict."
   ]
  },
  {
   "cell_type": "markdown",
   "metadata": {},
   "source": [
    "#### C (cpplint)\n",
    "\n",
    "*pandas* uses the [Google](https://google.github.io/styleguide/cppguide.html)\n",
    "standard. Google provides an open source style checker called `cpplint`, but we\n",
    "use a fork of it that can be found [here](https://github.com/cpplint/cpplint).\n",
    "Here are *some* of the more common `cpplint` issues:\n",
    "\n",
    "- we restrict line-length to 80 characters to promote readability  \n",
    "- every header file must include a header guard to avoid name collisions if re-included  \n",
    "\n",
    "\n",
    "[Continuous Integration](#contributing-ci) will run the\n",
    "[cpplint](https://pypi.org/project/cpplint) tool\n",
    "and report any stylistic errors in your code. Therefore, it is helpful before\n",
    "submitting code to run the check yourself:"
   ]
  },
  {
   "cell_type": "code",
   "execution_count": null,
   "metadata": {
    "hide-output": false
   },
   "outputs": [],
   "source": [
    "cpplint --extensions=c,h --headers=h --filter=-readability/casting,-runtime/int,-build/include_subdir modified-c-file"
   ]
  },
  {
   "cell_type": "markdown",
   "metadata": {},
   "source": [
    "You can also run this command on an entire directory if necessary:"
   ]
  },
  {
   "cell_type": "code",
   "execution_count": null,
   "metadata": {
    "hide-output": false
   },
   "outputs": [],
   "source": [
    "cpplint --extensions=c,h --headers=h --filter=-readability/casting,-runtime/int,-build/include_subdir --recursive modified-c-directory"
   ]
  },
  {
   "cell_type": "markdown",
   "metadata": {},
   "source": [
    "To make your commits compliant with this standard, you can install the\n",
    "[ClangFormat](http://clang.llvm.org/docs/ClangFormat.html) tool, which can be\n",
    "downloaded [here](http://llvm.org/builds/). To configure, in your home directory,\n",
    "run the following command:"
   ]
  },
  {
   "cell_type": "code",
   "execution_count": null,
   "metadata": {
    "hide-output": false
   },
   "outputs": [],
   "source": [
    "clang-format style=google -dump-config  > .clang-format"
   ]
  },
  {
   "cell_type": "markdown",
   "metadata": {},
   "source": [
    "Then modify the file to ensure that any indentation width parameters are at least four.\n",
    "Once configured, you can run the tool as follows:"
   ]
  },
  {
   "cell_type": "code",
   "execution_count": null,
   "metadata": {
    "hide-output": false
   },
   "outputs": [],
   "source": [
    "clang-format modified-c-file"
   ]
  },
  {
   "cell_type": "markdown",
   "metadata": {},
   "source": [
    "This will output what your file will look like if the changes are made, and to apply\n",
    "them, run the following command:"
   ]
  },
  {
   "cell_type": "code",
   "execution_count": null,
   "metadata": {
    "hide-output": false
   },
   "outputs": [],
   "source": [
    "clang-format -i modified-c-file"
   ]
  },
  {
   "cell_type": "markdown",
   "metadata": {},
   "source": [
    "To run the tool on an entire directory, you can run the following analogous commands:"
   ]
  },
  {
   "cell_type": "code",
   "execution_count": null,
   "metadata": {
    "hide-output": false
   },
   "outputs": [],
   "source": [
    "clang-format modified-c-directory/*.c modified-c-directory/*.h\n",
    "clang-format -i modified-c-directory/*.c modified-c-directory/*.h"
   ]
  },
  {
   "cell_type": "markdown",
   "metadata": {},
   "source": [
    "Do note that this tool is best-effort, meaning that it will try to correct as\n",
    "many errors as possible, but it may not correct *all* of them. Thus, it is\n",
    "recommended that you run `cpplint` to double check and make any other style\n",
    "fixes manually."
   ]
  },
  {
   "cell_type": "markdown",
   "metadata": {},
   "source": [
    "#### Python (PEP8 / black)\n",
    "\n",
    "*pandas* follows the [PEP8](http://www.python.org/dev/peps/pep-0008/) standard\n",
    "and uses [Black](https://black.readthedocs.io/en/stable/) and\n",
    "[Flake8](http://flake8.pycqa.org/en/latest/) to ensure a consistent code\n",
    "format throughout the project.\n",
    "\n",
    "[Continuous Integration](#contributing-ci) will run those tools and\n",
    "report any stylistic errors in your code. Therefore, it is helpful before\n",
    "submitting code to run the check yourself:"
   ]
  },
  {
   "cell_type": "code",
   "execution_count": null,
   "metadata": {
    "hide-output": false
   },
   "outputs": [],
   "source": [
    "black pandas\n",
    "git diff upstream/master -u -- \"*.py\" | flake8 --diff"
   ]
  },
  {
   "cell_type": "markdown",
   "metadata": {},
   "source": [
    "to auto-format your code. Additionally, many editors have plugins that will\n",
    "apply `black` as you edit files.\n",
    "\n",
    "Optionally, you may wish to setup [pre-commit hooks](https://pre-commit.com/)\n",
    "to automatically run `black` and `flake8` when you make a git commit. This\n",
    "can be done by installing `pre-commit`:"
   ]
  },
  {
   "cell_type": "code",
   "execution_count": null,
   "metadata": {
    "hide-output": false
   },
   "outputs": [],
   "source": [
    "pip install pre-commit"
   ]
  },
  {
   "cell_type": "markdown",
   "metadata": {},
   "source": [
    "and then running:"
   ]
  },
  {
   "cell_type": "code",
   "execution_count": null,
   "metadata": {
    "hide-output": false
   },
   "outputs": [],
   "source": [
    "pre-commit install"
   ]
  },
  {
   "cell_type": "markdown",
   "metadata": {},
   "source": [
    "from the root of the pandas repository. Now `black` and `flake8` will be run\n",
    "each time you commit changes. You can skip these checks with\n",
    "`git commit --no-verify`.\n",
    "\n",
    "This command will catch any stylistic errors in your changes specifically, but\n",
    "be beware it may not catch all of them. For example, if you delete the only\n",
    "usage of an imported function, it is stylistically incorrect to import an\n",
    "unused function. However, style-checking the diff will not catch this because\n",
    "the actual import is not part of the diff. Thus, for completeness, you should\n",
    "run this command, though it will take longer:"
   ]
  },
  {
   "cell_type": "code",
   "execution_count": null,
   "metadata": {
    "hide-output": false
   },
   "outputs": [],
   "source": [
    "git diff upstream/master --name-only -- \"*.py\" | xargs -r flake8"
   ]
  },
  {
   "cell_type": "markdown",
   "metadata": {},
   "source": [
    "Note that on OSX, the `-r` flag is not available, so you have to omit it and\n",
    "run this slightly modified command:"
   ]
  },
  {
   "cell_type": "code",
   "execution_count": null,
   "metadata": {
    "hide-output": false
   },
   "outputs": [],
   "source": [
    "git diff upstream/master --name-only -- \"*.py\" | xargs flake8"
   ]
  },
  {
   "cell_type": "markdown",
   "metadata": {},
   "source": [
    "Windows does not support the `xargs` command (unless installed for example\n",
    "via the [MinGW](http://www.mingw.org/) toolchain), but one can imitate the\n",
    "behaviour as follows:"
   ]
  },
  {
   "cell_type": "code",
   "execution_count": null,
   "metadata": {
    "hide-output": false
   },
   "outputs": [],
   "source": [
    "for /f %i in ('git diff upstream/master --name-only -- \"*.py\"') do flake8 %i"
   ]
  },
  {
   "cell_type": "markdown",
   "metadata": {},
   "source": [
    "This will get all the files being changed by the PR (and ending with `.py`),\n",
    "and run `flake8` on them, one after the other.\n",
    "\n",
    "\n",
    "<a id='contributing-import-formatting'></a>"
   ]
  },
  {
   "cell_type": "markdown",
   "metadata": {},
   "source": [
    "#### Import formatting\n",
    "\n",
    "*pandas* uses [isort](https://pypi.org/project/isort/) to standardise import\n",
    "formatting across the codebase.\n",
    "\n",
    "A guide to import layout as per pep8 can be found [here](https://www.python.org/dev/peps/pep-0008/#imports/).\n",
    "\n",
    "A summary of our current import sections ( in order ):\n",
    "\n",
    "- Future  \n",
    "- Python Standard Library  \n",
    "- Third Party  \n",
    "- `pandas._libs`, `pandas.compat`, `pandas.util._*`, `pandas.errors` (largely not dependent on `pandas.core`)  \n",
    "- `pandas.core.dtypes` (largely not dependent on the rest of `pandas.core`)  \n",
    "- Rest of `pandas.core.*`  \n",
    "- Non-core `pandas.io`, `pandas.plotting`, `pandas.tseries`  \n",
    "- Local application/library specific imports  \n",
    "\n",
    "\n",
    "Imports are alphabetically sorted within these sections.\n",
    "\n",
    "As part of [Continuous Integration](#contributing-ci) checks we run:"
   ]
  },
  {
   "cell_type": "code",
   "execution_count": null,
   "metadata": {
    "hide-output": false
   },
   "outputs": [],
   "source": [
    "isort --recursive --check-only pandas"
   ]
  },
  {
   "cell_type": "markdown",
   "metadata": {},
   "source": [
    "to check that imports are correctly formatted as per the setup.cfg.\n",
    "\n",
    "If you see output like the below in [Continuous Integration](#contributing-ci) checks:"
   ]
  },
  {
   "cell_type": "markdown",
   "metadata": {
    "hide-output": false
   },
   "source": [
    "```shell\n",
    "Check import format using isort\n",
    "ERROR: /home/travis/build/pandas-dev/pandas/pandas/io/pytables.py Imports are incorrectly sorted\n",
    "Check import format using isort DONE\n",
    "The command \"ci/code_checks.sh\" exited with 1\n",
    "```\n"
   ]
  },
  {
   "cell_type": "markdown",
   "metadata": {},
   "source": [
    "You should run:"
   ]
  },
  {
   "cell_type": "code",
   "execution_count": null,
   "metadata": {
    "hide-output": false
   },
   "outputs": [],
   "source": [
    "isort pandas/io/pytables.py"
   ]
  },
  {
   "cell_type": "markdown",
   "metadata": {},
   "source": [
    "to automatically format imports correctly. This will modify your local copy of the files.\n",
    "\n",
    "The –recursive flag can be passed to sort all files in a directory.\n",
    "\n",
    "You can then verify the changes look ok, then git [commit](#contributing-commit-code) and [push](#contributing-push-code)."
   ]
  },
  {
   "cell_type": "markdown",
   "metadata": {},
   "source": [
    "#### Backwards compatibility\n",
    "\n",
    "Please try to maintain backward compatibility. *pandas* has lots of users with lots of\n",
    "existing code, so don’t break it if at all possible.  If you think breakage is required,\n",
    "clearly state why as part of the pull request.  Also, be careful when changing method\n",
    "signatures and add deprecation warnings where needed. Also, add the deprecated sphinx\n",
    "directive to the deprecated functions or methods.\n",
    "\n",
    "If a function with the same arguments as the one being deprecated exist, you can use\n",
    "the `pandas.util._decorators.deprecate`:"
   ]
  },
  {
   "cell_type": "code",
   "execution_count": null,
   "metadata": {
    "hide-output": false
   },
   "outputs": [],
   "source": [
    "from pandas.util._decorators import deprecate\n",
    "\n",
    "deprecate('old_func', 'new_func', '0.21.0')"
   ]
  },
  {
   "cell_type": "markdown",
   "metadata": {},
   "source": [
    "Otherwise, you need to do it manually:"
   ]
  },
  {
   "cell_type": "code",
   "execution_count": null,
   "metadata": {
    "hide-output": false
   },
   "outputs": [],
   "source": [
    "import warnings\n",
    "\n",
    "\n",
    "def old_func():\n",
    "    \"\"\"Summary of the function.\n",
    "\n",
    "    .. deprecated:: 0.21.0\n",
    "       Use new_func instead.\n",
    "    \"\"\"\n",
    "    warnings.warn('Use new_func instead.', FutureWarning, stacklevel=2)\n",
    "    new_func()\n",
    "\n",
    "\n",
    "def new_func():\n",
    "    pass"
   ]
  },
  {
   "cell_type": "markdown",
   "metadata": {},
   "source": [
    "You’ll also need to\n",
    "\n",
    "1. Write a new test that asserts a warning is issued when calling with the deprecated argument  \n",
    "1. Update all of pandas existing tests and code to use the new argument  \n",
    "\n",
    "\n",
    "See [Testing warnings](#contributing-warnings) for more.\n",
    "\n",
    "\n",
    "<a id='contributing-ci'></a>"
   ]
  },
  {
   "cell_type": "markdown",
   "metadata": {},
   "source": [
    "### Testing with continuous integration\n",
    "\n",
    "The *pandas* test suite will run automatically on [Travis-CI](https://travis-ci.org/) and\n",
    "[Azure Pipelines](https://azure.microsoft.com/en-us/services/devops/pipelines/)\n",
    "continuous integration services, once your pull request is submitted.\n",
    "However, if you wish to run the test suite on a branch prior to submitting the pull request,\n",
    "then the continuous integration services need to be hooked to your GitHub repository. Instructions are here\n",
    "for [Travis-CI](http://about.travis-ci.org/docs/user/getting-started/) and\n",
    "[Azure Pipelines](https://docs.microsoft.com/en-us/azure/devops/pipelines/).\n",
    "\n",
    "A pull-request will be considered for merging when you have an all ‘green’ build. If any tests are failing,\n",
    "then you will get a red ‘X’, where you can click through to see the individual failed tests.\n",
    "This is an example of a green build.\n",
    "\n",
    "<img src=\"development/../_static/ci.png\" style=\"\">\n",
    "\n",
    ">**Note**\n",
    ">\n",
    ">Each time you push to *your* fork, a *new* run of the tests will be triggered on the CI.\n",
    "You can enable the auto-cancel feature, which removes any non-currently-running tests for that same pull-request, for\n",
    "[Travis-CI here](https://docs.travis-ci.com/user/customizing-the-build/#Building-only-the-latest-commit).\n",
    "\n",
    "\n",
    "<a id='contributing-tdd'></a>"
   ]
  },
  {
   "cell_type": "markdown",
   "metadata": {},
   "source": [
    "### Test-driven development/code writing\n",
    "\n",
    "*pandas* is serious about testing and strongly encourages contributors to embrace\n",
    "[test-driven development (TDD)](https://en.wikipedia.org/wiki/Test-driven_development).\n",
    "This development process “relies on the repetition of a very short development cycle:\n",
    "first the developer writes an (initially failing) automated test case that defines a desired\n",
    "improvement or new function, then produces the minimum amount of code to pass that test.”\n",
    "So, before actually writing any code, you should write your tests.  Often the test can be\n",
    "taken from the original GitHub issue.  However, it is always worth considering additional\n",
    "use cases and writing corresponding tests.\n",
    "\n",
    "Adding tests is one of the most common requests after code is pushed to *pandas*.  Therefore,\n",
    "it is worth getting in the habit of writing tests ahead of time so this is never an issue.\n",
    "\n",
    "Like many packages, *pandas* uses [pytest](http://docs.pytest.org/en/latest/) and the convenient\n",
    "extensions in [numpy.testing](http://docs.scipy.org/doc/numpy/reference/routines.testing.html).\n",
    "\n",
    ">**Note**\n",
    ">\n",
    ">The earliest supported pytest version is 4.0.2."
   ]
  },
  {
   "cell_type": "markdown",
   "metadata": {},
   "source": [
    "#### Writing tests\n",
    "\n",
    "All tests should go into the `tests` subdirectory of the specific package.\n",
    "This folder contains many current examples of tests, and we suggest looking to these for\n",
    "inspiration.  If your test requires working with files or\n",
    "network connectivity, there is more information on the [testing page](https://github.com/pandas-dev/pandas/wiki/Testing) of the wiki.\n",
    "\n",
    "The `pandas.util.testing` module has many special `assert` functions that\n",
    "make it easier to make statements about whether Series or DataFrame objects are\n",
    "equivalent. The easiest way to verify that your code is correct is to\n",
    "explicitly construct the result you expect, then compare the actual result to\n",
    "the expected correct result:"
   ]
  },
  {
   "cell_type": "code",
   "execution_count": null,
   "metadata": {
    "hide-output": false
   },
   "outputs": [],
   "source": [
    "def test_pivot(self):\n",
    "    data = {\n",
    "        'index' : ['A', 'B', 'C', 'C', 'B', 'A'],\n",
    "        'columns' : ['One', 'One', 'One', 'Two', 'Two', 'Two'],\n",
    "        'values' : [1., 2., 3., 3., 2., 1.]\n",
    "    }\n",
    "\n",
    "    frame = DataFrame(data)\n",
    "    pivoted = frame.pivot(index='index', columns='columns', values='values')\n",
    "\n",
    "    expected = DataFrame({\n",
    "        'One' : {'A' : 1., 'B' : 2., 'C' : 3.},\n",
    "        'Two' : {'A' : 1., 'B' : 2., 'C' : 3.}\n",
    "    })\n",
    "\n",
    "    assert_frame_equal(pivoted, expected)"
   ]
  },
  {
   "cell_type": "markdown",
   "metadata": {},
   "source": [
    "#### Transitioning to `pytest`\n",
    "\n",
    "*pandas* existing test structure is *mostly* classed based, meaning that you will typically find tests wrapped in a class."
   ]
  },
  {
   "cell_type": "code",
   "execution_count": null,
   "metadata": {
    "hide-output": false
   },
   "outputs": [],
   "source": [
    "class TestReallyCoolFeature:\n",
    "    pass"
   ]
  },
  {
   "cell_type": "markdown",
   "metadata": {},
   "source": [
    "Going forward, we are moving to a more *functional* style using the [pytest](http://docs.pytest.org/en/latest/) framework, which offers a richer testing\n",
    "framework that will facilitate testing and developing. Thus, instead of writing test classes, we will write test functions like this:"
   ]
  },
  {
   "cell_type": "code",
   "execution_count": null,
   "metadata": {
    "hide-output": false
   },
   "outputs": [],
   "source": [
    "def test_really_cool_feature():\n",
    "    pass"
   ]
  },
  {
   "cell_type": "markdown",
   "metadata": {},
   "source": [
    "#### Using `pytest`\n",
    "\n",
    "Here is an example of a self-contained set of tests that illustrate multiple features that we like to use.\n",
    "\n",
    "- functional style: tests are like `test_*` and *only* take arguments that are either fixtures or parameters  \n",
    "- `pytest.mark` can be used to set metadata on test functions, e.g. `skip` or `xfail`.  \n",
    "- using `parametrize`: allow testing of multiple cases  \n",
    "- to set a mark on a parameter, `pytest.param(..., marks=...)` syntax should be used  \n",
    "- `fixture`, code for object construction, on a per-test basis  \n",
    "- using bare `assert` for scalars and truth-testing  \n",
    "- `tm.assert_series_equal` (and its counter part `tm.assert_frame_equal`), for pandas object comparisons.  \n",
    "- the typical pattern of constructing an `expected` and comparing versus the `result`  \n",
    "\n",
    "\n",
    "We would name this file `test_cool_feature.py` and put in an appropriate place in the `pandas/tests/` structure."
   ]
  },
  {
   "cell_type": "code",
   "execution_count": null,
   "metadata": {
    "hide-output": false
   },
   "outputs": [],
   "source": [
    "import pytest\n",
    "import numpy as np\n",
    "import pandas as pd\n",
    "\n",
    "\n",
    "@pytest.mark.parametrize('dtype', ['int8', 'int16', 'int32', 'int64'])\n",
    "def test_dtypes(dtype):\n",
    "    assert str(np.dtype(dtype)) == dtype\n",
    "\n",
    "\n",
    "@pytest.mark.parametrize(\n",
    "    'dtype', ['float32', pytest.param('int16', marks=pytest.mark.skip),\n",
    "              pytest.param('int32', marks=pytest.mark.xfail(\n",
    "                  reason='to show how it works'))])\n",
    "def test_mark(dtype):\n",
    "    assert str(np.dtype(dtype)) == 'float32'\n",
    "\n",
    "\n",
    "@pytest.fixture\n",
    "def series():\n",
    "    return pd.Series([1, 2, 3])\n",
    "\n",
    "\n",
    "@pytest.fixture(params=['int8', 'int16', 'int32', 'int64'])\n",
    "def dtype(request):\n",
    "    return request.param\n",
    "\n",
    "\n",
    "def test_series(series, dtype):\n",
    "    result = series.astype(dtype)\n",
    "    assert result.dtype == dtype\n",
    "\n",
    "    expected = pd.Series([1, 2, 3], dtype=dtype)\n",
    "    tm.assert_series_equal(result, expected)"
   ]
  },
  {
   "cell_type": "markdown",
   "metadata": {},
   "source": [
    "A test run of this yields"
   ]
  },
  {
   "cell_type": "markdown",
   "metadata": {
    "hide-output": false
   },
   "source": [
    "```shell\n",
    "((pandas) bash-3.2$ pytest  test_cool_feature.py  -v\n",
    "=========================== test session starts ===========================\n",
    "platform darwin -- Python 3.6.2, pytest-3.6.0, py-1.4.31, pluggy-0.4.0\n",
    "collected 11 items\n",
    "\n",
    "tester.py::test_dtypes[int8] PASSED\n",
    "tester.py::test_dtypes[int16] PASSED\n",
    "tester.py::test_dtypes[int32] PASSED\n",
    "tester.py::test_dtypes[int64] PASSED\n",
    "tester.py::test_mark[float32] PASSED\n",
    "tester.py::test_mark[int16] SKIPPED\n",
    "tester.py::test_mark[int32] xfail\n",
    "tester.py::test_series[int8] PASSED\n",
    "tester.py::test_series[int16] PASSED\n",
    "tester.py::test_series[int32] PASSED\n",
    "tester.py::test_series[int64] PASSED\n",
    "```\n"
   ]
  },
  {
   "cell_type": "markdown",
   "metadata": {},
   "source": [
    "Tests that we have `parametrized` are now accessible via the test name, for example we could run these with `-k int8` to sub-select *only* those tests which match `int8`."
   ]
  },
  {
   "cell_type": "markdown",
   "metadata": {
    "hide-output": false
   },
   "source": [
    "```shell\n",
    "((pandas) bash-3.2$ pytest  test_cool_feature.py  -v -k int8\n",
    "=========================== test session starts ===========================\n",
    "platform darwin -- Python 3.6.2, pytest-3.6.0, py-1.4.31, pluggy-0.4.0\n",
    "collected 11 items\n",
    "\n",
    "test_cool_feature.py::test_dtypes[int8] PASSED\n",
    "test_cool_feature.py::test_series[int8] PASSED\n",
    "```\n"
   ]
  },
  {
   "cell_type": "markdown",
   "metadata": {},
   "source": [
    "\n",
    "<a id='using-hypothesis'></a>"
   ]
  },
  {
   "cell_type": "markdown",
   "metadata": {},
   "source": [
    "#### Using `hypothesis`\n",
    "\n",
    "Hypothesis is a library for property-based testing.  Instead of explicitly\n",
    "parametrizing a test, you can describe *all* valid inputs and let Hypothesis\n",
    "try to find a failing input.  Even better, no matter how many random examples\n",
    "it tries, Hypothesis always reports a single minimal counterexample to your\n",
    "assertions - often an example that you would never have thought to test.\n",
    "\n",
    "See [Getting Started with Hypothesis](https://hypothesis.works/articles/getting-started-with-hypothesis/)\n",
    "for more of an introduction, then [refer to the Hypothesis documentation\n",
    "for details](https://hypothesis.readthedocs.io/en/latest/index.html)."
   ]
  },
  {
   "cell_type": "code",
   "execution_count": null,
   "metadata": {
    "hide-output": false
   },
   "outputs": [],
   "source": [
    "import json\n",
    "from hypothesis import given, strategies as st\n",
    "\n",
    "any_json_value = st.deferred(lambda: st.one_of(\n",
    "    st.none(), st.booleans(), st.floats(allow_nan=False), st.text(),\n",
    "    st.lists(any_json_value), st.dictionaries(st.text(), any_json_value)\n",
    "))\n",
    "\n",
    "\n",
    "@given(value=any_json_value)\n",
    "def test_json_roundtrip(value):\n",
    "    result = json.loads(json.dumps(value))\n",
    "    assert value == result"
   ]
  },
  {
   "cell_type": "markdown",
   "metadata": {},
   "source": [
    "This test shows off several useful features of Hypothesis, as well as\n",
    "demonstrating a good use-case: checking properties that should hold over\n",
    "a large or complicated domain of inputs.\n",
    "\n",
    "To keep the Pandas test suite running quickly, parametrized tests are\n",
    "preferred if the inputs or logic are simple, with Hypothesis tests reserved\n",
    "for cases with complex logic or where there are too many combinations of\n",
    "options or subtle interactions to test (or think of!) all of them.\n",
    "\n",
    "\n",
    "<a id='contributing-warnings'></a>"
   ]
  },
  {
   "cell_type": "markdown",
   "metadata": {},
   "source": [
    "#### Testing warnings\n",
    "\n",
    "By default, one of pandas CI workers will fail if any unhandled warnings are emitted.\n",
    "\n",
    "If your change involves checking that a warning is actually emitted, use\n",
    "`tm.assert_produces_warning(ExpectedWarning)`."
   ]
  },
  {
   "cell_type": "code",
   "execution_count": null,
   "metadata": {
    "hide-output": false
   },
   "outputs": [],
   "source": [
    "import pandas.util.testing as tm\n",
    "\n",
    "\n",
    "df = pd.DataFrame()\n",
    "with tm.assert_produces_warning(FutureWarning):\n",
    "    df.some_operation()"
   ]
  },
  {
   "cell_type": "markdown",
   "metadata": {},
   "source": [
    "We prefer this to the `pytest.warns` context manager because ours checks that the warning’s\n",
    "stacklevel is set correctly. The stacklevel is what ensure the *user’s* file name and line number\n",
    "is printed in the warning, rather than something internal to pandas. It represents the number of\n",
    "function calls from user code (e.g. `df.some_operation()`) to the function that actually emits\n",
    "the warning. Our linter will fail the build if you use `pytest.warns` in a test.\n",
    "\n",
    "If you have a test that would emit a warning, but you aren’t actually testing the\n",
    "warning itself (say because it’s going to be removed in the future, or because we’re\n",
    "matching a 3rd-party library’s behavior), then use `pytest.mark.filterwarnings` to\n",
    "ignore the error."
   ]
  },
  {
   "cell_type": "code",
   "execution_count": null,
   "metadata": {
    "hide-output": false
   },
   "outputs": [],
   "source": [
    "@pytest.mark.filterwarnings(\"ignore:msg:category\")\n",
    "def test_thing(self):\n",
    "    ..."
   ]
  },
  {
   "cell_type": "markdown",
   "metadata": {},
   "source": [
    "If the test generates a warning of class `category` whose message starts\n",
    "with `msg`, the warning will be ignored and the test will pass.\n",
    "\n",
    "If you need finer-grained control, you can use Python’s usual\n",
    "[warnings module](https://docs.python.org/3/library/warnings.html)\n",
    "to control whether a warning is ignored / raised at different places within\n",
    "a single test."
   ]
  },
  {
   "cell_type": "code",
   "execution_count": null,
   "metadata": {
    "hide-output": false
   },
   "outputs": [],
   "source": [
    "with warnings.catch_warnings():\n",
    "    warnings.simplefilter(\"ignore\", FutureWarning)\n",
    "    # Or use warnings.filterwarnings(...)"
   ]
  },
  {
   "cell_type": "markdown",
   "metadata": {},
   "source": [
    "Alternatively, consider breaking up the unit test."
   ]
  },
  {
   "cell_type": "markdown",
   "metadata": {},
   "source": [
    "### Running the test suite\n",
    "\n",
    "The tests can then be run directly inside your Git clone (without having to\n",
    "install *pandas*) by typing:"
   ]
  },
  {
   "cell_type": "code",
   "execution_count": null,
   "metadata": {
    "hide-output": false
   },
   "outputs": [],
   "source": [
    "pytest pandas"
   ]
  },
  {
   "cell_type": "markdown",
   "metadata": {},
   "source": [
    "The tests suite is exhaustive and takes around 20 minutes to run.  Often it is\n",
    "worth running only a subset of tests first around your changes before running the\n",
    "entire suite.\n",
    "\n",
    "The easiest way to do this is with:"
   ]
  },
  {
   "cell_type": "code",
   "execution_count": null,
   "metadata": {
    "hide-output": false
   },
   "outputs": [],
   "source": [
    "pytest pandas/path/to/test.py -k regex_matching_test_name"
   ]
  },
  {
   "cell_type": "markdown",
   "metadata": {},
   "source": [
    "Or with one of the following constructs:"
   ]
  },
  {
   "cell_type": "code",
   "execution_count": null,
   "metadata": {
    "hide-output": false
   },
   "outputs": [],
   "source": [
    "pytest pandas/tests/[test-module].py\n",
    "pytest pandas/tests/[test-module].py::[TestClass]\n",
    "pytest pandas/tests/[test-module].py::[TestClass]::[test_method]"
   ]
  },
  {
   "cell_type": "markdown",
   "metadata": {},
   "source": [
    "Using [pytest-xdist](https://pypi.org/project/pytest-xdist), one can\n",
    "speed up local testing on multicore machines. To use this feature, you will\n",
    "need to install pytest-xdist via:"
   ]
  },
  {
   "cell_type": "code",
   "execution_count": null,
   "metadata": {
    "hide-output": false
   },
   "outputs": [],
   "source": [
    "pip install pytest-xdist"
   ]
  },
  {
   "cell_type": "markdown",
   "metadata": {},
   "source": [
    "Two scripts are provided to assist with this.  These scripts distribute\n",
    "testing across 4 threads.\n",
    "\n",
    "On Unix variants, one can type:"
   ]
  },
  {
   "cell_type": "code",
   "execution_count": null,
   "metadata": {
    "hide-output": false
   },
   "outputs": [],
   "source": [
    "test_fast.sh"
   ]
  },
  {
   "cell_type": "markdown",
   "metadata": {},
   "source": [
    "On Windows, one can type:"
   ]
  },
  {
   "cell_type": "code",
   "execution_count": null,
   "metadata": {
    "hide-output": false
   },
   "outputs": [],
   "source": [
    "test_fast.bat"
   ]
  },
  {
   "cell_type": "markdown",
   "metadata": {},
   "source": [
    "This can significantly reduce the time it takes to locally run tests before\n",
    "submitting a pull request.\n",
    "\n",
    "For more, see the [pytest](http://docs.pytest.org/en/latest/) documentation.\n",
    "\n",
    "> New in version 0.20.0.\n",
    "\n",
    "\n",
    "Furthermore one can run"
   ]
  },
  {
   "cell_type": "code",
   "execution_count": null,
   "metadata": {
    "hide-output": false
   },
   "outputs": [],
   "source": [
    "pd.test()"
   ]
  },
  {
   "cell_type": "markdown",
   "metadata": {},
   "source": [
    "with an imported pandas to run tests similarly."
   ]
  },
  {
   "cell_type": "markdown",
   "metadata": {},
   "source": [
    "### Running the performance test suite\n",
    "\n",
    "Performance matters and it is worth considering whether your code has introduced\n",
    "performance regressions.  *pandas* is in the process of migrating to\n",
    "[asv benchmarks](https://github.com/spacetelescope/asv)\n",
    "to enable easy monitoring of the performance of critical *pandas* operations.\n",
    "These benchmarks are all found in the `pandas/asv_bench` directory.  asv\n",
    "supports both python2 and python3.\n",
    "\n",
    "To use all features of asv, you will need either `conda` or\n",
    "`virtualenv`. For more details please check the [asv installation\n",
    "webpage](https://asv.readthedocs.io/en/latest/installing.html).\n",
    "\n",
    "To install asv:"
   ]
  },
  {
   "cell_type": "code",
   "execution_count": null,
   "metadata": {
    "hide-output": false
   },
   "outputs": [],
   "source": [
    "pip install git+https://github.com/spacetelescope/asv"
   ]
  },
  {
   "cell_type": "markdown",
   "metadata": {},
   "source": [
    "If you need to run a benchmark, change your directory to `asv_bench/` and run:"
   ]
  },
  {
   "cell_type": "code",
   "execution_count": null,
   "metadata": {
    "hide-output": false
   },
   "outputs": [],
   "source": [
    "asv continuous -f 1.1 upstream/master HEAD"
   ]
  },
  {
   "cell_type": "markdown",
   "metadata": {},
   "source": [
    "You can replace `HEAD` with the name of the branch you are working on,\n",
    "and report benchmarks that changed by more than 10%.\n",
    "The command uses `conda` by default for creating the benchmark\n",
    "environments. If you want to use virtualenv instead, write:"
   ]
  },
  {
   "cell_type": "code",
   "execution_count": null,
   "metadata": {
    "hide-output": false
   },
   "outputs": [],
   "source": [
    "asv continuous -f 1.1 -E virtualenv upstream/master HEAD"
   ]
  },
  {
   "cell_type": "markdown",
   "metadata": {},
   "source": [
    "The `-E virtualenv` option should be added to all `asv` commands\n",
    "that run benchmarks. The default value is defined in `asv.conf.json`.\n",
    "\n",
    "Running the full test suite can take up to one hour and use up to 3GB of RAM.\n",
    "Usually it is sufficient to paste only a subset of the results into the pull\n",
    "request to show that the committed changes do not cause unexpected performance\n",
    "regressions.  You can run specific benchmarks using the `-b` flag, which\n",
    "takes a regular expression.  For example, this will only run tests from a\n",
    "`pandas/asv_bench/benchmarks/groupby.py` file:"
   ]
  },
  {
   "cell_type": "code",
   "execution_count": null,
   "metadata": {
    "hide-output": false
   },
   "outputs": [],
   "source": [
    "asv continuous -f 1.1 upstream/master HEAD -b ^groupby"
   ]
  },
  {
   "cell_type": "markdown",
   "metadata": {},
   "source": [
    "If you want to only run a specific group of tests from a file, you can do it\n",
    "using `.` as a separator. For example:"
   ]
  },
  {
   "cell_type": "code",
   "execution_count": null,
   "metadata": {
    "hide-output": false
   },
   "outputs": [],
   "source": [
    "asv continuous -f 1.1 upstream/master HEAD -b groupby.GroupByMethods"
   ]
  },
  {
   "cell_type": "markdown",
   "metadata": {},
   "source": [
    "will only run the `GroupByMethods` benchmark defined in `groupby.py`.\n",
    "\n",
    "You can also run the benchmark suite using the version of `pandas`\n",
    "already installed in your current Python environment. This can be\n",
    "useful if you do not have virtualenv or conda, or are using the\n",
    "`setup.py develop` approach discussed above; for the in-place build\n",
    "you need to set `PYTHONPATH`, e.g.\n",
    "`PYTHONPATH=\"\\$PWD/..\" asv [remaining arguments]`.\n",
    "You can run benchmarks using an existing Python\n",
    "environment by:"
   ]
  },
  {
   "cell_type": "code",
   "execution_count": null,
   "metadata": {
    "hide-output": false
   },
   "outputs": [],
   "source": [
    "asv run -e -E existing"
   ]
  },
  {
   "cell_type": "markdown",
   "metadata": {},
   "source": [
    "or, to use a specific Python interpreter,:"
   ]
  },
  {
   "cell_type": "code",
   "execution_count": null,
   "metadata": {
    "hide-output": false
   },
   "outputs": [],
   "source": [
    "asv run -e -E existing:python3.5"
   ]
  },
  {
   "cell_type": "markdown",
   "metadata": {},
   "source": [
    "This will display stderr from the benchmarks, and use your local\n",
    "`python` that comes from your `\\$PATH`.\n",
    "\n",
    "Information on how to write a benchmark and how to use asv can be found in the\n",
    "[asv documentation](https://asv.readthedocs.io/en/latest/writing_benchmarks.html)."
   ]
  },
  {
   "cell_type": "markdown",
   "metadata": {},
   "source": [
    "### Documenting your code\n",
    "\n",
    "Changes should be reflected in the release notes located in `doc/source/whatsnew/vx.y.z.rst`.\n",
    "This file contains an ongoing change log for each release.  Add an entry to this file to\n",
    "document your fix, enhancement or (unavoidable) breaking change.  Make sure to include the\n",
    "GitHub issue number when adding your entry (using `:issue:`1234`` where `1234` is the\n",
    "issue/pull request number).\n",
    "\n",
    "If your code is an enhancement, it is most likely necessary to add usage\n",
    "examples to the existing documentation.  This can be done following the section\n",
    "regarding documentation [above](#contributing-documentation).\n",
    "Further, to let users know when this feature was added, the `versionadded`\n",
    "directive is used. The sphinx syntax for that is:"
   ]
  },
  {
   "cell_type": "markdown",
   "metadata": {
    "hide-output": false
   },
   "source": [
    "```rst\n",
    ".. versionadded:: 0.21.0\n",
    "```\n"
   ]
  },
  {
   "cell_type": "markdown",
   "metadata": {},
   "source": [
    "This will put the text *New in version 0.21.0* wherever you put the sphinx\n",
    "directive. This should also be put in the docstring when adding a new function\n",
    "or method ([example](https://github.com/pandas-dev/pandas/blob/v0.20.2/pandas/core/frame.py#L1495))\n",
    "or a new keyword argument ([example](https://github.com/pandas-dev/pandas/blob/v0.20.2/pandas/core/generic.py#L568))."
   ]
  },
  {
   "cell_type": "markdown",
   "metadata": {},
   "source": [
    "## Contributing your changes to *pandas*\n",
    "\n",
    "\n",
    "<a id='contributing-commit-code'></a>"
   ]
  },
  {
   "cell_type": "markdown",
   "metadata": {},
   "source": [
    "### Committing your code\n",
    "\n",
    "Keep style fixes to a separate commit to make your pull request more readable.\n",
    "\n",
    "Once you’ve made changes, you can see them by typing:"
   ]
  },
  {
   "cell_type": "code",
   "execution_count": null,
   "metadata": {
    "hide-output": false
   },
   "outputs": [],
   "source": [
    "git status"
   ]
  },
  {
   "cell_type": "markdown",
   "metadata": {},
   "source": [
    "If you have created a new file, it is not being tracked by git. Add it by typing:"
   ]
  },
  {
   "cell_type": "code",
   "execution_count": null,
   "metadata": {
    "hide-output": false
   },
   "outputs": [],
   "source": [
    "git add path/to/file-to-be-added.py"
   ]
  },
  {
   "cell_type": "markdown",
   "metadata": {},
   "source": [
    "Doing ‘git status’ again should give something like:"
   ]
  },
  {
   "cell_type": "code",
   "execution_count": null,
   "metadata": {
    "hide-output": false
   },
   "outputs": [],
   "source": [
    "# On branch shiny-new-feature\n",
    "#\n",
    "#       modified:   /relative/path/to/file-you-added.py\n",
    "#"
   ]
  },
  {
   "cell_type": "markdown",
   "metadata": {},
   "source": [
    "Finally, commit your changes to your local repository with an explanatory message.  *Pandas*\n",
    "uses a convention for commit message prefixes and layout.  Here are\n",
    "some common prefixes along with general guidelines for when to use them:\n",
    "\n",
    "- ENH: Enhancement, new functionality  \n",
    "- BUG: Bug fix  \n",
    "- DOC: Additions/updates to documentation  \n",
    "- TST: Additions/updates to tests  \n",
    "- BLD: Updates to the build process/scripts  \n",
    "- PERF: Performance improvement  \n",
    "- CLN: Code cleanup  \n",
    "\n",
    "\n",
    "The following defines how a commit message should be structured.  Please reference the\n",
    "relevant GitHub issues in your commit message using GH1234 or #1234.  Either style\n",
    "is fine, but the former is generally preferred:\n",
    "\n",
    "- a subject line with < 80 chars.  \n",
    "- One blank line.  \n",
    "- Optionally, a commit message body.  \n",
    "\n",
    "\n",
    "Now you can commit your changes in your local repository:"
   ]
  },
  {
   "cell_type": "code",
   "execution_count": null,
   "metadata": {
    "hide-output": false
   },
   "outputs": [],
   "source": [
    "git commit -m"
   ]
  },
  {
   "cell_type": "markdown",
   "metadata": {},
   "source": [
    "\n",
    "<a id='contributing-push-code'></a>"
   ]
  },
  {
   "cell_type": "markdown",
   "metadata": {},
   "source": [
    "### Pushing your changes\n",
    "\n",
    "When you want your changes to appear publicly on your GitHub page, push your\n",
    "forked feature branch’s commits:"
   ]
  },
  {
   "cell_type": "code",
   "execution_count": null,
   "metadata": {
    "hide-output": false
   },
   "outputs": [],
   "source": [
    "git push origin shiny-new-feature"
   ]
  },
  {
   "cell_type": "markdown",
   "metadata": {},
   "source": [
    "Here `origin` is the default name given to your remote repository on GitHub.\n",
    "You can see the remote repositories:"
   ]
  },
  {
   "cell_type": "code",
   "execution_count": null,
   "metadata": {
    "hide-output": false
   },
   "outputs": [],
   "source": [
    "git remote -v"
   ]
  },
  {
   "cell_type": "markdown",
   "metadata": {},
   "source": [
    "If you added the upstream repository as described above you will see something\n",
    "like:"
   ]
  },
  {
   "cell_type": "code",
   "execution_count": null,
   "metadata": {
    "hide-output": false
   },
   "outputs": [],
   "source": [
    "origin  git@github.com:yourname/pandas.git (fetch)\n",
    "origin  git@github.com:yourname/pandas.git (push)\n",
    "upstream        git://github.com/pandas-dev/pandas.git (fetch)\n",
    "upstream        git://github.com/pandas-dev/pandas.git (push)"
   ]
  },
  {
   "cell_type": "markdown",
   "metadata": {},
   "source": [
    "Now your code is on GitHub, but it is not yet a part of the *pandas* project.  For that to\n",
    "happen, a pull request needs to be submitted on GitHub."
   ]
  },
  {
   "cell_type": "markdown",
   "metadata": {},
   "source": [
    "### Review your code\n",
    "\n",
    "When you’re ready to ask for a code review, file a pull request. Before you do, once\n",
    "again make sure that you have followed all the guidelines outlined in this document\n",
    "regarding code style, tests, performance tests, and documentation. You should also\n",
    "double check your branch changes against the branch it was based on:\n",
    "\n",
    "1. Navigate to your repository on GitHub – [https://github.com/your-user-name/pandas](https://github.com/your-user-name/pandas)  \n",
    "1. Click on `Branches`  \n",
    "1. Click on the `Compare` button for your feature branch  \n",
    "1. Select the `base` and `compare` branches, if necessary. This will be `master` and\n",
    "  `shiny-new-feature`, respectively.  "
   ]
  },
  {
   "cell_type": "markdown",
   "metadata": {},
   "source": [
    "### Finally, make the pull request\n",
    "\n",
    "If everything looks good, you are ready to make a pull request.  A pull request is how\n",
    "code from a local repository becomes available to the GitHub community and can be looked\n",
    "at and eventually merged into the master version.  This pull request and its associated\n",
    "changes will eventually be committed to the master branch and available in the next\n",
    "release.  To submit a pull request:\n",
    "\n",
    "1. Navigate to your repository on GitHub  \n",
    "1. Click on the `Pull Request` button  \n",
    "1. You can then click on `Commits` and `Files Changed` to make sure everything looks\n",
    "  okay one last time  \n",
    "1. Write a description of your changes in the `Preview Discussion` tab  \n",
    "1. Click `Send Pull Request`.  \n",
    "\n",
    "\n",
    "This request then goes to the repository maintainers, and they will review\n",
    "the code.\n",
    "\n",
    "\n",
    "<a id='contributing-update-pr'></a>"
   ]
  },
  {
   "cell_type": "markdown",
   "metadata": {},
   "source": [
    "### Updating your pull request\n",
    "\n",
    "Based on the review you get on your pull request, you will probably need to make\n",
    "some changes to the code. In that case, you can make them in your branch,\n",
    "add a new commit to that branch, push it to GitHub, and the pull request will be\n",
    "automatically updated.  Pushing them to GitHub again is done by:"
   ]
  },
  {
   "cell_type": "code",
   "execution_count": null,
   "metadata": {
    "hide-output": false
   },
   "outputs": [],
   "source": [
    "git push origin shiny-new-feature"
   ]
  },
  {
   "cell_type": "markdown",
   "metadata": {},
   "source": [
    "This will automatically update your pull request with the latest code and restart the\n",
    "[Continuous Integration](#contributing-ci) tests.\n",
    "\n",
    "Another reason you might need to update your pull request is to solve conflicts\n",
    "with changes that have been merged into the master branch since you opened your\n",
    "pull request.\n",
    "\n",
    "To do this, you need to “merge upstream master” in your branch:"
   ]
  },
  {
   "cell_type": "code",
   "execution_count": null,
   "metadata": {
    "hide-output": false
   },
   "outputs": [],
   "source": [
    "git checkout shiny-new-feature\n",
    "git fetch upstream\n",
    "git merge upstream/master"
   ]
  },
  {
   "cell_type": "markdown",
   "metadata": {},
   "source": [
    "If there are no conflicts (or they could be fixed automatically), a file with a\n",
    "default commit message will open, and you can simply save and quit this file.\n",
    "\n",
    "If there are merge conflicts, you need to solve those conflicts. See for\n",
    "example at [https://help.github.com/articles/resolving-a-merge-conflict-using-the-command-line/](https://help.github.com/articles/resolving-a-merge-conflict-using-the-command-line/)\n",
    "for an explanation on how to do this.\n",
    "Once the conflicts are merged and the files where the conflicts were solved are\n",
    "added, you can run `git commit` to save those fixes.\n",
    "\n",
    "If you have uncommitted changes at the moment you want to update the branch with\n",
    "master, you will need to `stash` them prior to updating (see the\n",
    "[stash docs](https://git-scm.com/book/en/v2/Git-Tools-Stashing-and-Cleaning)).\n",
    "This will effectively store your changes and they can be reapplied after updating.\n",
    "\n",
    "After the feature branch has been update locally, you can now update your pull\n",
    "request by pushing to the branch on GitHub:"
   ]
  },
  {
   "cell_type": "code",
   "execution_count": null,
   "metadata": {
    "hide-output": false
   },
   "outputs": [],
   "source": [
    "git push origin shiny-new-feature"
   ]
  },
  {
   "cell_type": "markdown",
   "metadata": {},
   "source": [
    "### Delete your merged branch (optional)\n",
    "\n",
    "Once your feature branch is accepted into upstream, you’ll probably want to get rid of\n",
    "the branch. First, merge upstream master into your branch so git knows it is safe to\n",
    "delete your branch:"
   ]
  },
  {
   "cell_type": "code",
   "execution_count": null,
   "metadata": {
    "hide-output": false
   },
   "outputs": [],
   "source": [
    "git fetch upstream\n",
    "git checkout master\n",
    "git merge upstream/master"
   ]
  },
  {
   "cell_type": "markdown",
   "metadata": {},
   "source": [
    "Then you can do:"
   ]
  },
  {
   "cell_type": "code",
   "execution_count": null,
   "metadata": {
    "hide-output": false
   },
   "outputs": [],
   "source": [
    "git branch -d shiny-new-feature"
   ]
  },
  {
   "cell_type": "markdown",
   "metadata": {},
   "source": [
    "Make sure you use a lower-case `-d`, or else git won’t warn you if your feature\n",
    "branch has not actually been merged.\n",
    "\n",
    "The branch will still exist on GitHub, so to delete it there do:"
   ]
  },
  {
   "cell_type": "code",
   "execution_count": null,
   "metadata": {
    "hide-output": false
   },
   "outputs": [],
   "source": [
    "git push origin --delete shiny-new-feature"
   ]
  }
 ],
 "metadata": {
  "filename": "contributing.rst",
  "kernelspec": {
   "display_name": "Python",
   "language": "python3",
   "name": "python3"
  },
  "title": "Contributing to pandas"
 },
 "nbformat": 4,
 "nbformat_minor": 2
}