{
 "cells": [
  {
   "cell_type": "markdown",
   "metadata": {},
   "source": [
    "\n",
    "<a id='internals'></a>\n",
    "{{ header }}"
   ]
  },
  {
   "cell_type": "markdown",
   "metadata": {},
   "source": [
    "# Internals\n",
    "\n",
    "This section will provide a look into some of pandas internals. It’s primarily\n",
    "intended for developers of pandas itself."
   ]
  },
  {
   "cell_type": "markdown",
   "metadata": {},
   "source": [
    "## Indexing\n",
    "\n",
    "In pandas there are a few objects implemented which can serve as valid\n",
    "containers for the axis labels:\n",
    "\n",
    "- `Index`: the generic “ordered set” object, an ndarray of object dtype\n",
    "  assuming nothing about its contents. The labels must be hashable (and\n",
    "  likely immutable) and unique. Populates a dict of label to location in\n",
    "  Cython to do `O(1)` lookups.  \n",
    "- `Int64Index`: a version of `Index` highly optimized for 64-bit integer\n",
    "  data, such as time stamps  \n",
    "- `Float64Index`: a version of `Index` highly optimized for 64-bit float data  \n",
    "- `MultiIndex`: the standard hierarchical index object  \n",
    "- `DatetimeIndex`: An Index object with `Timestamp` boxed elements (impl are the int64 values)  \n",
    "- `TimedeltaIndex`: An Index object with `Timedelta` boxed elements (impl are the in64 values)  \n",
    "- `PeriodIndex`: An Index object with Period elements  \n",
    "\n",
    "\n",
    "There are functions that make the creation of a regular index easy:\n",
    "\n",
    "- `date_range`: fixed frequency date range generated from a time rule or\n",
    "  DateOffset. An ndarray of Python datetime objects  \n",
    "- `period_range`: fixed frequency date range generated from a time rule or\n",
    "  DateOffset. An ndarray of `Period` objects, representing timespans  \n",
    "\n",
    "\n",
    "The motivation for having an `Index` class in the first place was to enable\n",
    "different implementations of indexing. This means that it’s possible for you,\n",
    "the user, to implement a custom `Index` subclass that may be better suited to\n",
    "a particular application than the ones provided in pandas.\n",
    "\n",
    "From an internal implementation point of view, the relevant methods that an\n",
    "`Index` must define are one or more of the following (depending on how\n",
    "incompatible the new object internals are with the `Index` functions):\n",
    "\n",
    "- `get_loc`: returns an “indexer” (an integer, or in some cases a\n",
    "  slice object) for a label  \n",
    "- `slice_locs`: returns the “range” to slice between two labels  \n",
    "- `get_indexer`: Computes the indexing vector for reindexing / data\n",
    "  alignment purposes. See the source / docstrings for more on this  \n",
    "- `get_indexer_non_unique`: Computes the indexing vector for reindexing / data\n",
    "  alignment purposes when the index is non-unique. See the source / docstrings\n",
    "  for more on this  \n",
    "- `reindex`: Does any pre-conversion of the input index then calls\n",
    "  `get_indexer`  \n",
    "- `union`, `intersection`: computes the union or intersection of two\n",
    "  Index objects  \n",
    "- `insert`: Inserts a new label into an Index, yielding a new object  \n",
    "- `delete`: Delete a label, yielding a new object  \n",
    "- `drop`: Deletes a set of labels  \n",
    "- `take`: Analogous to ndarray.take  "
   ]
  },
  {
   "cell_type": "markdown",
   "metadata": {},
   "source": [
    "### MultiIndex\n",
    "\n",
    "Internally, the `MultiIndex` consists of a few things: the **levels**, the\n",
    "integer **codes** (until version 0.24 named *labels*), and the level **names**:\n",
    "\n",
    "You can probably guess that the codes determine which unique element is\n",
    "identified with that location at each layer of the index. It’s important to\n",
    "note that sortedness is determined **solely** from the integer codes and does\n",
    "not check (or care) whether the levels themselves are sorted. Fortunately, the\n",
    "constructors `from_tuples` and `from_arrays` ensure that this is true, but\n",
    "if you compute the levels and codes yourself, please be careful."
   ]
  },
  {
   "cell_type": "markdown",
   "metadata": {},
   "source": [
    "### Values\n",
    "\n",
    "Pandas extends NumPy’s type system with custom types, like `Categorical` or\n",
    "datetimes with a timezone, so we have multiple notions of “values”. For 1-D\n",
    "containers (`Index` classes and `Series`) we have the following convention:\n",
    "\n",
    "- `cls._ndarray_values` is *always* a NumPy `ndarray`. Ideally,\n",
    "  `_ndarray_values` is cheap to compute. For example, for a `Categorical`,\n",
    "  this returns the codes, not the array of objects.  \n",
    "- `cls._values` refers is the “best possible” array. This could be an\n",
    "  `ndarray`, `ExtensionArray`, or in `Index` subclass (note: we’re in the\n",
    "  process of removing the index subclasses here so that it’s always an\n",
    "  `ndarray` or `ExtensionArray`).  \n",
    "\n",
    "\n",
    "So, for example, `Series[category]._values` is a `Categorical`, while\n",
    "`Series[category]._ndarray_values` is the underlying codes.\n",
    "\n",
    "\n",
    "<a id='ref-subclassing-pandas'></a>"
   ]
  },
  {
   "cell_type": "markdown",
   "metadata": {},
   "source": [
    "## Subclassing pandas data structures\n",
    "\n",
    "This section has been moved to [Subclassing pandas data structures](extending.ipynb#extending-subclassing-pandas)."
   ]
  }
 ],
 "metadata": {
  "filename": "internals.rst",
  "kernelspec": {
   "display_name": "Python",
   "language": "python3",
   "name": "python3"
  },
  "title": "Internals"
 },
 "nbformat": 4,
 "nbformat_minor": 2
}