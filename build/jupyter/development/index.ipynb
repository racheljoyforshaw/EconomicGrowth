{
 "cells": [
  {
   "cell_type": "markdown",
   "metadata": {},
   "source": [
    "{{ header }}\n",
    "\n",
    "\n",
    "<a id='development'></a>"
   ]
  },
  {
   "cell_type": "markdown",
   "metadata": {},
   "source": [
    "# Development\n",
    "\n",
    "- [Contributing to pandas](contributing.ipynb)\n",
    "  - [Where to start?](contributing.ipynb#where-to-start)\n",
    "  - [Bug reports and enhancement requests](contributing.ipynb#bug-reports-and-enhancement-requests)\n",
    "  - [Working with the code](contributing.ipynb#working-with-the-code)\n",
    "  - [Contributing to the documentation](contributing.ipynb#contributing-to-the-documentation)\n",
    "  - [Contributing to the code base](contributing.ipynb#contributing-to-the-code-base)\n",
    "  - [Contributing your changes to *pandas*](contributing.ipynb#contributing-your-changes-to-pandas)\n",
    "- [Internals](internals.ipynb)\n",
    "  - [Indexing](internals.ipynb#indexing)\n",
    "  - [Subclassing pandas data structures](internals.ipynb#subclassing-pandas-data-structures)\n",
    "- [Extending pandas](extending.ipynb)\n",
    "  - [Registering custom accessors](extending.ipynb#registering-custom-accessors)\n",
    "  - [Extension types](extending.ipynb#extension-types)\n",
    "  - [Subclassing pandas data structures](extending.ipynb#subclassing-pandas-data-structures)\n",
    "  - [Plotting backends](extending.ipynb#plotting-backends)\n",
    "- [Developer](developer.ipynb)\n",
    "  - [Storing pandas DataFrame objects in Apache Parquet format](developer.ipynb#storing-pandas-dataframe-objects-in-apache-parquet-format)"
   ]
  }
 ],
 "metadata": {
  "filename": "index.rst",
  "kernelspec": {
   "display_name": "Python",
   "language": "python3",
   "name": "python3"
  },
  "title": "Development"
 },
 "nbformat": 4,
 "nbformat_minor": 2
}