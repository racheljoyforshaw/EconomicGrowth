{
 "cells": [
  {
   "cell_type": "markdown",
   "metadata": {},
   "source": [
    "\n",
    "<a id='sparse'></a>\n",
    "{{ header }}"
   ]
  },
  {
   "cell_type": "markdown",
   "metadata": {},
   "source": [
    "# Sparse data structures\n",
    "\n",
    ">**Note**\n",
    ">\n",
    ">`SparseSeries` and `SparseDataFrame` have been deprecated. Their purpose\n",
    "is served equally well by a `Series` or `DataFrame` with\n",
    "sparse values. See [Migrating](#sparse-migration) for tips on migrating.\n",
    "\n",
    "Pandas provides data structures for efficiently storing sparse data.\n",
    "These are not necessarily sparse in the typical “mostly 0”. Rather, you can view these\n",
    "objects as being “compressed” where any data matching a specific value (`NaN` / missing value, though any value\n",
    "can be chosen, including 0) is omitted. The compressed values are not actually stored in the array.\n",
    "\n",
    "Notice the dtype, `Sparse[float64, nan]`. The `nan` means that elements in the\n",
    "array that are `nan` aren’t actually stored, only the non-`nan` elements are.\n",
    "Those non-`nan` elements have a `float64` dtype.\n",
    "\n",
    "The sparse objects exist for memory efficiency reasons. Suppose you had a\n",
    "large, mostly NA `DataFrame`:\n",
    "\n",
    "As you can see, the density (% of values that have not been “compressed”) is\n",
    "extremely low. This sparse object takes up much less memory on disk (pickled)\n",
    "and in the Python interpreter.\n",
    "\n",
    "Functionally, their behavior should be nearly\n",
    "identical to their dense counterparts.\n",
    "\n",
    "\n",
    "<a id='sparse-array'></a>"
   ]
  },
  {
   "cell_type": "markdown",
   "metadata": {},
   "source": [
    "## SparseArray\n",
    "\n",
    "`SparseArray` is a `ExtensionArray`\n",
    "for storing an array of sparse values (see [dtypes](getting_started/basics.ipynb#basics-dtypes) for more\n",
    "on extension arrays). It is a 1-dimensional ndarray-like object storing\n",
    "only values distinct from the `fill_value`:\n",
    "\n",
    "A sparse array can be converted to a regular (dense) ndarray with `numpy.asarray()`\n",
    "\n",
    "\n",
    "<a id='sparse-dtype'></a>"
   ]
  },
  {
   "cell_type": "markdown",
   "metadata": {},
   "source": [
    "## SparseDtype\n",
    "\n",
    "The `SparseArray.dtype` property stores two pieces of information\n",
    "\n",
    "1. The dtype of the non-sparse values  \n",
    "1. The scalar fill value  \n",
    "\n",
    "\n",
    "A `SparseDtype` may be constructed by passing each of these\n",
    "\n",
    "The default fill value for a given NumPy dtype is the “missing” value for that dtype,\n",
    "though it may be overridden.\n",
    "\n",
    "Finally, the string alias `'Sparse[dtype]'` may be used to specify a sparse dtype\n",
    "in many places\n",
    "\n",
    "\n",
    "<a id='sparse-accessor'></a>"
   ]
  },
  {
   "cell_type": "markdown",
   "metadata": {},
   "source": [
    "## Sparse accessor\n",
    "\n",
    "New in version 0.24.0.\n",
    "\n",
    "Pandas provides a `.sparse` accessor, similar to `.str` for string data, `.cat`\n",
    "for categorical data, and `.dt` for datetime-like data. This namespace provides\n",
    "attributes and methods that are specific to sparse data.\n",
    "\n",
    "This accessor is available only on data with `SparseDtype`, and on the `Series`\n",
    "class itself for creating a Series with sparse data from a scipy COO matrix with.\n",
    "\n",
    "New in version 0.25.0.\n",
    "\n",
    "A `.sparse` accessor has been added for `DataFrame` as well.\n",
    "See api.frame.sparse for more.\n",
    "\n",
    "\n",
    "<a id='sparse-calculation'></a>"
   ]
  },
  {
   "cell_type": "markdown",
   "metadata": {},
   "source": [
    "## Sparse calculation\n",
    "\n",
    "You can apply NumPy [ufuncs](https://docs.scipy.org/doc/numpy/reference/ufuncs.html)\n",
    "to `SparseArray` and get a `SparseArray` as a result.\n",
    "\n",
    "The *ufunc* is also applied to `fill_value`. This is needed to get\n",
    "the correct dense result.\n",
    "\n",
    "\n",
    "<a id='sparse-migration'></a>"
   ]
  },
  {
   "cell_type": "markdown",
   "metadata": {},
   "source": [
    "## Migrating\n",
    "\n",
    "In older versions of pandas, the `SparseSeries` and `SparseDataFrame` classes (documented below)\n",
    "were the preferred way to work with sparse data. With the advent of extension arrays, these subclasses\n",
    "are no longer needed. Their purpose is better served by using a regular Series or DataFrame with\n",
    "sparse values instead.\n",
    "\n",
    ">**Note**\n",
    ">\n",
    ">There’s no performance or memory penalty to using a Series or DataFrame with sparse values,\n",
    "rather than a SparseSeries or SparseDataFrame.\n",
    "\n",
    "This section provides some guidance on migrating your code to the new style. As a reminder,\n",
    "you can use the python warnings module to control warnings. But we recommend modifying\n",
    "your code, rather than ignoring the warning.\n",
    "\n",
    "**Construction**\n",
    "\n",
    "From an array-like, use the regular `Series` or\n",
    "`DataFrame` constructors with `SparseArray` values."
   ]
  },
  {
   "cell_type": "code",
   "execution_count": null,
   "metadata": {
    "hide-output": false
   },
   "outputs": [],
   "source": [
    "# Previous way\n",
    ">>> pd.SparseDataFrame({\"A\": [0, 1]})"
   ]
  },
  {
   "cell_type": "markdown",
   "metadata": {},
   "source": [
    "From a SciPy sparse matrix, use `DataFrame.sparse.from_spmatrix()`,"
   ]
  },
  {
   "cell_type": "code",
   "execution_count": null,
   "metadata": {
    "hide-output": false
   },
   "outputs": [],
   "source": [
    "# Previous way\n",
    ">>> from scipy import sparse\n",
    ">>> mat = sparse.eye(3)\n",
    ">>> df = pd.SparseDataFrame(mat, columns=['A', 'B', 'C'])"
   ]
  },
  {
   "cell_type": "markdown",
   "metadata": {},
   "source": [
    "**Conversion**\n",
    "\n",
    "From sparse to dense, use the `.sparse` accessors\n",
    "\n",
    "From dense to sparse, use `DataFrame.astype()` with a `SparseDtype`.\n",
    "\n",
    "**Sparse Properties**\n",
    "\n",
    "Sparse-specific properties, like `density`, are available on the `.sparse` accessor.\n",
    "\n",
    "**General differences**\n",
    "\n",
    "In a `SparseDataFrame`, *all* columns were sparse. A `DataFrame` can have a mixture of\n",
    "sparse and dense columns. As a consequence, assigning new columns to a `DataFrame` with sparse\n",
    "values will not automatically convert the input to be sparse."
   ]
  },
  {
   "cell_type": "code",
   "execution_count": null,
   "metadata": {
    "hide-output": false
   },
   "outputs": [],
   "source": [
    "# Previous Way\n",
    ">>> df = pd.SparseDataFrame({\"A\": [0, 1]})\n",
    ">>> df['B'] = [0, 0]  # implicitly becomes Sparse\n",
    ">>> df['B'].dtype\n",
    "Sparse[int64, nan]"
   ]
  },
  {
   "cell_type": "markdown",
   "metadata": {},
   "source": [
    "Instead, you’ll need to ensure that the values being assigned are sparse\n",
    "\n",
    "The `SparseDataFrame.default_kind` and `SparseDataFrame.default_fill_value` attributes\n",
    "have no replacement.\n",
    "\n",
    "\n",
    "<a id='sparse-scipysparse'></a>"
   ]
  },
  {
   "cell_type": "markdown",
   "metadata": {},
   "source": [
    "## Interaction with scipy.sparse\n",
    "\n",
    "Use `DataFrame.sparse.from_spmatrix()` to create a `DataFrame` with sparse values from a sparse matrix.\n",
    "\n",
    "New in version 0.25.0.\n",
    "\n",
    "All sparse formats are supported, but matrices that are not in [`COOrdinate`](https://docs.scipy.org/doc/scipy/reference/sparse.html#module-scipy.sparse) format will be converted, copying data as needed.\n",
    "To convert back to sparse SciPy matrix in COO format, you can use the `DataFrame.sparse.to_coo()` method:\n",
    "\n",
    "meth:Series.sparse.to_coo is implemented for transforming a `Series` with sparse values indexed by a `MultiIndex` to a [`scipy.sparse.coo_matrix`](https://docs.scipy.org/doc/scipy/reference/generated/scipy.sparse.coo_matrix.html#scipy.sparse.coo_matrix).\n",
    "\n",
    "The method requires a `MultiIndex` with two or more levels.\n",
    "\n",
    "In the example below, we transform the `Series` to a sparse representation of a 2-d array by specifying that the first and second `MultiIndex` levels define labels for the rows and the third and fourth levels define labels for the columns. We also specify that the column and row labels should be sorted in the final sparse representation.\n",
    "\n",
    "Specifying different row and column labels (and not sorting them) yields a different sparse matrix:\n",
    "\n",
    "A convenience method `Series.sparse.from_coo()` is implemented for creating a `Series` with sparse values from a `scipy.sparse.coo_matrix`.\n",
    "\n",
    "The default behaviour (with `dense_index=False`) simply returns a `Series` containing\n",
    "only the non-null entries.\n",
    "\n",
    "Specifying `dense_index=True` will result in an index that is the Cartesian product of the\n",
    "row and columns coordinates of the matrix. Note that this will consume a significant amount of memory\n",
    "(relative to `dense_index=False`) if the sparse matrix is large (and sparse) enough.\n",
    "\n",
    "\n",
    "<a id='sparse-subclasses'></a>"
   ]
  },
  {
   "cell_type": "markdown",
   "metadata": {},
   "source": [
    "## Sparse subclasses\n",
    "\n",
    "The `SparseSeries` and `SparseDataFrame` classes are deprecated. Visit their\n",
    "API pages for usage."
   ]
  }
 ],
 "metadata": {
  "filename": "sparse.rst",
  "kernelspec": {
   "display_name": "Python",
   "language": "python3",
   "name": "python3"
  },
  "title": "Sparse data structures"
 },
 "nbformat": 4,
 "nbformat_minor": 2
}