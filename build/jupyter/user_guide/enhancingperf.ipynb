{
 "cells": [
  {
   "cell_type": "markdown",
   "metadata": {},
   "source": [
    "\n",
    "<a id='enhancingperf'></a>\n",
    "{{ header }}"
   ]
  },
  {
   "cell_type": "markdown",
   "metadata": {},
   "source": [
    "# Enhancing performance\n",
    "\n",
    "In this part of the tutorial, we will investigate how to speed up certain\n",
    "functions operating on pandas `DataFrames` using three different techniques:\n",
    "Cython, Numba and `pandas.eval()`. We will see a speed improvement of ~200\n",
    "when we use Cython and Numba on a test function operating row-wise on the\n",
    "`DataFrame`. Using `pandas.eval()` we will speed up a sum by an order of\n",
    "~2.\n",
    "\n",
    "\n",
    "<a id='enhancingperf-cython'></a>"
   ]
  },
  {
   "cell_type": "markdown",
   "metadata": {},
   "source": [
    "## Cython (writing C extensions for pandas)\n",
    "\n",
    "For many use cases writing pandas in pure Python and NumPy is sufficient. In some\n",
    "computationally heavy applications however, it can be possible to achieve sizable\n",
    "speed-ups by offloading work to [cython](http://cython.org/).\n",
    "\n",
    "This tutorial assumes you have refactored as much as possible in Python, for example\n",
    "by trying to remove for-loops and making use of NumPy vectorization. It’s always worth\n",
    "optimising in Python first.\n",
    "\n",
    "This tutorial walks through a “typical” process of cythonizing a slow computation.\n",
    "We use an [example from the Cython documentation](http://docs.cython.org/src/quickstart/cythonize.html)\n",
    "but in the context of pandas. Our final cythonized solution is around 100 times\n",
    "faster than the pure Python solution.\n",
    "\n",
    "\n",
    "<a id='enhancingperf-pure'></a>"
   ]
  },
  {
   "cell_type": "markdown",
   "metadata": {},
   "source": [
    "### Pure Python\n",
    "\n",
    "We have a `DataFrame` to which we want to apply a function row-wise.\n",
    "\n",
    "Here’s the function in pure Python:\n",
    "\n",
    "We achieve our result by using `apply` (row-wise):"
   ]
  },
  {
   "cell_type": "markdown",
   "metadata": {
    "hide-output": false
   },
   "source": [
    "```ipython\n",
    "In [7]: %timeit df.apply(lambda x: integrate_f(x['a'], x['b'], x['N']), axis=1)\n",
    "10 loops, best of 3: 174 ms per loop\n",
    "```\n"
   ]
  },
  {
   "cell_type": "markdown",
   "metadata": {},
   "source": [
    "But clearly this isn’t fast enough for us. Let’s take a look and see where the\n",
    "time is spent during this operation (limited to the most time consuming\n",
    "four calls) using the [prun ipython magic function](http://ipython.org/ipython-doc/stable/api/generated/IPython.core.magics.execution.html#IPython.core.magics.execution.ExecutionMagics.prun):\n",
    "\n",
    "By far the majority of time is spend inside either `integrate_f` or `f`,\n",
    "hence we’ll concentrate our efforts cythonizing these two functions.\n",
    "\n",
    ">**Note**\n",
    ">\n",
    ">In Python 2 replacing the `range` with its generator counterpart (`xrange`)\n",
    "would mean the `range` line would vanish. In Python 3 `range` is already a generator.\n",
    "\n",
    "\n",
    "<a id='enhancingperf-plain'></a>"
   ]
  },
  {
   "cell_type": "markdown",
   "metadata": {},
   "source": [
    "### Plain Cython\n",
    "\n",
    "First we’re going to need to import the Cython magic function to ipython:\n",
    "\n",
    "Now, let’s simply copy our functions over to Cython as is (the suffix\n",
    "is here to distinguish between function versions):\n",
    "\n",
    ">**Note**\n",
    ">\n",
    ">If you’re having trouble pasting the above into your ipython, you may need\n",
    "to be using bleeding edge ipython for paste to play well with cell magics."
   ]
  },
  {
   "cell_type": "markdown",
   "metadata": {
    "hide-output": false
   },
   "source": [
    "```ipython\n",
    "In [4]: %timeit df.apply(lambda x: integrate_f_plain(x['a'], x['b'], x['N']), axis=1)\n",
    "10 loops, best of 3: 85.5 ms per loop\n",
    "```\n"
   ]
  },
  {
   "cell_type": "markdown",
   "metadata": {},
   "source": [
    "Already this has shaved a third off, not too bad for a simple copy and paste.\n",
    "\n",
    "\n",
    "<a id='enhancingperf-type'></a>"
   ]
  },
  {
   "cell_type": "markdown",
   "metadata": {},
   "source": [
    "### Adding type\n",
    "\n",
    "We get another huge improvement simply by providing type information:"
   ]
  },
  {
   "cell_type": "markdown",
   "metadata": {
    "hide-output": false
   },
   "source": [
    "```ipython\n",
    "In [4]: %timeit df.apply(lambda x: integrate_f_typed(x['a'], x['b'], x['N']), axis=1)\n",
    "10 loops, best of 3: 20.3 ms per loop\n",
    "```\n"
   ]
  },
  {
   "cell_type": "markdown",
   "metadata": {},
   "source": [
    "Now, we’re talking! It’s now over ten times faster than the original python\n",
    "implementation, and we haven’t *really* modified the code. Let’s have another\n",
    "look at what’s eating up time:\n",
    "\n",
    "\n",
    "<a id='enhancingperf-ndarray'></a>"
   ]
  },
  {
   "cell_type": "markdown",
   "metadata": {},
   "source": [
    "### Using ndarray\n",
    "\n",
    "It’s calling series… a lot! It’s creating a Series from each row, and get-ting from both\n",
    "the index and the series (three times for each row). Function calls are expensive\n",
    "in Python, so maybe we could minimize these by cythonizing the apply part.\n",
    "\n",
    ">**Note**\n",
    ">\n",
    ">We are now passing ndarrays into the Cython function, fortunately Cython plays\n",
    "very nicely with NumPy.\n",
    "\n",
    "The implementation is simple, it creates an array of zeros and loops over\n",
    "the rows, applying our `integrate_f_typed`, and putting this in the zeros array.\n",
    "\n",
    "You can **not pass** a `Series` directly as a `ndarray` typed parameter\n",
    "to a Cython function. Instead pass the actual `ndarray` using the\n",
    "`Series.to_numpy()`. The reason is that the Cython\n",
    "definition is specific to an ndarray and not the passed `Series`.\n",
    "\n",
    "So, do not do this:"
   ]
  },
  {
   "cell_type": "code",
   "execution_count": null,
   "metadata": {
    "hide-output": false
   },
   "outputs": [],
   "source": [
    "apply_integrate_f(df['a'], df['b'], df['N'])"
   ]
  },
  {
   "cell_type": "markdown",
   "metadata": {},
   "source": [
    "But rather, use `Series.to_numpy()` to get the underlying `ndarray`:"
   ]
  },
  {
   "cell_type": "code",
   "execution_count": null,
   "metadata": {
    "hide-output": false
   },
   "outputs": [],
   "source": [
    "apply_integrate_f(df['a'].to_numpy(),\n",
    "                  df['b'].to_numpy(),\n",
    "                  df['N'].to_numpy())"
   ]
  },
  {
   "cell_type": "markdown",
   "metadata": {},
   "source": [
    ">**Note**\n",
    ">\n",
    ">Loops like this would be *extremely* slow in Python, but in Cython looping\n",
    "over NumPy arrays is *fast*."
   ]
  },
  {
   "cell_type": "markdown",
   "metadata": {
    "hide-output": false
   },
   "source": [
    "```ipython\n",
    "In [4]: %timeit apply_integrate_f(df['a'].to_numpy(),\n",
    "                                  df['b'].to_numpy(),\n",
    "                                  df['N'].to_numpy())\n",
    "1000 loops, best of 3: 1.25 ms per loop\n",
    "```\n"
   ]
  },
  {
   "cell_type": "markdown",
   "metadata": {},
   "source": [
    "We’ve gotten another big improvement. Let’s check again where the time is spent:\n",
    "\n",
    "As one might expect, the majority of the time is now spent in `apply_integrate_f`,\n",
    "so if we wanted to make anymore efficiencies we must continue to concentrate our\n",
    "efforts here.\n",
    "\n",
    "\n",
    "<a id='enhancingperf-boundswrap'></a>"
   ]
  },
  {
   "cell_type": "markdown",
   "metadata": {},
   "source": [
    "### More advanced techniques\n",
    "\n",
    "There is still hope for improvement. Here’s an example of using some more\n",
    "advanced Cython techniques:"
   ]
  },
  {
   "cell_type": "markdown",
   "metadata": {
    "hide-output": false
   },
   "source": [
    "```ipython\n",
    "In [4]: %timeit apply_integrate_f_wrap(df['a'].to_numpy(),\n",
    "                                       df['b'].to_numpy(),\n",
    "                                       df['N'].to_numpy())\n",
    "1000 loops, best of 3: 987 us per loop\n",
    "```\n"
   ]
  },
  {
   "cell_type": "markdown",
   "metadata": {},
   "source": [
    "Even faster, with the caveat that a bug in our Cython code (an off-by-one error,\n",
    "for example) might cause a segfault because memory access isn’t checked.\n",
    "For more about `boundscheck` and `wraparound`, see the Cython docs on\n",
    "[compiler directives](http://cython.readthedocs.io/en/latest/src/reference/compilation.html?highlight=wraparound#compiler-directives).\n",
    "\n",
    "\n",
    "<a id='enhancingperf-numba'></a>"
   ]
  },
  {
   "cell_type": "markdown",
   "metadata": {},
   "source": [
    "## Using Numba\n",
    "\n",
    "A recent alternative to statically compiling Cython code, is to use a *dynamic jit-compiler*, Numba.\n",
    "\n",
    "Numba gives you the power to speed up your applications with high performance functions written directly in Python. With a few annotations, array-oriented and math-heavy Python code can be just-in-time compiled to native machine instructions, similar in performance to C, C++ and Fortran, without having to switch languages or Python interpreters.\n",
    "\n",
    "Numba works by generating optimized machine code using the LLVM compiler infrastructure at import time, runtime, or statically (using the included pycc tool). Numba supports compilation of Python to run on either CPU or GPU hardware, and is designed to integrate with the Python scientific software stack.\n",
    "\n",
    ">**Note**\n",
    ">\n",
    ">You will need to install Numba. This is easy with `conda`, by using: `conda install numba`, see [installing using miniconda](install.ipynb#install-miniconda).\n",
    "\n",
    ">**Note**\n",
    ">\n",
    ">As of Numba version 0.20, pandas objects cannot be passed directly to Numba-compiled functions. Instead, one must pass the NumPy array underlying the pandas object to the Numba-compiled function as demonstrated below."
   ]
  },
  {
   "cell_type": "markdown",
   "metadata": {},
   "source": [
    "### Jit\n",
    "\n",
    "We demonstrate how to use Numba to just-in-time compile our code. We simply\n",
    "take the plain Python code from above and annotate with the `@jit` decorator."
   ]
  },
  {
   "cell_type": "code",
   "execution_count": null,
   "metadata": {
    "hide-output": false
   },
   "outputs": [],
   "source": [
    "import numba\n",
    "\n",
    "\n",
    "@numba.jit\n",
    "def f_plain(x):\n",
    "    return x * (x - 1)\n",
    "\n",
    "\n",
    "@numba.jit\n",
    "def integrate_f_numba(a, b, N):\n",
    "    s = 0\n",
    "    dx = (b - a) / N\n",
    "    for i in range(N):\n",
    "        s += f_plain(a + i * dx)\n",
    "    return s * dx\n",
    "\n",
    "\n",
    "@numba.jit\n",
    "def apply_integrate_f_numba(col_a, col_b, col_N):\n",
    "    n = len(col_N)\n",
    "    result = np.empty(n, dtype='float64')\n",
    "    assert len(col_a) == len(col_b) == n\n",
    "    for i in range(n):\n",
    "        result[i] = integrate_f_numba(col_a[i], col_b[i], col_N[i])\n",
    "    return result\n",
    "\n",
    "\n",
    "def compute_numba(df):\n",
    "    result = apply_integrate_f_numba(df['a'].to_numpy(),\n",
    "                                     df['b'].to_numpy(),\n",
    "                                     df['N'].to_numpy())\n",
    "    return pd.Series(result, index=df.index, name='result')"
   ]
  },
  {
   "cell_type": "markdown",
   "metadata": {},
   "source": [
    "Note that we directly pass NumPy arrays to the Numba function. `compute_numba` is just a wrapper that provides a\n",
    "nicer interface by passing/returning pandas objects."
   ]
  },
  {
   "cell_type": "markdown",
   "metadata": {
    "hide-output": false
   },
   "source": [
    "```ipython\n",
    "In [4]: %timeit compute_numba(df)\n",
    "1000 loops, best of 3: 798 us per loop\n",
    "```\n"
   ]
  },
  {
   "cell_type": "markdown",
   "metadata": {},
   "source": [
    "In this example, using Numba was faster than Cython."
   ]
  },
  {
   "cell_type": "markdown",
   "metadata": {},
   "source": [
    "### Vectorize\n",
    "\n",
    "Numba can also be used to write vectorized functions that do not require the user to explicitly\n",
    "loop over the observations of a vector; a vectorized function will be applied to each row automatically.\n",
    "Consider the following toy example of doubling each observation:"
   ]
  },
  {
   "cell_type": "code",
   "execution_count": null,
   "metadata": {
    "hide-output": false
   },
   "outputs": [],
   "source": [
    "import numba\n",
    "\n",
    "\n",
    "def double_every_value_nonumba(x):\n",
    "    return x * 2\n",
    "\n",
    "\n",
    "@numba.vectorize\n",
    "def double_every_value_withnumba(x):  # noqa E501\n",
    "    return x * 2"
   ]
  },
  {
   "cell_type": "markdown",
   "metadata": {
    "hide-output": false
   },
   "source": [
    "```ipython\n",
    "# Custom function without numba\n",
    "In [5]: %timeit df['col1_doubled'] = df.a.apply(double_every_value_nonumba)  # noqa E501\n",
    "1000 loops, best of 3: 797 us per loop\n",
    "\n",
    "# Standard implementation (faster than a custom function)\n",
    "In [6]: %timeit df['col1_doubled'] = df.a * 2\n",
    "1000 loops, best of 3: 233 us per loop\n",
    "\n",
    "# Custom function with numba\n",
    "In [7]: %timeit (df['col1_doubled'] = double_every_value_withnumba(df.a.to_numpy())\n",
    "1000 loops, best of 3: 145 us per loop\n",
    "```\n"
   ]
  },
  {
   "cell_type": "markdown",
   "metadata": {},
   "source": [
    "### Caveats\n",
    "\n",
    ">**Note**\n",
    ">\n",
    ">Numba will execute on any function, but can only accelerate certain classes of functions.\n",
    "\n",
    "Numba is best at accelerating functions that apply numerical functions to NumPy\n",
    "arrays. When passed a function that only uses operations it knows how to\n",
    "accelerate, it will execute in `nopython` mode.\n",
    "\n",
    "If Numba is passed a function that includes something it doesn’t know how to\n",
    "work with – a category that currently includes sets, lists, dictionaries, or\n",
    "string functions – it will revert to `object mode`. In `object mode`,\n",
    "Numba will execute but your code will not speed up significantly. If you would\n",
    "prefer that Numba throw an error if it cannot compile a function in a way that\n",
    "speeds up your code, pass Numba the argument\n",
    "`nopython=True` (e.g.  `@numba.jit(nopython=True)`). For more on\n",
    "troubleshooting Numba modes, see the [Numba troubleshooting page](http://numba.pydata.org/numba-doc/latest/user/troubleshoot.html#the-compiled-code-is-too-slow).\n",
    "\n",
    "Read more in the [Numba docs](http://numba.pydata.org/).\n",
    "\n",
    "\n",
    "<a id='enhancingperf-eval'></a>"
   ]
  },
  {
   "cell_type": "markdown",
   "metadata": {},
   "source": [
    "## Expression evaluation via `eval()`\n",
    "\n",
    "The top-level function `pandas.eval()` implements expression evaluation of\n",
    "`Series` and `DataFrame` objects.\n",
    "\n",
    ">**Note**\n",
    ">\n",
    ">To benefit from using `eval()` you need to\n",
    "install `numexpr`. See the [recommended dependencies section](install.ipynb#install-recommended-dependencies) for more details.\n",
    "\n",
    "The point of using `eval()` for expression evaluation rather than\n",
    "plain Python is two-fold: 1) large `DataFrame` objects are\n",
    "evaluated more efficiently and 2) large arithmetic and boolean expressions are\n",
    "evaluated all at once by the underlying engine (by default `numexpr` is used\n",
    "for evaluation).\n",
    "\n",
    ">**Note**\n",
    ">\n",
    ">You should not use `eval()` for simple\n",
    "expressions or for expressions involving small DataFrames. In fact,\n",
    "`eval()` is many orders of magnitude slower for\n",
    "smaller expressions/objects than plain ol’ Python. A good rule of thumb is\n",
    "to only use `eval()` when you have a\n",
    "`DataFrame` with more than 10,000 rows.\n",
    "\n",
    "`eval()` supports all arithmetic expressions supported by the\n",
    "engine in addition to some extensions available only in pandas.\n",
    "\n",
    ">**Note**\n",
    ">\n",
    ">The larger the frame and the larger the expression the more speedup you will\n",
    "see from using `eval()`."
   ]
  },
  {
   "cell_type": "markdown",
   "metadata": {},
   "source": [
    "### Supported syntax\n",
    "\n",
    "These operations are supported by `pandas.eval()`:\n",
    "\n",
    "- Arithmetic operations except for the left shift (`<<`) and right shift\n",
    "  (`>>`) operators, e.g., `df + 2 * pi / s ** 4 % 42 - the_golden_ratio`  \n",
    "- Comparison operations, including chained comparisons, e.g., `2 < df < df2`  \n",
    "- Boolean operations, e.g., `df < df2 and df3 < df4 or not df_bool`  \n",
    "- `list` and `tuple` literals, e.g., `[1, 2]` or `(1, 2)`  \n",
    "- Attribute access, e.g., `df.a`  \n",
    "- Subscript expressions, e.g., `df[0]`  \n",
    "- Simple variable evaluation, e.g., `pd.eval('df')` (this is not very useful)  \n",
    "- Math functions: sin, cos, exp, log, expm1, log1p,\n",
    "  sqrt, sinh, cosh, tanh, arcsin, arccos, arctan, arccosh,\n",
    "  arcsinh, arctanh, abs, arctan2 and log10.  \n",
    "\n",
    "\n",
    "This Python syntax is **not** allowed:\n",
    "\n",
    "- Expressions  \n",
    "  \n",
    "  - Function calls other than math functions.  \n",
    "  - `is`/`is not` operations  \n",
    "  - `if` expressions  \n",
    "  - `lambda` expressions  \n",
    "  - `list`/`set`/`dict` comprehensions  \n",
    "  - Literal `dict` and `set` expressions  \n",
    "  - `yield` expressions  \n",
    "  - Generator expressions  \n",
    "  - Boolean expressions consisting of only scalar values  \n",
    "  \n",
    "- Statements  \n",
    "  \n",
    "  - Neither [simple](https://docs.python.org/3/reference/simple_stmts.html)\n",
    "    nor [compound](https://docs.python.org/3/reference/compound_stmts.html)\n",
    "    statements are allowed. This includes things like `for`, `while`, and\n",
    "    `if`.  "
   ]
  },
  {
   "cell_type": "markdown",
   "metadata": {},
   "source": [
    "### `eval()` examples\n",
    "\n",
    "`pandas.eval()` works well with expressions containing large arrays.\n",
    "\n",
    "First let’s create a few decent-sized arrays to play with:\n",
    "\n",
    "Now let’s compare adding them together using plain ol’ Python versus\n",
    "`eval()`:\n",
    "\n",
    "Now let’s do the same thing but with comparisons:\n",
    "\n",
    "`eval()` also works with unaligned pandas objects:\n",
    "\n",
    ">**Note**\n",
    ">\n",
    ">Operations such as\n",
    "\n",
    "> "
   ]
  },
  {
   "cell_type": "code",
   "execution_count": null,
   "metadata": {
    "hide-output": false
   },
   "outputs": [],
   "source": [
    "1 and 2  # would parse to 1 & 2, but should evaluate to 2\n",
    "3 or 4  # would parse to 3 | 4, but should evaluate to 3\n",
    "~1  # this is okay, but slower when using eval"
   ]
  },
  {
   "cell_type": "markdown",
   "metadata": {},
   "source": [
    "\n",
    "should be performed in Python. An exception will be raised if you try to\n",
    "perform any boolean/bitwise operations with scalar operands that are not\n",
    "of type `bool` or `np.bool_`. Again, you should perform these kinds of\n",
    "operations in plain Python."
   ]
  },
  {
   "cell_type": "markdown",
   "metadata": {},
   "source": [
    "### The `DataFrame.eval` method\n",
    "\n",
    "In addition to the top level `pandas.eval()` function you can also\n",
    "evaluate an expression in the “context” of a `DataFrame`.\n",
    "\n",
    "Any expression that is a valid `pandas.eval()` expression is also a valid\n",
    "`DataFrame.eval()` expression, with the added benefit that you don’t have to\n",
    "prefix the name of the `DataFrame` to the column(s) you’re\n",
    "interested in evaluating.\n",
    "\n",
    "In addition, you can perform assignment of columns within an expression.\n",
    "This allows for *formulaic evaluation*.  The assignment target can be a\n",
    "new column name or an existing column name, and it must be a valid Python\n",
    "identifier.\n",
    "\n",
    "New in version 0.18.0.\n",
    "\n",
    "The `inplace` keyword determines whether this assignment will performed\n",
    "on the original `DataFrame` or return a copy with the new column.\n",
    "\n",
    "For backwards compatibility, `inplace` defaults to `True` if not\n",
    "specified. This will change in a future version of pandas - if your\n",
    "code depends on an inplace assignment you should update to explicitly\n",
    "set `inplace=True`.\n",
    "\n",
    "When `inplace` is set to `False`, a copy of the `DataFrame` with the\n",
    "new or modified columns is returned and the original frame is unchanged.\n",
    "\n",
    "New in version 0.18.0.\n",
    "\n",
    "As a convenience, multiple assignments can be performed by using a\n",
    "multi-line string.\n",
    "\n",
    "The equivalent in standard Python would be\n",
    "\n",
    "New in version 0.18.0.\n",
    "\n",
    "The `query` method gained the `inplace` keyword which determines\n",
    "whether the query modifies the original frame.\n",
    "\n",
    "Unlike with `eval`, the default value for `inplace` for `query`\n",
    "is `False`.  This is consistent with prior versions of pandas."
   ]
  },
  {
   "cell_type": "markdown",
   "metadata": {},
   "source": [
    "### Local variables\n",
    "\n",
    "You must *explicitly reference* any local variable that you want to use in an\n",
    "expression by placing the `@` character in front of the name. For example,\n",
    "\n",
    "If you don’t prefix the local variable with `@`, pandas will raise an\n",
    "exception telling you the variable is undefined.\n",
    "\n",
    "When using `DataFrame.eval()` and `DataFrame.query()`, this allows you\n",
    "to have a local variable and a `DataFrame` column with the same\n",
    "name in an expression.\n",
    "\n",
    "With `pandas.eval()` you cannot use the `@` prefix *at all*, because it\n",
    "isn’t defined in that context. `pandas` will let you know this if you try to\n",
    "use `@` in a top-level call to `pandas.eval()`. For example,\n",
    "\n",
    "In this case, you should simply refer to the variables like you would in\n",
    "standard Python."
   ]
  },
  {
   "cell_type": "markdown",
   "metadata": {},
   "source": [
    "### `pandas.eval()` parsers\n",
    "\n",
    "There are two different parsers and two different engines you can use as\n",
    "the backend.\n",
    "\n",
    "The default `'pandas'` parser allows a more intuitive syntax for expressing\n",
    "query-like operations (comparisons, conjunctions and disjunctions). In\n",
    "particular, the precedence of the `&` and `|` operators is made equal to\n",
    "the precedence of the corresponding boolean operations `and` and `or`.\n",
    "\n",
    "For example, the above conjunction can be written without parentheses.\n",
    "Alternatively, you can use the `'python'` parser to enforce strict Python\n",
    "semantics.\n",
    "\n",
    "The same expression can be “anded” together with the word [`and`](https://docs.python.org/3/reference/expressions.html#and) as\n",
    "well:\n",
    "\n",
    "The `and` and `or` operators here have the same precedence that they would\n",
    "in vanilla Python."
   ]
  },
  {
   "cell_type": "markdown",
   "metadata": {},
   "source": [
    "### `pandas.eval()` backends\n",
    "\n",
    "There’s also the option to make `eval()` operate identical to plain\n",
    "ol’ Python.\n",
    "\n",
    ">**Note**\n",
    ">\n",
    ">Using the `'python'` engine is generally *not* useful, except for testing\n",
    "other evaluation engines against it. You will achieve **no** performance\n",
    "benefits using `eval()` with `engine='python'` and in fact may\n",
    "incur a performance hit.\n",
    "\n",
    "You can see this by using `pandas.eval()` with the `'python'` engine. It\n",
    "is a bit slower (not by much) than evaluating the same expression in Python"
   ]
  },
  {
   "cell_type": "markdown",
   "metadata": {},
   "source": [
    "### `pandas.eval()` performance\n",
    "\n",
    "`eval()` is intended to speed up certain kinds of operations. In\n",
    "particular, those operations involving complex expressions with large\n",
    "`DataFrame`/`Series` objects should see a\n",
    "significant performance benefit.  Here is a plot showing the running time of\n",
    "`pandas.eval()` as function of the size of the frame involved in the\n",
    "computation. The two lines are two different engines.\n",
    "\n",
    "<img src=\"user_guide/../_static/eval-perf.png\" style=\"\">\n",
    "\n",
    ">**Note**\n",
    ">\n",
    ">Operations with smallish objects (around 15k-20k rows) are faster using\n",
    "plain Python:\n",
    "\n",
    "> <img src=\"user_guide/../_static/eval-perf-small.png\" style=\"\">\n",
    "\n",
    "\n",
    "This plot was created using a `DataFrame` with 3 columns each containing\n",
    "floating point values generated using `numpy.random.randn()`."
   ]
  },
  {
   "cell_type": "markdown",
   "metadata": {},
   "source": [
    "### Technical minutia regarding expression evaluation\n",
    "\n",
    "Expressions that would result in an object dtype or involve datetime operations\n",
    "(because of `NaT`) must be evaluated in Python space. The main reason for\n",
    "this behavior is to maintain backwards compatibility with versions of NumPy <\n",
    "1.7. In those versions of NumPy a call to `ndarray.astype(str)` will\n",
    "truncate any strings that are more than 60 characters in length. Second, we\n",
    "can’t pass `object` arrays to `numexpr` thus string comparisons must be\n",
    "evaluated in Python space.\n",
    "\n",
    "The upshot is that this *only* applies to object-dtype expressions. So, if\n",
    "you have an expression–for example\n",
    "\n",
    "the numeric part of the comparison (`nums == 1`) will be evaluated by\n",
    "`numexpr`.\n",
    "\n",
    "In general, `DataFrame.query()`/`pandas.eval()` will\n",
    "evaluate the subexpressions that *can* be evaluated by `numexpr` and those\n",
    "that must be evaluated in Python space transparently to the user. This is done\n",
    "by inferring the result type of an expression from its arguments and operators."
   ]
  }
 ],
 "metadata": {
  "filename": "enhancingperf.rst",
  "kernelspec": {
   "display_name": "Python",
   "language": "python3",
   "name": "python3"
  },
  "title": "Enhancing performance"
 },
 "nbformat": 4,
 "nbformat_minor": 2
}