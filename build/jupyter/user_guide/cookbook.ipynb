{
 "cells": [
  {
   "cell_type": "markdown",
   "metadata": {},
   "source": [
    "\n",
    "<a id='cookbook'></a>\n",
    "{{ header }}"
   ]
  },
  {
   "cell_type": "markdown",
   "metadata": {},
   "source": [
    "# Cookbook\n",
    "\n",
    "This is a repository for *short and sweet* examples and links for useful pandas recipes.\n",
    "We encourage users to add to this documentation.\n",
    "\n",
    "Adding interesting links and/or inline examples to this section is a great *First Pull Request*.\n",
    "\n",
    "Simplified, condensed, new-user friendly, in-line examples have been inserted where possible to\n",
    "augment the Stack-Overflow and GitHub links.  Many of the links contain expanded information,\n",
    "above what the in-line examples offer.\n",
    "\n",
    "Pandas (pd) and Numpy (np) are the only two abbreviated imported modules. The rest are kept\n",
    "explicitly imported for newer users.\n",
    "\n",
    "These examples are written for Python 3.  Minor tweaks might be necessary for earlier python\n",
    "versions."
   ]
  },
  {
   "cell_type": "markdown",
   "metadata": {},
   "source": [
    "## Idioms\n",
    "\n",
    "\n",
    "<a id='cookbook-idioms'></a>\n",
    "These are some neat pandas `idioms`\n",
    "\n",
    "[if-then/if-then-else on one column, and assignment to another one or more columns:](https://stackoverflow.com/questions/17128302/python-pandas-idiom-for-if-then-else)"
   ]
  },
  {
   "cell_type": "markdown",
   "metadata": {},
   "source": [
    "### if-then…\n",
    "\n",
    "An if-then on one column\n",
    "\n",
    "An if-then with assignment to 2 columns:\n",
    "\n",
    "Add another line with different logic, to do the -else\n",
    "\n",
    "Or use pandas where after you’ve set up a mask\n",
    "\n",
    "[if-then-else using numpy’s where()](https://stackoverflow.com/questions/19913659/pandas-conditional-creation-of-a-series-dataframe-column)"
   ]
  },
  {
   "cell_type": "markdown",
   "metadata": {},
   "source": [
    "### Splitting\n",
    "\n",
    "[Split a frame with a boolean criterion](https://stackoverflow.com/questions/14957116/how-to-split-a-dataframe-according-to-a-boolean-criterion)"
   ]
  },
  {
   "cell_type": "markdown",
   "metadata": {},
   "source": [
    "### Building criteria\n",
    "\n",
    "[Select with multi-column criteria](https://stackoverflow.com/questions/15315452/selecting-with-complex-criteria-from-pandas-dataframe)\n",
    "\n",
    "…and (without assignment returns a Series)\n",
    "\n",
    "…or (without assignment returns a Series)\n",
    "\n",
    "…or (with assignment modifies the DataFrame.)\n",
    "\n",
    "[Select rows with data closest to certain value using argsort](https://stackoverflow.com/questions/17758023/return-rows-in-a-dataframe-closest-to-a-user-defined-number)\n",
    "\n",
    "[Dynamically reduce a list of criteria using a binary operators](https://stackoverflow.com/questions/21058254/pandas-boolean-operation-in-a-python-list/21058331)\n",
    "\n",
    "One could hard code:\n",
    "\n",
    "…Or it can be done with a list of dynamically built criteria\n",
    "\n",
    "\n",
    "<a id='cookbook-selection'></a>"
   ]
  },
  {
   "cell_type": "markdown",
   "metadata": {},
   "source": [
    "## Selection"
   ]
  },
  {
   "cell_type": "markdown",
   "metadata": {},
   "source": [
    "### DataFrames\n",
    "\n",
    "The [indexing](indexing.ipynb#indexing) docs.\n",
    "\n",
    "[Using both row labels and value conditionals](https://stackoverflow.com/questions/14725068/pandas-using-row-labels-in-boolean-indexing)\n",
    "\n",
    "[Use loc for label-oriented slicing and iloc positional slicing](https://github.com/pandas-dev/pandas/issues/2904)\n",
    "\n",
    "There are 2 explicit slicing methods, with a third general case\n",
    "\n",
    "1. Positional-oriented (Python slicing style : exclusive of end)  \n",
    "1. Label-oriented (Non-Python slicing style : inclusive of end)  \n",
    "1. General (Either slicing style : depends on if the slice contains labels or positions)  \n",
    "\n",
    "\n",
    "Ambiguity arises when an index consists of integers with a non-zero start or non-unit increment.\n",
    "\n",
    "[Using inverse operator (~) to take the complement of a mask](https://stackoverflow.com/questions/14986510/picking-out-elements-based-on-complement-of-indices-in-python-pandas)"
   ]
  },
  {
   "cell_type": "markdown",
   "metadata": {},
   "source": [
    "### New columns\n",
    "\n",
    "[Efficiently and dynamically creating new columns using applymap](https://stackoverflow.com/questions/16575868/efficiently-creating-additional-columns-in-a-pandas-dataframe-using-map)\n",
    "\n",
    "[Keep other columns when using min() with groupby](https://stackoverflow.com/questions/23394476/keep-other-columns-when-using-min-with-groupby)\n",
    "\n",
    "Method 1 : idxmin() to get the index of the minimums\n",
    "\n",
    "Method 2 : sort then take first of each\n",
    "\n",
    "Notice the same results, with the exception of the index.\n",
    "\n",
    "\n",
    "<a id='cookbook-multi-index'></a>"
   ]
  },
  {
   "cell_type": "markdown",
   "metadata": {},
   "source": [
    "## MultiIndexing\n",
    "\n",
    "The [multindexing](advanced.ipynb#advanced-hierarchical) docs.\n",
    "\n",
    "[Creating a MultiIndex from a labeled frame](https://stackoverflow.com/questions/14916358/reshaping-dataframes-in-pandas-based-on-column-labels)"
   ]
  },
  {
   "cell_type": "markdown",
   "metadata": {},
   "source": [
    "### Arithmetic\n",
    "\n",
    "[Performing arithmetic with a MultiIndex that needs broadcasting](https://stackoverflow.com/questions/19501510/divide-entire-pandas-multiindex-dataframe-by-dataframe-variable/19502176#19502176)"
   ]
  },
  {
   "cell_type": "markdown",
   "metadata": {},
   "source": [
    "### Slicing\n",
    "\n",
    "[Slicing a MultiIndex with xs](https://stackoverflow.com/questions/12590131/how-to-slice-multindex-columns-in-pandas-dataframes)\n",
    "\n",
    "To take the cross section of the 1st level and 1st axis the index:\n",
    "\n",
    "…and now the 2nd level of the 1st axis.\n",
    "\n",
    "[Slicing a MultiIndex with xs, method #2](https://stackoverflow.com/questions/14964493/multiindex-based-indexing-in-pandas)\n",
    "\n",
    "[Setting portions of a MultiIndex with xs](https://stackoverflow.com/questions/19319432/pandas-selecting-a-lower-level-in-a-dataframe-to-do-a-ffill)"
   ]
  },
  {
   "cell_type": "markdown",
   "metadata": {},
   "source": [
    "### Sorting\n",
    "\n",
    "[Sort by specific column or an ordered list of columns, with a MultiIndex](https://stackoverflow.com/questions/14733871/mutli-index-sorting-in-pandas)\n",
    "\n",
    "[Partial selection, the need for sortedness;](https://github.com/pandas-dev/pandas/issues/2995)"
   ]
  },
  {
   "cell_type": "markdown",
   "metadata": {},
   "source": [
    "### Levels\n",
    "\n",
    "[Prepending a level to a multiindex](http://stackoverflow.com/questions/14744068/prepend-a-level-to-a-pandas-multiindex)\n",
    "\n",
    "[Flatten Hierarchical columns](http://stackoverflow.com/questions/14507794/python-pandas-how-to-flatten-a-hierarchical-index-in-columns)\n",
    "\n",
    "\n",
    "<a id='cookbook-missing-data'></a>"
   ]
  },
  {
   "cell_type": "markdown",
   "metadata": {},
   "source": [
    "## Missing data\n",
    "\n",
    "The [missing data](missing_data.ipynb#missing-data) docs.\n",
    "\n",
    "Fill forward a reversed timeseries\n",
    "\n",
    "[cumsum reset at NaN values](http://stackoverflow.com/questions/18196811/cumsum-reset-at-nan)"
   ]
  },
  {
   "cell_type": "markdown",
   "metadata": {},
   "source": [
    "### Replace\n",
    "\n",
    "[Using replace with backrefs](http://stackoverflow.com/questions/16818871/extracting-value-and-creating-new-column-out-of-it)\n",
    "\n",
    "\n",
    "<a id='cookbook-grouping'></a>"
   ]
  },
  {
   "cell_type": "markdown",
   "metadata": {},
   "source": [
    "## Grouping\n",
    "\n",
    "The [grouping](groupby.ipynb#groupby) docs.\n",
    "\n",
    "[Basic grouping with apply](http://stackoverflow.com/questions/15322632/python-pandas-df-groupy-agg-column-reference-in-agg)\n",
    "\n",
    "Unlike agg, apply’s callable is passed a sub-DataFrame which gives you access to all the columns\n",
    "\n",
    "[Using get_group](http://stackoverflow.com/questions/14734533/how-to-access-pandas-groupby-dataframe-by-key)\n",
    "\n",
    "[Apply to different items in a group](http://stackoverflow.com/questions/15262134/apply-different-functions-to-different-items-in-group-object-python-pandas)\n",
    "\n",
    "[Expanding apply](http://stackoverflow.com/questions/14542145/reductions-down-a-column-in-pandas)\n",
    "\n",
    "[Replacing some values with mean of the rest of a group](http://stackoverflow.com/questions/14760757/replacing-values-with-groupby-means)\n",
    "\n",
    "[Sort groups by aggregated data](http://stackoverflow.com/questions/14941366/pandas-sort-by-group-aggregate-and-column)\n",
    "\n",
    "[Create multiple aggregated columns](http://stackoverflow.com/questions/14897100/create-multiple-columns-in-pandas-aggregation-function)\n",
    "\n",
    "[Create a value counts column and reassign back to the DataFrame](http://stackoverflow.com/questions/17709270/i-want-to-create-a-column-of-value-counts-in-my-pandas-dataframe)\n",
    "\n",
    "[Shift groups of the values in a column based on the index](http://stackoverflow.com/q/23198053/190597)\n",
    "\n",
    "[Select row with maximum value from each group](http://stackoverflow.com/q/26701849/190597)\n",
    "\n",
    "[Grouping like Python’s itertools.groupby](http://stackoverflow.com/q/29142487/846892)"
   ]
  },
  {
   "cell_type": "markdown",
   "metadata": {},
   "source": [
    "### Expanding data\n",
    "\n",
    "[Alignment and to-date](http://stackoverflow.com/questions/15489011/python-time-series-alignment-and-to-date-functions)\n",
    "\n",
    "[Rolling Computation window based on values instead of counts](http://stackoverflow.com/questions/14300768/pandas-rolling-computation-with-window-based-on-values-instead-of-counts)\n",
    "\n",
    "[Rolling Mean by Time Interval](http://stackoverflow.com/questions/15771472/pandas-rolling-mean-by-time-interval)"
   ]
  },
  {
   "cell_type": "markdown",
   "metadata": {},
   "source": [
    "### Splitting\n",
    "\n",
    "[Splitting a frame](http://stackoverflow.com/questions/13353233/best-way-to-split-a-dataframe-given-an-edge/15449992#15449992)\n",
    "\n",
    "Create a list of dataframes, split using a delineation based on logic included in rows.\n",
    "\n",
    "\n",
    "<a id='cookbook-pivot'></a>"
   ]
  },
  {
   "cell_type": "markdown",
   "metadata": {},
   "source": [
    "### Pivot\n",
    "\n",
    "The [Pivot](reshaping.ipynb#reshaping-pivot) docs.\n",
    "\n",
    "[Partial sums and subtotals](http://stackoverflow.com/questions/15570099/pandas-pivot-tables-row-subtotals/15574875#15574875)\n",
    "\n",
    "[Frequency table like plyr in R](http://stackoverflow.com/questions/15589354/frequency-tables-in-pandas-like-plyr-in-r)\n",
    "\n",
    "[Plot pandas DataFrame with year over year data](http://stackoverflow.com/questions/30379789/plot-pandas-data-frame-with-year-over-year-data)\n",
    "\n",
    "To create year and month cross tabulation:"
   ]
  },
  {
   "cell_type": "markdown",
   "metadata": {},
   "source": [
    "### Apply\n",
    "\n",
    "[Rolling apply to organize - Turning embedded lists into a MultiIndex frame](http://stackoverflow.com/questions/17349981/converting-pandas-dataframe-with-categorical-values-into-binary-values)\n",
    "\n",
    "[Rolling apply with a DataFrame returning a Series](http://stackoverflow.com/questions/19121854/using-rolling-apply-on-a-dataframe-object)\n",
    "\n",
    "Rolling Apply to multiple columns where function calculates a Series before a Scalar from the Series is returned\n",
    "\n",
    "[Rolling apply with a DataFrame returning a Scalar](http://stackoverflow.com/questions/21040766/python-pandas-rolling-apply-two-column-input-into-function/21045831#21045831)\n",
    "\n",
    "Rolling Apply to multiple columns where function returns a Scalar (Volume Weighted Average Price)"
   ]
  },
  {
   "cell_type": "markdown",
   "metadata": {},
   "source": [
    "## Timeseries\n",
    "\n",
    "[Between times](http://stackoverflow.com/questions/14539992/pandas-drop-rows-outside-of-time-range)\n",
    "\n",
    "[Using indexer between time](http://stackoverflow.com/questions/17559885/pandas-dataframe-mask-based-on-index)\n",
    "\n",
    "[Constructing a datetime range that excludes weekends and includes only certain times](http://stackoverflow.com/questions/24010830/pandas-generate-sequential-timestamp-with-jump/24014440#24014440?)\n",
    "\n",
    "[Vectorized Lookup](http://stackoverflow.com/questions/13893227/vectorized-look-up-of-values-in-pandas-dataframe)\n",
    "\n",
    "[Aggregation and plotting time series](http://nipunbatra.github.io/2015/06/timeseries/)\n",
    "\n",
    "Turn a matrix with hours in columns and days in rows into a continuous row sequence in the form of a time series.\n",
    "[How to rearrange a Python pandas DataFrame?](http://stackoverflow.com/questions/15432659/how-to-rearrange-a-python-pandas-dataframe)\n",
    "\n",
    "[Dealing with duplicates when reindexing a timeseries to a specified frequency](http://stackoverflow.com/questions/22244383/pandas-df-refill-adding-two-columns-of-different-shape)\n",
    "\n",
    "Calculate the first day of the month for each entry in a DatetimeIndex\n",
    "\n",
    "\n",
    "<a id='cookbook-resample'></a>"
   ]
  },
  {
   "cell_type": "markdown",
   "metadata": {},
   "source": [
    "### Resampling\n",
    "\n",
    "The [Resample](timeseries.ipynb#timeseries-resampling) docs.\n",
    "\n",
    "[Using Grouper instead of TimeGrouper for time grouping of values](https://stackoverflow.com/questions/15297053/how-can-i-divide-single-values-of-a-dataframe-by-monthly-averages)\n",
    "\n",
    "[Time grouping with some missing values](https://stackoverflow.com/questions/33637312/pandas-grouper-by-frequency-with-completeness-requirement)\n",
    "\n",
    "[Valid frequency arguments to Grouper](http://pandas.pydata.org/pandas-docs/stable/timeseries.html#offset-aliases)\n",
    "\n",
    "[Grouping using a MultiIndex](https://stackoverflow.com/questions/41483763/pandas-timegrouper-on-multiindex)\n",
    "\n",
    "[Using TimeGrouper and another grouping to create subgroups, then apply a custom function](https://github.com/pandas-dev/pandas/issues/3791)\n",
    "\n",
    "[Resampling with custom periods](http://stackoverflow.com/questions/15408156/resampling-with-custom-periods)\n",
    "\n",
    "[Resample intraday frame without adding new days](http://stackoverflow.com/questions/14898574/resample-intrday-pandas-dataframe-without-add-new-days)\n",
    "\n",
    "[Resample minute data](http://stackoverflow.com/questions/14861023/resampling-minute-data)\n",
    "\n",
    "[Resample with groupby](http://stackoverflow.com/q/18677271/564538)\n",
    "\n",
    "\n",
    "<a id='cookbook-merge'></a>"
   ]
  },
  {
   "cell_type": "markdown",
   "metadata": {},
   "source": [
    "## Merge\n",
    "\n",
    "The [Concat](merging.ipynb#merging-concatenation) docs. The [Join](merging.ipynb#merging-join) docs.\n",
    "\n",
    "[Append two dataframes with overlapping index (emulate R rbind)](http://stackoverflow.com/questions/14988480/pandas-version-of-rbind)\n",
    "\n",
    "Depending on df construction, `ignore_index` may be needed\n",
    "\n",
    "[Self Join of a DataFrame](https://github.com/pandas-dev/pandas/issues/2996)\n",
    "\n",
    "[How to set the index and join](http://stackoverflow.com/questions/14341805/pandas-merge-pd-merge-how-to-set-the-index-and-join)\n",
    "\n",
    "[KDB like asof join](http://stackoverflow.com/questions/12322289/kdb-like-asof-join-for-timeseries-data-in-pandas/12336039#12336039)\n",
    "\n",
    "[Join with a criteria based on the values](http://stackoverflow.com/questions/15581829/how-to-perform-an-inner-or-outer-join-of-dataframes-with-pandas-on-non-simplisti)\n",
    "\n",
    "[Using searchsorted to merge based on values inside a range](http://stackoverflow.com/questions/25125626/pandas-merge-with-logic/2512764)\n",
    "\n",
    "\n",
    "<a id='cookbook-plotting'></a>"
   ]
  },
  {
   "cell_type": "markdown",
   "metadata": {},
   "source": [
    "## Plotting\n",
    "\n",
    "The [Plotting](visualization.ipynb#visualization) docs.\n",
    "\n",
    "[Make Matplotlib look like R](http://stackoverflow.com/questions/14349055/making-matplotlib-graphs-look-like-r-by-default)\n",
    "\n",
    "[Setting x-axis major and minor labels](http://stackoverflow.com/questions/12945971/pandas-timeseries-plot-setting-x-axis-major-and-minor-ticks-and-labels)\n",
    "\n",
    "[Plotting multiple charts in an ipython notebook](http://stackoverflow.com/questions/16392921/make-more-than-one-chart-in-same-ipython-notebook-cell)\n",
    "\n",
    "[Creating a multi-line plot](http://stackoverflow.com/questions/16568964/make-a-multiline-plot-from-csv-file-in-matplotlib)\n",
    "\n",
    "[Plotting a heatmap](http://stackoverflow.com/questions/17050202/plot-timeseries-of-histograms-in-python)\n",
    "\n",
    "[Annotate a time-series plot](http://stackoverflow.com/questions/11067368/annotate-time-series-plot-in-matplotlib)\n",
    "\n",
    "[Annotate a time-series plot #2](http://stackoverflow.com/questions/17891493/annotating-points-from-a-pandas-dataframe-in-matplotlib-plot)\n",
    "\n",
    "[Generate Embedded plots in excel files using Pandas, Vincent and xlsxwriter](https://pandas-xlsxwriter-charts.readthedocs.io/)\n",
    "\n",
    "[Boxplot for each quartile of a stratifying variable](http://stackoverflow.com/questions/23232989/boxplot-stratified-by-column-in-python-pandas)"
   ]
  },
  {
   "cell_type": "markdown",
   "metadata": {},
   "source": [
    "## Data In/Out\n",
    "\n",
    "[Performance comparison of SQL vs HDF5](http://stackoverflow.com/questions/16628329/hdf5-and-sqlite-concurrency-compression-i-o-performance)\n",
    "\n",
    "\n",
    "<a id='cookbook-csv'></a>"
   ]
  },
  {
   "cell_type": "markdown",
   "metadata": {},
   "source": [
    "### CSV\n",
    "\n",
    "The [CSV](io.ipynb#io-read-csv-table) docs\n",
    "\n",
    "[read_csv in action](http://wesmckinney.com/blog/update-on-upcoming-pandas-v0-10-new-file-parser-other-performance-wins/)\n",
    "\n",
    "[appending to a csv](http://stackoverflow.com/questions/17134942/pandas-dataframe-output-end-of-csv)\n",
    "\n",
    "[Reading a csv chunk-by-chunk](http://stackoverflow.com/questions/11622652/large-persistent-dataframe-in-pandas/12193309#12193309)\n",
    "\n",
    "[Reading only certain rows of a csv chunk-by-chunk](http://stackoverflow.com/questions/19674212/pandas-data-frame-select-rows-and-clear-memory)\n",
    "\n",
    "[Reading the first few lines of a frame](http://stackoverflow.com/questions/15008970/way-to-read-first-few-lines-for-pandas-dataframe)\n",
    "\n",
    "Reading a file that is compressed but not by `gzip/bz2` (the native compressed formats which `read_csv` understands).\n",
    "This example shows a `WinZipped` file, but is a general application of opening the file within a context manager and\n",
    "using that handle to read.\n",
    "[See here](http://stackoverflow.com/questions/17789907/pandas-convert-winzipped-csv-file-to-data-frame)\n",
    "\n",
    "[Inferring dtypes from a file](http://stackoverflow.com/questions/15555005/get-inferred-dataframe-types-iteratively-using-chunksize)\n",
    "\n",
    "[Dealing with bad lines](http://github.com/pandas-dev/pandas/issues/2886)\n",
    "\n",
    "[Dealing with bad lines II](http://nipunbatra.github.io/2013/06/reading-unclean-data-csv-using-pandas/)\n",
    "\n",
    "[Reading CSV with Unix timestamps and converting to local timezone](http://nipunbatra.github.io/2013/06/pandas-reading-csv-with-unix-timestamps-and-converting-to-local-timezone/)\n",
    "\n",
    "[Write a multi-row index CSV without writing duplicates](http://stackoverflow.com/questions/17349574/pandas-write-multiindex-rows-with-to-csv)\n",
    "\n",
    "\n",
    "<a id='cookbook-csv-multiple-files'></a>"
   ]
  },
  {
   "cell_type": "markdown",
   "metadata": {},
   "source": [
    "#### Reading multiple files to create a single DataFrame\n",
    "\n",
    "The best way to combine multiple files into a single DataFrame is to read the individual frames one by one, put all\n",
    "of the individual frames into a list, and then combine the frames in the list using `pd.concat()`:\n",
    "\n",
    "You can use the same approach to read all files matching a pattern.  Here is an example using `glob`:\n",
    "\n",
    "Finally, this strategy will work with the other `pd.read_*(...)` functions described in the [io docs](io.ipynb#io)."
   ]
  },
  {
   "cell_type": "markdown",
   "metadata": {},
   "source": [
    "#### Parsing date components in multi-columns\n",
    "\n",
    "Parsing date components in multi-columns is faster with a format"
   ]
  },
  {
   "cell_type": "markdown",
   "metadata": {},
   "source": [
    "#### Skip row between header and data"
   ]
  },
  {
   "cell_type": "markdown",
   "metadata": {},
   "source": [
    "##### Option 1: pass rows explicitly to skip rows"
   ]
  },
  {
   "cell_type": "markdown",
   "metadata": {},
   "source": [
    "##### Option 2: read column names and then data\n",
    "\n",
    "\n",
    "<a id='cookbook-sql'></a>"
   ]
  },
  {
   "cell_type": "markdown",
   "metadata": {},
   "source": [
    "### SQL\n",
    "\n",
    "The [SQL](io.ipynb#io-sql) docs\n",
    "\n",
    "[Reading from databases with SQL](http://stackoverflow.com/questions/10065051/python-pandas-and-databases-like-mysql)\n",
    "\n",
    "\n",
    "<a id='cookbook-excel'></a>"
   ]
  },
  {
   "cell_type": "markdown",
   "metadata": {},
   "source": [
    "### Excel\n",
    "\n",
    "The [Excel](io.ipynb#io-excel) docs\n",
    "\n",
    "[Reading from a filelike handle](http://stackoverflow.com/questions/15588713/sheets-of-excel-workbook-from-a-url-into-a-pandas-dataframe)\n",
    "\n",
    "[Modifying formatting in XlsxWriter output](http://pbpython.com/improve-pandas-excel-output.html)\n",
    "\n",
    "\n",
    "<a id='cookbook-html'></a>"
   ]
  },
  {
   "cell_type": "markdown",
   "metadata": {},
   "source": [
    "### HTML\n",
    "\n",
    "[Reading HTML tables from a server that cannot handle the default request\n",
    "header](http://stackoverflow.com/a/18939272/564538)\n",
    "\n",
    "\n",
    "<a id='cookbook-hdf'></a>"
   ]
  },
  {
   "cell_type": "markdown",
   "metadata": {},
   "source": [
    "### HDFStore\n",
    "\n",
    "The [HDFStores](io.ipynb#io-hdf5) docs\n",
    "\n",
    "[Simple queries with a Timestamp Index](http://stackoverflow.com/questions/13926089/selecting-columns-from-pandas-hdfstore-table)\n",
    "\n",
    "[Managing heterogeneous data using a linked multiple table hierarchy](http://github.com/pandas-dev/pandas/issues/3032)\n",
    "\n",
    "[Merging on-disk tables with millions of rows](http://stackoverflow.com/questions/14614512/merging-two-tables-with-millions-of-rows-in-python/14617925#14617925)\n",
    "\n",
    "[Avoiding inconsistencies when writing to a store from multiple processes/threads](http://stackoverflow.com/a/29014295/2858145)\n",
    "\n",
    "De-duplicating a large store by chunks, essentially a recursive reduction operation. Shows a function for taking in data from\n",
    "csv file and creating a store by chunks, with date parsing as well.\n",
    "[See here](http://stackoverflow.com/questions/16110252/need-to-compare-very-large-files-around-1-5gb-in-python/16110391#16110391)\n",
    "\n",
    "[Creating a store chunk-by-chunk from a csv file](http://stackoverflow.com/questions/20428355/appending-column-to-frame-of-hdf-file-in-pandas/20428786#20428786)\n",
    "\n",
    "[Appending to a store, while creating a unique index](http://stackoverflow.com/questions/16997048/how-does-one-append-large-amounts-of-data-to-a-pandas-hdfstore-and-get-a-natural/16999397#16999397)\n",
    "\n",
    "[Large Data work flows](http://stackoverflow.com/questions/14262433/large-data-work-flows-using-pandas)\n",
    "\n",
    "[Reading in a sequence of files, then providing a global unique index to a store while appending](http://stackoverflow.com/questions/16997048/how-does-one-append-large-amounts-of-data-to-a-pandas-hdfstore-and-get-a-natural)\n",
    "\n",
    "[Groupby on a HDFStore with low group density](http://stackoverflow.com/questions/15798209/pandas-group-by-query-on-large-data-in-hdfstore)\n",
    "\n",
    "[Groupby on a HDFStore with high group density](http://stackoverflow.com/questions/25459982/trouble-with-grouby-on-millions-of-keys-on-a-chunked-file-in-python-pandas/25471765#25471765)\n",
    "\n",
    "[Hierarchical queries on a HDFStore](http://stackoverflow.com/questions/22777284/improve-query-performance-from-a-large-hdfstore-table-with-pandas/22820780#22820780)\n",
    "\n",
    "[Counting with a HDFStore](http://stackoverflow.com/questions/20497897/converting-dict-of-dicts-into-pandas-dataframe-memory-issues)\n",
    "\n",
    "[Troubleshoot HDFStore exceptions](http://stackoverflow.com/questions/15488809/how-to-trouble-shoot-hdfstore-exception-cannot-find-the-correct-atom-type)\n",
    "\n",
    "[Setting min_itemsize with strings](http://stackoverflow.com/questions/15988871/hdfstore-appendstring-dataframe-fails-when-string-column-contents-are-longer)\n",
    "\n",
    "[Using ptrepack to create a completely-sorted-index on a store](http://stackoverflow.com/questions/17893370/ptrepack-sortby-needs-full-index)\n",
    "\n",
    "Storing Attributes to a group node\n",
    "\n",
    "\n",
    "<a id='cookbook-binary'></a>"
   ]
  },
  {
   "cell_type": "markdown",
   "metadata": {},
   "source": [
    "### Binary files\n",
    "\n",
    "pandas readily accepts NumPy record arrays, if you need to read in a binary\n",
    "file consisting of an array of C structs. For example, given this C program\n",
    "in a file called `main.c` compiled with `gcc main.c -std=gnu99` on a\n",
    "64-bit machine,"
   ]
  },
  {
   "cell_type": "markdown",
   "metadata": {
    "hide-output": false
   },
   "source": [
    "```c\n",
    "#include <stdio.h>\n",
    "#include <stdint.h>\n",
    "\n",
    "typedef struct _Data\n",
    "{\n",
    "    int32_t count;\n",
    "    double avg;\n",
    "    float scale;\n",
    "} Data;\n",
    "\n",
    "int main(int argc, const char *argv[])\n",
    "{\n",
    "    size_t n = 10;\n",
    "    Data d[n];\n",
    "\n",
    "    for (int i = 0; i < n; ++i)\n",
    "    {\n",
    "        d[i].count = i;\n",
    "        d[i].avg = i + 1.0;\n",
    "        d[i].scale = (float) i + 2.0f;\n",
    "    }\n",
    "\n",
    "    FILE *file = fopen(\"binary.dat\", \"wb\");\n",
    "    fwrite(&d, sizeof(Data), n, file);\n",
    "    fclose(file);\n",
    "\n",
    "    return 0;\n",
    "}\n",
    "```\n"
   ]
  },
  {
   "cell_type": "markdown",
   "metadata": {},
   "source": [
    "the following Python code will read the binary file `'binary.dat'` into a\n",
    "pandas `DataFrame`, where each element of the struct corresponds to a column\n",
    "in the frame:"
   ]
  },
  {
   "cell_type": "code",
   "execution_count": null,
   "metadata": {
    "hide-output": false
   },
   "outputs": [],
   "source": [
    "names = 'count', 'avg', 'scale'\n",
    "\n",
    "# note that the offsets are larger than the size of the type because of\n",
    "# struct padding\n",
    "offsets = 0, 8, 16\n",
    "formats = 'i4', 'f8', 'f4'\n",
    "dt = np.dtype({'names': names, 'offsets': offsets, 'formats': formats},\n",
    "              align=True)\n",
    "df = pd.DataFrame(np.fromfile('binary.dat', dt))"
   ]
  },
  {
   "cell_type": "markdown",
   "metadata": {},
   "source": [
    ">**Note**\n",
    ">\n",
    ">The offsets of the structure elements may be different depending on the\n",
    "architecture of the machine on which the file was created. Using a raw\n",
    "binary file format like this for general data storage is not recommended, as\n",
    "it is not cross platform. We recommended either HDF5 or msgpack, both of\n",
    "which are supported by pandas’ IO facilities."
   ]
  },
  {
   "cell_type": "markdown",
   "metadata": {},
   "source": [
    "## Computation\n",
    "\n",
    "[Numerical integration (sample-based) of a time series](http://nbviewer.ipython.org/5720498)"
   ]
  },
  {
   "cell_type": "markdown",
   "metadata": {},
   "source": [
    "### Correlation\n",
    "\n",
    "Often it’s useful to obtain the lower (or upper) triangular form of a correlation matrix calculated from `DataFrame.corr()`.  This can be achieved by passing a boolean mask to `where` as follows:\n",
    "\n",
    "The method argument within DataFrame.corr can accept a callable in addition to the named correlation types.  Here we compute the [distance correlation](https://en.wikipedia.org/wiki/Distance_correlation) matrix for a DataFrame object."
   ]
  },
  {
   "cell_type": "markdown",
   "metadata": {},
   "source": [
    "## Timedeltas\n",
    "\n",
    "The [Timedeltas](timedeltas.ipynb#timedeltas-timedeltas) docs.\n",
    "\n",
    "[Using timedeltas](http://github.com/pandas-dev/pandas/pull/2899)\n",
    "\n",
    "[Adding and subtracting deltas and dates](http://stackoverflow.com/questions/16385785/add-days-to-dates-in-dataframe)\n",
    "\n",
    "[Another example](http://stackoverflow.com/questions/15683588/iterating-through-a-pandas-dataframe)\n",
    "\n",
    "Values can be set to NaT using np.nan, similar to datetime"
   ]
  },
  {
   "cell_type": "markdown",
   "metadata": {},
   "source": [
    "## Aliasing axis names\n",
    "\n",
    "To globally provide aliases for axis names, one can define these 2 functions:"
   ]
  },
  {
   "cell_type": "markdown",
   "metadata": {},
   "source": [
    "## Creating example data\n",
    "\n",
    "To create a dataframe from every combination of some given values, like R’s `expand.grid()`\n",
    "function, we can create a dict where the keys are column names and the values are lists\n",
    "of the data values:"
   ]
  }
 ],
 "metadata": {
  "filename": "cookbook.rst",
  "kernelspec": {
   "display_name": "Python",
   "language": "python3",
   "name": "python3"
  },
  "title": "Cookbook"
 },
 "nbformat": 4,
 "nbformat_minor": 2
}