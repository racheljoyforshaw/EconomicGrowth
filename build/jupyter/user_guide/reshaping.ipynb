{
 "cells": [
  {
   "cell_type": "markdown",
   "metadata": {},
   "source": [
    "\n",
    "<a id='reshaping'></a>\n",
    "{{ header }}"
   ]
  },
  {
   "cell_type": "markdown",
   "metadata": {},
   "source": [
    "# Reshaping and pivot tables"
   ]
  },
  {
   "cell_type": "markdown",
   "metadata": {},
   "source": [
    "## Reshaping by pivoting DataFrame objects\n",
    "\n",
    "<img src=\"user_guide/../_static/reshaping_pivot.png\" style=\"\">\n",
    "\n",
    "Data is often stored in so-called “stacked” or “record” format:\n",
    "\n",
    "For the curious here is how the above `DataFrame` was created:"
   ]
  },
  {
   "cell_type": "code",
   "execution_count": null,
   "metadata": {
    "hide-output": false
   },
   "outputs": [],
   "source": [
    "import pandas.util.testing as tm\n",
    "\n",
    "tm.N = 3\n",
    "\n",
    "\n",
    "def unpivot(frame):\n",
    "    N, K = frame.shape\n",
    "    data = {'value': frame.to_numpy().ravel('F'),\n",
    "            'variable': np.asarray(frame.columns).repeat(N),\n",
    "            'date': np.tile(np.asarray(frame.index), K)}\n",
    "    return pd.DataFrame(data, columns=['date', 'variable', 'value'])\n",
    "\n",
    "\n",
    "df = unpivot(tm.makeTimeDataFrame())"
   ]
  },
  {
   "cell_type": "markdown",
   "metadata": {},
   "source": [
    "To select out everything for variable `A` we could do:\n",
    "\n",
    "But suppose we wish to do time series operations with the variables. A better\n",
    "representation would be where the `columns` are the unique variables and an\n",
    "`index` of dates identifies individual observations. To reshape the data into\n",
    "this form, we use the `DataFrame.pivot()` method (also implemented as a\n",
    "top level function `pivot()`):\n",
    "\n",
    "If the `values` argument is omitted, and the input `DataFrame` has more than\n",
    "one column of values which are not used as column or index inputs to `pivot`,\n",
    "then the resulting “pivoted” `DataFrame` will have [hierarchical columns](advanced.ipynb#advanced-hierarchical) whose topmost level indicates the respective value\n",
    "column:\n",
    "\n",
    "You can then select subsets from the pivoted `DataFrame`:\n",
    "\n",
    "Note that this returns a view on the underlying data in the case where the data\n",
    "are homogeneously-typed.\n",
    "\n",
    ">**Note**\n",
    ">\n",
    ">`pivot()` will error with a `ValueError: Index contains duplicate\n",
    "entries, cannot reshape` if the index/column pair is not unique. In this\n",
    "case, consider using `pivot_table()` which is a generalization\n",
    "of pivot that can handle duplicate values for one index/column pair.\n",
    "\n",
    "\n",
    "<a id='reshaping-stacking'></a>"
   ]
  },
  {
   "cell_type": "markdown",
   "metadata": {},
   "source": [
    "## Reshaping by stacking and unstacking\n",
    "\n",
    "<img src=\"user_guide/../_static/reshaping_stack.png\" style=\"\">\n",
    "\n",
    "Closely related to the `pivot()` method are the related\n",
    "`stack()` and `unstack()` methods available on\n",
    "`Series` and `DataFrame`. These methods are designed to work together with\n",
    "`MultiIndex` objects (see the section on [hierarchical indexing](advanced.ipynb#advanced-hierarchical)). Here are essentially what these methods do:\n",
    "\n",
    "- `stack`: “pivot” a level of the (possibly hierarchical) column labels,\n",
    "  returning a `DataFrame` with an index with a new inner-most level of row\n",
    "  labels.  \n",
    "- `unstack`: (inverse operation of `stack`) “pivot” a level of the\n",
    "  (possibly hierarchical) row index to the column axis, producing a reshaped\n",
    "  `DataFrame` with a new inner-most level of column labels.  \n",
    "\n",
    "\n",
    "<img src=\"user_guide/../_static/reshaping_unstack.png\" style=\"\">\n",
    "\n",
    "The clearest way to explain is by example. Let’s take a prior example data set\n",
    "from the hierarchical indexing section:\n",
    "\n",
    "The `stack` function “compresses” a level in the `DataFrame`’s columns to\n",
    "produce either:\n",
    "\n",
    "- A `Series`, in the case of a simple column Index.  \n",
    "- A `DataFrame`, in the case of a `MultiIndex` in the columns.  \n",
    "\n",
    "\n",
    "If the columns have a `MultiIndex`, you can choose which level to stack. The\n",
    "stacked level becomes the new lowest level in a `MultiIndex` on the columns:\n",
    "\n",
    "With a “stacked” `DataFrame` or `Series` (having a `MultiIndex` as the\n",
    "`index`), the inverse operation of `stack` is `unstack`, which by default\n",
    "unstacks the **last level**:\n",
    "\n",
    "\n",
    "<a id='reshaping-unstack-by-name'></a>\n",
    "<img src=\"user_guide/../_static/reshaping_unstack_1.png\" style=\"\">\n",
    "\n",
    "If the indexes have names, you can use the level names instead of specifying\n",
    "the level numbers:\n",
    "\n",
    "<img src=\"user_guide/../_static/reshaping_unstack_0.png\" style=\"\">\n",
    "\n",
    "Notice that the `stack` and `unstack` methods implicitly sort the index\n",
    "levels involved. Hence a call to `stack` and then `unstack`, or vice versa,\n",
    "will result in a **sorted** copy of the original `DataFrame` or `Series`:\n",
    "\n",
    "The above code will raise a `TypeError` if the call to `sort_index` is\n",
    "removed.\n",
    "\n",
    "\n",
    "<a id='reshaping-stack-multiple'></a>"
   ]
  },
  {
   "cell_type": "markdown",
   "metadata": {},
   "source": [
    "### Multiple levels\n",
    "\n",
    "You may also stack or unstack more than one level at a time by passing a list\n",
    "of levels, in which case the end result is as if each level in the list were\n",
    "processed individually.\n",
    "\n",
    "The list of levels can contain either level names or level numbers (but\n",
    "not a mixture of the two)."
   ]
  },
  {
   "cell_type": "markdown",
   "metadata": {},
   "source": [
    "### Missing data\n",
    "\n",
    "These functions are intelligent about handling missing data and do not expect\n",
    "each subgroup within the hierarchical index to have the same set of labels.\n",
    "They also can handle the index being unsorted (but you can make it sorted by\n",
    "calling `sort_index`, of course). Here is a more complex example:\n",
    "\n",
    "As mentioned above, `stack` can be called with a `level` argument to select\n",
    "which level in the columns to stack:\n",
    "\n",
    "Unstacking can result in missing values if subgroups do not have the same\n",
    "set of labels.  By default, missing values will be replaced with the default\n",
    "fill value for that data type, `NaN` for float, `NaT` for datetimelike,\n",
    "etc.  For integer types, by default data will converted to float and missing\n",
    "values will be set to `NaN`.\n",
    "\n",
    "New in version 0.18.0.\n",
    "\n",
    "Alternatively, unstack takes an optional `fill_value` argument, for specifying\n",
    "the value of missing data."
   ]
  },
  {
   "cell_type": "markdown",
   "metadata": {},
   "source": [
    "### With a MultiIndex\n",
    "\n",
    "Unstacking when the columns are a `MultiIndex` is also careful about doing\n",
    "the right thing:\n",
    "\n",
    "\n",
    "<a id='reshaping-melt'></a>"
   ]
  },
  {
   "cell_type": "markdown",
   "metadata": {},
   "source": [
    "## Reshaping by Melt\n",
    "\n",
    "<img src=\"user_guide/../_static/reshaping_melt.png\" style=\"\">\n",
    "\n",
    "The top-level `melt()` function and the corresponding `DataFrame.melt()`\n",
    "are useful to massage a `DataFrame` into a format where one or more columns\n",
    "are *identifier variables*, while all other columns, considered *measured\n",
    "variables*, are “unpivoted” to the row axis, leaving just two non-identifier\n",
    "columns, “variable” and “value”. The names of those columns can be customized\n",
    "by supplying the `var_name` and `value_name` parameters.\n",
    "\n",
    "For instance,\n",
    "\n",
    "Another way to transform is to use the `wide_to_long()` panel data\n",
    "convenience function. It is less flexible than `melt()`, but more\n",
    "user-friendly."
   ]
  },
  {
   "cell_type": "markdown",
   "metadata": {},
   "source": [
    "## Combining with stats and GroupBy\n",
    "\n",
    "It should be no shock that combining `pivot` / `stack` / `unstack` with\n",
    "GroupBy and the basic Series and DataFrame statistical functions can produce\n",
    "some very expressive and fast data manipulations."
   ]
  },
  {
   "cell_type": "markdown",
   "metadata": {},
   "source": [
    "## Pivot tables\n",
    "\n",
    "\n",
    "<a id='reshaping-pivot'></a>\n",
    "While `pivot()` provides general purpose pivoting with various\n",
    "data types (strings, numerics, etc.), pandas also provides `pivot_table()`\n",
    "for pivoting with aggregation of numeric data.\n",
    "\n",
    "The function `pivot_table()` can be used to create spreadsheet-style\n",
    "pivot tables. See the [cookbook](cookbook.ipynb#cookbook-pivot) for some advanced\n",
    "strategies.\n",
    "\n",
    "It takes a number of arguments:\n",
    "\n",
    "- `data`: a DataFrame object.  \n",
    "- `values`: a column or a list of columns to aggregate.  \n",
    "- `index`: a column, Grouper, array which has the same length as data, or list of them.\n",
    "  Keys to group by on the pivot table index. If an array is passed, it is being used as the same manner as column values.  \n",
    "- `columns`: a column, Grouper, array which has the same length as data, or list of them.\n",
    "  Keys to group by on the pivot table column. If an array is passed, it is being used as the same manner as column values.  \n",
    "- `aggfunc`: function to use for aggregation, defaulting to `numpy.mean`.  \n",
    "\n",
    "\n",
    "Consider a data set like this:\n",
    "\n",
    "We can produce pivot tables from this data very easily:\n",
    "\n",
    "The result object is a `DataFrame` having potentially hierarchical indexes on the\n",
    "rows and columns. If the `values` column name is not given, the pivot table\n",
    "will include all of the data that can be aggregated in an additional level of\n",
    "hierarchy in the columns:\n",
    "\n",
    "Also, you can use `Grouper` for `index` and `columns` keywords. For detail of `Grouper`, see [Grouping with a Grouper specification](groupby.ipynb#groupby-specify).\n",
    "\n",
    "You can render a nice output of the table omitting the missing values by\n",
    "calling `to_string` if you wish:\n",
    "\n",
    "\n",
    "<dl style='margin: 20px 0;'>\n",
    "<dt>Note that `pivot_table` is also available as an instance method on DataFrame,</dt>\n",
    "<dd>\n",
    "i.e. `DataFrame.pivot_table()`.\n",
    "\n",
    "</dd>\n",
    "\n",
    "</dl>\n",
    "\n",
    "\n",
    "<a id='reshaping-pivot-margins'></a>"
   ]
  },
  {
   "cell_type": "markdown",
   "metadata": {},
   "source": [
    "### Adding margins\n",
    "\n",
    "If you pass `margins=True` to `pivot_table`, special `All` columns and\n",
    "rows will be added with partial group aggregates across the categories on the\n",
    "rows and columns:\n",
    "\n",
    "\n",
    "<a id='reshaping-crosstabulations'></a>"
   ]
  },
  {
   "cell_type": "markdown",
   "metadata": {},
   "source": [
    "## Cross tabulations\n",
    "\n",
    "Use `crosstab()` to compute a cross-tabulation of two (or more)\n",
    "factors. By default `crosstab` computes a frequency table of the factors\n",
    "unless an array of values and an aggregation function are passed.\n",
    "\n",
    "It takes a number of arguments\n",
    "\n",
    "- `index`: array-like, values to group by in the rows.  \n",
    "- `columns`: array-like, values to group by in the columns.  \n",
    "- `values`: array-like, optional, array of values to aggregate according to\n",
    "  the factors.  \n",
    "- `aggfunc`: function, optional, If no values array is passed, computes a\n",
    "  frequency table.  \n",
    "- `rownames`: sequence, default `None`, must match number of row arrays passed.  \n",
    "- `colnames`: sequence, default `None`, if passed, must match number of column\n",
    "  arrays passed.  \n",
    "- `margins`: boolean, default `False`, Add row/column margins (subtotals)  \n",
    "- `normalize`: boolean, {‘all’, ‘index’, ‘columns’}, or {0,1}, default `False`.\n",
    "  Normalize by dividing all values by the sum of values.  \n",
    "\n",
    "\n",
    "Any `Series` passed will have their name attributes used unless row or column\n",
    "names for the cross-tabulation are specified\n",
    "\n",
    "For example:\n",
    "\n",
    "If `crosstab` receives only two Series, it will provide a frequency table.\n",
    "\n",
    "Any input passed containing `Categorical` data will have **all** of its\n",
    "categories included in the cross-tabulation, even if the actual data does\n",
    "not contain any instances of a particular category."
   ]
  },
  {
   "cell_type": "markdown",
   "metadata": {},
   "source": [
    "### Normalization\n",
    "\n",
    "New in version 0.18.1.\n",
    "\n",
    "Frequency tables can also be normalized to show percentages rather than counts\n",
    "using the `normalize` argument:\n",
    "\n",
    "`normalize` can also normalize values within each row or within each column:\n",
    "\n",
    "`crosstab` can also be passed a third `Series` and an aggregation function\n",
    "(`aggfunc`) that will be applied to the values of the third `Series` within\n",
    "each group defined by the first two `Series`:"
   ]
  },
  {
   "cell_type": "markdown",
   "metadata": {},
   "source": [
    "### Adding margins\n",
    "\n",
    "Finally, one can also add margins or normalize this output.\n",
    "\n",
    "\n",
    "<a id='reshaping-tile'></a>\n",
    "\n",
    "<a id='reshaping-tile-cut'></a>"
   ]
  },
  {
   "cell_type": "markdown",
   "metadata": {},
   "source": [
    "## Tiling\n",
    "\n",
    "The `cut()` function computes groupings for the values of the input\n",
    "array and is often used to transform continuous variables to discrete or\n",
    "categorical variables:\n",
    "\n",
    "If the `bins` keyword is an integer, then equal-width bins are formed.\n",
    "Alternatively we can specify custom bin-edges:\n",
    "\n",
    "New in version 0.20.0.\n",
    "\n",
    "If the `bins` keyword is an `IntervalIndex`, then these will be\n",
    "used to bin the passed data.:"
   ]
  },
  {
   "cell_type": "code",
   "execution_count": null,
   "metadata": {
    "hide-output": false
   },
   "outputs": [],
   "source": [
    "pd.cut([25, 20, 50], bins=c.categories)"
   ]
  },
  {
   "cell_type": "markdown",
   "metadata": {},
   "source": [
    "\n",
    "<a id='reshaping-dummies'></a>"
   ]
  },
  {
   "cell_type": "markdown",
   "metadata": {},
   "source": [
    "## Computing indicator / dummy variables\n",
    "\n",
    "To convert a categorical variable into a “dummy” or “indicator” `DataFrame`,\n",
    "for example a column in a `DataFrame` (a `Series`) which has `k` distinct\n",
    "values, can derive a `DataFrame` containing `k` columns of 1s and 0s using\n",
    "`get_dummies()`:\n",
    "\n",
    "Sometimes it’s useful to prefix the column names, for example when merging the result\n",
    "with the original `DataFrame`:\n",
    "\n",
    "This function is often used along with discretization functions like `cut`:\n",
    "\n",
    "See also `Series.str.get_dummies`.\n",
    "\n",
    "`get_dummies()` also accepts a `DataFrame`. By default all categorical\n",
    "variables (categorical in the statistical sense, those with object or\n",
    "categorical dtype) are encoded as dummy variables.\n",
    "\n",
    "All non-object columns are included untouched in the output. You can control\n",
    "the columns that are encoded with the `columns` keyword.\n",
    "\n",
    "Notice that the `B` column is still included in the output, it just hasn’t\n",
    "been encoded. You can drop `B` before calling `get_dummies` if you don’t\n",
    "want to include it in the output.\n",
    "\n",
    "As with the `Series` version, you can pass values for the `prefix` and\n",
    "`prefix_sep`. By default the column name is used as the prefix, and ‘_’ as\n",
    "the prefix separator. You can specify `prefix` and `prefix_sep` in 3 ways:\n",
    "\n",
    "- string: Use the same value for `prefix` or `prefix_sep` for each column\n",
    "  to be encoded.  \n",
    "- list: Must be the same length as the number of columns being encoded.  \n",
    "- dict: Mapping column name to prefix.  \n",
    "\n",
    "\n",
    "New in version 0.18.0.\n",
    "\n",
    "Sometimes it will be useful to only keep k-1 levels of a categorical\n",
    "variable to avoid collinearity when feeding the result to statistical models.\n",
    "You can switch to this mode by turn on `drop_first`.\n",
    "\n",
    "When a column contains only one level, it will be omitted in the result.\n",
    "\n",
    "By default new columns will have `np.uint8` dtype.\n",
    "To choose another dtype, use the `dtype` argument:\n",
    "\n",
    "New in version 0.23.0.\n",
    "\n",
    "\n",
    "<a id='reshaping-factorize'></a>"
   ]
  },
  {
   "cell_type": "markdown",
   "metadata": {},
   "source": [
    "## Factorizing values\n",
    "\n",
    "To encode 1-d values as an enumerated type use `factorize()`:\n",
    "\n",
    "Note that `factorize` is similar to `numpy.unique`, but differs in its\n",
    "handling of NaN:\n",
    "\n",
    ">**Note**\n",
    ">\n",
    ">The following `numpy.unique` will fail under Python 3 with a `TypeError`\n",
    "because of an ordering bug. See also\n",
    "[here](https://github.com/numpy/numpy/issues/641)."
   ]
  },
  {
   "cell_type": "markdown",
   "metadata": {
    "hide-output": false
   },
   "source": [
    "```ipython\n",
    "In [1]: x = pd.Series(['A', 'A', np.nan, 'B', 3.14, np.inf])\n",
    "In [2]: pd.factorize(x, sort=True)\n",
    "Out[2]:\n",
    "(array([ 2,  2, -1,  3,  0,  1]),\n",
    " Index([3.14, inf, 'A', 'B'], dtype='object'))\n",
    "\n",
    "In [3]: np.unique(x, return_inverse=True)[::-1]\n",
    "Out[3]: (array([3, 3, 0, 4, 1, 2]), array([nan, 3.14, inf, 'A', 'B'], dtype=object))\n",
    "```\n"
   ]
  },
  {
   "cell_type": "markdown",
   "metadata": {},
   "source": [
    ">**Note**\n",
    ">\n",
    ">If you just want to handle one column as a categorical variable (like R’s factor),\n",
    "you can use  `df[\"cat_col\"] = pd.Categorical(df[\"col\"])` or\n",
    "`df[\"cat_col\"] = df[\"col\"].astype(\"category\")`. For full docs on `Categorical`,\n",
    "see the [Categorical introduction](categorical.ipynb#categorical) and the\n",
    "API documentation."
   ]
  },
  {
   "cell_type": "markdown",
   "metadata": {},
   "source": [
    "## Examples\n",
    "\n",
    "In this section, we will review frequently asked questions and examples. The\n",
    "column names and relevant column values are named to correspond with how this\n",
    "DataFrame will be pivoted in the answers below."
   ]
  },
  {
   "cell_type": "markdown",
   "metadata": {},
   "source": [
    "### Pivoting with single aggregations\n",
    "\n",
    "Suppose we wanted to pivot `df` such that the `col` values are columns,\n",
    "`row` values are the index, and the mean of `val0` are the values? In\n",
    "particular, the resulting DataFrame should look like:\n",
    "\n",
    ">**Note**\n",
    ">\n",
    ">col   col0   col1   col2   col3  col4\n",
    "row\n",
    "row0  0.77  0.605    NaN  0.860  0.65\n",
    "row2  0.13    NaN  0.395  0.500  0.25\n",
    "row3   NaN  0.310    NaN  0.545   NaN\n",
    "row4   NaN  0.100  0.395  0.760  0.24\n",
    "\n",
    "This solution uses `pivot_table()`. Also note that\n",
    "`aggfunc='mean'` is the default. It is included here to be explicit.\n",
    "\n",
    "Note that we can also replace the missing values by using the `fill_value`\n",
    "parameter.\n",
    "\n",
    "Also note that we can pass in other aggregation functions as well. For example,\n",
    "we can also pass in `sum`.\n",
    "\n",
    "Another aggregation we can do is calculate the frequency in which the columns\n",
    "and rows occur together a.k.a. “cross tabulation”. To do this, we can pass\n",
    "`size` to the `aggfunc` parameter."
   ]
  },
  {
   "cell_type": "markdown",
   "metadata": {},
   "source": [
    "### Pivoting with multiple aggregations\n",
    "\n",
    "We can also perform multiple aggregations. For example, to perform both a\n",
    "`sum` and `mean`, we can pass in a list to the `aggfunc` argument.\n",
    "\n",
    "Note to aggregate over multiple value columns, we can pass in a list to the\n",
    "`values` parameter.\n",
    "\n",
    "Note to subdivide over multiple columns we can pass in a list to the\n",
    "`columns` parameter.\n",
    "\n",
    "\n",
    "<a id='reshaping-explode'></a>"
   ]
  },
  {
   "cell_type": "markdown",
   "metadata": {},
   "source": [
    "## Exploding a list-like column\n",
    "\n",
    "New in version 0.25.0.\n",
    "\n",
    "Sometimes the values in a column are list-like.\n",
    "\n",
    "We can ‘explode’ the `values` column, transforming each list-like to a separate row, by using `explode()`. This will replicate the index values from the original row:\n",
    "\n",
    "You can also explode the column in the `DataFrame`.\n",
    "\n",
    "`Series.explode()` will replace empty lists with `np.nan` and preserve scalar entries. The dtype of the resulting `Series` is always `object`.\n",
    "\n",
    "Here is a typical usecase. You have comma separated strings in a column and want to expand this.\n",
    "\n",
    "Creating a long form DataFrame is now straightforward using explode and chained operations"
   ]
  }
 ],
 "metadata": {
  "filename": "reshaping.rst",
  "kernelspec": {
   "display_name": "Python",
   "language": "python3",
   "name": "python3"
  },
  "title": "Reshaping and pivot tables"
 },
 "nbformat": 4,
 "nbformat_minor": 2
}