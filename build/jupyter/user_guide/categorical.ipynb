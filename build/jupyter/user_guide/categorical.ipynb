{
 "cells": [
  {
   "cell_type": "markdown",
   "metadata": {},
   "source": [
    "\n",
    "<a id='categorical'></a>\n",
    "{{ header }}"
   ]
  },
  {
   "cell_type": "markdown",
   "metadata": {},
   "source": [
    "# Categorical data\n",
    "\n",
    "This is an introduction to pandas categorical data type, including a short comparison\n",
    "with R’s `factor`.\n",
    "\n",
    "Categoricals are a pandas data type corresponding to categorical variables in\n",
    "statistics. A categorical variable takes on a limited, and usually fixed,\n",
    "number of possible values (categories; levels in R). Examples are gender,\n",
    "social class, blood type, country affiliation, observation time or rating via\n",
    "Likert scales.\n",
    "\n",
    "In contrast to statistical categorical variables, categorical data might have an order (e.g.\n",
    "‘strongly agree’ vs ‘agree’ or ‘first observation’ vs. ‘second observation’), but numerical\n",
    "operations (additions, divisions, …) are not possible.\n",
    "\n",
    "All values of categorical data are either in categories or np.nan. Order is defined by\n",
    "the order of categories, not lexical order of the values. Internally, the data structure\n",
    "consists of a categories array and an integer array of codes which point to the real value in\n",
    "the categories array.\n",
    "\n",
    "The categorical data type is useful in the following cases:\n",
    "\n",
    "- A string variable consisting of only a few different values. Converting such a string\n",
    "  variable to a categorical variable will save some memory, see [here](#categorical-memory).  \n",
    "- The lexical order of a variable is not the same as the logical order (“one”, “two”, “three”).\n",
    "  By converting to a categorical and specifying an order on the categories, sorting and\n",
    "  min/max will use the logical order instead of the lexical order, see [here](#categorical-sort).  \n",
    "- As a signal to other Python libraries that this column should be treated as a categorical\n",
    "  variable (e.g. to use suitable statistical methods or plot types).  \n",
    "\n",
    "\n",
    "See also the API docs on categoricals.\n",
    "\n",
    "\n",
    "<a id='categorical-objectcreation'></a>"
   ]
  },
  {
   "cell_type": "markdown",
   "metadata": {},
   "source": [
    "## Object creation"
   ]
  },
  {
   "cell_type": "markdown",
   "metadata": {},
   "source": [
    "### Series creation\n",
    "\n",
    "Categorical `Series` or columns in a `DataFrame` can be created in several ways:\n",
    "\n",
    "By specifying `dtype=\"category\"` when constructing a `Series`:\n",
    "\n",
    "By converting an existing `Series` or column to a `category` dtype:\n",
    "\n",
    "By using special functions, such as `cut()`, which groups data into\n",
    "discrete bins. See the [example on tiling](reshaping.ipynb#reshaping-tile-cut) in the docs.\n",
    "\n",
    "By passing a `pandas.Categorical` object to a `Series` or assigning it to a `DataFrame`.\n",
    "\n",
    "Categorical data has a specific `category` [dtype](getting_started/basics.ipynb#basics-dtypes):"
   ]
  },
  {
   "cell_type": "markdown",
   "metadata": {},
   "source": [
    "### DataFrame creation\n",
    "\n",
    "Similar to the previous section where a single column was converted to categorical, all columns in a\n",
    "`DataFrame` can be batch converted to categorical either during or after construction.\n",
    "\n",
    "This can be done during construction by specifying `dtype=\"category\"` in the `DataFrame` constructor:\n",
    "\n",
    "Note that the categories present in each column differ; the conversion is done column by column, so\n",
    "only labels present in a given column are categories:\n",
    "\n",
    "New in version 0.23.0.\n",
    "\n",
    "Analogously, all columns in an existing `DataFrame` can be batch converted using `DataFrame.astype()`:\n",
    "\n",
    "This conversion is likewise done column by column:"
   ]
  },
  {
   "cell_type": "markdown",
   "metadata": {},
   "source": [
    "### Controlling behavior\n",
    "\n",
    "In the examples above where we passed `dtype='category'`, we used the default\n",
    "behavior:\n",
    "\n",
    "1. Categories are inferred from the data.  \n",
    "1. Categories are unordered.  \n",
    "\n",
    "\n",
    "To control those behaviors, instead of passing `'category'`, use an instance\n",
    "of `CategoricalDtype`.\n",
    "\n",
    "Similarly, a `CategoricalDtype` can be used with a `DataFrame` to ensure that categories\n",
    "are consistent among all columns.\n",
    "\n",
    ">**Note**\n",
    ">\n",
    ">To perform table-wise conversion, where all labels in the entire `DataFrame` are used as\n",
    "categories for each column, the `categories` parameter can be determined programmatically by\n",
    "`categories = pd.unique(df.to_numpy().ravel())`.\n",
    "\n",
    "If you already have `codes` and `categories`, you can use the\n",
    "`from_codes()` constructor to save the factorize step\n",
    "during normal constructor mode:"
   ]
  },
  {
   "cell_type": "markdown",
   "metadata": {},
   "source": [
    "### Regaining original data\n",
    "\n",
    "To get back to the original `Series` or NumPy array, use\n",
    "`Series.astype(original_dtype)` or `np.asarray(categorical)`:\n",
    "\n",
    ">**Note**\n",
    ">\n",
    ">In contrast to R’s factor function, categorical data is not converting input values to\n",
    "strings; categories will end up the same data type as the original values.\n",
    "\n",
    ">**Note**\n",
    ">\n",
    ">In contrast to R’s factor function, there is currently no way to assign/change labels at\n",
    "creation time. Use categories to change the categories after creation time.\n",
    "\n",
    "\n",
    "<a id='categorical-categoricaldtype'></a>"
   ]
  },
  {
   "cell_type": "markdown",
   "metadata": {},
   "source": [
    "## CategoricalDtype\n",
    "\n",
    "Changed in version 0.21.0.\n",
    "\n",
    "A categorical’s type is fully described by\n",
    "\n",
    "1. `categories`: a sequence of unique values and no missing values  \n",
    "1. `ordered`: a boolean  \n",
    "\n",
    "\n",
    "This information can be stored in a `CategoricalDtype`.\n",
    "The `categories` argument is optional, which implies that the actual categories\n",
    "should be inferred from whatever is present in the data when the\n",
    "`pandas.Categorical` is created. The categories are assumed to be unordered\n",
    "by default.\n",
    "\n",
    "A `CategoricalDtype` can be used in any place pandas\n",
    "expects a dtype. For example `pandas.read_csv()`,\n",
    "`pandas.DataFrame.astype()`, or in the `Series` constructor.\n",
    "\n",
    ">**Note**\n",
    ">\n",
    ">As a convenience, you can use the string `'category'` in place of a\n",
    "`CategoricalDtype` when you want the default behavior of\n",
    "the categories being unordered, and equal to the set values present in the\n",
    "array. In other words, `dtype='category'` is equivalent to\n",
    "`dtype=CategoricalDtype()`."
   ]
  },
  {
   "cell_type": "markdown",
   "metadata": {},
   "source": [
    "### Equality semantics\n",
    "\n",
    "Two instances of `CategoricalDtype` compare equal\n",
    "whenever they have the same categories and order. When comparing two\n",
    "unordered categoricals, the order of the `categories` is not considered.\n",
    "\n",
    "All instances of `CategoricalDtype` compare equal to the string `'category'`.\n",
    "\n",
    "Since `dtype='category'` is essentially `CategoricalDtype(None, False)`,\n",
    "and since all instances `CategoricalDtype` compare equal to `'category'`,\n",
    "all instances of `CategoricalDtype` compare equal to a\n",
    "`CategoricalDtype(None, False)`, regardless of `categories` or\n",
    "`ordered`."
   ]
  },
  {
   "cell_type": "markdown",
   "metadata": {},
   "source": [
    "## Description\n",
    "\n",
    "Using `describe()` on categorical data will produce similar\n",
    "output to a `Series` or `DataFrame` of type `string`.\n",
    "\n",
    "\n",
    "<a id='categorical-cat'></a>"
   ]
  },
  {
   "cell_type": "markdown",
   "metadata": {},
   "source": [
    "## Working with categories\n",
    "\n",
    "Categorical data has a categories and a ordered property, which list their\n",
    "possible values and whether the ordering matters or not. These properties are\n",
    "exposed as `s.cat.categories` and `s.cat.ordered`. If you don’t manually\n",
    "specify categories and ordering, they are inferred from the passed arguments.\n",
    "\n",
    "It’s also possible to pass in the categories in a specific order:\n",
    "\n",
    ">**Note**\n",
    ">\n",
    ">New categorical data are **not** automatically ordered. You must explicitly\n",
    "pass `ordered=True` to indicate an ordered `Categorical`.\n",
    "\n",
    ">**Note**\n",
    ">\n",
    ">The result of `unique()` is not always the same as `Series.cat.categories`,\n",
    "because `Series.unique()` has a couple of guarantees, namely that it returns categories\n",
    "in the order of appearance, and it only includes values that are actually present."
   ]
  },
  {
   "cell_type": "markdown",
   "metadata": {},
   "source": [
    "### Renaming categories\n",
    "\n",
    "Renaming categories is done by assigning new values to the\n",
    "`Series.cat.categories` property or by using the\n",
    "`rename_categories()` method:\n",
    "\n",
    ">**Note**\n",
    ">\n",
    ">In contrast to R’s factor, categorical data can have categories of other types than string.\n",
    "\n",
    ">**Note**\n",
    ">\n",
    ">Be aware that assigning new categories is an inplace operation, while most other operations\n",
    "under `Series.cat` per default return a new `Series` of dtype category.\n",
    "\n",
    "Categories must be unique or a ValueError is raised:\n",
    "\n",
    "Categories must also not be `NaN` or a ValueError is raised:"
   ]
  },
  {
   "cell_type": "markdown",
   "metadata": {},
   "source": [
    "### Appending new categories\n",
    "\n",
    "Appending categories can be done by using the\n",
    "`add_categories()` method:"
   ]
  },
  {
   "cell_type": "markdown",
   "metadata": {},
   "source": [
    "### Removing categories\n",
    "\n",
    "Removing categories can be done by using the\n",
    "`remove_categories()` method. Values which are removed\n",
    "are replaced by `np.nan`.:"
   ]
  },
  {
   "cell_type": "markdown",
   "metadata": {},
   "source": [
    "### Removing unused categories\n",
    "\n",
    "Removing unused categories can also be done:"
   ]
  },
  {
   "cell_type": "markdown",
   "metadata": {},
   "source": [
    "### Setting categories\n",
    "\n",
    "If you want to do remove and add new categories in one step (which has some\n",
    "speed advantage), or simply set the categories to a predefined scale,\n",
    "use `set_categories()`.\n",
    "\n",
    ">**Note**\n",
    ">\n",
    ">Be aware that `Categorical.set_categories()` cannot know whether some category is omitted\n",
    "intentionally or because it is misspelled or (under Python3) due to a type difference (e.g.,\n",
    "NumPy S1 dtype and Python strings). This can result in surprising behaviour!"
   ]
  },
  {
   "cell_type": "markdown",
   "metadata": {},
   "source": [
    "## Sorting and order\n",
    "\n",
    "\n",
    "<a id='categorical-sort'></a>\n",
    "If categorical data is ordered (`s.cat.ordered == True`), then the order of the categories has a\n",
    "meaning and certain operations are possible. If the categorical is unordered, `.min()/.max()` will raise a `TypeError`.\n",
    "\n",
    "You can set categorical data to be ordered by using `as_ordered()` or unordered by using `as_unordered()`. These will by\n",
    "default return a *new* object.\n",
    "\n",
    "Sorting will use the order defined by categories, not any lexical order present on the data type.\n",
    "This is even true for strings and numeric data:"
   ]
  },
  {
   "cell_type": "markdown",
   "metadata": {},
   "source": [
    "### Reordering\n",
    "\n",
    "Reordering the categories is possible via the `Categorical.reorder_categories()` and\n",
    "the `Categorical.set_categories()` methods. For `Categorical.reorder_categories()`, all\n",
    "old categories must be included in the new categories and no new categories are allowed. This will\n",
    "necessarily make the sort order the same as the categories order.\n",
    "\n",
    ">**Note**\n",
    ">\n",
    ">Note the difference between assigning new categories and reordering the categories: the first\n",
    "renames categories and therefore the individual values in the `Series`, but if the first\n",
    "position was sorted last, the renamed value will still be sorted last. Reordering means that the\n",
    "way values are sorted is different afterwards, but not that individual values in the\n",
    "`Series` are changed.\n",
    "\n",
    ">**Note**\n",
    ">\n",
    ">If the `Categorical` is not ordered, `Series.min()` and `Series.max()` will raise\n",
    "`TypeError`. Numeric operations like `+`, `-`, `*`, `/` and operations based on them\n",
    "(e.g. `Series.median()`, which would need to compute the mean between two values if the length\n",
    "of an array is even) do not work and raise a `TypeError`."
   ]
  },
  {
   "cell_type": "markdown",
   "metadata": {},
   "source": [
    "### Multi column sorting\n",
    "\n",
    "A categorical dtyped column will participate in a multi-column sort in a similar manner to other columns.\n",
    "The ordering of the categorical is determined by the `categories` of that column.\n",
    "\n",
    "Reordering the `categories` changes a future sort."
   ]
  },
  {
   "cell_type": "markdown",
   "metadata": {},
   "source": [
    "## Comparisons\n",
    "\n",
    "Comparing categorical data with other objects is possible in three cases:\n",
    "\n",
    "- Comparing equality (`==` and `!=`) to a list-like object (list, Series, array,\n",
    "  …) of the same length as the categorical data.  \n",
    "- All comparisons (`==`, `!=`, `>`, `>=`, `<`, and `<=`) of categorical data to\n",
    "  another categorical Series, when `ordered==True` and the categories are the same.  \n",
    "- All comparisons of a categorical data to a scalar.  \n",
    "\n",
    "\n",
    "All other comparisons, especially “non-equality” comparisons of two categoricals with different\n",
    "categories or a categorical with any list-like object, will raise a `TypeError`.\n",
    "\n",
    ">**Note**\n",
    ">\n",
    ">Any “non-equality” comparisons of categorical data with a `Series`, `np.array`, `list` or\n",
    "categorical data with different categories or ordering will raise a `TypeError` because custom\n",
    "categories ordering could be interpreted in two ways: one with taking into account the\n",
    "ordering and one without.\n",
    "\n",
    "Comparing to a categorical with the same categories and ordering or to a scalar works:\n",
    "\n",
    "Equality comparisons work with any list-like object of same length and scalars:\n",
    "\n",
    "This doesn’t work because the categories are not the same:\n",
    "\n",
    "If you want to do a “non-equality” comparison of a categorical series with a list-like object\n",
    "which is not categorical data, you need to be explicit and convert the categorical data back to\n",
    "the original values:\n",
    "\n",
    "When you compare two unordered categoricals with the same categories, the order is not considered:"
   ]
  },
  {
   "cell_type": "markdown",
   "metadata": {},
   "source": [
    "## Operations\n",
    "\n",
    "Apart from `Series.min()`, `Series.max()` and `Series.mode()`, the\n",
    "following operations are possible with categorical data:\n",
    "\n",
    "`Series` methods like `Series.value_counts()` will use all categories,\n",
    "even if some categories are not present in the data:\n",
    "\n",
    "Groupby will also show “unused” categories:\n",
    "\n",
    "Pivot tables:"
   ]
  },
  {
   "cell_type": "markdown",
   "metadata": {},
   "source": [
    "## Data munging\n",
    "\n",
    "The optimized pandas data access methods  `.loc`, `.iloc`, `.at`, and `.iat`,\n",
    "work as normal. The only difference is the return type (for getting) and\n",
    "that only values already in categories can be assigned."
   ]
  },
  {
   "cell_type": "markdown",
   "metadata": {},
   "source": [
    "### Getting\n",
    "\n",
    "If the slicing operation returns either a `DataFrame` or a column of type\n",
    "`Series`, the `category` dtype is preserved.\n",
    "\n",
    "An example where the category type is not preserved is if you take one single\n",
    "row: the resulting `Series` is of dtype `object`:\n",
    "\n",
    "Returning a single item from categorical data will also return the value, not a categorical\n",
    "of length “1”.\n",
    "\n",
    ">**Note**\n",
    ">\n",
    ">The is in contrast to R’s factor function, where `factor(c(1,2,3))[1]`\n",
    "returns a single value factor.\n",
    "\n",
    "To get a single value `Series` of type `category`, you pass in a list with\n",
    "a single value:"
   ]
  },
  {
   "cell_type": "markdown",
   "metadata": {},
   "source": [
    "### String and datetime accessors\n",
    "\n",
    "The accessors  `.dt` and `.str` will work if the `s.cat.categories` are of\n",
    "an appropriate type:\n",
    "\n",
    ">**Note**\n",
    ">\n",
    ">The returned `Series` (or `DataFrame`) is of the same type as if you used the\n",
    "`.str.<method>` / `.dt.<method>` on a `Series` of that type (and not of\n",
    "type `category`!).\n",
    "\n",
    "That means, that the returned values from methods and properties on the accessors of a\n",
    "`Series` and the returned values from methods and properties on the accessors of this\n",
    "`Series` transformed to one of type category will be equal:\n",
    "\n",
    ">**Note**\n",
    ">\n",
    ">The work is done on the `categories` and then a new `Series` is constructed. This has\n",
    "some performance implication if you have a `Series` of type string, where lots of elements\n",
    "are repeated (i.e. the number of unique elements in the `Series` is a lot smaller than the\n",
    "length of the `Series`). In this case it can be faster to convert the original `Series`\n",
    "to one of type `category` and use `.str.<method>` or `.dt.<property>` on that."
   ]
  },
  {
   "cell_type": "markdown",
   "metadata": {},
   "source": [
    "### Setting\n",
    "\n",
    "Setting values in a categorical column (or `Series`) works as long as the\n",
    "value is included in the categories:\n",
    "\n",
    "Setting values by assigning categorical data will also check that the categories match:\n",
    "\n",
    "Assigning a `Categorical` to parts of a column of other types will use the values:\n",
    "\n",
    "\n",
    "<a id='categorical-merge'></a>"
   ]
  },
  {
   "cell_type": "markdown",
   "metadata": {},
   "source": [
    "### Merging\n",
    "\n",
    "You can concat two `DataFrames` containing categorical data together,\n",
    "but the categories of these categoricals need to be the same:\n",
    "\n",
    "In this case the categories are not the same, and therefore an error is raised:\n",
    "\n",
    "The same applies to `df.append(df_different)`.\n",
    "\n",
    "See also the section on [merge dtypes](merging.ipynb#merging-dtypes) for notes about preserving merge dtypes and performance.\n",
    "\n",
    "\n",
    "<a id='categorical-union'></a>"
   ]
  },
  {
   "cell_type": "markdown",
   "metadata": {},
   "source": [
    "### Unioning\n",
    "\n",
    "New in version 0.19.0.\n",
    "\n",
    "If you want to combine categoricals that do not necessarily have the same\n",
    "categories, the `union_categoricals()` function will\n",
    "combine a list-like of categoricals. The new categories will be the union of\n",
    "the categories being combined.\n",
    "\n",
    "By default, the resulting categories will be ordered as\n",
    "they appear in the data. If you want the categories to\n",
    "be lexsorted, use `sort_categories=True` argument.\n",
    "\n",
    "`union_categoricals` also works with the “easy” case of combining two\n",
    "categoricals of the same categories and order information\n",
    "(e.g. what you could also `append` for).\n",
    "\n",
    "The below raises `TypeError` because the categories are ordered and not identical."
   ]
  },
  {
   "cell_type": "markdown",
   "metadata": {
    "hide-output": false
   },
   "source": [
    "```ipython\n",
    "In [1]: a = pd.Categorical([\"a\", \"b\"], ordered=True)\n",
    "In [2]: b = pd.Categorical([\"a\", \"b\", \"c\"], ordered=True)\n",
    "In [3]: union_categoricals([a, b])\n",
    "Out[3]:\n",
    "TypeError: to union ordered Categoricals, all categories must be the same\n",
    "```\n"
   ]
  },
  {
   "cell_type": "markdown",
   "metadata": {},
   "source": [
    "New in version 0.20.0.\n",
    "\n",
    "Ordered categoricals with different categories or orderings can be combined by\n",
    "using the `ignore_ordered=True` argument.\n",
    "\n",
    "`union_categoricals()` also works with a\n",
    "`CategoricalIndex`, or `Series` containing categorical data, but note that\n",
    "the resulting array will always be a plain `Categorical`:\n",
    "\n",
    ">**Note**\n",
    ">\n",
    ">`union_categoricals` may recode the integer codes for categories\n",
    "when combining categoricals.  This is likely what you want,\n",
    "but if you are relying on the exact numbering of the categories, be\n",
    "aware.\n",
    "\n",
    "\n",
    "<a id='categorical-concat'></a>"
   ]
  },
  {
   "cell_type": "markdown",
   "metadata": {},
   "source": [
    "### Concatenation\n",
    "\n",
    "This section describes concatenations specific to `category` dtype. See [Concatenating objects](merging.ipynb#merging-concat) for general description.\n",
    "\n",
    "By default, `Series` or `DataFrame` concatenation which contains the same categories\n",
    "results in `category` dtype, otherwise results in `object` dtype.\n",
    "Use `.astype` or `union_categoricals` to get `category` result.\n",
    "\n",
    "Following table summarizes the results of `Categoricals` related concatenations.\n",
    "\n",
    "|arg1|arg2|result|\n",
    "|:--------:|:------------------------------------------------------:|:--------------------------:|\n",
    "|category|category (identical categories)|category|\n",
    "|category|category (different categories, both not ordered)|object (dtype is inferred)|\n",
    "|category|category (different categories, either one is ordered)|object (dtype is inferred)|\n",
    "|category|not category|object (dtype is inferred)|"
   ]
  },
  {
   "cell_type": "markdown",
   "metadata": {},
   "source": [
    "## Getting data in/out\n",
    "\n",
    "You can write data that contains `category` dtypes to a `HDFStore`.\n",
    "See [here](io.ipynb#io-hdf5-categorical) for an example and caveats.\n",
    "\n",
    "It is also possible to write data to and reading data from *Stata* format files.\n",
    "See [here](io.ipynb#io-stata-categorical) for an example and caveats.\n",
    "\n",
    "Writing to a CSV file will convert the data, effectively removing any information about the\n",
    "categorical (categories and ordering). So if you read back the CSV file you have to convert the\n",
    "relevant columns back to category and assign the right categories and categories ordering.\n",
    "\n",
    "The same holds for writing to a SQL database with `to_sql`."
   ]
  },
  {
   "cell_type": "markdown",
   "metadata": {},
   "source": [
    "## Missing data\n",
    "\n",
    "pandas primarily uses the value np.nan to represent missing data. It is by\n",
    "default not included in computations. See the [Missing Data section](missing_data.ipynb#missing-data).\n",
    "\n",
    "Missing values should **not** be included in the Categorical’s `categories`,\n",
    "only in the `values`.\n",
    "Instead, it is understood that NaN is different, and is always a possibility.\n",
    "When working with the Categorical’s `codes`, missing values will always have\n",
    "a code of `-1`.\n",
    "\n",
    "Methods for working with missing data, e.g. `isna()`, `fillna()`,\n",
    "`dropna()`, all work normally:"
   ]
  },
  {
   "cell_type": "markdown",
   "metadata": {},
   "source": [
    "## Differences to R’s factor\n",
    "\n",
    "The following differences to R’s factor functions can be observed:\n",
    "\n",
    "- R’s levels are named categories.  \n",
    "- R’s levels are always of type string, while categories in pandas can be of any dtype.  \n",
    "- It’s not possible to specify labels at creation time. Use `s.cat.rename_categories(new_labels)`\n",
    "  afterwards.  \n",
    "- In contrast to R’s factor function, using categorical data as the sole input to create a\n",
    "  new categorical series will *not* remove unused categories but create a new categorical series\n",
    "  which is equal to the passed in one!  \n",
    "- R allows for missing values to be included in its levels (pandas’ categories). Pandas\n",
    "  does not allow NaN categories, but missing values can still be in the values.  "
   ]
  },
  {
   "cell_type": "markdown",
   "metadata": {},
   "source": [
    "## Gotchas\n",
    "\n",
    "\n",
    "<a id='categorical-rfactor'></a>"
   ]
  },
  {
   "cell_type": "markdown",
   "metadata": {},
   "source": [
    "### Memory usage\n",
    "\n",
    "\n",
    "<a id='categorical-memory'></a>\n",
    "The memory usage of a `Categorical` is proportional to the number of categories plus the length of the data. In contrast,\n",
    "an `object` dtype is a constant times the length of the data.\n",
    "\n",
    ">**Note**\n",
    ">\n",
    ">If the number of categories approaches the length of the data, the `Categorical` will use nearly the same or\n",
    "more memory than an equivalent `object` dtype representation."
   ]
  },
  {
   "cell_type": "markdown",
   "metadata": {},
   "source": [
    "### Categorical is not a numpy array\n",
    "\n",
    "Currently, categorical data and the underlying `Categorical` is implemented as a Python\n",
    "object and not as a low-level NumPy array dtype. This leads to some problems.\n",
    "\n",
    "NumPy itself doesn’t know about the new dtype:\n",
    "\n",
    "Dtype comparisons work:\n",
    "\n",
    "To check if a Series contains Categorical data, use `hasattr(s, 'cat')`:\n",
    "\n",
    "Using NumPy functions on a `Series` of type `category` should not work as Categoricals\n",
    "are not numeric data (even in the case that `.categories` is numeric).\n",
    "\n",
    ">**Note**\n",
    ">\n",
    ">If such a function works, please file a bug at [https://github.com/pandas-dev/pandas](https://github.com/pandas-dev/pandas)!"
   ]
  },
  {
   "cell_type": "markdown",
   "metadata": {},
   "source": [
    "### dtype in apply\n",
    "\n",
    "Pandas currently does not preserve the dtype in apply functions: If you apply along rows you get\n",
    "a Series of `object` dtype (same as getting a row -> getting one element will return a\n",
    "basic type) and applying along columns will also convert to object. `NaN` values are unaffected.\n",
    "You can use `fillna` to handle missing values before applying a function."
   ]
  },
  {
   "cell_type": "markdown",
   "metadata": {},
   "source": [
    "### Categorical index\n",
    "\n",
    "`CategoricalIndex` is a type of index that is useful for supporting\n",
    "indexing with duplicates. This is a container around a `Categorical`\n",
    "and allows efficient indexing and storage of an index with a large number of duplicated elements.\n",
    "See the [advanced indexing docs](advanced.ipynb#indexing-categoricalindex) for a more detailed\n",
    "explanation.\n",
    "\n",
    "Setting the index will create a `CategoricalIndex`:"
   ]
  },
  {
   "cell_type": "markdown",
   "metadata": {},
   "source": [
    "### Side effects\n",
    "\n",
    "Constructing a `Series` from a `Categorical` will not copy the input\n",
    "`Categorical`. This means that changes to the `Series` will in most cases\n",
    "change the original `Categorical`:\n",
    "\n",
    "Use `copy=True` to prevent such a behaviour or simply don’t reuse `Categoricals`:\n",
    "\n",
    ">**Note**\n",
    ">\n",
    ">This also happens in some cases when you supply a NumPy array instead of a `Categorical`:\n",
    "using an int array (e.g. `np.array([1,2,3,4])`) will exhibit the same behavior, while using\n",
    "a string array (e.g. `np.array([\"a\",\"b\",\"c\",\"a\"])`) will not."
   ]
  }
 ],
 "metadata": {
  "filename": "categorical.rst",
  "kernelspec": {
   "display_name": "Python",
   "language": "python3",
   "name": "python3"
  },
  "title": "Categorical data"
 },
 "nbformat": 4,
 "nbformat_minor": 2
}