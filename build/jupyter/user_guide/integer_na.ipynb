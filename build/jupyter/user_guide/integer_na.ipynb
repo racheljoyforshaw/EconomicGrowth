{
 "cells": [
  {
   "cell_type": "markdown",
   "metadata": {},
   "source": [
    "{{ header }}\n",
    "\n",
    "\n",
    "<a id='integer-na'></a>"
   ]
  },
  {
   "cell_type": "markdown",
   "metadata": {},
   "source": [
    "# Nullable integer data type\n",
    "\n",
    "New in version 0.24.0.\n",
    "\n",
    ">**Note**\n",
    ">\n",
    ">IntegerArray is currently experimental. Its API or implementation may\n",
    "change without warning.\n",
    "\n",
    "In [Missing Data](http://www.statsmodels.org/devel/missing.html#missing-data), we saw that pandas primarily uses `NaN` to represent\n",
    "missing data. Because `NaN` is a float, this forces an array of integers with\n",
    "any missing values to become floating point. In some cases, this may not matter\n",
    "much. But if your integer column is, say, an identifier, casting to float can\n",
    "be problematic. Some integers cannot even be represented as floating point\n",
    "numbers.\n",
    "\n",
    "Pandas can represent integer data with possibly missing values using\n",
    "`arrays.IntegerArray`. This is an [extension types](development/extending.ipynb#extending-extension-types)\n",
    "implemented within pandas. It is not the default dtype for integers, and will not be inferred;\n",
    "you must explicitly pass the dtype into `array()` or `Series`:\n",
    "\n",
    "Or the string alias `\"Int64\"` (note the capital `\"I\"`, to differentiate from\n",
    "NumPy’s `'int64'` dtype:\n",
    "\n",
    "This array can be stored in a `DataFrame` or `Series` like any\n",
    "NumPy array.\n",
    "\n",
    "You can also pass the list-like object to the `Series` constructor\n",
    "with the dtype.\n",
    "\n",
    "By default (if you don’t specify `dtype`), NumPy is used, and you’ll end\n",
    "up with a `float64` dtype Series:\n",
    "\n",
    "Operations involving an integer array will behave similar to NumPy arrays.\n",
    "Missing values will be propagated, and and the data will be coerced to another\n",
    "dtype if needed.\n",
    "\n",
    "These dtypes can operate as part of of `DataFrame`.\n",
    "\n",
    "These dtypes can be merged & reshaped & casted.\n",
    "\n",
    "Reduction and groupby operations such as ‘sum’ work as well."
   ]
  }
 ],
 "metadata": {
  "filename": "integer_na.rst",
  "kernelspec": {
   "display_name": "Python",
   "language": "python3",
   "name": "python3"
  },
  "title": "Nullable integer data type"
 },
 "nbformat": 4,
 "nbformat_minor": 2
}