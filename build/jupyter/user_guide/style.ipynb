{
 "cells": [
  {
   "cell_type": "markdown",
   "metadata": {},
   "source": [
    "# Styling\n",
    "\n",
    "*New in version 0.17.1*\n",
    "\n",
    "Provisional: This is a new feature and still under development. We’ll be\n",
    "adding features and possibly making breaking changes in future releases.\n",
    "We’d love to hear your feedback.\n",
    "\n",
    "This document is written as a Jupyter Notebook, and can be viewed or\n",
    "downloaded\n",
    "[here](http://nbviewer.ipython.org/github/pandas-dev/pandas/blob/master/doc/source/style.ipynb).\n",
    "\n",
    "You can apply **conditional formatting**, the visual styling of a\n",
    "DataFrame depending on the data within, by using the `DataFrame.style`\n",
    "property. This is a property that returns a `Styler` object, which has\n",
    "useful methods for formatting and displaying DataFrames.\n",
    "\n",
    "The styling is accomplished using CSS. You write “style functions” that\n",
    "take scalars, `DataFrame`s or `Series`, and return *like-indexed*\n",
    "DataFrames or Series with CSS `\"attribute: value\"` pairs for the\n",
    "values. These functions can be incrementally passed to the `Styler`\n",
    "which collects the styles before rendering."
   ]
  },
  {
   "cell_type": "markdown",
   "metadata": {},
   "source": [
    "## Building styles\n",
    "\n",
    "Pass your style functions into one of the following methods:\n",
    "\n",
    "- `Styler.applymap`: elementwise  \n",
    "- `Styler.apply`: column-/row-/table-wise  \n",
    "\n",
    "\n",
    "Both of those methods take a function (and some other keyword arguments)\n",
    "and applies your function to the DataFrame in a certain way.\n",
    "`Styler.applymap` works through the DataFrame elementwise.\n",
    "`Styler.apply` passes each column or row into your DataFrame\n",
    "one-at-a-time or the entire table at once, depending on the `axis`\n",
    "keyword argument. For columnwise use `axis=0`, rowwise use `axis=1`,\n",
    "and for the entire table at once use `axis=None`.\n",
    "\n",
    "For `Styler.applymap` your function should take a scalar and return a\n",
    "single string with the CSS attribute-value pair.\n",
    "\n",
    "For `Styler.apply` your function should take a Series or DataFrame\n",
    "(depending on the axis parameter), and return a Series or DataFrame with\n",
    "an identical shape where each value is a string with a CSS\n",
    "attribute-value pair.\n",
    "\n",
    "Let’s see some examples."
   ]
  },
  {
   "cell_type": "markdown",
   "metadata": {
    "hide-output": false
   },
   "source": [
    "```text\n",
    "In [2]:\n",
    "```\n"
   ]
  },
  {
   "cell_type": "markdown",
   "metadata": {
    "hide-output": false
   },
   "source": [
    "```ipython3\n",
    "import pandas as pd\n",
    "import numpy as np\n",
    "\n",
    "np.random.seed(24)\n",
    "df = pd.DataFrame({'A': np.linspace(1, 10, 10)})\n",
    "df = pd.concat([df, pd.DataFrame(np.random.randn(10, 4), columns=list('BCDE'))],\n",
    "               axis=1)\n",
    "df.iloc[0, 2] = np.nan\n",
    "```\n"
   ]
  },
  {
   "cell_type": "markdown",
   "metadata": {},
   "source": [
    "Here’s a boring example of rendering a DataFrame, without any (visible)\n",
    "styles:"
   ]
  },
  {
   "cell_type": "markdown",
   "metadata": {
    "hide-output": false
   },
   "source": [
    "```text\n",
    "In [3]:\n",
    "```\n"
   ]
  },
  {
   "cell_type": "markdown",
   "metadata": {
    "hide-output": false
   },
   "source": [
    "```ipython3\n",
    "df.style\n",
    "```\n"
   ]
  },
  {
   "cell_type": "markdown",
   "metadata": {},
   "source": [
    "*Note*: The `DataFrame.style` attribute is a property that returns a\n",
    "`Styler` object. `Styler` has a `_repr_html_` method defined on it\n",
    "so they are rendered automatically. If you want the actual HTML back for\n",
    "further processing or for writing to file call the `.render()` method\n",
    "which returns a string.\n",
    "\n",
    "The above output looks very similar to the standard DataFrame HTML\n",
    "representation. But we’ve done some work behind the scenes to attach CSS\n",
    "classes to each cell. We can view these by calling the `.render`\n",
    "method."
   ]
  },
  {
   "cell_type": "markdown",
   "metadata": {
    "hide-output": false
   },
   "source": [
    "```text\n",
    "In [4]:\n",
    "```\n"
   ]
  },
  {
   "cell_type": "markdown",
   "metadata": {
    "hide-output": false
   },
   "source": [
    "```ipython3\n",
    "df.style.highlight_null().render().split('\\n')[:10]\n",
    "```\n"
   ]
  },
  {
   "cell_type": "markdown",
   "metadata": {
    "hide-output": false
   },
   "source": [
    "```text\n",
    "Out[4]:\n",
    "```\n"
   ]
  },
  {
   "cell_type": "markdown",
   "metadata": {
    "hide-output": false
   },
   "source": [
    "```text\n",
    "['<style  type=\"text/css\" >',\n",
    " '    #T_b9630e24_b46b_11e9_8158_186590cd1c87row0_col2 {',\n",
    " '            background-color:  red;',\n",
    " '        }</style><table id=\"T_b9630e24_b46b_11e9_8158_186590cd1c87\" ><thead>    <tr>        <th class=\"blank level0\" ></th>        <th class=\"col_heading level0 col0\" >A</th>        <th class=\"col_heading level0 col1\" >B</th>        <th class=\"col_heading level0 col2\" >C</th>        <th class=\"col_heading level0 col3\" >D</th>        <th class=\"col_heading level0 col4\" >E</th>    </tr></thead><tbody>',\n",
    " '                <tr>',\n",
    " '                        <th id=\"T_b9630e24_b46b_11e9_8158_186590cd1c87level0_row0\" class=\"row_heading level0 row0\" >0</th>',\n",
    " '                        <td id=\"T_b9630e24_b46b_11e9_8158_186590cd1c87row0_col0\" class=\"data row0 col0\" >1</td>',\n",
    " '                        <td id=\"T_b9630e24_b46b_11e9_8158_186590cd1c87row0_col1\" class=\"data row0 col1\" >1.32921</td>',\n",
    " '                        <td id=\"T_b9630e24_b46b_11e9_8158_186590cd1c87row0_col2\" class=\"data row0 col2\" >nan</td>',\n",
    " '                        <td id=\"T_b9630e24_b46b_11e9_8158_186590cd1c87row0_col3\" class=\"data row0 col3\" >-0.31628</td>']\n",
    "```\n"
   ]
  },
  {
   "cell_type": "markdown",
   "metadata": {},
   "source": [
    "The `row0_col2` is the identifier for that particular cell. We’ve also\n",
    "prepended each row/column identifier with a UUID unique to each\n",
    "DataFrame so that the style from one doesn’t collide with the styling\n",
    "from another within the same notebook or page (you can set the `uuid`\n",
    "if you’d like to tie together the styling of two DataFrames).\n",
    "\n",
    "When writing style functions, you take care of producing the CSS\n",
    "attribute / value pairs you want. Pandas matches those up with the CSS\n",
    "classes that identify each cell.\n",
    "\n",
    "Let’s write a simple style function that will color negative numbers red\n",
    "and positive numbers black."
   ]
  },
  {
   "cell_type": "markdown",
   "metadata": {
    "hide-output": false
   },
   "source": [
    "```text\n",
    "In [5]:\n",
    "```\n"
   ]
  },
  {
   "cell_type": "markdown",
   "metadata": {
    "hide-output": false
   },
   "source": [
    "```ipython3\n",
    "def color_negative_red(val):\n",
    "    \"\"\"\n",
    "    Takes a scalar and returns a string with\n",
    "    the css property `'color: red'` for negative\n",
    "    strings, black otherwise.\n",
    "    \"\"\"\n",
    "    color = 'red' if val < 0 else 'black'\n",
    "    return 'color: %s' % color\n",
    "```\n"
   ]
  },
  {
   "cell_type": "markdown",
   "metadata": {},
   "source": [
    "In this case, the cell’s style depends only on it’s own value. That\n",
    "means we should use the `Styler.applymap` method which works\n",
    "elementwise."
   ]
  },
  {
   "cell_type": "markdown",
   "metadata": {
    "hide-output": false
   },
   "source": [
    "```text\n",
    "In [6]:\n",
    "```\n"
   ]
  },
  {
   "cell_type": "markdown",
   "metadata": {
    "hide-output": false
   },
   "source": [
    "```ipython3\n",
    "s = df.style.applymap(color_negative_red)\n",
    "s\n",
    "```\n"
   ]
  },
  {
   "cell_type": "markdown",
   "metadata": {},
   "source": [
    "Notice the similarity with the standard `df.applymap`, which operates\n",
    "on DataFrames elementwise. We want you to be able to reuse your existing\n",
    "knowledge of how to interact with DataFrames.\n",
    "\n",
    "Notice also that our function returned a string containing the CSS\n",
    "attribute and value, separated by a colon just like in a `<style>`\n",
    "tag. This will be a common theme.\n",
    "\n",
    "Finally, the input shapes matched. `Styler.applymap` calls the\n",
    "function on each scalar input, and the function returns a scalar output.\n",
    "\n",
    "Now suppose you wanted to highlight the maximum value in each column. We\n",
    "can’t use `.applymap` anymore since that operated elementwise.\n",
    "Instead, we’ll turn to `.apply` which operates columnwise (or rowwise\n",
    "using the `axis` keyword). Later on we’ll see that something like\n",
    "`highlight_max` is already defined on `Styler` so you wouldn’t need\n",
    "to write this yourself."
   ]
  },
  {
   "cell_type": "markdown",
   "metadata": {
    "hide-output": false
   },
   "source": [
    "```text\n",
    "In [7]:\n",
    "```\n"
   ]
  },
  {
   "cell_type": "markdown",
   "metadata": {
    "hide-output": false
   },
   "source": [
    "```ipython3\n",
    "def highlight_max(s):\n",
    "    '''\n",
    "    highlight the maximum in a Series yellow.\n",
    "    '''\n",
    "    is_max = s == s.max()\n",
    "    return ['background-color: yellow' if v else '' for v in is_max]\n",
    "```\n"
   ]
  },
  {
   "cell_type": "markdown",
   "metadata": {
    "hide-output": false
   },
   "source": [
    "```text\n",
    "In [8]:\n",
    "```\n"
   ]
  },
  {
   "cell_type": "markdown",
   "metadata": {
    "hide-output": false
   },
   "source": [
    "```ipython3\n",
    "df.style.apply(highlight_max)\n",
    "```\n"
   ]
  },
  {
   "cell_type": "markdown",
   "metadata": {},
   "source": [
    "In this case the input is a `Series`, one column at a time. Notice\n",
    "that the output shape of `highlight_max` matches the input shape, an\n",
    "array with `len(s)` items.\n",
    "\n",
    "We encourage you to use method chains to build up a style piecewise,\n",
    "before finally rending at the end of the chain."
   ]
  },
  {
   "cell_type": "markdown",
   "metadata": {
    "hide-output": false
   },
   "source": [
    "```text\n",
    "In [9]:\n",
    "```\n"
   ]
  },
  {
   "cell_type": "markdown",
   "metadata": {
    "hide-output": false
   },
   "source": [
    "```ipython3\n",
    "df.style.\\\n",
    "    applymap(color_negative_red).\\\n",
    "    apply(highlight_max)\n",
    "```\n"
   ]
  },
  {
   "cell_type": "markdown",
   "metadata": {},
   "source": [
    "Above we used `Styler.apply` to pass in each column one at a time.\n",
    "\n",
    "Debugging Tip: If you’re having trouble writing your style function, try\n",
    "just passing it into DataFrame.apply. Internally, Styler.apply uses\n",
    "DataFrame.apply so the result should be the same.\n",
    "\n",
    "What if you wanted to highlight just the maximum value in the entire\n",
    "table? Use `.apply(function, axis=None)` to indicate that your\n",
    "function wants the entire table, not one column or row at a time. Let’s\n",
    "try that next.\n",
    "\n",
    "We’ll rewrite our `highlight-max` to handle either Series (from\n",
    "`.apply(axis=0 or 1)`) or DataFrames (from `.apply(axis=None)`).\n",
    "We’ll also allow the color to be adjustable, to demonstrate that\n",
    "`.apply`, and `.applymap` pass along keyword arguments."
   ]
  },
  {
   "cell_type": "markdown",
   "metadata": {
    "hide-output": false
   },
   "source": [
    "```text\n",
    "In [10]:\n",
    "```\n"
   ]
  },
  {
   "cell_type": "markdown",
   "metadata": {
    "hide-output": false
   },
   "source": [
    "```ipython3\n",
    "def highlight_max(data, color='yellow'):\n",
    "    '''\n",
    "    highlight the maximum in a Series or DataFrame\n",
    "    '''\n",
    "    attr = 'background-color: {}'.format(color)\n",
    "    if data.ndim == 1:  # Series from .apply(axis=0) or axis=1\n",
    "        is_max = data == data.max()\n",
    "        return [attr if v else '' for v in is_max]\n",
    "    else:  # from .apply(axis=None)\n",
    "        is_max = data == data.max().max()\n",
    "        return pd.DataFrame(np.where(is_max, attr, ''),\n",
    "                            index=data.index, columns=data.columns)\n",
    "```\n"
   ]
  },
  {
   "cell_type": "markdown",
   "metadata": {},
   "source": [
    "When using `Styler.apply(func, axis=None)`, the function must return a\n",
    "DataFrame with the same index and column labels."
   ]
  },
  {
   "cell_type": "markdown",
   "metadata": {
    "hide-output": false
   },
   "source": [
    "```text\n",
    "In [11]:\n",
    "```\n"
   ]
  },
  {
   "cell_type": "markdown",
   "metadata": {
    "hide-output": false
   },
   "source": [
    "```ipython3\n",
    "df.style.apply(highlight_max, color='darkorange', axis=None)\n",
    "```\n"
   ]
  },
  {
   "cell_type": "markdown",
   "metadata": {},
   "source": [
    "### Building Styles Summary\n",
    "\n",
    "Style functions should return strings with one or more CSS\n",
    "`attribute: value` delimited by semicolons. Use\n",
    "\n",
    "- `Styler.applymap(func)` for elementwise styles  \n",
    "- `Styler.apply(func, axis=0)` for columnwise styles  \n",
    "- `Styler.apply(func, axis=1)` for rowwise styles  \n",
    "- `Styler.apply(func, axis=None)` for tablewise styles  \n",
    "\n",
    "\n",
    "And crucially the input and output shapes of `func` must match. If\n",
    "`x` is the input then `func(x).shape == x.shape`."
   ]
  },
  {
   "cell_type": "markdown",
   "metadata": {},
   "source": [
    "## Finer control: slicing\n",
    "\n",
    "Both `Styler.apply`, and `Styler.applymap` accept a `subset`\n",
    "keyword. This allows you to apply styles to specific rows or columns,\n",
    "without having to code that logic into your `style` function.\n",
    "\n",
    "The value passed to `subset` behaves similar to slicing a DataFrame.\n",
    "\n",
    "- A scalar is treated as a column label  \n",
    "- A list (or series or numpy array)  \n",
    "- A tuple is treated as `(row_indexer, column_indexer)`  \n",
    "\n",
    "\n",
    "Consider using `pd.IndexSlice` to construct the tuple for the last\n",
    "one."
   ]
  },
  {
   "cell_type": "markdown",
   "metadata": {
    "hide-output": false
   },
   "source": [
    "```text\n",
    "In [12]:\n",
    "```\n"
   ]
  },
  {
   "cell_type": "markdown",
   "metadata": {
    "hide-output": false
   },
   "source": [
    "```ipython3\n",
    "df.style.apply(highlight_max, subset=['B', 'C', 'D'])\n",
    "```\n"
   ]
  },
  {
   "cell_type": "markdown",
   "metadata": {},
   "source": [
    "For row and column slicing, any valid indexer to `.loc` will work."
   ]
  },
  {
   "cell_type": "markdown",
   "metadata": {
    "hide-output": false
   },
   "source": [
    "```text\n",
    "In [13]:\n",
    "```\n"
   ]
  },
  {
   "cell_type": "markdown",
   "metadata": {
    "hide-output": false
   },
   "source": [
    "```ipython3\n",
    "df.style.applymap(color_negative_red,\n",
    "                  subset=pd.IndexSlice[2:5, ['B', 'D']])\n",
    "```\n"
   ]
  },
  {
   "cell_type": "markdown",
   "metadata": {},
   "source": [
    "Only label-based slicing is supported right now, not positional.\n",
    "\n",
    "If your style function uses a `subset` or `axis` keyword argument,\n",
    "consider wrapping your function in a `functools.partial`, partialing\n",
    "out that keyword."
   ]
  },
  {
   "cell_type": "code",
   "execution_count": null,
   "metadata": {
    "hide-output": false
   },
   "outputs": [],
   "source": [
    "my_func2 = functools.partial(my_func, subset=42)"
   ]
  },
  {
   "cell_type": "markdown",
   "metadata": {},
   "source": [
    "## Finer Control: Display Values\n",
    "\n",
    "We distinguish the *display* value from the *actual* value in\n",
    "`Styler`. To control the display value, the text is printed in each\n",
    "cell, use `Styler.format`. Cells can be formatted according to a\n",
    "[format spec\n",
    "string](https://docs.python.org/3/library/string.html#format-specification-mini-language)\n",
    "or a callable that takes a single value and returns a string."
   ]
  },
  {
   "cell_type": "markdown",
   "metadata": {
    "hide-output": false
   },
   "source": [
    "```text\n",
    "In [14]:\n",
    "```\n"
   ]
  },
  {
   "cell_type": "markdown",
   "metadata": {
    "hide-output": false
   },
   "source": [
    "```ipython3\n",
    "df.style.format(\"{:.2%}\")\n",
    "```\n"
   ]
  },
  {
   "cell_type": "markdown",
   "metadata": {},
   "source": [
    "Use a dictionary to format specific columns."
   ]
  },
  {
   "cell_type": "markdown",
   "metadata": {
    "hide-output": false
   },
   "source": [
    "```text\n",
    "In [15]:\n",
    "```\n"
   ]
  },
  {
   "cell_type": "markdown",
   "metadata": {
    "hide-output": false
   },
   "source": [
    "```ipython3\n",
    "df.style.format({'B': \"{:0<4.0f}\", 'D': '{:+.2f}'})\n",
    "```\n"
   ]
  },
  {
   "cell_type": "markdown",
   "metadata": {},
   "source": [
    "Or pass in a callable (or dictionary of callables) for more flexible\n",
    "handling."
   ]
  },
  {
   "cell_type": "markdown",
   "metadata": {
    "hide-output": false
   },
   "source": [
    "```text\n",
    "In [16]:\n",
    "```\n"
   ]
  },
  {
   "cell_type": "markdown",
   "metadata": {
    "hide-output": false
   },
   "source": [
    "```ipython3\n",
    "df.style.format({\"B\": lambda x: \"±{:.2f}\".format(abs(x))})\n",
    "```\n"
   ]
  },
  {
   "cell_type": "markdown",
   "metadata": {},
   "source": [
    "## Builtin styles\n",
    "\n",
    "Finally, we expect certain styling functions to be common enough that\n",
    "we’ve included a few “built-in” to the `Styler`, so you don’t have to\n",
    "write them yourself."
   ]
  },
  {
   "cell_type": "markdown",
   "metadata": {
    "hide-output": false
   },
   "source": [
    "```text\n",
    "In [17]:\n",
    "```\n"
   ]
  },
  {
   "cell_type": "markdown",
   "metadata": {
    "hide-output": false
   },
   "source": [
    "```ipython3\n",
    "df.style.highlight_null(null_color='red')\n",
    "```\n"
   ]
  },
  {
   "cell_type": "markdown",
   "metadata": {},
   "source": [
    "You can create “heatmaps” with the `background_gradient` method. These\n",
    "require matplotlib, and we’ll use\n",
    "[Seaborn](http://stanford.edu/~mwaskom/software/seaborn/) to get a\n",
    "nice colormap."
   ]
  },
  {
   "cell_type": "markdown",
   "metadata": {
    "hide-output": false
   },
   "source": [
    "```text\n",
    "In [18]:\n",
    "```\n"
   ]
  },
  {
   "cell_type": "markdown",
   "metadata": {
    "hide-output": false
   },
   "source": [
    "```ipython3\n",
    "import seaborn as sns\n",
    "\n",
    "cm = sns.light_palette(\"green\", as_cmap=True)\n",
    "\n",
    "s = df.style.background_gradient(cmap=cm)\n",
    "s\n",
    "```\n"
   ]
  },
  {
   "cell_type": "markdown",
   "metadata": {},
   "source": [
    "<pre>\n",
    "/Users/taugspurger/Envs/pandas-dev/lib/python3.7/site-packages/matplotlib/colors.py:527: RuntimeWarning: invalid value encountered in less\n",
    "  xa[xa &lt; 0] = -1\n",
    "</pre>\n",
    "\n",
    "%\n",
    "\\begin{OriginalVerbatim}[commandchars=\\\\\\{\\}]\n",
    "/Users/taugspurger/Envs/pandas-dev/lib/python3.7/site-packages/matplotlib/colors.py:527: RuntimeWarning: invalid value encountered in less\n",
    "  xa[xa < 0] = -1\n",
    "\\end{OriginalVerbatim}\n",
    "% The following \\relax is needed to avoid problems with adjacent ANSI\n",
    "% cells and some other stuff (e.g. bullet lists) following ANSI cells.\n",
    "% See https://github.com/sphinx-doc/sphinx/issues/3594\n",
    "\\relax\n",
    "\n",
    "`Styler.background_gradient` takes the keyword arguments `low` and\n",
    "`high`. Roughly speaking these extend the range of your data by\n",
    "`low` and `high` percent so that when we convert the colors, the\n",
    "colormap’s entire range isn’t used. This is useful so that you can\n",
    "actually read the text still."
   ]
  },
  {
   "cell_type": "markdown",
   "metadata": {
    "hide-output": false
   },
   "source": [
    "```text\n",
    "In [19]:\n",
    "```\n"
   ]
  },
  {
   "cell_type": "markdown",
   "metadata": {
    "hide-output": false
   },
   "source": [
    "```ipython3\n",
    "# Uses the full color range\n",
    "df.loc[:4].style.background_gradient(cmap='viridis')\n",
    "```\n"
   ]
  },
  {
   "cell_type": "markdown",
   "metadata": {
    "hide-output": false
   },
   "source": [
    "```text\n",
    "In [20]:\n",
    "```\n"
   ]
  },
  {
   "cell_type": "markdown",
   "metadata": {
    "hide-output": false
   },
   "source": [
    "```ipython3\n",
    "# Compress the color range\n",
    "(df.loc[:4]\n",
    "    .style\n",
    "    .background_gradient(cmap='viridis', low=.5, high=0)\n",
    "    .highlight_null('red'))\n",
    "```\n"
   ]
  },
  {
   "cell_type": "markdown",
   "metadata": {},
   "source": [
    "There’s also `.highlight_min` and `.highlight_max`."
   ]
  },
  {
   "cell_type": "markdown",
   "metadata": {
    "hide-output": false
   },
   "source": [
    "```text\n",
    "In [21]:\n",
    "```\n"
   ]
  },
  {
   "cell_type": "markdown",
   "metadata": {
    "hide-output": false
   },
   "source": [
    "```ipython3\n",
    "df.style.highlight_max(axis=0)\n",
    "```\n"
   ]
  },
  {
   "cell_type": "markdown",
   "metadata": {},
   "source": [
    "Use `Styler.set_properties` when the style doesn’t actually depend on\n",
    "the values."
   ]
  },
  {
   "cell_type": "markdown",
   "metadata": {
    "hide-output": false
   },
   "source": [
    "```text\n",
    "In [22]:\n",
    "```\n"
   ]
  },
  {
   "cell_type": "markdown",
   "metadata": {
    "hide-output": false
   },
   "source": [
    "```ipython3\n",
    "df.style.set_properties(**{'background-color': 'black',\n",
    "                           'color': 'lawngreen',\n",
    "                           'border-color': 'white'})\n",
    "```\n"
   ]
  },
  {
   "cell_type": "markdown",
   "metadata": {},
   "source": [
    "### Bar charts\n",
    "\n",
    "You can include “bar charts” in your DataFrame."
   ]
  },
  {
   "cell_type": "markdown",
   "metadata": {
    "hide-output": false
   },
   "source": [
    "```text\n",
    "In [23]:\n",
    "```\n"
   ]
  },
  {
   "cell_type": "markdown",
   "metadata": {
    "hide-output": false
   },
   "source": [
    "```ipython3\n",
    "df.style.bar(subset=['A', 'B'], color='#d65f5f')\n",
    "```\n"
   ]
  },
  {
   "cell_type": "markdown",
   "metadata": {},
   "source": [
    "New in version 0.20.0 is the ability to customize further the bar chart:\n",
    "You can now have the `df.style.bar` be centered on zero or midpoint\n",
    "value (in addition to the already existing way of having the min value\n",
    "at the left side of the cell), and you can pass a list of\n",
    "`[color_negative, color_positive]`.\n",
    "\n",
    "Here’s how you can change the above with the new `align='mid'` option:"
   ]
  },
  {
   "cell_type": "markdown",
   "metadata": {
    "hide-output": false
   },
   "source": [
    "```text\n",
    "In [24]:\n",
    "```\n"
   ]
  },
  {
   "cell_type": "markdown",
   "metadata": {
    "hide-output": false
   },
   "source": [
    "```ipython3\n",
    "df.style.bar(subset=['A', 'B'], align='mid', color=['#d65f5f', '#5fba7d'])\n",
    "```\n"
   ]
  },
  {
   "cell_type": "markdown",
   "metadata": {},
   "source": [
    "The following example aims to give a highlight of the behavior of the\n",
    "new align options:"
   ]
  },
  {
   "cell_type": "markdown",
   "metadata": {
    "hide-output": false
   },
   "source": [
    "```text\n",
    "In [25]:\n",
    "```\n"
   ]
  },
  {
   "cell_type": "markdown",
   "metadata": {
    "hide-output": false
   },
   "source": [
    "```ipython3\n",
    "import pandas as pd\n",
    "from IPython.display import HTML\n",
    "\n",
    "# Test series\n",
    "test1 = pd.Series([-100,-60,-30,-20], name='All Negative')\n",
    "test2 = pd.Series([10,20,50,100], name='All Positive')\n",
    "test3 = pd.Series([-10,-5,0,90], name='Both Pos and Neg')\n",
    "\n",
    "head = \"\"\"\n",
    "<table>\n",
    "    <thead>\n",
    "        <th>Align</th>\n",
    "        <th>All Negative</th>\n",
    "        <th>All Positive</th>\n",
    "        <th>Both Neg and Pos</th>\n",
    "    </thead>\n",
    "    </tbody>\n",
    "\n",
    "\"\"\"\n",
    "\n",
    "aligns = ['left','zero','mid']\n",
    "for align in aligns:\n",
    "    row = \"<tr><th>{}</th>\".format(align)\n",
    "    for serie in [test1,test2,test3]:\n",
    "        s = serie.copy()\n",
    "        s.name=''\n",
    "        row += \"<td>{}</td>\".format(s.to_frame().style.bar(align=align,\n",
    "                                                           color=['#d65f5f', '#5fba7d'],\n",
    "                                                           width=100).render()) #testn['width']\n",
    "    row += '</tr>'\n",
    "    head += row\n",
    "\n",
    "head+= \"\"\"\n",
    "</tbody>\n",
    "</table>\"\"\"\n",
    "\n",
    "\n",
    "HTML(head)\n",
    "```\n"
   ]
  },
  {
   "cell_type": "markdown",
   "metadata": {},
   "source": [
    "## Sharing styles\n",
    "\n",
    "Say you have a lovely style built up for a DataFrame, and now you want\n",
    "to apply the same style to a second DataFrame. Export the style with\n",
    "`df1.style.export`, and import it on the second DataFrame with\n",
    "`df1.style.set`"
   ]
  },
  {
   "cell_type": "markdown",
   "metadata": {
    "hide-output": false
   },
   "source": [
    "```text\n",
    "In [26]:\n",
    "```\n"
   ]
  },
  {
   "cell_type": "markdown",
   "metadata": {
    "hide-output": false
   },
   "source": [
    "```ipython3\n",
    "df2 = -df\n",
    "style1 = df.style.applymap(color_negative_red)\n",
    "style1\n",
    "```\n"
   ]
  },
  {
   "cell_type": "markdown",
   "metadata": {
    "hide-output": false
   },
   "source": [
    "```text\n",
    "In [27]:\n",
    "```\n"
   ]
  },
  {
   "cell_type": "markdown",
   "metadata": {
    "hide-output": false
   },
   "source": [
    "```ipython3\n",
    "style2 = df2.style\n",
    "style2.use(style1.export())\n",
    "style2\n",
    "```\n"
   ]
  },
  {
   "cell_type": "markdown",
   "metadata": {},
   "source": [
    "Notice that you’re able share the styles even though they’re data aware.\n",
    "The styles are re-evaluated on the new DataFrame they’ve been `use`d\n",
    "upon."
   ]
  },
  {
   "cell_type": "markdown",
   "metadata": {},
   "source": [
    "## Other Options\n",
    "\n",
    "You’ve seen a few methods for data-driven styling. `Styler` also\n",
    "provides a few other options for styles that don’t depend on the data.\n",
    "\n",
    "- precision  \n",
    "- captions  \n",
    "- table-wide styles  \n",
    "- hiding the index or columns  \n",
    "\n",
    "\n",
    "Each of these can be specified in two ways:\n",
    "\n",
    "- A keyword argument to `Styler.__init__`  \n",
    "- A call to one of the `.set_` or `.hide_` methods,\n",
    "  e.g. `.set_caption` or `.hide_columns`  \n",
    "\n",
    "\n",
    "The best method to use depends on the context. Use the `Styler`\n",
    "constructor when building many styled DataFrames that should all share\n",
    "the same properties. For interactive use, the`.set_` and `.hide_`\n",
    "methods are more convenient."
   ]
  },
  {
   "cell_type": "markdown",
   "metadata": {},
   "source": [
    "### Precision\n",
    "\n",
    "You can control the precision of floats using pandas’ regular\n",
    "`display.precision` option."
   ]
  },
  {
   "cell_type": "markdown",
   "metadata": {
    "hide-output": false
   },
   "source": [
    "```text\n",
    "In [28]:\n",
    "```\n"
   ]
  },
  {
   "cell_type": "markdown",
   "metadata": {
    "hide-output": false
   },
   "source": [
    "```ipython3\n",
    "with pd.option_context('display.precision', 2):\n",
    "    html = (df.style\n",
    "              .applymap(color_negative_red)\n",
    "              .apply(highlight_max))\n",
    "html\n",
    "```\n"
   ]
  },
  {
   "cell_type": "markdown",
   "metadata": {},
   "source": [
    "Or through a `set_precision` method."
   ]
  },
  {
   "cell_type": "markdown",
   "metadata": {
    "hide-output": false
   },
   "source": [
    "```text\n",
    "In [29]:\n",
    "```\n"
   ]
  },
  {
   "cell_type": "markdown",
   "metadata": {
    "hide-output": false
   },
   "source": [
    "```ipython3\n",
    "df.style\\\n",
    "  .applymap(color_negative_red)\\\n",
    "  .apply(highlight_max)\\\n",
    "  .set_precision(2)\n",
    "```\n"
   ]
  },
  {
   "cell_type": "markdown",
   "metadata": {},
   "source": [
    "Setting the precision only affects the printed number; the\n",
    "full-precision values are always passed to your style functions. You can\n",
    "always use `df.round(2).style` if you’d prefer to round from the\n",
    "start."
   ]
  },
  {
   "cell_type": "markdown",
   "metadata": {},
   "source": [
    "### Captions\n",
    "\n",
    "Regular table captions can be added in a few ways."
   ]
  },
  {
   "cell_type": "markdown",
   "metadata": {
    "hide-output": false
   },
   "source": [
    "```text\n",
    "In [30]:\n",
    "```\n"
   ]
  },
  {
   "cell_type": "markdown",
   "metadata": {
    "hide-output": false
   },
   "source": [
    "```ipython3\n",
    "df.style.set_caption('Colormaps, with a caption.')\\\n",
    "    .background_gradient(cmap=cm)\n",
    "```\n"
   ]
  },
  {
   "cell_type": "markdown",
   "metadata": {},
   "source": [
    "### Table styles\n",
    "\n",
    "The next option you have are “table styles”. These are styles that apply\n",
    "to the table as a whole, but don’t look at the data. Certain sytlings,\n",
    "including pseudo-selectors like `:hover` can only be used this way."
   ]
  },
  {
   "cell_type": "markdown",
   "metadata": {
    "hide-output": false
   },
   "source": [
    "```text\n",
    "In [31]:\n",
    "```\n"
   ]
  },
  {
   "cell_type": "markdown",
   "metadata": {
    "hide-output": false
   },
   "source": [
    "```ipython3\n",
    "from IPython.display import HTML\n",
    "\n",
    "def hover(hover_color=\"#ffff99\"):\n",
    "    return dict(selector=\"tr:hover\",\n",
    "                props=[(\"background-color\", \"%s\" % hover_color)])\n",
    "\n",
    "styles = [\n",
    "    hover(),\n",
    "    dict(selector=\"th\", props=[(\"font-size\", \"150%\"),\n",
    "                               (\"text-align\", \"center\")]),\n",
    "    dict(selector=\"caption\", props=[(\"caption-side\", \"bottom\")])\n",
    "]\n",
    "html = (df.style.set_table_styles(styles)\n",
    "          .set_caption(\"Hover to highlight.\"))\n",
    "html\n",
    "```\n"
   ]
  },
  {
   "cell_type": "markdown",
   "metadata": {},
   "source": [
    "`table_styles` should be a list of dictionaries. Each dictionary\n",
    "should have the `selector` and `props` keys. The value for\n",
    "`selector` should be a valid CSS selector. Recall that all the styles\n",
    "are already attached to an `id`, unique to each `Styler`. This\n",
    "selector is in addition to that `id`. The value for `props` should\n",
    "be a list of tuples of `('attribute', 'value')`.\n",
    "\n",
    "`table_styles` are extremely flexible, but not as fun to type out by\n",
    "hand. We hope to collect some useful ones either in pandas, or\n",
    "preferable in a new package that [builds on top](#Extensibility) the\n",
    "tools here."
   ]
  },
  {
   "cell_type": "markdown",
   "metadata": {},
   "source": [
    "### Hiding the Index or Columns\n",
    "\n",
    "The index can be hidden from rendering by calling `Styler.hide_index`.\n",
    "Columns can be hidden from rendering by calling `Styler.hide_columns`\n",
    "and passing in the name of a column, or a slice of columns."
   ]
  },
  {
   "cell_type": "markdown",
   "metadata": {
    "hide-output": false
   },
   "source": [
    "```text\n",
    "In [32]:\n",
    "```\n"
   ]
  },
  {
   "cell_type": "markdown",
   "metadata": {
    "hide-output": false
   },
   "source": [
    "```ipython3\n",
    "df.style.hide_index()\n",
    "```\n"
   ]
  },
  {
   "cell_type": "markdown",
   "metadata": {
    "hide-output": false
   },
   "source": [
    "```text\n",
    "In [33]:\n",
    "```\n"
   ]
  },
  {
   "cell_type": "markdown",
   "metadata": {
    "hide-output": false
   },
   "source": [
    "```ipython3\n",
    "df.style.hide_columns(['C','D'])\n",
    "```\n"
   ]
  },
  {
   "cell_type": "markdown",
   "metadata": {},
   "source": [
    "### CSS classes\n",
    "\n",
    "Certain CSS classes are attached to cells.\n",
    "\n",
    "- Index and Column names include `index_name` and `level<k>` where\n",
    "  `k` is its level in a MultiIndex  \n",
    "- Index label cells include  \n",
    "  - `row_heading`  \n",
    "  - `row<n>` where `n` is the numeric position of the row  \n",
    "  - `level<k>` where `k` is the level in a MultiIndex  \n",
    "- Column label cells include  \n",
    "  - `col_heading`  \n",
    "  - `col<n>` where `n` is the numeric position of the column  \n",
    "  - `level<k>` where `k` is the level in a MultiIndex  \n",
    "- Blank cells include `blank`  \n",
    "- Data cells include `data`  "
   ]
  },
  {
   "cell_type": "markdown",
   "metadata": {},
   "source": [
    "### Limitations\n",
    "\n",
    "- DataFrame only `(use Series.to_frame().style)`  \n",
    "- The index and columns must be unique  \n",
    "- No large repr, and performance isn’t great; this is intended for\n",
    "  summary DataFrames  \n",
    "- You can only style the *values*, not the index or columns  \n",
    "- You can only apply styles, you can’t insert new HTML entities  \n",
    "\n",
    "\n",
    "Some of these will be addressed in the future."
   ]
  },
  {
   "cell_type": "markdown",
   "metadata": {},
   "source": [
    "### Terms\n",
    "\n",
    "- Style function: a function that’s passed into `Styler.apply` or\n",
    "  `Styler.applymap` and returns values like\n",
    "  `'css attribute: value'`  \n",
    "- Builtin style functions: style functions that are methods on\n",
    "  `Styler`  \n",
    "- table style: a dictionary with the two keys `selector` and\n",
    "  `props`. `selector` is the CSS selector that `props` will apply\n",
    "  to. `props` is a list of `(attribute, value)` tuples. A list of\n",
    "  table styles passed into `Styler`.  "
   ]
  },
  {
   "cell_type": "markdown",
   "metadata": {},
   "source": [
    "## Fun stuff\n",
    "\n",
    "Here are a few interesting examples.\n",
    "\n",
    "`Styler` interacts pretty well with widgets. If you’re viewing this\n",
    "online instead of running the notebook yourself, you’re missing out on\n",
    "interactively adjusting the color palette."
   ]
  },
  {
   "cell_type": "markdown",
   "metadata": {
    "hide-output": false
   },
   "source": [
    "```text\n",
    "In [34]:\n",
    "```\n"
   ]
  },
  {
   "cell_type": "markdown",
   "metadata": {
    "hide-output": false
   },
   "source": [
    "```ipython3\n",
    "from IPython.html import widgets\n",
    "@widgets.interact\n",
    "def f(h_neg=(0, 359, 1), h_pos=(0, 359), s=(0., 99.9), l=(0., 99.9)):\n",
    "    return df.style.background_gradient(\n",
    "        cmap=sns.palettes.diverging_palette(h_neg=h_neg, h_pos=h_pos, s=s, l=l,\n",
    "                                            as_cmap=True)\n",
    "    )\n",
    "```\n"
   ]
  },
  {
   "cell_type": "markdown",
   "metadata": {
    "hide-output": false
   },
   "source": [
    "```text\n",
    "In [35]:\n",
    "```\n"
   ]
  },
  {
   "cell_type": "markdown",
   "metadata": {
    "hide-output": false
   },
   "source": [
    "```ipython3\n",
    "def magnify():\n",
    "    return [dict(selector=\"th\",\n",
    "                 props=[(\"font-size\", \"4pt\")]),\n",
    "            dict(selector=\"td\",\n",
    "                 props=[('padding', \"0em 0em\")]),\n",
    "            dict(selector=\"th:hover\",\n",
    "                 props=[(\"font-size\", \"12pt\")]),\n",
    "            dict(selector=\"tr:hover td:hover\",\n",
    "                 props=[('max-width', '200px'),\n",
    "                        ('font-size', '12pt')])\n",
    "]\n",
    "```\n"
   ]
  },
  {
   "cell_type": "markdown",
   "metadata": {
    "hide-output": false
   },
   "source": [
    "```text\n",
    "In [36]:\n",
    "```\n"
   ]
  },
  {
   "cell_type": "markdown",
   "metadata": {
    "hide-output": false
   },
   "source": [
    "```ipython3\n",
    "np.random.seed(25)\n",
    "cmap = cmap=sns.diverging_palette(5, 250, as_cmap=True)\n",
    "bigdf = pd.DataFrame(np.random.randn(20, 25)).cumsum()\n",
    "\n",
    "bigdf.style.background_gradient(cmap, axis=1)\\\n",
    "    .set_properties(**{'max-width': '80px', 'font-size': '1pt'})\\\n",
    "    .set_caption(\"Hover to magnify\")\\\n",
    "    .set_precision(2)\\\n",
    "    .set_table_styles(magnify())\n",
    "```\n"
   ]
  },
  {
   "cell_type": "markdown",
   "metadata": {},
   "source": [
    "## Export to Excel\n",
    "\n",
    "*New in version 0.20.0*\n",
    "\n",
    "Experimental: This is a new feature and still under development. We’ll\n",
    "be adding features and possibly making breaking changes in future\n",
    "releases. We’d love to hear your feedback.\n",
    "\n",
    "Some support is available for exporting styled `DataFrames` to Excel\n",
    "worksheets using the `OpenPyXL` or `XlsxWriter` engines. CSS2.2\n",
    "properties handled include:\n",
    "\n",
    "- `background-color`  \n",
    "- `border-style`, `border-width`, `border-color` and their\n",
    "  {`top`, `right`, `bottom`, `left` variants}  \n",
    "- `color`  \n",
    "- `font-family`  \n",
    "- `font-style`  \n",
    "- `font-weight`  \n",
    "- `text-align`  \n",
    "- `text-decoration`  \n",
    "- `vertical-align`  \n",
    "- `white-space: nowrap`  \n",
    "- Only CSS2 named colors and hex colors of the form `#rgb` or\n",
    "  `#rrggbb` are currently supported.  \n",
    "- The following pseudo CSS properties are also available to set excel\n",
    "  specific style properties:  \n",
    "  - `number-format`  "
   ]
  },
  {
   "cell_type": "markdown",
   "metadata": {
    "hide-output": false
   },
   "source": [
    "```text\n",
    "In [37]:\n",
    "```\n"
   ]
  },
  {
   "cell_type": "markdown",
   "metadata": {
    "hide-output": false
   },
   "source": [
    "```ipython3\n",
    "df.style.\\\n",
    "    applymap(color_negative_red).\\\n",
    "    apply(highlight_max).\\\n",
    "    to_excel('styled.xlsx', engine='openpyxl')\n",
    "```\n"
   ]
  },
  {
   "cell_type": "markdown",
   "metadata": {},
   "source": [
    "A screenshot of the output:\n",
    "\n",
    "<img src=\"user_guide/../_static/style-excel.png\" alt=\"Excel spreadsheet with styled DataFrame\" style=\"\">\n",
    "\n",
    "Excel spreadsheet with styled DataFrame  "
   ]
  },
  {
   "cell_type": "markdown",
   "metadata": {},
   "source": [
    "## Extensibility\n",
    "\n",
    "The core of pandas is, and will remain, its “high-performance,\n",
    "easy-to-use data structures”. With that in mind, we hope that\n",
    "`DataFrame.style` accomplishes two goals\n",
    "\n",
    "- Provide an API that is pleasing to use interactively and is “good\n",
    "  enough” for many tasks  \n",
    "- Provide the foundations for dedicated libraries to build on  \n",
    "\n",
    "\n",
    "If you build a great library on top of this, let us know and we’ll\n",
    "[link](http://pandas.pydata.org/pandas-docs/stable/ecosystem.html) to\n",
    "it."
   ]
  },
  {
   "cell_type": "markdown",
   "metadata": {},
   "source": [
    "### Subclassing\n",
    "\n",
    "If the default template doesn’t quite suit your needs, you can subclass\n",
    "Styler and extend or override the template. We’ll show an example of\n",
    "extending the default template to insert a custom header before each\n",
    "table."
   ]
  },
  {
   "cell_type": "markdown",
   "metadata": {
    "hide-output": false
   },
   "source": [
    "```text\n",
    "In [38]:\n",
    "```\n"
   ]
  },
  {
   "cell_type": "markdown",
   "metadata": {
    "hide-output": false
   },
   "source": [
    "```ipython3\n",
    "from jinja2 import Environment, ChoiceLoader, FileSystemLoader\n",
    "from IPython.display import HTML\n",
    "from pandas.io.formats.style import Styler\n",
    "```\n"
   ]
  },
  {
   "cell_type": "markdown",
   "metadata": {},
   "source": [
    "We’ll use the following template:"
   ]
  },
  {
   "cell_type": "markdown",
   "metadata": {
    "hide-output": false
   },
   "source": [
    "```text\n",
    "In [39]:\n",
    "```\n"
   ]
  },
  {
   "cell_type": "markdown",
   "metadata": {
    "hide-output": false
   },
   "source": [
    "```ipython3\n",
    "with open(\"templates/myhtml.tpl\") as f:\n",
    "    print(f.read())\n",
    "```\n"
   ]
  },
  {
   "cell_type": "markdown",
   "metadata": {},
   "source": [
    "<pre>\n",
    "{% extends &#34;html.tpl&#34; %}\n",
    "{% block table %}\n",
    "&lt;h1&gt;{{ table_title|default(&#34;My Table&#34;) }}&lt;/h1&gt;\n",
    "{{ super() }}\n",
    "{% endblock table %}\n",
    "\n",
    "</pre>\n",
    "\n",
    "%\n",
    "\\begin{OriginalVerbatim}[commandchars=\\\\\\{\\}]\n",
    "\\{\\% extends \"html.tpl\" \\%\\}\n",
    "\\{\\% block table \\%\\}\n",
    "<h1>\\{\\{ table\\_title|default(\"My Table\") \\}\\}</h1>\n",
    "\\{\\{ super() \\}\\}\n",
    "\\{\\% endblock table \\%\\}\n",
    "\n",
    "\\end{OriginalVerbatim}\n",
    "% The following \\relax is needed to avoid problems with adjacent ANSI\n",
    "% cells and some other stuff (e.g. bullet lists) following ANSI cells.\n",
    "% See https://github.com/sphinx-doc/sphinx/issues/3594\n",
    "\\relax\n",
    "\n",
    "Now that we’ve created a template, we need to set up a subclass of\n",
    "`Styler` that knows about it."
   ]
  },
  {
   "cell_type": "markdown",
   "metadata": {
    "hide-output": false
   },
   "source": [
    "```text\n",
    "In [40]:\n",
    "```\n"
   ]
  },
  {
   "cell_type": "markdown",
   "metadata": {
    "hide-output": false
   },
   "source": [
    "```ipython3\n",
    "class MyStyler(Styler):\n",
    "    env = Environment(\n",
    "        loader=ChoiceLoader([\n",
    "            FileSystemLoader(\"templates\"),  # contains ours\n",
    "            Styler.loader,  # the default\n",
    "        ])\n",
    "    )\n",
    "    template = env.get_template(\"myhtml.tpl\")\n",
    "```\n"
   ]
  },
  {
   "cell_type": "markdown",
   "metadata": {},
   "source": [
    "Notice that we include the original loader in our environment’s loader.\n",
    "That’s because we extend the original template, so the Jinja environment\n",
    "needs to be able to find it.\n",
    "\n",
    "Now we can use that custom styler. It’s `__init__` takes a DataFrame."
   ]
  },
  {
   "cell_type": "markdown",
   "metadata": {
    "hide-output": false
   },
   "source": [
    "```text\n",
    "In [41]:\n",
    "```\n"
   ]
  },
  {
   "cell_type": "markdown",
   "metadata": {
    "hide-output": false
   },
   "source": [
    "```ipython3\n",
    "MyStyler(df)\n",
    "```\n"
   ]
  },
  {
   "cell_type": "markdown",
   "metadata": {},
   "source": [
    "Our custom template accepts a `table_title` keyword. We can provide\n",
    "the value in the `.render` method."
   ]
  },
  {
   "cell_type": "markdown",
   "metadata": {
    "hide-output": false
   },
   "source": [
    "```text\n",
    "In [42]:\n",
    "```\n"
   ]
  },
  {
   "cell_type": "markdown",
   "metadata": {
    "hide-output": false
   },
   "source": [
    "```ipython3\n",
    "HTML(MyStyler(df).render(table_title=\"Extending Example\"))\n",
    "```\n"
   ]
  },
  {
   "cell_type": "markdown",
   "metadata": {},
   "source": [
    "For convenience, we provide the `Styler.from_custom_template` method\n",
    "that does the same as the custom subclass."
   ]
  },
  {
   "cell_type": "markdown",
   "metadata": {
    "hide-output": false
   },
   "source": [
    "```text\n",
    "In [43]:\n",
    "```\n"
   ]
  },
  {
   "cell_type": "markdown",
   "metadata": {
    "hide-output": false
   },
   "source": [
    "```ipython3\n",
    "EasyStyler = Styler.from_custom_template(\"templates\", \"myhtml.tpl\")\n",
    "EasyStyler(df)\n",
    "```\n"
   ]
  },
  {
   "cell_type": "markdown",
   "metadata": {},
   "source": [
    "Here’s the template structure:"
   ]
  },
  {
   "cell_type": "markdown",
   "metadata": {
    "hide-output": false
   },
   "source": [
    "```text\n",
    "In [44]:\n",
    "```\n"
   ]
  },
  {
   "cell_type": "markdown",
   "metadata": {
    "hide-output": false
   },
   "source": [
    "```ipython3\n",
    "with open(\"templates/template_structure.html\") as f:\n",
    "    structure = f.read()\n",
    "\n",
    "HTML(structure)\n",
    "```\n"
   ]
  },
  {
   "cell_type": "markdown",
   "metadata": {},
   "source": [
    "See the template in the [GitHub\n",
    "repo](https://github.com/pandas-dev/pandas) for more details."
   ]
  }
 ],
 "metadata": {
  "filename": "style.ipynb",
  "kernelspec": {
   "display_name": "Python",
   "language": "python3",
   "name": "python3"
  },
  "title": "Styling"
 },
 "nbformat": 4,
 "nbformat_minor": 2
}