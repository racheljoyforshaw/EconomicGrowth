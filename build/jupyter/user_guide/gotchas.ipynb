{
 "cells": [
  {
   "cell_type": "markdown",
   "metadata": {},
   "source": [
    "\n",
    "<a id='gotchas'></a>\n",
    "{{ header }}"
   ]
  },
  {
   "cell_type": "markdown",
   "metadata": {},
   "source": [
    "# Frequently Asked Questions (FAQ)\n",
    "\n",
    "\n",
    "<a id='df-memory-usage'></a>"
   ]
  },
  {
   "cell_type": "markdown",
   "metadata": {},
   "source": [
    "## DataFrame memory usage\n",
    "\n",
    "The memory usage of a `DataFrame` (including the index) is shown when calling\n",
    "the `info()`. A configuration option, `display.memory_usage`\n",
    "(see [the list of options](options.ipynb#options-available)), specifies if the\n",
    "`DataFrame`’s memory usage will be displayed when invoking the `df.info()`\n",
    "method.\n",
    "\n",
    "For example, the memory usage of the `DataFrame` below is shown\n",
    "when calling `info()`:\n",
    "\n",
    "The `+` symbol indicates that the true memory usage could be higher, because\n",
    "pandas does not count the memory used by values in columns with\n",
    "`dtype=object`.\n",
    "\n",
    "Passing `memory_usage='deep'` will enable a more accurate memory usage report,\n",
    "accounting for the full usage of the contained objects. This is optional\n",
    "as it can be expensive to do this deeper introspection.\n",
    "\n",
    "By default the display option is set to `True` but can be explicitly\n",
    "overridden by passing the `memory_usage` argument when invoking `df.info()`.\n",
    "\n",
    "The memory usage of each column can be found by calling the\n",
    "`memory_usage()` method. This returns a `Series` with an index\n",
    "represented by column names and memory usage of each column shown in bytes. For\n",
    "the `DataFrame` above, the memory usage of each column and the total memory\n",
    "usage can be found with the `memory_usage` method:\n",
    "\n",
    "By default the memory usage of the `DataFrame`’s index is shown in the\n",
    "returned `Series`, the memory usage of the index can be suppressed by passing\n",
    "the `index=False` argument:\n",
    "\n",
    "The memory usage displayed by the `info()` method utilizes the\n",
    "`memory_usage()` method to determine the memory usage of a\n",
    "`DataFrame` while also formatting the output in human-readable units (base-2\n",
    "representation; i.e. 1KB = 1024 bytes).\n",
    "\n",
    "See also [Categorical Memory Usage](categorical.ipynb#categorical-memory).\n",
    "\n",
    "\n",
    "<a id='gotchas-truth'></a>"
   ]
  },
  {
   "cell_type": "markdown",
   "metadata": {},
   "source": [
    "## Using if/truth statements with pandas\n",
    "\n",
    "pandas follows the NumPy convention of raising an error when you try to convert\n",
    "something to a `bool`. This happens in an `if`-statement or when using the\n",
    "boolean operations: `and`, `or`, and `not`. It is not clear what the result\n",
    "of the following code should be:"
   ]
  },
  {
   "cell_type": "code",
   "execution_count": null,
   "metadata": {
    "hide-output": false
   },
   "outputs": [],
   "source": [
    ">>> if pd.Series([False, True, False]):\n",
    "...     pass"
   ]
  },
  {
   "cell_type": "markdown",
   "metadata": {},
   "source": [
    "Should it be `True` because it’s not zero-length, or `False` because there\n",
    "are `False` values? It is unclear, so instead, pandas raises a `ValueError`:"
   ]
  },
  {
   "cell_type": "code",
   "execution_count": null,
   "metadata": {
    "hide-output": false
   },
   "outputs": [],
   "source": [
    ">>> if pd.Series([False, True, False]):\n",
    "...     print(\"I was true\")\n",
    "Traceback\n",
    "    ...\n",
    "ValueError: The truth value of an array is ambiguous. Use a.empty, a.any() or a.all()."
   ]
  },
  {
   "cell_type": "markdown",
   "metadata": {},
   "source": [
    "You need to explicitly choose what you want to do with the `DataFrame`, e.g.\n",
    "use `any()`, `all()` or `empty()`.\n",
    "Alternatively, you might want to compare if the pandas object is `None`:"
   ]
  },
  {
   "cell_type": "code",
   "execution_count": null,
   "metadata": {
    "hide-output": false
   },
   "outputs": [],
   "source": [
    ">>> if pd.Series([False, True, False]) is not None:\n",
    "...     print(\"I was not None\")\n",
    "I was not None"
   ]
  },
  {
   "cell_type": "markdown",
   "metadata": {},
   "source": [
    "Below is how to check if any of the values are `True`:"
   ]
  },
  {
   "cell_type": "code",
   "execution_count": null,
   "metadata": {
    "hide-output": false
   },
   "outputs": [],
   "source": [
    ">>> if pd.Series([False, True, False]).any():\n",
    "...     print(\"I am any\")\n",
    "I am any"
   ]
  },
  {
   "cell_type": "markdown",
   "metadata": {},
   "source": [
    "To evaluate single-element pandas objects in a boolean context, use the method\n",
    "`bool()`:"
   ]
  },
  {
   "cell_type": "markdown",
   "metadata": {},
   "source": [
    "### Bitwise boolean\n",
    "\n",
    "Bitwise boolean operators like `==` and `!=` return a boolean `Series`,\n",
    "which is almost always what you want anyways."
   ]
  },
  {
   "cell_type": "code",
   "execution_count": null,
   "metadata": {
    "hide-output": false
   },
   "outputs": [],
   "source": [
    ">>> s = pd.Series(range(5))\n",
    ">>> s == 4\n",
    "0    False\n",
    "1    False\n",
    "2    False\n",
    "3    False\n",
    "4     True\n",
    "dtype: bool"
   ]
  },
  {
   "cell_type": "markdown",
   "metadata": {},
   "source": [
    "See [boolean comparisons](getting_started/basics.ipynb#basics-compare) for more examples."
   ]
  },
  {
   "cell_type": "markdown",
   "metadata": {},
   "source": [
    "### Using the `in` operator\n",
    "\n",
    "Using the Python `in` operator on a `Series` tests for membership in the\n",
    "index, not membership among the values.\n",
    "\n",
    "If this behavior is surprising, keep in mind that using `in` on a Python\n",
    "dictionary tests keys, not values, and `Series` are dict-like.\n",
    "To test for membership in the values, use the method `isin()`:\n",
    "\n",
    "For `DataFrames`, likewise, `in` applies to the column axis,\n",
    "testing for membership in the list of column names."
   ]
  },
  {
   "cell_type": "markdown",
   "metadata": {},
   "source": [
    "## `NaN`, Integer `NA` values and `NA` type promotions"
   ]
  },
  {
   "cell_type": "markdown",
   "metadata": {},
   "source": [
    "### Choice of `NA` representation\n",
    "\n",
    "For lack of `NA` (missing) support from the ground up in NumPy and Python in\n",
    "general, we were given the difficult choice between either:\n",
    "\n",
    "- A *masked array* solution: an array of data and an array of boolean values\n",
    "  indicating whether a value is there or is missing.  \n",
    "- Using a special sentinel value, bit pattern, or set of sentinel values to\n",
    "  denote `NA` across the dtypes.  \n",
    "\n",
    "\n",
    "For many reasons we chose the latter. After years of production use it has\n",
    "proven, at least in my opinion, to be the best decision given the state of\n",
    "affairs in NumPy and Python in general. The special value `NaN`\n",
    "(Not-A-Number) is used everywhere as the `NA` value, and there are API\n",
    "functions `isna` and `notna` which can be used across the dtypes to\n",
    "detect NA values.\n",
    "\n",
    "However, it comes with it a couple of trade-offs which I most certainly have\n",
    "not ignored.\n",
    "\n",
    "\n",
    "<a id='gotchas-intna'></a>"
   ]
  },
  {
   "cell_type": "markdown",
   "metadata": {},
   "source": [
    "### Support for integer `NA`\n",
    "\n",
    "In the absence of high performance `NA` support being built into NumPy from\n",
    "the ground up, the primary casualty is the ability to represent NAs in integer\n",
    "arrays. For example:\n",
    "\n",
    "This trade-off is made largely for memory and performance reasons, and also so\n",
    "that the resulting `Series` continues to be “numeric”.\n",
    "\n",
    "If you need to represent integers with possibly missing values, use one of\n",
    "the nullable-integer extension dtypes provided by pandas\n",
    "\n",
    "- `Int8Dtype`  \n",
    "- `Int16Dtype`  \n",
    "- `Int32Dtype`  \n",
    "- `Int64Dtype`  \n",
    "\n",
    "\n",
    "See [Nullable integer data type](integer_na.ipynb#integer-na) for more."
   ]
  },
  {
   "cell_type": "markdown",
   "metadata": {},
   "source": [
    "### `NA` type promotions\n",
    "\n",
    "When introducing NAs into an existing `Series` or `DataFrame` via\n",
    "`reindex()` or some other means, boolean and integer types will be\n",
    "promoted to a different dtype in order to store the NAs. The promotions are\n",
    "summarized in this table:\n",
    "\n",
    "````````````|Typeclass|Promotion dtype for storing NAs|\n",
    "|:--------------------------------------:|:----------------------------------------------------------:|\n",
    "|floating|no change|\n",
    "|object|no change|\n",
    "|integer|cast to float64|\n",
    "|boolean|cast to object|\n",
    "While this may seem like a heavy trade-off, I have found very few cases where\n",
    "this is an issue in practice i.e. storing values greater than 2**53. Some\n",
    "explanation for the motivation is in the next section."
   ]
  },
  {
   "cell_type": "markdown",
   "metadata": {},
   "source": [
    "### Why not make NumPy like R?\n",
    "\n",
    "Many people have suggested that NumPy should simply emulate the `NA` support\n",
    "present in the more domain-specific statistical programming language [R](https://r-project.org). Part of the reason is the NumPy type hierarchy:\n",
    "\n",
    "````````````````````````|Typeclass|Dtypes|\n",
    "|:----------------------------:|:--------------------------------------------------------------------:|\n",
    "|numpy.floating|float16, float32, float64, float128|\n",
    "|numpy.integer|int8, int16, int32, int64|\n",
    "|numpy.unsignedinteger|uint8, uint16, uint32, uint64|\n",
    "|numpy.object_|object_|\n",
    "|numpy.bool_|bool_|\n",
    "|numpy.character|string_, unicode_|\n",
    "The R language, by contrast, only has a handful of built-in data types:\n",
    "`integer`, `numeric` (floating-point), `character`, and\n",
    "`boolean`. `NA` types are implemented by reserving special bit patterns for\n",
    "each type to be used as the missing value. While doing this with the full NumPy\n",
    "type hierarchy would be possible, it would be a more substantial trade-off\n",
    "(especially for the 8- and 16-bit data types) and implementation undertaking.\n",
    "\n",
    "An alternate approach is that of using masked arrays. A masked array is an\n",
    "array of data with an associated boolean *mask* denoting whether each value\n",
    "should be considered `NA` or not. I am personally not in love with this\n",
    "approach as I feel that overall it places a fairly heavy burden on the user and\n",
    "the library implementer. Additionally, it exacts a fairly high performance cost\n",
    "when working with numerical data compared with the simple approach of using\n",
    "`NaN`. Thus, I have chosen the Pythonic “practicality beats purity” approach\n",
    "and traded integer `NA` capability for a much simpler approach of using a\n",
    "special value in float and object arrays to denote `NA`, and promoting\n",
    "integer arrays to floating when NAs must be introduced."
   ]
  },
  {
   "cell_type": "markdown",
   "metadata": {},
   "source": [
    "## Differences with NumPy\n",
    "\n",
    "For `Series` and `DataFrame` objects, `var()` normalizes by\n",
    "`N-1` to produce unbiased estimates of the sample variance, while NumPy’s\n",
    "`var` normalizes by N, which measures the variance of the sample. Note that\n",
    "`cov()` normalizes by `N-1` in both pandas and NumPy."
   ]
  },
  {
   "cell_type": "markdown",
   "metadata": {},
   "source": [
    "## Thread-safety\n",
    "\n",
    "As of pandas 0.11, pandas is not 100% thread safe. The known issues relate to\n",
    "the `copy()` method. If you are doing a lot of copying of\n",
    "`DataFrame` objects shared among threads, we recommend holding locks inside\n",
    "the threads where the data copying occurs.\n",
    "\n",
    "See [this link](https://stackoverflow.com/questions/13592618/python-pandas-dataframe-thread-safe)\n",
    "for more information."
   ]
  },
  {
   "cell_type": "markdown",
   "metadata": {},
   "source": [
    "## Byte-Ordering issues\n",
    "\n",
    "Occasionally you may have to deal with data that were created on a machine with\n",
    "a different byte order than the one on which you are running Python. A common\n",
    "symptom of this issue is an error like::"
   ]
  },
  {
   "cell_type": "code",
   "execution_count": null,
   "metadata": {
    "hide-output": false
   },
   "outputs": [],
   "source": [
    "Traceback\n",
    "    ...\n",
    "ValueError: Big-endian buffer not supported on little-endian compiler"
   ]
  },
  {
   "cell_type": "markdown",
   "metadata": {},
   "source": [
    "To deal\n",
    "with this issue you should convert the underlying NumPy array to the native\n",
    "system byte order *before* passing it to `Series` or `DataFrame`\n",
    "constructors using something similar to the following:\n",
    "\n",
    "See [the NumPy documentation on byte order](https://docs.scipy.org/doc/numpy/user/basics.byteswapping.html) for more\n",
    "details."
   ]
  }
 ],
 "metadata": {
  "filename": "gotchas.rst",
  "kernelspec": {
   "display_name": "Python",
   "language": "python3",
   "name": "python3"
  },
  "title": "Frequently Asked Questions (FAQ)"
 },
 "nbformat": 4,
 "nbformat_minor": 2
}