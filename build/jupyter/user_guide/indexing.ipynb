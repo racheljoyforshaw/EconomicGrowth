{
 "cells": [
  {
   "cell_type": "markdown",
   "metadata": {},
   "source": [
    "\n",
    "<a id='indexing'></a>\n",
    "{{ header }}"
   ]
  },
  {
   "cell_type": "markdown",
   "metadata": {},
   "source": [
    "# Indexing and selecting data\n",
    "\n",
    "The axis labeling information in pandas objects serves many purposes:\n",
    "\n",
    "- Identifies data (i.e. provides *metadata*) using known indicators,\n",
    "  important for analysis, visualization, and interactive console display.  \n",
    "- Enables automatic and explicit data alignment.  \n",
    "- Allows intuitive getting and setting of subsets of the data set.  \n",
    "\n",
    "\n",
    "In this section, we will focus on the final point: namely, how to slice, dice,\n",
    "and generally get and set subsets of pandas objects. The primary focus will be\n",
    "on Series and DataFrame as they have received more development attention in\n",
    "this area.\n",
    "\n",
    ">**Note**\n",
    ">\n",
    ">The Python and NumPy indexing operators `[]` and attribute operator `.`\n",
    "provide quick and easy access to pandas data structures across a wide range\n",
    "of use cases. This makes interactive work intuitive, as there’s little new\n",
    "to learn if you already know how to deal with Python dictionaries and NumPy\n",
    "arrays. However, since the type of the data to be accessed isn’t known in\n",
    "advance, directly using standard operators has some optimization limits. For\n",
    "production code, we recommended that you take advantage of the optimized\n",
    "pandas data access methods exposed in this chapter.\n",
    "\n",
    "Whether a copy or a reference is returned for a setting operation, may\n",
    "depend on the context. This is sometimes called `chained assignment` and\n",
    "should be avoided. See [Returning a View versus Copy](#indexing-view-versus-copy).\n",
    "\n",
    "Indexing on an integer-based Index with floats has been clarified in 0.18.0, for a summary of the changes, see [here](whatsnew/v0.18.0.ipynb#whatsnew-0180-float-indexers).\n",
    "\n",
    "See the [MultiIndex / Advanced Indexing](advanced.ipynb#advanced) for `MultiIndex` and more advanced indexing documentation.\n",
    "\n",
    "See the [cookbook](cookbook.ipynb#cookbook-selection) for some advanced strategies.\n",
    "\n",
    "\n",
    "<a id='indexing-choice'></a>"
   ]
  },
  {
   "cell_type": "markdown",
   "metadata": {},
   "source": [
    "## Different choices for indexing\n",
    "\n",
    "Object selection has had a number of user-requested additions in order to\n",
    "support more explicit location based indexing. Pandas now supports three types\n",
    "of multi-axis indexing.\n",
    "\n",
    "- `.loc` is primarily label based, but may also be used with a boolean array. `.loc` will raise `KeyError` when the items are not found. Allowed inputs are:  \n",
    "  \n",
    "  - A single label, e.g. `5` or `'a'` (Note that `5` is interpreted as a\n",
    "    *label* of the index. This use is **not** an integer position along the\n",
    "    index.).  \n",
    "  - A list or array of labels `['a', 'b', 'c']`.  \n",
    "  - A slice object with labels `'a':'f'` (Note that contrary to usual python\n",
    "    slices, **both** the start and the stop are included, when present in the\n",
    "    index! See [Slicing with labels](#indexing-slicing-with-labels)\n",
    "    and [Endpoints are inclusive](advanced.ipynb#advanced-endpoints-are-inclusive).)  \n",
    "  - A boolean array  \n",
    "  - A `callable` function with one argument (the calling Series or DataFrame) and\n",
    "    that returns valid output for indexing (one of the above).  \n",
    "    New in version 0.18.1.  \n",
    "  \n",
    "  See more at [Selection by Label](#indexing-label).  \n",
    "- `.iloc` is primarily integer position based (from `0` to\n",
    "  `length-1` of the axis), but may also be used with a boolean\n",
    "  array.  `.iloc` will raise `IndexError` if a requested\n",
    "  indexer is out-of-bounds, except *slice* indexers which allow\n",
    "  out-of-bounds indexing.  (this conforms with Python/NumPy *slice*\n",
    "  semantics).  Allowed inputs are:  \n",
    "  \n",
    "  - An integer e.g. `5`.  \n",
    "  - A list or array of integers `[4, 3, 0]`.  \n",
    "  - A slice object with ints `1:7`.  \n",
    "  - A boolean array.  \n",
    "  - A `callable` function with one argument (the calling Series or DataFrame) and\n",
    "    that returns valid output for indexing (one of the above).  \n",
    "    New in version 0.18.1.  \n",
    "  \n",
    "  See more at [Selection by Position](#indexing-integer),\n",
    "  [Advanced Indexing](advanced.ipynb#advanced) and [Advanced\n",
    "  Hierarchical](advanced.ipynb#advanced-advanced-hierarchical).  \n",
    "- `.loc`, `.iloc`, and also `[]` indexing can accept a `callable` as indexer. See more at [Selection By Callable](#indexing-callable).  \n",
    "\n",
    "\n",
    "Getting values from an object with multi-axes selection uses the following\n",
    "notation (using `.loc` as an example, but the following applies to `.iloc` as\n",
    "well). Any of the axes accessors may be the null slice `:`. Axes left out of\n",
    "the specification are assumed to be `:`, e.g. `p.loc['a']` is equivalent to\n",
    "`p.loc['a', :, :]`.\n",
    "\n",
    "````|Object Type|Indexers|\n",
    "|:----------------------------:|:------------------------------------------------:|\n",
    "|Series|s.loc[indexer]|\n",
    "|DataFrame|df.loc[row_indexer,column_indexer]|\n",
    "\n",
    "<a id='indexing-basics'></a>"
   ]
  },
  {
   "cell_type": "markdown",
   "metadata": {},
   "source": [
    "## Basics\n",
    "\n",
    "As mentioned when introducing the data structures in the [last section](getting_started/basics.ipynb#basics), the primary function of indexing with `[]` (a.k.a. `__getitem__`\n",
    "for those familiar with implementing class behavior in Python) is selecting out\n",
    "lower-dimensional slices. The following table shows return type values when\n",
    "indexing pandas objects with `[]`:\n",
    "\n",
    "``````|Object Type|Selection|Return Value Type|\n",
    "|:----------------------------:|:----------------------------:|:----------------------------------------------------------:|\n",
    "|Series|series[label]|scalar value|\n",
    "|DataFrame|frame[colname]|Series corresponding to colname|\n",
    "Here we construct a simple time series data set to use for illustrating the\n",
    "indexing functionality:\n",
    "\n",
    ">**Note**\n",
    ">\n",
    ">None of the indexing functionality is time series specific unless\n",
    "specifically stated.\n",
    "\n",
    "Thus, as per above, we have the most basic indexing using `[]`:\n",
    "\n",
    "You can pass a list of columns to `[]` to select columns in that order.\n",
    "If a column is not contained in the DataFrame, an exception will be\n",
    "raised. Multiple columns can also be set in this manner:\n",
    "\n",
    "You may find this useful for applying a transform (in-place) to a subset of the\n",
    "columns.\n",
    "\n",
    "pandas aligns all AXES when setting `Series` and `DataFrame` from `.loc`, and `.iloc`.\n",
    "\n",
    "This will **not** modify `df` because the column alignment is before value assignment.\n",
    "\n",
    "The correct way to swap column values is by using raw values:"
   ]
  },
  {
   "cell_type": "markdown",
   "metadata": {},
   "source": [
    "## Attribute access\n",
    "\n",
    "\n",
    "<a id='indexing-columns-multiple'></a>\n",
    "\n",
    "<a id='indexing-df-cols'></a>\n",
    "\n",
    "<a id='indexing-attribute-access'></a>\n",
    "You may access an index on a `Series` or  column on a `DataFrame` directly\n",
    "as an attribute:\n",
    "\n",
    "- You can use this access only if the index element is a valid Python identifier, e.g. `s.1` is not allowed.\n",
    "  See [here for an explanation of valid identifiers](https://docs.python.org/3/reference/lexical_analysis.html#identifiers).  \n",
    "- The attribute will not be available if it conflicts with an existing method name, e.g. `s.min` is not allowed.  \n",
    "- Similarly, the attribute will not be available if it conflicts with any of the following list: `index`,\n",
    "  `major_axis`, `minor_axis`, `items`.  \n",
    "- In any of these cases, standard indexing will still work, e.g. `s['1']`, `s['min']`, and `s['index']` will\n",
    "  access the corresponding element or column.  \n",
    "\n",
    "\n",
    "If you are using the IPython environment, you may also use tab-completion to\n",
    "see these accessible attributes.\n",
    "\n",
    "You can also assign a `dict` to a row of a `DataFrame`:\n",
    "\n",
    "You can use attribute access to modify an existing element of a Series or column of a DataFrame, but be careful;\n",
    "if you try to use attribute access to create a new column, it creates a new attribute rather than a\n",
    "new column. In 0.21.0 and later, this will raise a `UserWarning`:"
   ]
  },
  {
   "cell_type": "markdown",
   "metadata": {
    "hide-output": false
   },
   "source": [
    "```ipython\n",
    "In [1]: df = pd.DataFrame({'one': [1., 2., 3.]})\n",
    "In [2]: df.two = [4, 5, 6]\n",
    "UserWarning: Pandas doesn't allow Series to be assigned into nonexistent columns - see https://pandas.pydata.org/pandas-docs/stable/indexing.html#attribute_access\n",
    "In [3]: df\n",
    "Out[3]:\n",
    "   one\n",
    "0  1.0\n",
    "1  2.0\n",
    "2  3.0\n",
    "```\n"
   ]
  },
  {
   "cell_type": "markdown",
   "metadata": {},
   "source": [
    "## Slicing ranges\n",
    "\n",
    "The most robust and consistent way of slicing ranges along arbitrary axes is\n",
    "described in the [Selection by Position](#indexing-integer) section\n",
    "detailing the `.iloc` method. For now, we explain the semantics of slicing using the `[]` operator.\n",
    "\n",
    "With Series, the syntax works exactly as with an ndarray, returning a slice of\n",
    "the values and the corresponding labels:\n",
    "\n",
    "Note that setting works as well:\n",
    "\n",
    "With DataFrame, slicing inside of `[]` **slices the rows**. This is provided\n",
    "largely as a convenience since it is such a common operation.\n",
    "\n",
    "\n",
    "<a id='indexing-label'></a>"
   ]
  },
  {
   "cell_type": "markdown",
   "metadata": {},
   "source": [
    "## Selection by label\n",
    "\n",
    "Whether a copy or a reference is returned for a setting operation, may depend on the context.\n",
    "This is sometimes called `chained assignment` and should be avoided.\n",
    "See [Returning a View versus Copy](#indexing-view-versus-copy).\n",
    "\n",
    "> `.loc` is strict when you present slicers that are not compatible (or convertible) with the index type. For example\n",
    "using integers in a `DatetimeIndex`. These will raise a `TypeError`."
   ]
  },
  {
   "cell_type": "markdown",
   "metadata": {
    "hide-output": false
   },
   "source": [
    "```ipython\n",
    "In [4]: dfl.loc[2:3]\n",
    "TypeError: cannot do slice indexing on <class 'pandas.tseries.index.DatetimeIndex'> with these indexers [2] of <type 'int'>\n",
    "```\n"
   ]
  },
  {
   "cell_type": "markdown",
   "metadata": {},
   "source": [
    "String likes in slicing *can* be convertible to the type of the index and lead to natural slicing.\n",
    "\n",
    "Starting in 0.21.0, pandas will show a `FutureWarning` if indexing with a list with missing labels. In the future\n",
    "this will raise a `KeyError`. See [list-like Using loc with missing keys in a list is Deprecated](#indexing-deprecate-loc-reindex-listlike).\n",
    "\n",
    "pandas provides a suite of methods in order to have **purely label based indexing**. This is a strict inclusion based protocol.\n",
    "Every label asked for must be in the index, or a `KeyError` will be raised.\n",
    "When slicing, both the start bound **AND** the stop bound are *included*, if present in the index.\n",
    "Integers are valid labels, but they refer to the label **and not the position**.\n",
    "\n",
    "The `.loc` attribute is the primary access method. The following are valid inputs:\n",
    "\n",
    "- A single label, e.g. `5` or `'a'` (Note that `5` is interpreted as a *label* of the index. This use is **not** an integer position along the index.).  \n",
    "- A list or array of labels `['a', 'b', 'c']`.  \n",
    "- A slice object with labels `'a':'f'` (Note that contrary to usual python\n",
    "  slices, **both** the start and the stop are included, when present in the\n",
    "  index! See [Slicing with labels](#indexing-slicing-with-labels).  \n",
    "- A boolean array.  \n",
    "- A `callable`, see [Selection By Callable](#indexing-callable).  \n",
    "\n",
    "\n",
    "Note that setting works as well:\n",
    "\n",
    "With a DataFrame:\n",
    "\n",
    "Accessing via label slices:\n",
    "\n",
    "For getting a cross section using a label (equivalent to `df.xs('a')`):\n",
    "\n",
    "For getting values with a boolean array:\n",
    "\n",
    "For getting a value explicitly (equivalent to deprecated `df.get_value('a','A')`):\n",
    "\n",
    "\n",
    "<a id='indexing-slicing-with-labels'></a>"
   ]
  },
  {
   "cell_type": "markdown",
   "metadata": {},
   "source": [
    "### Slicing with labels\n",
    "\n",
    "When using `.loc` with slices, if both the start and the stop labels are\n",
    "present in the index, then elements *located* between the two (including them)\n",
    "are returned:\n",
    "\n",
    "If at least one of the two is absent, but the index is sorted, and can be\n",
    "compared against start and stop labels, then slicing will still work as\n",
    "expected, by selecting labels which *rank* between the two:\n",
    "\n",
    "However, if at least one of the two is absent *and* the index is not sorted, an\n",
    "error will be raised (since doing otherwise would be computationally expensive,\n",
    "as well as potentially ambiguous for mixed type indexes). For instance, in the\n",
    "above example, `s.loc[1:6]` would raise `KeyError`.\n",
    "\n",
    "For the rationale behind this behavior, see\n",
    "[Endpoints are inclusive](advanced.ipynb#advanced-endpoints-are-inclusive).\n",
    "\n",
    "\n",
    "<a id='indexing-integer'></a>"
   ]
  },
  {
   "cell_type": "markdown",
   "metadata": {},
   "source": [
    "## Selection by position\n",
    "\n",
    "Whether a copy or a reference is returned for a setting operation, may depend on the context.\n",
    "This is sometimes called `chained assignment` and should be avoided.\n",
    "See [Returning a View versus Copy](#indexing-view-versus-copy).\n",
    "\n",
    "Pandas provides a suite of methods in order to get **purely integer based indexing**. The semantics follow closely Python and NumPy slicing. These are `0-based` indexing. When slicing, the start bound is *included*, while the upper bound is *excluded*. Trying to use a non-integer, even a **valid** label will raise an `IndexError`.\n",
    "\n",
    "The `.iloc` attribute is the primary access method. The following are valid inputs:\n",
    "\n",
    "- An integer e.g. `5`.  \n",
    "- A list or array of integers `[4, 3, 0]`.  \n",
    "- A slice object with ints `1:7`.  \n",
    "- A boolean array.  \n",
    "- A `callable`, see [Selection By Callable](#indexing-callable).  \n",
    "\n",
    "\n",
    "Note that setting works as well:\n",
    "\n",
    "With a DataFrame:\n",
    "\n",
    "Select via integer slicing:\n",
    "\n",
    "Select via integer list:\n",
    "\n",
    "For getting a cross section using an integer position (equiv to `df.xs(1)`):\n",
    "\n",
    "Out of range slice indexes are handled gracefully just as in Python/Numpy.\n",
    "\n",
    "Note that using slices that go out of bounds can result in\n",
    "an empty axis (e.g. an empty DataFrame being returned).\n",
    "\n",
    "A single indexer that is out of bounds will raise an `IndexError`.\n",
    "A list of indexers where any element is out of bounds will raise an\n",
    "`IndexError`."
   ]
  },
  {
   "cell_type": "code",
   "execution_count": null,
   "metadata": {
    "hide-output": false
   },
   "outputs": [],
   "source": [
    ">>> dfl.iloc[[4, 5, 6]]\n",
    "IndexError: positional indexers are out-of-bounds\n",
    "\n",
    ">>> dfl.iloc[:, 4]\n",
    "IndexError: single positional indexer is out-of-bounds"
   ]
  },
  {
   "cell_type": "markdown",
   "metadata": {},
   "source": [
    "\n",
    "<a id='indexing-callable'></a>"
   ]
  },
  {
   "cell_type": "markdown",
   "metadata": {},
   "source": [
    "## Selection by callable\n",
    "\n",
    "New in version 0.18.1.\n",
    "\n",
    "`.loc`, `.iloc`, and also `[]` indexing can accept a `callable` as indexer.\n",
    "The `callable` must be a function with one argument (the calling Series or DataFrame) that returns valid output for indexing.\n",
    "\n",
    "You can use callable indexing in `Series`.\n",
    "\n",
    "Using these methods / indexers, you can chain data selection operations\n",
    "without using a temporary variable.\n",
    "\n",
    "\n",
    "<a id='indexing-deprecate-ix'></a>"
   ]
  },
  {
   "cell_type": "markdown",
   "metadata": {},
   "source": [
    "## IX indexer is deprecated\n",
    "\n",
    "Starting in 0.20.0, the `.ix` indexer is deprecated, in favor of the more strict `.iloc`\n",
    "and `.loc` indexers.\n",
    "\n",
    "`.ix` offers a lot of magic on the inference of what the user wants to do. To wit, `.ix` can decide\n",
    "to index *positionally* OR via *labels* depending on the data type of the index. This has caused quite a\n",
    "bit of user confusion over the years.\n",
    "\n",
    "The recommended methods of indexing are:\n",
    "\n",
    "- `.loc` if you want to *label* index.  \n",
    "- `.iloc` if you want to *positionally* index.  \n",
    "\n",
    "\n",
    "Previous behavior, where you wish to get the 0th and the 2nd elements from the index in the ‘A’ column."
   ]
  },
  {
   "cell_type": "markdown",
   "metadata": {
    "hide-output": false
   },
   "source": [
    "```ipython\n",
    "In [3]: dfd.ix[[0, 2], 'A']\n",
    "Out[3]:\n",
    "a    1\n",
    "c    3\n",
    "Name: A, dtype: int64\n",
    "```\n"
   ]
  },
  {
   "cell_type": "markdown",
   "metadata": {},
   "source": [
    "Using `.loc`. Here we will select the appropriate indexes from the index, then use *label* indexing.\n",
    "\n",
    "This can also be expressed using `.iloc`, by explicitly getting locations on the indexers, and using\n",
    "*positional* indexing to select things.\n",
    "\n",
    "For getting *multiple* indexers, using `.get_indexer`:\n",
    "\n",
    "\n",
    "<a id='deprecate-loc-reindex-listlike'></a>\n",
    "\n",
    "<a id='indexing-deprecate-loc-reindex-listlike'></a>"
   ]
  },
  {
   "cell_type": "markdown",
   "metadata": {},
   "source": [
    "## Indexing with list with missing labels is deprecated\n",
    "\n",
    "Starting in 0.21.0, using `.loc` or `[]` with a list with one or more missing labels, is deprecated, in favor of `.reindex`.\n",
    "\n",
    "In prior versions, using `.loc[list-of-labels]` would work as long as *at least 1* of the keys was found (otherwise it\n",
    "would raise a `KeyError`). This behavior is deprecated and will show a warning message pointing to this section. The\n",
    "recommended alternative is to use `.reindex()`.\n",
    "\n",
    "For example.\n",
    "\n",
    "Selection with all keys found is unchanged.\n",
    "\n",
    "Previous behavior"
   ]
  },
  {
   "cell_type": "markdown",
   "metadata": {
    "hide-output": false
   },
   "source": [
    "```ipython\n",
    "In [4]: s.loc[[1, 2, 3]]\n",
    "Out[4]:\n",
    "1    2.0\n",
    "2    3.0\n",
    "3    NaN\n",
    "dtype: float64\n",
    "```\n"
   ]
  },
  {
   "cell_type": "markdown",
   "metadata": {},
   "source": [
    "Current behavior"
   ]
  },
  {
   "cell_type": "markdown",
   "metadata": {
    "hide-output": false
   },
   "source": [
    "```ipython\n",
    "In [4]: s.loc[[1, 2, 3]]\n",
    "Passing list-likes to .loc with any non-matching elements will raise\n",
    "KeyError in the future, you can use .reindex() as an alternative.\n",
    "\n",
    "See the documentation here:\n",
    "http://pandas.pydata.org/pandas-docs/stable/indexing.html#deprecate-loc-reindex-listlike\n",
    "\n",
    "Out[4]:\n",
    "1    2.0\n",
    "2    3.0\n",
    "3    NaN\n",
    "dtype: float64\n",
    "```\n"
   ]
  },
  {
   "cell_type": "markdown",
   "metadata": {},
   "source": [
    "### Reindexing\n",
    "\n",
    "The idiomatic way to achieve selecting potentially not-found elements is via `.reindex()`. See also the section on [reindexing](getting_started/basics.ipynb#basics-reindexing).\n",
    "\n",
    "Alternatively, if you want to select only *valid* keys, the following is idiomatic and efficient; it is guaranteed to preserve the dtype of the selection.\n",
    "\n",
    "Having a duplicated index will raise for a `.reindex()`:"
   ]
  },
  {
   "cell_type": "markdown",
   "metadata": {
    "hide-output": false
   },
   "source": [
    "```ipython\n",
    "In [17]: s.reindex(labels)\n",
    "ValueError: cannot reindex from a duplicate axis\n",
    "```\n"
   ]
  },
  {
   "cell_type": "markdown",
   "metadata": {},
   "source": [
    "Generally, you can intersect the desired labels with the current\n",
    "axis, and then reindex.\n",
    "\n",
    "However, this would *still* raise if your resulting index is duplicated."
   ]
  },
  {
   "cell_type": "markdown",
   "metadata": {
    "hide-output": false
   },
   "source": [
    "```ipython\n",
    "In [41]: labels = ['a', 'd']\n",
    "\n",
    "In [42]: s.loc[s.index.intersection(labels)].reindex(labels)\n",
    "ValueError: cannot reindex from a duplicate axis\n",
    "```\n"
   ]
  },
  {
   "cell_type": "markdown",
   "metadata": {},
   "source": [
    "\n",
    "<a id='indexing-basics-partial-setting'></a>"
   ]
  },
  {
   "cell_type": "markdown",
   "metadata": {},
   "source": [
    "## Selecting random samples\n",
    "\n",
    "A random selection of rows or columns from a Series or DataFrame with the `sample()` method. The method will sample rows by default, and accepts a specific number of rows/columns to return, or a fraction of rows.\n",
    "\n",
    "By default, `sample` will return each row at most once, but one can also sample with replacement\n",
    "using the `replace` option:\n",
    "\n",
    "By default, each row has an equal probability of being selected, but if you want rows\n",
    "to have different probabilities, you can pass the `sample` function sampling weights as\n",
    "`weights`. These weights can be a list, a NumPy array, or a Series, but they must be of the same length as the object you are sampling. Missing values will be treated as a weight of zero, and inf values are not allowed. If weights do not sum to 1, they will be re-normalized by dividing all weights by the sum of the weights. For example:\n",
    "\n",
    "When applied to a DataFrame, you can use a column of the DataFrame as sampling weights\n",
    "(provided you are sampling rows and not columns) by simply passing the name of the column\n",
    "as a string.\n",
    "\n",
    "`sample` also allows users to sample columns instead of rows using the `axis` argument.\n",
    "\n",
    "Finally, one can also set a seed for `sample`’s random number generator using the `random_state` argument, which will accept either an integer (as a seed) or a NumPy RandomState object."
   ]
  },
  {
   "cell_type": "markdown",
   "metadata": {},
   "source": [
    "## Setting with enlargement\n",
    "\n",
    "The `.loc/[]` operations can perform enlargement when setting a non-existent key for that axis.\n",
    "\n",
    "In the `Series` case this is effectively an appending operation.\n",
    "\n",
    "A `DataFrame` can be enlarged on either axis via `.loc`.\n",
    "\n",
    "This is like an `append` operation on the `DataFrame`.\n",
    "\n",
    "\n",
    "<a id='indexing-basics-get-value'></a>"
   ]
  },
  {
   "cell_type": "markdown",
   "metadata": {},
   "source": [
    "## Fast scalar value getting and setting\n",
    "\n",
    "Since indexing with `[]` must handle a lot of cases (single-label access,\n",
    "slicing, boolean indexing, etc.), it has a bit of overhead in order to figure\n",
    "out what you’re asking for. If you only want to access a scalar value, the\n",
    "fastest way is to use the `at` and `iat` methods, which are implemented on\n",
    "all of the data structures.\n",
    "\n",
    "Similarly to `loc`, `at` provides **label** based scalar lookups, while, `iat` provides **integer** based lookups analogously to `iloc`\n",
    "\n",
    "You can also set using these same indexers.\n",
    "\n",
    "`at` may enlarge the object in-place as above if the indexer is missing."
   ]
  },
  {
   "cell_type": "markdown",
   "metadata": {},
   "source": [
    "## Boolean indexing\n",
    "\n",
    "\n",
    "<a id='indexing-boolean'></a>\n",
    "Another common operation is the use of boolean vectors to filter the data.\n",
    "The operators are: `|` for `or`, `&` for `and`, and `~` for `not`.\n",
    "These **must** be grouped by using parentheses, since by default Python will\n",
    "evaluate an expression such as `df.A > 2 & df.B < 3` as\n",
    "`df.A > (2 & df.B) < 3`, while the desired evaluation order is\n",
    "`(df.A > 2) & (df.B < 3)`.\n",
    "\n",
    "Using a boolean vector to index a Series works exactly as in a NumPy ndarray:\n",
    "\n",
    "You may select rows from a DataFrame using a boolean vector the same length as\n",
    "the DataFrame’s index (for example, something derived from one of the columns\n",
    "of the DataFrame):\n",
    "\n",
    "List comprehensions and the `map` method of Series can also be used to produce\n",
    "more complex criteria:\n",
    "\n",
    "With the choice methods [Selection by Label](#indexing-label), [Selection by Position](#indexing-integer),\n",
    "and [Advanced Indexing](advanced.ipynb#advanced) you may select along more than one axis using boolean vectors combined with other indexing expressions.\n",
    "\n",
    "\n",
    "<a id='indexing-basics-indexing-isin'></a>"
   ]
  },
  {
   "cell_type": "markdown",
   "metadata": {},
   "source": [
    "## Indexing with isin\n",
    "\n",
    "Consider the `isin()` method of `Series`, which returns a boolean\n",
    "vector that is true wherever the `Series` elements exist in the passed list.\n",
    "This allows you to select rows where one or more columns have values you want:\n",
    "\n",
    "The same method is available for `Index` objects and is useful for the cases\n",
    "when you don’t know which of the sought labels are in fact present:\n",
    "\n",
    "In addition to that, `MultiIndex` allows selecting a separate level to use\n",
    "in the membership check:\n",
    "\n",
    "DataFrame also has an `isin()` method.  When calling `isin`, pass a set of\n",
    "values as either an array or dict.  If values is an array, `isin` returns\n",
    "a DataFrame of booleans that is the same shape as the original DataFrame, with True\n",
    "wherever the element is in the sequence of values.\n",
    "\n",
    "Oftentimes you’ll want to match certain values with certain columns.\n",
    "Just make values a `dict` where the key is the column, and the value is\n",
    "a list of items you want to check for.\n",
    "\n",
    "Combine DataFrame’s `isin` with the `any()` and `all()` methods to\n",
    "quickly select subsets of your data that meet a given criteria.\n",
    "To select a row where each column meets its own criterion:\n",
    "\n",
    "\n",
    "<a id='indexing-where-mask'></a>"
   ]
  },
  {
   "cell_type": "markdown",
   "metadata": {},
   "source": [
    "## The `where()` Method and Masking\n",
    "\n",
    "Selecting values from a Series with a boolean vector generally returns a\n",
    "subset of the data. To guarantee that selection output has the same shape as\n",
    "the original data, you can use the `where` method in `Series` and `DataFrame`.\n",
    "\n",
    "To return only the selected rows:\n",
    "\n",
    "To return a Series of the same shape as the original:\n",
    "\n",
    "Selecting values from a DataFrame with a boolean criterion now also preserves\n",
    "input data shape. `where` is used under the hood as the implementation.\n",
    "The code below is equivalent to `df.where(df < 0)`.\n",
    "\n",
    "In addition, `where` takes an optional `other` argument for replacement of\n",
    "values where the condition is False, in the returned copy.\n",
    "\n",
    "You may wish to set values based on some boolean criteria.\n",
    "This can be done intuitively like so:\n",
    "\n",
    "By default, `where` returns a modified copy of the data. There is an\n",
    "optional parameter `inplace` so that the original data can be modified\n",
    "without creating a copy:\n",
    "\n",
    ">**Note**\n",
    ">\n",
    ">The signature for `DataFrame.where()` differs from [`numpy.where()`](https://docs.scipy.org/doc/numpy/reference/generated/numpy.where.html#numpy.where).\n",
    "Roughly `df1.where(m, df2)` is equivalent to `np.where(m, df1, df2)`.\n",
    "\n",
    "**Alignment**\n",
    "\n",
    "Furthermore, `where` aligns the input boolean condition (ndarray or DataFrame),\n",
    "such that partial selection with setting is possible. This is analogous to\n",
    "partial setting via `.loc` (but on the contents rather than the axis labels).\n",
    "\n",
    "Where can also accept `axis` and `level` parameters to align the input when\n",
    "performing the `where`.\n",
    "\n",
    "This is equivalent to (but faster than) the following.\n",
    "\n",
    "New in version 0.18.1.\n",
    "\n",
    "Where can accept a callable as condition and `other` arguments. The function must\n",
    "be with one argument (the calling Series or DataFrame) and that returns valid output\n",
    "as condition and `other` argument."
   ]
  },
  {
   "cell_type": "markdown",
   "metadata": {},
   "source": [
    "### Mask\n",
    "\n",
    "`mask()` is the inverse boolean operation of `where`.\n",
    "\n",
    "\n",
    "<a id='indexing-query'></a>"
   ]
  },
  {
   "cell_type": "markdown",
   "metadata": {},
   "source": [
    "## The `query()` Method\n",
    "\n",
    "`DataFrame` objects have a `query()`\n",
    "method that allows selection using an expression.\n",
    "\n",
    "You can get the value of the frame where column `b` has values\n",
    "between the values of columns `a` and `c`. For example:\n",
    "\n",
    "Do the same thing but fall back on a named index if there is no column\n",
    "with the name `a`.\n",
    "\n",
    "If instead you don’t want to or cannot name your index, you can use the name\n",
    "`index` in your query expression:\n",
    "\n",
    ">**Note**\n",
    ">\n",
    ">If the name of your index overlaps with a column name, the column name is\n",
    "given precedence. For example,\n",
    "\n",
    "You can still use the index in a query expression by using the special\n",
    "identifier ‘index’:\n",
    "\n",
    "If for some reason you have a column named `index`, then you can refer to\n",
    "the index as `ilevel_0` as well, but at this point you should consider\n",
    "renaming your columns to something less ambiguous."
   ]
  },
  {
   "cell_type": "markdown",
   "metadata": {},
   "source": [
    "### `MultiIndex` `query()` Syntax\n",
    "\n",
    "You can also use the levels of a `DataFrame` with a\n",
    "`MultiIndex` as if they were columns in the frame:\n",
    "\n",
    "If the levels of the `MultiIndex` are unnamed, you can refer to them using\n",
    "special names:\n",
    "\n",
    "The convention is `ilevel_0`, which means “index level 0” for the 0th level\n",
    "of the `index`."
   ]
  },
  {
   "cell_type": "markdown",
   "metadata": {},
   "source": [
    "### `query()` Use Cases\n",
    "\n",
    "A use case for `query()` is when you have a collection of\n",
    "`DataFrame` objects that have a subset of column names (or index\n",
    "levels/names) in common. You can pass the same query to both frames *without*\n",
    "having to specify which frame you’re interested in querying"
   ]
  },
  {
   "cell_type": "markdown",
   "metadata": {},
   "source": [
    "### `query()` Python versus pandas Syntax Comparison\n",
    "\n",
    "Full numpy-like syntax:\n",
    "\n",
    "Slightly nicer by removing the parentheses (by binding making comparison\n",
    "operators bind tighter than `&` and `|`).\n",
    "\n",
    "Use English instead of symbols:\n",
    "\n",
    "Pretty close to how you might write it on paper:"
   ]
  },
  {
   "cell_type": "markdown",
   "metadata": {},
   "source": [
    "### The `in` and `not in` operators\n",
    "\n",
    "`query()` also supports special use of Python’s `in` and\n",
    "`not in` comparison operators, providing a succinct syntax for calling the\n",
    "`isin` method of a `Series` or `DataFrame`.\n",
    "\n",
    "You can combine this with other expressions for very succinct queries:\n",
    "\n",
    ">**Note**\n",
    ">\n",
    ">Note that `in` and `not in` are evaluated in Python, since `numexpr`\n",
    "has no equivalent of this operation. However, **only the** `in`/`not in`\n",
    "**expression itself** is evaluated in vanilla Python. For example, in the\n",
    "expression"
   ]
  },
  {
   "cell_type": "code",
   "execution_count": null,
   "metadata": {
    "hide-output": false
   },
   "outputs": [],
   "source": [
    "df.query('a in b + c + d')"
   ]
  },
  {
   "cell_type": "markdown",
   "metadata": {},
   "source": [
    "`(b + c + d)` is evaluated by `numexpr` and *then* the `in`\n",
    "operation is evaluated in plain Python. In general, any operations that can\n",
    "be evaluated using `numexpr` will be."
   ]
  },
  {
   "cell_type": "markdown",
   "metadata": {},
   "source": [
    "### Special use of the `==` operator with `list` objects\n",
    "\n",
    "Comparing a `list` of values to a column using `==`/`!=` works similarly\n",
    "to `in`/`not in`."
   ]
  },
  {
   "cell_type": "markdown",
   "metadata": {},
   "source": [
    "### Boolean operators\n",
    "\n",
    "You can negate boolean expressions with the word `not` or the `~` operator.\n",
    "\n",
    "Of course, expressions can be arbitrarily complex too:"
   ]
  },
  {
   "cell_type": "markdown",
   "metadata": {},
   "source": [
    "### Performance of `query()`\n",
    "\n",
    "`DataFrame.query()` using `numexpr` is slightly faster than Python for\n",
    "large frames.\n",
    "\n",
    "<img src=\"user_guide/../_static/query-perf.png\" style=\"\">\n",
    "\n",
    ">**Note**\n",
    ">\n",
    ">You will only see the performance benefits of using the `numexpr` engine\n",
    "with `DataFrame.query()` if your frame has more than approximately 200,000\n",
    "rows.\n",
    "\n",
    "> <img src=\"user_guide/../_static/query-perf-small.png\" style=\"\">\n",
    "\n",
    "\n",
    "This plot was created using a `DataFrame` with 3 columns each containing\n",
    "floating point values generated using `numpy.random.randn()`."
   ]
  },
  {
   "cell_type": "markdown",
   "metadata": {},
   "source": [
    "## Duplicate data\n",
    "\n",
    "\n",
    "<a id='indexing-duplicate'></a>\n",
    "If you want to identify and remove duplicate rows in a DataFrame,  there are\n",
    "two methods that will help: `duplicated` and `drop_duplicates`. Each\n",
    "takes as an argument the columns to use to identify duplicated rows.\n",
    "\n",
    "- `duplicated` returns a boolean vector whose length is the number of rows, and which indicates whether a row is duplicated.  \n",
    "- `drop_duplicates` removes duplicate rows.  \n",
    "\n",
    "\n",
    "By default, the first observed row of a duplicate set is considered unique, but\n",
    "each method has a `keep` parameter to specify targets to be kept.\n",
    "\n",
    "- `keep='first'` (default): mark / drop duplicates except for the first occurrence.  \n",
    "- `keep='last'`: mark / drop duplicates except for the last occurrence.  \n",
    "- `keep=False`: mark  / drop all duplicates.  \n",
    "\n",
    "\n",
    "Also, you can pass a list of columns to identify duplications.\n",
    "\n",
    "To drop duplicates by index value, use `Index.duplicated` then perform slicing.\n",
    "The same set of options are available for the `keep` parameter.\n",
    "\n",
    "\n",
    "<a id='indexing-dictionarylike'></a>"
   ]
  },
  {
   "cell_type": "markdown",
   "metadata": {},
   "source": [
    "## Dictionary-like `get()` method\n",
    "\n",
    "Each of Series or DataFrame have a `get` method which can return a\n",
    "default value."
   ]
  },
  {
   "cell_type": "markdown",
   "metadata": {},
   "source": [
    "## The `lookup()` method\n",
    "\n",
    "Sometimes you want to extract a set of values given a sequence of row labels\n",
    "and column labels, and the `lookup` method allows for this and returns a\n",
    "NumPy array.  For instance:\n",
    "\n",
    "\n",
    "<a id='indexing-class'></a>"
   ]
  },
  {
   "cell_type": "markdown",
   "metadata": {},
   "source": [
    "## Index objects\n",
    "\n",
    "The pandas `Index` class and its subclasses can be viewed as\n",
    "implementing an *ordered multiset*. Duplicates are allowed. However, if you try\n",
    "to convert an `Index` object with duplicate entries into a\n",
    "`set`, an exception will be raised.\n",
    "\n",
    "`Index` also provides the infrastructure necessary for\n",
    "lookups, data alignment, and reindexing. The easiest way to create an\n",
    "`Index` directly is to pass a `list` or other sequence to\n",
    "`Index`:\n",
    "\n",
    "You can also pass a `name` to be stored in the index:\n",
    "\n",
    "The name, if set, will be shown in the console display:\n",
    "\n",
    "\n",
    "<a id='indexing-set-metadata'></a>"
   ]
  },
  {
   "cell_type": "markdown",
   "metadata": {},
   "source": [
    "### Setting metadata\n",
    "\n",
    "Indexes are “mostly immutable”, but it is possible to set and change their\n",
    "metadata, like the index `name` (or, for `MultiIndex`, `levels` and\n",
    "`codes`).\n",
    "\n",
    "You can use the `rename`, `set_names`, `set_levels`, and `set_codes`\n",
    "to set these attributes directly. They default to returning a copy; however,\n",
    "you can specify `inplace=True` to have the data change in place.\n",
    "\n",
    "See [Advanced Indexing](advanced.ipynb#advanced) for usage of MultiIndexes.\n",
    "\n",
    "`set_names`, `set_levels`, and `set_codes` also take an optional\n",
    "`level` argument\n",
    "\n",
    "\n",
    "<a id='indexing-set-ops'></a>"
   ]
  },
  {
   "cell_type": "markdown",
   "metadata": {},
   "source": [
    "### Set operations on Index objects\n",
    "\n",
    "The two main operations are `union (|)` and `intersection (&)`.\n",
    "These can be directly called as instance methods or used via overloaded\n",
    "operators. Difference is provided via the `.difference()` method.\n",
    "\n",
    "Also available is the `symmetric_difference (^)` operation, which returns elements\n",
    "that appear in either `idx1` or `idx2`, but not in both. This is\n",
    "equivalent to the Index created by `idx1.difference(idx2).union(idx2.difference(idx1))`,\n",
    "with duplicates dropped.\n",
    "\n",
    ">**Note**\n",
    ">\n",
    ">The resulting index from a set operation will be sorted in ascending order.\n",
    "\n",
    "When performing `Index.union()` between indexes with different dtypes, the indexes\n",
    "must be cast to a common dtype. Typically, though not always, this is object dtype. The\n",
    "exception is when performing a union between integer and float data. In this case, the\n",
    "integer values are converted to float\n",
    "\n",
    "\n",
    "<a id='indexing-missing'></a>"
   ]
  },
  {
   "cell_type": "markdown",
   "metadata": {},
   "source": [
    "### Missing values\n",
    "\n",
    "Even though `Index` can hold missing values (`NaN`), it should be avoided\n",
    "if you do not want any unexpected results. For example, some operations\n",
    "exclude missing values implicitly.\n",
    "\n",
    "`Index.fillna` fills missing values with specified scalar value."
   ]
  },
  {
   "cell_type": "markdown",
   "metadata": {},
   "source": [
    "## Set / reset index\n",
    "\n",
    "Occasionally you will load or create a data set into a DataFrame and want to\n",
    "add an index after you’ve already done so. There are a couple of different\n",
    "ways.\n",
    "\n",
    "\n",
    "<a id='indexing-set-index'></a>"
   ]
  },
  {
   "cell_type": "markdown",
   "metadata": {},
   "source": [
    "### Set an index\n",
    "\n",
    "DataFrame has a `set_index()` method which takes a column name\n",
    "(for a regular `Index`) or a list of column names (for a `MultiIndex`).\n",
    "To create a new, re-indexed DataFrame:\n",
    "\n",
    "The `append` keyword option allow you to keep the existing index and append\n",
    "the given columns to a MultiIndex:\n",
    "\n",
    "Other options in `set_index` allow you not drop the index columns or to add\n",
    "the index in-place (without creating a new object):"
   ]
  },
  {
   "cell_type": "markdown",
   "metadata": {},
   "source": [
    "### Reset the index\n",
    "\n",
    "As a convenience, there is a new function on DataFrame called\n",
    "`reset_index()` which transfers the index values into the\n",
    "DataFrame’s columns and sets a simple integer index.\n",
    "This is the inverse operation of `set_index()`.\n",
    "\n",
    "The output is more similar to a SQL table or a record array. The names for the\n",
    "columns derived from the index are the ones stored in the `names` attribute.\n",
    "\n",
    "You can use the `level` keyword to remove only a portion of the index:\n",
    "\n",
    "`reset_index` takes an optional parameter `drop` which if true simply\n",
    "discards the index, instead of putting index values in the DataFrame’s columns."
   ]
  },
  {
   "cell_type": "markdown",
   "metadata": {},
   "source": [
    "### Adding an ad hoc index\n",
    "\n",
    "If you create an index yourself, you can just assign it to the `index` field:"
   ]
  },
  {
   "cell_type": "code",
   "execution_count": null,
   "metadata": {
    "hide-output": false
   },
   "outputs": [],
   "source": [
    "data.index = index"
   ]
  },
  {
   "cell_type": "markdown",
   "metadata": {},
   "source": [
    "\n",
    "<a id='indexing-view-versus-copy'></a>"
   ]
  },
  {
   "cell_type": "markdown",
   "metadata": {},
   "source": [
    "## Returning a view versus a copy\n",
    "\n",
    "When setting values in a pandas object, care must be taken to avoid what is called\n",
    "`chained indexing`. Here is an example.\n",
    "\n",
    "Compare these two access methods:\n",
    "\n",
    "These both yield the same results, so which should you use? It is instructive to understand the order\n",
    "of operations on these and why method 2 (`.loc`) is much preferred over method 1 (chained `[]`).\n",
    "\n",
    "`dfmi['one']` selects the first level of the columns and returns a DataFrame that is singly-indexed.\n",
    "Then another Python operation `dfmi_with_one['second']` selects the series indexed by `'second'`.\n",
    "This is indicated by the variable `dfmi_with_one` because pandas sees these operations as separate events.\n",
    "e.g. separate calls to `__getitem__`, so it has to treat them as linear operations, they happen one after another.\n",
    "\n",
    "Contrast this to `df.loc[:,('one','second')]` which passes a nested tuple of `(slice(None),('one','second'))` to a single call to\n",
    "`__getitem__`. This allows pandas to deal with this as a single entity. Furthermore this order of operations *can* be significantly\n",
    "faster, and allows one to index *both* axes if so desired."
   ]
  },
  {
   "cell_type": "markdown",
   "metadata": {},
   "source": [
    "### Why does assignment fail when using chained indexing?\n",
    "\n",
    "The problem in the previous section is just a performance issue. What’s up with\n",
    "the `SettingWithCopy` warning? We don’t **usually** throw warnings around when\n",
    "you do something that might cost a few extra milliseconds!\n",
    "\n",
    "But it turns out that assigning to the product of chained indexing has\n",
    "inherently unpredictable results. To see this, think about how the Python\n",
    "interpreter executes this code:"
   ]
  },
  {
   "cell_type": "code",
   "execution_count": null,
   "metadata": {
    "hide-output": false
   },
   "outputs": [],
   "source": [
    "dfmi.loc[:, ('one', 'second')] = value\n",
    "# becomes\n",
    "dfmi.loc.__setitem__((slice(None), ('one', 'second')), value)"
   ]
  },
  {
   "cell_type": "markdown",
   "metadata": {},
   "source": [
    "But this code is handled differently:"
   ]
  },
  {
   "cell_type": "code",
   "execution_count": null,
   "metadata": {
    "hide-output": false
   },
   "outputs": [],
   "source": [
    "dfmi['one']['second'] = value\n",
    "# becomes\n",
    "dfmi.__getitem__('one').__setitem__('second', value)"
   ]
  },
  {
   "cell_type": "markdown",
   "metadata": {},
   "source": [
    "See that `__getitem__` in there? Outside of simple cases, it’s very hard to\n",
    "predict whether it will return a view or a copy (it depends on the memory layout\n",
    "of the array, about which pandas makes no guarantees), and therefore whether\n",
    "the `__setitem__` will modify `dfmi` or a temporary object that gets thrown\n",
    "out immediately afterward. **That’s** what `SettingWithCopy` is warning you\n",
    "about!\n",
    "\n",
    ">**Note**\n",
    ">\n",
    ">You may be wondering whether we should be concerned about the `loc`\n",
    "property in the first example. But `dfmi.loc` is guaranteed to be `dfmi`\n",
    "itself with modified indexing behavior, so `dfmi.loc.__getitem__` /\n",
    "`dfmi.loc.__setitem__` operate on `dfmi` directly. Of course,\n",
    "`dfmi.loc.__getitem__(idx)` may be a view or a copy of `dfmi`.\n",
    "\n",
    "Sometimes a `SettingWithCopy` warning will arise at times when there’s no\n",
    "obvious chained indexing going on. **These** are the bugs that\n",
    "`SettingWithCopy` is designed to catch! Pandas is probably trying to warn you\n",
    "that you’ve done this:"
   ]
  },
  {
   "cell_type": "code",
   "execution_count": null,
   "metadata": {
    "hide-output": false
   },
   "outputs": [],
   "source": [
    "def do_something(df):\n",
    "    foo = df[['bar', 'baz']]  # Is foo a view? A copy? Nobody knows!\n",
    "    # ... many lines here ...\n",
    "    # We don't know whether this will modify df or not!\n",
    "    foo['quux'] = value\n",
    "    return foo"
   ]
  },
  {
   "cell_type": "markdown",
   "metadata": {},
   "source": [
    "Yikes!\n",
    "\n",
    "\n",
    "<a id='indexing-evaluation-order'></a>"
   ]
  },
  {
   "cell_type": "markdown",
   "metadata": {},
   "source": [
    "### Evaluation order matters\n",
    "\n",
    "When you use chained indexing, the order and type of the indexing operation\n",
    "partially determine whether the result is a slice into the original object, or\n",
    "a copy of the slice.\n",
    "\n",
    "Pandas has the `SettingWithCopyWarning` because assigning to a copy of a\n",
    "slice is frequently not intentional, but a mistake caused by chained indexing\n",
    "returning a copy where a slice was expected.\n",
    "\n",
    "If you would like pandas to be more or less trusting about assignment to a\n",
    "chained indexing expression, you can set the [option](options.ipynb#options)\n",
    "`mode.chained_assignment` to one of these values:\n",
    "\n",
    "- `'warn'`, the default, means a `SettingWithCopyWarning` is printed.  \n",
    "- `'raise'` means pandas will raise a `SettingWithCopyException`\n",
    "  you have to deal with.  \n",
    "- `None` will suppress the warnings entirely.  \n",
    "\n",
    "\n",
    "This however is operating on a copy and will not work."
   ]
  },
  {
   "cell_type": "code",
   "execution_count": null,
   "metadata": {
    "hide-output": false
   },
   "outputs": [],
   "source": [
    ">>> pd.set_option('mode.chained_assignment','warn')\n",
    ">>> dfb[dfb.a.str.startswith('o')]['c'] = 42\n",
    "Traceback (most recent call last)\n",
    "     ...\n",
    "SettingWithCopyWarning:\n",
    "     A value is trying to be set on a copy of a slice from a DataFrame.\n",
    "     Try using .loc[row_index,col_indexer] = value instead"
   ]
  },
  {
   "cell_type": "markdown",
   "metadata": {},
   "source": [
    "A chained assignment can also crop up in setting in a mixed dtype frame.\n",
    "\n",
    ">**Note**\n",
    ">\n",
    ">These setting rules apply to all of `.loc/.iloc`.\n",
    "\n",
    "This is the correct access method:\n",
    "\n",
    "This *can* work at times, but it is not guaranteed to, and therefore should be avoided:\n",
    "\n",
    "This will **not** work at all, and so should be avoided:"
   ]
  },
  {
   "cell_type": "code",
   "execution_count": null,
   "metadata": {
    "hide-output": false
   },
   "outputs": [],
   "source": [
    ">>> pd.set_option('mode.chained_assignment','raise')\n",
    ">>> dfc.loc[0]['A'] = 1111\n",
    "Traceback (most recent call last)\n",
    "     ...\n",
    "SettingWithCopyException:\n",
    "     A value is trying to be set on a copy of a slice from a DataFrame.\n",
    "     Try using .loc[row_index,col_indexer] = value instead"
   ]
  },
  {
   "cell_type": "markdown",
   "metadata": {},
   "source": [
    "The chained assignment warnings / exceptions are aiming to inform the user of a possibly invalid\n",
    "assignment. There may be false positives; situations where a chained assignment is inadvertently\n",
    "reported."
   ]
  }
 ],
 "metadata": {
  "filename": "indexing.rst",
  "kernelspec": {
   "display_name": "Python",
   "language": "python3",
   "name": "python3"
  },
  "title": "Indexing and selecting data"
 },
 "nbformat": 4,
 "nbformat_minor": 2
}