{
 "cells": [
  {
   "cell_type": "markdown",
   "metadata": {},
   "source": [
    "\n",
    "<a id='timedeltas'></a>\n",
    "{{ header }}\n",
    "\n",
    "\n",
    "<a id='timedeltas-timedeltas'></a>"
   ]
  },
  {
   "cell_type": "markdown",
   "metadata": {},
   "source": [
    "# Time deltas\n",
    "\n",
    "Timedeltas are differences in times, expressed in difference units, e.g. days, hours, minutes,\n",
    "seconds. They can be both positive and negative.\n",
    "\n",
    "`Timedelta` is a subclass of `datetime.timedelta`, and behaves in a similar manner,\n",
    "but allows compatibility with `np.timedelta64` types as well as a host of custom representation,\n",
    "parsing, and attributes."
   ]
  },
  {
   "cell_type": "markdown",
   "metadata": {},
   "source": [
    "## Parsing\n",
    "\n",
    "You can construct a `Timedelta` scalar through various arguments:\n",
    "\n",
    "New in version 0.23.0: Added constructor for [ISO 8601 Duration](https://en.wikipedia.org/wiki/ISO_8601#Durations) strings\n",
    "\n",
    "[DateOffsets](timeseries.ipynb#timeseries-offsets) (`Day, Hour, Minute, Second, Milli, Micro, Nano`) can also be used in construction.\n",
    "\n",
    "Further, operations among the scalars yield another scalar `Timedelta`."
   ]
  },
  {
   "cell_type": "markdown",
   "metadata": {},
   "source": [
    "### to_timedelta\n",
    "\n",
    "Using the top-level `pd.to_timedelta`, you can convert a scalar, array, list,\n",
    "or Series from a recognized timedelta format / value into a `Timedelta` type.\n",
    "It will construct Series if the input is a Series, a scalar if the input is\n",
    "scalar-like, otherwise it will output a `TimedeltaIndex`.\n",
    "\n",
    "You can parse a single string to a Timedelta:\n",
    "\n",
    "or a list/array of strings:\n",
    "\n",
    "The `unit` keyword argument specifies the unit of the Timedelta:\n",
    "\n",
    "\n",
    "<a id='timedeltas-limitations'></a>"
   ]
  },
  {
   "cell_type": "markdown",
   "metadata": {},
   "source": [
    "### Timedelta limitations\n",
    "\n",
    "Pandas represents `Timedeltas` in nanosecond resolution using\n",
    "64 bit integers. As such, the 64 bit integer limits determine\n",
    "the `Timedelta` limits.\n",
    "\n",
    "\n",
    "<a id='timedeltas-operations'></a>"
   ]
  },
  {
   "cell_type": "markdown",
   "metadata": {},
   "source": [
    "## Operations\n",
    "\n",
    "You can operate on Series/DataFrames and construct `timedelta64[ns]` Series through\n",
    "subtraction operations on `datetime64[ns]` Series, or `Timestamps`.\n",
    "\n",
    "Operations with scalars from a `timedelta64[ns]` series:\n",
    "\n",
    "Series of timedeltas with `NaT` values are supported:\n",
    "\n",
    "Elements can be set to `NaT` using `np.nan` analogously to datetimes:\n",
    "\n",
    "Operands can also appear in a reversed order (a singular object operated with a Series):\n",
    "\n",
    "`min, max` and the corresponding `idxmin, idxmax` operations are supported on frames:\n",
    "\n",
    "`min, max, idxmin, idxmax` operations are supported on Series as well. A scalar result will be a `Timedelta`.\n",
    "\n",
    "You can fillna on timedeltas, passing a timedelta to get a particular value.\n",
    "\n",
    "You can also negate, multiply and use `abs` on `Timedeltas`:\n",
    "\n",
    "\n",
    "<a id='timedeltas-timedeltas-reductions'></a>"
   ]
  },
  {
   "cell_type": "markdown",
   "metadata": {},
   "source": [
    "## Reductions\n",
    "\n",
    "Numeric reduction operation for `timedelta64[ns]` will return `Timedelta` objects. As usual\n",
    "`NaT` are skipped during evaluation.\n",
    "\n",
    "\n",
    "<a id='timedeltas-timedeltas-convert'></a>"
   ]
  },
  {
   "cell_type": "markdown",
   "metadata": {},
   "source": [
    "## Frequency conversion\n",
    "\n",
    "Timedelta Series, `TimedeltaIndex`, and `Timedelta` scalars can be converted to other ‘frequencies’ by dividing by another timedelta,\n",
    "or by astyping to a specific timedelta type. These operations yield Series and propagate `NaT` -> `nan`.\n",
    "Note that division by the NumPy scalar is true division, while astyping is equivalent of floor division.\n",
    "\n",
    "Dividing or multiplying a `timedelta64[ns]` Series by an integer or integer Series\n",
    "yields another `timedelta64[ns]` dtypes Series.\n",
    "\n",
    "Rounded division (floor-division) of a `timedelta64[ns]` Series by a scalar\n",
    "`Timedelta` gives a series of integers.\n",
    "\n",
    "\n",
    "<a id='timedeltas-mod-divmod'></a>\n",
    "The mod (%) and divmod operations are defined for `Timedelta` when operating with another timedelta-like or with a numeric argument."
   ]
  },
  {
   "cell_type": "markdown",
   "metadata": {},
   "source": [
    "## Attributes\n",
    "\n",
    "You can access various components of the `Timedelta` or `TimedeltaIndex` directly using the attributes `days,seconds,microseconds,nanoseconds`. These are identical to the values returned by `datetime.timedelta`, in that, for example, the `.seconds` attribute represents the number of seconds >= 0 and < 1 day. These are signed according to whether the `Timedelta` is signed.\n",
    "\n",
    "These operations can also be directly accessed via the `.dt` property of the `Series` as well.\n",
    "\n",
    ">**Note**\n",
    ">\n",
    ">Note that the attributes are NOT the displayed values of the `Timedelta`. Use `.components` to retrieve the displayed values.\n",
    "\n",
    "For a `Series`:\n",
    "\n",
    "You can access the value of the fields for a scalar `Timedelta` directly.\n",
    "\n",
    "You can use the `.components` property to access a reduced form of the timedelta. This returns a `DataFrame` indexed\n",
    "similarly to the `Series`. These are the *displayed* values of the `Timedelta`.\n",
    "\n",
    "\n",
    "<a id='timedeltas-isoformat'></a>\n",
    "You can convert a `Timedelta` to an [ISO 8601 Duration](https://en.wikipedia.org/wiki/ISO_8601#Durations) string with the\n",
    "`.isoformat` method\n",
    "\n",
    "New in version 0.20.0.\n",
    "\n",
    "\n",
    "<a id='timedeltas-index'></a>"
   ]
  },
  {
   "cell_type": "markdown",
   "metadata": {},
   "source": [
    "## TimedeltaIndex\n",
    "\n",
    "To generate an index with time delta, you can use either the `TimedeltaIndex` or\n",
    "the `timedelta_range()` constructor.\n",
    "\n",
    "Using `TimedeltaIndex` you can pass string-like, `Timedelta`, `timedelta`,\n",
    "or `np.timedelta64` objects. Passing `np.nan/pd.NaT/nat` will represent missing values.\n",
    "\n",
    "The string ‘infer’ can be passed in order to set the frequency of the index as the\n",
    "inferred frequency upon creation:"
   ]
  },
  {
   "cell_type": "markdown",
   "metadata": {},
   "source": [
    "### Generating ranges of time deltas\n",
    "\n",
    "Similar to `date_range()`, you can construct regular ranges of a `TimedeltaIndex`\n",
    "using `timedelta_range()`.  The default frequency for `timedelta_range` is\n",
    "calendar day:\n",
    "\n",
    "Various combinations of `start`, `end`, and `periods` can be used with\n",
    "`timedelta_range`:\n",
    "\n",
    "The `freq` parameter can passed a variety of [frequency aliases](timeseries.ipynb#timeseries-offset-aliases):\n",
    "\n",
    "New in version 0.23.0.\n",
    "\n",
    "Specifying `start`, `end`, and `periods` will generate a range of evenly spaced\n",
    "timedeltas from `start` to `end` inclusively, with `periods` number of elements\n",
    "in the resulting `TimedeltaIndex`:"
   ]
  },
  {
   "cell_type": "markdown",
   "metadata": {},
   "source": [
    "### Using the TimedeltaIndex\n",
    "\n",
    "Similarly to other of the datetime-like indices, `DatetimeIndex` and `PeriodIndex`, you can use\n",
    "`TimedeltaIndex` as the index of pandas objects.\n",
    "\n",
    "Selections work similarly, with coercion on string-likes and slices:\n",
    "\n",
    "Furthermore you can use partial string selection and the range will be inferred:"
   ]
  },
  {
   "cell_type": "markdown",
   "metadata": {},
   "source": [
    "### Operations\n",
    "\n",
    "Finally, the combination of `TimedeltaIndex` with `DatetimeIndex` allow certain combination operations that are NaT preserving:"
   ]
  },
  {
   "cell_type": "markdown",
   "metadata": {},
   "source": [
    "### Conversions\n",
    "\n",
    "Similarly to frequency conversion on a `Series` above, you can convert these indices to yield another Index.\n",
    "\n",
    "Scalars type ops work as well. These can potentially return a *different* type of index.\n",
    "\n",
    "\n",
    "<a id='timedeltas-resampling'></a>"
   ]
  },
  {
   "cell_type": "markdown",
   "metadata": {},
   "source": [
    "## Resampling\n",
    "\n",
    "Similar to [timeseries resampling](timeseries.ipynb#timeseries-resampling), we can resample with a `TimedeltaIndex`."
   ]
  }
 ],
 "metadata": {
  "filename": "timedeltas.rst",
  "kernelspec": {
   "display_name": "Python",
   "language": "python3",
   "name": "python3"
  },
  "title": "Time deltas"
 },
 "nbformat": 4,
 "nbformat_minor": 2
}