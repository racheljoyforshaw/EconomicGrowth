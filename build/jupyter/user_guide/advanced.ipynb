{
 "cells": [
  {
   "cell_type": "markdown",
   "metadata": {},
   "source": [
    "\n",
    "<a id='advanced'></a>\n",
    "{{ header }}"
   ]
  },
  {
   "cell_type": "markdown",
   "metadata": {},
   "source": [
    "# MultiIndex / advanced indexing\n",
    "\n",
    "This section covers [indexing with a MultiIndex](#advanced-hierarchical)\n",
    "and [other advanced indexing features](#indexing-index-types).\n",
    "\n",
    "See the [Indexing and Selecting Data](indexing.ipynb#indexing) for general indexing documentation.\n",
    "\n",
    "Whether a copy or a reference is returned for a setting operation may\n",
    "depend on the context.  This is sometimes called `chained assignment` and\n",
    "should be avoided.  See [Returning a View versus Copy](indexing.ipynb#indexing-view-versus-copy).\n",
    "\n",
    "See the [cookbook](cookbook.ipynb#cookbook-selection) for some advanced strategies.\n",
    "\n",
    "\n",
    "<a id='advanced-hierarchical'></a>"
   ]
  },
  {
   "cell_type": "markdown",
   "metadata": {},
   "source": [
    "## Hierarchical indexing (MultiIndex)\n",
    "\n",
    "Hierarchical / Multi-level indexing is very exciting as it opens the door to some\n",
    "quite sophisticated data analysis and manipulation, especially for working with\n",
    "higher dimensional data. In essence, it enables you to store and manipulate\n",
    "data with an arbitrary number of dimensions in lower dimensional data\n",
    "structures like `Series` (1d) and `DataFrame` (2d).\n",
    "\n",
    "In this section, we will show what exactly we mean by “hierarchical” indexing\n",
    "and how it integrates with all of the pandas indexing functionality\n",
    "described above and in prior sections. Later, when discussing [group by](groupby.ipynb#groupby) and [pivoting and reshaping data](reshaping.ipynb#reshaping), we’ll show\n",
    "non-trivial applications to illustrate how it aids in structuring data for\n",
    "analysis.\n",
    "\n",
    "See the [cookbook](cookbook.ipynb#cookbook-multi-index) for some advanced strategies.\n",
    "\n",
    "Changed in version 0.24.0: `MultiIndex.labels` has been renamed to `MultiIndex.codes`\n",
    "and `MultiIndex.set_labels` to `MultiIndex.set_codes`."
   ]
  },
  {
   "cell_type": "markdown",
   "metadata": {},
   "source": [
    "### Creating a MultiIndex (hierarchical index) object\n",
    "\n",
    "The `MultiIndex` object is the hierarchical analogue of the standard\n",
    "`Index` object which typically stores the axis labels in pandas objects. You\n",
    "can think of `MultiIndex` as an array of tuples where each tuple is unique. A\n",
    "`MultiIndex` can be created from a list of arrays (using\n",
    "`MultiIndex.from_arrays()`), an array of tuples (using\n",
    "`MultiIndex.from_tuples()`), a crossed set of iterables (using\n",
    "`MultiIndex.from_product()`), or a `DataFrame` (using\n",
    "`MultiIndex.from_frame()`).  The `Index` constructor will attempt to return\n",
    "a `MultiIndex` when it is passed a list of tuples.  The following examples\n",
    "demonstrate different ways to initialize MultiIndexes.\n",
    "\n",
    "When you want every pairing of the elements in two iterables, it can be easier\n",
    "to use the `MultiIndex.from_product()` method:\n",
    "\n",
    "You can also construct a `MultiIndex` from a `DataFrame` directly, using\n",
    "the method `MultiIndex.from_frame()`. This is a complementary method to\n",
    "`MultiIndex.to_frame()`.\n",
    "\n",
    "New in version 0.24.0.\n",
    "\n",
    "As a convenience, you can pass a list of arrays directly into `Series` or\n",
    "`DataFrame` to construct a `MultiIndex` automatically:\n",
    "\n",
    "All of the `MultiIndex` constructors accept a `names` argument which stores\n",
    "string names for the levels themselves. If no names are provided, `None` will\n",
    "be assigned:\n",
    "\n",
    "This index can back any axis of a pandas object, and the number of **levels**\n",
    "of the index is up to you:\n",
    "\n",
    "We’ve “sparsified” the higher levels of the indexes to make the console output a\n",
    "bit easier on the eyes. Note that how the index is displayed can be controlled using the\n",
    "`multi_sparse` option in `pandas.set_options()`:\n",
    "\n",
    "It’s worth keeping in mind that there’s nothing preventing you from using\n",
    "tuples as atomic labels on an axis:\n",
    "\n",
    "The reason that the `MultiIndex` matters is that it can allow you to do\n",
    "grouping, selection, and reshaping operations as we will describe below and in\n",
    "subsequent areas of the documentation. As you will see in later sections, you\n",
    "can find yourself working with hierarchically-indexed data without creating a\n",
    "`MultiIndex` explicitly yourself. However, when loading data from a file, you\n",
    "may wish to generate your own `MultiIndex` when preparing the data set.\n",
    "\n",
    "\n",
    "<a id='advanced-get-level-values'></a>"
   ]
  },
  {
   "cell_type": "markdown",
   "metadata": {},
   "source": [
    "### Reconstructing the level labels\n",
    "\n",
    "The method `get_level_values()` will return a vector of the labels for each\n",
    "location at a particular level:"
   ]
  },
  {
   "cell_type": "markdown",
   "metadata": {},
   "source": [
    "### Basic indexing on axis with MultiIndex\n",
    "\n",
    "One of the important features of hierarchical indexing is that you can select\n",
    "data by a “partial” label identifying a subgroup in the data. **Partial**\n",
    "selection “drops” levels of the hierarchical index in the result in a\n",
    "completely analogous way to selecting a column in a regular DataFrame:\n",
    "\n",
    "See [Cross-section with hierarchical index](#advanced-xs) for how to select\n",
    "on a deeper level.\n",
    "\n",
    "\n",
    "<a id='advanced-shown-levels'></a>"
   ]
  },
  {
   "cell_type": "markdown",
   "metadata": {},
   "source": [
    "### Defined levels\n",
    "\n",
    "The `MultiIndex` keeps all the defined levels of an index, even\n",
    "if they are not actually used. When slicing an index, you may notice this.\n",
    "For example:\n",
    "\n",
    "This is done to avoid a recomputation of the levels in order to make slicing\n",
    "highly performant. If you want to see only the used levels, you can use the\n",
    "`get_level_values()` method.\n",
    "\n",
    "To reconstruct the `MultiIndex` with only the used levels, the\n",
    "`remove_unused_levels()` method may be used.\n",
    "\n",
    "New in version 0.20.0."
   ]
  },
  {
   "cell_type": "markdown",
   "metadata": {},
   "source": [
    "### Data alignment and using `reindex`\n",
    "\n",
    "Operations between differently-indexed objects having `MultiIndex` on the\n",
    "axes will work as you expect; data alignment will work the same as an Index of\n",
    "tuples:\n",
    "\n",
    "The `reindex()` method of `Series`/`DataFrames` can be\n",
    "called with another `MultiIndex`, or even a list or array of tuples:\n",
    "\n",
    "\n",
    "<a id='advanced-advanced-hierarchical'></a>"
   ]
  },
  {
   "cell_type": "markdown",
   "metadata": {},
   "source": [
    "## Advanced indexing with hierarchical index\n",
    "\n",
    "Syntactically integrating `MultiIndex` in advanced indexing with `.loc` is a\n",
    "bit challenging, but we’ve made every effort to do so. In general, MultiIndex\n",
    "keys take the form of tuples. For example, the following works as you would expect:\n",
    "\n",
    "Note that `df.loc['bar', 'two']` would also work in this example, but this shorthand\n",
    "notation can lead to ambiguity in general.\n",
    "\n",
    "If you also want to index a specific column with `.loc`, you must use a tuple\n",
    "like this:\n",
    "\n",
    "You don’t have to specify all levels of the `MultiIndex` by passing only the\n",
    "first elements of the tuple. For example, you can use “partial” indexing to\n",
    "get all elements with `bar` in the first level as follows:\n",
    "\n",
    "df.loc[‘bar’]\n",
    "\n",
    "This is a shortcut for the slightly more verbose notation `df.loc[('bar',),]` (equivalent\n",
    "to `df.loc['bar',]` in this example).\n",
    "\n",
    "“Partial” slicing also works quite nicely.\n",
    "\n",
    "You can slice with a ‘range’ of values, by providing a slice of tuples.\n",
    "\n",
    "Passing a list of labels or tuples works similar to reindexing:\n",
    "\n",
    ">**Note**\n",
    ">\n",
    ">It is important to note that tuples and lists are not treated identically\n",
    "in pandas when it comes to indexing. Whereas a tuple is interpreted as one\n",
    "multi-level key, a list is used to specify several keys. Or in other words,\n",
    "tuples go horizontally (traversing levels), lists go vertically (scanning levels).\n",
    "\n",
    "Importantly, a list of tuples indexes several complete `MultiIndex` keys,\n",
    "whereas a tuple of lists refer to several values within a level:\n",
    "\n",
    "\n",
    "<a id='advanced-mi-slicers'></a>"
   ]
  },
  {
   "cell_type": "markdown",
   "metadata": {},
   "source": [
    "### Using slicers\n",
    "\n",
    "You can slice a `MultiIndex` by providing multiple indexers.\n",
    "\n",
    "You can provide any of the selectors as if you are indexing by label, see [Selection by Label](indexing.ipynb#indexing-label),\n",
    "including slices, lists of labels, labels, and boolean indexers.\n",
    "\n",
    "You can use `slice(None)` to select all the contents of *that* level. You do not need to specify all the\n",
    "*deeper* levels, they will be implied as `slice(None)`.\n",
    "\n",
    "As usual, **both sides** of the slicers are included as this is label indexing.\n",
    "\n",
    "You should specify all axes in the `.loc` specifier, meaning the indexer for the **index** and\n",
    "for the **columns**. There are some ambiguous cases where the passed indexer could be mis-interpreted\n",
    "as indexing *both* axes, rather than into say the `MultiIndex` for the rows.\n",
    "\n",
    "You should do this:"
   ]
  },
  {
   "cell_type": "code",
   "execution_count": null,
   "metadata": {
    "hide-output": false
   },
   "outputs": [],
   "source": [
    "df.loc[(slice('A1', 'A3'), ...), :]             # noqa: E999"
   ]
  },
  {
   "cell_type": "markdown",
   "metadata": {},
   "source": [
    "You should **not** do this:"
   ]
  },
  {
   "cell_type": "code",
   "execution_count": null,
   "metadata": {
    "hide-output": false
   },
   "outputs": [],
   "source": [
    "df.loc[(slice('A1', 'A3'), ...)]                # noqa: E999"
   ]
  },
  {
   "cell_type": "markdown",
   "metadata": {},
   "source": [
    "Basic MultiIndex slicing using slices, lists, and labels.\n",
    "\n",
    "You can use `pandas.IndexSlice` to facilitate a more natural syntax\n",
    "using `:`, rather than using `slice(None)`.\n",
    "\n",
    "It is possible to perform quite complicated selections using this method on multiple\n",
    "axes at the same time.\n",
    "\n",
    "Using a boolean indexer you can provide selection related to the *values*.\n",
    "\n",
    "You can also specify the `axis` argument to `.loc` to interpret the passed\n",
    "slicers on a single axis.\n",
    "\n",
    "Furthermore, you can *set* the values using the following methods.\n",
    "\n",
    "You can use a right-hand-side of an alignable object as well.\n",
    "\n",
    "\n",
    "<a id='advanced-xs'></a>"
   ]
  },
  {
   "cell_type": "markdown",
   "metadata": {},
   "source": [
    "### Cross-section\n",
    "\n",
    "The `xs()` method of `DataFrame` additionally takes a level argument to make\n",
    "selecting data at a particular level of a `MultiIndex` easier.\n",
    "\n",
    "You can also select on the columns with `xs`, by\n",
    "providing the axis argument.\n",
    "\n",
    "`xs` also allows selection with multiple keys.\n",
    "\n",
    "You can pass `drop_level=False` to `xs` to retain\n",
    "the level that was selected.\n",
    "\n",
    "Compare the above with the result using `drop_level=True` (the default value).\n",
    "\n",
    "\n",
    "<a id='advanced-advanced-reindex'></a>"
   ]
  },
  {
   "cell_type": "markdown",
   "metadata": {},
   "source": [
    "### Advanced reindexing and alignment\n",
    "\n",
    "Using the parameter `level` in the `reindex()` and\n",
    "`align()` methods of pandas objects is useful to broadcast\n",
    "values across a level. For instance:"
   ]
  },
  {
   "cell_type": "markdown",
   "metadata": {},
   "source": [
    "### Swapping levels with `swaplevel`\n",
    "\n",
    "The `swaplevel()` method can switch the order of two levels:\n",
    "\n",
    "\n",
    "<a id='advanced-reorderlevels'></a>"
   ]
  },
  {
   "cell_type": "markdown",
   "metadata": {},
   "source": [
    "### Reordering levels with `reorder_levels`\n",
    "\n",
    "The `reorder_levels()` method generalizes the `swaplevel`\n",
    "method, allowing you to permute the hierarchical index levels in one step:\n",
    "\n",
    "\n",
    "<a id='advanced-index-names'></a>"
   ]
  },
  {
   "cell_type": "markdown",
   "metadata": {},
   "source": [
    "### Renaming names of an `Index` or `MultiIndex`\n",
    "\n",
    "The `rename()` method is used to rename the labels of a\n",
    "`MultiIndex`, and is typically used to rename the columns of a `DataFrame`.\n",
    "The `columns` argument of `rename` allows a dictionary to be specified\n",
    "that includes only the columns you wish to rename.\n",
    "\n",
    "This method can also be used to rename specific labels of the main index\n",
    "of the `DataFrame`.\n",
    "\n",
    "The `rename_axis()` method is used to rename the name of a\n",
    "`Index` or `MultiIndex`. In particular, the names of the levels of a\n",
    "`MultiIndex` can be specified, which is useful if `reset_index()` is later\n",
    "used to move the values from the `MultiIndex` to a column.\n",
    "\n",
    "Note that the columns of a `DataFrame` are an index, so that using\n",
    "`rename_axis` with the `columns` argument will change the name of that\n",
    "index.\n",
    "\n",
    "Both `rename` and `rename_axis` support specifying a dictionary,\n",
    "`Series` or a mapping function to map labels/names to new values."
   ]
  },
  {
   "cell_type": "markdown",
   "metadata": {},
   "source": [
    "## Sorting a `MultiIndex`\n",
    "\n",
    "For `MultiIndex`-ed objects to be indexed and sliced effectively,\n",
    "they need to be sorted. As with any index, you can use `sort_index()`.\n",
    "\n",
    "\n",
    "<a id='advanced-sortlevel-byname'></a>\n",
    "You may also pass a level name to `sort_index` if the `MultiIndex` levels\n",
    "are named.\n",
    "\n",
    "On higher dimensional objects, you can sort any of the other axes by level if\n",
    "they have a `MultiIndex`:\n",
    "\n",
    "Indexing will work even if the data are not sorted, but will be rather\n",
    "inefficient (and show a `PerformanceWarning`). It will also\n",
    "return a copy of the data rather than a view:"
   ]
  },
  {
   "cell_type": "markdown",
   "metadata": {
    "hide-output": false
   },
   "source": [
    "```ipython\n",
    "In [4]: dfm.loc[(1, 'z')]\n",
    "PerformanceWarning: indexing past lexsort depth may impact performance.\n",
    "\n",
    "Out[4]:\n",
    "           jolie\n",
    "jim joe\n",
    "1   z    0.64094\n",
    "```\n"
   ]
  },
  {
   "cell_type": "markdown",
   "metadata": {},
   "source": [
    "\n",
    "<a id='advanced-unsorted'></a>\n",
    "Furthermore, if you try to index something that is not fully lexsorted, this can raise:"
   ]
  },
  {
   "cell_type": "markdown",
   "metadata": {
    "hide-output": false
   },
   "source": [
    "```ipython\n",
    "In [5]: dfm.loc[(0, 'y'):(1, 'z')]\n",
    "UnsortedIndexError: 'Key length (2) was greater than MultiIndex lexsort depth (1)'\n",
    "```\n"
   ]
  },
  {
   "cell_type": "markdown",
   "metadata": {},
   "source": [
    "The `is_lexsorted()` method on a `MultiIndex` shows if the\n",
    "index is sorted, and the `lexsort_depth` property returns the sort depth:\n",
    "\n",
    "And now selection works as expected."
   ]
  },
  {
   "cell_type": "markdown",
   "metadata": {},
   "source": [
    "## Take methods\n",
    "\n",
    "\n",
    "<a id='advanced-take'></a>\n",
    "Similar to NumPy ndarrays, pandas `Index`, `Series`, and `DataFrame` also provides\n",
    "the `take()` method that retrieves elements along a given axis at the given\n",
    "indices. The given indices must be either a list or an ndarray of integer\n",
    "index positions. `take` will also accept negative integers as relative positions to the end of the object.\n",
    "\n",
    "For DataFrames, the given indices should be a 1d list or ndarray that specifies\n",
    "row or column positions.\n",
    "\n",
    "It is important to note that the `take` method on pandas objects are not\n",
    "intended to work on boolean indices and may return unexpected results.\n",
    "\n",
    "Finally, as a small note on performance, because the `take` method handles\n",
    "a narrower range of inputs, it can offer performance that is a good deal\n",
    "faster than fancy indexing.\n",
    "\n",
    "\n",
    "<a id='indexing-index-types'></a>"
   ]
  },
  {
   "cell_type": "markdown",
   "metadata": {},
   "source": [
    "## Index types\n",
    "\n",
    "We have discussed `MultiIndex` in the previous sections pretty extensively.\n",
    "Documentation about `DatetimeIndex` and `PeriodIndex` are shown [here](timeseries.ipynb#timeseries-overview),\n",
    "and documentation about `TimedeltaIndex` is found [here](timedeltas.ipynb#timedeltas-index).\n",
    "\n",
    "In the following sub-sections we will highlight some other index types.\n",
    "\n",
    "\n",
    "<a id='indexing-categoricalindex'></a>"
   ]
  },
  {
   "cell_type": "markdown",
   "metadata": {},
   "source": [
    "### CategoricalIndex\n",
    "\n",
    "`CategoricalIndex` is a type of index that is useful for supporting\n",
    "indexing with duplicates. This is a container around a `Categorical`\n",
    "and allows efficient indexing and storage of an index with a large number of duplicated elements.\n",
    "\n",
    "Setting the index will create a `CategoricalIndex`.\n",
    "\n",
    "Indexing with `__getitem__/.iloc/.loc` works similarly to an `Index` with duplicates.\n",
    "The indexers **must** be in the category or the operation will raise a `KeyError`.\n",
    "\n",
    "The `CategoricalIndex` is **preserved** after indexing:\n",
    "\n",
    "Sorting the index will sort by the order of the categories (recall that we\n",
    "created the index with `CategoricalDtype(list('cab'))`, so the sorted\n",
    "order is `cab`).\n",
    "\n",
    "Groupby operations on the index will preserve the index nature as well.\n",
    "\n",
    "Reindexing operations will return a resulting index based on the type of the passed\n",
    "indexer. Passing a list will return a plain-old `Index`; indexing with\n",
    "a `Categorical` will return a `CategoricalIndex`, indexed according to the categories\n",
    "of the **passed** `Categorical` dtype. This allows one to arbitrarily index these even with\n",
    "values **not** in the categories, similarly to how you can reindex **any** pandas index.\n",
    "\n",
    "Reshaping and Comparison operations on a `CategoricalIndex` must have the same categories\n",
    "or a `TypeError` will be raised."
   ]
  },
  {
   "cell_type": "markdown",
   "metadata": {
    "hide-output": false
   },
   "source": [
    "```ipython\n",
    "In [9]: df3 = pd.DataFrame({'A': np.arange(6), 'B': pd.Series(list('aabbca')).astype('category')})\n",
    "\n",
    "In [11]: df3 = df3.set_index('B')\n",
    "\n",
    "In [11]: df3.index\n",
    "Out[11]: CategoricalIndex(['a', 'a', 'b', 'b', 'c', 'a'], categories=['a', 'b', 'c'], ordered=False, name='B', dtype='category')\n",
    "\n",
    "In [12]: pd.concat([df2, df3])\n",
    "TypeError: categories must match existing categories when appending\n",
    "```\n"
   ]
  },
  {
   "cell_type": "markdown",
   "metadata": {},
   "source": [
    "\n",
    "<a id='indexing-rangeindex'></a>"
   ]
  },
  {
   "cell_type": "markdown",
   "metadata": {},
   "source": [
    "### Int64Index and RangeIndex\n",
    "\n",
    "Indexing on an integer-based Index with floats has been clarified in 0.18.0, for a summary of the changes, see [here](whatsnew/v0.18.0.ipynb#whatsnew-0180-float-indexers).\n",
    "\n",
    "`Int64Index` is a fundamental basic index in pandas.\n",
    "This is an immutable array implementing an ordered, sliceable set.\n",
    "Prior to 0.18.0, the `Int64Index` would provide the default index for all `NDFrame` objects.\n",
    "\n",
    "`RangeIndex` is a sub-class of `Int64Index` added in version 0.18.0, now providing the default index for all `NDFrame` objects.\n",
    "`RangeIndex` is an optimized version of `Int64Index` that can represent a monotonic ordered set. These are analogous to Python [range types](https://docs.python.org/3/library/stdtypes.html#typesseq-range).\n",
    "\n",
    "\n",
    "<a id='indexing-float64index'></a>"
   ]
  },
  {
   "cell_type": "markdown",
   "metadata": {},
   "source": [
    "### Float64Index\n",
    "\n",
    "By default a `Float64Index` will be automatically created when passing floating, or mixed-integer-floating values in index creation.\n",
    "This enables a pure label-based slicing paradigm that makes `[],ix,loc` for scalar indexing and slicing work exactly the\n",
    "same.\n",
    "\n",
    "Scalar selection for `[],.loc` will always be label based. An integer will match an equal float index (e.g. `3` is equivalent to `3.0`).\n",
    "\n",
    "The only positional indexing is via `iloc`.\n",
    "\n",
    "A scalar index that is not found will raise a `KeyError`.\n",
    "Slicing is primarily on the values of the index when using `[],ix,loc`, and\n",
    "**always** positional when using `iloc`. The exception is when the slice is\n",
    "boolean, in which case it will always be positional.\n",
    "\n",
    "In float indexes, slicing using floats is allowed.\n",
    "\n",
    "In non-float indexes, slicing using floats will raise a `TypeError`."
   ]
  },
  {
   "cell_type": "markdown",
   "metadata": {
    "hide-output": false
   },
   "source": [
    "```ipython\n",
    "In [1]: pd.Series(range(5))[3.5]\n",
    "TypeError: the label [3.5] is not a proper indexer for this index type (Int64Index)\n",
    "\n",
    "In [1]: pd.Series(range(5))[3.5:4.5]\n",
    "TypeError: the slice start [3.5] is not a proper indexer for this index type (Int64Index)\n",
    "```\n"
   ]
  },
  {
   "cell_type": "markdown",
   "metadata": {},
   "source": [
    "Using a scalar float indexer for `.iloc` has been removed in 0.18.0, so the following will raise a `TypeError`:"
   ]
  },
  {
   "cell_type": "markdown",
   "metadata": {
    "hide-output": false
   },
   "source": [
    "```ipython\n",
    "In [3]: pd.Series(range(5)).iloc[3.0]\n",
    "TypeError: cannot do positional indexing on <class 'pandas.indexes.range.RangeIndex'> with these indexers [3.0] of <type 'float'>\n",
    "```\n"
   ]
  },
  {
   "cell_type": "markdown",
   "metadata": {},
   "source": [
    "Here is a typical use-case for using this type of indexing. Imagine that you have a somewhat\n",
    "irregular timedelta-like indexing scheme, but the data is recorded as floats. This could, for\n",
    "example, be millisecond offsets.\n",
    "\n",
    "Selection operations then will always work on a value basis, for all selection operators.\n",
    "\n",
    "You could retrieve the first 1 second (1000 ms) of data as such:\n",
    "\n",
    "If you need integer based selection, you should use `iloc`:\n",
    "\n",
    "\n",
    "<a id='advanced-intervalindex'></a>"
   ]
  },
  {
   "cell_type": "markdown",
   "metadata": {},
   "source": [
    "### IntervalIndex\n",
    "\n",
    "New in version 0.20.0.\n",
    "\n",
    "`IntervalIndex` together with its own dtype, `IntervalDtype`\n",
    "as well as the `Interval` scalar type,  allow first-class support in pandas\n",
    "for interval notation.\n",
    "\n",
    "The `IntervalIndex` allows some unique indexing and is also used as a\n",
    "return type for the categories in `cut()` and `qcut()`."
   ]
  },
  {
   "cell_type": "markdown",
   "metadata": {},
   "source": [
    "#### Indexing with an `IntervalIndex`\n",
    "\n",
    "An `IntervalIndex` can be used in `Series` and in `DataFrame` as the index.\n",
    "\n",
    "Label based indexing via `.loc` along the edges of an interval works as you would expect,\n",
    "selecting that particular interval.\n",
    "\n",
    "If you select a label *contained* within an interval, this will also select the interval.\n",
    "\n",
    "Selecting using an `Interval` will only return exact matches (starting from pandas 0.25.0).\n",
    "\n",
    "Trying to select an `Interval` that is not exactly contained in the `IntervalIndex` will raise a `KeyError`."
   ]
  },
  {
   "cell_type": "code",
   "execution_count": null,
   "metadata": {
    "hide-output": false
   },
   "outputs": [],
   "source": [
    "In [7]: df.loc[pd.Interval(0.5, 2.5)]\n",
    "---------------------------------------------------------------------------\n",
    "KeyError: Interval(0.5, 2.5, closed='right')"
   ]
  },
  {
   "cell_type": "markdown",
   "metadata": {},
   "source": [
    "Selecting all `Intervals` that overlap a given `Interval` can be performed using the\n",
    "`overlaps()` method to create a boolean indexer."
   ]
  },
  {
   "cell_type": "markdown",
   "metadata": {},
   "source": [
    "#### Binning data with `cut` and `qcut`\n",
    "\n",
    "`cut()` and `qcut()` both return a `Categorical` object, and the bins they\n",
    "create are stored as an `IntervalIndex` in its `.categories` attribute.\n",
    "\n",
    "`cut()` also accepts an `IntervalIndex` for its `bins` argument, which enables\n",
    "a useful pandas idiom. First, We call `cut()` with some data and `bins` set to a\n",
    "fixed number, to generate the bins. Then, we pass the values of `.categories` as the\n",
    "`bins` argument in subsequent calls to `cut()`, supplying new data which will be\n",
    "binned into the same bins.\n",
    "\n",
    "Any value which falls outside all bins will be assigned a `NaN` value."
   ]
  },
  {
   "cell_type": "markdown",
   "metadata": {},
   "source": [
    "#### Generating ranges of intervals\n",
    "\n",
    "If we need intervals on a regular frequency, we can use the `interval_range()` function\n",
    "to create an `IntervalIndex` using various combinations of `start`, `end`, and `periods`.\n",
    "The default frequency for `interval_range` is a 1 for numeric intervals, and calendar day for\n",
    "datetime-like intervals:\n",
    "\n",
    "The `freq` parameter can used to specify non-default frequencies, and can utilize a variety\n",
    "of [frequency aliases](timeseries.ipynb#timeseries-offset-aliases) with datetime-like intervals:\n",
    "\n",
    "Additionally, the `closed` parameter can be used to specify which side(s) the intervals\n",
    "are closed on.  Intervals are closed on the right side by default.\n",
    "\n",
    "New in version 0.23.0.\n",
    "\n",
    "Specifying `start`, `end`, and `periods` will generate a range of evenly spaced\n",
    "intervals from `start` to `end` inclusively, with `periods` number of elements\n",
    "in the resulting `IntervalIndex`:"
   ]
  },
  {
   "cell_type": "markdown",
   "metadata": {},
   "source": [
    "## Miscellaneous indexing FAQ"
   ]
  },
  {
   "cell_type": "markdown",
   "metadata": {},
   "source": [
    "### Integer indexing\n",
    "\n",
    "Label-based indexing with integer axis labels is a thorny topic. It has been\n",
    "discussed heavily on mailing lists and among various members of the scientific\n",
    "Python community. In pandas, our general viewpoint is that labels matter more\n",
    "than integer locations. Therefore, with an integer axis index *only*\n",
    "label-based indexing is possible with the standard tools like `.loc`. The\n",
    "following code will generate exceptions:\n",
    "\n",
    "This deliberate decision was made to prevent ambiguities and subtle bugs (many\n",
    "users reported finding bugs when the API change was made to stop “falling back”\n",
    "on position-based indexing)."
   ]
  },
  {
   "cell_type": "markdown",
   "metadata": {},
   "source": [
    "### Non-monotonic indexes require exact matches\n",
    "\n",
    "If the index of a `Series` or `DataFrame` is monotonically increasing or decreasing, then the bounds\n",
    "of a label-based slice can be outside the range of the index, much like slice indexing a\n",
    "normal Python `list`. Monotonicity of an index can be tested with the `is_monotonic_increasing()` and\n",
    "`is_monotonic_decreasing()` attributes.\n",
    "\n",
    "On the other hand, if the index is not monotonic, then both slice bounds must be\n",
    "*unique* members of the index."
   ]
  },
  {
   "cell_type": "markdown",
   "metadata": {
    "hide-output": false
   },
   "source": [
    "```ipython\n",
    "# 0 is not in the index\n",
    "In [9]: df.loc[0:4, :]\n",
    "KeyError: 0\n",
    "\n",
    "# 3 is not a unique label\n",
    "In [11]: df.loc[2:3, :]\n",
    "KeyError: 'Cannot get right slice bound for non-unique label: 3'\n",
    "```\n"
   ]
  },
  {
   "cell_type": "markdown",
   "metadata": {},
   "source": [
    "`Index.is_monotonic_increasing` and `Index.is_monotonic_decreasing` only check that\n",
    "an index is weakly monotonic. To check for strict monotonicity, you can combine one of those with\n",
    "the `is_unique()` attribute.\n",
    "\n",
    "\n",
    "<a id='advanced-endpoints-are-inclusive'></a>"
   ]
  },
  {
   "cell_type": "markdown",
   "metadata": {},
   "source": [
    "### Endpoints are inclusive\n",
    "\n",
    "Compared with standard Python sequence slicing in which the slice endpoint is\n",
    "not inclusive, label-based slicing in pandas **is inclusive**. The primary\n",
    "reason for this is that it is often not possible to easily determine the\n",
    "“successor” or next element after a particular label in an index. For example,\n",
    "consider the following `Series`:\n",
    "\n",
    "Suppose we wished to slice from `c` to `e`, using integers this would be\n",
    "accomplished as such:\n",
    "\n",
    "However, if you only had `c` and `e`, determining the next element in the\n",
    "index can be somewhat complicated. For example, the following does not work:"
   ]
  },
  {
   "cell_type": "code",
   "execution_count": null,
   "metadata": {
    "hide-output": false
   },
   "outputs": [],
   "source": [
    "s.loc['c':'e' + 1]"
   ]
  },
  {
   "cell_type": "markdown",
   "metadata": {},
   "source": [
    "A very common use case is to limit a time series to start and end at two\n",
    "specific dates. To enable this, we made the design choice to make label-based\n",
    "slicing include both endpoints:\n",
    "\n",
    "This is most definitely a “practicality beats purity” sort of thing, but it is\n",
    "something to watch out for if you expect label-based slicing to behave exactly\n",
    "in the way that standard Python integer slicing works."
   ]
  },
  {
   "cell_type": "markdown",
   "metadata": {},
   "source": [
    "### Indexing potentially changes underlying Series dtype\n",
    "\n",
    "The different indexing operation can potentially change the dtype of a `Series`.\n",
    "\n",
    "This is because the (re)indexing operations above silently inserts `NaNs` and the `dtype`\n",
    "changes accordingly.  This can cause some issues when using `numpy` `ufuncs`\n",
    "such as `numpy.logical_and`.\n",
    "\n",
    "See the [this old issue](https://github.com/pydata/pandas/issues/2388) for a more\n",
    "detailed discussion."
   ]
  }
 ],
 "metadata": {
  "filename": "advanced.rst",
  "kernelspec": {
   "display_name": "Python",
   "language": "python3",
   "name": "python3"
  },
  "title": "MultiIndex / advanced indexing"
 },
 "nbformat": 4,
 "nbformat_minor": 2
}